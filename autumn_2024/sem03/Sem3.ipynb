{
  "nbformat": 4,
  "nbformat_minor": 0,
  "metadata": {
    "colab": {
      "provenance": [],
      "toc_visible": true
    },
    "kernelspec": {
      "name": "python3",
      "display_name": "Python 3"
    },
    "language_info": {
      "name": "python"
    },
    "widgets": {
      "application/vnd.jupyter.widget-state+json": {
        "d1f1093d34054fde8d490e9b97912287": {
          "model_module": "@jupyter-widgets/controls",
          "model_name": "HBoxModel",
          "model_module_version": "1.5.0",
          "state": {
            "_dom_classes": [],
            "_model_module": "@jupyter-widgets/controls",
            "_model_module_version": "1.5.0",
            "_model_name": "HBoxModel",
            "_view_count": null,
            "_view_module": "@jupyter-widgets/controls",
            "_view_module_version": "1.5.0",
            "_view_name": "HBoxView",
            "box_style": "",
            "children": [
              "IPY_MODEL_ab9303fc29ac4b6baf5d593d27228cf9",
              "IPY_MODEL_a1a377e42112439cbf36bb96b474c14d",
              "IPY_MODEL_9725a07a831044448f3a0846843ee35e"
            ],
            "layout": "IPY_MODEL_6188c55af4c44b20816b6460ebad939d"
          }
        },
        "ab9303fc29ac4b6baf5d593d27228cf9": {
          "model_module": "@jupyter-widgets/controls",
          "model_name": "HTMLModel",
          "model_module_version": "1.5.0",
          "state": {
            "_dom_classes": [],
            "_model_module": "@jupyter-widgets/controls",
            "_model_module_version": "1.5.0",
            "_model_name": "HTMLModel",
            "_view_count": null,
            "_view_module": "@jupyter-widgets/controls",
            "_view_module_version": "1.5.0",
            "_view_name": "HTMLView",
            "description": "",
            "description_tooltip": null,
            "layout": "IPY_MODEL_8ca2ac8562db4b7cb4f25c7bb8189a58",
            "placeholder": "​",
            "style": "IPY_MODEL_f06e561e77e94c1b9a3a66815217ae34",
            "value": "Downloading https://raw.githubusercontent.com/stanfordnlp/stanza-resources/main/resources_1.8.0.json: "
          }
        },
        "a1a377e42112439cbf36bb96b474c14d": {
          "model_module": "@jupyter-widgets/controls",
          "model_name": "FloatProgressModel",
          "model_module_version": "1.5.0",
          "state": {
            "_dom_classes": [],
            "_model_module": "@jupyter-widgets/controls",
            "_model_module_version": "1.5.0",
            "_model_name": "FloatProgressModel",
            "_view_count": null,
            "_view_module": "@jupyter-widgets/controls",
            "_view_module_version": "1.5.0",
            "_view_name": "ProgressView",
            "bar_style": "success",
            "description": "",
            "description_tooltip": null,
            "layout": "IPY_MODEL_b505437a95194bc78737a6cae8839dd8",
            "max": 47900,
            "min": 0,
            "orientation": "horizontal",
            "style": "IPY_MODEL_57108673285e4df38bf52bc8cfd3f16c",
            "value": 47900
          }
        },
        "9725a07a831044448f3a0846843ee35e": {
          "model_module": "@jupyter-widgets/controls",
          "model_name": "HTMLModel",
          "model_module_version": "1.5.0",
          "state": {
            "_dom_classes": [],
            "_model_module": "@jupyter-widgets/controls",
            "_model_module_version": "1.5.0",
            "_model_name": "HTMLModel",
            "_view_count": null,
            "_view_module": "@jupyter-widgets/controls",
            "_view_module_version": "1.5.0",
            "_view_name": "HTMLView",
            "description": "",
            "description_tooltip": null,
            "layout": "IPY_MODEL_d2a3f00c906a491a86ee7870d360fd83",
            "placeholder": "​",
            "style": "IPY_MODEL_76ae54b90ef84b82884f483c770d59f5",
            "value": " 386k/? [00:00&lt;00:00, 1.00MB/s]"
          }
        },
        "6188c55af4c44b20816b6460ebad939d": {
          "model_module": "@jupyter-widgets/base",
          "model_name": "LayoutModel",
          "model_module_version": "1.2.0",
          "state": {
            "_model_module": "@jupyter-widgets/base",
            "_model_module_version": "1.2.0",
            "_model_name": "LayoutModel",
            "_view_count": null,
            "_view_module": "@jupyter-widgets/base",
            "_view_module_version": "1.2.0",
            "_view_name": "LayoutView",
            "align_content": null,
            "align_items": null,
            "align_self": null,
            "border": null,
            "bottom": null,
            "display": null,
            "flex": null,
            "flex_flow": null,
            "grid_area": null,
            "grid_auto_columns": null,
            "grid_auto_flow": null,
            "grid_auto_rows": null,
            "grid_column": null,
            "grid_gap": null,
            "grid_row": null,
            "grid_template_areas": null,
            "grid_template_columns": null,
            "grid_template_rows": null,
            "height": null,
            "justify_content": null,
            "justify_items": null,
            "left": null,
            "margin": null,
            "max_height": null,
            "max_width": null,
            "min_height": null,
            "min_width": null,
            "object_fit": null,
            "object_position": null,
            "order": null,
            "overflow": null,
            "overflow_x": null,
            "overflow_y": null,
            "padding": null,
            "right": null,
            "top": null,
            "visibility": null,
            "width": null
          }
        },
        "8ca2ac8562db4b7cb4f25c7bb8189a58": {
          "model_module": "@jupyter-widgets/base",
          "model_name": "LayoutModel",
          "model_module_version": "1.2.0",
          "state": {
            "_model_module": "@jupyter-widgets/base",
            "_model_module_version": "1.2.0",
            "_model_name": "LayoutModel",
            "_view_count": null,
            "_view_module": "@jupyter-widgets/base",
            "_view_module_version": "1.2.0",
            "_view_name": "LayoutView",
            "align_content": null,
            "align_items": null,
            "align_self": null,
            "border": null,
            "bottom": null,
            "display": null,
            "flex": null,
            "flex_flow": null,
            "grid_area": null,
            "grid_auto_columns": null,
            "grid_auto_flow": null,
            "grid_auto_rows": null,
            "grid_column": null,
            "grid_gap": null,
            "grid_row": null,
            "grid_template_areas": null,
            "grid_template_columns": null,
            "grid_template_rows": null,
            "height": null,
            "justify_content": null,
            "justify_items": null,
            "left": null,
            "margin": null,
            "max_height": null,
            "max_width": null,
            "min_height": null,
            "min_width": null,
            "object_fit": null,
            "object_position": null,
            "order": null,
            "overflow": null,
            "overflow_x": null,
            "overflow_y": null,
            "padding": null,
            "right": null,
            "top": null,
            "visibility": null,
            "width": null
          }
        },
        "f06e561e77e94c1b9a3a66815217ae34": {
          "model_module": "@jupyter-widgets/controls",
          "model_name": "DescriptionStyleModel",
          "model_module_version": "1.5.0",
          "state": {
            "_model_module": "@jupyter-widgets/controls",
            "_model_module_version": "1.5.0",
            "_model_name": "DescriptionStyleModel",
            "_view_count": null,
            "_view_module": "@jupyter-widgets/base",
            "_view_module_version": "1.2.0",
            "_view_name": "StyleView",
            "description_width": ""
          }
        },
        "b505437a95194bc78737a6cae8839dd8": {
          "model_module": "@jupyter-widgets/base",
          "model_name": "LayoutModel",
          "model_module_version": "1.2.0",
          "state": {
            "_model_module": "@jupyter-widgets/base",
            "_model_module_version": "1.2.0",
            "_model_name": "LayoutModel",
            "_view_count": null,
            "_view_module": "@jupyter-widgets/base",
            "_view_module_version": "1.2.0",
            "_view_name": "LayoutView",
            "align_content": null,
            "align_items": null,
            "align_self": null,
            "border": null,
            "bottom": null,
            "display": null,
            "flex": null,
            "flex_flow": null,
            "grid_area": null,
            "grid_auto_columns": null,
            "grid_auto_flow": null,
            "grid_auto_rows": null,
            "grid_column": null,
            "grid_gap": null,
            "grid_row": null,
            "grid_template_areas": null,
            "grid_template_columns": null,
            "grid_template_rows": null,
            "height": null,
            "justify_content": null,
            "justify_items": null,
            "left": null,
            "margin": null,
            "max_height": null,
            "max_width": null,
            "min_height": null,
            "min_width": null,
            "object_fit": null,
            "object_position": null,
            "order": null,
            "overflow": null,
            "overflow_x": null,
            "overflow_y": null,
            "padding": null,
            "right": null,
            "top": null,
            "visibility": null,
            "width": null
          }
        },
        "57108673285e4df38bf52bc8cfd3f16c": {
          "model_module": "@jupyter-widgets/controls",
          "model_name": "ProgressStyleModel",
          "model_module_version": "1.5.0",
          "state": {
            "_model_module": "@jupyter-widgets/controls",
            "_model_module_version": "1.5.0",
            "_model_name": "ProgressStyleModel",
            "_view_count": null,
            "_view_module": "@jupyter-widgets/base",
            "_view_module_version": "1.2.0",
            "_view_name": "StyleView",
            "bar_color": null,
            "description_width": ""
          }
        },
        "d2a3f00c906a491a86ee7870d360fd83": {
          "model_module": "@jupyter-widgets/base",
          "model_name": "LayoutModel",
          "model_module_version": "1.2.0",
          "state": {
            "_model_module": "@jupyter-widgets/base",
            "_model_module_version": "1.2.0",
            "_model_name": "LayoutModel",
            "_view_count": null,
            "_view_module": "@jupyter-widgets/base",
            "_view_module_version": "1.2.0",
            "_view_name": "LayoutView",
            "align_content": null,
            "align_items": null,
            "align_self": null,
            "border": null,
            "bottom": null,
            "display": null,
            "flex": null,
            "flex_flow": null,
            "grid_area": null,
            "grid_auto_columns": null,
            "grid_auto_flow": null,
            "grid_auto_rows": null,
            "grid_column": null,
            "grid_gap": null,
            "grid_row": null,
            "grid_template_areas": null,
            "grid_template_columns": null,
            "grid_template_rows": null,
            "height": null,
            "justify_content": null,
            "justify_items": null,
            "left": null,
            "margin": null,
            "max_height": null,
            "max_width": null,
            "min_height": null,
            "min_width": null,
            "object_fit": null,
            "object_position": null,
            "order": null,
            "overflow": null,
            "overflow_x": null,
            "overflow_y": null,
            "padding": null,
            "right": null,
            "top": null,
            "visibility": null,
            "width": null
          }
        },
        "76ae54b90ef84b82884f483c770d59f5": {
          "model_module": "@jupyter-widgets/controls",
          "model_name": "DescriptionStyleModel",
          "model_module_version": "1.5.0",
          "state": {
            "_model_module": "@jupyter-widgets/controls",
            "_model_module_version": "1.5.0",
            "_model_name": "DescriptionStyleModel",
            "_view_count": null,
            "_view_module": "@jupyter-widgets/base",
            "_view_module_version": "1.2.0",
            "_view_name": "StyleView",
            "description_width": ""
          }
        },
        "ae15b40aaf6b4520ba5d536fb1509c07": {
          "model_module": "@jupyter-widgets/controls",
          "model_name": "HBoxModel",
          "model_module_version": "1.5.0",
          "state": {
            "_dom_classes": [],
            "_model_module": "@jupyter-widgets/controls",
            "_model_module_version": "1.5.0",
            "_model_name": "HBoxModel",
            "_view_count": null,
            "_view_module": "@jupyter-widgets/controls",
            "_view_module_version": "1.5.0",
            "_view_name": "HBoxView",
            "box_style": "",
            "children": [
              "IPY_MODEL_3e13d3ebc14c4900b378b8b6976491b9",
              "IPY_MODEL_f7d4b0bb74ed4be1a6a23dff747c5289",
              "IPY_MODEL_40d11a24aad04d3aa25a73d5aed4043d"
            ],
            "layout": "IPY_MODEL_2e961fa52f5a411fab182cbdf4ab2599"
          }
        },
        "3e13d3ebc14c4900b378b8b6976491b9": {
          "model_module": "@jupyter-widgets/controls",
          "model_name": "HTMLModel",
          "model_module_version": "1.5.0",
          "state": {
            "_dom_classes": [],
            "_model_module": "@jupyter-widgets/controls",
            "_model_module_version": "1.5.0",
            "_model_name": "HTMLModel",
            "_view_count": null,
            "_view_module": "@jupyter-widgets/controls",
            "_view_module_version": "1.5.0",
            "_view_name": "HTMLView",
            "description": "",
            "description_tooltip": null,
            "layout": "IPY_MODEL_2bd9d1c43ae24f3281a5097e8168c2ce",
            "placeholder": "​",
            "style": "IPY_MODEL_eab847d1c0e7463abe26c1412877ab0c",
            "value": "Downloading https://raw.githubusercontent.com/stanfordnlp/stanza-resources/main/resources_1.8.0.json: "
          }
        },
        "f7d4b0bb74ed4be1a6a23dff747c5289": {
          "model_module": "@jupyter-widgets/controls",
          "model_name": "FloatProgressModel",
          "model_module_version": "1.5.0",
          "state": {
            "_dom_classes": [],
            "_model_module": "@jupyter-widgets/controls",
            "_model_module_version": "1.5.0",
            "_model_name": "FloatProgressModel",
            "_view_count": null,
            "_view_module": "@jupyter-widgets/controls",
            "_view_module_version": "1.5.0",
            "_view_name": "ProgressView",
            "bar_style": "success",
            "description": "",
            "description_tooltip": null,
            "layout": "IPY_MODEL_a8bea755841c4fecbde2ca4205c50e19",
            "max": 47900,
            "min": 0,
            "orientation": "horizontal",
            "style": "IPY_MODEL_f788085f26ad4f32aadf930961ca5555",
            "value": 47900
          }
        },
        "40d11a24aad04d3aa25a73d5aed4043d": {
          "model_module": "@jupyter-widgets/controls",
          "model_name": "HTMLModel",
          "model_module_version": "1.5.0",
          "state": {
            "_dom_classes": [],
            "_model_module": "@jupyter-widgets/controls",
            "_model_module_version": "1.5.0",
            "_model_name": "HTMLModel",
            "_view_count": null,
            "_view_module": "@jupyter-widgets/controls",
            "_view_module_version": "1.5.0",
            "_view_name": "HTMLView",
            "description": "",
            "description_tooltip": null,
            "layout": "IPY_MODEL_282145d52e8e4681b38b07188af8d58f",
            "placeholder": "​",
            "style": "IPY_MODEL_3554b538d38a4422969af563f7f97bcd",
            "value": " 386k/? [00:00&lt;00:00, 10.1MB/s]"
          }
        },
        "2e961fa52f5a411fab182cbdf4ab2599": {
          "model_module": "@jupyter-widgets/base",
          "model_name": "LayoutModel",
          "model_module_version": "1.2.0",
          "state": {
            "_model_module": "@jupyter-widgets/base",
            "_model_module_version": "1.2.0",
            "_model_name": "LayoutModel",
            "_view_count": null,
            "_view_module": "@jupyter-widgets/base",
            "_view_module_version": "1.2.0",
            "_view_name": "LayoutView",
            "align_content": null,
            "align_items": null,
            "align_self": null,
            "border": null,
            "bottom": null,
            "display": null,
            "flex": null,
            "flex_flow": null,
            "grid_area": null,
            "grid_auto_columns": null,
            "grid_auto_flow": null,
            "grid_auto_rows": null,
            "grid_column": null,
            "grid_gap": null,
            "grid_row": null,
            "grid_template_areas": null,
            "grid_template_columns": null,
            "grid_template_rows": null,
            "height": null,
            "justify_content": null,
            "justify_items": null,
            "left": null,
            "margin": null,
            "max_height": null,
            "max_width": null,
            "min_height": null,
            "min_width": null,
            "object_fit": null,
            "object_position": null,
            "order": null,
            "overflow": null,
            "overflow_x": null,
            "overflow_y": null,
            "padding": null,
            "right": null,
            "top": null,
            "visibility": null,
            "width": null
          }
        },
        "2bd9d1c43ae24f3281a5097e8168c2ce": {
          "model_module": "@jupyter-widgets/base",
          "model_name": "LayoutModel",
          "model_module_version": "1.2.0",
          "state": {
            "_model_module": "@jupyter-widgets/base",
            "_model_module_version": "1.2.0",
            "_model_name": "LayoutModel",
            "_view_count": null,
            "_view_module": "@jupyter-widgets/base",
            "_view_module_version": "1.2.0",
            "_view_name": "LayoutView",
            "align_content": null,
            "align_items": null,
            "align_self": null,
            "border": null,
            "bottom": null,
            "display": null,
            "flex": null,
            "flex_flow": null,
            "grid_area": null,
            "grid_auto_columns": null,
            "grid_auto_flow": null,
            "grid_auto_rows": null,
            "grid_column": null,
            "grid_gap": null,
            "grid_row": null,
            "grid_template_areas": null,
            "grid_template_columns": null,
            "grid_template_rows": null,
            "height": null,
            "justify_content": null,
            "justify_items": null,
            "left": null,
            "margin": null,
            "max_height": null,
            "max_width": null,
            "min_height": null,
            "min_width": null,
            "object_fit": null,
            "object_position": null,
            "order": null,
            "overflow": null,
            "overflow_x": null,
            "overflow_y": null,
            "padding": null,
            "right": null,
            "top": null,
            "visibility": null,
            "width": null
          }
        },
        "eab847d1c0e7463abe26c1412877ab0c": {
          "model_module": "@jupyter-widgets/controls",
          "model_name": "DescriptionStyleModel",
          "model_module_version": "1.5.0",
          "state": {
            "_model_module": "@jupyter-widgets/controls",
            "_model_module_version": "1.5.0",
            "_model_name": "DescriptionStyleModel",
            "_view_count": null,
            "_view_module": "@jupyter-widgets/base",
            "_view_module_version": "1.2.0",
            "_view_name": "StyleView",
            "description_width": ""
          }
        },
        "a8bea755841c4fecbde2ca4205c50e19": {
          "model_module": "@jupyter-widgets/base",
          "model_name": "LayoutModel",
          "model_module_version": "1.2.0",
          "state": {
            "_model_module": "@jupyter-widgets/base",
            "_model_module_version": "1.2.0",
            "_model_name": "LayoutModel",
            "_view_count": null,
            "_view_module": "@jupyter-widgets/base",
            "_view_module_version": "1.2.0",
            "_view_name": "LayoutView",
            "align_content": null,
            "align_items": null,
            "align_self": null,
            "border": null,
            "bottom": null,
            "display": null,
            "flex": null,
            "flex_flow": null,
            "grid_area": null,
            "grid_auto_columns": null,
            "grid_auto_flow": null,
            "grid_auto_rows": null,
            "grid_column": null,
            "grid_gap": null,
            "grid_row": null,
            "grid_template_areas": null,
            "grid_template_columns": null,
            "grid_template_rows": null,
            "height": null,
            "justify_content": null,
            "justify_items": null,
            "left": null,
            "margin": null,
            "max_height": null,
            "max_width": null,
            "min_height": null,
            "min_width": null,
            "object_fit": null,
            "object_position": null,
            "order": null,
            "overflow": null,
            "overflow_x": null,
            "overflow_y": null,
            "padding": null,
            "right": null,
            "top": null,
            "visibility": null,
            "width": null
          }
        },
        "f788085f26ad4f32aadf930961ca5555": {
          "model_module": "@jupyter-widgets/controls",
          "model_name": "ProgressStyleModel",
          "model_module_version": "1.5.0",
          "state": {
            "_model_module": "@jupyter-widgets/controls",
            "_model_module_version": "1.5.0",
            "_model_name": "ProgressStyleModel",
            "_view_count": null,
            "_view_module": "@jupyter-widgets/base",
            "_view_module_version": "1.2.0",
            "_view_name": "StyleView",
            "bar_color": null,
            "description_width": ""
          }
        },
        "282145d52e8e4681b38b07188af8d58f": {
          "model_module": "@jupyter-widgets/base",
          "model_name": "LayoutModel",
          "model_module_version": "1.2.0",
          "state": {
            "_model_module": "@jupyter-widgets/base",
            "_model_module_version": "1.2.0",
            "_model_name": "LayoutModel",
            "_view_count": null,
            "_view_module": "@jupyter-widgets/base",
            "_view_module_version": "1.2.0",
            "_view_name": "LayoutView",
            "align_content": null,
            "align_items": null,
            "align_self": null,
            "border": null,
            "bottom": null,
            "display": null,
            "flex": null,
            "flex_flow": null,
            "grid_area": null,
            "grid_auto_columns": null,
            "grid_auto_flow": null,
            "grid_auto_rows": null,
            "grid_column": null,
            "grid_gap": null,
            "grid_row": null,
            "grid_template_areas": null,
            "grid_template_columns": null,
            "grid_template_rows": null,
            "height": null,
            "justify_content": null,
            "justify_items": null,
            "left": null,
            "margin": null,
            "max_height": null,
            "max_width": null,
            "min_height": null,
            "min_width": null,
            "object_fit": null,
            "object_position": null,
            "order": null,
            "overflow": null,
            "overflow_x": null,
            "overflow_y": null,
            "padding": null,
            "right": null,
            "top": null,
            "visibility": null,
            "width": null
          }
        },
        "3554b538d38a4422969af563f7f97bcd": {
          "model_module": "@jupyter-widgets/controls",
          "model_name": "DescriptionStyleModel",
          "model_module_version": "1.5.0",
          "state": {
            "_model_module": "@jupyter-widgets/controls",
            "_model_module_version": "1.5.0",
            "_model_name": "DescriptionStyleModel",
            "_view_count": null,
            "_view_module": "@jupyter-widgets/base",
            "_view_module_version": "1.2.0",
            "_view_name": "StyleView",
            "description_width": ""
          }
        }
      }
    }
  },
  "cells": [
    {
      "cell_type": "markdown",
      "source": [
        "<a target=\"_blank\" href=\"https://colab.research.google.com/github/knapweedss/TextMining_HSE/blob/main/autumn_2024/sem03/Sem3.ipynb\">\n",
        "  <img src=\"https://colab.research.google.com/assets/colab-badge.svg\" alt=\"Open In Colab\"/>\n",
        "</a>"
      ],
      "metadata": {
        "id": "n57hid21VBh3"
      }
    },
    {
      "cell_type": "markdown",
      "source": [
        "# Библиотеки\n",
        "\n",
        "Есть несколько библиотек для работы с грамматикой. Все они выполняют ряд релевантных для нас задач:\n",
        "\n",
        "<br>\n",
        "\n",
        "*   токенизация,\n",
        "*   лемматизация,\n",
        "*   морфологическая и\n",
        "*   синтаксическая разметка текста.\n",
        "\n",
        "<br>\n",
        "\n",
        "В целом применение библиотек выглядит похоже:\n",
        "\n",
        "<br>\n",
        "\n",
        "*   скачиваем библиотеку,\n",
        "*   подружаем анализатор,\n",
        "*   анализируем текст / cлово,\n",
        "*   обращаемся к разметке, чтобы выполнить другие задачи.\n",
        "\n",
        "<br>\n",
        "\n",
        "Посмотрим на то, как это работает."
      ],
      "metadata": {
        "id": "FQlsyU4HuF4s"
      }
    },
    {
      "cell_type": "markdown",
      "source": [
        "Возьмем этот текст:"
      ],
      "metadata": {
        "id": "-3hMzDui1TIm"
      }
    },
    {
      "cell_type": "code",
      "execution_count": null,
      "metadata": {
        "id": "xRYvb7IBs1rD"
      },
      "outputs": [],
      "source": [
        "text = 'В моей комнате, на стене, висит портрет моего приятеля Карла Ивановича Шустерлинга. Третьего дня, когда я убирал свою комнату, я снял портрет со стены, вытер с него пыль и повесил его обратно. Потом я отошел, чтобы издали взглянуть, не криво ли он висит. Но когда я взглянул, то у меня похолодели ноги, а волосы встали на голове дыбом. Вместо Карла Ивановича Шустерлинга на меня глядел со стены страшный, бородатый старик в дурацкой шапочке. Я с криком выскочил из комнаты.'"
      ]
    },
    {
      "cell_type": "code",
      "source": [
        "text"
      ],
      "metadata": {
        "colab": {
          "base_uri": "https://localhost:8080/",
          "height": 70
        },
        "collapsed": true,
        "id": "rUNnD-oOyigT",
        "outputId": "ace04c3e-4c13-4a09-c788-6da9d11ca022"
      },
      "execution_count": null,
      "outputs": [
        {
          "output_type": "execute_result",
          "data": {
            "text/plain": [
              "'В моей комнате, на стене, висит портрет моего приятеля Карла Ивановича Шустерлинга. Третьего дня, когда я убирал свою комнату, я снял портрет со стены, вытер с него пыль и повесил его обратно. Потом я отошел, чтобы издали взглянуть, не криво ли он висит. Но когда я взглянул, то у меня похолодели ноги, а волосы встали на голове дыбом. Вместо Карла Ивановича Шустерлинга на меня глядел со стены страшный, бородатый старик в дурацкой шапочке. Я с криком выскочил из комнаты.'"
            ],
            "application/vnd.google.colaboratory.intrinsic+json": {
              "type": "string"
            }
          },
          "metadata": {},
          "execution_count": 137
        }
      ]
    },
    {
      "cell_type": "markdown",
      "source": [
        "# Библиотеки, основанные на правилах"
      ],
      "metadata": {
        "id": "pxTqzku9P7Cl"
      }
    },
    {
      "cell_type": "markdown",
      "source": [
        "## PyMorphy2"
      ],
      "metadata": {
        "id": "Cm5v1_g65nw4"
      }
    },
    {
      "cell_type": "markdown",
      "source": [
        "Эта библиотека нам известна с прошлого семинара.\n",
        "\n",
        "<br>\n",
        "Шаг 1. Cкачаем ее:"
      ],
      "metadata": {
        "id": "dy1dFx241sk1"
      }
    },
    {
      "cell_type": "code",
      "source": [
        "! pip install pymorphy2"
      ],
      "metadata": {
        "colab": {
          "base_uri": "https://localhost:8080/"
        },
        "id": "Nk8q7SJ5ytpD",
        "outputId": "d03b8a9e-ba41-4152-bd6f-d8bef31935c1"
      },
      "execution_count": null,
      "outputs": [
        {
          "output_type": "stream",
          "name": "stdout",
          "text": [
            "Requirement already satisfied: pymorphy2 in /usr/local/lib/python3.10/dist-packages (0.9.1)\n",
            "Requirement already satisfied: dawg-python>=0.7.1 in /usr/local/lib/python3.10/dist-packages (from pymorphy2) (0.7.2)\n",
            "Requirement already satisfied: pymorphy2-dicts-ru<3.0,>=2.4 in /usr/local/lib/python3.10/dist-packages (from pymorphy2) (2.4.417127.4579844)\n",
            "Requirement already satisfied: docopt>=0.6 in /usr/local/lib/python3.10/dist-packages (from pymorphy2) (0.6.2)\n"
          ]
        }
      ]
    },
    {
      "cell_type": "markdown",
      "source": [
        "Шаг 2. Подгрузим анализатор:"
      ],
      "metadata": {
        "id": "ac_M4Ay82eV0"
      }
    },
    {
      "cell_type": "code",
      "source": [
        "from pymorphy2 import MorphAnalyzer\n",
        "morph = MorphAnalyzer()"
      ],
      "metadata": {
        "id": "vE437oca19E8"
      },
      "execution_count": null,
      "outputs": []
    },
    {
      "cell_type": "markdown",
      "source": [
        "Шаг 3. Проанализируем слово:"
      ],
      "metadata": {
        "id": "qzmQIomz3Q_V"
      }
    },
    {
      "cell_type": "code",
      "source": [
        "word = morph.parse('комнате')\n",
        "word"
      ],
      "metadata": {
        "colab": {
          "base_uri": "https://localhost:8080/"
        },
        "id": "unZkodV22PaX",
        "outputId": "d09d8743-a211-4686-9459-590ff2ce23ea"
      },
      "execution_count": null,
      "outputs": [
        {
          "output_type": "execute_result",
          "data": {
            "text/plain": [
              "[Parse(word='комнате', tag=OpencorporaTag('NOUN,inan,femn sing,loct'), normal_form='комната', score=0.818181, methods_stack=((DictionaryAnalyzer(), 'комнате', 55, 6),)),\n",
              " Parse(word='комнате', tag=OpencorporaTag('NOUN,inan,femn sing,datv'), normal_form='комната', score=0.181818, methods_stack=((DictionaryAnalyzer(), 'комнате', 55, 2),))]"
            ]
          },
          "metadata": {},
          "execution_count": 140
        }
      ]
    },
    {
      "cell_type": "markdown",
      "source": [
        "Убедимся, что анализатор вернул все возможные разборы, отранжировав их по вероятности (*score*).\n",
        "\n",
        "<br>\n",
        "\n",
        "Выведем информацию о морфологических признаках и начальной форме слова:"
      ],
      "metadata": {
        "id": "76yYOy0L-Brr"
      }
    },
    {
      "cell_type": "code",
      "source": [
        "# word[0] => первый разбор\n",
        "\n",
        "print('Морфологические признаки слова:', word[0].tag)\n",
        "print('Начальная форма слова:', word[0].normal_form)"
      ],
      "metadata": {
        "colab": {
          "base_uri": "https://localhost:8080/"
        },
        "id": "8hjMaGhQ7a-U",
        "outputId": "c61af03f-b792-463f-ef6e-35cd2c4b6a0a"
      },
      "execution_count": null,
      "outputs": [
        {
          "output_type": "stream",
          "name": "stdout",
          "text": [
            "Морфологические признаки слова: NOUN,inan,femn sing,loct\n",
            "Начальная форма слова: комната\n"
          ]
        }
      ]
    },
    {
      "cell_type": "markdown",
      "source": [
        "### Немного практики\n",
        "\n",
        "Потренируемся.\n",
        "<br>\n",
        "<br>\n",
        "Библиотека *PyMoprhy2* может строить предположения в том числе о несуществующих словах. Проверим?\n",
        "<br>\n",
        "<br>\n",
        "Возьмите любое слово из предложения ниже и предложите анализатору.\n",
        "\n",
        "<br>\n",
        "\n",
        "```\n",
        "Глокая куздра штеко будланула бокра и курдячит бокрёнка.\n",
        "```\n",
        "\n"
      ],
      "metadata": {
        "id": "ywwxDnu_DD_E"
      }
    },
    {
      "cell_type": "code",
      "source": [
        "# YOUR CODE HERE"
      ],
      "metadata": {
        "id": "e6c9vAtEDuY5"
      },
      "execution_count": null,
      "outputs": []
    },
    {
      "cell_type": "markdown",
      "source": [
        "## PyMystem3\n",
        "\n",
        "Похожим образом работает и библиотека *PyMystem3*.\n",
        "<br>\n",
        "<br>\n",
        "Шаг 1. Сначала ее скачаем:"
      ],
      "metadata": {
        "id": "590Bdb_UFBBK"
      }
    },
    {
      "cell_type": "code",
      "source": [
        "! pip install PyMystem3"
      ],
      "metadata": {
        "colab": {
          "base_uri": "https://localhost:8080/"
        },
        "id": "xrUWT6RqHayC",
        "outputId": "146012b7-3d9a-46a6-8e18-088e4af477d9"
      },
      "execution_count": null,
      "outputs": [
        {
          "output_type": "stream",
          "name": "stdout",
          "text": [
            "Requirement already satisfied: PyMystem3 in /usr/local/lib/python3.10/dist-packages (0.2.0)\n",
            "Requirement already satisfied: requests in /usr/local/lib/python3.10/dist-packages (from PyMystem3) (2.32.3)\n",
            "Requirement already satisfied: charset-normalizer<4,>=2 in /usr/local/lib/python3.10/dist-packages (from requests->PyMystem3) (3.3.2)\n",
            "Requirement already satisfied: idna<4,>=2.5 in /usr/local/lib/python3.10/dist-packages (from requests->PyMystem3) (3.8)\n",
            "Requirement already satisfied: urllib3<3,>=1.21.1 in /usr/local/lib/python3.10/dist-packages (from requests->PyMystem3) (2.0.7)\n",
            "Requirement already satisfied: certifi>=2017.4.17 in /usr/local/lib/python3.10/dist-packages (from requests->PyMystem3) (2024.8.30)\n"
          ]
        }
      ]
    },
    {
      "cell_type": "markdown",
      "source": [
        "Шаг 2. Подгрузим анализатор:"
      ],
      "metadata": {
        "id": "qxuszNBJIlN1"
      }
    },
    {
      "cell_type": "code",
      "source": [
        "from pymystem3 import Mystem\n",
        "morph = Mystem()"
      ],
      "metadata": {
        "id": "R1qx4S_KIj2H"
      },
      "execution_count": null,
      "outputs": []
    },
    {
      "cell_type": "markdown",
      "source": [
        "Шаг 3. Проанализируем текст:"
      ],
      "metadata": {
        "id": "-7R7wx3lI2Dm"
      }
    },
    {
      "cell_type": "code",
      "source": [
        "text_mystem = morph.analyze(text)\n",
        "\n",
        "# Вот, что у нас получилось\n",
        "text_mystem[:5]"
      ],
      "metadata": {
        "colab": {
          "base_uri": "https://localhost:8080/"
        },
        "id": "K-WmW80bI64a",
        "outputId": "b91e07af-1b06-4fe3-b162-ce104dd699d8"
      },
      "execution_count": null,
      "outputs": [
        {
          "output_type": "execute_result",
          "data": {
            "text/plain": [
              "[{'analysis': [{'lex': 'в', 'wt': 0.9999917878, 'gr': 'PR='}], 'text': 'В'},\n",
              " {'text': ' '},\n",
              " {'analysis': [{'lex': 'мой',\n",
              "    'wt': 1,\n",
              "    'gr': 'APRO=(пр,ед,жен|дат,ед,жен|род,ед,жен|твор,ед,жен)'}],\n",
              "  'text': 'моей'},\n",
              " {'text': ' '},\n",
              " {'analysis': [{'lex': 'комната', 'wt': 1, 'gr': 'S,жен,неод=(пр,ед|дат,ед)'}],\n",
              "  'text': 'комнате'}]"
            ]
          },
          "metadata": {},
          "execution_count": 145
        }
      ]
    },
    {
      "cell_type": "markdown",
      "source": [
        "Выведем информацию о морфологических признаках и начальной форме того же слова:"
      ],
      "metadata": {
        "id": "46SaV-IfJrH4"
      }
    },
    {
      "cell_type": "code",
      "source": [
        "# [4], потому что пробел PyMystem3 считает за слово\n",
        "\n",
        "print('Морфологические признаки слова:', text_mystem[4]['analysis'][0]['gr'])\n",
        "print('Начальная форма слова:', text_mystem[4]['analysis'][0]['lex'])"
      ],
      "metadata": {
        "colab": {
          "base_uri": "https://localhost:8080/"
        },
        "id": "x5T0EYoyKTOV",
        "outputId": "fe52c7cf-6288-45fc-fa2a-1193ef8b7d84"
      },
      "execution_count": null,
      "outputs": [
        {
          "output_type": "stream",
          "name": "stdout",
          "text": [
            "Морфологические признаки слова: S,жен,неод=(пр,ед|дат,ед)\n",
            "Начальная форма слова: комната\n"
          ]
        }
      ]
    },
    {
      "cell_type": "markdown",
      "source": [
        "<br>\n",
        "\n",
        "Сравним с тем, что выдал *PyMorphy2*:\n",
        "```\n",
        "Морфологические признаки слова: NOUN,inan,femn sing,loct\n",
        "Начальная форма слова: комната\n",
        "```"
      ],
      "metadata": {
        "id": "WcRmYFpjvzgC"
      }
    },
    {
      "cell_type": "markdown",
      "source": [
        "### Немного практики\n",
        "\n",
        "Вернемся к нашему предложению\n",
        "\n",
        "\n",
        "\n",
        "```\n",
        "Глокая куздра штеко будланула бокра и курдячит бокрёнка.\n",
        "```\n",
        "\n",
        "Посмотрите, как библиотека PyMystem3 справится с тем же словом, которое вы анализировали ранее.\n"
      ],
      "metadata": {
        "id": "awbWgXZYL8bc"
      }
    },
    {
      "cell_type": "code",
      "source": [
        "# YOUR CODE HERE"
      ],
      "metadata": {
        "id": "nvUOrAx8MUmu"
      },
      "execution_count": null,
      "outputs": []
    },
    {
      "cell_type": "markdown",
      "source": [
        "## Сравним\n",
        "\n",
        "Обе библиотеки разработаны специально для русского языка. Они опираются на словари и правила и выдают для каждого слова те разборы, которые в принципе для них возможны.\n",
        "\n",
        "<br>\n",
        "\n",
        "**Что эти разборы значат?**\n",
        "\n",
        "<br>\n",
        "\n",
        "Это сокращенные обозначения морфологических признаков, известных вам из школы: род, число, падеж и прочие.\n",
        "\n",
        "Например: *NOUN* - имя существительное; *datv* - дательный падеж.\n",
        "\n",
        "От библиотеки к библиотеки эти сокращения могут отличаться, поэтому лучше читайте документации. (См. [*PyMorphy2*](https://pymorphy2.readthedocs.io/en/stable/user/grammemes.html#grammeme-docs) и [*PyMystem3*](https://yandex.ru/dev/mystem/doc/ru/grammemes-values)).\n",
        "\n",
        "<br>\n",
        "\n",
        "**Скорость и качество**\n",
        "\n",
        "<br>\n",
        "\n",
        "*PyMorphy2* работает быстрее, чем *PyMystem3*. Качество лучше у последнего.\n",
        "<br>\n",
        "<br>\n",
        "\n",
        "**Проблема**\n",
        "<br>\n",
        "<br>\n",
        "Разные разборы для одного и того же слова - это проблема. У слова *комнате* таких разборов два: единственное число, дательный или предложный падеж. А вот у слова *такси* их 12!\n",
        "<br>\n",
        "<br>\n",
        "\n",
        "Обычно контекст позволяет точно сказать, в каком числе и падеже стоит то или иное слово. Но библиотеки, расмотренные нами, не обращают внимания на контекст. Поэтому обратимся к тем, которые обращают.  "
      ],
      "metadata": {
        "id": "Gmo9azhiNiT1"
      }
    },
    {
      "cell_type": "markdown",
      "source": [
        "# Библиотеки, которые могут снимать омонимию\n",
        "\n"
      ],
      "metadata": {
        "id": "fuCbLPAeW5a-"
      }
    },
    {
      "cell_type": "markdown",
      "source": [
        "## spaCy\n",
        "\n",
        "Первая такая библиотека - это spaCy.\n",
        "\n",
        "<br>\n",
        "\n",
        "Шаг 1. Скачаем ее:"
      ],
      "metadata": {
        "id": "WVjICs74XRm9"
      }
    },
    {
      "cell_type": "code",
      "source": [
        "! pip install spacy"
      ],
      "metadata": {
        "colab": {
          "base_uri": "https://localhost:8080/"
        },
        "id": "JRHW2IpHXYAp",
        "outputId": "21a716fd-fa35-4a74-b0d4-278ca630b32c"
      },
      "execution_count": null,
      "outputs": [
        {
          "output_type": "stream",
          "name": "stdout",
          "text": [
            "Requirement already satisfied: spacy in /usr/local/lib/python3.10/dist-packages (3.7.6)\n",
            "Requirement already satisfied: spacy-legacy<3.1.0,>=3.0.11 in /usr/local/lib/python3.10/dist-packages (from spacy) (3.0.12)\n",
            "Requirement already satisfied: spacy-loggers<2.0.0,>=1.0.0 in /usr/local/lib/python3.10/dist-packages (from spacy) (1.0.5)\n",
            "Requirement already satisfied: murmurhash<1.1.0,>=0.28.0 in /usr/local/lib/python3.10/dist-packages (from spacy) (1.0.10)\n",
            "Requirement already satisfied: cymem<2.1.0,>=2.0.2 in /usr/local/lib/python3.10/dist-packages (from spacy) (2.0.8)\n",
            "Requirement already satisfied: preshed<3.1.0,>=3.0.2 in /usr/local/lib/python3.10/dist-packages (from spacy) (3.0.9)\n",
            "Requirement already satisfied: thinc<8.3.0,>=8.2.2 in /usr/local/lib/python3.10/dist-packages (from spacy) (8.2.5)\n",
            "Requirement already satisfied: wasabi<1.2.0,>=0.9.1 in /usr/local/lib/python3.10/dist-packages (from spacy) (1.1.3)\n",
            "Requirement already satisfied: srsly<3.0.0,>=2.4.3 in /usr/local/lib/python3.10/dist-packages (from spacy) (2.4.8)\n",
            "Requirement already satisfied: catalogue<2.1.0,>=2.0.6 in /usr/local/lib/python3.10/dist-packages (from spacy) (2.0.10)\n",
            "Requirement already satisfied: weasel<0.5.0,>=0.1.0 in /usr/local/lib/python3.10/dist-packages (from spacy) (0.4.1)\n",
            "Requirement already satisfied: typer<1.0.0,>=0.3.0 in /usr/local/lib/python3.10/dist-packages (from spacy) (0.12.5)\n",
            "Requirement already satisfied: tqdm<5.0.0,>=4.38.0 in /usr/local/lib/python3.10/dist-packages (from spacy) (4.66.5)\n",
            "Requirement already satisfied: requests<3.0.0,>=2.13.0 in /usr/local/lib/python3.10/dist-packages (from spacy) (2.32.3)\n",
            "Requirement already satisfied: pydantic!=1.8,!=1.8.1,<3.0.0,>=1.7.4 in /usr/local/lib/python3.10/dist-packages (from spacy) (2.8.2)\n",
            "Requirement already satisfied: jinja2 in /usr/local/lib/python3.10/dist-packages (from spacy) (3.1.4)\n",
            "Requirement already satisfied: setuptools in /usr/local/lib/python3.10/dist-packages (from spacy) (71.0.4)\n",
            "Requirement already satisfied: packaging>=20.0 in /usr/local/lib/python3.10/dist-packages (from spacy) (24.1)\n",
            "Requirement already satisfied: langcodes<4.0.0,>=3.2.0 in /usr/local/lib/python3.10/dist-packages (from spacy) (3.4.0)\n",
            "Requirement already satisfied: numpy>=1.19.0 in /usr/local/lib/python3.10/dist-packages (from spacy) (1.26.4)\n",
            "Requirement already satisfied: language-data>=1.2 in /usr/local/lib/python3.10/dist-packages (from langcodes<4.0.0,>=3.2.0->spacy) (1.2.0)\n",
            "Requirement already satisfied: annotated-types>=0.4.0 in /usr/local/lib/python3.10/dist-packages (from pydantic!=1.8,!=1.8.1,<3.0.0,>=1.7.4->spacy) (0.7.0)\n",
            "Requirement already satisfied: pydantic-core==2.20.1 in /usr/local/lib/python3.10/dist-packages (from pydantic!=1.8,!=1.8.1,<3.0.0,>=1.7.4->spacy) (2.20.1)\n",
            "Requirement already satisfied: typing-extensions>=4.6.1 in /usr/local/lib/python3.10/dist-packages (from pydantic!=1.8,!=1.8.1,<3.0.0,>=1.7.4->spacy) (4.12.2)\n",
            "Requirement already satisfied: charset-normalizer<4,>=2 in /usr/local/lib/python3.10/dist-packages (from requests<3.0.0,>=2.13.0->spacy) (3.3.2)\n",
            "Requirement already satisfied: idna<4,>=2.5 in /usr/local/lib/python3.10/dist-packages (from requests<3.0.0,>=2.13.0->spacy) (3.8)\n",
            "Requirement already satisfied: urllib3<3,>=1.21.1 in /usr/local/lib/python3.10/dist-packages (from requests<3.0.0,>=2.13.0->spacy) (2.0.7)\n",
            "Requirement already satisfied: certifi>=2017.4.17 in /usr/local/lib/python3.10/dist-packages (from requests<3.0.0,>=2.13.0->spacy) (2024.8.30)\n",
            "Requirement already satisfied: blis<0.8.0,>=0.7.8 in /usr/local/lib/python3.10/dist-packages (from thinc<8.3.0,>=8.2.2->spacy) (0.7.11)\n",
            "Requirement already satisfied: confection<1.0.0,>=0.0.1 in /usr/local/lib/python3.10/dist-packages (from thinc<8.3.0,>=8.2.2->spacy) (0.1.5)\n",
            "Requirement already satisfied: click>=8.0.0 in /usr/local/lib/python3.10/dist-packages (from typer<1.0.0,>=0.3.0->spacy) (8.1.7)\n",
            "Requirement already satisfied: shellingham>=1.3.0 in /usr/local/lib/python3.10/dist-packages (from typer<1.0.0,>=0.3.0->spacy) (1.5.4)\n",
            "Requirement already satisfied: rich>=10.11.0 in /usr/local/lib/python3.10/dist-packages (from typer<1.0.0,>=0.3.0->spacy) (13.8.0)\n",
            "Requirement already satisfied: cloudpathlib<1.0.0,>=0.7.0 in /usr/local/lib/python3.10/dist-packages (from weasel<0.5.0,>=0.1.0->spacy) (0.19.0)\n",
            "Requirement already satisfied: smart-open<8.0.0,>=5.2.1 in /usr/local/lib/python3.10/dist-packages (from weasel<0.5.0,>=0.1.0->spacy) (7.0.4)\n",
            "Requirement already satisfied: MarkupSafe>=2.0 in /usr/local/lib/python3.10/dist-packages (from jinja2->spacy) (2.1.5)\n",
            "Requirement already satisfied: marisa-trie>=0.7.7 in /usr/local/lib/python3.10/dist-packages (from language-data>=1.2->langcodes<4.0.0,>=3.2.0->spacy) (1.2.0)\n",
            "Requirement already satisfied: markdown-it-py>=2.2.0 in /usr/local/lib/python3.10/dist-packages (from rich>=10.11.0->typer<1.0.0,>=0.3.0->spacy) (3.0.0)\n",
            "Requirement already satisfied: pygments<3.0.0,>=2.13.0 in /usr/local/lib/python3.10/dist-packages (from rich>=10.11.0->typer<1.0.0,>=0.3.0->spacy) (2.16.1)\n",
            "Requirement already satisfied: wrapt in /usr/local/lib/python3.10/dist-packages (from smart-open<8.0.0,>=5.2.1->weasel<0.5.0,>=0.1.0->spacy) (1.16.0)\n",
            "Requirement already satisfied: mdurl~=0.1 in /usr/local/lib/python3.10/dist-packages (from markdown-it-py>=2.2.0->rich>=10.11.0->typer<1.0.0,>=0.3.0->spacy) (0.1.2)\n"
          ]
        }
      ]
    },
    {
      "cell_type": "markdown",
      "source": [
        "Шаг 2. Подгрузим анализатор:"
      ],
      "metadata": {
        "id": "x5xbyjHhXq2z"
      }
    },
    {
      "cell_type": "code",
      "source": [
        "!python -m spacy download ru_core_news_sm # скачиваем модель для русского языка\n",
        "import spacy\n",
        "nlp_spacy = spacy.load(\"ru_core_news_sm\")"
      ],
      "metadata": {
        "colab": {
          "base_uri": "https://localhost:8080/"
        },
        "id": "mBckSqxfXqhq",
        "outputId": "95367126-da76-4872-f03d-655753547fac"
      },
      "execution_count": null,
      "outputs": [
        {
          "output_type": "stream",
          "name": "stdout",
          "text": [
            "Collecting ru-core-news-sm==3.7.0\n",
            "  Downloading https://github.com/explosion/spacy-models/releases/download/ru_core_news_sm-3.7.0/ru_core_news_sm-3.7.0-py3-none-any.whl (15.3 MB)\n",
            "\u001b[2K     \u001b[90m━━━━━━━━━━━━━━━━━━━━━━━━━━━━━━━━━━━━━━━━\u001b[0m \u001b[32m15.3/15.3 MB\u001b[0m \u001b[31m28.1 MB/s\u001b[0m eta \u001b[36m0:00:00\u001b[0m\n",
            "\u001b[?25hRequirement already satisfied: spacy<3.8.0,>=3.7.0 in /usr/local/lib/python3.10/dist-packages (from ru-core-news-sm==3.7.0) (3.7.6)\n",
            "Requirement already satisfied: pymorphy3>=1.0.0 in /usr/local/lib/python3.10/dist-packages (from ru-core-news-sm==3.7.0) (2.0.2)\n",
            "Requirement already satisfied: dawg-python>=0.7.1 in /usr/local/lib/python3.10/dist-packages (from pymorphy3>=1.0.0->ru-core-news-sm==3.7.0) (0.7.2)\n",
            "Requirement already satisfied: pymorphy3-dicts-ru in /usr/local/lib/python3.10/dist-packages (from pymorphy3>=1.0.0->ru-core-news-sm==3.7.0) (2.4.417150.4580142)\n",
            "Requirement already satisfied: spacy-legacy<3.1.0,>=3.0.11 in /usr/local/lib/python3.10/dist-packages (from spacy<3.8.0,>=3.7.0->ru-core-news-sm==3.7.0) (3.0.12)\n",
            "Requirement already satisfied: spacy-loggers<2.0.0,>=1.0.0 in /usr/local/lib/python3.10/dist-packages (from spacy<3.8.0,>=3.7.0->ru-core-news-sm==3.7.0) (1.0.5)\n",
            "Requirement already satisfied: murmurhash<1.1.0,>=0.28.0 in /usr/local/lib/python3.10/dist-packages (from spacy<3.8.0,>=3.7.0->ru-core-news-sm==3.7.0) (1.0.10)\n",
            "Requirement already satisfied: cymem<2.1.0,>=2.0.2 in /usr/local/lib/python3.10/dist-packages (from spacy<3.8.0,>=3.7.0->ru-core-news-sm==3.7.0) (2.0.8)\n",
            "Requirement already satisfied: preshed<3.1.0,>=3.0.2 in /usr/local/lib/python3.10/dist-packages (from spacy<3.8.0,>=3.7.0->ru-core-news-sm==3.7.0) (3.0.9)\n",
            "Requirement already satisfied: thinc<8.3.0,>=8.2.2 in /usr/local/lib/python3.10/dist-packages (from spacy<3.8.0,>=3.7.0->ru-core-news-sm==3.7.0) (8.2.5)\n",
            "Requirement already satisfied: wasabi<1.2.0,>=0.9.1 in /usr/local/lib/python3.10/dist-packages (from spacy<3.8.0,>=3.7.0->ru-core-news-sm==3.7.0) (1.1.3)\n",
            "Requirement already satisfied: srsly<3.0.0,>=2.4.3 in /usr/local/lib/python3.10/dist-packages (from spacy<3.8.0,>=3.7.0->ru-core-news-sm==3.7.0) (2.4.8)\n",
            "Requirement already satisfied: catalogue<2.1.0,>=2.0.6 in /usr/local/lib/python3.10/dist-packages (from spacy<3.8.0,>=3.7.0->ru-core-news-sm==3.7.0) (2.0.10)\n",
            "Requirement already satisfied: weasel<0.5.0,>=0.1.0 in /usr/local/lib/python3.10/dist-packages (from spacy<3.8.0,>=3.7.0->ru-core-news-sm==3.7.0) (0.4.1)\n",
            "Requirement already satisfied: typer<1.0.0,>=0.3.0 in /usr/local/lib/python3.10/dist-packages (from spacy<3.8.0,>=3.7.0->ru-core-news-sm==3.7.0) (0.12.5)\n",
            "Requirement already satisfied: tqdm<5.0.0,>=4.38.0 in /usr/local/lib/python3.10/dist-packages (from spacy<3.8.0,>=3.7.0->ru-core-news-sm==3.7.0) (4.66.5)\n",
            "Requirement already satisfied: requests<3.0.0,>=2.13.0 in /usr/local/lib/python3.10/dist-packages (from spacy<3.8.0,>=3.7.0->ru-core-news-sm==3.7.0) (2.32.3)\n",
            "Requirement already satisfied: pydantic!=1.8,!=1.8.1,<3.0.0,>=1.7.4 in /usr/local/lib/python3.10/dist-packages (from spacy<3.8.0,>=3.7.0->ru-core-news-sm==3.7.0) (2.8.2)\n",
            "Requirement already satisfied: jinja2 in /usr/local/lib/python3.10/dist-packages (from spacy<3.8.0,>=3.7.0->ru-core-news-sm==3.7.0) (3.1.4)\n",
            "Requirement already satisfied: setuptools in /usr/local/lib/python3.10/dist-packages (from spacy<3.8.0,>=3.7.0->ru-core-news-sm==3.7.0) (71.0.4)\n",
            "Requirement already satisfied: packaging>=20.0 in /usr/local/lib/python3.10/dist-packages (from spacy<3.8.0,>=3.7.0->ru-core-news-sm==3.7.0) (24.1)\n",
            "Requirement already satisfied: langcodes<4.0.0,>=3.2.0 in /usr/local/lib/python3.10/dist-packages (from spacy<3.8.0,>=3.7.0->ru-core-news-sm==3.7.0) (3.4.0)\n",
            "Requirement already satisfied: numpy>=1.19.0 in /usr/local/lib/python3.10/dist-packages (from spacy<3.8.0,>=3.7.0->ru-core-news-sm==3.7.0) (1.26.4)\n",
            "Requirement already satisfied: language-data>=1.2 in /usr/local/lib/python3.10/dist-packages (from langcodes<4.0.0,>=3.2.0->spacy<3.8.0,>=3.7.0->ru-core-news-sm==3.7.0) (1.2.0)\n",
            "Requirement already satisfied: annotated-types>=0.4.0 in /usr/local/lib/python3.10/dist-packages (from pydantic!=1.8,!=1.8.1,<3.0.0,>=1.7.4->spacy<3.8.0,>=3.7.0->ru-core-news-sm==3.7.0) (0.7.0)\n",
            "Requirement already satisfied: pydantic-core==2.20.1 in /usr/local/lib/python3.10/dist-packages (from pydantic!=1.8,!=1.8.1,<3.0.0,>=1.7.4->spacy<3.8.0,>=3.7.0->ru-core-news-sm==3.7.0) (2.20.1)\n",
            "Requirement already satisfied: typing-extensions>=4.6.1 in /usr/local/lib/python3.10/dist-packages (from pydantic!=1.8,!=1.8.1,<3.0.0,>=1.7.4->spacy<3.8.0,>=3.7.0->ru-core-news-sm==3.7.0) (4.12.2)\n",
            "Requirement already satisfied: charset-normalizer<4,>=2 in /usr/local/lib/python3.10/dist-packages (from requests<3.0.0,>=2.13.0->spacy<3.8.0,>=3.7.0->ru-core-news-sm==3.7.0) (3.3.2)\n",
            "Requirement already satisfied: idna<4,>=2.5 in /usr/local/lib/python3.10/dist-packages (from requests<3.0.0,>=2.13.0->spacy<3.8.0,>=3.7.0->ru-core-news-sm==3.7.0) (3.8)\n",
            "Requirement already satisfied: urllib3<3,>=1.21.1 in /usr/local/lib/python3.10/dist-packages (from requests<3.0.0,>=2.13.0->spacy<3.8.0,>=3.7.0->ru-core-news-sm==3.7.0) (2.0.7)\n",
            "Requirement already satisfied: certifi>=2017.4.17 in /usr/local/lib/python3.10/dist-packages (from requests<3.0.0,>=2.13.0->spacy<3.8.0,>=3.7.0->ru-core-news-sm==3.7.0) (2024.8.30)\n",
            "Requirement already satisfied: blis<0.8.0,>=0.7.8 in /usr/local/lib/python3.10/dist-packages (from thinc<8.3.0,>=8.2.2->spacy<3.8.0,>=3.7.0->ru-core-news-sm==3.7.0) (0.7.11)\n",
            "Requirement already satisfied: confection<1.0.0,>=0.0.1 in /usr/local/lib/python3.10/dist-packages (from thinc<8.3.0,>=8.2.2->spacy<3.8.0,>=3.7.0->ru-core-news-sm==3.7.0) (0.1.5)\n",
            "Requirement already satisfied: click>=8.0.0 in /usr/local/lib/python3.10/dist-packages (from typer<1.0.0,>=0.3.0->spacy<3.8.0,>=3.7.0->ru-core-news-sm==3.7.0) (8.1.7)\n",
            "Requirement already satisfied: shellingham>=1.3.0 in /usr/local/lib/python3.10/dist-packages (from typer<1.0.0,>=0.3.0->spacy<3.8.0,>=3.7.0->ru-core-news-sm==3.7.0) (1.5.4)\n",
            "Requirement already satisfied: rich>=10.11.0 in /usr/local/lib/python3.10/dist-packages (from typer<1.0.0,>=0.3.0->spacy<3.8.0,>=3.7.0->ru-core-news-sm==3.7.0) (13.8.0)\n",
            "Requirement already satisfied: cloudpathlib<1.0.0,>=0.7.0 in /usr/local/lib/python3.10/dist-packages (from weasel<0.5.0,>=0.1.0->spacy<3.8.0,>=3.7.0->ru-core-news-sm==3.7.0) (0.19.0)\n",
            "Requirement already satisfied: smart-open<8.0.0,>=5.2.1 in /usr/local/lib/python3.10/dist-packages (from weasel<0.5.0,>=0.1.0->spacy<3.8.0,>=3.7.0->ru-core-news-sm==3.7.0) (7.0.4)\n",
            "Requirement already satisfied: MarkupSafe>=2.0 in /usr/local/lib/python3.10/dist-packages (from jinja2->spacy<3.8.0,>=3.7.0->ru-core-news-sm==3.7.0) (2.1.5)\n",
            "Requirement already satisfied: marisa-trie>=0.7.7 in /usr/local/lib/python3.10/dist-packages (from language-data>=1.2->langcodes<4.0.0,>=3.2.0->spacy<3.8.0,>=3.7.0->ru-core-news-sm==3.7.0) (1.2.0)\n",
            "Requirement already satisfied: markdown-it-py>=2.2.0 in /usr/local/lib/python3.10/dist-packages (from rich>=10.11.0->typer<1.0.0,>=0.3.0->spacy<3.8.0,>=3.7.0->ru-core-news-sm==3.7.0) (3.0.0)\n",
            "Requirement already satisfied: pygments<3.0.0,>=2.13.0 in /usr/local/lib/python3.10/dist-packages (from rich>=10.11.0->typer<1.0.0,>=0.3.0->spacy<3.8.0,>=3.7.0->ru-core-news-sm==3.7.0) (2.16.1)\n",
            "Requirement already satisfied: wrapt in /usr/local/lib/python3.10/dist-packages (from smart-open<8.0.0,>=5.2.1->weasel<0.5.0,>=0.1.0->spacy<3.8.0,>=3.7.0->ru-core-news-sm==3.7.0) (1.16.0)\n",
            "Requirement already satisfied: mdurl~=0.1 in /usr/local/lib/python3.10/dist-packages (from markdown-it-py>=2.2.0->rich>=10.11.0->typer<1.0.0,>=0.3.0->spacy<3.8.0,>=3.7.0->ru-core-news-sm==3.7.0) (0.1.2)\n",
            "\u001b[38;5;2m✔ Download and installation successful\u001b[0m\n",
            "You can now load the package via spacy.load('ru_core_news_sm')\n",
            "\u001b[38;5;3m⚠ Restart to reload dependencies\u001b[0m\n",
            "If you are in a Jupyter or Colab notebook, you may need to restart Python in\n",
            "order to load all the package's dependencies. You can do this by selecting the\n",
            "'Restart kernel' or 'Restart runtime' option.\n"
          ]
        }
      ]
    },
    {
      "cell_type": "markdown",
      "source": [
        "Шаг 3. Проанализируем текст:"
      ],
      "metadata": {
        "id": "tyrzN8BQYlqV"
      }
    },
    {
      "cell_type": "code",
      "source": [
        "text_spacy = nlp_spacy(text)"
      ],
      "metadata": {
        "id": "BhQf8QBdYfMj"
      },
      "execution_count": null,
      "outputs": []
    },
    {
      "cell_type": "markdown",
      "source": [
        "Выведем информацию о морфологических признаках и начальной форме слова *комнате* :"
      ],
      "metadata": {
        "id": "2nEUAYY5ZFUE"
      }
    },
    {
      "cell_type": "code",
      "source": [
        "print('Морфологические признаки:', text_spacy[2].morph)\n",
        "print('Начальная форма:', text_spacy[2].lemma_)"
      ],
      "metadata": {
        "colab": {
          "base_uri": "https://localhost:8080/"
        },
        "id": "rau2NfCiZSJu",
        "outputId": "22021c2c-85d5-4863-ddb9-64df39e9f8a9"
      },
      "execution_count": null,
      "outputs": [
        {
          "output_type": "stream",
          "name": "stdout",
          "text": [
            "Морфологические признаки: Animacy=Inan|Case=Loc|Gender=Fem|Number=Sing\n",
            "Начальная форма: комната\n"
          ]
        }
      ]
    },
    {
      "cell_type": "markdown",
      "source": [
        "Пока радуемся, что у слова только один падеж, выведем информацию о его синтаксической роли в предложении (подлежащее, дополнение и т.п.):"
      ],
      "metadata": {
        "id": "uR4OjHGEZyi4"
      }
    },
    {
      "cell_type": "code",
      "source": [
        "print('Синтаксическая роль:', text_spacy[2].dep_)\n",
        "# Косвенное дополнение"
      ],
      "metadata": {
        "colab": {
          "base_uri": "https://localhost:8080/"
        },
        "id": "Vz5dTkZnaZqt",
        "outputId": "43f18e78-37e1-4154-b85c-2761d1f3c047"
      },
      "execution_count": null,
      "outputs": [
        {
          "output_type": "stream",
          "name": "stdout",
          "text": [
            "Синтаксическая роль: obl\n"
          ]
        }
      ]
    },
    {
      "cell_type": "markdown",
      "source": [
        "## Stanza\n",
        "\n",
        "Есть еще библиотека Stanza.\n",
        "\n",
        "Шаг 1. Скачаем ее:"
      ],
      "metadata": {
        "id": "VVptrYvkbP4Z"
      }
    },
    {
      "cell_type": "code",
      "source": [
        "! pip install stanza"
      ],
      "metadata": {
        "colab": {
          "base_uri": "https://localhost:8080/"
        },
        "id": "vDgR5uq9bl0z",
        "outputId": "772fe51d-f596-424d-8cfd-fca90245a6e4"
      },
      "execution_count": null,
      "outputs": [
        {
          "output_type": "stream",
          "name": "stdout",
          "text": [
            "Requirement already satisfied: stanza in /usr/local/lib/python3.10/dist-packages (1.8.2)\n",
            "Requirement already satisfied: emoji in /usr/local/lib/python3.10/dist-packages (from stanza) (2.12.1)\n",
            "Requirement already satisfied: numpy in /usr/local/lib/python3.10/dist-packages (from stanza) (1.26.4)\n",
            "Requirement already satisfied: protobuf>=3.15.0 in /usr/local/lib/python3.10/dist-packages (from stanza) (3.20.3)\n",
            "Requirement already satisfied: requests in /usr/local/lib/python3.10/dist-packages (from stanza) (2.32.3)\n",
            "Requirement already satisfied: networkx in /usr/local/lib/python3.10/dist-packages (from stanza) (3.3)\n",
            "Requirement already satisfied: toml in /usr/local/lib/python3.10/dist-packages (from stanza) (0.10.2)\n",
            "Requirement already satisfied: torch>=1.3.0 in /usr/local/lib/python3.10/dist-packages (from stanza) (2.4.0+cu121)\n",
            "Requirement already satisfied: tqdm in /usr/local/lib/python3.10/dist-packages (from stanza) (4.66.5)\n",
            "Requirement already satisfied: filelock in /usr/local/lib/python3.10/dist-packages (from torch>=1.3.0->stanza) (3.15.4)\n",
            "Requirement already satisfied: typing-extensions>=4.8.0 in /usr/local/lib/python3.10/dist-packages (from torch>=1.3.0->stanza) (4.12.2)\n",
            "Requirement already satisfied: sympy in /usr/local/lib/python3.10/dist-packages (from torch>=1.3.0->stanza) (1.13.2)\n",
            "Requirement already satisfied: jinja2 in /usr/local/lib/python3.10/dist-packages (from torch>=1.3.0->stanza) (3.1.4)\n",
            "Requirement already satisfied: fsspec in /usr/local/lib/python3.10/dist-packages (from torch>=1.3.0->stanza) (2024.6.1)\n",
            "Requirement already satisfied: charset-normalizer<4,>=2 in /usr/local/lib/python3.10/dist-packages (from requests->stanza) (3.3.2)\n",
            "Requirement already satisfied: idna<4,>=2.5 in /usr/local/lib/python3.10/dist-packages (from requests->stanza) (3.8)\n",
            "Requirement already satisfied: urllib3<3,>=1.21.1 in /usr/local/lib/python3.10/dist-packages (from requests->stanza) (2.0.7)\n",
            "Requirement already satisfied: certifi>=2017.4.17 in /usr/local/lib/python3.10/dist-packages (from requests->stanza) (2024.8.30)\n",
            "Requirement already satisfied: MarkupSafe>=2.0 in /usr/local/lib/python3.10/dist-packages (from jinja2->torch>=1.3.0->stanza) (2.1.5)\n",
            "Requirement already satisfied: mpmath<1.4,>=1.1.0 in /usr/local/lib/python3.10/dist-packages (from sympy->torch>=1.3.0->stanza) (1.3.0)\n"
          ]
        }
      ]
    },
    {
      "cell_type": "markdown",
      "source": [
        "Шаг 2. Подгрузим анализатор:"
      ],
      "metadata": {
        "id": "HO5fmn1GcPJ9"
      }
    },
    {
      "cell_type": "code",
      "source": [
        "import stanza\n",
        "stanza.download(\"ru\")\n",
        "nlp_stanza = stanza.Pipeline(lang=\"ru\", processors=\"tokenize, pos, lemma, depparse\")"
      ],
      "metadata": {
        "colab": {
          "base_uri": "https://localhost:8080/",
          "height": 691,
          "referenced_widgets": [
            "d1f1093d34054fde8d490e9b97912287",
            "ab9303fc29ac4b6baf5d593d27228cf9",
            "a1a377e42112439cbf36bb96b474c14d",
            "9725a07a831044448f3a0846843ee35e",
            "6188c55af4c44b20816b6460ebad939d",
            "8ca2ac8562db4b7cb4f25c7bb8189a58",
            "f06e561e77e94c1b9a3a66815217ae34",
            "b505437a95194bc78737a6cae8839dd8",
            "57108673285e4df38bf52bc8cfd3f16c",
            "d2a3f00c906a491a86ee7870d360fd83",
            "76ae54b90ef84b82884f483c770d59f5",
            "ae15b40aaf6b4520ba5d536fb1509c07",
            "3e13d3ebc14c4900b378b8b6976491b9",
            "f7d4b0bb74ed4be1a6a23dff747c5289",
            "40d11a24aad04d3aa25a73d5aed4043d",
            "2e961fa52f5a411fab182cbdf4ab2599",
            "2bd9d1c43ae24f3281a5097e8168c2ce",
            "eab847d1c0e7463abe26c1412877ab0c",
            "a8bea755841c4fecbde2ca4205c50e19",
            "f788085f26ad4f32aadf930961ca5555",
            "282145d52e8e4681b38b07188af8d58f",
            "3554b538d38a4422969af563f7f97bcd"
          ]
        },
        "id": "dEUrPAjzcRTL",
        "outputId": "bf4dd201-15a9-4aa7-9f3f-bd4752b801e7"
      },
      "execution_count": null,
      "outputs": [
        {
          "output_type": "display_data",
          "data": {
            "text/plain": [
              "Downloading https://raw.githubusercontent.com/stanfordnlp/stanza-resources/main/resources_1.8.0.json:   0%|   …"
            ],
            "application/vnd.jupyter.widget-view+json": {
              "version_major": 2,
              "version_minor": 0,
              "model_id": "d1f1093d34054fde8d490e9b97912287"
            }
          },
          "metadata": {}
        },
        {
          "output_type": "stream",
          "name": "stderr",
          "text": [
            "INFO:stanza:Downloaded file to /root/stanza_resources/resources.json\n",
            "INFO:stanza:Downloading default packages for language: ru (Russian) ...\n",
            "INFO:stanza:File exists: /root/stanza_resources/ru/default.zip\n",
            "INFO:stanza:Finished downloading models and saved to /root/stanza_resources\n",
            "INFO:stanza:Checking for updates to resources.json in case models have been updated.  Note: this behavior can be turned off with download_method=None or download_method=DownloadMethod.REUSE_RESOURCES\n"
          ]
        },
        {
          "output_type": "display_data",
          "data": {
            "text/plain": [
              "Downloading https://raw.githubusercontent.com/stanfordnlp/stanza-resources/main/resources_1.8.0.json:   0%|   …"
            ],
            "application/vnd.jupyter.widget-view+json": {
              "version_major": 2,
              "version_minor": 0,
              "model_id": "ae15b40aaf6b4520ba5d536fb1509c07"
            }
          },
          "metadata": {}
        },
        {
          "output_type": "stream",
          "name": "stderr",
          "text": [
            "INFO:stanza:Downloaded file to /root/stanza_resources/resources.json\n",
            "INFO:stanza:Loading these models for language: ru (Russian):\n",
            "==================================\n",
            "| Processor | Package            |\n",
            "----------------------------------\n",
            "| tokenize  | syntagrus          |\n",
            "| pos       | syntagrus_charlm   |\n",
            "| lemma     | syntagrus_nocharlm |\n",
            "| depparse  | syntagrus_charlm   |\n",
            "==================================\n",
            "\n",
            "INFO:stanza:Using device: cpu\n",
            "INFO:stanza:Loading: tokenize\n",
            "/usr/local/lib/python3.10/dist-packages/stanza/models/tokenization/trainer.py:82: FutureWarning: You are using `torch.load` with `weights_only=False` (the current default value), which uses the default pickle module implicitly. It is possible to construct malicious pickle data which will execute arbitrary code during unpickling (See https://github.com/pytorch/pytorch/blob/main/SECURITY.md#untrusted-models for more details). In a future release, the default value for `weights_only` will be flipped to `True`. This limits the functions that could be executed during unpickling. Arbitrary objects will no longer be allowed to be loaded via this mode unless they are explicitly allowlisted by the user via `torch.serialization.add_safe_globals`. We recommend you start setting `weights_only=True` for any use case where you don't have full control of the loaded file. Please open an issue on GitHub for any issues related to this experimental feature.\n",
            "  checkpoint = torch.load(filename, lambda storage, loc: storage)\n",
            "INFO:stanza:Loading: pos\n",
            "/usr/local/lib/python3.10/dist-packages/stanza/models/pos/trainer.py:139: FutureWarning: You are using `torch.load` with `weights_only=False` (the current default value), which uses the default pickle module implicitly. It is possible to construct malicious pickle data which will execute arbitrary code during unpickling (See https://github.com/pytorch/pytorch/blob/main/SECURITY.md#untrusted-models for more details). In a future release, the default value for `weights_only` will be flipped to `True`. This limits the functions that could be executed during unpickling. Arbitrary objects will no longer be allowed to be loaded via this mode unless they are explicitly allowlisted by the user via `torch.serialization.add_safe_globals`. We recommend you start setting `weights_only=True` for any use case where you don't have full control of the loaded file. Please open an issue on GitHub for any issues related to this experimental feature.\n",
            "  checkpoint = torch.load(filename, lambda storage, loc: storage)\n",
            "/usr/local/lib/python3.10/dist-packages/stanza/models/common/pretrain.py:56: FutureWarning: You are using `torch.load` with `weights_only=False` (the current default value), which uses the default pickle module implicitly. It is possible to construct malicious pickle data which will execute arbitrary code during unpickling (See https://github.com/pytorch/pytorch/blob/main/SECURITY.md#untrusted-models for more details). In a future release, the default value for `weights_only` will be flipped to `True`. This limits the functions that could be executed during unpickling. Arbitrary objects will no longer be allowed to be loaded via this mode unless they are explicitly allowlisted by the user via `torch.serialization.add_safe_globals`. We recommend you start setting `weights_only=True` for any use case where you don't have full control of the loaded file. Please open an issue on GitHub for any issues related to this experimental feature.\n",
            "  data = torch.load(self.filename, lambda storage, loc: storage)\n",
            "/usr/local/lib/python3.10/dist-packages/stanza/models/common/char_model.py:271: FutureWarning: You are using `torch.load` with `weights_only=False` (the current default value), which uses the default pickle module implicitly. It is possible to construct malicious pickle data which will execute arbitrary code during unpickling (See https://github.com/pytorch/pytorch/blob/main/SECURITY.md#untrusted-models for more details). In a future release, the default value for `weights_only` will be flipped to `True`. This limits the functions that could be executed during unpickling. Arbitrary objects will no longer be allowed to be loaded via this mode unless they are explicitly allowlisted by the user via `torch.serialization.add_safe_globals`. We recommend you start setting `weights_only=True` for any use case where you don't have full control of the loaded file. Please open an issue on GitHub for any issues related to this experimental feature.\n",
            "  state = torch.load(filename, lambda storage, loc: storage)\n",
            "INFO:stanza:Loading: lemma\n",
            "/usr/local/lib/python3.10/dist-packages/stanza/models/lemma/trainer.py:236: FutureWarning: You are using `torch.load` with `weights_only=False` (the current default value), which uses the default pickle module implicitly. It is possible to construct malicious pickle data which will execute arbitrary code during unpickling (See https://github.com/pytorch/pytorch/blob/main/SECURITY.md#untrusted-models for more details). In a future release, the default value for `weights_only` will be flipped to `True`. This limits the functions that could be executed during unpickling. Arbitrary objects will no longer be allowed to be loaded via this mode unless they are explicitly allowlisted by the user via `torch.serialization.add_safe_globals`. We recommend you start setting `weights_only=True` for any use case where you don't have full control of the loaded file. Please open an issue on GitHub for any issues related to this experimental feature.\n",
            "  checkpoint = torch.load(filename, lambda storage, loc: storage)\n",
            "INFO:stanza:Loading: depparse\n",
            "/usr/local/lib/python3.10/dist-packages/stanza/models/depparse/trainer.py:194: FutureWarning: You are using `torch.load` with `weights_only=False` (the current default value), which uses the default pickle module implicitly. It is possible to construct malicious pickle data which will execute arbitrary code during unpickling (See https://github.com/pytorch/pytorch/blob/main/SECURITY.md#untrusted-models for more details). In a future release, the default value for `weights_only` will be flipped to `True`. This limits the functions that could be executed during unpickling. Arbitrary objects will no longer be allowed to be loaded via this mode unless they are explicitly allowlisted by the user via `torch.serialization.add_safe_globals`. We recommend you start setting `weights_only=True` for any use case where you don't have full control of the loaded file. Please open an issue on GitHub for any issues related to this experimental feature.\n",
            "  checkpoint = torch.load(filename, lambda storage, loc: storage)\n",
            "INFO:stanza:Done loading processors!\n"
          ]
        }
      ]
    },
    {
      "cell_type": "markdown",
      "source": [
        "Шаг 3. Проанализируем текст:"
      ],
      "metadata": {
        "id": "wSWAI7o8dXG1"
      }
    },
    {
      "cell_type": "code",
      "source": [
        "text_stanza = nlp_stanza(text)"
      ],
      "metadata": {
        "id": "YpDwLiqadkjh"
      },
      "execution_count": null,
      "outputs": []
    },
    {
      "cell_type": "markdown",
      "source": [
        "Выводем информацию о морфологических признаках и начальной форме слова *комнате* :"
      ],
      "metadata": {
        "id": "0a2Qkubcd0An"
      }
    },
    {
      "cell_type": "code",
      "source": [
        "word_stanza = text_stanza.sentences[0].words[2]\n",
        "print('Морфологические признаки:', word_stanza.feats)\n",
        "print('Начальная форма:', word_stanza.lemma)"
      ],
      "metadata": {
        "colab": {
          "base_uri": "https://localhost:8080/"
        },
        "id": "HYzuHocqd8Ng",
        "outputId": "2f272086-fef1-42a3-9576-e3f1627f753a"
      },
      "execution_count": null,
      "outputs": [
        {
          "output_type": "stream",
          "name": "stdout",
          "text": [
            "Морфологические признаки: Animacy=Inan|Case=Loc|Gender=Fem|Number=Sing\n",
            "Начальная форма: комната\n"
          ]
        }
      ]
    },
    {
      "cell_type": "markdown",
      "source": [
        "Выведем информацию о синтаксической роли слова в предложении:"
      ],
      "metadata": {
        "id": "uq9e54KSeVe9"
      }
    },
    {
      "cell_type": "code",
      "source": [
        "print('Синтаксическая роль', word_stanza.deprel)"
      ],
      "metadata": {
        "colab": {
          "base_uri": "https://localhost:8080/"
        },
        "id": "f8HyWIaRegm1",
        "outputId": "c5d50813-fb32-4f28-c4b7-cff9fd1f02b4"
      },
      "execution_count": null,
      "outputs": [
        {
          "output_type": "stream",
          "name": "stdout",
          "text": [
            "Синтаксическая роль obl\n"
          ]
        }
      ]
    },
    {
      "cell_type": "markdown",
      "source": [
        "## Немного практики\n",
        "\n",
        "<br>\n",
        "\n",
        "*spaCy* можно использовать для распознавания именнованных сущностей, выделять в тексте имена людей, организаций, мест и под.\n",
        "\n",
        "<br>\n",
        "\n",
        "Возьмите этот текст и выпишите из него все \"именнованные сущности\". Вам поможет код:\n",
        "\n",
        "```\n",
        "for ent in doc.ents:\n",
        "    print(ent.text, ent.label_)\n",
        "```"
      ],
      "metadata": {
        "id": "rpUaZeaPt93U"
      }
    },
    {
      "cell_type": "code",
      "source": [
        "a = '''Двухэтажный угловой домик на Елисейских полях в Нью-Орлеане - улице\n",
        "между рекой и железнодорожными путями. Убогая окраина, и есть в ней, однако,\n",
        "в ее захудалости - не  в  пример  таким  же  задворкам  других  великих\n",
        "американских городов - какая-то совершенно особая, забористая краса. Дома\n",
        "здесь  все больше белые, пооблинявшие от непогоды, с вычурными фронтонами,\n",
        "обстроены шаткими лесенками и галерейками. В домике две квартиры - вверху и\n",
        "внизу, к дверям обеих ведут обшарпанные белые лесенки.\n",
        "\n",
        "Из-за угла с чемоданом в руке подходит Бланш. Смотрит на клочок бумаги,\n",
        "на дом, снова на записку и снова на дом. Непонятно поражена и словно не\n",
        "верит глазам своим.\n",
        "\n",
        "Она лет на пять старше Стеллы.'''"
      ],
      "metadata": {
        "id": "qwIjIWGBzxrC"
      },
      "execution_count": null,
      "outputs": []
    },
    {
      "cell_type": "code",
      "source": [
        "# YOUR CODE HERE"
      ],
      "metadata": {
        "id": "q4w98H3ZxkzY"
      },
      "execution_count": null,
      "outputs": []
    },
    {
      "cell_type": "markdown",
      "source": [
        "## Сравним\n",
        "\n",
        "Обе библиотеки используюют для разметки модели машинного обучения. У этого есть ряд достоинств:\n",
        "<br>\n",
        "<br>\n",
        "\n",
        "\n",
        "*   наивысшая точность;\n",
        "*   снятие неоднозначности с опорой на контекст;\n",
        "*   более точные предсказания для редких / новых слов, которых нет в словаре.\n",
        "\n",
        "<br>\n",
        "\n",
        "\n",
        "Но есть свои недостатки:\n",
        "\n",
        "<br>\n",
        "\n",
        "*   работают дольше;\n",
        "*   испытывают влияние обучающей выборки (например, spaCy обучался на новостных текстах и лучше справляется именно с ними).\n",
        "\n",
        "<br>\n",
        "\n",
        "**Немного о синтаксической разметке**.\n",
        "\n",
        "У нее, как и у морфологической, есть свои обозначения. Подробнее - [здесь](https://universaldependencies.org/ru/index.html).\n",
        "\n",
        "Все это сильно отличается от того синтаксиса, который преподаётся в школе. Но пригодится вам, скорее всего, только это:\n",
        "\n",
        "<br>\n",
        "\n",
        "*   nsubj - подлежащее-существительное,\n",
        "*   obj - прямое дополнение (то, что в винительном падеже и без предлога),\n",
        "*   obl - косвенное дополнение,\n",
        "*   amod - прилагательное-определение,\n",
        "*   advmod - наречие-обстоятельство,\n",
        "*   nmod - зависимое существительное в родительном падеже или с предлогом."
      ],
      "metadata": {
        "id": "VbiBZk5KhcWK"
      }
    },
    {
      "cell_type": "markdown",
      "source": [
        "# Сравнение библиотек\n",
        "\n",
        "\n",
        "|  Библиотека |  Метод | Качество  |  Скорость | Требовательность к ресурсам  |\n",
        "|:---|:---:|:---:|:---:|:---:|\n",
        "| pymorphy2  |  правила | среднее  | высокая  | очень низкая |\n",
        "|  Pymystem3 | правила  | высокое  | высокая  | низкая  |\n",
        "|  Spacy |  машинное обучение |  высокое | средняя  | средняя  |\n",
        "|  Stanza |  машинное обучение |  очень высокое | низкая  | высокая  |"
      ],
      "metadata": {
        "id": "VmP1CPF4kc07"
      }
    },
    {
      "cell_type": "markdown",
      "source": [
        "# Работаем с текстами большого объема"
      ],
      "metadata": {
        "id": "Q7Bu5bkRlWLl"
      }
    },
    {
      "cell_type": "markdown",
      "source": [
        "Возьмем датасет с несколькими сотнями новостей с сайта Панорама."
      ],
      "metadata": {
        "id": "9XhyVWHzlZpx"
      }
    },
    {
      "cell_type": "code",
      "source": [
        "import pandas as pd # библиотека для работы с таблицами (о ней - на следующем семинаре)\n",
        "import numpy as np # библиотека для выполнения быстрых математических вычислений\n",
        "\n",
        "! wget https://raw.githubusercontent.com/knapweedss/TextMining_HSE/main/2023_spring/sem3/panorama_corpus.tsv"
      ],
      "metadata": {
        "colab": {
          "base_uri": "https://localhost:8080/"
        },
        "id": "DBOgS83ilio_",
        "outputId": "4278df04-8631-4c2f-d903-dc8a2cbd7cb5"
      },
      "execution_count": null,
      "outputs": [
        {
          "output_type": "stream",
          "name": "stdout",
          "text": [
            "--2024-09-10 12:14:06--  https://raw.githubusercontent.com/knapweedss/TextMining_HSE/main/2023_spring/sem3/panorama_corpus.tsv\n",
            "Resolving raw.githubusercontent.com (raw.githubusercontent.com)... 185.199.110.133, 185.199.111.133, 185.199.108.133, ...\n",
            "Connecting to raw.githubusercontent.com (raw.githubusercontent.com)|185.199.110.133|:443... connected.\n",
            "HTTP request sent, awaiting response... 200 OK\n",
            "Length: 1515833 (1.4M) [text/plain]\n",
            "Saving to: ‘panorama_corpus.tsv.2’\n",
            "\n",
            "panorama_corpus.tsv 100%[===================>]   1.45M  --.-KB/s    in 0.04s   \n",
            "\n",
            "2024-09-10 12:14:06 (34.0 MB/s) - ‘panorama_corpus.tsv.2’ saved [1515833/1515833]\n",
            "\n"
          ]
        }
      ]
    },
    {
      "cell_type": "code",
      "source": [
        "! ls"
      ],
      "metadata": {
        "colab": {
          "base_uri": "https://localhost:8080/"
        },
        "id": "scSTNqgZmwwE",
        "outputId": "0965402d-53b1-4118-c5d8-1f8a9a25849d"
      },
      "execution_count": null,
      "outputs": [
        {
          "output_type": "stream",
          "name": "stdout",
          "text": [
            "panorama_corpus.tsv  panorama_corpus.tsv.1  panorama_corpus.tsv.2  sample_data\n"
          ]
        }
      ]
    },
    {
      "cell_type": "code",
      "source": [
        "panorama_corpus = pd.read_csv('panorama_corpus.tsv', sep='\\t')\n",
        "panorama_corpus"
      ],
      "metadata": {
        "colab": {
          "base_uri": "https://localhost:8080/",
          "height": 424
        },
        "id": "Bw4lJB3xm0ud",
        "outputId": "a1f5f8b2-ce62-44b9-dde9-59903530bcfc"
      },
      "execution_count": null,
      "outputs": [
        {
          "output_type": "execute_result",
          "data": {
            "text/plain": [
              "     index        date     sphere  \\\n",
              "0        0    4-3-2023   Общество   \n",
              "1        1    4-3-2023   Политика   \n",
              "2        2    4-3-2023   Политика   \n",
              "3        3    4-3-2023   Политика   \n",
              "4        4    3-3-2023   Общество   \n",
              "..     ...         ...        ...   \n",
              "620    620  25-11-2022  Экономика   \n",
              "621    621  25-11-2022   Общество   \n",
              "622    622  25-11-2022   Общество   \n",
              "623    623  25-11-2022   Общество   \n",
              "624    624  25-11-2022   Политика   \n",
              "\n",
              "                                                 title  \\\n",
              "0    Гражданам разрешили добывать нефть и газ на св...   \n",
              "1    Китай подал заявку на вступление в Союзное гос...   \n",
              "2    Деколонизаторки из Франции потребовали вернуть...   \n",
              "3    Победа России: Госдума пересмотрела результаты...   \n",
              "4          Бездетных россиян будут ежегодно штрафовать   \n",
              "..                                                 ...   \n",
              "620  Напиток «Буратино» уходит из России вместе с C...   \n",
              "621  В Нижневартовске разыскивают местного жителя, ...   \n",
              "622    Петербург учредит свой собственный часовой пояс   \n",
              "623  Каждый россиянин получит бесплатно по ящику во...   \n",
              "624  Германия потребовала репараций за оккупацию те...   \n",
              "\n",
              "                                                  text  \\\n",
              "0    Государственная дума приняла в третьем чтении ...   \n",
              "1    Заведующий Канцелярией Комиссии ЦК КПК по инос...   \n",
              "2    Активисты движения «Смерть колониализму» из Па...   \n",
              "3    Государственная дума приняла постановление «Об...   \n",
              "4    Государственная дума приняла в первом чтении з...   \n",
              "..                                                 ...   \n",
              "620  Знаменитый советский лимонад «Буратино» оконча...   \n",
              "621  В Нижневартовске ищут местного жителя, который...   \n",
              "622  Депутаты Заксобрания Петербурга единогласно пр...   \n",
              "623  C 10 декабря каждый гражданин России сможет бе...   \n",
              "624  Бундестаг единогласно проголосовал за резолюци...   \n",
              "\n",
              "                                                  link  \n",
              "0    https://panorama.pub/news/grazdanam-razresili-...  \n",
              "1    https://panorama.pub/news/kitaj-podal-zaavku-n...  \n",
              "2    https://panorama.pub/news/dekolonizatorki-iz-f...  \n",
              "3    https://panorama.pub/news/gosduma-peresmotrela...  \n",
              "4    https://panorama.pub/news/bezdetnyh-rossian-pr...  \n",
              "..                                                 ...  \n",
              "620  https://panorama.pub/news/napitok-buratino-uho...  \n",
              "621  https://panorama.pub/news/v-niznevartovske-raz...  \n",
              "622  https://panorama.pub/news/peterburg-perejdet-n...  \n",
              "623  https://panorama.pub/news/kazdyj-rossianin-pol...  \n",
              "624  https://panorama.pub/news/germania-potrebovala...  \n",
              "\n",
              "[625 rows x 6 columns]"
            ],
            "text/html": [
              "\n",
              "  <div id=\"df-9db5a65d-1a8d-490c-bd62-e0f58c5dfb1f\" class=\"colab-df-container\">\n",
              "    <div>\n",
              "<style scoped>\n",
              "    .dataframe tbody tr th:only-of-type {\n",
              "        vertical-align: middle;\n",
              "    }\n",
              "\n",
              "    .dataframe tbody tr th {\n",
              "        vertical-align: top;\n",
              "    }\n",
              "\n",
              "    .dataframe thead th {\n",
              "        text-align: right;\n",
              "    }\n",
              "</style>\n",
              "<table border=\"1\" class=\"dataframe\">\n",
              "  <thead>\n",
              "    <tr style=\"text-align: right;\">\n",
              "      <th></th>\n",
              "      <th>index</th>\n",
              "      <th>date</th>\n",
              "      <th>sphere</th>\n",
              "      <th>title</th>\n",
              "      <th>text</th>\n",
              "      <th>link</th>\n",
              "    </tr>\n",
              "  </thead>\n",
              "  <tbody>\n",
              "    <tr>\n",
              "      <th>0</th>\n",
              "      <td>0</td>\n",
              "      <td>4-3-2023</td>\n",
              "      <td>Общество</td>\n",
              "      <td>Гражданам разрешили добывать нефть и газ на св...</td>\n",
              "      <td>Государственная дума приняла в третьем чтении ...</td>\n",
              "      <td>https://panorama.pub/news/grazdanam-razresili-...</td>\n",
              "    </tr>\n",
              "    <tr>\n",
              "      <th>1</th>\n",
              "      <td>1</td>\n",
              "      <td>4-3-2023</td>\n",
              "      <td>Политика</td>\n",
              "      <td>Китай подал заявку на вступление в Союзное гос...</td>\n",
              "      <td>Заведующий Канцелярией Комиссии ЦК КПК по инос...</td>\n",
              "      <td>https://panorama.pub/news/kitaj-podal-zaavku-n...</td>\n",
              "    </tr>\n",
              "    <tr>\n",
              "      <th>2</th>\n",
              "      <td>2</td>\n",
              "      <td>4-3-2023</td>\n",
              "      <td>Политика</td>\n",
              "      <td>Деколонизаторки из Франции потребовали вернуть...</td>\n",
              "      <td>Активисты движения «Смерть колониализму» из Па...</td>\n",
              "      <td>https://panorama.pub/news/dekolonizatorki-iz-f...</td>\n",
              "    </tr>\n",
              "    <tr>\n",
              "      <th>3</th>\n",
              "      <td>3</td>\n",
              "      <td>4-3-2023</td>\n",
              "      <td>Политика</td>\n",
              "      <td>Победа России: Госдума пересмотрела результаты...</td>\n",
              "      <td>Государственная дума приняла постановление «Об...</td>\n",
              "      <td>https://panorama.pub/news/gosduma-peresmotrela...</td>\n",
              "    </tr>\n",
              "    <tr>\n",
              "      <th>4</th>\n",
              "      <td>4</td>\n",
              "      <td>3-3-2023</td>\n",
              "      <td>Общество</td>\n",
              "      <td>Бездетных россиян будут ежегодно штрафовать</td>\n",
              "      <td>Государственная дума приняла в первом чтении з...</td>\n",
              "      <td>https://panorama.pub/news/bezdetnyh-rossian-pr...</td>\n",
              "    </tr>\n",
              "    <tr>\n",
              "      <th>...</th>\n",
              "      <td>...</td>\n",
              "      <td>...</td>\n",
              "      <td>...</td>\n",
              "      <td>...</td>\n",
              "      <td>...</td>\n",
              "      <td>...</td>\n",
              "    </tr>\n",
              "    <tr>\n",
              "      <th>620</th>\n",
              "      <td>620</td>\n",
              "      <td>25-11-2022</td>\n",
              "      <td>Экономика</td>\n",
              "      <td>Напиток «Буратино» уходит из России вместе с C...</td>\n",
              "      <td>Знаменитый советский лимонад «Буратино» оконча...</td>\n",
              "      <td>https://panorama.pub/news/napitok-buratino-uho...</td>\n",
              "    </tr>\n",
              "    <tr>\n",
              "      <th>621</th>\n",
              "      <td>621</td>\n",
              "      <td>25-11-2022</td>\n",
              "      <td>Общество</td>\n",
              "      <td>В Нижневартовске разыскивают местного жителя, ...</td>\n",
              "      <td>В Нижневартовске ищут местного жителя, который...</td>\n",
              "      <td>https://panorama.pub/news/v-niznevartovske-raz...</td>\n",
              "    </tr>\n",
              "    <tr>\n",
              "      <th>622</th>\n",
              "      <td>622</td>\n",
              "      <td>25-11-2022</td>\n",
              "      <td>Общество</td>\n",
              "      <td>Петербург учредит свой собственный часовой пояс</td>\n",
              "      <td>Депутаты Заксобрания Петербурга единогласно пр...</td>\n",
              "      <td>https://panorama.pub/news/peterburg-perejdet-n...</td>\n",
              "    </tr>\n",
              "    <tr>\n",
              "      <th>623</th>\n",
              "      <td>623</td>\n",
              "      <td>25-11-2022</td>\n",
              "      <td>Общество</td>\n",
              "      <td>Каждый россиянин получит бесплатно по ящику во...</td>\n",
              "      <td>C 10 декабря каждый гражданин России сможет бе...</td>\n",
              "      <td>https://panorama.pub/news/kazdyj-rossianin-pol...</td>\n",
              "    </tr>\n",
              "    <tr>\n",
              "      <th>624</th>\n",
              "      <td>624</td>\n",
              "      <td>25-11-2022</td>\n",
              "      <td>Политика</td>\n",
              "      <td>Германия потребовала репараций за оккупацию те...</td>\n",
              "      <td>Бундестаг единогласно проголосовал за резолюци...</td>\n",
              "      <td>https://panorama.pub/news/germania-potrebovala...</td>\n",
              "    </tr>\n",
              "  </tbody>\n",
              "</table>\n",
              "<p>625 rows × 6 columns</p>\n",
              "</div>\n",
              "    <div class=\"colab-df-buttons\">\n",
              "\n",
              "  <div class=\"colab-df-container\">\n",
              "    <button class=\"colab-df-convert\" onclick=\"convertToInteractive('df-9db5a65d-1a8d-490c-bd62-e0f58c5dfb1f')\"\n",
              "            title=\"Convert this dataframe to an interactive table.\"\n",
              "            style=\"display:none;\">\n",
              "\n",
              "  <svg xmlns=\"http://www.w3.org/2000/svg\" height=\"24px\" viewBox=\"0 -960 960 960\">\n",
              "    <path d=\"M120-120v-720h720v720H120Zm60-500h600v-160H180v160Zm220 220h160v-160H400v160Zm0 220h160v-160H400v160ZM180-400h160v-160H180v160Zm440 0h160v-160H620v160ZM180-180h160v-160H180v160Zm440 0h160v-160H620v160Z\"/>\n",
              "  </svg>\n",
              "    </button>\n",
              "\n",
              "  <style>\n",
              "    .colab-df-container {\n",
              "      display:flex;\n",
              "      gap: 12px;\n",
              "    }\n",
              "\n",
              "    .colab-df-convert {\n",
              "      background-color: #E8F0FE;\n",
              "      border: none;\n",
              "      border-radius: 50%;\n",
              "      cursor: pointer;\n",
              "      display: none;\n",
              "      fill: #1967D2;\n",
              "      height: 32px;\n",
              "      padding: 0 0 0 0;\n",
              "      width: 32px;\n",
              "    }\n",
              "\n",
              "    .colab-df-convert:hover {\n",
              "      background-color: #E2EBFA;\n",
              "      box-shadow: 0px 1px 2px rgba(60, 64, 67, 0.3), 0px 1px 3px 1px rgba(60, 64, 67, 0.15);\n",
              "      fill: #174EA6;\n",
              "    }\n",
              "\n",
              "    .colab-df-buttons div {\n",
              "      margin-bottom: 4px;\n",
              "    }\n",
              "\n",
              "    [theme=dark] .colab-df-convert {\n",
              "      background-color: #3B4455;\n",
              "      fill: #D2E3FC;\n",
              "    }\n",
              "\n",
              "    [theme=dark] .colab-df-convert:hover {\n",
              "      background-color: #434B5C;\n",
              "      box-shadow: 0px 1px 3px 1px rgba(0, 0, 0, 0.15);\n",
              "      filter: drop-shadow(0px 1px 2px rgba(0, 0, 0, 0.3));\n",
              "      fill: #FFFFFF;\n",
              "    }\n",
              "  </style>\n",
              "\n",
              "    <script>\n",
              "      const buttonEl =\n",
              "        document.querySelector('#df-9db5a65d-1a8d-490c-bd62-e0f58c5dfb1f button.colab-df-convert');\n",
              "      buttonEl.style.display =\n",
              "        google.colab.kernel.accessAllowed ? 'block' : 'none';\n",
              "\n",
              "      async function convertToInteractive(key) {\n",
              "        const element = document.querySelector('#df-9db5a65d-1a8d-490c-bd62-e0f58c5dfb1f');\n",
              "        const dataTable =\n",
              "          await google.colab.kernel.invokeFunction('convertToInteractive',\n",
              "                                                    [key], {});\n",
              "        if (!dataTable) return;\n",
              "\n",
              "        const docLinkHtml = 'Like what you see? Visit the ' +\n",
              "          '<a target=\"_blank\" href=https://colab.research.google.com/notebooks/data_table.ipynb>data table notebook</a>'\n",
              "          + ' to learn more about interactive tables.';\n",
              "        element.innerHTML = '';\n",
              "        dataTable['output_type'] = 'display_data';\n",
              "        await google.colab.output.renderOutput(dataTable, element);\n",
              "        const docLink = document.createElement('div');\n",
              "        docLink.innerHTML = docLinkHtml;\n",
              "        element.appendChild(docLink);\n",
              "      }\n",
              "    </script>\n",
              "  </div>\n",
              "\n",
              "\n",
              "<div id=\"df-e304424a-70cc-4747-991e-664d39f1212f\">\n",
              "  <button class=\"colab-df-quickchart\" onclick=\"quickchart('df-e304424a-70cc-4747-991e-664d39f1212f')\"\n",
              "            title=\"Suggest charts\"\n",
              "            style=\"display:none;\">\n",
              "\n",
              "<svg xmlns=\"http://www.w3.org/2000/svg\" height=\"24px\"viewBox=\"0 0 24 24\"\n",
              "     width=\"24px\">\n",
              "    <g>\n",
              "        <path d=\"M19 3H5c-1.1 0-2 .9-2 2v14c0 1.1.9 2 2 2h14c1.1 0 2-.9 2-2V5c0-1.1-.9-2-2-2zM9 17H7v-7h2v7zm4 0h-2V7h2v10zm4 0h-2v-4h2v4z\"/>\n",
              "    </g>\n",
              "</svg>\n",
              "  </button>\n",
              "\n",
              "<style>\n",
              "  .colab-df-quickchart {\n",
              "      --bg-color: #E8F0FE;\n",
              "      --fill-color: #1967D2;\n",
              "      --hover-bg-color: #E2EBFA;\n",
              "      --hover-fill-color: #174EA6;\n",
              "      --disabled-fill-color: #AAA;\n",
              "      --disabled-bg-color: #DDD;\n",
              "  }\n",
              "\n",
              "  [theme=dark] .colab-df-quickchart {\n",
              "      --bg-color: #3B4455;\n",
              "      --fill-color: #D2E3FC;\n",
              "      --hover-bg-color: #434B5C;\n",
              "      --hover-fill-color: #FFFFFF;\n",
              "      --disabled-bg-color: #3B4455;\n",
              "      --disabled-fill-color: #666;\n",
              "  }\n",
              "\n",
              "  .colab-df-quickchart {\n",
              "    background-color: var(--bg-color);\n",
              "    border: none;\n",
              "    border-radius: 50%;\n",
              "    cursor: pointer;\n",
              "    display: none;\n",
              "    fill: var(--fill-color);\n",
              "    height: 32px;\n",
              "    padding: 0;\n",
              "    width: 32px;\n",
              "  }\n",
              "\n",
              "  .colab-df-quickchart:hover {\n",
              "    background-color: var(--hover-bg-color);\n",
              "    box-shadow: 0 1px 2px rgba(60, 64, 67, 0.3), 0 1px 3px 1px rgba(60, 64, 67, 0.15);\n",
              "    fill: var(--button-hover-fill-color);\n",
              "  }\n",
              "\n",
              "  .colab-df-quickchart-complete:disabled,\n",
              "  .colab-df-quickchart-complete:disabled:hover {\n",
              "    background-color: var(--disabled-bg-color);\n",
              "    fill: var(--disabled-fill-color);\n",
              "    box-shadow: none;\n",
              "  }\n",
              "\n",
              "  .colab-df-spinner {\n",
              "    border: 2px solid var(--fill-color);\n",
              "    border-color: transparent;\n",
              "    border-bottom-color: var(--fill-color);\n",
              "    animation:\n",
              "      spin 1s steps(1) infinite;\n",
              "  }\n",
              "\n",
              "  @keyframes spin {\n",
              "    0% {\n",
              "      border-color: transparent;\n",
              "      border-bottom-color: var(--fill-color);\n",
              "      border-left-color: var(--fill-color);\n",
              "    }\n",
              "    20% {\n",
              "      border-color: transparent;\n",
              "      border-left-color: var(--fill-color);\n",
              "      border-top-color: var(--fill-color);\n",
              "    }\n",
              "    30% {\n",
              "      border-color: transparent;\n",
              "      border-left-color: var(--fill-color);\n",
              "      border-top-color: var(--fill-color);\n",
              "      border-right-color: var(--fill-color);\n",
              "    }\n",
              "    40% {\n",
              "      border-color: transparent;\n",
              "      border-right-color: var(--fill-color);\n",
              "      border-top-color: var(--fill-color);\n",
              "    }\n",
              "    60% {\n",
              "      border-color: transparent;\n",
              "      border-right-color: var(--fill-color);\n",
              "    }\n",
              "    80% {\n",
              "      border-color: transparent;\n",
              "      border-right-color: var(--fill-color);\n",
              "      border-bottom-color: var(--fill-color);\n",
              "    }\n",
              "    90% {\n",
              "      border-color: transparent;\n",
              "      border-bottom-color: var(--fill-color);\n",
              "    }\n",
              "  }\n",
              "</style>\n",
              "\n",
              "  <script>\n",
              "    async function quickchart(key) {\n",
              "      const quickchartButtonEl =\n",
              "        document.querySelector('#' + key + ' button');\n",
              "      quickchartButtonEl.disabled = true;  // To prevent multiple clicks.\n",
              "      quickchartButtonEl.classList.add('colab-df-spinner');\n",
              "      try {\n",
              "        const charts = await google.colab.kernel.invokeFunction(\n",
              "            'suggestCharts', [key], {});\n",
              "      } catch (error) {\n",
              "        console.error('Error during call to suggestCharts:', error);\n",
              "      }\n",
              "      quickchartButtonEl.classList.remove('colab-df-spinner');\n",
              "      quickchartButtonEl.classList.add('colab-df-quickchart-complete');\n",
              "    }\n",
              "    (() => {\n",
              "      let quickchartButtonEl =\n",
              "        document.querySelector('#df-e304424a-70cc-4747-991e-664d39f1212f button');\n",
              "      quickchartButtonEl.style.display =\n",
              "        google.colab.kernel.accessAllowed ? 'block' : 'none';\n",
              "    })();\n",
              "  </script>\n",
              "</div>\n",
              "    </div>\n",
              "  </div>\n"
            ],
            "application/vnd.google.colaboratory.intrinsic+json": {
              "type": "dataframe",
              "variable_name": "panorama_corpus",
              "summary": "{\n  \"name\": \"panorama_corpus\",\n  \"rows\": 625,\n  \"fields\": [\n    {\n      \"column\": \"index\",\n      \"properties\": {\n        \"dtype\": \"number\",\n        \"std\": 180,\n        \"min\": 0,\n        \"max\": 624,\n        \"num_unique_values\": 625,\n        \"samples\": [\n          447,\n          485,\n          215\n        ],\n        \"semantic_type\": \"\",\n        \"description\": \"\"\n      }\n    },\n    {\n      \"column\": \"date\",\n      \"properties\": {\n        \"dtype\": \"category\",\n        \"num_unique_values\": 100,\n        \"samples\": [\n          \"11-12-2022\",\n          \"10-1-2023\",\n          \"24-12-2022\"\n        ],\n        \"semantic_type\": \"\",\n        \"description\": \"\"\n      }\n    },\n    {\n      \"column\": \"sphere\",\n      \"properties\": {\n        \"dtype\": \"category\",\n        \"num_unique_values\": 6,\n        \"samples\": [\n          \"\\u041e\\u0431\\u0449\\u0435\\u0441\\u0442\\u0432\\u043e\",\n          \"\\u041f\\u043e\\u043b\\u0438\\u0442\\u0438\\u043a\\u0430\",\n          \"\\u0421\\u0442\\u0430\\u0442\\u044c\\u0438\"\n        ],\n        \"semantic_type\": \"\",\n        \"description\": \"\"\n      }\n    },\n    {\n      \"column\": \"title\",\n      \"properties\": {\n        \"dtype\": \"string\",\n        \"num_unique_values\": 625,\n        \"samples\": [\n          \"\\u041f\\u0430\\u043f\\u0430 \\u0420\\u0438\\u043c\\u0441\\u043a\\u0438\\u0439 \\u043f\\u043e\\u043e\\u0431\\u0435\\u0449\\u0430\\u043b 200 \\u0435\\u0432\\u0440\\u043e \\u043a\\u0430\\u0436\\u0434\\u043e\\u043c\\u0443 \\u0440\\u043e\\u0441\\u0441\\u0438\\u044f\\u043d\\u0438\\u043d\\u0443, \\u043e\\u0442\\u043c\\u0435\\u0442\\u0438\\u0432\\u0448\\u0435\\u043c\\u0443 \\u0420\\u043e\\u0436\\u0434\\u0435\\u0441\\u0442\\u0432\\u043e 25 \\u0434\\u0435\\u043a\\u0430\\u0431\\u0440\\u044f\",\n          \"\\u042e\\u0436\\u043d\\u043e\\u0430\\u0444\\u0440\\u0438\\u043a\\u0430\\u043d\\u0441\\u043a\\u0438\\u0439, \\u0432\\u0435\\u043d\\u0435\\u0441\\u0443\\u044d\\u043b\\u044c\\u0441\\u043a\\u0438\\u0439 \\u0438 \\u0431\\u0440\\u0430\\u0437\\u0438\\u043b\\u044c\\u0441\\u043a\\u0438\\u0439: \\u0432 \\u0420\\u043e\\u0441\\u0441\\u0438\\u0438 \\u043f\\u0435\\u0440\\u0435\\u0438\\u043c\\u0435\\u043d\\u0443\\u044e\\u0442 \\u044f\\u0437\\u044b\\u043a\\u0438 \\u043d\\u0435\\u0434\\u0440\\u0443\\u0436\\u0435\\u0441\\u0442\\u0432\\u0435\\u043d\\u043d\\u044b\\u0445 \\u0441\\u0442\\u0440\\u0430\\u043d\",\n          \"\\u041a\\u0442\\u043e \\u043d\\u0435 \\u0441\\u0434\\u0430\\u043b, \\u0442\\u043e\\u0442 \\u043d\\u0435 \\u043b\\u0435\\u0442\\u0438\\u0442. \\u041a\\u043b\\u0438\\u0435\\u043d\\u0442\\u043e\\u0432 \\u00ab\\u041f\\u043e\\u0431\\u0435\\u0434\\u044b\\u00bb \\u0436\\u0434\\u0451\\u0442 \\u044d\\u043a\\u0437\\u0430\\u043c\\u0435\\u043d \\u043f\\u043e \\u043f\\u0440\\u0430\\u0432\\u0438\\u043b\\u0430\\u043c \\u0431\\u0435\\u0437\\u043e\\u043f\\u0430\\u0441\\u043d\\u043e\\u0441\\u0442\\u0438 \\u043f\\u0435\\u0440\\u0435\\u0434 \\u043a\\u0430\\u0436\\u0434\\u044b\\u043c \\u043f\\u043e\\u043b\\u0451\\u0442\\u043e\\u043c\"\n        ],\n        \"semantic_type\": \"\",\n        \"description\": \"\"\n      }\n    },\n    {\n      \"column\": \"text\",\n      \"properties\": {\n        \"dtype\": \"string\",\n        \"num_unique_values\": 625,\n        \"samples\": [\n          \"\\u041f\\u0430\\u043f\\u0430 \\u0420\\u0438\\u043c\\u0441\\u043a\\u0438\\u0439 \\u0424\\u0440\\u0430\\u043d\\u0446\\u0438\\u0441\\u043a \\u0432\\u044b\\u0441\\u0442\\u0443\\u043f\\u0438\\u043b \\u0441 \\u043e\\u0431\\u0440\\u0430\\u0449\\u0435\\u043d\\u0438\\u0435\\u043c \\u043a \\u043f\\u0440\\u0438\\u0445\\u043e\\u0436\\u0430\\u043d\\u0430\\u043c \\u0420\\u0443\\u0441\\u0441\\u043a\\u043e\\u0439 \\u043f\\u0440\\u0430\\u0432\\u043e\\u0441\\u043b\\u0430\\u0432\\u043d\\u043e\\u0439 \\u0446\\u0435\\u0440\\u043a\\u0432\\u0438 \\u0441 \\u043f\\u0440\\u0438\\u0437\\u044b\\u0432\\u043e\\u043c \\u043e\\u0442\\u043c\\u0435\\u0447\\u0430\\u0442\\u044c \\u043f\\u0440\\u0430\\u0437\\u0434\\u043d\\u0438\\u043a \\u0420\\u043e\\u0436\\u0434\\u0435\\u0441\\u0442\\u0432\\u0430 \\u0432 \\u0435\\u0434\\u0438\\u043d\\u044b\\u0439 \\u0434\\u0435\\u043d\\u044c \\u043f\\u043e \\u043a\\u0430\\u0442\\u043e\\u043b\\u0438\\u0447\\u0435\\u0441\\u043a\\u043e\\u043c\\u0443 \\u0441\\u0442\\u0438\\u043b\\u044e \\u2014 25 \\u0434\\u0435\\u043a\\u0430\\u0431\\u0440\\u044f. \\u0412 \\u0441\\u0432\\u043e\\u0451\\u043c \\u0432\\u043e\\u0437\\u0437\\u0432\\u0430\\u043d\\u0438\\u0438 \\u043e\\u043d \\u043e\\u0431\\u0435\\u0449\\u0430\\u043b \\u043a\\u0430\\u0436\\u0434\\u043e\\u043c\\u0443, \\u043a\\u0442\\u043e \\u043f\\u043e\\u0441\\u043b\\u0435\\u0434\\u0443\\u0435\\u0442 \\u0435\\u0433\\u043e \\u043f\\u0440\\u0435\\u0434\\u043b\\u043e\\u0436\\u0435\\u043d\\u0438\\u044e, \\u0432\\u044b\\u043f\\u043b\\u0430\\u0442\\u0438\\u0442\\u044c \\u043f\\u043e 200 \\u0435\\u0432\\u0440\\u043e, \\u0447\\u0442\\u043e \\u043f\\u0440\\u0438\\u043c\\u0435\\u0440\\u043d\\u043e \\u0440\\u0430\\u0432\\u043d\\u044f\\u0435\\u0442\\u0441\\u044f 14 600 \\u0440\\u0443\\u0431\\u043b\\u0435\\u0439. \\u00ab\\u0414\\u0435\\u0442\\u0438 \\u043c\\u043e\\u0438, \\u0443 \\u0413\\u043e\\u0441\\u043f\\u043e\\u0434\\u0430 \\u043d\\u0430\\u0448\\u0435\\u0433\\u043e \\u043d\\u0435 \\u043c\\u043e\\u0436\\u0435\\u0442 \\u0431\\u044b\\u0442\\u044c \\u0434\\u0432\\u0430 \\u0434\\u043d\\u044f \\u0440\\u043e\\u0436\\u0434\\u0435\\u043d\\u0438\\u044f, \\u2013 \\u0433\\u043e\\u0432\\u043e\\u0440\\u0438\\u0442 \\u043f\\u043e\\u043d\\u0442\\u0438\\u0444\\u0438\\u043a. \\u2013 \\u041e\\u0448\\u0438\\u0431\\u043a\\u0438 \\u0438\\u0437-\\u0437\\u0430 \\u0440\\u0430\\u0441\\u043a\\u043e\\u043b\\u044c\\u043d\\u0438\\u0447\\u0435\\u0441\\u0442\\u0432\\u0430 \\u043d\\u0435 \\u0442\\u043e\\u043b\\u044c\\u043a\\u043e \\u043d\\u0435 \\u043c\\u0438\\u043b\\u0443\\u044e\\u0442 \\u043f\\u043e\\u0441\\u043b\\u0430\\u043d\\u043d\\u0438\\u043a\\u0430 \\u0418\\u0438\\u0441\\u0443\\u0441\\u0430 \\u0425\\u0440\\u0438\\u0441\\u0442\\u0430, \\u043d\\u043e \\u0438 \\u0441\\u043e\\u0437\\u044b\\u0432\\u0430\\u044e\\u0442 \\u0434\\u044c\\u044f\\u0432\\u043e\\u043b\\u0430 \\u043a\\u0430\\u0436\\u0434\\u044b\\u0439 \\u0440\\u0430\\u0437, \\u043a\\u043e\\u0433\\u0434\\u0430 \\u0440\\u043e\\u0436\\u0434\\u0435\\u0441\\u0442\\u0432\\u0435\\u043d\\u0441\\u043a\\u0430\\u044f \\u0435\\u043b\\u044c \\u0441\\u0432\\u0435\\u0442\\u0438\\u0442\\u0441\\u044f \\u0441\\u0432\\u0435\\u0442\\u043e\\u0438\\u0437\\u043b\\u0443\\u0447\\u0430\\u044e\\u0449\\u0438\\u043c\\u0438 \\u0434\\u0438\\u043e\\u0434\\u0430\\u043c\\u0438 \\u0433\\u0438\\u0440\\u043b\\u044f\\u043d\\u0434 \\u043d\\u0435 \\u0442\\u043e\\u0433\\u0434\\u0430, \\u043a\\u043e\\u0433\\u0434\\u0430 \\u0441\\u043b\\u0435\\u0434\\u0443\\u0435\\u0442. \\u042f \\u043f\\u0440\\u0438\\u0437\\u044b\\u0432\\u0430\\u044e \\u043a\\u0430\\u0436\\u0434\\u043e\\u0433\\u043e \\u043a \\u0441\\u043e\\u0433\\u043b\\u0430\\u0441\\u0438\\u044e \\u0438 \\u0443\\u043c\\u0438\\u0440\\u043e\\u0442\\u0432\\u043e\\u0440\\u0435\\u043d\\u0438\\u044e \\u0432 \\u044d\\u0442\\u043e\\u043c \\u0432\\u043e\\u043f\\u0440\\u043e\\u0441\\u0435 \\u0438 \\u0438\\u0441\\u043a\\u0440\\u0435\\u043d\\u043d\\u0435 \\u043f\\u043e\\u0437\\u0434\\u0440\\u0430\\u0432\\u043b\\u044f\\u044e \\u0441 \\u043d\\u0430\\u0441\\u0442\\u0443\\u043f\\u0430\\u044e\\u0449\\u0438\\u043c \\u0420\\u043e\\u0436\\u0434\\u0435\\u0441\\u0442\\u0432\\u043e\\u043c, \\u043a\\u043e\\u0442\\u043e\\u0440\\u043e\\u0435 \\u043c\\u044b \\u0445\\u043e\\u0442\\u0438\\u043c \\u043e\\u0442\\u043c\\u0435\\u0442\\u0438\\u0442\\u044c \\u0432\\u043c\\u0435\\u0441\\u0442\\u0435 \\u0441 \\u043f\\u0440\\u0430\\u0432\\u043e\\u0441\\u043b\\u0430\\u0432\\u043d\\u044b\\u043c\\u0438 \\u0435\\u0434\\u0438\\u043d\\u043e\\u0432\\u0440\\u0435\\u043c\\u0435\\u043d\\u043d\\u043e \\u2014 25 \\u0434\\u0435\\u043a\\u0430\\u0431\\u0440\\u044f\\u00bb \\u0414\\u043b\\u044f \\u0442\\u043e\\u0433\\u043e, \\u0447\\u0442\\u043e\\u0431\\u044b \\u043f\\u043e\\u043b\\u0443\\u0447\\u0438\\u0442\\u044c \\u0432\\u043e\\u0437\\u043d\\u0430\\u0433\\u0440\\u0430\\u0436\\u0434\\u0435\\u043d\\u0438\\u0435, \\u043d\\u0443\\u0436\\u043d\\u043e \\u043e\\u0431\\u0440\\u0430\\u0442\\u0438\\u0442\\u044c\\u0441\\u044f \\u043b\\u0438\\u0447\\u043d\\u043e \\u0432 \\u0430\\u043f\\u043e\\u0441\\u0442\\u043e\\u043b\\u044c\\u0441\\u043a\\u0443\\u044e \\u043d\\u0443\\u043d\\u0446\\u0438\\u0430\\u0442\\u0443\\u0440\\u0443 \\u0432 \\u041c\\u043e\\u0441\\u043a\\u0432\\u0435 \\u043f\\u043e \\u0430\\u0434\\u0440\\u0435\\u0441\\u0443: \\u0412\\u0430\\u0434\\u043a\\u043e\\u0432\\u0441\\u043a\\u0438\\u0439 \\u043f\\u0435\\u0440\\u0435\\u0443\\u043b\\u043e\\u043a, \\u0434. 7/37, \\u0438\\u043b\\u0438 \\u043f\\u043e \\u0442\\u0435\\u043b\\u0435\\u0444\\u043e\\u043d\\u0443 +7 (495) 726-59-30, \\u043f\\u0440\\u0435\\u0434\\u043e\\u0441\\u0442\\u0430\\u0432\\u0438\\u0432 \\u0434\\u043e\\u043a\\u0443\\u043c\\u0435\\u043d\\u0442\\u044b, \\u043f\\u043e\\u0434\\u0442\\u0432\\u0435\\u0440\\u0436\\u0434\\u0430\\u044e\\u0449\\u0438\\u0435 \\u043b\\u0438\\u0447\\u043d\\u043e\\u0441\\u0442\\u044c, \\u0430 \\u0442\\u0430\\u043a\\u0436\\u0435 \\u043b\\u044e\\u0431\\u044b\\u0435 \\u0434\\u043e\\u043a\\u0430\\u0437\\u0430\\u0442\\u0435\\u043b\\u044c\\u0441\\u0442\\u0432\\u0430 \\u043f\\u0440\\u0430\\u0437\\u0434\\u043d\\u043e\\u0432\\u0430\\u043d\\u0438\\u044f \\u0420\\u043e\\u0436\\u0434\\u0435\\u0441\\u0442\\u0432\\u0430 25 \\u0434\\u0435\\u043a\\u0430\\u0431\\u0440\\u044f.\",\n          \"\\u041f\\u0440\\u0435\\u0437\\u0438\\u0434\\u0438\\u0443\\u043c \\u0420\\u043e\\u0441\\u0441\\u0438\\u0439\\u0441\\u043a\\u043e\\u0439 \\u0430\\u043a\\u0430\\u0434\\u0435\\u043c\\u0438\\u0438 \\u043d\\u0430\\u0443\\u043a \\u0435\\u0434\\u0438\\u043d\\u043e\\u0433\\u043b\\u0430\\u0441\\u043d\\u043e \\u043f\\u043e\\u0434\\u0434\\u0435\\u0440\\u0436\\u0430\\u043b \\u0438\\u043d\\u0438\\u0446\\u0438\\u0430\\u0442\\u0438\\u0432\\u0443 \\u043e\\u0431\\u0449\\u0435\\u0441\\u0442\\u0432\\u0435\\u043d\\u043d\\u043e\\u0439 \\u043e\\u0440\\u0433\\u0430\\u043d\\u0438\\u0437\\u0430\\u0446\\u0438\\u0438 \\u00ab\\u0424\\u0438\\u043b\\u043e\\u043b\\u043e\\u0433\\u0438 \\u0437\\u0430 \\u0420\\u043e\\u0441\\u0441\\u0438\\u044e\\u00bb \\u0438 \\u043f\\u0435\\u0440\\u0435\\u0438\\u043c\\u0435\\u043d\\u043e\\u0432\\u0430\\u043d\\u0438\\u0438 \\u044f\\u0437\\u044b\\u043a\\u043e\\u0432 \\u0440\\u044f\\u0434\\u0430 \\u0441\\u0442\\u0440\\u0430\\u043d\\u0430 \\u0417\\u0430\\u043f\\u0430\\u0434\\u043d\\u043e\\u0439 \\u0415\\u0432\\u0440\\u043e\\u043f\\u044b \\u0438 \\u0421\\u0435\\u0432\\u0435\\u0440\\u043d\\u043e\\u0439 \\u0410\\u043c\\u0435\\u0440\\u0438\\u043a\\u0438. \\u0421 1 \\u044f\\u043d\\u0432\\u0430\\u0440\\u044f 2022 \\u0433\\u043e\\u0434\\u0430 \\u0432\\u0441\\u0435\\u043c \\u0430\\u0432\\u0442\\u043e\\u0440\\u0430\\u043c \\u043d\\u0430\\u0443\\u0447\\u043d\\u044b\\u0445 \\u0440\\u0430\\u0431\\u043e\\u0442 \\u0438 \\u0436\\u0443\\u0440\\u043d\\u0430\\u043b\\u0438\\u0441\\u0442\\u0430\\u043c \\u0440\\u0435\\u043a\\u043e\\u043c\\u0435\\u043d\\u0434\\u0443\\u0435\\u0442\\u0441\\u044f \\u0438\\u0441\\u043f\\u043e\\u043b\\u044c\\u0437\\u043e\\u0432\\u0430\\u0442\\u044c \\u043d\\u043e\\u0432\\u044b\\u0435 \\u043d\\u0430\\u0437\\u0432\\u0430\\u043d\\u0438\\u044f. \\u00ab\\u0421\\u043e\\u0432\\u0440\\u0435\\u043c\\u0435\\u043d\\u043d\\u044b\\u0435 \\u043d\\u0430\\u0437\\u0432\\u0430\\u043d\\u0438\\u044f \\u044f\\u0437\\u044b\\u043a\\u043e\\u0432 \\u0443\\u0445\\u043e\\u0434\\u044f\\u0442 \\u0441\\u0432\\u043e\\u0438\\u043c\\u0438 \\u043a\\u043e\\u0440\\u043d\\u044f\\u043c\\u0438 \\u0432 \\u0433\\u043b\\u0443\\u0431\\u044c \\u0432\\u0435\\u043a\\u043e\\u0432, \\u043a\\u043e\\u0433\\u0434\\u0430 \\u043c\\u0438\\u0440 \\u0431\\u044b\\u043b \\u0441\\u043e\\u0432\\u0435\\u0440\\u0448\\u0435\\u043d\\u043d\\u043e \\u0434\\u0440\\u0443\\u0433\\u0438\\u043c. \\u041d\\u0430\\u043f\\u0440\\u0438\\u043c\\u0435\\u0440, \\u043d\\u0430 \\u043f\\u043e\\u0440\\u0442\\u0443\\u0433\\u0430\\u043b\\u044c\\u0441\\u043a\\u043e\\u043c \\u0441\\u0435\\u0433\\u043e\\u0434\\u043d\\u044f \\u0433\\u043e\\u0432\\u043e\\u0440\\u044f\\u0442 250 \\u043c\\u0438\\u043b\\u043b\\u0438\\u043e\\u043d\\u043e\\u0432 \\u0447\\u0435\\u043b\\u043e\\u0432\\u0435\\u043a, \\u0438\\u0437 \\u043d\\u0438\\u0445 \\u00be \\u043f\\u0440\\u043e\\u0436\\u0438\\u0432\\u0430\\u044e\\u0442 \\u0432 \\u0411\\u0440\\u0430\\u0437\\u0438\\u043b\\u0438\\u0438. \\u041f\\u043e\\u044d\\u0442\\u043e\\u043c\\u0443 \\u043c\\u044b \\u0438 \\u043f\\u0440\\u0435\\u0434\\u043b\\u043e\\u0436\\u0438\\u043b\\u0438 \\u043f\\u0435\\u0440\\u0435\\u0438\\u043c\\u0435\\u043d\\u043e\\u0432\\u0430\\u0442\\u044c \\u0440\\u044f\\u0434 \\u0442\\u0430\\u043a\\u0438\\u0445 \\u044f\\u0437\\u044b\\u043a\\u043e\\u0432\\u00bb, \\u2013 \\u0440\\u0430\\u0441\\u0441\\u043a\\u0430\\u0437\\u0430\\u043b \\u0433\\u043b\\u0430\\u0432\\u0430 \\u00ab\\u0424\\u0438\\u043b\\u043e\\u043b\\u043e\\u0433\\u043e\\u0432 \\u0437\\u0430 \\u0420\\u043e\\u0441\\u0441\\u0438\\u044e\\u00bb \\u0414\\u043c\\u0438\\u0442\\u0440\\u0438\\u0439 \\u0410\\u0440\\u0434\\u0435\\u043b\\u044c. \\u041a\\u0440\\u043e\\u043c\\u0435 \\u043f\\u043e\\u0440\\u0442\\u0443\\u0433\\u0430\\u043b\\u044c\\u0441\\u043a\\u043e\\u0433\\u043e, \\u043d\\u043e\\u0432\\u044b\\u0435 \\u043d\\u0430\\u0437\\u0432\\u0430\\u043d\\u0438\\u044f \\u043f\\u043e\\u043b\\u0443\\u0447\\u0438\\u043b\\u0438 \\u0430\\u043d\\u0433\\u043b\\u0438\\u0439\\u0441\\u043a\\u0438\\u0439, \\u043a\\u043e\\u0442\\u043e\\u0440\\u044b\\u0439 \\u043f\\u0435\\u0440\\u0435\\u0438\\u043c\\u0435\\u043d\\u043e\\u0432\\u0430\\u043b\\u0438 \\u0432 \\u044e\\u0436\\u043d\\u043e\\u0430\\u0444\\u0440\\u0438\\u043a\\u0430\\u043d\\u0441\\u043a\\u0438\\u0439, \\u0438 \\u0438\\u0441\\u043f\\u0430\\u043d\\u0441\\u043a\\u0438\\u0439, \\u043f\\u0435\\u0440\\u0435\\u0438\\u043c\\u0435\\u043d\\u043e\\u0432\\u0430\\u043d\\u043d\\u044b\\u0439 \\u0432 \\u0432\\u0435\\u043d\\u0435\\u0441\\u0443\\u044d\\u043b\\u044c\\u0441\\u043a\\u0438\\u0439 \\u044f\\u0437\\u044b\\u043a. \\u041f\\u043e\\u043a\\u0430 \\u043e\\u0442\\u0432\\u0435\\u0442\\u0441\\u0442\\u0432\\u0435\\u043d\\u043d\\u043e\\u0441\\u0442\\u0438 \\u0437\\u0430 \\u0443\\u043f\\u043e\\u0442\\u0440\\u0435\\u0431\\u043b\\u0435\\u043d\\u0438\\u0435 \\u00ab\\u0441\\u0442\\u0430\\u0440\\u044b\\u0445 \\u043d\\u0430\\u0437\\u0432\\u0430\\u043d\\u0438\\u0439\\u00bb \\u043d\\u0435 \\u043f\\u0440\\u0435\\u0434\\u0443\\u0441\\u043c\\u043e\\u0442\\u0440\\u0435\\u043d\\u043e, \\u043e\\u0434\\u043d\\u0430\\u043a\\u043e \\u0432 \\u043d\\u0430\\u0447\\u0430\\u043b\\u0435 2023 \\u0433\\u043e\\u0434\\u0430 \\u0430\\u043a\\u0442\\u0438\\u0432\\u0438\\u0441\\u0442\\u044b \\u043f\\u043b\\u0430\\u043d\\u0438\\u0440\\u0443\\u044e\\u0442 \\u043e\\u0431\\u0440\\u0430\\u0442\\u0438\\u0442\\u044c\\u0441\\u044f \\u043a \\u0434\\u0435\\u043f\\u0443\\u0442\\u0430\\u0442\\u0430\\u043c \\u0413\\u043e\\u0441\\u0443\\u0434\\u0430\\u0440\\u0441\\u0442\\u0432\\u0435\\u043d\\u043d\\u043e\\u0439 \\u0434\\u0443\\u043c\\u044b \\u0441 \\u043f\\u0440\\u043e\\u0441\\u044c\\u0431\\u043e\\u0439 \\u0432\\u043d\\u0435\\u0441\\u0442\\u0438 \\u0441\\u043e\\u043e\\u0442\\u0432\\u0435\\u0442\\u0441\\u0442\\u0432\\u0443\\u044e\\u0449\\u0438\\u0435 \\u043f\\u043e\\u043f\\u0440\\u0430\\u0432\\u043a\\u0438 \\u0432 \\u041a\\u043e\\u0410\\u041f.\",\n          \"\\u0410\\u0432\\u0438\\u0430\\u043a\\u043e\\u043c\\u043f\\u0430\\u043d\\u0438\\u044f \\u00ab\\u041f\\u043e\\u0431\\u0435\\u0434\\u0430\\u00bb \\u043f\\u0440\\u0438\\u0434\\u0443\\u043c\\u0430\\u043b\\u0430 \\u043d\\u043e\\u0432\\u044b\\u0439 \\u0441\\u043f\\u043e\\u0441\\u043e\\u0431 \\u043e\\u0431\\u0435\\u0437\\u043e\\u043f\\u0430\\u0441\\u0438\\u0442\\u044c \\u043f\\u0430\\u0441\\u0441\\u0430\\u0436\\u0438\\u0440\\u043e\\u0432 \\u0441\\u0432\\u043e\\u0438\\u0445 \\u0440\\u0435\\u0439\\u0441\\u043e\\u0432. \\u0423\\u0447\\u0438\\u0442\\u044b\\u0432\\u0430\\u044f, \\u0447\\u0442\\u043e \\u043c\\u043d\\u043e\\u0433\\u0438\\u0435 \\u0438\\u0437 \\u043d\\u0438\\u0445 \\u043d\\u0435\\u0432\\u043d\\u0438\\u043c\\u0430\\u0442\\u0435\\u043b\\u044c\\u043d\\u043e \\u0441\\u043b\\u0443\\u0448\\u0430\\u044e\\u0442 \\u0438\\u043d\\u0441\\u0442\\u0440\\u0443\\u043a\\u0442\\u0430\\u0436 \\u043f\\u043e \\u0431\\u0435\\u0437\\u043e\\u043f\\u0430\\u0441\\u043d\\u043e\\u0441\\u0442\\u0438, \\u0430 \\u043d\\u0435\\u043a\\u043e\\u0442\\u043e\\u0440\\u044b\\u0435 \\u0434\\u0430\\u0436\\u0435 \\u043d\\u0435 \\u043a\\u043e\\u043d\\u0441\\u043f\\u0435\\u043a\\u0442\\u0438\\u0440\\u0443\\u044e\\u0442 \\u0435\\u0433\\u043e, \\u043e\\u0442\\u043d\\u044b\\u043d\\u0435 \\u0432\\u0441\\u0435\\u043c \\u0436\\u0435\\u043b\\u0430\\u044e\\u0449\\u0438\\u043c \\u0441\\u043e\\u0432\\u0435\\u0440\\u0448\\u0438\\u0442\\u044c \\u043f\\u0435\\u0440\\u0435\\u043b\\u0451\\u0442 \\u043f\\u0440\\u0438\\u0434\\u0451\\u0442\\u0441\\u044f \\u0441\\u0434\\u0430\\u0442\\u044c \\u044d\\u043a\\u0437\\u0430\\u043c\\u0435\\u043d \\u0435\\u0449\\u0451 \\u0432 \\u0430\\u044d\\u0440\\u043e\\u043f\\u043e\\u0440\\u0442\\u0443. \\u042d\\u043a\\u0437\\u0430\\u043c\\u0435\\u043d \\u043d\\u0435\\u043e\\u0431\\u0445\\u043e\\u0434\\u0438\\u043c\\u043e \\u0431\\u0443\\u0434\\u0435\\u0442 \\u0441\\u0434\\u0430\\u0442\\u044c \\u043d\\u0430 \\u0441\\u0442\\u043e\\u0439\\u043a\\u0435 \\u0440\\u0435\\u0433\\u0438\\u0441\\u0442\\u0440\\u0430\\u0446\\u0438\\u0438 \\u043d\\u0435 \\u043c\\u0435\\u043d\\u0435\\u0435 \\u0447\\u0435\\u043c \\u0437\\u0430 30 \\u043c\\u0438\\u043d\\u0443\\u0442, \\u043d\\u043e \\u0438 \\u043d\\u0435 \\u0431\\u043e\\u043b\\u0435\\u0435, \\u0447\\u0435\\u043c \\u0437\\u0430 60 \\u043c\\u0438\\u043d\\u0443\\u0442 \\u0434\\u043e \\u043d\\u0430\\u0447\\u0430\\u043b\\u0430 \\u043f\\u043e\\u0441\\u0430\\u0434\\u043a\\u0438. \\u0414\\u043b\\u044f \\u044d\\u043a\\u0437\\u0430\\u043c\\u0435\\u043d\\u0430\\u0446\\u0438\\u0438 \\u0437\\u0430\\u0434\\u0435\\u0439\\u0441\\u0442\\u0432\\u0443\\u044e\\u0442 \\u043a\\u043e\\u043c\\u043f\\u044c\\u044e\\u0442\\u0435\\u0440 \\u043d\\u0430 \\u0441\\u0442\\u043e\\u0439\\u043a\\u0435, \\u0430 \\u0442\\u0430\\u043c, \\u0433\\u0434\\u0435 \\u044d\\u0442\\u043e \\u043d\\u0435\\u0432\\u043e\\u0437\\u043c\\u043e\\u0436\\u043d\\u043e (\\u043d\\u0430\\u043f\\u0440\\u0438\\u043c\\u0435\\u0440, \\u0432 \\u0440\\u0435\\u0433\\u0438\\u043e\\u043d\\u0430\\u043b\\u044c\\u043d\\u044b\\u0445 \\u0430\\u044d\\u0440\\u043e\\u043f\\u043e\\u0440\\u0442\\u0430\\u0445, \\u043a\\u043e\\u0442\\u043e\\u0440\\u044b\\u0435 \\u0435\\u0449\\u0451 \\u043d\\u0435 \\u044d\\u043b\\u0435\\u043a\\u0442\\u0440\\u0438\\u0444\\u0438\\u0446\\u0438\\u0440\\u043e\\u0432\\u0430\\u043d\\u044b), \\u043f\\u0430\\u0441\\u0441\\u0430\\u0436\\u0438\\u0440\\u0430\\u043c \\u0432\\u044b\\u0434\\u0430\\u0434\\u0443\\u0442 \\u0431\\u0443\\u043c\\u0430\\u0436\\u043d\\u044b\\u0435 \\u0431\\u0438\\u043b\\u0435\\u0442\\u044b. \\u0412 \\u043f\\u0440\\u0435\\u0441\\u0441-\\u0441\\u043b\\u0443\\u0436\\u0431\\u0435 \\u043a\\u043e\\u043c\\u043f\\u0430\\u043d\\u0438\\u0438 \\u0441\\u043e\\u043e\\u0431\\u0449\\u0438\\u043b\\u0438, \\u0447\\u0442\\u043e \\u0447\\u0440\\u0435\\u0437\\u0432\\u044b\\u0447\\u0430\\u0439\\u043d\\u043e \\u0441\\u0435\\u0440\\u044c\\u0451\\u0437\\u043d\\u043e \\u043e\\u0442\\u043d\\u043e\\u0441\\u044f\\u0442\\u0441\\u044f \\u043a \\u0432\\u043e\\u043f\\u0440\\u043e\\u0441\\u0430\\u043c \\u0431\\u0435\\u0437\\u043e\\u043f\\u0430\\u0441\\u043d\\u043e\\u0441\\u0442\\u0438. \\u0418\\u0441\\u0445\\u043e\\u0434\\u044f \\u0438\\u0437 \\u0437\\u0430\\u0431\\u043e\\u0442\\u044b \\u043e \\u043f\\u0430\\u0441\\u0441\\u0430\\u0436\\u0438\\u0440\\u0430\\u0445, \\u0442\\u0435\\u0445 \\u0438\\u0437 \\u043d\\u0438\\u0445, \\u043a\\u0442\\u043e \\u043f\\u0440\\u043e\\u0432\\u0430\\u043b\\u0438\\u043b \\u044d\\u043a\\u0437\\u0430\\u043c\\u0435\\u043d \\u0438 \\u043d\\u0435 \\u0443\\u0441\\u043f\\u0435\\u043b \\u043d\\u0430 \\u043f\\u0435\\u0440\\u0435\\u0441\\u0434\\u0430\\u0447\\u0443 (\\u0434\\u0432\\u0435 \\u043f\\u043b\\u0430\\u0442\\u043d\\u044b\\u0445 \\u043f\\u043e\\u043f\\u044b\\u0442\\u043a\\u0438), \\u043d\\u0435 \\u0434\\u043e\\u043f\\u0443\\u0441\\u0442\\u044f\\u0442 \\u043a \\u043f\\u043e\\u043b\\u0451\\u0442\\u0443.\"\n        ],\n        \"semantic_type\": \"\",\n        \"description\": \"\"\n      }\n    },\n    {\n      \"column\": \"link\",\n      \"properties\": {\n        \"dtype\": \"string\",\n        \"num_unique_values\": 625,\n        \"samples\": [\n          \"https://panorama.pub/54440-papa-rimskij-poobeshhal-200-evro.html\",\n          \"https://panorama.pub/news/prezidium-ran-prinal-resenie-polozit\",\n          \"https://panorama.pub/news/kto-ne-sdal-tot-ne\"\n        ],\n        \"semantic_type\": \"\",\n        \"description\": \"\"\n      }\n    }\n  ]\n}"
            }
          },
          "metadata": {},
          "execution_count": 161
        }
      ]
    },
    {
      "cell_type": "markdown",
      "source": [
        "Будем использовать spaCy.\n",
        "<br>\n",
        "<br>\n",
        "\n",
        "Сначала проанализируем текст только одной новости:"
      ],
      "metadata": {
        "id": "o8DBoWhAnSSf"
      }
    },
    {
      "cell_type": "code",
      "source": [
        "text_analyzed = nlp_spacy(panorama_corpus['text'][0])"
      ],
      "metadata": {
        "id": "Itv2mZ7UpdWx"
      },
      "execution_count": null,
      "outputs": []
    },
    {
      "cell_type": "markdown",
      "source": [
        "Идем по каждому слову и выписываем его начальную форму, морфологические и синтаксические признаки.\n",
        "\n",
        "Каждому слову прописываем номер (нам поможет функция *enumerate()* ). Остановимся на десятом."
      ],
      "metadata": {
        "id": "ofT5OBNwq4Fo"
      }
    },
    {
      "cell_type": "code",
      "source": [
        "for word_index, word in enumerate(text_analyzed):\n",
        "  print([word, word.lemma_, word.pos_, str(word.morph), word.dep_])\n",
        "  if word_index >= 10:\n",
        "    break"
      ],
      "metadata": {
        "colab": {
          "base_uri": "https://localhost:8080/"
        },
        "id": "MvLFroVVrHVp",
        "outputId": "26c92fdd-b9b4-4844-fb31-807672a8d92e"
      },
      "execution_count": null,
      "outputs": [
        {
          "output_type": "stream",
          "name": "stdout",
          "text": [
            "[Государственная, 'государственный', 'ADJ', 'Case=Nom|Degree=Pos|Gender=Fem|Number=Sing', 'amod']\n",
            "[дума, 'дума', 'NOUN', 'Animacy=Inan|Case=Nom|Gender=Fem|Number=Sing', 'nsubj']\n",
            "[приняла, 'принять', 'VERB', 'Aspect=Perf|Gender=Fem|Mood=Ind|Number=Sing|Tense=Past|VerbForm=Fin|Voice=Act', 'ROOT']\n",
            "[в, 'в', 'ADP', '', 'case']\n",
            "[третьем, 'третий', 'ADJ', 'Case=Loc|Degree=Pos|Gender=Neut|Number=Sing', 'amod']\n",
            "[чтении, 'чтение', 'NOUN', 'Animacy=Inan|Case=Loc|Gender=Neut|Number=Sing', 'obl']\n",
            "[законопроект«О, 'законопроект«о', 'NOUN', 'Animacy=Inan|Case=Acc|Gender=Masc|Number=Sing', 'nmod']\n",
            "[внесении, 'внесение', 'NOUN', 'Animacy=Inan|Case=Loc|Gender=Neut|Number=Sing', 'obj']\n",
            "[изменении, 'изменение', 'NOUN', 'Animacy=Inan|Case=Loc|Gender=Neut|Number=Sing', 'nmod']\n",
            "[в, 'в', 'ADP', '', 'case']\n",
            "[порядок, 'порядок', 'NOUN', 'Animacy=Inan|Case=Acc|Gender=Masc|Number=Sing', 'nmod']\n"
          ]
        }
      ]
    },
    {
      "cell_type": "markdown",
      "source": [
        "Теперь сделаем то же самое, но с текстом каждой новости. Это может занять сколько-то времени.\n",
        "\n",
        "Каждому тексту приписываем его номер (с той же функцией *enumerate()* )."
      ],
      "metadata": {
        "id": "qjYo735rr7pB"
      }
    },
    {
      "cell_type": "code",
      "source": [
        "words = []\n",
        "\n",
        "for text_index, row in enumerate(panorama_corpus['text']):\n",
        "  text_analyzed = nlp_spacy(row)\n",
        "  for word_index, word in enumerate(text_analyzed):\n",
        "    words.append([word_index, text_index, word, word.lemma_, word.pos_, str(word.morph), word.dep_])"
      ],
      "metadata": {
        "id": "Y6lYcoG2r_2B"
      },
      "execution_count": null,
      "outputs": []
    },
    {
      "cell_type": "markdown",
      "source": [
        "Добавим все это в таблицу, с которой потом можно будет работать."
      ],
      "metadata": {
        "id": "mYIqkQ_JsYXr"
      }
    },
    {
      "cell_type": "code",
      "source": [
        "cols = ['index', 'text_index', 'word', 'lemma', 'pos', 'morph', 'synt_relation']\n",
        "panorama_by_word = pd.DataFrame(words, columns = cols)\n",
        "\n",
        "panorama_by_word"
      ],
      "metadata": {
        "colab": {
          "base_uri": "https://localhost:8080/",
          "height": 424
        },
        "id": "VZZU39zss6zJ",
        "outputId": "b5e7a617-40f3-4c19-d6fa-cf0d90987909"
      },
      "execution_count": null,
      "outputs": [
        {
          "output_type": "execute_result",
          "data": {
            "text/plain": [
              "        index  text_index             word            lemma    pos  \\\n",
              "0           0           0  Государственная  государственный    ADJ   \n",
              "1           1           0             дума             дума   NOUN   \n",
              "2           2           0          приняла          принять   VERB   \n",
              "3           3           0                в                в    ADP   \n",
              "4           4           0          третьем           третий    ADJ   \n",
              "...       ...         ...              ...              ...    ...   \n",
              "120284    154         624          ставить          ставить   VERB   \n",
              "120285    155         624           вопрос           вопрос   NOUN   \n",
              "120286    156         624         подобным         подобный    ADJ   \n",
              "120287    157         624          образом            образ   NOUN   \n",
              "120288    158         624                »                \"  PUNCT   \n",
              "\n",
              "                                                    morph synt_relation  \n",
              "0              Case=Nom|Degree=Pos|Gender=Fem|Number=Sing          amod  \n",
              "1            Animacy=Inan|Case=Nom|Gender=Fem|Number=Sing         nsubj  \n",
              "2       Aspect=Perf|Gender=Fem|Mood=Ind|Number=Sing|Te...          ROOT  \n",
              "3                                                                  case  \n",
              "4             Case=Loc|Degree=Pos|Gender=Neut|Number=Sing          amod  \n",
              "...                                                   ...           ...  \n",
              "120284                  Aspect=Imp|VerbForm=Inf|Voice=Act         xcomp  \n",
              "120285      Animacy=Inan|Case=Acc|Gender=Masc|Number=Sing           obj  \n",
              "120286        Case=Ins|Degree=Pos|Gender=Masc|Number=Sing          amod  \n",
              "120287      Animacy=Inan|Case=Ins|Gender=Masc|Number=Sing           obl  \n",
              "120288                                                            punct  \n",
              "\n",
              "[120289 rows x 7 columns]"
            ],
            "text/html": [
              "\n",
              "  <div id=\"df-54db283f-1042-413c-af37-421b980e234f\" class=\"colab-df-container\">\n",
              "    <div>\n",
              "<style scoped>\n",
              "    .dataframe tbody tr th:only-of-type {\n",
              "        vertical-align: middle;\n",
              "    }\n",
              "\n",
              "    .dataframe tbody tr th {\n",
              "        vertical-align: top;\n",
              "    }\n",
              "\n",
              "    .dataframe thead th {\n",
              "        text-align: right;\n",
              "    }\n",
              "</style>\n",
              "<table border=\"1\" class=\"dataframe\">\n",
              "  <thead>\n",
              "    <tr style=\"text-align: right;\">\n",
              "      <th></th>\n",
              "      <th>index</th>\n",
              "      <th>text_index</th>\n",
              "      <th>word</th>\n",
              "      <th>lemma</th>\n",
              "      <th>pos</th>\n",
              "      <th>morph</th>\n",
              "      <th>synt_relation</th>\n",
              "    </tr>\n",
              "  </thead>\n",
              "  <tbody>\n",
              "    <tr>\n",
              "      <th>0</th>\n",
              "      <td>0</td>\n",
              "      <td>0</td>\n",
              "      <td>Государственная</td>\n",
              "      <td>государственный</td>\n",
              "      <td>ADJ</td>\n",
              "      <td>Case=Nom|Degree=Pos|Gender=Fem|Number=Sing</td>\n",
              "      <td>amod</td>\n",
              "    </tr>\n",
              "    <tr>\n",
              "      <th>1</th>\n",
              "      <td>1</td>\n",
              "      <td>0</td>\n",
              "      <td>дума</td>\n",
              "      <td>дума</td>\n",
              "      <td>NOUN</td>\n",
              "      <td>Animacy=Inan|Case=Nom|Gender=Fem|Number=Sing</td>\n",
              "      <td>nsubj</td>\n",
              "    </tr>\n",
              "    <tr>\n",
              "      <th>2</th>\n",
              "      <td>2</td>\n",
              "      <td>0</td>\n",
              "      <td>приняла</td>\n",
              "      <td>принять</td>\n",
              "      <td>VERB</td>\n",
              "      <td>Aspect=Perf|Gender=Fem|Mood=Ind|Number=Sing|Te...</td>\n",
              "      <td>ROOT</td>\n",
              "    </tr>\n",
              "    <tr>\n",
              "      <th>3</th>\n",
              "      <td>3</td>\n",
              "      <td>0</td>\n",
              "      <td>в</td>\n",
              "      <td>в</td>\n",
              "      <td>ADP</td>\n",
              "      <td></td>\n",
              "      <td>case</td>\n",
              "    </tr>\n",
              "    <tr>\n",
              "      <th>4</th>\n",
              "      <td>4</td>\n",
              "      <td>0</td>\n",
              "      <td>третьем</td>\n",
              "      <td>третий</td>\n",
              "      <td>ADJ</td>\n",
              "      <td>Case=Loc|Degree=Pos|Gender=Neut|Number=Sing</td>\n",
              "      <td>amod</td>\n",
              "    </tr>\n",
              "    <tr>\n",
              "      <th>...</th>\n",
              "      <td>...</td>\n",
              "      <td>...</td>\n",
              "      <td>...</td>\n",
              "      <td>...</td>\n",
              "      <td>...</td>\n",
              "      <td>...</td>\n",
              "      <td>...</td>\n",
              "    </tr>\n",
              "    <tr>\n",
              "      <th>120284</th>\n",
              "      <td>154</td>\n",
              "      <td>624</td>\n",
              "      <td>ставить</td>\n",
              "      <td>ставить</td>\n",
              "      <td>VERB</td>\n",
              "      <td>Aspect=Imp|VerbForm=Inf|Voice=Act</td>\n",
              "      <td>xcomp</td>\n",
              "    </tr>\n",
              "    <tr>\n",
              "      <th>120285</th>\n",
              "      <td>155</td>\n",
              "      <td>624</td>\n",
              "      <td>вопрос</td>\n",
              "      <td>вопрос</td>\n",
              "      <td>NOUN</td>\n",
              "      <td>Animacy=Inan|Case=Acc|Gender=Masc|Number=Sing</td>\n",
              "      <td>obj</td>\n",
              "    </tr>\n",
              "    <tr>\n",
              "      <th>120286</th>\n",
              "      <td>156</td>\n",
              "      <td>624</td>\n",
              "      <td>подобным</td>\n",
              "      <td>подобный</td>\n",
              "      <td>ADJ</td>\n",
              "      <td>Case=Ins|Degree=Pos|Gender=Masc|Number=Sing</td>\n",
              "      <td>amod</td>\n",
              "    </tr>\n",
              "    <tr>\n",
              "      <th>120287</th>\n",
              "      <td>157</td>\n",
              "      <td>624</td>\n",
              "      <td>образом</td>\n",
              "      <td>образ</td>\n",
              "      <td>NOUN</td>\n",
              "      <td>Animacy=Inan|Case=Ins|Gender=Masc|Number=Sing</td>\n",
              "      <td>obl</td>\n",
              "    </tr>\n",
              "    <tr>\n",
              "      <th>120288</th>\n",
              "      <td>158</td>\n",
              "      <td>624</td>\n",
              "      <td>»</td>\n",
              "      <td>\"</td>\n",
              "      <td>PUNCT</td>\n",
              "      <td></td>\n",
              "      <td>punct</td>\n",
              "    </tr>\n",
              "  </tbody>\n",
              "</table>\n",
              "<p>120289 rows × 7 columns</p>\n",
              "</div>\n",
              "    <div class=\"colab-df-buttons\">\n",
              "\n",
              "  <div class=\"colab-df-container\">\n",
              "    <button class=\"colab-df-convert\" onclick=\"convertToInteractive('df-54db283f-1042-413c-af37-421b980e234f')\"\n",
              "            title=\"Convert this dataframe to an interactive table.\"\n",
              "            style=\"display:none;\">\n",
              "\n",
              "  <svg xmlns=\"http://www.w3.org/2000/svg\" height=\"24px\" viewBox=\"0 -960 960 960\">\n",
              "    <path d=\"M120-120v-720h720v720H120Zm60-500h600v-160H180v160Zm220 220h160v-160H400v160Zm0 220h160v-160H400v160ZM180-400h160v-160H180v160Zm440 0h160v-160H620v160ZM180-180h160v-160H180v160Zm440 0h160v-160H620v160Z\"/>\n",
              "  </svg>\n",
              "    </button>\n",
              "\n",
              "  <style>\n",
              "    .colab-df-container {\n",
              "      display:flex;\n",
              "      gap: 12px;\n",
              "    }\n",
              "\n",
              "    .colab-df-convert {\n",
              "      background-color: #E8F0FE;\n",
              "      border: none;\n",
              "      border-radius: 50%;\n",
              "      cursor: pointer;\n",
              "      display: none;\n",
              "      fill: #1967D2;\n",
              "      height: 32px;\n",
              "      padding: 0 0 0 0;\n",
              "      width: 32px;\n",
              "    }\n",
              "\n",
              "    .colab-df-convert:hover {\n",
              "      background-color: #E2EBFA;\n",
              "      box-shadow: 0px 1px 2px rgba(60, 64, 67, 0.3), 0px 1px 3px 1px rgba(60, 64, 67, 0.15);\n",
              "      fill: #174EA6;\n",
              "    }\n",
              "\n",
              "    .colab-df-buttons div {\n",
              "      margin-bottom: 4px;\n",
              "    }\n",
              "\n",
              "    [theme=dark] .colab-df-convert {\n",
              "      background-color: #3B4455;\n",
              "      fill: #D2E3FC;\n",
              "    }\n",
              "\n",
              "    [theme=dark] .colab-df-convert:hover {\n",
              "      background-color: #434B5C;\n",
              "      box-shadow: 0px 1px 3px 1px rgba(0, 0, 0, 0.15);\n",
              "      filter: drop-shadow(0px 1px 2px rgba(0, 0, 0, 0.3));\n",
              "      fill: #FFFFFF;\n",
              "    }\n",
              "  </style>\n",
              "\n",
              "    <script>\n",
              "      const buttonEl =\n",
              "        document.querySelector('#df-54db283f-1042-413c-af37-421b980e234f button.colab-df-convert');\n",
              "      buttonEl.style.display =\n",
              "        google.colab.kernel.accessAllowed ? 'block' : 'none';\n",
              "\n",
              "      async function convertToInteractive(key) {\n",
              "        const element = document.querySelector('#df-54db283f-1042-413c-af37-421b980e234f');\n",
              "        const dataTable =\n",
              "          await google.colab.kernel.invokeFunction('convertToInteractive',\n",
              "                                                    [key], {});\n",
              "        if (!dataTable) return;\n",
              "\n",
              "        const docLinkHtml = 'Like what you see? Visit the ' +\n",
              "          '<a target=\"_blank\" href=https://colab.research.google.com/notebooks/data_table.ipynb>data table notebook</a>'\n",
              "          + ' to learn more about interactive tables.';\n",
              "        element.innerHTML = '';\n",
              "        dataTable['output_type'] = 'display_data';\n",
              "        await google.colab.output.renderOutput(dataTable, element);\n",
              "        const docLink = document.createElement('div');\n",
              "        docLink.innerHTML = docLinkHtml;\n",
              "        element.appendChild(docLink);\n",
              "      }\n",
              "    </script>\n",
              "  </div>\n",
              "\n",
              "\n",
              "<div id=\"df-c6fdea5c-3242-47a8-ae6c-8189ef66131d\">\n",
              "  <button class=\"colab-df-quickchart\" onclick=\"quickchart('df-c6fdea5c-3242-47a8-ae6c-8189ef66131d')\"\n",
              "            title=\"Suggest charts\"\n",
              "            style=\"display:none;\">\n",
              "\n",
              "<svg xmlns=\"http://www.w3.org/2000/svg\" height=\"24px\"viewBox=\"0 0 24 24\"\n",
              "     width=\"24px\">\n",
              "    <g>\n",
              "        <path d=\"M19 3H5c-1.1 0-2 .9-2 2v14c0 1.1.9 2 2 2h14c1.1 0 2-.9 2-2V5c0-1.1-.9-2-2-2zM9 17H7v-7h2v7zm4 0h-2V7h2v10zm4 0h-2v-4h2v4z\"/>\n",
              "    </g>\n",
              "</svg>\n",
              "  </button>\n",
              "\n",
              "<style>\n",
              "  .colab-df-quickchart {\n",
              "      --bg-color: #E8F0FE;\n",
              "      --fill-color: #1967D2;\n",
              "      --hover-bg-color: #E2EBFA;\n",
              "      --hover-fill-color: #174EA6;\n",
              "      --disabled-fill-color: #AAA;\n",
              "      --disabled-bg-color: #DDD;\n",
              "  }\n",
              "\n",
              "  [theme=dark] .colab-df-quickchart {\n",
              "      --bg-color: #3B4455;\n",
              "      --fill-color: #D2E3FC;\n",
              "      --hover-bg-color: #434B5C;\n",
              "      --hover-fill-color: #FFFFFF;\n",
              "      --disabled-bg-color: #3B4455;\n",
              "      --disabled-fill-color: #666;\n",
              "  }\n",
              "\n",
              "  .colab-df-quickchart {\n",
              "    background-color: var(--bg-color);\n",
              "    border: none;\n",
              "    border-radius: 50%;\n",
              "    cursor: pointer;\n",
              "    display: none;\n",
              "    fill: var(--fill-color);\n",
              "    height: 32px;\n",
              "    padding: 0;\n",
              "    width: 32px;\n",
              "  }\n",
              "\n",
              "  .colab-df-quickchart:hover {\n",
              "    background-color: var(--hover-bg-color);\n",
              "    box-shadow: 0 1px 2px rgba(60, 64, 67, 0.3), 0 1px 3px 1px rgba(60, 64, 67, 0.15);\n",
              "    fill: var(--button-hover-fill-color);\n",
              "  }\n",
              "\n",
              "  .colab-df-quickchart-complete:disabled,\n",
              "  .colab-df-quickchart-complete:disabled:hover {\n",
              "    background-color: var(--disabled-bg-color);\n",
              "    fill: var(--disabled-fill-color);\n",
              "    box-shadow: none;\n",
              "  }\n",
              "\n",
              "  .colab-df-spinner {\n",
              "    border: 2px solid var(--fill-color);\n",
              "    border-color: transparent;\n",
              "    border-bottom-color: var(--fill-color);\n",
              "    animation:\n",
              "      spin 1s steps(1) infinite;\n",
              "  }\n",
              "\n",
              "  @keyframes spin {\n",
              "    0% {\n",
              "      border-color: transparent;\n",
              "      border-bottom-color: var(--fill-color);\n",
              "      border-left-color: var(--fill-color);\n",
              "    }\n",
              "    20% {\n",
              "      border-color: transparent;\n",
              "      border-left-color: var(--fill-color);\n",
              "      border-top-color: var(--fill-color);\n",
              "    }\n",
              "    30% {\n",
              "      border-color: transparent;\n",
              "      border-left-color: var(--fill-color);\n",
              "      border-top-color: var(--fill-color);\n",
              "      border-right-color: var(--fill-color);\n",
              "    }\n",
              "    40% {\n",
              "      border-color: transparent;\n",
              "      border-right-color: var(--fill-color);\n",
              "      border-top-color: var(--fill-color);\n",
              "    }\n",
              "    60% {\n",
              "      border-color: transparent;\n",
              "      border-right-color: var(--fill-color);\n",
              "    }\n",
              "    80% {\n",
              "      border-color: transparent;\n",
              "      border-right-color: var(--fill-color);\n",
              "      border-bottom-color: var(--fill-color);\n",
              "    }\n",
              "    90% {\n",
              "      border-color: transparent;\n",
              "      border-bottom-color: var(--fill-color);\n",
              "    }\n",
              "  }\n",
              "</style>\n",
              "\n",
              "  <script>\n",
              "    async function quickchart(key) {\n",
              "      const quickchartButtonEl =\n",
              "        document.querySelector('#' + key + ' button');\n",
              "      quickchartButtonEl.disabled = true;  // To prevent multiple clicks.\n",
              "      quickchartButtonEl.classList.add('colab-df-spinner');\n",
              "      try {\n",
              "        const charts = await google.colab.kernel.invokeFunction(\n",
              "            'suggestCharts', [key], {});\n",
              "      } catch (error) {\n",
              "        console.error('Error during call to suggestCharts:', error);\n",
              "      }\n",
              "      quickchartButtonEl.classList.remove('colab-df-spinner');\n",
              "      quickchartButtonEl.classList.add('colab-df-quickchart-complete');\n",
              "    }\n",
              "    (() => {\n",
              "      let quickchartButtonEl =\n",
              "        document.querySelector('#df-c6fdea5c-3242-47a8-ae6c-8189ef66131d button');\n",
              "      quickchartButtonEl.style.display =\n",
              "        google.colab.kernel.accessAllowed ? 'block' : 'none';\n",
              "    })();\n",
              "  </script>\n",
              "</div>\n",
              "    </div>\n",
              "  </div>\n"
            ],
            "application/vnd.google.colaboratory.intrinsic+json": {
              "type": "dataframe",
              "variable_name": "panorama_by_word"
            }
          },
          "metadata": {},
          "execution_count": 134
        }
      ]
    }
  ]
}
