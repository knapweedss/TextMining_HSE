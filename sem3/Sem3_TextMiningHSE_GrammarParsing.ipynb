{
  "nbformat": 4,
  "nbformat_minor": 0,
  "metadata": {
    "colab": {
      "provenance": []
    },
    "kernelspec": {
      "name": "python3",
      "display_name": "Python 3"
    },
    "language_info": {
      "name": "python"
    }
  },
  "cells": [
    {
      "cell_type": "markdown",
      "source": [
        "#Грамматика текста как инструмент и инструменты работы с грамматикой\n",
        "\n",
        "## План\n",
        "\n",
        "На практической части семинара мы:\n",
        "\n",
        "- рассмотрим, какие есть библиотеки для работы с грамматикой в тексте\n",
        "- какие преимущества и недостатки есть у разных вариантов\n",
        "- какие в целом встречаются проблемы при разметке текста\n",
        "- посмотрим на конкретных небольших примерах, как строить более сложные запросы с опорой на морфологию и синтаксис"
      ],
      "metadata": {
        "id": "iXxILGaswK8t"
      }
    },
    {
      "cell_type": "code",
      "execution_count": 2,
      "metadata": {
        "id": "n8WD9KWev-CZ"
      },
      "outputs": [],
      "source": [
        "%%capture\n",
        "!pip install pymorphy2\n",
        "!pip install Pymystem3\n",
        "!pip install spacy\n",
        "!pip install stanza"
      ]
    },
    {
      "cell_type": "markdown",
      "source": [
        "##Библиотеки\n",
        "\n",
        "Есть множество библиотек, которые выполняют грамматическую разметку текста. С частью из них вы уже знакомы, потому что они обычно справляются сразу с рядом релевантных для нас задач:\n",
        "\n",
        "- токенизация\n",
        "- лемматизация\n",
        "- определение части речи\n",
        "- морфологическая разметка\n",
        "- синтаксическая разметка\n",
        "- и т. д.\n",
        "\n",
        "Применение таких библиотек обычно выглядит похоже:\n",
        "\n",
        "- подгружается анализатор\n",
        "- создаётся объект, который содержит разметку\n",
        "- далее с помощью встроенных функций / методов к этой разметке можно обращаться"
      ],
      "metadata": {
        "id": "Kk5fYUaF8Xu2"
      }
    },
    {
      "cell_type": "code",
      "source": [
        "text = '''В моей комнате, на стене, висит портрет моего приятеля Карла Ивановича Шустерлинга.\n",
        "Третьего дня, когда я убирал свою комнату, я снял портрет со стены, вытер с него пыль и повесил его обратно.\n",
        "Потом я отошел, чтобы издали взглянуть, не криво ли он висит. Но когда я взглянул, то у меня похолодели ноги, а волосы встали на голове дыбом.\n",
        "Вместо Карла Ивановича Шустерлинга на меня глядел со стены страшный, бородатый старик в дурацкой шапочке. Я с криком выскочил из комнаты.'''"
      ],
      "metadata": {
        "id": "3Nkkh5TK_XN1"
      },
      "execution_count": 6,
      "outputs": []
    },
    {
      "cell_type": "code",
      "source": [
        "#Создаём анализатор\n",
        "from pymorphy2 import MorphAnalyzer\n",
        "morph_pymorphy = MorphAnalyzer()"
      ],
      "metadata": {
        "id": "I2kLF8Mc7r5c"
      },
      "execution_count": 13,
      "outputs": []
    },
    {
      "cell_type": "code",
      "source": [
        "#Анализируем слово\n",
        "word_pymorphy = morph_pymorphy.parse('комнате')\n",
        "word_pymorphy"
      ],
      "metadata": {
        "colab": {
          "base_uri": "https://localhost:8080/"
        },
        "id": "ya0XQJj0D9hA",
        "outputId": "8c9f61da-9f1a-40a3-a415-72fd5dcf93e1"
      },
      "execution_count": 14,
      "outputs": [
        {
          "output_type": "execute_result",
          "data": {
            "text/plain": [
              "[Parse(word='комнате', tag=OpencorporaTag('NOUN,inan,femn sing,loct'), normal_form='комната', score=0.818181, methods_stack=((DictionaryAnalyzer(), 'комнате', 55, 6),)),\n",
              " Parse(word='комнате', tag=OpencorporaTag('NOUN,inan,femn sing,datv'), normal_form='комната', score=0.181818, methods_stack=((DictionaryAnalyzer(), 'комнате', 55, 2),))]"
            ]
          },
          "metadata": {},
          "execution_count": 14
        }
      ]
    },
    {
      "cell_type": "code",
      "source": [
        "#Выводим информацию о морфологических признаках и лемме\n",
        "print(word_pymorphy[0].tag)\n",
        "print(word_pymorphy[0].normal_form)"
      ],
      "metadata": {
        "colab": {
          "base_uri": "https://localhost:8080/"
        },
        "id": "ESzJO-N6Fqxn",
        "outputId": "d53b434d-b7c4-4923-a929-7cb5dcf27cd3"
      },
      "execution_count": 18,
      "outputs": [
        {
          "output_type": "stream",
          "name": "stdout",
          "text": [
            "NOUN,inan,femn sing,loct\n",
            "комната\n"
          ]
        }
      ]
    },
    {
      "cell_type": "code",
      "source": [
        "for word in text"
      ],
      "metadata": {
        "id": "poKQ66PXO2u8"
      },
      "execution_count": null,
      "outputs": []
    },
    {
      "cell_type": "code",
      "source": [
        "#Создаём анализатор\n",
        "from pymystem3 import Mystem\n",
        "morph_mystem = Mystem()"
      ],
      "metadata": {
        "id": "Dko5bN_DExR1"
      },
      "execution_count": 136,
      "outputs": []
    },
    {
      "cell_type": "code",
      "source": [
        "#Анализируем текст\n",
        "text_mystem = morph_mystem.analyze(text)\n",
        "text_mystem[:5]"
      ],
      "metadata": {
        "colab": {
          "base_uri": "https://localhost:8080/"
        },
        "id": "gZ99OSyNFBlw",
        "outputId": "f9f74a7b-79d0-4d5a-bbd7-a48cde262764"
      },
      "execution_count": 23,
      "outputs": [
        {
          "output_type": "execute_result",
          "data": {
            "text/plain": [
              "[{'analysis': [{'lex': 'в', 'wt': 0.9999917878, 'gr': 'PR='}], 'text': 'В'},\n",
              " {'text': ' '},\n",
              " {'analysis': [{'lex': 'мой',\n",
              "    'wt': 1,\n",
              "    'gr': 'APRO=(пр,ед,жен|дат,ед,жен|род,ед,жен|твор,ед,жен)'}],\n",
              "  'text': 'моей'},\n",
              " {'text': ' '},\n",
              " {'analysis': [{'lex': 'комната', 'wt': 1, 'gr': 'S,жен,неод=(пр,ед|дат,ед)'}],\n",
              "  'text': 'комнате'}]"
            ]
          },
          "metadata": {},
          "execution_count": 23
        }
      ]
    },
    {
      "cell_type": "code",
      "source": [
        "#Выводим информацию о морфологических признаках и лемме третьего слова\n",
        "print(text_mystem[4]['analysis'][0]['gr'])\n",
        "print(text_mystem[4]['analysis'][0]['lex'])"
      ],
      "metadata": {
        "colab": {
          "base_uri": "https://localhost:8080/"
        },
        "id": "H8x1JX5rGy6a",
        "outputId": "2d1cfb63-50af-476d-9397-660dd77e0f26"
      },
      "execution_count": 113,
      "outputs": [
        {
          "output_type": "stream",
          "name": "stdout",
          "text": [
            "S,жен,неод=(пр,ед|дат,ед)\n",
            "комната\n"
          ]
        }
      ]
    },
    {
      "cell_type": "markdown",
      "source": [
        "## pymorphy2 и Pymystem3\n",
        "\n",
        "###Общая информация\n",
        "\n",
        "Это библиотеки, разработанные специально для русского языка. pymorphy2 работает непосредственно из Питона. Pymystem3 обращается из Питона к программе [Mystem](https://yandex.ru/dev/mystem/), разработанной Яндексом.\n",
        "\n",
        "Обе библиотеки опираются на словарь и правила — и выдают для каждого слова те разборы, которые впринципе для них возможны, а также указывают, насколько вероятен каждый из вариантов.\n",
        "\n",
        "###Что вообще значат эти разборы?\n",
        "\n",
        "Это сокращённые обозначения морфологических признаков, известных вам из школы: род, число, падеж, время, вид и т. д. Сокращения могут отличаться у разных библиотек: [pymorphy2](https://pymorphy2.readthedocs.io/en/stable/user/grammemes.html#grammeme-docs), [Mystem](https://yandex.ru/dev/mystem/doc/ru/grammemes-values). Работая с конкретной библиотекой, важно сверяться с её разметкой\n",
        "\n",
        "###Скорость и качество\n",
        "\n",
        "pymorphy2 работает быстрее, чем Pymystem3 — но качество лучше у последнего.\n",
        "\n",
        "###Проблема омонимии\n",
        "\n",
        "Разные разборы для одного и того же слова это проблема. У слова _комнате_ есть два разбора: дательный и предложный падеж. Даже выбирая самый вероятный вариант, мы в части случаев ошибаемся.\n",
        "\n",
        "Омонимия это в целом большая проблема для анализа текста: разные формы одной леммы (_комнате_) или разные формы разных лемм (_стекло_) могут совпадать. Обычно контекст позволяет однозначно определить, какая форма использована, однако для программ не всегда просто проанализировать этот контекст, чтобы эту форму определить (и снять омонимию).\n",
        "\n",
        "Перейдём к библиотекам, которые делают синтаксический разбор — а значит смотрят на контекст и могут снимать омонимию."
      ],
      "metadata": {
        "id": "Dqp11rtSICsZ"
      }
    },
    {
      "cell_type": "code",
      "source": [
        "#Создаём анализатор Spacy, перед этим скачиваем модель\n",
        "%%capture\n",
        "!python -m spacy download ru_core_news_sm\n",
        "import spacy\n",
        "nlp_spacy = spacy.load(\"ru_core_news_sm\")"
      ],
      "metadata": {
        "id": "1vItTs2wYe5u"
      },
      "execution_count": 45,
      "outputs": []
    },
    {
      "cell_type": "code",
      "source": [
        "#Анализируем текст\n",
        "text_spacy = nlp_spacy(text)\n",
        "text"
      ],
      "metadata": {
        "colab": {
          "base_uri": "https://localhost:8080/",
          "height": 71
        },
        "outputId": "37e77b1c-b1f3-4338-ff5b-4e481479da4a",
        "id": "RXRcGvY0Ye5v"
      },
      "execution_count": 46,
      "outputs": [
        {
          "output_type": "execute_result",
          "data": {
            "text/plain": [
              "'В моей комнате, на стене, висит портрет моего приятеля Карла Ивановича Шустерлинга.\\nТретьего дня, когда я убирал свою комнату, я снял портрет со стены, вытер с него пыль и повесил его обратно.\\nПотом я отошел, чтобы издали взглянуть, не криво ли он висит. Но когда я взглянул, то у меня похолодели ноги, а волосы встали на голове дыбом.\\nВместо Карла Ивановича Шустерлинга на меня глядел со стены страшный, бородатый старик в дурацкой шапочке. Я с криком выскочил из комнаты.'"
            ],
            "application/vnd.google.colaboratory.intrinsic+json": {
              "type": "string"
            }
          },
          "metadata": {},
          "execution_count": 46
        }
      ]
    },
    {
      "cell_type": "code",
      "source": [
        "#Выводим информацию о морфологических признаках и лемме\n",
        "print(text_spacy[2].morph)\n",
        "print(text_spacy[2].lemma_)"
      ],
      "metadata": {
        "colab": {
          "base_uri": "https://localhost:8080/"
        },
        "outputId": "7c26b637-5464-4c51-c204-58ef449d0ca7",
        "id": "ki5ECHm_Ye5w"
      },
      "execution_count": 57,
      "outputs": [
        {
          "output_type": "stream",
          "name": "stdout",
          "text": [
            "Animacy=Inan|Case=Loc|Gender=Fem|Number=Sing\n",
            "obl\n"
          ]
        }
      ]
    },
    {
      "cell_type": "code",
      "source": [
        "#Выводим информацию о синтаксической функции слова (косвенное дополнение),\n",
        "#слово, к которому оно относится и его номер в предложении\n",
        "print(text_spacy[2].dep_)\n",
        "print(text_spacy[2].head)\n",
        "print(text_spacy[2].head.i)"
      ],
      "metadata": {
        "colab": {
          "base_uri": "https://localhost:8080/"
        },
        "id": "Xix5isjod0x6",
        "outputId": "295d675f-da87-45de-9718-a6425c85f44b"
      },
      "execution_count": 71,
      "outputs": [
        {
          "output_type": "stream",
          "name": "stdout",
          "text": [
            "obl\n",
            "висит\n",
            "7\n"
          ]
        }
      ]
    },
    {
      "cell_type": "code",
      "source": [
        "#Создаём анализатор Stanza\n",
        "%%capture\n",
        "import stanza\n",
        "stanza.download(\"ru\")\n",
        "nlp_stanza = stanza.Pipeline(lang=\"ru\", processors=\"tokenize, pos, lemma, depparse\")"
      ],
      "metadata": {
        "colab": {
          "base_uri": "https://localhost:8080/",
          "height": 425
        },
        "id": "sn838_MoeKvc",
        "outputId": "fd65785f-0a1d-4571-d811-194e20d0b32a"
      },
      "execution_count": 61,
      "outputs": [
        {
          "output_type": "stream",
          "name": "stderr",
          "text": [
            "INFO:stanza:Downloaded file to /root/stanza_resources/resources.json\n",
            "INFO:stanza:Downloading default packages for language: ru (Russian) ...\n",
            "INFO:stanza:File exists: /root/stanza_resources/ru/default.zip\n",
            "INFO:stanza:Finished downloading models and saved to /root/stanza_resources\n",
            "INFO:stanza:Checking for updates to resources.json in case models have been updated.  Note: this behavior can be turned off with download_method=None or download_method=DownloadMethod.REUSE_RESOURCES\n",
            "INFO:stanza:Downloaded file to /root/stanza_resources/resources.json\n",
            "INFO:stanza:Loading these models for language: ru (Russian):\n",
            "==================================\n",
            "| Processor | Package            |\n",
            "----------------------------------\n",
            "| tokenize  | syntagrus          |\n",
            "| pos       | syntagrus_charlm   |\n",
            "| lemma     | syntagrus_nocharlm |\n",
            "| depparse  | syntagrus_charlm   |\n",
            "==================================\n",
            "\n",
            "INFO:stanza:Using device: cpu\n",
            "INFO:stanza:Loading: tokenize\n",
            "INFO:stanza:Loading: pos\n",
            "INFO:stanza:Loading: lemma\n",
            "INFO:stanza:Loading: depparse\n",
            "INFO:stanza:Done loading processors!\n"
          ]
        }
      ]
    },
    {
      "cell_type": "code",
      "source": [
        "#Анализируем текст\n",
        "text_stanza = nlp_stanza(text)\n",
        "text"
      ],
      "metadata": {
        "colab": {
          "base_uri": "https://localhost:8080/",
          "height": 71
        },
        "outputId": "20699393-6b25-463d-db1c-f4c96fc55270",
        "id": "ipaMmatAgb1o"
      },
      "execution_count": 62,
      "outputs": [
        {
          "output_type": "execute_result",
          "data": {
            "text/plain": [
              "'В моей комнате, на стене, висит портрет моего приятеля Карла Ивановича Шустерлинга.\\nТретьего дня, когда я убирал свою комнату, я снял портрет со стены, вытер с него пыль и повесил его обратно.\\nПотом я отошел, чтобы издали взглянуть, не криво ли он висит. Но когда я взглянул, то у меня похолодели ноги, а волосы встали на голове дыбом.\\nВместо Карла Ивановича Шустерлинга на меня глядел со стены страшный, бородатый старик в дурацкой шапочке. Я с криком выскочил из комнаты.'"
            ],
            "application/vnd.google.colaboratory.intrinsic+json": {
              "type": "string"
            }
          },
          "metadata": {},
          "execution_count": 62
        }
      ]
    },
    {
      "cell_type": "code",
      "source": [
        "#Выводим информацию о морфологических признаках и лемме\n",
        "word_stanza = text_stanza.sentences[0].words[2]\n",
        "print(word_stanza.feats)\n",
        "print(word_stanza.lemma)"
      ],
      "metadata": {
        "colab": {
          "base_uri": "https://localhost:8080/"
        },
        "outputId": "acc5e523-c5cc-4ca5-ccf2-3b2adc5485f3",
        "id": "vBiy_pUigb1s"
      },
      "execution_count": 77,
      "outputs": [
        {
          "output_type": "stream",
          "name": "stdout",
          "text": [
            "Animacy=Inan|Case=Loc|Gender=Fem|Number=Sing\n",
            "комната\n"
          ]
        }
      ]
    },
    {
      "cell_type": "code",
      "source": [
        "#Выводим информацию о синтаксической функции слова (косвенное дополнение),\n",
        "#слово, к которому оно относится и его номер в предложении\n",
        "print(word_stanza.deprel)\n",
        "print(word_stanza.head)\n",
        "print(text_stanza.sentences[0].words[word_stanza.head - 1].text)"
      ],
      "metadata": {
        "colab": {
          "base_uri": "https://localhost:8080/"
        },
        "outputId": "4fac411f-0aab-4c86-f968-4adc0c93c6f7",
        "id": "Ns1TUizogb1u"
      },
      "execution_count": 79,
      "outputs": [
        {
          "output_type": "stream",
          "name": "stdout",
          "text": [
            "obl\n",
            "8\n",
            "висит\n"
          ]
        }
      ]
    },
    {
      "cell_type": "markdown",
      "source": [
        "##Spacy и Stanza\n",
        "\n",
        "###Общая информация\n",
        "\n",
        "Это библиотеки, которые используют для разметки модели машинного обучения. У этого есть ряд достоинств:\n",
        "\n",
        "- наивысшая точность в настоящий момент;\n",
        "- снятие неоднозначности с опорой на контекст;\n",
        "- более качественная работа с редкими / новыми словами, которых нет в словаре.\n",
        "\n",
        "Но есть и недостатки:\n",
        "\n",
        "- более долгое время работы;\n",
        "- влияние обучающей выборки: Spacy обучался на новостных текстах, и лучше всего справляется с ними;\n",
        "- редко, но могут происходить непредсказуемые ошибки — с которыми словарный метод справился бы без проблем\n",
        "\n",
        "##Синтаксическая разметка\n",
        "\n",
        "Сильнее отличается от того синтаксиса, который преподаётся в русской школе. Используется стандарт [Universal Dependencies (UD)](https://universaldependencies.org/ru/index.html).\n",
        "\n",
        "Синтаксические отношения, которые могут пригодиться:\n",
        "\n",
        "- nsubj — подлежащее-существительное\n",
        "- obj — прямое дополнение\n",
        "- obl — косвенное дополнение, в том числе с предлогом\n",
        "- amod — прилагательное-определение\n",
        "- advmod — наречие-обстоятельство\n",
        "- nmod — зависимое существительное в родительном падеже или с предлогом"
      ],
      "metadata": {
        "id": "g3TOI6d8iIw-"
      }
    },
    {
      "cell_type": "code",
      "source": [
        "#Mystem отработал за 0 секунд\n",
        "\n",
        "long_text = text * 50\n",
        "print(len(long_text))\n",
        "long_text_mystem = morph_mystem.analyze(long_text)"
      ],
      "metadata": {
        "colab": {
          "base_uri": "https://localhost:8080/"
        },
        "id": "Sfas8oOMzIHz",
        "outputId": "6e87be7e-afd1-4d8e-91cc-43f56df6507e"
      },
      "execution_count": 82,
      "outputs": [
        {
          "output_type": "stream",
          "name": "stdout",
          "text": [
            "23650\n"
          ]
        }
      ]
    },
    {
      "cell_type": "code",
      "source": [
        "#Spacy отработал за 4 секунды\n",
        "\n",
        "long_text_spacy = nlp_spacy(long_text)"
      ],
      "metadata": {
        "id": "rmxIeEFpz9kr"
      },
      "execution_count": 83,
      "outputs": []
    },
    {
      "cell_type": "code",
      "source": [
        "#Stanza отработала за 52 секунды\n",
        "\n",
        "long_text_mystem = nlp_stanza(long_text)"
      ],
      "metadata": {
        "id": "NgBCS-B9Z52p"
      },
      "execution_count": 84,
      "outputs": []
    },
    {
      "cell_type": "markdown",
      "source": [
        "##Сравнение библиотек\n",
        "\n",
        "|  Библиотека |  Метод | Качество  |  Скорость | Требовательность к ресурсам  |\n",
        "|:---|:---:|:---:|:---:|:---:|\n",
        "| pymorphy2  |  правила | среднее  | высокая  | очень низкая |\n",
        "|  Pymystem3 | правила  | высокое  | высокая  | низкая  |\n",
        "|  Spacy |  машинное обучение |  высокое | средняя  | средняя  |\n",
        "|  Stanza |  машинное обучение |  очень высокое | низкая  | высокая  |"
      ],
      "metadata": {
        "id": "NLg31wRETf8m"
      }
    },
    {
      "cell_type": "markdown",
      "source": [
        "## Обработка текстов большего размера\n",
        "\n",
        "Разметим набор текстов большего объёма. Возьмём в качестве примера несколько сотен новостей с сайта Панорама."
      ],
      "metadata": {
        "id": "FJWRimkM2S_V"
      }
    },
    {
      "cell_type": "code",
      "source": [
        "#Работа с таблицами — понадобится, чтобы хранить наш корпус\n",
        "#Больше подробностей об этом инструменте на следующем семинаре\n",
        "import pandas as pd\n",
        "\n",
        "#Выполнение быстрых математических вычислений — пригодится, потому что иначе\n",
        "#корпус с большим количеством текстов может долго обрабатываться\n",
        "import numpy as np"
      ],
      "metadata": {
        "id": "3p7HwnGay07K"
      },
      "execution_count": 91,
      "outputs": []
    },
    {
      "cell_type": "code",
      "source": [
        "#Считываем из файла корпус новостей, который лежит по ссылке\n",
        "\n",
        "corpus_link = 'https://raw.githubusercontent.com/knapweedss/TextMining_HSE/main/sem3/panorama_corpus.tsv'\n",
        "\n",
        "panorama_corpus = pd.read_csv(corpus_link, sep='\\t')"
      ],
      "metadata": {
        "id": "lTk9fcBE3akA"
      },
      "execution_count": 92,
      "outputs": []
    },
    {
      "cell_type": "code",
      "source": [
        "panorama_corpus.head()"
      ],
      "metadata": {
        "colab": {
          "base_uri": "https://localhost:8080/",
          "height": 206
        },
        "id": "g2XJinlW3ri-",
        "outputId": "13611c76-5a94-4cf6-9bfd-d5c62281a1b2"
      },
      "execution_count": 93,
      "outputs": [
        {
          "output_type": "execute_result",
          "data": {
            "text/plain": [
              "   index      date    sphere  \\\n",
              "0      0  4-3-2023  Общество   \n",
              "1      1  4-3-2023  Политика   \n",
              "2      2  4-3-2023  Политика   \n",
              "3      3  4-3-2023  Политика   \n",
              "4      4  3-3-2023  Общество   \n",
              "\n",
              "                                               title  \\\n",
              "0  Гражданам разрешили добывать нефть и газ на св...   \n",
              "1  Китай подал заявку на вступление в Союзное гос...   \n",
              "2  Деколонизаторки из Франции потребовали вернуть...   \n",
              "3  Победа России: Госдума пересмотрела результаты...   \n",
              "4        Бездетных россиян будут ежегодно штрафовать   \n",
              "\n",
              "                                                text  \\\n",
              "0  Государственная дума приняла в третьем чтении ...   \n",
              "1  Заведующий Канцелярией Комиссии ЦК КПК по инос...   \n",
              "2  Активисты движения «Смерть колониализму» из Па...   \n",
              "3  Государственная дума приняла постановление «Об...   \n",
              "4  Государственная дума приняла в первом чтении з...   \n",
              "\n",
              "                                                link  \n",
              "0  https://panorama.pub/news/grazdanam-razresili-...  \n",
              "1  https://panorama.pub/news/kitaj-podal-zaavku-n...  \n",
              "2  https://panorama.pub/news/dekolonizatorki-iz-f...  \n",
              "3  https://panorama.pub/news/gosduma-peresmotrela...  \n",
              "4  https://panorama.pub/news/bezdetnyh-rossian-pr...  "
            ],
            "text/html": [
              "\n",
              "  <div id=\"df-42152782-dd99-472a-ba81-23cce8758db9\" class=\"colab-df-container\">\n",
              "    <div>\n",
              "<style scoped>\n",
              "    .dataframe tbody tr th:only-of-type {\n",
              "        vertical-align: middle;\n",
              "    }\n",
              "\n",
              "    .dataframe tbody tr th {\n",
              "        vertical-align: top;\n",
              "    }\n",
              "\n",
              "    .dataframe thead th {\n",
              "        text-align: right;\n",
              "    }\n",
              "</style>\n",
              "<table border=\"1\" class=\"dataframe\">\n",
              "  <thead>\n",
              "    <tr style=\"text-align: right;\">\n",
              "      <th></th>\n",
              "      <th>index</th>\n",
              "      <th>date</th>\n",
              "      <th>sphere</th>\n",
              "      <th>title</th>\n",
              "      <th>text</th>\n",
              "      <th>link</th>\n",
              "    </tr>\n",
              "  </thead>\n",
              "  <tbody>\n",
              "    <tr>\n",
              "      <th>0</th>\n",
              "      <td>0</td>\n",
              "      <td>4-3-2023</td>\n",
              "      <td>Общество</td>\n",
              "      <td>Гражданам разрешили добывать нефть и газ на св...</td>\n",
              "      <td>Государственная дума приняла в третьем чтении ...</td>\n",
              "      <td>https://panorama.pub/news/grazdanam-razresili-...</td>\n",
              "    </tr>\n",
              "    <tr>\n",
              "      <th>1</th>\n",
              "      <td>1</td>\n",
              "      <td>4-3-2023</td>\n",
              "      <td>Политика</td>\n",
              "      <td>Китай подал заявку на вступление в Союзное гос...</td>\n",
              "      <td>Заведующий Канцелярией Комиссии ЦК КПК по инос...</td>\n",
              "      <td>https://panorama.pub/news/kitaj-podal-zaavku-n...</td>\n",
              "    </tr>\n",
              "    <tr>\n",
              "      <th>2</th>\n",
              "      <td>2</td>\n",
              "      <td>4-3-2023</td>\n",
              "      <td>Политика</td>\n",
              "      <td>Деколонизаторки из Франции потребовали вернуть...</td>\n",
              "      <td>Активисты движения «Смерть колониализму» из Па...</td>\n",
              "      <td>https://panorama.pub/news/dekolonizatorki-iz-f...</td>\n",
              "    </tr>\n",
              "    <tr>\n",
              "      <th>3</th>\n",
              "      <td>3</td>\n",
              "      <td>4-3-2023</td>\n",
              "      <td>Политика</td>\n",
              "      <td>Победа России: Госдума пересмотрела результаты...</td>\n",
              "      <td>Государственная дума приняла постановление «Об...</td>\n",
              "      <td>https://panorama.pub/news/gosduma-peresmotrela...</td>\n",
              "    </tr>\n",
              "    <tr>\n",
              "      <th>4</th>\n",
              "      <td>4</td>\n",
              "      <td>3-3-2023</td>\n",
              "      <td>Общество</td>\n",
              "      <td>Бездетных россиян будут ежегодно штрафовать</td>\n",
              "      <td>Государственная дума приняла в первом чтении з...</td>\n",
              "      <td>https://panorama.pub/news/bezdetnyh-rossian-pr...</td>\n",
              "    </tr>\n",
              "  </tbody>\n",
              "</table>\n",
              "</div>\n",
              "    <div class=\"colab-df-buttons\">\n",
              "\n",
              "  <div class=\"colab-df-container\">\n",
              "    <button class=\"colab-df-convert\" onclick=\"convertToInteractive('df-42152782-dd99-472a-ba81-23cce8758db9')\"\n",
              "            title=\"Convert this dataframe to an interactive table.\"\n",
              "            style=\"display:none;\">\n",
              "\n",
              "  <svg xmlns=\"http://www.w3.org/2000/svg\" height=\"24px\" viewBox=\"0 -960 960 960\">\n",
              "    <path d=\"M120-120v-720h720v720H120Zm60-500h600v-160H180v160Zm220 220h160v-160H400v160Zm0 220h160v-160H400v160ZM180-400h160v-160H180v160Zm440 0h160v-160H620v160ZM180-180h160v-160H180v160Zm440 0h160v-160H620v160Z\"/>\n",
              "  </svg>\n",
              "    </button>\n",
              "\n",
              "  <style>\n",
              "    .colab-df-container {\n",
              "      display:flex;\n",
              "      gap: 12px;\n",
              "    }\n",
              "\n",
              "    .colab-df-convert {\n",
              "      background-color: #E8F0FE;\n",
              "      border: none;\n",
              "      border-radius: 50%;\n",
              "      cursor: pointer;\n",
              "      display: none;\n",
              "      fill: #1967D2;\n",
              "      height: 32px;\n",
              "      padding: 0 0 0 0;\n",
              "      width: 32px;\n",
              "    }\n",
              "\n",
              "    .colab-df-convert:hover {\n",
              "      background-color: #E2EBFA;\n",
              "      box-shadow: 0px 1px 2px rgba(60, 64, 67, 0.3), 0px 1px 3px 1px rgba(60, 64, 67, 0.15);\n",
              "      fill: #174EA6;\n",
              "    }\n",
              "\n",
              "    .colab-df-buttons div {\n",
              "      margin-bottom: 4px;\n",
              "    }\n",
              "\n",
              "    [theme=dark] .colab-df-convert {\n",
              "      background-color: #3B4455;\n",
              "      fill: #D2E3FC;\n",
              "    }\n",
              "\n",
              "    [theme=dark] .colab-df-convert:hover {\n",
              "      background-color: #434B5C;\n",
              "      box-shadow: 0px 1px 3px 1px rgba(0, 0, 0, 0.15);\n",
              "      filter: drop-shadow(0px 1px 2px rgba(0, 0, 0, 0.3));\n",
              "      fill: #FFFFFF;\n",
              "    }\n",
              "  </style>\n",
              "\n",
              "    <script>\n",
              "      const buttonEl =\n",
              "        document.querySelector('#df-42152782-dd99-472a-ba81-23cce8758db9 button.colab-df-convert');\n",
              "      buttonEl.style.display =\n",
              "        google.colab.kernel.accessAllowed ? 'block' : 'none';\n",
              "\n",
              "      async function convertToInteractive(key) {\n",
              "        const element = document.querySelector('#df-42152782-dd99-472a-ba81-23cce8758db9');\n",
              "        const dataTable =\n",
              "          await google.colab.kernel.invokeFunction('convertToInteractive',\n",
              "                                                    [key], {});\n",
              "        if (!dataTable) return;\n",
              "\n",
              "        const docLinkHtml = 'Like what you see? Visit the ' +\n",
              "          '<a target=\"_blank\" href=https://colab.research.google.com/notebooks/data_table.ipynb>data table notebook</a>'\n",
              "          + ' to learn more about interactive tables.';\n",
              "        element.innerHTML = '';\n",
              "        dataTable['output_type'] = 'display_data';\n",
              "        await google.colab.output.renderOutput(dataTable, element);\n",
              "        const docLink = document.createElement('div');\n",
              "        docLink.innerHTML = docLinkHtml;\n",
              "        element.appendChild(docLink);\n",
              "      }\n",
              "    </script>\n",
              "  </div>\n",
              "\n",
              "\n",
              "<div id=\"df-e8bf3e43-fb3c-4e05-8134-9be39f006258\">\n",
              "  <button class=\"colab-df-quickchart\" onclick=\"quickchart('df-e8bf3e43-fb3c-4e05-8134-9be39f006258')\"\n",
              "            title=\"Suggest charts\"\n",
              "            style=\"display:none;\">\n",
              "\n",
              "<svg xmlns=\"http://www.w3.org/2000/svg\" height=\"24px\"viewBox=\"0 0 24 24\"\n",
              "     width=\"24px\">\n",
              "    <g>\n",
              "        <path d=\"M19 3H5c-1.1 0-2 .9-2 2v14c0 1.1.9 2 2 2h14c1.1 0 2-.9 2-2V5c0-1.1-.9-2-2-2zM9 17H7v-7h2v7zm4 0h-2V7h2v10zm4 0h-2v-4h2v4z\"/>\n",
              "    </g>\n",
              "</svg>\n",
              "  </button>\n",
              "\n",
              "<style>\n",
              "  .colab-df-quickchart {\n",
              "      --bg-color: #E8F0FE;\n",
              "      --fill-color: #1967D2;\n",
              "      --hover-bg-color: #E2EBFA;\n",
              "      --hover-fill-color: #174EA6;\n",
              "      --disabled-fill-color: #AAA;\n",
              "      --disabled-bg-color: #DDD;\n",
              "  }\n",
              "\n",
              "  [theme=dark] .colab-df-quickchart {\n",
              "      --bg-color: #3B4455;\n",
              "      --fill-color: #D2E3FC;\n",
              "      --hover-bg-color: #434B5C;\n",
              "      --hover-fill-color: #FFFFFF;\n",
              "      --disabled-bg-color: #3B4455;\n",
              "      --disabled-fill-color: #666;\n",
              "  }\n",
              "\n",
              "  .colab-df-quickchart {\n",
              "    background-color: var(--bg-color);\n",
              "    border: none;\n",
              "    border-radius: 50%;\n",
              "    cursor: pointer;\n",
              "    display: none;\n",
              "    fill: var(--fill-color);\n",
              "    height: 32px;\n",
              "    padding: 0;\n",
              "    width: 32px;\n",
              "  }\n",
              "\n",
              "  .colab-df-quickchart:hover {\n",
              "    background-color: var(--hover-bg-color);\n",
              "    box-shadow: 0 1px 2px rgba(60, 64, 67, 0.3), 0 1px 3px 1px rgba(60, 64, 67, 0.15);\n",
              "    fill: var(--button-hover-fill-color);\n",
              "  }\n",
              "\n",
              "  .colab-df-quickchart-complete:disabled,\n",
              "  .colab-df-quickchart-complete:disabled:hover {\n",
              "    background-color: var(--disabled-bg-color);\n",
              "    fill: var(--disabled-fill-color);\n",
              "    box-shadow: none;\n",
              "  }\n",
              "\n",
              "  .colab-df-spinner {\n",
              "    border: 2px solid var(--fill-color);\n",
              "    border-color: transparent;\n",
              "    border-bottom-color: var(--fill-color);\n",
              "    animation:\n",
              "      spin 1s steps(1) infinite;\n",
              "  }\n",
              "\n",
              "  @keyframes spin {\n",
              "    0% {\n",
              "      border-color: transparent;\n",
              "      border-bottom-color: var(--fill-color);\n",
              "      border-left-color: var(--fill-color);\n",
              "    }\n",
              "    20% {\n",
              "      border-color: transparent;\n",
              "      border-left-color: var(--fill-color);\n",
              "      border-top-color: var(--fill-color);\n",
              "    }\n",
              "    30% {\n",
              "      border-color: transparent;\n",
              "      border-left-color: var(--fill-color);\n",
              "      border-top-color: var(--fill-color);\n",
              "      border-right-color: var(--fill-color);\n",
              "    }\n",
              "    40% {\n",
              "      border-color: transparent;\n",
              "      border-right-color: var(--fill-color);\n",
              "      border-top-color: var(--fill-color);\n",
              "    }\n",
              "    60% {\n",
              "      border-color: transparent;\n",
              "      border-right-color: var(--fill-color);\n",
              "    }\n",
              "    80% {\n",
              "      border-color: transparent;\n",
              "      border-right-color: var(--fill-color);\n",
              "      border-bottom-color: var(--fill-color);\n",
              "    }\n",
              "    90% {\n",
              "      border-color: transparent;\n",
              "      border-bottom-color: var(--fill-color);\n",
              "    }\n",
              "  }\n",
              "</style>\n",
              "\n",
              "  <script>\n",
              "    async function quickchart(key) {\n",
              "      const quickchartButtonEl =\n",
              "        document.querySelector('#' + key + ' button');\n",
              "      quickchartButtonEl.disabled = true;  // To prevent multiple clicks.\n",
              "      quickchartButtonEl.classList.add('colab-df-spinner');\n",
              "      try {\n",
              "        const charts = await google.colab.kernel.invokeFunction(\n",
              "            'suggestCharts', [key], {});\n",
              "      } catch (error) {\n",
              "        console.error('Error during call to suggestCharts:', error);\n",
              "      }\n",
              "      quickchartButtonEl.classList.remove('colab-df-spinner');\n",
              "      quickchartButtonEl.classList.add('colab-df-quickchart-complete');\n",
              "    }\n",
              "    (() => {\n",
              "      let quickchartButtonEl =\n",
              "        document.querySelector('#df-e8bf3e43-fb3c-4e05-8134-9be39f006258 button');\n",
              "      quickchartButtonEl.style.display =\n",
              "        google.colab.kernel.accessAllowed ? 'block' : 'none';\n",
              "    })();\n",
              "  </script>\n",
              "</div>\n",
              "    </div>\n",
              "  </div>\n"
            ],
            "application/vnd.google.colaboratory.intrinsic+json": {
              "type": "dataframe",
              "variable_name": "panorama_corpus",
              "summary": "{\n  \"name\": \"panorama_corpus\",\n  \"rows\": 625,\n  \"fields\": [\n    {\n      \"column\": \"index\",\n      \"properties\": {\n        \"dtype\": \"number\",\n        \"std\": 180,\n        \"min\": 0,\n        \"max\": 624,\n        \"num_unique_values\": 625,\n        \"samples\": [\n          447,\n          485,\n          215\n        ],\n        \"semantic_type\": \"\",\n        \"description\": \"\"\n      }\n    },\n    {\n      \"column\": \"date\",\n      \"properties\": {\n        \"dtype\": \"category\",\n        \"num_unique_values\": 100,\n        \"samples\": [\n          \"11-12-2022\",\n          \"10-1-2023\",\n          \"24-12-2022\"\n        ],\n        \"semantic_type\": \"\",\n        \"description\": \"\"\n      }\n    },\n    {\n      \"column\": \"sphere\",\n      \"properties\": {\n        \"dtype\": \"category\",\n        \"num_unique_values\": 6,\n        \"samples\": [\n          \"\\u041e\\u0431\\u0449\\u0435\\u0441\\u0442\\u0432\\u043e\",\n          \"\\u041f\\u043e\\u043b\\u0438\\u0442\\u0438\\u043a\\u0430\",\n          \"\\u0421\\u0442\\u0430\\u0442\\u044c\\u0438\"\n        ],\n        \"semantic_type\": \"\",\n        \"description\": \"\"\n      }\n    },\n    {\n      \"column\": \"title\",\n      \"properties\": {\n        \"dtype\": \"string\",\n        \"num_unique_values\": 625,\n        \"samples\": [\n          \"\\u041f\\u0430\\u043f\\u0430 \\u0420\\u0438\\u043c\\u0441\\u043a\\u0438\\u0439 \\u043f\\u043e\\u043e\\u0431\\u0435\\u0449\\u0430\\u043b 200 \\u0435\\u0432\\u0440\\u043e \\u043a\\u0430\\u0436\\u0434\\u043e\\u043c\\u0443 \\u0440\\u043e\\u0441\\u0441\\u0438\\u044f\\u043d\\u0438\\u043d\\u0443, \\u043e\\u0442\\u043c\\u0435\\u0442\\u0438\\u0432\\u0448\\u0435\\u043c\\u0443 \\u0420\\u043e\\u0436\\u0434\\u0435\\u0441\\u0442\\u0432\\u043e 25 \\u0434\\u0435\\u043a\\u0430\\u0431\\u0440\\u044f\",\n          \"\\u042e\\u0436\\u043d\\u043e\\u0430\\u0444\\u0440\\u0438\\u043a\\u0430\\u043d\\u0441\\u043a\\u0438\\u0439, \\u0432\\u0435\\u043d\\u0435\\u0441\\u0443\\u044d\\u043b\\u044c\\u0441\\u043a\\u0438\\u0439 \\u0438 \\u0431\\u0440\\u0430\\u0437\\u0438\\u043b\\u044c\\u0441\\u043a\\u0438\\u0439: \\u0432 \\u0420\\u043e\\u0441\\u0441\\u0438\\u0438 \\u043f\\u0435\\u0440\\u0435\\u0438\\u043c\\u0435\\u043d\\u0443\\u044e\\u0442 \\u044f\\u0437\\u044b\\u043a\\u0438 \\u043d\\u0435\\u0434\\u0440\\u0443\\u0436\\u0435\\u0441\\u0442\\u0432\\u0435\\u043d\\u043d\\u044b\\u0445 \\u0441\\u0442\\u0440\\u0430\\u043d\",\n          \"\\u041a\\u0442\\u043e \\u043d\\u0435 \\u0441\\u0434\\u0430\\u043b, \\u0442\\u043e\\u0442 \\u043d\\u0435 \\u043b\\u0435\\u0442\\u0438\\u0442. \\u041a\\u043b\\u0438\\u0435\\u043d\\u0442\\u043e\\u0432 \\u00ab\\u041f\\u043e\\u0431\\u0435\\u0434\\u044b\\u00bb \\u0436\\u0434\\u0451\\u0442 \\u044d\\u043a\\u0437\\u0430\\u043c\\u0435\\u043d \\u043f\\u043e \\u043f\\u0440\\u0430\\u0432\\u0438\\u043b\\u0430\\u043c \\u0431\\u0435\\u0437\\u043e\\u043f\\u0430\\u0441\\u043d\\u043e\\u0441\\u0442\\u0438 \\u043f\\u0435\\u0440\\u0435\\u0434 \\u043a\\u0430\\u0436\\u0434\\u044b\\u043c \\u043f\\u043e\\u043b\\u0451\\u0442\\u043e\\u043c\"\n        ],\n        \"semantic_type\": \"\",\n        \"description\": \"\"\n      }\n    },\n    {\n      \"column\": \"text\",\n      \"properties\": {\n        \"dtype\": \"string\",\n        \"num_unique_values\": 625,\n        \"samples\": [\n          \"\\u041f\\u0430\\u043f\\u0430 \\u0420\\u0438\\u043c\\u0441\\u043a\\u0438\\u0439 \\u0424\\u0440\\u0430\\u043d\\u0446\\u0438\\u0441\\u043a \\u0432\\u044b\\u0441\\u0442\\u0443\\u043f\\u0438\\u043b \\u0441 \\u043e\\u0431\\u0440\\u0430\\u0449\\u0435\\u043d\\u0438\\u0435\\u043c \\u043a \\u043f\\u0440\\u0438\\u0445\\u043e\\u0436\\u0430\\u043d\\u0430\\u043c \\u0420\\u0443\\u0441\\u0441\\u043a\\u043e\\u0439 \\u043f\\u0440\\u0430\\u0432\\u043e\\u0441\\u043b\\u0430\\u0432\\u043d\\u043e\\u0439 \\u0446\\u0435\\u0440\\u043a\\u0432\\u0438 \\u0441 \\u043f\\u0440\\u0438\\u0437\\u044b\\u0432\\u043e\\u043c \\u043e\\u0442\\u043c\\u0435\\u0447\\u0430\\u0442\\u044c \\u043f\\u0440\\u0430\\u0437\\u0434\\u043d\\u0438\\u043a \\u0420\\u043e\\u0436\\u0434\\u0435\\u0441\\u0442\\u0432\\u0430 \\u0432 \\u0435\\u0434\\u0438\\u043d\\u044b\\u0439 \\u0434\\u0435\\u043d\\u044c \\u043f\\u043e \\u043a\\u0430\\u0442\\u043e\\u043b\\u0438\\u0447\\u0435\\u0441\\u043a\\u043e\\u043c\\u0443 \\u0441\\u0442\\u0438\\u043b\\u044e \\u2014 25 \\u0434\\u0435\\u043a\\u0430\\u0431\\u0440\\u044f. \\u0412 \\u0441\\u0432\\u043e\\u0451\\u043c \\u0432\\u043e\\u0437\\u0437\\u0432\\u0430\\u043d\\u0438\\u0438 \\u043e\\u043d \\u043e\\u0431\\u0435\\u0449\\u0430\\u043b \\u043a\\u0430\\u0436\\u0434\\u043e\\u043c\\u0443, \\u043a\\u0442\\u043e \\u043f\\u043e\\u0441\\u043b\\u0435\\u0434\\u0443\\u0435\\u0442 \\u0435\\u0433\\u043e \\u043f\\u0440\\u0435\\u0434\\u043b\\u043e\\u0436\\u0435\\u043d\\u0438\\u044e, \\u0432\\u044b\\u043f\\u043b\\u0430\\u0442\\u0438\\u0442\\u044c \\u043f\\u043e 200 \\u0435\\u0432\\u0440\\u043e, \\u0447\\u0442\\u043e \\u043f\\u0440\\u0438\\u043c\\u0435\\u0440\\u043d\\u043e \\u0440\\u0430\\u0432\\u043d\\u044f\\u0435\\u0442\\u0441\\u044f 14 600 \\u0440\\u0443\\u0431\\u043b\\u0435\\u0439. \\u00ab\\u0414\\u0435\\u0442\\u0438 \\u043c\\u043e\\u0438, \\u0443 \\u0413\\u043e\\u0441\\u043f\\u043e\\u0434\\u0430 \\u043d\\u0430\\u0448\\u0435\\u0433\\u043e \\u043d\\u0435 \\u043c\\u043e\\u0436\\u0435\\u0442 \\u0431\\u044b\\u0442\\u044c \\u0434\\u0432\\u0430 \\u0434\\u043d\\u044f \\u0440\\u043e\\u0436\\u0434\\u0435\\u043d\\u0438\\u044f, \\u2013 \\u0433\\u043e\\u0432\\u043e\\u0440\\u0438\\u0442 \\u043f\\u043e\\u043d\\u0442\\u0438\\u0444\\u0438\\u043a. \\u2013 \\u041e\\u0448\\u0438\\u0431\\u043a\\u0438 \\u0438\\u0437-\\u0437\\u0430 \\u0440\\u0430\\u0441\\u043a\\u043e\\u043b\\u044c\\u043d\\u0438\\u0447\\u0435\\u0441\\u0442\\u0432\\u0430 \\u043d\\u0435 \\u0442\\u043e\\u043b\\u044c\\u043a\\u043e \\u043d\\u0435 \\u043c\\u0438\\u043b\\u0443\\u044e\\u0442 \\u043f\\u043e\\u0441\\u043b\\u0430\\u043d\\u043d\\u0438\\u043a\\u0430 \\u0418\\u0438\\u0441\\u0443\\u0441\\u0430 \\u0425\\u0440\\u0438\\u0441\\u0442\\u0430, \\u043d\\u043e \\u0438 \\u0441\\u043e\\u0437\\u044b\\u0432\\u0430\\u044e\\u0442 \\u0434\\u044c\\u044f\\u0432\\u043e\\u043b\\u0430 \\u043a\\u0430\\u0436\\u0434\\u044b\\u0439 \\u0440\\u0430\\u0437, \\u043a\\u043e\\u0433\\u0434\\u0430 \\u0440\\u043e\\u0436\\u0434\\u0435\\u0441\\u0442\\u0432\\u0435\\u043d\\u0441\\u043a\\u0430\\u044f \\u0435\\u043b\\u044c \\u0441\\u0432\\u0435\\u0442\\u0438\\u0442\\u0441\\u044f \\u0441\\u0432\\u0435\\u0442\\u043e\\u0438\\u0437\\u043b\\u0443\\u0447\\u0430\\u044e\\u0449\\u0438\\u043c\\u0438 \\u0434\\u0438\\u043e\\u0434\\u0430\\u043c\\u0438 \\u0433\\u0438\\u0440\\u043b\\u044f\\u043d\\u0434 \\u043d\\u0435 \\u0442\\u043e\\u0433\\u0434\\u0430, \\u043a\\u043e\\u0433\\u0434\\u0430 \\u0441\\u043b\\u0435\\u0434\\u0443\\u0435\\u0442. \\u042f \\u043f\\u0440\\u0438\\u0437\\u044b\\u0432\\u0430\\u044e \\u043a\\u0430\\u0436\\u0434\\u043e\\u0433\\u043e \\u043a \\u0441\\u043e\\u0433\\u043b\\u0430\\u0441\\u0438\\u044e \\u0438 \\u0443\\u043c\\u0438\\u0440\\u043e\\u0442\\u0432\\u043e\\u0440\\u0435\\u043d\\u0438\\u044e \\u0432 \\u044d\\u0442\\u043e\\u043c \\u0432\\u043e\\u043f\\u0440\\u043e\\u0441\\u0435 \\u0438 \\u0438\\u0441\\u043a\\u0440\\u0435\\u043d\\u043d\\u0435 \\u043f\\u043e\\u0437\\u0434\\u0440\\u0430\\u0432\\u043b\\u044f\\u044e \\u0441 \\u043d\\u0430\\u0441\\u0442\\u0443\\u043f\\u0430\\u044e\\u0449\\u0438\\u043c \\u0420\\u043e\\u0436\\u0434\\u0435\\u0441\\u0442\\u0432\\u043e\\u043c, \\u043a\\u043e\\u0442\\u043e\\u0440\\u043e\\u0435 \\u043c\\u044b \\u0445\\u043e\\u0442\\u0438\\u043c \\u043e\\u0442\\u043c\\u0435\\u0442\\u0438\\u0442\\u044c \\u0432\\u043c\\u0435\\u0441\\u0442\\u0435 \\u0441 \\u043f\\u0440\\u0430\\u0432\\u043e\\u0441\\u043b\\u0430\\u0432\\u043d\\u044b\\u043c\\u0438 \\u0435\\u0434\\u0438\\u043d\\u043e\\u0432\\u0440\\u0435\\u043c\\u0435\\u043d\\u043d\\u043e \\u2014 25 \\u0434\\u0435\\u043a\\u0430\\u0431\\u0440\\u044f\\u00bb \\u0414\\u043b\\u044f \\u0442\\u043e\\u0433\\u043e, \\u0447\\u0442\\u043e\\u0431\\u044b \\u043f\\u043e\\u043b\\u0443\\u0447\\u0438\\u0442\\u044c \\u0432\\u043e\\u0437\\u043d\\u0430\\u0433\\u0440\\u0430\\u0436\\u0434\\u0435\\u043d\\u0438\\u0435, \\u043d\\u0443\\u0436\\u043d\\u043e \\u043e\\u0431\\u0440\\u0430\\u0442\\u0438\\u0442\\u044c\\u0441\\u044f \\u043b\\u0438\\u0447\\u043d\\u043e \\u0432 \\u0430\\u043f\\u043e\\u0441\\u0442\\u043e\\u043b\\u044c\\u0441\\u043a\\u0443\\u044e \\u043d\\u0443\\u043d\\u0446\\u0438\\u0430\\u0442\\u0443\\u0440\\u0443 \\u0432 \\u041c\\u043e\\u0441\\u043a\\u0432\\u0435 \\u043f\\u043e \\u0430\\u0434\\u0440\\u0435\\u0441\\u0443: \\u0412\\u0430\\u0434\\u043a\\u043e\\u0432\\u0441\\u043a\\u0438\\u0439 \\u043f\\u0435\\u0440\\u0435\\u0443\\u043b\\u043e\\u043a, \\u0434. 7/37, \\u0438\\u043b\\u0438 \\u043f\\u043e \\u0442\\u0435\\u043b\\u0435\\u0444\\u043e\\u043d\\u0443 +7 (495) 726-59-30, \\u043f\\u0440\\u0435\\u0434\\u043e\\u0441\\u0442\\u0430\\u0432\\u0438\\u0432 \\u0434\\u043e\\u043a\\u0443\\u043c\\u0435\\u043d\\u0442\\u044b, \\u043f\\u043e\\u0434\\u0442\\u0432\\u0435\\u0440\\u0436\\u0434\\u0430\\u044e\\u0449\\u0438\\u0435 \\u043b\\u0438\\u0447\\u043d\\u043e\\u0441\\u0442\\u044c, \\u0430 \\u0442\\u0430\\u043a\\u0436\\u0435 \\u043b\\u044e\\u0431\\u044b\\u0435 \\u0434\\u043e\\u043a\\u0430\\u0437\\u0430\\u0442\\u0435\\u043b\\u044c\\u0441\\u0442\\u0432\\u0430 \\u043f\\u0440\\u0430\\u0437\\u0434\\u043d\\u043e\\u0432\\u0430\\u043d\\u0438\\u044f \\u0420\\u043e\\u0436\\u0434\\u0435\\u0441\\u0442\\u0432\\u0430 25 \\u0434\\u0435\\u043a\\u0430\\u0431\\u0440\\u044f.\",\n          \"\\u041f\\u0440\\u0435\\u0437\\u0438\\u0434\\u0438\\u0443\\u043c \\u0420\\u043e\\u0441\\u0441\\u0438\\u0439\\u0441\\u043a\\u043e\\u0439 \\u0430\\u043a\\u0430\\u0434\\u0435\\u043c\\u0438\\u0438 \\u043d\\u0430\\u0443\\u043a \\u0435\\u0434\\u0438\\u043d\\u043e\\u0433\\u043b\\u0430\\u0441\\u043d\\u043e \\u043f\\u043e\\u0434\\u0434\\u0435\\u0440\\u0436\\u0430\\u043b \\u0438\\u043d\\u0438\\u0446\\u0438\\u0430\\u0442\\u0438\\u0432\\u0443 \\u043e\\u0431\\u0449\\u0435\\u0441\\u0442\\u0432\\u0435\\u043d\\u043d\\u043e\\u0439 \\u043e\\u0440\\u0433\\u0430\\u043d\\u0438\\u0437\\u0430\\u0446\\u0438\\u0438 \\u00ab\\u0424\\u0438\\u043b\\u043e\\u043b\\u043e\\u0433\\u0438 \\u0437\\u0430 \\u0420\\u043e\\u0441\\u0441\\u0438\\u044e\\u00bb \\u0438 \\u043f\\u0435\\u0440\\u0435\\u0438\\u043c\\u0435\\u043d\\u043e\\u0432\\u0430\\u043d\\u0438\\u0438 \\u044f\\u0437\\u044b\\u043a\\u043e\\u0432 \\u0440\\u044f\\u0434\\u0430 \\u0441\\u0442\\u0440\\u0430\\u043d\\u0430 \\u0417\\u0430\\u043f\\u0430\\u0434\\u043d\\u043e\\u0439 \\u0415\\u0432\\u0440\\u043e\\u043f\\u044b \\u0438 \\u0421\\u0435\\u0432\\u0435\\u0440\\u043d\\u043e\\u0439 \\u0410\\u043c\\u0435\\u0440\\u0438\\u043a\\u0438. \\u0421 1 \\u044f\\u043d\\u0432\\u0430\\u0440\\u044f 2022 \\u0433\\u043e\\u0434\\u0430 \\u0432\\u0441\\u0435\\u043c \\u0430\\u0432\\u0442\\u043e\\u0440\\u0430\\u043c \\u043d\\u0430\\u0443\\u0447\\u043d\\u044b\\u0445 \\u0440\\u0430\\u0431\\u043e\\u0442 \\u0438 \\u0436\\u0443\\u0440\\u043d\\u0430\\u043b\\u0438\\u0441\\u0442\\u0430\\u043c \\u0440\\u0435\\u043a\\u043e\\u043c\\u0435\\u043d\\u0434\\u0443\\u0435\\u0442\\u0441\\u044f \\u0438\\u0441\\u043f\\u043e\\u043b\\u044c\\u0437\\u043e\\u0432\\u0430\\u0442\\u044c \\u043d\\u043e\\u0432\\u044b\\u0435 \\u043d\\u0430\\u0437\\u0432\\u0430\\u043d\\u0438\\u044f. \\u00ab\\u0421\\u043e\\u0432\\u0440\\u0435\\u043c\\u0435\\u043d\\u043d\\u044b\\u0435 \\u043d\\u0430\\u0437\\u0432\\u0430\\u043d\\u0438\\u044f \\u044f\\u0437\\u044b\\u043a\\u043e\\u0432 \\u0443\\u0445\\u043e\\u0434\\u044f\\u0442 \\u0441\\u0432\\u043e\\u0438\\u043c\\u0438 \\u043a\\u043e\\u0440\\u043d\\u044f\\u043c\\u0438 \\u0432 \\u0433\\u043b\\u0443\\u0431\\u044c \\u0432\\u0435\\u043a\\u043e\\u0432, \\u043a\\u043e\\u0433\\u0434\\u0430 \\u043c\\u0438\\u0440 \\u0431\\u044b\\u043b \\u0441\\u043e\\u0432\\u0435\\u0440\\u0448\\u0435\\u043d\\u043d\\u043e \\u0434\\u0440\\u0443\\u0433\\u0438\\u043c. \\u041d\\u0430\\u043f\\u0440\\u0438\\u043c\\u0435\\u0440, \\u043d\\u0430 \\u043f\\u043e\\u0440\\u0442\\u0443\\u0433\\u0430\\u043b\\u044c\\u0441\\u043a\\u043e\\u043c \\u0441\\u0435\\u0433\\u043e\\u0434\\u043d\\u044f \\u0433\\u043e\\u0432\\u043e\\u0440\\u044f\\u0442 250 \\u043c\\u0438\\u043b\\u043b\\u0438\\u043e\\u043d\\u043e\\u0432 \\u0447\\u0435\\u043b\\u043e\\u0432\\u0435\\u043a, \\u0438\\u0437 \\u043d\\u0438\\u0445 \\u00be \\u043f\\u0440\\u043e\\u0436\\u0438\\u0432\\u0430\\u044e\\u0442 \\u0432 \\u0411\\u0440\\u0430\\u0437\\u0438\\u043b\\u0438\\u0438. \\u041f\\u043e\\u044d\\u0442\\u043e\\u043c\\u0443 \\u043c\\u044b \\u0438 \\u043f\\u0440\\u0435\\u0434\\u043b\\u043e\\u0436\\u0438\\u043b\\u0438 \\u043f\\u0435\\u0440\\u0435\\u0438\\u043c\\u0435\\u043d\\u043e\\u0432\\u0430\\u0442\\u044c \\u0440\\u044f\\u0434 \\u0442\\u0430\\u043a\\u0438\\u0445 \\u044f\\u0437\\u044b\\u043a\\u043e\\u0432\\u00bb, \\u2013 \\u0440\\u0430\\u0441\\u0441\\u043a\\u0430\\u0437\\u0430\\u043b \\u0433\\u043b\\u0430\\u0432\\u0430 \\u00ab\\u0424\\u0438\\u043b\\u043e\\u043b\\u043e\\u0433\\u043e\\u0432 \\u0437\\u0430 \\u0420\\u043e\\u0441\\u0441\\u0438\\u044e\\u00bb \\u0414\\u043c\\u0438\\u0442\\u0440\\u0438\\u0439 \\u0410\\u0440\\u0434\\u0435\\u043b\\u044c. \\u041a\\u0440\\u043e\\u043c\\u0435 \\u043f\\u043e\\u0440\\u0442\\u0443\\u0433\\u0430\\u043b\\u044c\\u0441\\u043a\\u043e\\u0433\\u043e, \\u043d\\u043e\\u0432\\u044b\\u0435 \\u043d\\u0430\\u0437\\u0432\\u0430\\u043d\\u0438\\u044f \\u043f\\u043e\\u043b\\u0443\\u0447\\u0438\\u043b\\u0438 \\u0430\\u043d\\u0433\\u043b\\u0438\\u0439\\u0441\\u043a\\u0438\\u0439, \\u043a\\u043e\\u0442\\u043e\\u0440\\u044b\\u0439 \\u043f\\u0435\\u0440\\u0435\\u0438\\u043c\\u0435\\u043d\\u043e\\u0432\\u0430\\u043b\\u0438 \\u0432 \\u044e\\u0436\\u043d\\u043e\\u0430\\u0444\\u0440\\u0438\\u043a\\u0430\\u043d\\u0441\\u043a\\u0438\\u0439, \\u0438 \\u0438\\u0441\\u043f\\u0430\\u043d\\u0441\\u043a\\u0438\\u0439, \\u043f\\u0435\\u0440\\u0435\\u0438\\u043c\\u0435\\u043d\\u043e\\u0432\\u0430\\u043d\\u043d\\u044b\\u0439 \\u0432 \\u0432\\u0435\\u043d\\u0435\\u0441\\u0443\\u044d\\u043b\\u044c\\u0441\\u043a\\u0438\\u0439 \\u044f\\u0437\\u044b\\u043a. \\u041f\\u043e\\u043a\\u0430 \\u043e\\u0442\\u0432\\u0435\\u0442\\u0441\\u0442\\u0432\\u0435\\u043d\\u043d\\u043e\\u0441\\u0442\\u0438 \\u0437\\u0430 \\u0443\\u043f\\u043e\\u0442\\u0440\\u0435\\u0431\\u043b\\u0435\\u043d\\u0438\\u0435 \\u00ab\\u0441\\u0442\\u0430\\u0440\\u044b\\u0445 \\u043d\\u0430\\u0437\\u0432\\u0430\\u043d\\u0438\\u0439\\u00bb \\u043d\\u0435 \\u043f\\u0440\\u0435\\u0434\\u0443\\u0441\\u043c\\u043e\\u0442\\u0440\\u0435\\u043d\\u043e, \\u043e\\u0434\\u043d\\u0430\\u043a\\u043e \\u0432 \\u043d\\u0430\\u0447\\u0430\\u043b\\u0435 2023 \\u0433\\u043e\\u0434\\u0430 \\u0430\\u043a\\u0442\\u0438\\u0432\\u0438\\u0441\\u0442\\u044b \\u043f\\u043b\\u0430\\u043d\\u0438\\u0440\\u0443\\u044e\\u0442 \\u043e\\u0431\\u0440\\u0430\\u0442\\u0438\\u0442\\u044c\\u0441\\u044f \\u043a \\u0434\\u0435\\u043f\\u0443\\u0442\\u0430\\u0442\\u0430\\u043c \\u0413\\u043e\\u0441\\u0443\\u0434\\u0430\\u0440\\u0441\\u0442\\u0432\\u0435\\u043d\\u043d\\u043e\\u0439 \\u0434\\u0443\\u043c\\u044b \\u0441 \\u043f\\u0440\\u043e\\u0441\\u044c\\u0431\\u043e\\u0439 \\u0432\\u043d\\u0435\\u0441\\u0442\\u0438 \\u0441\\u043e\\u043e\\u0442\\u0432\\u0435\\u0442\\u0441\\u0442\\u0432\\u0443\\u044e\\u0449\\u0438\\u0435 \\u043f\\u043e\\u043f\\u0440\\u0430\\u0432\\u043a\\u0438 \\u0432 \\u041a\\u043e\\u0410\\u041f.\",\n          \"\\u0410\\u0432\\u0438\\u0430\\u043a\\u043e\\u043c\\u043f\\u0430\\u043d\\u0438\\u044f \\u00ab\\u041f\\u043e\\u0431\\u0435\\u0434\\u0430\\u00bb \\u043f\\u0440\\u0438\\u0434\\u0443\\u043c\\u0430\\u043b\\u0430 \\u043d\\u043e\\u0432\\u044b\\u0439 \\u0441\\u043f\\u043e\\u0441\\u043e\\u0431 \\u043e\\u0431\\u0435\\u0437\\u043e\\u043f\\u0430\\u0441\\u0438\\u0442\\u044c \\u043f\\u0430\\u0441\\u0441\\u0430\\u0436\\u0438\\u0440\\u043e\\u0432 \\u0441\\u0432\\u043e\\u0438\\u0445 \\u0440\\u0435\\u0439\\u0441\\u043e\\u0432. \\u0423\\u0447\\u0438\\u0442\\u044b\\u0432\\u0430\\u044f, \\u0447\\u0442\\u043e \\u043c\\u043d\\u043e\\u0433\\u0438\\u0435 \\u0438\\u0437 \\u043d\\u0438\\u0445 \\u043d\\u0435\\u0432\\u043d\\u0438\\u043c\\u0430\\u0442\\u0435\\u043b\\u044c\\u043d\\u043e \\u0441\\u043b\\u0443\\u0448\\u0430\\u044e\\u0442 \\u0438\\u043d\\u0441\\u0442\\u0440\\u0443\\u043a\\u0442\\u0430\\u0436 \\u043f\\u043e \\u0431\\u0435\\u0437\\u043e\\u043f\\u0430\\u0441\\u043d\\u043e\\u0441\\u0442\\u0438, \\u0430 \\u043d\\u0435\\u043a\\u043e\\u0442\\u043e\\u0440\\u044b\\u0435 \\u0434\\u0430\\u0436\\u0435 \\u043d\\u0435 \\u043a\\u043e\\u043d\\u0441\\u043f\\u0435\\u043a\\u0442\\u0438\\u0440\\u0443\\u044e\\u0442 \\u0435\\u0433\\u043e, \\u043e\\u0442\\u043d\\u044b\\u043d\\u0435 \\u0432\\u0441\\u0435\\u043c \\u0436\\u0435\\u043b\\u0430\\u044e\\u0449\\u0438\\u043c \\u0441\\u043e\\u0432\\u0435\\u0440\\u0448\\u0438\\u0442\\u044c \\u043f\\u0435\\u0440\\u0435\\u043b\\u0451\\u0442 \\u043f\\u0440\\u0438\\u0434\\u0451\\u0442\\u0441\\u044f \\u0441\\u0434\\u0430\\u0442\\u044c \\u044d\\u043a\\u0437\\u0430\\u043c\\u0435\\u043d \\u0435\\u0449\\u0451 \\u0432 \\u0430\\u044d\\u0440\\u043e\\u043f\\u043e\\u0440\\u0442\\u0443. \\u042d\\u043a\\u0437\\u0430\\u043c\\u0435\\u043d \\u043d\\u0435\\u043e\\u0431\\u0445\\u043e\\u0434\\u0438\\u043c\\u043e \\u0431\\u0443\\u0434\\u0435\\u0442 \\u0441\\u0434\\u0430\\u0442\\u044c \\u043d\\u0430 \\u0441\\u0442\\u043e\\u0439\\u043a\\u0435 \\u0440\\u0435\\u0433\\u0438\\u0441\\u0442\\u0440\\u0430\\u0446\\u0438\\u0438 \\u043d\\u0435 \\u043c\\u0435\\u043d\\u0435\\u0435 \\u0447\\u0435\\u043c \\u0437\\u0430 30 \\u043c\\u0438\\u043d\\u0443\\u0442, \\u043d\\u043e \\u0438 \\u043d\\u0435 \\u0431\\u043e\\u043b\\u0435\\u0435, \\u0447\\u0435\\u043c \\u0437\\u0430 60 \\u043c\\u0438\\u043d\\u0443\\u0442 \\u0434\\u043e \\u043d\\u0430\\u0447\\u0430\\u043b\\u0430 \\u043f\\u043e\\u0441\\u0430\\u0434\\u043a\\u0438. \\u0414\\u043b\\u044f \\u044d\\u043a\\u0437\\u0430\\u043c\\u0435\\u043d\\u0430\\u0446\\u0438\\u0438 \\u0437\\u0430\\u0434\\u0435\\u0439\\u0441\\u0442\\u0432\\u0443\\u044e\\u0442 \\u043a\\u043e\\u043c\\u043f\\u044c\\u044e\\u0442\\u0435\\u0440 \\u043d\\u0430 \\u0441\\u0442\\u043e\\u0439\\u043a\\u0435, \\u0430 \\u0442\\u0430\\u043c, \\u0433\\u0434\\u0435 \\u044d\\u0442\\u043e \\u043d\\u0435\\u0432\\u043e\\u0437\\u043c\\u043e\\u0436\\u043d\\u043e (\\u043d\\u0430\\u043f\\u0440\\u0438\\u043c\\u0435\\u0440, \\u0432 \\u0440\\u0435\\u0433\\u0438\\u043e\\u043d\\u0430\\u043b\\u044c\\u043d\\u044b\\u0445 \\u0430\\u044d\\u0440\\u043e\\u043f\\u043e\\u0440\\u0442\\u0430\\u0445, \\u043a\\u043e\\u0442\\u043e\\u0440\\u044b\\u0435 \\u0435\\u0449\\u0451 \\u043d\\u0435 \\u044d\\u043b\\u0435\\u043a\\u0442\\u0440\\u0438\\u0444\\u0438\\u0446\\u0438\\u0440\\u043e\\u0432\\u0430\\u043d\\u044b), \\u043f\\u0430\\u0441\\u0441\\u0430\\u0436\\u0438\\u0440\\u0430\\u043c \\u0432\\u044b\\u0434\\u0430\\u0434\\u0443\\u0442 \\u0431\\u0443\\u043c\\u0430\\u0436\\u043d\\u044b\\u0435 \\u0431\\u0438\\u043b\\u0435\\u0442\\u044b. \\u0412 \\u043f\\u0440\\u0435\\u0441\\u0441-\\u0441\\u043b\\u0443\\u0436\\u0431\\u0435 \\u043a\\u043e\\u043c\\u043f\\u0430\\u043d\\u0438\\u0438 \\u0441\\u043e\\u043e\\u0431\\u0449\\u0438\\u043b\\u0438, \\u0447\\u0442\\u043e \\u0447\\u0440\\u0435\\u0437\\u0432\\u044b\\u0447\\u0430\\u0439\\u043d\\u043e \\u0441\\u0435\\u0440\\u044c\\u0451\\u0437\\u043d\\u043e \\u043e\\u0442\\u043d\\u043e\\u0441\\u044f\\u0442\\u0441\\u044f \\u043a \\u0432\\u043e\\u043f\\u0440\\u043e\\u0441\\u0430\\u043c \\u0431\\u0435\\u0437\\u043e\\u043f\\u0430\\u0441\\u043d\\u043e\\u0441\\u0442\\u0438. \\u0418\\u0441\\u0445\\u043e\\u0434\\u044f \\u0438\\u0437 \\u0437\\u0430\\u0431\\u043e\\u0442\\u044b \\u043e \\u043f\\u0430\\u0441\\u0441\\u0430\\u0436\\u0438\\u0440\\u0430\\u0445, \\u0442\\u0435\\u0445 \\u0438\\u0437 \\u043d\\u0438\\u0445, \\u043a\\u0442\\u043e \\u043f\\u0440\\u043e\\u0432\\u0430\\u043b\\u0438\\u043b \\u044d\\u043a\\u0437\\u0430\\u043c\\u0435\\u043d \\u0438 \\u043d\\u0435 \\u0443\\u0441\\u043f\\u0435\\u043b \\u043d\\u0430 \\u043f\\u0435\\u0440\\u0435\\u0441\\u0434\\u0430\\u0447\\u0443 (\\u0434\\u0432\\u0435 \\u043f\\u043b\\u0430\\u0442\\u043d\\u044b\\u0445 \\u043f\\u043e\\u043f\\u044b\\u0442\\u043a\\u0438), \\u043d\\u0435 \\u0434\\u043e\\u043f\\u0443\\u0441\\u0442\\u044f\\u0442 \\u043a \\u043f\\u043e\\u043b\\u0451\\u0442\\u0443.\"\n        ],\n        \"semantic_type\": \"\",\n        \"description\": \"\"\n      }\n    },\n    {\n      \"column\": \"link\",\n      \"properties\": {\n        \"dtype\": \"string\",\n        \"num_unique_values\": 625,\n        \"samples\": [\n          \"https://panorama.pub/54440-papa-rimskij-poobeshhal-200-evro.html\",\n          \"https://panorama.pub/news/prezidium-ran-prinal-resenie-polozit\",\n          \"https://panorama.pub/news/kto-ne-sdal-tot-ne\"\n        ],\n        \"semantic_type\": \"\",\n        \"description\": \"\"\n      }\n    }\n  ]\n}"
            }
          },
          "metadata": {},
          "execution_count": 93
        }
      ]
    },
    {
      "cell_type": "code",
      "source": [
        "#Для начала поработаем с одной из новостей. Будем использовать Spacy\n",
        "#По размеченному тексту можно итерировать: идти слово за словом и получать необходимую разметку\n",
        "\n",
        "news_nlp = nlp_spacy(panorama_corpus['text'][0])\n",
        "\n",
        "#Идём в цикле по одному слову\n",
        "#Функция enumerate() считает слова изаписывает номер в переменную word_index\n",
        "for word_index, word in enumerate(news_nlp):\n",
        "    print([word, word.lemma_, word.pos_, str(word.morph), word.dep_, word.head])\n",
        "    if word_index >= 10:\n",
        "      break"
      ],
      "metadata": {
        "colab": {
          "base_uri": "https://localhost:8080/"
        },
        "id": "TiNmweXb3ygG",
        "outputId": "43a19254-7360-4da1-87b4-8ad75666a2e1"
      },
      "execution_count": 98,
      "outputs": [
        {
          "output_type": "stream",
          "name": "stdout",
          "text": [
            "[Государственная, 'государственный', 'ADJ', 'Case=Nom|Degree=Pos|Gender=Fem|Number=Sing', 'amod', дума]\n",
            "[дума, 'дума', 'NOUN', 'Animacy=Inan|Case=Nom|Gender=Fem|Number=Sing', 'nsubj', приняла]\n",
            "[приняла, 'принять', 'VERB', 'Aspect=Perf|Gender=Fem|Mood=Ind|Number=Sing|Tense=Past|VerbForm=Fin|Voice=Act', 'ROOT', приняла]\n",
            "[в, 'в', 'ADP', '', 'case', чтении]\n",
            "[третьем, 'третий', 'ADJ', 'Case=Loc|Degree=Pos|Gender=Neut|Number=Sing', 'amod', чтении]\n",
            "[чтении, 'чтение', 'NOUN', 'Animacy=Inan|Case=Loc|Gender=Neut|Number=Sing', 'obl', приняла]\n",
            "[законопроект«О, 'законопроект«о', 'NOUN', 'Animacy=Inan|Case=Acc|Gender=Masc|Number=Sing', 'nmod', чтении]\n",
            "[внесении, 'внесение', 'NOUN', 'Animacy=Inan|Case=Loc|Gender=Neut|Number=Sing', 'obj', приняла]\n",
            "[изменении, 'изменение', 'NOUN', 'Animacy=Inan|Case=Loc|Gender=Neut|Number=Sing', 'nmod', внесении]\n",
            "[в, 'в', 'ADP', '', 'case', порядок]\n",
            "[порядок, 'порядок', 'NOUN', 'Animacy=Inan|Case=Acc|Gender=Masc|Number=Sing', 'nmod', изменении]\n"
          ]
        }
      ]
    },
    {
      "cell_type": "code",
      "source": [
        "#Делаем то же самое — но для каждой из новостей, и записываем всю разметку в список\n",
        "#Также записываем номер каждого слова и новости — это пригодится нам потом\n",
        "\n",
        "words = []\n",
        "\n",
        "for text_index, row in enumerate(panorama_corpus['text']):\n",
        "  news_nlp = nlp_spacy(row)\n",
        "  for word_index, word in enumerate(news_nlp):\n",
        "    words.append([word_index, text_index, word, word.lemma_, word.pos_,\n",
        "                  str(word.morph), word.dep_, word.head])"
      ],
      "metadata": {
        "id": "CRPu2zeJ60Zh"
      },
      "execution_count": 99,
      "outputs": []
    },
    {
      "cell_type": "code",
      "source": [
        "words[:2]"
      ],
      "metadata": {
        "colab": {
          "base_uri": "https://localhost:8080/"
        },
        "id": "xR0hxMBa-Swv",
        "outputId": "34e903d3-93b6-4da9-a8fd-bca1386da020"
      },
      "execution_count": 107,
      "outputs": [
        {
          "output_type": "execute_result",
          "data": {
            "text/plain": [
              "[[0,\n",
              "  0,\n",
              "  Государственная,\n",
              "  'государственный',\n",
              "  'ADJ',\n",
              "  'Case=Nom|Degree=Pos|Gender=Fem|Number=Sing',\n",
              "  'amod',\n",
              "  дума],\n",
              " [1,\n",
              "  0,\n",
              "  дума,\n",
              "  'дума',\n",
              "  'NOUN',\n",
              "  'Animacy=Inan|Case=Nom|Gender=Fem|Number=Sing',\n",
              "  'nsubj',\n",
              "  приняла]]"
            ]
          },
          "metadata": {},
          "execution_count": 107
        }
      ]
    },
    {
      "cell_type": "code",
      "source": [
        "#Добавляем названия столбцов будущей таблицы\n",
        "\n",
        "cols = ['index', 'text_index', 'word', 'lemma', 'pos', 'morph',\n",
        "        'synt_relation', 'head']\n",
        "\n",
        "#Превращаем в таблицу полученный текст\n",
        "\n",
        "panorama_by_word = pd.DataFrame(words, columns = cols)"
      ],
      "metadata": {
        "id": "ut37MrQH_MGP"
      },
      "execution_count": 150,
      "outputs": []
    },
    {
      "cell_type": "code",
      "source": [
        "#Теперь у нас есть таблица, где каждое слово размечено!\n",
        "#Уже можно представить, как с ней работать, но конкретные инструменты обсудим на следующей паре\n",
        "\n",
        "panorama_by_word.head()"
      ],
      "metadata": {
        "colab": {
          "base_uri": "https://localhost:8080/",
          "height": 206
        },
        "id": "SfAfL7WQ_XhS",
        "outputId": "39e333cf-5e70-4f82-8291-f3c6db74f647"
      },
      "execution_count": 151,
      "outputs": [
        {
          "output_type": "execute_result",
          "data": {
            "text/plain": [
              "   index  text_index             word            lemma   pos  \\\n",
              "0      0           0  Государственная  государственный   ADJ   \n",
              "1      1           0             дума             дума  NOUN   \n",
              "2      2           0          приняла          принять  VERB   \n",
              "3      3           0                в                в   ADP   \n",
              "4      4           0          третьем           третий   ADJ   \n",
              "\n",
              "                                               morph synt_relation  head  \n",
              "0         Case=Nom|Degree=Pos|Gender=Fem|Number=Sing          amod     2  \n",
              "1       Animacy=Inan|Case=Nom|Gender=Fem|Number=Sing         nsubj     3  \n",
              "2  Aspect=Perf|Gender=Fem|Mood=Ind|Number=Sing|Te...          root     0  \n",
              "3                                               None          case     6  \n",
              "4        Case=Loc|Degree=Pos|Gender=Neut|Number=Sing          amod     6  "
            ],
            "text/html": [
              "\n",
              "  <div id=\"df-fcabc31b-ed9d-46f4-9b02-c4737e227af0\" class=\"colab-df-container\">\n",
              "    <div>\n",
              "<style scoped>\n",
              "    .dataframe tbody tr th:only-of-type {\n",
              "        vertical-align: middle;\n",
              "    }\n",
              "\n",
              "    .dataframe tbody tr th {\n",
              "        vertical-align: top;\n",
              "    }\n",
              "\n",
              "    .dataframe thead th {\n",
              "        text-align: right;\n",
              "    }\n",
              "</style>\n",
              "<table border=\"1\" class=\"dataframe\">\n",
              "  <thead>\n",
              "    <tr style=\"text-align: right;\">\n",
              "      <th></th>\n",
              "      <th>index</th>\n",
              "      <th>text_index</th>\n",
              "      <th>word</th>\n",
              "      <th>lemma</th>\n",
              "      <th>pos</th>\n",
              "      <th>morph</th>\n",
              "      <th>synt_relation</th>\n",
              "      <th>head</th>\n",
              "    </tr>\n",
              "  </thead>\n",
              "  <tbody>\n",
              "    <tr>\n",
              "      <th>0</th>\n",
              "      <td>0</td>\n",
              "      <td>0</td>\n",
              "      <td>Государственная</td>\n",
              "      <td>государственный</td>\n",
              "      <td>ADJ</td>\n",
              "      <td>Case=Nom|Degree=Pos|Gender=Fem|Number=Sing</td>\n",
              "      <td>amod</td>\n",
              "      <td>2</td>\n",
              "    </tr>\n",
              "    <tr>\n",
              "      <th>1</th>\n",
              "      <td>1</td>\n",
              "      <td>0</td>\n",
              "      <td>дума</td>\n",
              "      <td>дума</td>\n",
              "      <td>NOUN</td>\n",
              "      <td>Animacy=Inan|Case=Nom|Gender=Fem|Number=Sing</td>\n",
              "      <td>nsubj</td>\n",
              "      <td>3</td>\n",
              "    </tr>\n",
              "    <tr>\n",
              "      <th>2</th>\n",
              "      <td>2</td>\n",
              "      <td>0</td>\n",
              "      <td>приняла</td>\n",
              "      <td>принять</td>\n",
              "      <td>VERB</td>\n",
              "      <td>Aspect=Perf|Gender=Fem|Mood=Ind|Number=Sing|Te...</td>\n",
              "      <td>root</td>\n",
              "      <td>0</td>\n",
              "    </tr>\n",
              "    <tr>\n",
              "      <th>3</th>\n",
              "      <td>3</td>\n",
              "      <td>0</td>\n",
              "      <td>в</td>\n",
              "      <td>в</td>\n",
              "      <td>ADP</td>\n",
              "      <td>None</td>\n",
              "      <td>case</td>\n",
              "      <td>6</td>\n",
              "    </tr>\n",
              "    <tr>\n",
              "      <th>4</th>\n",
              "      <td>4</td>\n",
              "      <td>0</td>\n",
              "      <td>третьем</td>\n",
              "      <td>третий</td>\n",
              "      <td>ADJ</td>\n",
              "      <td>Case=Loc|Degree=Pos|Gender=Neut|Number=Sing</td>\n",
              "      <td>amod</td>\n",
              "      <td>6</td>\n",
              "    </tr>\n",
              "  </tbody>\n",
              "</table>\n",
              "</div>\n",
              "    <div class=\"colab-df-buttons\">\n",
              "\n",
              "  <div class=\"colab-df-container\">\n",
              "    <button class=\"colab-df-convert\" onclick=\"convertToInteractive('df-fcabc31b-ed9d-46f4-9b02-c4737e227af0')\"\n",
              "            title=\"Convert this dataframe to an interactive table.\"\n",
              "            style=\"display:none;\">\n",
              "\n",
              "  <svg xmlns=\"http://www.w3.org/2000/svg\" height=\"24px\" viewBox=\"0 -960 960 960\">\n",
              "    <path d=\"M120-120v-720h720v720H120Zm60-500h600v-160H180v160Zm220 220h160v-160H400v160Zm0 220h160v-160H400v160ZM180-400h160v-160H180v160Zm440 0h160v-160H620v160ZM180-180h160v-160H180v160Zm440 0h160v-160H620v160Z\"/>\n",
              "  </svg>\n",
              "    </button>\n",
              "\n",
              "  <style>\n",
              "    .colab-df-container {\n",
              "      display:flex;\n",
              "      gap: 12px;\n",
              "    }\n",
              "\n",
              "    .colab-df-convert {\n",
              "      background-color: #E8F0FE;\n",
              "      border: none;\n",
              "      border-radius: 50%;\n",
              "      cursor: pointer;\n",
              "      display: none;\n",
              "      fill: #1967D2;\n",
              "      height: 32px;\n",
              "      padding: 0 0 0 0;\n",
              "      width: 32px;\n",
              "    }\n",
              "\n",
              "    .colab-df-convert:hover {\n",
              "      background-color: #E2EBFA;\n",
              "      box-shadow: 0px 1px 2px rgba(60, 64, 67, 0.3), 0px 1px 3px 1px rgba(60, 64, 67, 0.15);\n",
              "      fill: #174EA6;\n",
              "    }\n",
              "\n",
              "    .colab-df-buttons div {\n",
              "      margin-bottom: 4px;\n",
              "    }\n",
              "\n",
              "    [theme=dark] .colab-df-convert {\n",
              "      background-color: #3B4455;\n",
              "      fill: #D2E3FC;\n",
              "    }\n",
              "\n",
              "    [theme=dark] .colab-df-convert:hover {\n",
              "      background-color: #434B5C;\n",
              "      box-shadow: 0px 1px 3px 1px rgba(0, 0, 0, 0.15);\n",
              "      filter: drop-shadow(0px 1px 2px rgba(0, 0, 0, 0.3));\n",
              "      fill: #FFFFFF;\n",
              "    }\n",
              "  </style>\n",
              "\n",
              "    <script>\n",
              "      const buttonEl =\n",
              "        document.querySelector('#df-fcabc31b-ed9d-46f4-9b02-c4737e227af0 button.colab-df-convert');\n",
              "      buttonEl.style.display =\n",
              "        google.colab.kernel.accessAllowed ? 'block' : 'none';\n",
              "\n",
              "      async function convertToInteractive(key) {\n",
              "        const element = document.querySelector('#df-fcabc31b-ed9d-46f4-9b02-c4737e227af0');\n",
              "        const dataTable =\n",
              "          await google.colab.kernel.invokeFunction('convertToInteractive',\n",
              "                                                    [key], {});\n",
              "        if (!dataTable) return;\n",
              "\n",
              "        const docLinkHtml = 'Like what you see? Visit the ' +\n",
              "          '<a target=\"_blank\" href=https://colab.research.google.com/notebooks/data_table.ipynb>data table notebook</a>'\n",
              "          + ' to learn more about interactive tables.';\n",
              "        element.innerHTML = '';\n",
              "        dataTable['output_type'] = 'display_data';\n",
              "        await google.colab.output.renderOutput(dataTable, element);\n",
              "        const docLink = document.createElement('div');\n",
              "        docLink.innerHTML = docLinkHtml;\n",
              "        element.appendChild(docLink);\n",
              "      }\n",
              "    </script>\n",
              "  </div>\n",
              "\n",
              "\n",
              "<div id=\"df-cc43477c-838e-45d7-9627-e2c8f187e5e0\">\n",
              "  <button class=\"colab-df-quickchart\" onclick=\"quickchart('df-cc43477c-838e-45d7-9627-e2c8f187e5e0')\"\n",
              "            title=\"Suggest charts\"\n",
              "            style=\"display:none;\">\n",
              "\n",
              "<svg xmlns=\"http://www.w3.org/2000/svg\" height=\"24px\"viewBox=\"0 0 24 24\"\n",
              "     width=\"24px\">\n",
              "    <g>\n",
              "        <path d=\"M19 3H5c-1.1 0-2 .9-2 2v14c0 1.1.9 2 2 2h14c1.1 0 2-.9 2-2V5c0-1.1-.9-2-2-2zM9 17H7v-7h2v7zm4 0h-2V7h2v10zm4 0h-2v-4h2v4z\"/>\n",
              "    </g>\n",
              "</svg>\n",
              "  </button>\n",
              "\n",
              "<style>\n",
              "  .colab-df-quickchart {\n",
              "      --bg-color: #E8F0FE;\n",
              "      --fill-color: #1967D2;\n",
              "      --hover-bg-color: #E2EBFA;\n",
              "      --hover-fill-color: #174EA6;\n",
              "      --disabled-fill-color: #AAA;\n",
              "      --disabled-bg-color: #DDD;\n",
              "  }\n",
              "\n",
              "  [theme=dark] .colab-df-quickchart {\n",
              "      --bg-color: #3B4455;\n",
              "      --fill-color: #D2E3FC;\n",
              "      --hover-bg-color: #434B5C;\n",
              "      --hover-fill-color: #FFFFFF;\n",
              "      --disabled-bg-color: #3B4455;\n",
              "      --disabled-fill-color: #666;\n",
              "  }\n",
              "\n",
              "  .colab-df-quickchart {\n",
              "    background-color: var(--bg-color);\n",
              "    border: none;\n",
              "    border-radius: 50%;\n",
              "    cursor: pointer;\n",
              "    display: none;\n",
              "    fill: var(--fill-color);\n",
              "    height: 32px;\n",
              "    padding: 0;\n",
              "    width: 32px;\n",
              "  }\n",
              "\n",
              "  .colab-df-quickchart:hover {\n",
              "    background-color: var(--hover-bg-color);\n",
              "    box-shadow: 0 1px 2px rgba(60, 64, 67, 0.3), 0 1px 3px 1px rgba(60, 64, 67, 0.15);\n",
              "    fill: var(--button-hover-fill-color);\n",
              "  }\n",
              "\n",
              "  .colab-df-quickchart-complete:disabled,\n",
              "  .colab-df-quickchart-complete:disabled:hover {\n",
              "    background-color: var(--disabled-bg-color);\n",
              "    fill: var(--disabled-fill-color);\n",
              "    box-shadow: none;\n",
              "  }\n",
              "\n",
              "  .colab-df-spinner {\n",
              "    border: 2px solid var(--fill-color);\n",
              "    border-color: transparent;\n",
              "    border-bottom-color: var(--fill-color);\n",
              "    animation:\n",
              "      spin 1s steps(1) infinite;\n",
              "  }\n",
              "\n",
              "  @keyframes spin {\n",
              "    0% {\n",
              "      border-color: transparent;\n",
              "      border-bottom-color: var(--fill-color);\n",
              "      border-left-color: var(--fill-color);\n",
              "    }\n",
              "    20% {\n",
              "      border-color: transparent;\n",
              "      border-left-color: var(--fill-color);\n",
              "      border-top-color: var(--fill-color);\n",
              "    }\n",
              "    30% {\n",
              "      border-color: transparent;\n",
              "      border-left-color: var(--fill-color);\n",
              "      border-top-color: var(--fill-color);\n",
              "      border-right-color: var(--fill-color);\n",
              "    }\n",
              "    40% {\n",
              "      border-color: transparent;\n",
              "      border-right-color: var(--fill-color);\n",
              "      border-top-color: var(--fill-color);\n",
              "    }\n",
              "    60% {\n",
              "      border-color: transparent;\n",
              "      border-right-color: var(--fill-color);\n",
              "    }\n",
              "    80% {\n",
              "      border-color: transparent;\n",
              "      border-right-color: var(--fill-color);\n",
              "      border-bottom-color: var(--fill-color);\n",
              "    }\n",
              "    90% {\n",
              "      border-color: transparent;\n",
              "      border-bottom-color: var(--fill-color);\n",
              "    }\n",
              "  }\n",
              "</style>\n",
              "\n",
              "  <script>\n",
              "    async function quickchart(key) {\n",
              "      const quickchartButtonEl =\n",
              "        document.querySelector('#' + key + ' button');\n",
              "      quickchartButtonEl.disabled = true;  // To prevent multiple clicks.\n",
              "      quickchartButtonEl.classList.add('colab-df-spinner');\n",
              "      try {\n",
              "        const charts = await google.colab.kernel.invokeFunction(\n",
              "            'suggestCharts', [key], {});\n",
              "      } catch (error) {\n",
              "        console.error('Error during call to suggestCharts:', error);\n",
              "      }\n",
              "      quickchartButtonEl.classList.remove('colab-df-spinner');\n",
              "      quickchartButtonEl.classList.add('colab-df-quickchart-complete');\n",
              "    }\n",
              "    (() => {\n",
              "      let quickchartButtonEl =\n",
              "        document.querySelector('#df-cc43477c-838e-45d7-9627-e2c8f187e5e0 button');\n",
              "      quickchartButtonEl.style.display =\n",
              "        google.colab.kernel.accessAllowed ? 'block' : 'none';\n",
              "    })();\n",
              "  </script>\n",
              "</div>\n",
              "    </div>\n",
              "  </div>\n"
            ],
            "application/vnd.google.colaboratory.intrinsic+json": {
              "type": "dataframe",
              "variable_name": "panorama_by_word",
              "summary": "{\n  \"name\": \"panorama_by_word\",\n  \"rows\": 9572,\n  \"fields\": [\n    {\n      \"column\": \"index\",\n      \"properties\": {\n        \"dtype\": \"number\",\n        \"std\": 63,\n        \"min\": 0,\n        \"max\": 334,\n        \"num_unique_values\": 335,\n        \"samples\": [\n          25,\n          109,\n          76\n        ],\n        \"semantic_type\": \"\",\n        \"description\": \"\"\n      }\n    },\n    {\n      \"column\": \"text_index\",\n      \"properties\": {\n        \"dtype\": \"number\",\n        \"std\": 14,\n        \"min\": 0,\n        \"max\": 50,\n        \"num_unique_values\": 51,\n        \"samples\": [\n          43,\n          40,\n          46\n        ],\n        \"semantic_type\": \"\",\n        \"description\": \"\"\n      }\n    },\n    {\n      \"column\": \"word\",\n      \"properties\": {\n        \"dtype\": \"category\",\n        \"num_unique_values\": 4377,\n        \"samples\": [\n          \"\\u0434\\u0440\\u0443\\u0433\\u0438\\u0435\",\n          \"\\u0441\\u043e\\u043e\\u0442\\u0432\\u0435\\u0442\\u0441\\u0442\\u0432\\u0443\\u0435\\u0442\",\n          \"\\u042d\\u0434\\u0438\\u043d\\u0431\\u0443\\u0440\\u0433\\u0435\"\n        ],\n        \"semantic_type\": \"\",\n        \"description\": \"\"\n      }\n    },\n    {\n      \"column\": \"lemma\",\n      \"properties\": {\n        \"dtype\": \"category\",\n        \"num_unique_values\": 2922,\n        \"samples\": [\n          \"\\u0435\\u0436\\u0435\\u0433\\u043e\\u0434\\u043d\\u043e\",\n          \"\\u0442\\u0440\\u0443\\u0434\\u043d\\u044b\\u0439\",\n          \"\\u043f\\u043b\\u0430\\u043d\"\n        ],\n        \"semantic_type\": \"\",\n        \"description\": \"\"\n      }\n    },\n    {\n      \"column\": \"pos\",\n      \"properties\": {\n        \"dtype\": \"category\",\n        \"num_unique_values\": 15,\n        \"samples\": [\n          \"PROPN\",\n          \"SCONJ\",\n          \"ADJ\"\n        ],\n        \"semantic_type\": \"\",\n        \"description\": \"\"\n      }\n    },\n    {\n      \"column\": \"morph\",\n      \"properties\": {\n        \"dtype\": \"category\",\n        \"num_unique_values\": 357,\n        \"samples\": [\n          \"Aspect=Imp|Gender=Fem|Mood=Ind|Number=Sing|Tense=Past|VerbForm=Fin|Voice=Mid\",\n          \"Case=Gen|Degree=Pos|Gender=Masc|Number=Sing\",\n          \"Case=Ins|Gender=Fem|Number=Sing|PronType=Dem\"\n        ],\n        \"semantic_type\": \"\",\n        \"description\": \"\"\n      }\n    },\n    {\n      \"column\": \"synt_relation\",\n      \"properties\": {\n        \"dtype\": \"category\",\n        \"num_unique_values\": 39,\n        \"samples\": [\n          \"compound\",\n          \"nummod:gov\",\n          \"obl\"\n        ],\n        \"semantic_type\": \"\",\n        \"description\": \"\"\n      }\n    },\n    {\n      \"column\": \"head\",\n      \"properties\": {\n        \"dtype\": \"number\",\n        \"std\": 8,\n        \"min\": 0,\n        \"max\": 56,\n        \"num_unique_values\": 54,\n        \"samples\": [\n          27,\n          53,\n          52\n        ],\n        \"semantic_type\": \"\",\n        \"description\": \"\"\n      }\n    }\n  ]\n}"
            }
          },
          "metadata": {},
          "execution_count": 151
        }
      ]
    },
    {
      "cell_type": "markdown",
      "source": [
        "Далее аналогичная разметка с помощью других анализаторов — на случай, если при вашей работе покажется полезным использовать какой-то другой"
      ],
      "metadata": {
        "id": "clKnJLwUFcrD"
      }
    },
    {
      "cell_type": "code",
      "source": [
        "#Аналогичная разметка с помощью pymorphy (берём самый вероятный вариант разметки;\n",
        "#без синтаксиса; удаляем пунктуацию)\n",
        "\n",
        "import re\n",
        "\n",
        "cols = ['index', 'text_index', 'word', 'lemma', 'morph']\n",
        "words = []\n",
        "\n",
        "for text_index, row in enumerate(panorama_corpus['text']):\n",
        "\n",
        "  row = re.sub('[^a-zа-я]+', ' ', text.lower())\n",
        "\n",
        "  for word_index, word in enumerate(row.split()):\n",
        "    word_parsed = morph_pymorphy.parse(word)[0]\n",
        "    words.append([word_index, text_index, word, word_parsed.normal_form, word_parsed.tag])\n",
        "\n",
        "panorama_by_word = pd.DataFrame(words, columns = cols)"
      ],
      "metadata": {
        "id": "vcKQBlGk_Zub"
      },
      "execution_count": 111,
      "outputs": []
    },
    {
      "cell_type": "code",
      "source": [
        "#Аналогичная разметка с помощью Mystem (берём самый вероятный вариант разметки;\n",
        "#без синтаксиса; удаляем пунктуацию)\n",
        "\n",
        "cols = ['index', 'text_index', 'word', 'lemma', 'morph']\n",
        "words = []\n",
        "\n",
        "for text_index, row in enumerate(panorama_corpus['text']):\n",
        "  news_nlp = morph_mystem.analyze(row)\n",
        "  for word_index, word in enumerate(news_nlp):\n",
        "    try:\n",
        "      words.append([word_index, text_index, word['text'], word['analysis'][0]['lex'],\n",
        "                  word['analysis'][0]['gr']])\n",
        "    except KeyError:\n",
        "      if word['text'] == ' ':\n",
        "        continue\n",
        "      else:\n",
        "        words.append([word_index, text_index, word['text'], '', ''])\n",
        "    except IndexError:\n",
        "      words.append([word_index, text_index, word['text'], 'NA', 'NA'])\n",
        "\n",
        "panorama_by_word = pd.DataFrame(words, columns = cols)"
      ],
      "metadata": {
        "id": "SUAZcgbcFMCT"
      },
      "execution_count": 142,
      "outputs": []
    },
    {
      "cell_type": "code",
      "source": [
        "#Аналогичная разметка с помощью Stanza (работает долго)\n",
        "\n",
        "cols = ['index', 'text_index', 'word', 'lemma', 'pos', 'morph',\n",
        "        'synt_relation', 'head']\n",
        "words = []\n",
        "\n",
        "for text_index, row in enumerate(panorama_corpus['text']):\n",
        "  news_nlp = nlp_stanza(row)\n",
        "  for word_index, word in enumerate(news_nlp.iter_words()):\n",
        "    words.append([word_index, text_index, word.text, word.lemma, word.upos, word.feats,\n",
        "                  word.deprel, word.head])\n",
        "\n",
        "panorama_by_word = pd.DataFrame(words, columns = cols)"
      ],
      "metadata": {
        "id": "XVCk04bAPIHz"
      },
      "execution_count": null,
      "outputs": []
    }
  ]
}