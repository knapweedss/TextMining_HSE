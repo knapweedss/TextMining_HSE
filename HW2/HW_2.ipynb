{
  "nbformat": 4,
  "nbformat_minor": 0,
  "metadata": {
    "colab": {
      "provenance": []
    },
    "kernelspec": {
      "name": "python3",
      "display_name": "Python 3"
    },
    "language_info": {
      "name": "python"
    }
  },
  "cells": [
    {
      "cell_type": "markdown",
      "source": [
        "# Домашнее задание №2:\n",
        "### В рамках домашнего задания необходимо провести кластеризацию текста, выполнив всю необходимую предобработку, а также поэксперементировать с кодличеством кластеров"
      ],
      "metadata": {
        "id": "hPbxrtZpfxdP"
      }
    },
    {
      "cell_type": "markdown",
      "source": [
        "# Данные\n",
        "Данные доступны по ссылке:\n",
        "\n",
        "```\n",
        "https://github.com/knapweedss/TextMining_HSE/raw/main/dataHW2/asos.csv\n",
        "```\n",
        "Датасет состоит из отзывов на asos"
      ],
      "metadata": {
        "id": "8yvLBMgBUpTO"
      }
    },
    {
      "cell_type": "markdown",
      "source": [
        "## Обязательно к выполнению (оценка 8)\n",
        "\n",
        "1. предобработка данных\n",
        "2. векторизация (tf-idf)\n",
        "3. кластеризация (k-means) - необходимо пояснить выбранное количество кластеров\n",
        "4. визуализация полученных кластеров\n",
        "\n",
        "## Дополнительно (оценка 10)\n",
        "6. На выбор: проанализировать кластеры с разным количеством и применить понижение размерности (TSNE или PCA) / посмотреть и попробовать другой алгоритм кластеризации (библиотека sklearn)\n"
      ],
      "metadata": {
        "id": "ByetScTKtOPl"
      }
    },
    {
      "cell_type": "markdown",
      "source": [
        "# Требования к отправке:\n",
        "* Название: TextMining2024_группа_ФамилияИмя_HW_2 Например: TextMining2024_4321_ПанькинНикита_HW_2.ipynb\n",
        "* После решения задания необходимо скачать файл (Файл -> Скачать -> IPYNB)\n",
        "* Затем отправить этот файл на почту cornflowersarecute@gmail.com, тема письма должна быть аналогична названию файла (без .ipynb)\n",
        "* Или же выложить на гитхаб и в письме отправить ссылку на гитхаб"
      ],
      "metadata": {
        "id": "eoHS1YerrELs"
      }
    },
    {
      "cell_type": "markdown",
      "source": [
        "# Дедлайн - 12.07.2024 12:00, далее работы не принимаются.\n",
        "* Ответы на вопросы по ДЗ прекращаются 10.05.2024 в 23:59"
      ],
      "metadata": {
        "id": "Kkr8xnAP0MRf"
      }
    },
    {
      "cell_type": "markdown",
      "source": [
        "Перед отправкой лишний раз проверьте, что тетрадка выполняется с нуля (Среда выполнения -> Выполнить все);\n",
        "\n",
        "Но делайте это заранее - кластеризация может быть не прям быстрой, если времени не хватает, то не нужно (лучше следить изначально за чистотой кода)"
      ],
      "metadata": {
        "id": "xkJWeofFQ848"
      }
    },
    {
      "cell_type": "markdown",
      "source": [
        "# Кластеризация (на 8)"
      ],
      "metadata": {
        "id": "svquVxhiUBMY"
      }
    },
    {
      "cell_type": "code",
      "source": [
        "# скачиваем данные через wget и считываем в датафрейм | 0.5 баллов"
      ],
      "metadata": {
        "id": "qJgDxCQmHalU"
      },
      "execution_count": null,
      "outputs": []
    },
    {
      "cell_type": "code",
      "source": [
        "# предобработка | 1,5 балла"
      ],
      "metadata": {
        "id": "t-o3a__LHaxx"
      },
      "execution_count": null,
      "outputs": []
    },
    {
      "cell_type": "code",
      "source": [
        "# векторизация | 2 балл"
      ],
      "metadata": {
        "id": "CBXf0qc9Ha1U"
      },
      "execution_count": null,
      "outputs": []
    },
    {
      "cell_type": "code",
      "source": [
        "# кластеризация | 2 балла"
      ],
      "metadata": {
        "id": "wuKd-_Z9Ha32"
      },
      "execution_count": null,
      "outputs": []
    },
    {
      "cell_type": "code",
      "source": [
        "# визуализация кластеров | 2 балла"
      ],
      "metadata": {
        "id": "CB9wsDriTzsg"
      },
      "execution_count": null,
      "outputs": []
    },
    {
      "cell_type": "markdown",
      "source": [
        "# Дополнительно (на 10)"
      ],
      "metadata": {
        "id": "J83oyVH1UDI8"
      }
    },
    {
      "cell_type": "code",
      "source": [
        "# На выбор:\n",
        "# проанализировать кластеры с разным количеством и применить понижение размерности (TSNE или PCA)\n",
        "# посмотреть и попробовать другой алгоритм кластеризации (библиотека sklearn)"
      ],
      "metadata": {
        "id": "_RlrR6-XUOUQ"
      },
      "execution_count": null,
      "outputs": []
    }
  ]
}