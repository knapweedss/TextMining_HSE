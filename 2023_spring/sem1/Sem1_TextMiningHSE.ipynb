{
  "nbformat": 4,
  "nbformat_minor": 0,
  "metadata": {
    "colab": {
      "provenance": []
    },
    "kernelspec": {
      "name": "python3",
      "display_name": "Python 3"
    },
    "language_info": {
      "name": "python"
    }
  },
  "cells": [
    {
      "cell_type": "markdown",
      "source": [
        "# Базовые арифметические операции в Питоне\n",
        "```\n",
        "* — умножение\n",
        "/ — деление\n",
        "** — возведение в степень\n",
        "// — деление без остатка\n",
        "% — остаток от деления\n",
        "```"
      ],
      "metadata": {
        "id": "ssZHP9ZzxYP7"
      }
    },
    {
      "cell_type": "code",
      "source": [
        "print(8 / 2)   # => 4.0 (При делении двух чисел получается тип данных float)\n",
        "print(3 ** 2)  # => 9"
      ],
      "metadata": {
        "colab": {
          "base_uri": "https://localhost:8080/"
        },
        "id": "T3pw9rI2wWgQ",
        "outputId": "6294e988-6c2d-4246-dcdd-42c6b10b9197"
      },
      "execution_count": null,
      "outputs": [
        {
          "output_type": "stream",
          "name": "stdout",
          "text": [
            "4.0\n",
            "9\n"
          ]
        }
      ]
    },
    {
      "cell_type": "markdown",
      "source": [
        "### Немного про приоритет\n",
        "В школьной математике есть понятие «приоритет операции». Приоритет определяет, в какой последовательности должны выполняться операции. Умножение и деление имеют больший приоритет, чем сложение и вычитание, а приоритет возведения в степень выше всех остальных арифметических операций. Например: 2 ** 3 * 2 вычислится в 16."
      ],
      "metadata": {
        "id": "AnzXCLY0wkI_"
      }
    },
    {
      "cell_type": "code",
      "source": [
        "print(3 ** (4 - 2))  # => 9\n",
        "print(7 * 3 + (4 / 2) - (8 + (2 - 1)))  # => 14"
      ],
      "metadata": {
        "colab": {
          "base_uri": "https://localhost:8080/"
        },
        "id": "rRdbdEvdwm3J",
        "outputId": "910c4faa-8ae0-43f1-ad1a-4c5f901f0cc5"
      },
      "execution_count": null,
      "outputs": [
        {
          "output_type": "stream",
          "name": "stdout",
          "text": [
            "9\n",
            "14.0\n"
          ]
        }
      ]
    },
    {
      "cell_type": "markdown",
      "source": [
        "# Типы данных"
      ],
      "metadata": {
        "id": "WMoPNaGnw0AD"
      }
    },
    {
      "cell_type": "markdown",
      "source": [
        "В рамках курса мы будем работать в основном со встроенными структурами данных 👼\n",
        "\n",
        "До этого мы поработали с числами с числами, но хотим, конечно, работать не только с ними\n"
      ],
      "metadata": {
        "id": "-mCxngRaYumc"
      }
    },
    {
      "cell_type": "markdown",
      "source": [
        "![23xxoih0pbbe64za7pm0.png](data:image/png;base64,iVBORw0KGgoAAAANSUhEUgAAA3AAAAHLCAMAAAC+pop6AAAA51BMVEX////BwcHc8e309fWDu+WZ1Mn/o5dauqej2Xf/j4A0NDRsbGxdu6g8TUy3t7f/7+48QD35+vpYs6HF56lxcXFeXl6k2nn/+Pfr9uJUppbr6+tVQj9kZGSVlZVBXlvl8flPloiva2LphXe24JL0inxQXkSazHHHdWrZfXH7jX70++/Z78eMz8KNuWpyxbSPwufH4PNFc2qCVlBsTUh/f397nV6At+DJycmoqKiYYFhLhnp2dnakpKTR7Od2pclmflL/wrv/mYtPZHNZdImHh4dtl7Zkh6Hi4uK62+58r9aNwefV1dX/sqjs6Z6VAAAmBElEQVR42uzdwW5TSxKA4TCpVaGKKhJng5LmEWCBCiRQLbrcDX15//eZhRMIM3C5Q0jGdv6PlR2HRZ/86j7HbZ+zMwAAAAAAAAAAAAAAAAAAAAAAAAAAAAAAAAAAAAAAAAAAAOC3vXpzRF5dcsBw1N78JcfkM8XhmF2+luPyimOGY15Q/nVkwb3hmIHgHnFNyTEDwREcQHAAwREcCI7gAIIjODyt4GKtFfHrDuKfvYzgQHB/11FXVbUad59cc/zHy9Y0VbURImOun/93q5LgQHB/F5y5u9oMEZH9HDa07jwSERmuvZr6lNUt7/5Evr4wRGTqjDsPb1/2dW4MgsNTD65EsqsPkZy9RsRs2iokq3+dr7r2kKg+s9z7XFVZQ2TNmikyaohkVU7TXmtWiswakjVHpaxZfS4RGdVrBMHhqQcnq2mXNHX3GeXqtoaruY/b4HwsiYhhqlap3rTHNDf3IaU9ZKiNruqWpkOka8lUN52rq5m2JWlu5kVwePLBSVeTaW1MbSu61oqynqV9PyFNVe81QmKoZaSq1RiutUrb6jfBZZjOdTc4bZVTLVfXGV0rslcQHJ58cKUmkWNM95SuJbJyjNK2v0ISo5ur2pChlpKqJTLVUiIzbme4FNMh381wU6S0zdm1R6nWSJaUILjo2mWaqqoO6VoS+0ft6yXJHKVqt8H5ECnt+5/+PDjLm+ugqn1lU1VjSQmCG6a1TPsat8GlacW8CW7NuUSk1NdtcCkytS1Z42aGm7fBLdMpq2vJ0BYSpX2ttZaI5GzqSXB40sGtnKaWaVqr9sH1GK5zNbUUEVmutVZ29RjqI/bBDfcR5T2m2si2D64imvY1Xfs+OJlquWZlzMrYz40Eh6cbnKqq2hBp6mZNe5Z6T1N3s5urJuWq5qpTlqnNfXBRqk33i0j3ppbS1btMVXfTdhNcNnVTzyi1btpYUuIJB1dmZn2miGS3ntl6rt56jG49h+2Di+xmVhkSs/W5rKWIrGrWZkiMbjVaS8neuqzZ2pxWkvvfzjLbv2vXzH65FYXgcMLB/WDHyE8eyQ+3UsY/+c07O02CnSYgOD4tABAcQHAEBxAcQHAEB4K7t7WC4IBHCi7KJsEBjxZcGwQHcA4HnOgMN1qN5vf/yiCCA8HJr/Y7T5nqZqqd4IDHCW7GVF8EBzxGcLZuPodKcMDDB9dEFsHhsH25/vDiEX3YfTrC4B51iF68uH7HbcVP1bvnb99fPKZ35w8Z3AMtKZ896hBdvL26oLjT9PL59eXZ2eUj/nvYJeVDncNdPu4YXVy942/zJF18+HQC53AyZkrOIRJznsJVyvPdNX+bJ+nj7vIUgju1nSaXFx9YUxIcwT3iyuOcP06CIziCA8ERHAiO4AgOBEdwILj/8V23+PEXwK4MggPB/eHgsnrv9f2NgiNDlvkkOBDcHw5uuLqrer9T3LQhy3wQHAjuzwc35yzVkZkisjKz6cxlPmLsN3atsb+vaWbcPkVwILjfDC5FpGlNb0uie5mq9zSf5t5DYpq7txRxm+beCQ4Ed8/gTCvdhyz3Ua59pKn3rj5kqPYybRGq1ptqEhwI7veDqzmb+oiuU4Za5M19hSuiaUXXHjJcM1QrwrQIDgT3+8GpqvoMmdqi65T8eiNvKa3VtESW6QzVIdLv+8VCBIcnP8ONEJEwTfO8Dc7HfwXnKVIEB4K77zmciIiUdu8haTpvguta686S0pMZDgT3p4JLV50iq2kby3RKdK2Y3y6aEBwI7p7B2bdvUYiuHiJSZj2bT4nyiihz954ibinSneBAcL+9lXJ829W1+s0VyMwVYyyRHCkia+xP8saI26cIDgR3z13Mo6v9OKY/uo2Z4EBwIrJM9SHvC0dwILjvZrgH+IouggPB8QFUEBzBERwIjuBAcARHcCA4ggPBERzBERzBERwIjuBAcARHcDic4M5fH1lw/yI4HHFwl5+Pq7fXlwSHIw7u7NXn10fk86szgsMxB3d2dv7qePxfBojgCA4EB4IjOBAcCA4ER3AgOBAcwYHgQHAEB4IDwYHgCA4EB4IjOBAcCI7gQHAgOBAcwYHgQHAgOIIDwYHgCA4EB4IjOBAcCA4ER3AgOBAcwYHgQHAEB4IDwYHgCA4EB4IDwREcCA4ER3AgOBAcwYHgQHAgOIIDwYHgCA4EB4IjOBAcCA4ER3A40KO627242u0+MhIH5fL9bvfhard7x1CcmHfbtm3bdsFIHJb327Zt2xXBnZqXV9u2bVdfGIkDOy7btm3bh5eMxIk5v962bXvLgT00b7dt23aMw+mdxG3btnEKd5jH5RnjcHI+vdi27RPjcGi+POe4nOza5TmjcHAud9v2lvcFTnPtworyAD3bto+8QXqKa8orLj4fopdXV5zCnaLzHdcoD3JNef2C43Kaa8prxuDf7Jyxkty4DkWzrbpMzGwDREChCkAKRMjs3P//PS+Qenpm7Pb61bQ9PTaYSWp2oFuHh5QgPuSccl4K/KFzynnr/ZhzysnlD527zNL8QYOZW/De7dMHapPLY7Z/B6OfjvXrPx+off1rkPv0eXL5I9s/+FDty98yln79ULHElyHuJwfSLx8LOHyaXB6yfR6Wfqb9O8EOcJPLBDvATS5juAl2gLvZvg5MM5JOLpPLGG6CHcON4Qa4yWVyGcMNcGO4CXaAm1zGcGO4AW4MN8EOcJPLtF9tuBCFygT7cMCphugPQhvDfYRgzczM49kZSYvOQFxOqukAd6dcwo6hzO2HY56bmUu8TKrS6VY3LT6zYjPXlz1jcnkcw9GuolX+LDuTyFLw5ZwtH+DuBJzuA4xeP7pLQlS1Vz6/70HEwreSkPN/nahq75c928dwD2M4SlGxnYAGgFCERmSpFOsVuFCo6AB3V+BUDomFiAIIjVNNQqniRuQAQkUDIbs1NBAaenZTOTMT1XUBrlWcn3oGEE4Wl4Mx3DsbLigD0KKI5gC4VdoiS2tT6hNwlpaUNsC9ETi5AheWROmAJ1EawM1lF+AOekogXVQMqUXpZeC2onScFwLgorQn4BgAjEohWZQGr1UN7/pRfmO432c4VbHd0MoAkkSII0uN+lza2XLworaiGODuZjihdKtULTIvcvSmcyp4AodeFrXZc7PaTpfF6F1slIrc7L0ZssmaXgIXuT2SzItUe7NEklmVjOHeew23Kat26jfAyRHdE3B9l8XcXw5cPAduNSCuvA0Q6ujFT2u4PJ6wLPPdgahU3QxZjF4O9BZdDURR8HaAXwIHXqbsgG0DkyEuB2O49zYcNXdSx/eAU2a2A7gtgC0b4O5muMid7IHezcyU0eQIY2a5GM6W8U5mLpIn4HYAvMRXMnMtTRLAXwO3HcLduRlMhuPgiegx3Puu4aLJvwec773yBE4HuLsAl+fDYUC4NnX0zu5ujiZB5N5kF+ByO+/q7u6r4egC3HEhqr4FLpJEajdfgFPayX0buDHc71vDBQDbHFUKvTmlHODukwvtAOAnd1LkfZnoNcnLKaVTqZ1KxLfAnReSHHj10MQpj6kqrwM4W3add47h3tVwqipJjiQPo2fAtcYAd2fgoherSi6GlUcwue3W8PSXwKmK0TYIpYS0xWvggkpCm8MWH394Anf0dDBZSK0O2xy2LLwWxxjuvQ23q4qoA74p6QpcJKUMcPfORXJV0mqFFnVSR/SqJJIXwFEVLTIAvCmL/Gq4dQB3XjBoraJaz158Hz2FKHcXsRK1bErqIh7DvbPhjJnZjhekzO6mahJuAeGzpEtYIRyAsgxwbwQu1LrZFYBYtykQ1m0C+FMJnRozs8tR5sVtAgQ7gh3OZyTh3OwBCLddalDEmNlcj9zaQ9jhbCHcrrcrVcZwv8twPyy6C9y7fZ5c/u/7GnH/HMZw72S4+QzkIwyE8z3cBDvATS5juAl2gBvDTbAD3OQyhptgB7gx3K8INn7yKZdqDHCPAFzob3gsOYb7ZYbjzEx+sYsCvmErtDOT9XvXbveaYO8PXFhW5vH96O0xdAz3uMEmVRXt1ucFRq8rDoSoOYkccXPfDCkZ4H45cL2Lu3YDnTfrw3gM97iGywyE9M4AQlwCIdQSCLnuNsPLgDBi9WUaEiGBUFEgJIAQDSPTkAAgCpVQAdSPqgYV/yn/DXD/0YRSAa1SqZJQDVXVAI7tElQUkGoJVQAqCNGQQIhJjOEewnAZR9WsQ4popUguKlWi2nV6r5fFWYy3iH3lLpFcRBZ2FOal06KW5QAWo6lWR2+ixQEjqp0D3NuBc7pEknuXVtGyLMHxkU1uItZcVJIJoEmdcpM4Ue03zEDGcPc1HABbDSYX2xy+WoLJhC/lyLZ3uwQQvEx9EbsmmTT5Bbhgcr0Ct8rEV4o0eVS5MPkE+2bgolaaKACvEtRK0wtwkcTS24Va9ArcJSujHsM9jOEg1FCB6k7IYhyTQqrzV5a0KC1gy+Cr4tjvRk0uwIFJ8Aw4A5IE0M1a5IGZUt5jDSddaxULtAqo5cAFOKEG1ESJEVfgSuGbgWjSMdyjGC588bHR0zqBkyaqXU9DqxjT5hM4Bvy03w3gtiBqERGthBEV+wR7j9cCoc65Kg7gSq7AXfZPeAVcA7aIiDbJGO5hDMfLo4jNT8NpEps9Ge5YQOwKWwYnA/zcMuh/7J1bc9q6AoVLmVaWqahQEKdG4Nqur23dGdswCZcz7IfM0Bn6/3/PfjDp2fu0aXCQwIS1HjIlDbaspU9LErb4FbjM9qmvAppVauH7vl9vmcEP6V8B3GHQlTwNq4rSsgqfAC5QPqWJXfq+7/tIuNYkXKpUGNqL+un+wPZpyheUpnYNXLhYZJTSUNXABSqh+3GnH6R7R6mvUhrYSf08v68CSkueUpoFWRhkNEtsH8YeDVxS75S34ElYVZQuqpDShUppVvIkUGVGwyQN1YJmZRXSsNoDl/KS0nrhEgl39oSrgiBdKJ7QjJdZWnKVharMAlVmaWXXa2LZwvaDLFjYPk1tPwtUQmlYqST0VRqqMgwqu6QJ97NQlWFaPQCX2mWQJVUaVIss+8MmbACuySplmoWpUmFYVWENXGr7WaJ4kpXKz3w7DasqowuVhD7fAxdWKsmCcpEh4VqQcLZt77cY9RVXi0SVoa9UsH+h6iWVhbJtWy1CmpVq/6URaWXbys+or2y1UCXNSlWGvrKV/wAc9ZXNlZ/RRHGl8LGAjlXKpOK2zcuU0kSpdFGFlGYVt6uFSmhQcVst6v8JKs6rcg8cDSrOj/lYAAmnz9j6m1jqIEuTNMvSIAvTNNu/SH+umST1R6dhGoT7Z/TTeu+FIEmzNKA0SIP6RRLQIM3279r/yf65fgB35BwuC9L91xllaRrW1RymSe1JWDsSpmlGwzQNgjTL6p0YwvQwA5BwxhPuWa4f9CsYa2zR5JDfZxr9QcKdxlg8ngNfkHAtSDgYe2XAIeHQk8IX+IKEg7FIOCQcgIMv8AUJB+CQcDAWwMEXJBwSDsAh4WAsgIMvEBIOwCHhYCyAgy9IOBgL4JBw6EnhC3yBsafR+ysZery9LFuy92DpMP24sJHLf67El78uy5e3AO5gZ3+8vRj9+Os9fIEvFz98uRzBF/gCQRB0Zq3vu6iEFqo/3KISXiRwqzEqoY3A9XaoBAAHATgIwAE4CMBBAA4CcAAOAnAQgANwEICDAByAgwAcBOAgAAfgIAAHATgABwE4CMABOAjAQQAOAnAADgJwEICDAByAgwAcBOAAHATgIG0aTGcAro2+rHvY0+QlattbwdgWatyb3KIWXmLASTkdoB7apu5aSmyn9oR2nYvTuiennd7s7sjD7C6maQwuw6S7npxO5WTapjK1bSA0Xg+HPV2SctIzosn/HXjV7w5209WRRx3OLmRYOp4OW+PL5E/HWvW73c5q+O+/l73TnPyRIt21q1ud9vrjribd9qa7sQltV7PO9h96qMIjy7u7v4yJ4GC2uj3qOnX6Mh32t49p78vgn7+7vR/eamsH/d664bWP+711q8aTw45GeFeGOpOOobXm8XB9CcDd9o5biFjP9PmyXfWbzutWU31V0R/uTvAWg+pr9OJVr2+olNOpIZLXs0sA7tht3Vd3GuGfjJu3eI1dZGPeX41n/RZ5eacTuEnHGHCGViT7w0tYNzn28vUC1z3BWx7XrPm1zNYtWs/uAzgAB+CQcP/WvSngOgAOwCHhkHAADgn3IoFDwgE4JBwSDsAh4V7mHA7AATgkHIaUAA4JhyElgANwx9ImpZRSztoN3H1dyqmJY7/8hBvXtaetzTekZ7Cuz6+tzTcErjupz9+Op5W3dWHu2g1cpy6lkRviXn7CDWZSSilX50q424mUUuprGU0Tru6uh+3IuO5QSiknu3YDt+1JKWXPSB91BXO4vpRSyv65gOuu9LrXFLiO3kw5UmsppdQ3izMDXPdeSlPPd1/BHG471NqpNp6QrbXOWhoDt11JKVuz7cPtREqp7wkVQ4smfa1jkmtLuMG9lFLfjkuNgdtpDdjGwA2mUsrW7PDWnUkpt20HbjyRcmimyq5hlbKjdXzQGLjxTGfANl+lvJVS3rfmc4GplL1u24F7NZTy3syRr+FzuPFESn3GNF/jv9MZsM2B6/Z0Buyx2mmdT5oCri+loUH4NSRcd6pzVbw5cNuJzgl4Y+AGa52DuKNHa0Od80lTwO16pnYXvYo7TfqT2eCMwL1aaQzYZ3zw3Zms2mPyYH0Jd5p0cS/lcb3qee806U/G5wRuvGrTrV0dnbvoGLu1687UIPw67qWc3p4VuJ3OCfgzbu1ad1rk5Xh7CcBtTS3rXse9lDqr7xnADXbnBW78Yr+FYtK5tBJfR8LplNY7kU8D3EnmZh+067N+4D6fpZQvJuE+vtauQQPgBvpP/7oJcGe5/Edw+zLSL+vms17gPt8YKOXoplGlXXDCffz6zoC+Dw4F7vs3A6f/9vFQ4LpGLv/N85D7MLJM6Ite4L6YKOVo9OFKEu4NMaF3Hw8EbvDOxNnfvTkUuO9Gzv/t9bMM+mKEt9GngVbgbowUcnRzHQnX/WqEN/L9QOD+a4b3JyNuD9zgq5nzv2kRcNanz+0HzrJuriPhzABHyJuzAkeejBgA1zLgRp+QcCZb3MsGjgA4JByAA3BIOAAH4AAcEg7AATgkHIADcEg4JByAA3BIOAAH4JBwAA7AATgkHIADcEg4AAfgkHBIOAAH4JBwAA7AIeEAHIADcEg4AAfgkHAADsAh4ZBwAA7AIeEAHIBDwiHhANwJgRvF8YUB93SBkXBPSAgAd3Lg5vO64c553qAtnwi4ePOgX0qU8w0S7kngnKXrukvnEbgKJgwCJ5aF6xaeOCtwnlu4hesWrtcW4KKobstx/rNNjzbz1gAXRZEdRdGvwMVPA4eEEy4vlgVnDiG/aXHCKHDC5awoGHfFOYFbuq7Lueu2ETjLsuI8jy0rZpu8LUPK0Sjnc2tUF8/KYyuOrXwePyRcPs9jJNyjLc6zl4QQjy2Fx5cOIcLZB45wHLFPOMcxA1xhLwUhpOAFIY4gDz88zyH7kwqHECI8zxFGh5QOc+vTi7oG6tOJuiAnB270ANw8yq15FEVsHm9svolbM4fL+XxfPCtnc2sTbSLO51bON1a84VHEciTco/27vaznag6zWSE8xhgrBCEeY8x1SMEE8VhhBDhhu/ugY45gS0KIWxCyZIyxpSBuIQhZug5xGGPs9yGoCzhRH58VjAnHZYwxp64BVogzJtyc53G0ieNNFMdP8nYG4Hhe/zOyN3keRXnON9acb+L84QKQcL/p3Dkv6g7d454gLnOcgnvE4YXjMVcUTDjs0SHfccA5NeuEeLYneEEIYQVxuCucgnvEdQUhS+YIlzliyYsTAMftwiMFXwqPuUIw5oglX54z4XgeR1FuWbFl8bnVYuByy5rb85xv4iiKLWv+aGmRcMRxGeeFJ4jDPEKEEMKxl2RpO4Q4nijYH3g7EjjP9h7I+x9wBfeEELz4CZzHl0II97dzSd3AMUEEK4QQBXeW3BNCsD/OL80nnDW3WTS3Wg5cFFtWvgeOR3+zd7c9UexQHMARQk5TOaZ7tBuPgdrkpn0B1qSJE03RzBsSTPz+3+e+mF3Ae0Ue3HFm4N83i7ix3aG//vswIykl2yHhfrOCiY1tG8BpCMy20baDV8dOaWRw1wkXJDgOIdhAIRBRY22WQwjMOv4azgUidRxCYBur5RCCmwDczYQzJnfJpTx7cOstOO66rusKEu6OHseqHEksR403wdngwkjgxA7zxKNq9Qa42lpr11PKZkNrrbW/kXCVSN2mujo0pE2ccNkY09syS3CbmaRJ7j9Tyt8cGj73hJNahYiEWZTjEDptO6WMcZhbtZGOBTbhqRxEXB2+qC4SkRAFFpLAGl299QB+DHAchEiEho8tMskarpRSSu5cKa7LpnPFcJrbpsk62z6XZK82TfJ20yT3tzYWCddsVdFqK6mrorZKZBdEXVAdNk02BkYAFx031cgu0rBbY4eKpXGk6Jo0xyqBoyi3vwSOqmuioYowR4kcJ9il7F1KKaXSpWL6lFLqjelcKvMBlzpjjOk5pT51JnFKznUmp244FkgdEu7WvlZ5u/1duWpg5la5Shs2xysL3b5z8Kd3msTA7JgjDZvwlasMxwJVSJg51O2xAI+bcCEQEXEjIg3uxrFAmOJYIJch4YaD782NXrnM5xwub+aMucumZJNSLl0ZDsHvOPhGwhFJ3BzwiiqRRr36QrYnzzoSOBqyddMMHQ679ao5UTYH323kg+/N0f7mvPv64Pu2eke/efnqFwkbY9brq2/O8ebl9XrYNFmvjTHrO5uJXcqJnxZQdu162nbLLyo9Gv3m5Z9qkDsrxuM5v9pVxfNwCwBHka2b9F5KPA/3h+BM6e7/XiTc9M/DPfphAYDDE98A93BweB4OT3wj4QAO4JBwAAdwSDiAAziAQ8IBHMAh4QAO4JBwSDiAAzgkHMABHBIO4AAO4JBwAAdwSDiAAziAQ8IBHMAh4QAO4JBwSDiAAzgkHMABHBIO4AAO4JBwAAdwSDiAAzgkHBIO4AAOCQdwAHfP7Fg9OXBIuP+W7xODez8puKPHgXu7nqYrPwzcSDl89jwSbu9wnB6/f09wB0ejVP9hdT9wI338o2+P+gGdvl6PEXBvdwvu9J9RRoXT55Fwe/sfRxnhV/cEt3c4hriPd3b4Lbj343z8R3aH1dvXOy9nd/fkh4HbOz3bfSvfPsjbkhNu7/23w52X/bu8XYNb7e+++u/7e/cFt3cwwsf/toTe8HhwMygLTri9vdUUbbkCN1G5ArfaQ1keuCUn3DRlNuBQkHAAB3AAh4QDOIBDwgEcwCHhAA7gAA4JB3AAh4QDOIADOCQcwAEcEg7gAA7gkHAAB3BIOIADOCQcwAEcwCHhAA7gkHAAB3AAh4QDOIBDwgEcwCHhAA7gAA4JB3AAh4QDOIADOCQcwAEcEg7gAA4JB3AAB3BIOIADOIADOIADOIADuOdY3r3x3nu/JHOvvPfe+/N5/x++J0MrT2bQlNXXoS1fJ7pi74bq/Ttw29tbDR3jzYIuxuWm+8y7lZ+HVs5iIPt8PO2gerGEEfKv5cWx995fLKnJ5957f/x55lOHl957//JyDm05eDPtoDrMSTCpvNExFrWK++K99+czz+SDE++9P5nHWvPrtIPq5fkCRsi/mvfzGIjvW368nMni6O6pw6uZXDE/aVtWFwsYIf9aeeG9P1nU9Prgwnv/YwlTh+OZdLJ3n7w/nvCKffbeX2AJt8n749kMxA+YIb2c/3j5yfvzGV2xTxNesYPl9bFRFxvHC0v7y+m2uB82dXg1oys25SxmdeL9JahtFxv+09LGiDdLODe8fPlyPvPe82n3xV4cnx9A2naCf7y4tP+yhDtNDk4u5tPKL9POYt6df8US7qpc/Fhaiz+fLKGVr2Y0kP2Y+KT16ws4u/5hLC7t3y1iQXA5o1auJh5UL3EogIKCssvydvdl7GF49y0+HWFttr/z8ugpxmr3bXn/kPrf777+pa71Tv9Zj1DOxuR2NkaL/9kxudXh0Qjl8FHdbPX94wht+Xhvcgcf5nMtJi+vze7Ler0e8WKcrs16hDbveIz4dkQjlKNvjwI3TlsO71v/9zHqP/q4v8yAM2OIMyPOKs/MKGXHEXdIo5QPj8I/SlPuHXGrDzQt+KcPzpgzgHvq4Oi+EQNwALdYcB8BDuAADgk3ATgCOIBDwgEcwCHhAA7gAA4JB3DPGdwaCQdwAIeEQ8IBHMAh4QAO4JBwAAdwAPerIiq//Pq6qCLhAA7g/hBcawOuxteeoo2/eGdlRcIBHHYp/wxcYPlfqj0IHBIO4JBwjwOnQhplA05UiDRGISKSGAUJB3AAtzNwkVVCrcysFG0kCUGpMTNHImXHgZFwAAdwuwLXnEqwQaOrFG2UwErRBtHglIJrWh0SDuAAbqfgWEkCU7SxukhUWUXUNeVAJAEJB3AAt1twRFRZog2uEklwIYRgq7pKRAEJB3DYpdwpuLAFxzyEXYsxRv0tOCTckwSX8+//jITbacI1dYEouIHYb6eUoyaczg2ciDxhcF3f931XjDEmpRvYjCmuWxS43PWp78tP35oLuKiqKj8nXKToKqmtKo1/v2nyxwnX2vBS/9+Vo91UqWF4k9Qqo4LTVkNttzvXXx5RPhVwvetTcq7PZl2uO2tO2eSyqIRb967v+nRjlFjnVOYBzjEzc/wJnItE1UWqjpmrkDrHPFbCbTL2F8d8R1fgoh3+Nlo7KrjIXCvfMrQ8A3Apm3XuXJ+HKWQuxZjc2ZIHcKUbXnLeeNy85mzK5qsyC3DZ9saYnHpjTC5dMcZ0rstzAKdDEVEZ7pYUHc68RZVIY9TtwbeMcy+l3AQnGjez2DicwKtEJaLoXCMiCc4KEQ3vEhXZHMzvCFx0QYYXItXN0b8KEW2rUhsl6lMGZ4zpXWf63piSUkqlJJu6kjqTk0suFVNSnxKnbEyfUkrd8NpzZ8x68y9MDG5dbJ83C8+SUnJ9Lsmmfi43L8ukTwvcACfMzCwkdThxj7YOERu5BiJSV60M7wpK6iqzC7ozcFfLVFGSysHFbUMk1MCOI+m2RU8ZXHG9ScmUlEpJKXe2mOI607s+dymZ4lyXO9uZ4vpcUjKmd6nLrt9mygzWcMn2wyQ4p1Ry7zrT3b0KfR5PfEtgFREJrFRdlOYiRddEQqBoOWp1SpGjU6LmmhWqLkq0jdS6qs3Wf9s7m9Y4ciAMhyxLFcIF5TI0rossWKRLVgs66CIIfc3//0V7UDse52OTeLs9M877nGxo7PYwT7+lKsmzm3Au8eS2QhyWdFjSRiaheVIhD5p8fK+uvG7hlrIJV6ZwXStzrVxD4aq95My8rFqLZuaSM3Mppayh8KqFeVXmqvVCmiZrVs29TM9KzuUnhPtNzsPFICIiKk5m5i6RkjYnM0phzGVTEouNTFoKRuZmLpE8xKeKdAfhbub4w1NKyWaL1tzMopqJGlEL5qERWRhvOuE24Vad5eGjcLrOpVCdWZaZe85ZQ+FVecp2UlGeeyxQas9h5R5yzlnfkHA7JFxKKaUoTtaiiEajGCSmrUtpU7gRLUlKweZVIZKHNps8u5WUEomohRBCmj/XRhTRYCZCRCO4h0Rkp6n6BoXr2jnn8oVwVVfm5VE4zpl7WOtMOJnFWzl9U599DreUrLWHtffef6qk/F0SToxu5j4ykeEu0Yi8xdCeCWeamlAKZlGHu27C2Z7Cfd7JHRI1IaIWWvIYbKr4mwhXshTO61ZS9nJaUnLXWh9Xa1mZOYfCa+bp4klFeVbh+rp1f+r0rDAj4b7uUrq22Sk0I7KodiocxSaDUjDXRmThqaTcr0s5dDwXToTIJJyWlG9aOK21zvHVmkvRXGvOXEMvs2nSt6bJysx55VVLWXOoUzhm1fVC5nA15FpK11xKzr3U3LleyFjg2S6KrTk+7DxdSpdoKar4kGRzF/WJcEPVKQWzeZWaBx22Z9OESMJw9yHiU7go7k2Dm+jwJEJvXbics+bKzOvK3FVy7lzWvJ6OBUruzGVd59ig51zXKdoa+qXsNOlZcpZcmWvWnHNhzj8cC7x2lzJu3e5x0ml3OzrhqMUpXHRqItKSRIvbWECdyHQK59KMkhqN7aoUdh4LEHmTbeZALc5BuMQkkiRuYwF1ItI32jQptdZtS8kcfPfKC3OphZ8PvrcLSq+FSy3bRstVL2cvZam9Pw7ne+GFlx9vlnnthJNoz5KOiCymwxPOP8++tom2O5mPZI//98GNzIlu5jj+6SoPaefBNxF5GvMhM+f8ntzI3SRuv8rtPx5D1y7csizLs48WXb795fJ0/dO3X/YBz900+eJP4WXhCxXOk5GlMZJZCi3ZwQn34g8j/Xqb1WGbl+1kQofjOd9pCc7dHTgt8MvCNXGLGqMOa0GaHZxwL8YFwl2McFuhCeFeJlzSQZSiWUiHr+FejH21q/+44zkjQTichztOOBdJRrNDSJeacDiACuGu+tNzToSjIUGb00UnHISDcG8l4YjMhwoSDsJBuFcpKRMRteDf3aaLhINwEO7/CidjjDGsiScZKUUx29ZySDgIB+F2Fy6EEELwuYZTjYloiDgSDsJBuAOE+9bOyh9PpZFwEA5dyh2Ee63TAhAOwiHhXvO0AISDcBAOCQfhIBwSDsJBOCQchINwEA4JB+EgHLqUEA7CIeGQcBAOwmENB+EgHIRDwkE4CIeEg3AQDgkH4SAcupRIOAj3GsItVyfcgpLyl4V7OKtwN1cp3O3dNcTFM+6XQ275bt+7/HTMm/zTS+7l4eYY+W/P+vC5+XiNwh3y9l2Wu0OfEUcY99f9zqXDIY/1vx9eFrc3Z6wo3717+OeQgLt9d53GfbjbnftDX4vb+/3v+MPukfzHxz935+MfL3zF3u9/L5/e/0LEHvFaXKlvAAAAAAAAAAAAAAAAAAAAAAAAAAAAAAAAAAAAAAAAAAAAAAAAAAAAAAAAAAAAAAAAAAAAAAAAAMfzL7bYCEe5Mb3XAAAAAElFTkSuQmCC)"
      ],
      "metadata": {
        "id": "umDuHFU9v8wM"
      }
    },
    {
      "cell_type": "markdown",
      "source": [
        "В основном из типов данных нам понадобятся:\n",
        "\n",
        "**Строки** — содержат текстовую информацию и пишутся в кавычках '' или \"\"\n",
        "\n",
        "``` my_string = 'я строка'```\n",
        "\n",
        "**Списки** — содержат набор элементов Питона и пишутся в квадратных скобках через запятую [ ]\n",
        "\n",
        "```my_list = ['я', 'список'] ```"
      ],
      "metadata": {
        "id": "F4uhFuACZ5Ag"
      }
    },
    {
      "cell_type": "code",
      "source": [
        "new_line = 'это строка'\n",
        "\n",
        "new_line"
      ],
      "metadata": {
        "colab": {
          "base_uri": "https://localhost:8080/",
          "height": 35
        },
        "id": "lB5yxw_ia0z4",
        "outputId": "0756a1a1-1b20-4ec8-8970-b3b8fd701459"
      },
      "execution_count": null,
      "outputs": [
        {
          "output_type": "execute_result",
          "data": {
            "text/plain": [
              "'это строка'"
            ],
            "application/vnd.google.colaboratory.intrinsic+json": {
              "type": "string"
            }
          },
          "metadata": {},
          "execution_count": 22
        }
      ]
    },
    {
      "cell_type": "code",
      "source": [
        "new_list = [4, 'я очень разнообразный', [2, 3], new_line]\n",
        "\n",
        "new_list"
      ],
      "metadata": {
        "colab": {
          "base_uri": "https://localhost:8080/"
        },
        "id": "TBRB6fI_axv_",
        "outputId": "24da3763-58cc-4c54-aab6-1771ff567316"
      },
      "execution_count": null,
      "outputs": [
        {
          "output_type": "execute_result",
          "data": {
            "text/plain": [
              "[4, 'я очень разнообразный', [2, 3], 'это строка']"
            ]
          },
          "metadata": {},
          "execution_count": 23
        }
      ]
    },
    {
      "cell_type": "markdown",
      "source": [
        "### Основные операции над строками и списками"
      ],
      "metadata": {
        "id": "Tm1FhsCSh49T"
      }
    },
    {
      "cell_type": "markdown",
      "source": [
        "Со строками и списками, как и с числами, можно производить разные операции. Не всегда предсказуемо, что произойдёт — и чтобы узнать, как сделать что-то конкретное со строкой или списком, обычно приходится искать это"
      ],
      "metadata": {
        "id": "zwk7d2zIyVuu"
      }
    },
    {
      "cell_type": "code",
      "source": [
        "two_words = \"два\" + \"слова\"\n",
        "\n",
        "two_words"
      ],
      "metadata": {
        "colab": {
          "base_uri": "https://localhost:8080/",
          "height": 35
        },
        "id": "afKqsd5Hh92f",
        "outputId": "80c31c6b-af91-407c-e808-9cb9e198d058"
      },
      "execution_count": null,
      "outputs": [
        {
          "output_type": "execute_result",
          "data": {
            "text/plain": [
              "'дваслова'"
            ],
            "application/vnd.google.colaboratory.intrinsic+json": {
              "type": "string"
            }
          },
          "metadata": {},
          "execution_count": 24
        }
      ]
    },
    {
      "cell_type": "code",
      "source": [
        "two_words * 3"
      ],
      "metadata": {
        "colab": {
          "base_uri": "https://localhost:8080/",
          "height": 35
        },
        "id": "qsVZbdR0zha_",
        "outputId": "7afb5751-355d-4618-e855-fb75779dce7c"
      },
      "execution_count": null,
      "outputs": [
        {
          "output_type": "execute_result",
          "data": {
            "text/plain": [
              "'двасловадвасловадваслова'"
            ],
            "application/vnd.google.colaboratory.intrinsic+json": {
              "type": "string"
            }
          },
          "metadata": {},
          "execution_count": 25
        }
      ]
    },
    {
      "cell_type": "code",
      "source": [
        "#Считаем длину слова - количество символов в строке\n",
        "len(two_words)"
      ],
      "metadata": {
        "colab": {
          "base_uri": "https://localhost:8080/"
        },
        "id": "rm9Bv9ax0OzT",
        "outputId": "0f1ed1ff-03f1-49a1-9024-b1ae05bbcbc8"
      },
      "execution_count": null,
      "outputs": [
        {
          "output_type": "execute_result",
          "data": {
            "text/plain": [
              "8"
            ]
          },
          "metadata": {},
          "execution_count": 26
        }
      ]
    },
    {
      "cell_type": "code",
      "source": [
        "len(' ')"
      ],
      "metadata": {
        "colab": {
          "base_uri": "https://localhost:8080/"
        },
        "id": "O4SX8Wzn0U7f",
        "outputId": "3a542dbe-5b48-47db-a817-603b30b080fb"
      },
      "execution_count": null,
      "outputs": [
        {
          "output_type": "execute_result",
          "data": {
            "text/plain": [
              "1"
            ]
          },
          "metadata": {},
          "execution_count": 27
        }
      ]
    },
    {
      "cell_type": "code",
      "source": [
        "two_words = [\"два\"] + [\"слова\"]\n",
        "\n",
        "two_words"
      ],
      "metadata": {
        "colab": {
          "base_uri": "https://localhost:8080/"
        },
        "id": "eRuidsBQyaWl",
        "outputId": "be3fbb29-fc30-45cb-b554-8fdd83f958bb"
      },
      "execution_count": null,
      "outputs": [
        {
          "output_type": "execute_result",
          "data": {
            "text/plain": [
              "['два', 'слова']"
            ]
          },
          "metadata": {},
          "execution_count": 28
        }
      ]
    },
    {
      "cell_type": "code",
      "source": [
        "two_words * 3"
      ],
      "metadata": {
        "colab": {
          "base_uri": "https://localhost:8080/"
        },
        "id": "VkO7Ys7IzmFy",
        "outputId": "fdbb775e-bb22-4e35-8222-0bad69a93feb"
      },
      "execution_count": null,
      "outputs": [
        {
          "output_type": "execute_result",
          "data": {
            "text/plain": [
              "['два', 'слова', 'два', 'слова', 'два', 'слова']"
            ]
          },
          "metadata": {},
          "execution_count": 29
        }
      ]
    },
    {
      "cell_type": "code",
      "source": [
        "# Считаем длину списка\n",
        "\n",
        "len(two_words)"
      ],
      "metadata": {
        "colab": {
          "base_uri": "https://localhost:8080/"
        },
        "id": "Dgsj9MSTz4hZ",
        "outputId": "18d0797d-a7b2-4d8c-b300-cba3ec44990f"
      },
      "execution_count": null,
      "outputs": [
        {
          "output_type": "execute_result",
          "data": {
            "text/plain": [
              "2"
            ]
          },
          "metadata": {},
          "execution_count": 30
        }
      ]
    },
    {
      "cell_type": "markdown",
      "source": [
        "А вот такого не надо"
      ],
      "metadata": {
        "id": "bBHn65cTyvC4"
      }
    },
    {
      "cell_type": "code",
      "source": [
        "#two_words = [\"два\"] - [\"слова\"]\n",
        "\n",
        "#two_words"
      ],
      "metadata": {
        "id": "GWBvi4qmyqi5"
      },
      "execution_count": null,
      "outputs": []
    },
    {
      "cell_type": "markdown",
      "source": [
        "И такого не надо 😶"
      ],
      "metadata": {
        "id": "G10GMC5dzKHq"
      }
    },
    {
      "cell_type": "code",
      "source": [
        "#two_words = \"два\" + 5\n",
        "\n",
        "#two_words"
      ],
      "metadata": {
        "id": "UhodIQMYzRdC"
      },
      "execution_count": null,
      "outputs": []
    },
    {
      "cell_type": "markdown",
      "source": [
        "Операции мы можем выполнять только над данными одного типа"
      ],
      "metadata": {
        "id": "SvuF2i-1zS-W"
      }
    },
    {
      "cell_type": "markdown",
      "source": [
        "# Индексы"
      ],
      "metadata": {
        "id": "NVKjQduibPgv"
      }
    },
    {
      "cell_type": "code",
      "source": [
        "my_string = '40'\n",
        "my_list = ['4', '0']"
      ],
      "metadata": {
        "id": "O8JMib8kw2G8"
      },
      "execution_count": null,
      "outputs": []
    },
    {
      "cell_type": "code",
      "source": [
        "print(my_string == my_list)"
      ],
      "metadata": {
        "colab": {
          "base_uri": "https://localhost:8080/"
        },
        "id": "gUlnmriXagfT",
        "outputId": "31eef3e2-3a6e-487a-ec41-5fcdc3b1c904"
      },
      "execution_count": null,
      "outputs": [
        {
          "output_type": "stream",
          "name": "stdout",
          "text": [
            "False\n"
          ]
        }
      ]
    },
    {
      "cell_type": "code",
      "source": [
        "print(my_string[0] == my_list[0])"
      ],
      "metadata": {
        "colab": {
          "base_uri": "https://localhost:8080/"
        },
        "id": "ErEG3hbtbS0M",
        "outputId": "b3362197-6caa-44db-caec-8f72683c9531"
      },
      "execution_count": null,
      "outputs": [
        {
          "output_type": "stream",
          "name": "stdout",
          "text": [
            "True\n"
          ]
        }
      ]
    },
    {
      "cell_type": "markdown",
      "source": [
        "Что произошло?"
      ],
      "metadata": {
        "id": "NxSfu4R5bZlJ"
      }
    },
    {
      "cell_type": "markdown",
      "source": [
        "**Индексы** в Python начинаются с 0.\n",
        "\n",
        "Первый элемент имеет индекс 0, второй - 1, и так далее\n",
        "\n",
        "Можно использовать отрицательные индексы для доступа к элементам с конца списка. -1 обозначает последний элемент, -2 - предпоследний и так далее.\n"
      ],
      "metadata": {
        "id": "SF0U2nCUdqwj"
      }
    },
    {
      "cell_type": "code",
      "source": [
        "print('С индексами: ', my_string[0], my_list[0])\n",
        "print('Без индексов: ', my_string, my_list)"
      ],
      "metadata": {
        "colab": {
          "base_uri": "https://localhost:8080/"
        },
        "id": "2dJn1vebbboh",
        "outputId": "5a412ec3-64ee-4e9d-f070-b5135fb04162"
      },
      "execution_count": null,
      "outputs": [
        {
          "output_type": "stream",
          "name": "stdout",
          "text": [
            "С индексами:  4 4\n",
            "Без индексов:  40 ['4', '0']\n"
          ]
        }
      ]
    },
    {
      "cell_type": "markdown",
      "source": [
        "Давайте разберемся с индексами 🤔"
      ],
      "metadata": {
        "id": "tNMir8UUcYBM"
      }
    },
    {
      "cell_type": "code",
      "source": [
        "# Создаем список чисел\n",
        "numbers = [10, 20, 30, 40, 50]\n",
        "\n",
        "# Обращение к элементам списка по индексу\n",
        "print(\"Первый элемент списка:\", numbers[0])\n",
        "print(\"Второй элемент списка:\", numbers[2])\n",
        "print(\"Последний элемент списка:\", numbers[-1])"
      ],
      "metadata": {
        "colab": {
          "base_uri": "https://localhost:8080/"
        },
        "id": "nJo-FQeGcMRx",
        "outputId": "a8959a06-94a2-4bf0-fb49-d28b413ccd1d"
      },
      "execution_count": null,
      "outputs": [
        {
          "output_type": "stream",
          "name": "stdout",
          "text": [
            "Первый элемент списка: 10\n",
            "Второй элемент списка: 30\n",
            "Последний элемент списка: 50\n"
          ]
        }
      ]
    },
    {
      "cell_type": "markdown",
      "source": [
        "А как со строкой? 🤔"
      ],
      "metadata": {
        "id": "3TmxTX-SccEi"
      }
    },
    {
      "cell_type": "code",
      "source": [
        "string = 'кто проживает на дне океана'\n",
        "\n",
        "print(\"Первый элемент строки:\", string[0])\n",
        "print(\"Второй элемент строки:\", string[2])\n",
        "print(\"Последний элемент строки:\", string[-10])"
      ],
      "metadata": {
        "colab": {
          "base_uri": "https://localhost:8080/"
        },
        "id": "mxaLpXxAcvYP",
        "outputId": "6dcb0ade-7af5-4d73-991d-d390b8679077"
      },
      "execution_count": null,
      "outputs": [
        {
          "output_type": "stream",
          "name": "stdout",
          "text": [
            "Первый элемент строки: к\n",
            "Второй элемент строки: о\n",
            "Последний элемент строки: д\n"
          ]
        }
      ]
    },
    {
      "cell_type": "markdown",
      "source": [
        "Посмотрим на список строк 🤔"
      ],
      "metadata": {
        "id": "4IJZt7tfdT73"
      }
    },
    {
      "cell_type": "code",
      "source": [
        "list_of_strs = ['кто', 'проживает', 'на', 'дне', 'океана']\n",
        "print(\"Первый элемент списка:\", string[0])\n",
        "print(\"Второй элемент списка:\", string[2])\n",
        "print(\"Последний элемент списка:\", string[-10])"
      ],
      "metadata": {
        "colab": {
          "base_uri": "https://localhost:8080/"
        },
        "id": "rXFUgZuodSbd",
        "outputId": "faabfb91-909b-421e-85eb-51098c43791f"
      },
      "execution_count": null,
      "outputs": [
        {
          "output_type": "stream",
          "name": "stdout",
          "text": [
            "Первый элемент списка: к\n",
            "Второй элемент списка: о\n",
            "Последний элемент списка: д\n"
          ]
        }
      ]
    },
    {
      "cell_type": "markdown",
      "source": [
        "### Немного практики!"
      ],
      "metadata": {
        "id": "Ehr-8M3FeI7S"
      }
    },
    {
      "cell_type": "markdown",
      "source": [
        "Дан список (всего подряд):\n",
        "\n",
        "```\n",
        "kasha_malasha = ['я', ['очень', 'разнообразный'], 'а ещё', ' ', 'тут есть цифра', 4 ]\n",
        "```\n",
        "\n",
        "Чему будут равны:\n",
        "\n",
        "1) `kasha_malasha[0]`\n",
        "\n",
        "2) `kasha_malasha[-3]`\n",
        "\n",
        "2) `kasha_malasha[1]`"
      ],
      "metadata": {
        "id": "iFxuQeoOeQip"
      }
    },
    {
      "cell_type": "markdown",
      "source": [
        "# Cрезы"
      ],
      "metadata": {
        "id": "MKsGZxdXgAj2"
      }
    },
    {
      "cell_type": "markdown",
      "source": [
        "С помощью срезов можно извлекать подсписки из списка.\n",
        "\n",
        "Формат среза: `list[start:end:step]`, где start - начальный индекс, end - конечный индекс (не включается), step - шаг.\n"
      ],
      "metadata": {
        "id": "vP7m_YHDgLDd"
      }
    },
    {
      "cell_type": "code",
      "source": [
        "numbers"
      ],
      "metadata": {
        "colab": {
          "base_uri": "https://localhost:8080/"
        },
        "id": "gMWWQ7cQgYcz",
        "outputId": "18e67a4a-e2fc-403a-a19f-112b3cdba08a"
      },
      "execution_count": null,
      "outputs": [
        {
          "output_type": "execute_result",
          "data": {
            "text/plain": [
              "[10, 20, 30, 40, 50]"
            ]
          },
          "metadata": {},
          "execution_count": 40
        }
      ]
    },
    {
      "cell_type": "code",
      "source": [
        "print(\"Срез от второго до четвертого элемента:\", numbers[1:4])\n",
        "print(\"Срез с начала до третьего элемента:\", numbers[:3])\n",
        "print(\"Срез с третьего элемента до конца:\", numbers[2:])\n",
        "print(\"Обратный порядок списка:\", numbers[::-1])"
      ],
      "metadata": {
        "colab": {
          "base_uri": "https://localhost:8080/"
        },
        "id": "Vfw_T2utgCUq",
        "outputId": "3efc2bde-3148-4d06-ab4c-dac5707647de"
      },
      "execution_count": null,
      "outputs": [
        {
          "output_type": "stream",
          "name": "stdout",
          "text": [
            "Срез от второго до четвертого элемента: [20, 30, 40]\n",
            "Срез с начала до третьего элемента: [10, 20, 30]\n",
            "Срез с третьего элемента до конца: [30, 40, 50]\n",
            "Обратный порядок списка: [50, 40, 30, 20, 10]\n"
          ]
        }
      ]
    },
    {
      "cell_type": "markdown",
      "source": [
        "### Небольшое задание\n",
        "Запишите условие, которое проверяет, кончается ли слово на букву \"а\" и если кончается — дописывает к нему ещё 5 букв \"а\", а если нет — просто возвращает слово\n",
        "\n"
      ],
      "metadata": {
        "id": "xp4btdiza9Mg"
      }
    },
    {
      "cell_type": "code",
      "source": [
        "### YOUR CODE"
      ],
      "metadata": {
        "id": "eO5dRlbZbBFU"
      },
      "execution_count": null,
      "outputs": []
    },
    {
      "cell_type": "markdown",
      "source": [
        "# Полезные методы строк"
      ],
      "metadata": {
        "id": "vPf24-oGy0LZ"
      }
    },
    {
      "cell_type": "markdown",
      "source": [
        "Табличка, но нужна на самом деле лишь часть этих методов)\n",
        "\n",
        "\n",
        "| Метод строк | Описание |\n",
        "| --- | --- |\n",
        "| `str.capitalize()` | Переводит первый символ строки в верхний регистр, а остальные в нижний |\n",
        "| `str.casefold()` | Переводит строку в нижний регистр, учитывая особенности языка |\n",
        "| `str.center(width, [fillchar])` | Центрирует строку в поле заданной ширины, заполняя пробелами или указанным символом |\n",
        "| `str.count(sub, [start, [end]])` | Возвращает количество вхождений подстроки sub в строке |\n",
        "| `str.encode([encoding, [errors]])` | Кодирование строки в байтовый строк |\n",
        "| `str.endswith(suffix, [start, [end]])` | Проверяет, заканчивается ли строка на подстроку suffix |\n",
        "| `str.find(sub, [start, [end]])` | Возвращает индекс первого вхождения подстроки sub в строке, или -1 если не найдено |\n",
        "| `str.format(*args, **kwargs)` | Форматирует строку, используя значения аргументов |\n",
        "| `str.index(sub, [start, [end]])` | Возвращает индекс первого вхождения подстроки sub в строке, или ValueError если не найдено |\n",
        "| `str.isalnum()` | Проверяет, состоит ли строка только из букв и цифр |\n",
        "| `str.isalpha()` | Проверяет, состоит ли строка только из букв |\n",
        "| `str.isdigit()` | Проверяет, состоит ли строка только из цифр |\n",
        "| `str.islower()` | Проверяет, состоит ли строка только из символов нижнего регистра |\n",
        "| `str.isupper()` | Проверяет, состоит ли строка только из символов верхнего регистра |\n",
        "| `str.join(iterable)` | Склеивает строки из iterable в одну строку, используя текущую строку как разделитель |\n",
        "| `str.ljust(width, [fillchar])` | Выравнивает строку по левому краю в поле заданной ширины, заполняя пробелами или указанным символом |\n",
        "| `str.lower()` | Переводит строку в нижний регистр |\n",
        "| `str.lstrip([chars])` | Удаляет символы из начала строки, если они присутствуют в chars |\n",
        "| `str.partition(sep)` | Разделяет строку на три части: до sep, sep, и после sep |\n",
        "| `str.replace(old, new, [count])` | Заменяет подстроку old на new в строке, если count указан, то только count раз |\n",
        "| `str.rfind(sub, [start, [end]])` | Возвращает индекс последнего вхождения подстроки sub в строке, или -1 если не найдено |\n",
        "| `str.rindex(sub, [start, [end]])` | Возвращает инdex последнего вхождения подстроки sub в строке, или ValueError если не найдено |\n",
        "| `str.rjust(width, [fillchar])` | Выравнивает строку по правому краю в поле заданной ширины, заполняя пробелами или указанным символом |\n",
        "| `str.rpartition(sep)` | Разделяет строку на три части: до sep, sep, и после sep, начиная с конца строки |\n",
        "| `str.rsplit(sep, [maxsplit])` | Разделяет строку на подстроки, используя sep как разделитель, начиная с конца строки |\n",
        "| `str.rstrip([chars])` | Удаляет символы из конца строки, если они присутствуют в chars |\n",
        "| `str.split(sep, [maxsplit])` | Разделяет строку на подстроки, используя sep как разделитель |\n",
        "| `str.splitlines([keepends])` | Разделяет строку на подстроки, используя символы конца строки как разделители |\n",
        "| `str.startswith(prefix, [start, [end]])` | Проверяет, начинается ли строка с подстроки prefix |\n",
        "| `str.strip([chars])` | Удаляет символы из начала и конца строки, если они присутствуют в chars |\n",
        "| `str.swapcase()` | Переводит символы строки в противоположный регистр |\n",
        "| `str.title()` | Переводит первый символ каждого слова в верхний регистр, а остальные в нижний |\n",
        "| `str.translate(table)` | Заменяет символы строки, используя таблицу translate |"
      ],
      "metadata": {
        "id": "fMRxt90o6cC9"
      }
    },
    {
      "cell_type": "markdown",
      "source": [
        "### Преобразование строк"
      ],
      "metadata": {
        "id": "Wjps5cRv0dPn"
      }
    },
    {
      "cell_type": "code",
      "source": [
        "spisok = ['Я', 'список']\n",
        "stroka = ' не '.join(spisok)\n",
        "stroka"
      ],
      "metadata": {
        "colab": {
          "base_uri": "https://localhost:8080/",
          "height": 35
        },
        "id": "Ser4MUlbzpAQ",
        "outputId": "e97f4869-39d5-46ed-bc7b-00764dc20bdb"
      },
      "execution_count": null,
      "outputs": [
        {
          "output_type": "execute_result",
          "data": {
            "text/plain": [
              "'Я не список'"
            ],
            "application/vnd.google.colaboratory.intrinsic+json": {
              "type": "string"
            }
          },
          "metadata": {},
          "execution_count": 43
        }
      ]
    },
    {
      "cell_type": "code",
      "source": [
        "spisok = ['Два', 'слова']\n",
        "stroka = ' '.join(spisok)\n",
        "stroka"
      ],
      "metadata": {
        "colab": {
          "base_uri": "https://localhost:8080/",
          "height": 35
        },
        "id": "mWgY7mBx0mXQ",
        "outputId": "c77b3c9f-c862-4454-e758-1a052541d967"
      },
      "execution_count": null,
      "outputs": [
        {
          "output_type": "execute_result",
          "data": {
            "text/plain": [
              "'Два слова'"
            ],
            "application/vnd.google.colaboratory.intrinsic+json": {
              "type": "string"
            }
          },
          "metadata": {},
          "execution_count": 44
        }
      ]
    },
    {
      "cell_type": "code",
      "source": [
        "stroka = 'я строка'\n",
        "spisok = stroka.split()\n",
        "spisok"
      ],
      "metadata": {
        "colab": {
          "base_uri": "https://localhost:8080/"
        },
        "id": "aLU4s-OT1Kyc",
        "outputId": "8f59638b-1921-4ca1-b816-af98e6af41aa"
      },
      "execution_count": null,
      "outputs": [
        {
          "output_type": "execute_result",
          "data": {
            "text/plain": [
              "['я', 'строка']"
            ]
          },
          "metadata": {},
          "execution_count": 45
        }
      ]
    },
    {
      "cell_type": "code",
      "source": [
        "stroka = 'я строка'\n",
        "spisok = stroka.split(',')\n",
        "spisok"
      ],
      "metadata": {
        "colab": {
          "base_uri": "https://localhost:8080/"
        },
        "id": "0gTnjmtQ1U2Q",
        "outputId": "24043572-ef48-40bb-8c7a-c7bfc4e5836a"
      },
      "execution_count": null,
      "outputs": [
        {
          "output_type": "execute_result",
          "data": {
            "text/plain": [
              "['я строка']"
            ]
          },
          "metadata": {},
          "execution_count": 46
        }
      ]
    },
    {
      "cell_type": "markdown",
      "source": [
        "### Заглавные буквы"
      ],
      "metadata": {
        "id": "Js6itZUo7vhr"
      }
    },
    {
      "cell_type": "code",
      "source": [
        "text = 'ааа очень громко'\n",
        "text.upper()"
      ],
      "metadata": {
        "colab": {
          "base_uri": "https://localhost:8080/",
          "height": 35
        },
        "id": "MndFGhYg1muG",
        "outputId": "a524b296-72a8-4063-af59-46ccddacb96a"
      },
      "execution_count": null,
      "outputs": [
        {
          "output_type": "execute_result",
          "data": {
            "text/plain": [
              "'ААА ОЧЕНЬ ГРОМКО'"
            ],
            "application/vnd.google.colaboratory.intrinsic+json": {
              "type": "string"
            }
          },
          "metadata": {},
          "execution_count": 47
        }
      ]
    },
    {
      "cell_type": "code",
      "source": [
        "# Делаем, чтобы слово писалось с заглавной буквы\n",
        "text = 'начало предложения надо бы писать с заглавной буквы'\n",
        "text.capitalize()"
      ],
      "metadata": {
        "colab": {
          "base_uri": "https://localhost:8080/",
          "height": 35
        },
        "id": "qEJUmU781wh9",
        "outputId": "3cda98ca-0b7e-486f-cd2b-294d8ed4f1f1"
      },
      "execution_count": null,
      "outputs": [
        {
          "output_type": "execute_result",
          "data": {
            "text/plain": [
              "'Начало предложения надо бы писать с заглавной буквы'"
            ],
            "application/vnd.google.colaboratory.intrinsic+json": {
              "type": "string"
            }
          },
          "metadata": {},
          "execution_count": 48
        }
      ]
    },
    {
      "cell_type": "markdown",
      "source": [
        "### Начало и конец строки"
      ],
      "metadata": {
        "id": "errqqb3U3Zlx"
      }
    },
    {
      "cell_type": "code",
      "source": [
        "text.endswith('ы')"
      ],
      "metadata": {
        "colab": {
          "base_uri": "https://localhost:8080/"
        },
        "id": "COME0kal3b6u",
        "outputId": "effdea2d-5dd5-4c29-f95c-7a5767415dca"
      },
      "execution_count": null,
      "outputs": [
        {
          "output_type": "execute_result",
          "data": {
            "text/plain": [
              "True"
            ]
          },
          "metadata": {},
          "execution_count": 49
        }
      ]
    },
    {
      "cell_type": "code",
      "source": [
        "text.startswith('ы')"
      ],
      "metadata": {
        "colab": {
          "base_uri": "https://localhost:8080/"
        },
        "id": "773JgvyA3hJ0",
        "outputId": "f5d09f90-a67d-432c-b56c-ba919adb1cd8"
      },
      "execution_count": null,
      "outputs": [
        {
          "output_type": "execute_result",
          "data": {
            "text/plain": [
              "False"
            ]
          },
          "metadata": {},
          "execution_count": 50
        }
      ]
    },
    {
      "cell_type": "markdown",
      "source": [
        "### Замена символа"
      ],
      "metadata": {
        "id": "lupTj-M_4OpK"
      }
    },
    {
      "cell_type": "code",
      "source": [
        "text = text.replace('ы', '*')\n",
        "text"
      ],
      "metadata": {
        "colab": {
          "base_uri": "https://localhost:8080/",
          "height": 35
        },
        "id": "05u27LRp4Qt3",
        "outputId": "abe3abfa-2ab7-4b71-8b5f-5fa609bd79b3"
      },
      "execution_count": null,
      "outputs": [
        {
          "output_type": "execute_result",
          "data": {
            "text/plain": [
              "'начало предложения надо б* писать с заглавной букв*'"
            ],
            "application/vnd.google.colaboratory.intrinsic+json": {
              "type": "string"
            }
          },
          "metadata": {},
          "execution_count": 51
        }
      ]
    },
    {
      "cell_type": "markdown",
      "source": [
        "# Полезные методы списков"
      ],
      "metadata": {
        "id": "lOSrtQuL5q51"
      }
    },
    {
      "cell_type": "markdown",
      "source": [
        "Вот они:\n",
        "\n",
        "| Метод | Описание |\n",
        "| --- | --- |\n",
        "| `list.append(x)` | Добавляет элемент в конец списка |\n",
        "| `list.extend(L)` | Расширяет список list, добавляя в конец все элементы списка L |\n",
        "| `list.insert(i, x)` | Вставляет на i-ый элемент значение x |\n",
        "| `list.remove(x)` | Удаляет первый элемент в списке, имеющий значение x. ValueError, если такого элемента не существует |\n",
        "| `list.pop([i])` | Удаляет i-ый элемент и возвращает его. Если индекс не указан, удаляется последний элемент |\n",
        "| `list.index(x, [start, [end]])` | Возвращает положение первого элемента со значением x (при этом поиск ведется от start до end) |\n",
        "| `list.count(x)` | Возвращает количество элементов со значением x |\n",
        "| `list.sort([key=функция])` | Сортирует список на основе функции |\n",
        "| `list.reverse()` | Разворачивает список |\n",
        "| `list.copy()` | Поверхностная копия списка |\n",
        "| `list.clear()` | Очищает список |\n",
        "| `list.reverse()` | Разворачивает список |\n",
        "\n"
      ],
      "metadata": {
        "id": "yhG9li8v6LSy"
      }
    },
    {
      "cell_type": "markdown",
      "source": [
        "Но работать в основном мы будем лишь с некоторыми)"
      ],
      "metadata": {
        "id": "ISJBSnCb6cw4"
      }
    },
    {
      "cell_type": "code",
      "source": [
        "# сортировка\n",
        "l = [1, 2, 3, 5, 7]\n",
        "l.sort()"
      ],
      "metadata": {
        "id": "bnC39jwI5uDc"
      },
      "execution_count": null,
      "outputs": []
    },
    {
      "cell_type": "code",
      "source": [
        "# воспользуемся методом строки, чтобы получить список\n",
        "print(text.split(), text.split().sort()) # => sort применяем только к числам"
      ],
      "metadata": {
        "colab": {
          "base_uri": "https://localhost:8080/"
        },
        "id": "BlRx82jT48i1",
        "outputId": "d075f3ef-d9fc-4ae9-dcce-30c8c79b2af8"
      },
      "execution_count": null,
      "outputs": [
        {
          "output_type": "stream",
          "name": "stdout",
          "text": [
            "['начало', 'предложения', 'надо', 'б*', 'писать', 'с', 'заглавной', 'букв*']\n"
          ]
        }
      ]
    },
    {
      "cell_type": "code",
      "source": [
        "# добавление элемента\n",
        "my_list = []\n",
        "my_list.append('элемент')\n",
        "my_list"
      ],
      "metadata": {
        "id": "NXYe-rUp5lJi"
      },
      "execution_count": null,
      "outputs": []
    },
    {
      "cell_type": "markdown",
      "source": [
        "А в чем разница + и append?\n",
        "\n",
        "**Оператор +**:\n",
        "   - Используется для конкатенации (объединения) двух списков\n",
        "   - Создает новый список, содержащий элементы обоих исходных списков\n",
        "   - Не изменяет исходные списки\n",
        "\n",
        "**Метод append()**:\n",
        "   - Используется для добавления элемента в конец списка\n",
        "   - Изменяет исходный список, добавляя элемент в его конец\n",
        "\n"
      ],
      "metadata": {
        "id": "Bgf2JMBM7BF-"
      }
    },
    {
      "cell_type": "code",
      "source": [
        "list1 = [1, 2, 3]\n",
        "list2 = [4, 5, 6]\n",
        "combined_list = list1 + list2\n",
        "print(combined_list)  #  [1, 2, 3, 4, 5, 6]"
      ],
      "metadata": {
        "id": "tHWr3pZ07DHk"
      },
      "execution_count": null,
      "outputs": []
    },
    {
      "cell_type": "code",
      "source": [
        "my_list = [1, 2, 3]\n",
        "my_list.append(4)\n",
        "print(my_list)  #  [1, 2, 3, 4]"
      ],
      "metadata": {
        "id": "EOAGJjTZ7O8U"
      },
      "execution_count": null,
      "outputs": []
    },
    {
      "cell_type": "markdown",
      "source": [
        "Если вы хотите объединить два списка в новом списке, используйте оператор +, а если вы хотите добавить элемент в существующий список, используйте метод append()"
      ],
      "metadata": {
        "id": "_mPFtRG57UTT"
      }
    },
    {
      "cell_type": "code",
      "source": [
        "# считаем количество значений в списке\n",
        "random_list = [4, 1, 5, 4, 10, 4]\n",
        "random_list.count(4) # сколько в списке 4"
      ],
      "metadata": {
        "colab": {
          "base_uri": "https://localhost:8080/"
        },
        "id": "-oZmg7wP7V2W",
        "outputId": "9f7082b4-74e0-4c1d-d61d-d198dff6398e"
      },
      "execution_count": null,
      "outputs": [
        {
          "output_type": "execute_result",
          "data": {
            "text/plain": [
              "3"
            ]
          },
          "metadata": {},
          "execution_count": 57
        }
      ]
    },
    {
      "cell_type": "code",
      "source": [
        "# перевернем список\n",
        "my_list = [1, 'two', 'a', 4]\n",
        "my_list.reverse()  # None\n",
        "my_list  # [4, 'a', 'two', 1]"
      ],
      "metadata": {
        "id": "_OYqcgY27kcO"
      },
      "execution_count": null,
      "outputs": []
    },
    {
      "cell_type": "markdown",
      "source": [
        "# Функции"
      ],
      "metadata": {
        "id": "NxvBQtVD3SKf"
      }
    },
    {
      "cell_type": "markdown",
      "source": [
        "Мы уже использовали функции — особые выражения, которое пишутся со скобками: print() и выполняют какое-то действие с тем, что внутри скобок\n",
        "\n",
        "То, что мы писали через точку после строк — .capitalize() — тоже функции, но с немного особым синтаксисом.\n",
        "\n",
        "В скобках у функции может быть несколько аргументов — и важно понимать, как именно она будет с ними обращаться."
      ],
      "metadata": {
        "id": "IR9D0jHI48AB"
      }
    },
    {
      "cell_type": "code",
      "source": [
        "#Два аргумента функции\n",
        "print('Hello', 'World!')"
      ],
      "metadata": {
        "id": "j79Q8mVM5Bzf"
      },
      "execution_count": null,
      "outputs": []
    },
    {
      "cell_type": "code",
      "source": [
        "help(print)"
      ],
      "metadata": {
        "id": "sa5dnQo_5C5P"
      },
      "execution_count": null,
      "outputs": []
    },
    {
      "cell_type": "code",
      "source": [
        "'это предложение, у которого на конце что-то лишнее \\n'.strip()"
      ],
      "metadata": {
        "id": "Ygo4FmmB5L9A"
      },
      "execution_count": null,
      "outputs": []
    },
    {
      "cell_type": "code",
      "source": [
        "'это предложение, у которого на конце что-то лишнее \\n'.strip('\\n')"
      ],
      "metadata": {
        "id": "GvqOxzFX5MsH"
      },
      "execution_count": null,
      "outputs": []
    },
    {
      "cell_type": "code",
      "source": [
        "def reverse_string(s):\n",
        "    \"\"\"\n",
        "    Функция переворачивает строку и возвращает результат.\n",
        "\n",
        "    Параметры:\n",
        "    s (str): Исходная строка.\n",
        "\n",
        "    Возвращает:\n",
        "    str: Перевернутая строка.\n",
        "    \"\"\"\n",
        "    return s[::-1]\n",
        "\n",
        "original_string = \"А роза упала на лапу Азора\"\n",
        "reversed_string = reverse_string(original_string)\n",
        "print(\"Перевернутая строка:\", reversed_string)"
      ],
      "metadata": {
        "colab": {
          "base_uri": "https://localhost:8080/"
        },
        "id": "-lMFsUCV3nM3",
        "outputId": "ec3e1115-726d-41d8-d8e3-69d6516440ed"
      },
      "execution_count": null,
      "outputs": [
        {
          "output_type": "stream",
          "name": "stdout",
          "text": [
            "Перевернутая строка: арозА упал ан алапу азор А\n"
          ]
        }
      ]
    },
    {
      "cell_type": "code",
      "source": [
        "def reverse_string(s, lower=False):\n",
        "    \"\"\"\n",
        "    Функция переворачивает строку и возвращает результат.\n",
        "\n",
        "    Параметры:\n",
        "    s (str): Исходная строка.\n",
        "    lower (bool): Флаг для указания, нужно ли привести строку к нижнему регистру\n",
        "        перед переворотом. По умолчанию False.\n",
        "\n",
        "    Возвращает:\n",
        "    str: Перевернутая строка.\n",
        "    \"\"\"\n",
        "    if lower:\n",
        "        return s.lower()[::-1]\n",
        "    return s[::-1]"
      ],
      "metadata": {
        "id": "Rx7gKQb273bh"
      },
      "execution_count": null,
      "outputs": []
    },
    {
      "cell_type": "code",
      "source": [
        "original_string = \"А роза упала на лапу Азора\"\n",
        "reversed_string = reverse_string(original_string)\n",
        "print(\"Перевернутая строка без приведения к нижнему регистру:\", reversed_string)"
      ],
      "metadata": {
        "colab": {
          "base_uri": "https://localhost:8080/"
        },
        "id": "0Qzt5Glx8qLd",
        "outputId": "617f0852-9088-4ad9-a4dc-942997edb2f4"
      },
      "execution_count": null,
      "outputs": [
        {
          "output_type": "stream",
          "name": "stdout",
          "text": [
            "Перевернутая строка без приведения к нижнему регистру: арозА упал ан алапу азор А\n"
          ]
        }
      ]
    },
    {
      "cell_type": "code",
      "source": [
        "reversed_lower_string = reverse_string(original_string, lower=True)\n",
        "print(\"Перевернутая строка с приведением к нижнему регистру:\", reversed_lower_string)"
      ],
      "metadata": {
        "colab": {
          "base_uri": "https://localhost:8080/"
        },
        "id": "ysLOj0f-8r7k",
        "outputId": "bfc04e13-01ef-4e69-a1e8-c592120eaac7"
      },
      "execution_count": null,
      "outputs": [
        {
          "output_type": "stream",
          "name": "stdout",
          "text": [
            "Перевернутая строка с приведением к нижнему регистру: ароза упал ан алапу азор а\n"
          ]
        }
      ]
    },
    {
      "cell_type": "markdown",
      "source": [
        "Огромное количество функций написано за нас 🤟\n",
        "\n",
        "Эти функции вместе с другими полезными вещами складывают в библиотеки или модули — и их можно брать и использовать!"
      ],
      "metadata": {
        "id": "6ETaTD865Uld"
      }
    },
    {
      "cell_type": "code",
      "source": [
        "import math #Просим загрузить нам модуль\n",
        "\n",
        "#Извлекаем квадратный корень функцией из этого модуля\n",
        "math.sqrt(25)"
      ],
      "metadata": {
        "colab": {
          "base_uri": "https://localhost:8080/"
        },
        "id": "p2EqilQa5YC4",
        "outputId": "5eaf6a7e-9518-4d32-cdb4-3e5a627deea1"
      },
      "execution_count": null,
      "outputs": [
        {
          "output_type": "execute_result",
          "data": {
            "text/plain": [
              "5.0"
            ]
          },
          "metadata": {},
          "execution_count": 73
        }
      ]
    },
    {
      "cell_type": "code",
      "source": [
        "from collections import Counter\n",
        "string_random_elems = 'hddjsodfvediggggggggggggggggg'\n",
        "Counter(string_random_elems)"
      ],
      "metadata": {
        "colab": {
          "base_uri": "https://localhost:8080/"
        },
        "id": "gTCvmpi189sN",
        "outputId": "e0985ef3-d45f-4046-9d7a-524fe23f1991"
      },
      "execution_count": null,
      "outputs": [
        {
          "output_type": "execute_result",
          "data": {
            "text/plain": [
              "Counter({'h': 1,\n",
              "         'd': 4,\n",
              "         'j': 1,\n",
              "         's': 1,\n",
              "         'o': 1,\n",
              "         'f': 1,\n",
              "         'v': 1,\n",
              "         'e': 1,\n",
              "         'i': 1,\n",
              "         'g': 17})"
            ]
          },
          "metadata": {},
          "execution_count": 65
        }
      ]
    },
    {
      "cell_type": "code",
      "source": [
        "Counter(string_random_elems).most_common(3) # выведет только 3 наиболее частых элемента"
      ],
      "metadata": {
        "colab": {
          "base_uri": "https://localhost:8080/"
        },
        "id": "JtAwAT6_9J30",
        "outputId": "48e21f39-17b6-4b77-a22a-997579883e98"
      },
      "execution_count": null,
      "outputs": [
        {
          "output_type": "execute_result",
          "data": {
            "text/plain": [
              "[('g', 17), ('d', 4), ('h', 1)]"
            ]
          },
          "metadata": {},
          "execution_count": 66
        }
      ]
    },
    {
      "cell_type": "code",
      "source": [
        "! pip install nltk #Скачиваем модуль\n",
        "import nltk #Просим загрузить нам модуль\n",
        "nltk.download('punkt') #Скачиваем ещё кусочек модуля"
      ],
      "metadata": {
        "colab": {
          "base_uri": "https://localhost:8080/"
        },
        "id": "MxMdOcDZ9SHF",
        "outputId": "4479733b-96b2-4ac9-beb3-a6d6e89fbae1"
      },
      "execution_count": null,
      "outputs": [
        {
          "output_type": "stream",
          "name": "stdout",
          "text": [
            "Requirement already satisfied: nltk in /usr/local/lib/python3.10/dist-packages (3.8.1)\n",
            "Requirement already satisfied: click in /usr/local/lib/python3.10/dist-packages (from nltk) (8.1.7)\n",
            "Requirement already satisfied: joblib in /usr/local/lib/python3.10/dist-packages (from nltk) (1.4.0)\n",
            "Requirement already satisfied: regex>=2021.8.3 in /usr/local/lib/python3.10/dist-packages (from nltk) (2023.12.25)\n",
            "Requirement already satisfied: tqdm in /usr/local/lib/python3.10/dist-packages (from nltk) (4.66.2)\n"
          ]
        },
        {
          "output_type": "stream",
          "name": "stderr",
          "text": [
            "[nltk_data] Downloading package punkt to /root/nltk_data...\n",
            "[nltk_data]   Unzipping tokenizers/punkt.zip.\n"
          ]
        },
        {
          "output_type": "execute_result",
          "data": {
            "text/plain": [
              "True"
            ]
          },
          "metadata": {},
          "execution_count": 67
        }
      ]
    },
    {
      "cell_type": "code",
      "source": [
        "nltk.tokenize.word_tokenize('Я хочу разделить на слова длинное предложение, которое включает в себя знаки препинания!')"
      ],
      "metadata": {
        "colab": {
          "base_uri": "https://localhost:8080/"
        },
        "id": "VlryyiNf9W4u",
        "outputId": "32f95d7f-d484-4b13-b90e-6edfaade2422"
      },
      "execution_count": null,
      "outputs": [
        {
          "output_type": "execute_result",
          "data": {
            "text/plain": [
              "['Я',\n",
              " 'хочу',\n",
              " 'разделить',\n",
              " 'на',\n",
              " 'слова',\n",
              " 'длинное',\n",
              " 'предложение',\n",
              " ',',\n",
              " 'которое',\n",
              " 'включает',\n",
              " 'в',\n",
              " 'себя',\n",
              " 'знаки',\n",
              " 'препинания',\n",
              " '!']"
            ]
          },
          "metadata": {},
          "execution_count": 68
        }
      ]
    },
    {
      "cell_type": "markdown",
      "source": [
        "### И еще практика)\n",
        "\n",
        "Импортируйте модуль random. Используйте функцию randint из него, чтобы сгенерировать случайное число от одного до 10. Чтобы понять, какие аргументы у этой функции, можно почитать [документацию](https://docs.python.org/3/library/random.html) или просто загуглить random.randint."
      ],
      "metadata": {
        "id": "P9rD1O279g-y"
      }
    },
    {
      "cell_type": "code",
      "source": [
        "### YOUR CODE"
      ],
      "metadata": {
        "id": "f54uPtmS9sAH"
      },
      "execution_count": null,
      "outputs": []
    },
    {
      "cell_type": "markdown",
      "source": [
        "# Циклы\n",
        "\n",
        "В цикле программа повторяет определённое действие несколько раз. Действие задано в теле цикла, число повторений — в его условии. В условии может быть вполне конкретное число, например пять или десять. А может быть более сложная проверка — например, анализ переменной из тела цикла. Одно повторение тела цикла называется итерацией."
      ],
      "metadata": {
        "id": "GEOR6ztM5kGJ"
      }
    },
    {
      "cell_type": "markdown",
      "source": [
        "### Цикл While\n",
        "Выполняем тело цикла до тех пор, пока условие цикла истинно\n",
        "\n",
        "Осторожнее с бесконечными циклами! 🔴"
      ],
      "metadata": {
        "id": "VHUdsFt9_OS8"
      }
    },
    {
      "cell_type": "code",
      "source": [
        "i = 5\n",
        "while i < 15:\n",
        "    print(i)\n",
        "    #i = i + 2\n",
        "    i += 2"
      ],
      "metadata": {
        "colab": {
          "base_uri": "https://localhost:8080/"
        },
        "id": "rmwifVhG_P66",
        "outputId": "50438585-51d2-441c-9da7-c4d146abd10a"
      },
      "execution_count": null,
      "outputs": [
        {
          "output_type": "stream",
          "name": "stdout",
          "text": [
            "5\n",
            "7\n",
            "9\n",
            "11\n",
            "13\n"
          ]
        }
      ]
    },
    {
      "cell_type": "markdown",
      "source": [
        "### Цикл For\n",
        "\n",
        "Мы пробегаемся по каждому элементу в нашем объекте(например строке или списку), и во время каждого прохода выполняет какое-то действие в теле цикла"
      ],
      "metadata": {
        "id": "RtHNWwje-qG-"
      }
    },
    {
      "cell_type": "code",
      "source": [
        "text"
      ],
      "metadata": {
        "colab": {
          "base_uri": "https://localhost:8080/",
          "height": 35
        },
        "id": "-o2lrdg5-x1T",
        "outputId": "f5cc3aaa-5cd3-4540-a409-08002cc3f94b"
      },
      "execution_count": null,
      "outputs": [
        {
          "output_type": "execute_result",
          "data": {
            "text/plain": [
              "'начало предложения надо б* писать с заглавной букв*'"
            ],
            "application/vnd.google.colaboratory.intrinsic+json": {
              "type": "string"
            }
          },
          "metadata": {},
          "execution_count": 69
        }
      ]
    },
    {
      "cell_type": "code",
      "source": [
        "for word in text[0:6]:\n",
        "    print(word)"
      ],
      "metadata": {
        "colab": {
          "base_uri": "https://localhost:8080/"
        },
        "id": "EG4wr36k-zb_",
        "outputId": "6ad3425c-185a-4025-8204-2f585a661745"
      },
      "execution_count": null,
      "outputs": [
        {
          "output_type": "stream",
          "name": "stdout",
          "text": [
            "н\n",
            "а\n",
            "ч\n",
            "а\n",
            "л\n",
            "о\n"
          ]
        }
      ]
    },
    {
      "cell_type": "code",
      "source": [
        "n = int(input(\"Введите количество чисел: \"))\n",
        "for i in range(n):\n",
        "    print(i)"
      ],
      "metadata": {
        "colab": {
          "base_uri": "https://localhost:8080/"
        },
        "id": "Pn5xsrcX5bpf",
        "outputId": "cde3581c-861c-46e8-8c6d-44b5db463877"
      },
      "execution_count": null,
      "outputs": [
        {
          "output_type": "stream",
          "name": "stdout",
          "text": [
            "Введите количество чисел: 5\n",
            "0\n",
            "1\n",
            "2\n",
            "3\n",
            "4\n"
          ]
        }
      ]
    },
    {
      "cell_type": "markdown",
      "source": [
        "### Вложенные циклы"
      ],
      "metadata": {
        "id": "mUkIhz2E_6FZ"
      }
    },
    {
      "cell_type": "code",
      "source": [
        "n = ['вложенный', 'цикл']\n",
        "for i in n: # идем по каждому элементу (сейчас на уровне списка)\n",
        "    print(j)\n",
        "    for j in i: # идем по каждому элементу (сейчас на уровне строки)\n",
        "        print(j)"
      ],
      "metadata": {
        "colab": {
          "base_uri": "https://localhost:8080/"
        },
        "id": "vZ9aueqK_7yV",
        "outputId": "e8172340-17ff-49c1-a62c-51d4f04b11be"
      },
      "execution_count": null,
      "outputs": [
        {
          "output_type": "stream",
          "name": "stdout",
          "text": [
            "цикл\n",
            "в\n",
            "л\n",
            "о\n",
            "ж\n",
            "е\n",
            "н\n",
            "н\n",
            "ы\n",
            "й\n",
            "й\n",
            "ц\n",
            "и\n",
            "к\n",
            "л\n"
          ]
        }
      ]
    },
    {
      "cell_type": "code",
      "source": [
        "h = 7\n",
        "w = h + 2\n",
        "m = w // 4\n",
        "for i in range(1, h+1):\n",
        "    if (i <= m):\n",
        "        print(\" \" * (m-i) + \"*\" * (2*i) + \" \" * (w-2*i-2*m) + \"*\" *(2*i) + \" \" * (m-i))\n",
        "    else:\n",
        "      print(\" \" * (i - 2*m+1) + \"*\" * (w-2*(i-2*m+1)) + \" \" * (i - 2*m+1))"
      ],
      "metadata": {
        "colab": {
          "base_uri": "https://localhost:8080/"
        },
        "id": "WE5HuqDU__z3",
        "outputId": "78c0a6c7-c256-4017-e0b8-da0e4c526265"
      },
      "execution_count": null,
      "outputs": [
        {
          "output_type": "stream",
          "name": "stdout",
          "text": [
            " **   ** \n",
            "**** ****\n",
            "*********\n",
            " ******* \n",
            "  *****  \n",
            "   ***   \n",
            "    *    \n"
          ]
        }
      ]
    },
    {
      "cell_type": "markdown",
      "source": [
        "### Где читать про питон"
      ],
      "metadata": {
        "id": "51GrelseAxmO"
      }
    },
    {
      "cell_type": "markdown",
      "source": [
        "- [Документация](https://www.python.org/)\n",
        "- [Учебник яндекса](https://education.yandex.ru/handbook/python)\n",
        "- [Хабр](https://habr.com/ru/articles/450474/)"
      ],
      "metadata": {
        "id": "CeDmp3EfA0xB"
      }
    },
    {
      "cell_type": "markdown",
      "source": [
        "### Что ещё стоит сделать?\n",
        "\n",
        "Зарегистрироваться на [гитхабе](https://github.com)"
      ],
      "metadata": {
        "id": "vs2uTxrVBNMr"
      }
    }
  ]
}