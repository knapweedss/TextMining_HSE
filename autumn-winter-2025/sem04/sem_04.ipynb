{
  "nbformat": 4,
  "nbformat_minor": 0,
  "metadata": {
    "colab": {
      "provenance": [],
      "toc_visible": true
    },
    "kernelspec": {
      "name": "python3",
      "display_name": "Python 3"
    },
    "language_info": {
      "name": "python"
    }
  },
  "cells": [
    {
      "cell_type": "markdown",
      "source": [
        "# Базовые этапы предобработки текста"
      ],
      "metadata": {
        "id": "oInlxNactVLL"
      }
    },
    {
      "cell_type": "markdown",
      "source": [
        "## Токенизация\n",
        "\n",
        "Это процесс разбиения текста на более мелкие части, такие как слова и предложения."
      ],
      "metadata": {
        "id": "L8_Xr73LcaoK"
      }
    },
    {
      "cell_type": "markdown",
      "source": [
        "### Что мы умеем?\n",
        "\n",
        "Вот рандомный текст:"
      ],
      "metadata": {
        "id": "NLPcqCV3gHNo"
      }
    },
    {
      "cell_type": "code",
      "execution_count": 1,
      "metadata": {
        "id": "tPQ-txQ3cF_h"
      },
      "outputs": [],
      "source": [
        "text = '''Это тренировочный текст,\n",
        "который я пишу в несколько предложений и даже не в одну строку.\n",
        "А это его второе предложение, в котором пере-\n",
        "нос и ашибка. А еще подписывайтесь на www.text.hru 😎 #хештег'''"
      ]
    },
    {
      "cell_type": "markdown",
      "source": [
        "Разделим его на слова, используя уже известный нам метод `x.split()`."
      ],
      "metadata": {
        "id": "SyKiKuWpdONy"
      }
    },
    {
      "cell_type": "code",
      "source": [
        "a = text.split()\n",
        "a"
      ],
      "metadata": {
        "colab": {
          "base_uri": "https://localhost:8080/"
        },
        "id": "pfOV0zjpdljF",
        "outputId": "51d8f91c-80e9-4b93-d148-419256117e3b"
      },
      "execution_count": 3,
      "outputs": [
        {
          "output_type": "execute_result",
          "data": {
            "text/plain": [
              "['Это',\n",
              " 'тренировочный',\n",
              " 'текст,',\n",
              " 'который',\n",
              " 'я',\n",
              " 'пишу',\n",
              " 'в',\n",
              " 'несколько',\n",
              " 'предложений',\n",
              " 'и',\n",
              " 'даже',\n",
              " 'не',\n",
              " 'в',\n",
              " 'одну',\n",
              " 'строку.',\n",
              " 'А',\n",
              " 'это',\n",
              " 'его',\n",
              " 'второе',\n",
              " 'предложение,',\n",
              " 'в',\n",
              " 'котором',\n",
              " 'пере-',\n",
              " 'нос',\n",
              " 'и',\n",
              " 'ашибка.',\n",
              " 'А',\n",
              " 'еще',\n",
              " 'подписывайтесь',\n",
              " 'на',\n",
              " 'www.text.hru',\n",
              " '😎',\n",
              " '#хештег']"
            ]
          },
          "metadata": {},
          "execution_count": 3
        }
      ]
    },
    {
      "cell_type": "markdown",
      "source": [
        "Посмотрим на чатотные слова с помощью метода `Counter(x)`."
      ],
      "metadata": {
        "id": "zO3pFTfyfwre"
      }
    },
    {
      "cell_type": "code",
      "source": [
        "from collections import Counter\n",
        "\n",
        "counter = Counter(a)\n",
        "counter.most_common()"
      ],
      "metadata": {
        "colab": {
          "base_uri": "https://localhost:8080/"
        },
        "id": "EBh58d0gfhWd",
        "outputId": "f9727646-7184-451e-ef2f-f7d4a1e4b895"
      },
      "execution_count": 4,
      "outputs": [
        {
          "output_type": "execute_result",
          "data": {
            "text/plain": [
              "[('в', 3),\n",
              " ('и', 2),\n",
              " ('А', 2),\n",
              " ('Это', 1),\n",
              " ('тренировочный', 1),\n",
              " ('текст,', 1),\n",
              " ('который', 1),\n",
              " ('я', 1),\n",
              " ('пишу', 1),\n",
              " ('несколько', 1),\n",
              " ('предложений', 1),\n",
              " ('даже', 1),\n",
              " ('не', 1),\n",
              " ('одну', 1),\n",
              " ('строку.', 1),\n",
              " ('это', 1),\n",
              " ('его', 1),\n",
              " ('второе', 1),\n",
              " ('предложение,', 1),\n",
              " ('котором', 1),\n",
              " ('пере-', 1),\n",
              " ('нос', 1),\n",
              " ('ашибка.', 1),\n",
              " ('еще', 1),\n",
              " ('подписывайтесь', 1),\n",
              " ('на', 1),\n",
              " ('www.text.hru', 1),\n",
              " ('😎', 1),\n",
              " ('#хештег', 1)]"
            ]
          },
          "metadata": {},
          "execution_count": 4
        }
      ]
    },
    {
      "cell_type": "markdown",
      "source": [
        "Что не так с этим списком? 😞"
      ],
      "metadata": {
        "id": "y0PGp8MMeya8"
      }
    },
    {
      "cell_type": "markdown",
      "source": [
        "## Ответ\n",
        "\n",
        "Можно указать сразу несколько недостатков:\n",
        "\n",
        "*  некоторые слова «склеились» со знаками препинания (`текст,`, `предложение,`, `пере-`, `ашибка.`);\n",
        "*  одно и то же слово, написанное со строчной и с заглавной буквы, учитывается как два разных слова (`Это` и `это`);\n",
        "*   разные формы и одного и того же слова засчитываются как два разных слова (`предложений` и `предложение`);\n",
        "*   за слова принимаются элементы, которыми словами не являются (ссылки, эмодзи, хештеги, слова с орфографическими ошибками)."
      ],
      "metadata": {
        "id": "YaQOqNjGDgdN"
      }
    },
    {
      "cell_type": "markdown",
      "source": [
        "### NLTK\n",
        "\n",
        "Разделим текст на слова с помощью библиотеки NLTK."
      ],
      "metadata": {
        "id": "ZIifllb9vBjd"
      }
    },
    {
      "cell_type": "code",
      "source": [
        "import nltk # импортируем библиотеку\n",
        "\n",
        "nltk.download('punkt_tab') # скачиваем модуль для работы с пунктуацией\n",
        "\n",
        "from nltk.tokenize import word_tokenize # импортируем функцию, которая разбивает строку на слова"
      ],
      "metadata": {
        "colab": {
          "base_uri": "https://localhost:8080/"
        },
        "id": "z54HTej9gMmy",
        "outputId": "d9020e90-9187-40a9-dd3b-7574f907fcc4"
      },
      "execution_count": 5,
      "outputs": [
        {
          "output_type": "stream",
          "name": "stderr",
          "text": [
            "[nltk_data] Downloading package punkt_tab to /root/nltk_data...\n",
            "[nltk_data]   Unzipping tokenizers/punkt_tab.zip.\n"
          ]
        }
      ]
    },
    {
      "cell_type": "code",
      "source": [
        "b = word_tokenize(text)\n",
        "b"
      ],
      "metadata": {
        "colab": {
          "base_uri": "https://localhost:8080/"
        },
        "id": "tBTccu0DggyF",
        "outputId": "e29f4377-bb0e-4f6d-ca8f-3a6b3b4dc703"
      },
      "execution_count": 6,
      "outputs": [
        {
          "output_type": "execute_result",
          "data": {
            "text/plain": [
              "['Это',\n",
              " 'тренировочный',\n",
              " 'текст',\n",
              " ',',\n",
              " 'который',\n",
              " 'я',\n",
              " 'пишу',\n",
              " 'в',\n",
              " 'несколько',\n",
              " 'предложений',\n",
              " 'и',\n",
              " 'даже',\n",
              " 'не',\n",
              " 'в',\n",
              " 'одну',\n",
              " 'строку',\n",
              " '.',\n",
              " 'А',\n",
              " 'это',\n",
              " 'его',\n",
              " 'второе',\n",
              " 'предложение',\n",
              " ',',\n",
              " 'в',\n",
              " 'котором',\n",
              " 'пере-',\n",
              " 'нос',\n",
              " 'и',\n",
              " 'ашибка',\n",
              " '.',\n",
              " 'А',\n",
              " 'еще',\n",
              " 'подписывайтесь',\n",
              " 'на',\n",
              " 'www.text.hru',\n",
              " '😎',\n",
              " '#',\n",
              " 'хештег']"
            ]
          },
          "metadata": {},
          "execution_count": 6
        }
      ]
    },
    {
      "cell_type": "markdown",
      "source": [
        "Составим частотный список."
      ],
      "metadata": {
        "id": "U4YEHeBweimT"
      }
    },
    {
      "cell_type": "code",
      "source": [
        "counter = Counter(b)\n",
        "counter.most_common()"
      ],
      "metadata": {
        "colab": {
          "base_uri": "https://localhost:8080/"
        },
        "id": "BnODrQylelyo",
        "outputId": "2f94c679-a0ca-4c99-f7e2-45aa62f8f873"
      },
      "execution_count": 7,
      "outputs": [
        {
          "output_type": "execute_result",
          "data": {
            "text/plain": [
              "[('в', 3),\n",
              " (',', 2),\n",
              " ('и', 2),\n",
              " ('.', 2),\n",
              " ('А', 2),\n",
              " ('Это', 1),\n",
              " ('тренировочный', 1),\n",
              " ('текст', 1),\n",
              " ('который', 1),\n",
              " ('я', 1),\n",
              " ('пишу', 1),\n",
              " ('несколько', 1),\n",
              " ('предложений', 1),\n",
              " ('даже', 1),\n",
              " ('не', 1),\n",
              " ('одну', 1),\n",
              " ('строку', 1),\n",
              " ('это', 1),\n",
              " ('его', 1),\n",
              " ('второе', 1),\n",
              " ('предложение', 1),\n",
              " ('котором', 1),\n",
              " ('пере-', 1),\n",
              " ('нос', 1),\n",
              " ('ашибка', 1),\n",
              " ('еще', 1),\n",
              " ('подписывайтесь', 1),\n",
              " ('на', 1),\n",
              " ('www.text.hru', 1),\n",
              " ('😎', 1),\n",
              " ('#', 1),\n",
              " ('хештег', 1)]"
            ]
          },
          "metadata": {},
          "execution_count": 7
        }
      ]
    },
    {
      "cell_type": "markdown",
      "source": [
        "Что изменилось по сравнению с методом `split()`?"
      ],
      "metadata": {
        "id": "wv3qQi8WwYB2"
      }
    },
    {
      "cell_type": "markdown",
      "source": [
        "### spaCy"
      ],
      "metadata": {
        "id": "YQex1-eQ52ib"
      }
    },
    {
      "cell_type": "markdown",
      "source": [
        "Сделаем то же самое с помощью библиотеки spaCy."
      ],
      "metadata": {
        "id": "Y4W-AdJB54YA"
      }
    },
    {
      "cell_type": "code",
      "source": [
        "# скачиваем и импортируем библиотеку\n",
        "! pip install spacy\n",
        "import spacy"
      ],
      "metadata": {
        "colab": {
          "base_uri": "https://localhost:8080/"
        },
        "id": "jJtNkFrE6c2e",
        "outputId": "f36e7d7f-906c-4ccd-e041-49b4834cbe32"
      },
      "execution_count": 8,
      "outputs": [
        {
          "output_type": "stream",
          "name": "stdout",
          "text": [
            "Requirement already satisfied: spacy in /usr/local/lib/python3.12/dist-packages (3.8.7)\n",
            "Requirement already satisfied: spacy-legacy<3.1.0,>=3.0.11 in /usr/local/lib/python3.12/dist-packages (from spacy) (3.0.12)\n",
            "Requirement already satisfied: spacy-loggers<2.0.0,>=1.0.0 in /usr/local/lib/python3.12/dist-packages (from spacy) (1.0.5)\n",
            "Requirement already satisfied: murmurhash<1.1.0,>=0.28.0 in /usr/local/lib/python3.12/dist-packages (from spacy) (1.0.13)\n",
            "Requirement already satisfied: cymem<2.1.0,>=2.0.2 in /usr/local/lib/python3.12/dist-packages (from spacy) (2.0.11)\n",
            "Requirement already satisfied: preshed<3.1.0,>=3.0.2 in /usr/local/lib/python3.12/dist-packages (from spacy) (3.0.10)\n",
            "Requirement already satisfied: thinc<8.4.0,>=8.3.4 in /usr/local/lib/python3.12/dist-packages (from spacy) (8.3.6)\n",
            "Requirement already satisfied: wasabi<1.2.0,>=0.9.1 in /usr/local/lib/python3.12/dist-packages (from spacy) (1.1.3)\n",
            "Requirement already satisfied: srsly<3.0.0,>=2.4.3 in /usr/local/lib/python3.12/dist-packages (from spacy) (2.5.1)\n",
            "Requirement already satisfied: catalogue<2.1.0,>=2.0.6 in /usr/local/lib/python3.12/dist-packages (from spacy) (2.0.10)\n",
            "Requirement already satisfied: weasel<0.5.0,>=0.1.0 in /usr/local/lib/python3.12/dist-packages (from spacy) (0.4.1)\n",
            "Requirement already satisfied: typer<1.0.0,>=0.3.0 in /usr/local/lib/python3.12/dist-packages (from spacy) (0.17.4)\n",
            "Requirement already satisfied: tqdm<5.0.0,>=4.38.0 in /usr/local/lib/python3.12/dist-packages (from spacy) (4.67.1)\n",
            "Requirement already satisfied: numpy>=1.19.0 in /usr/local/lib/python3.12/dist-packages (from spacy) (2.0.2)\n",
            "Requirement already satisfied: requests<3.0.0,>=2.13.0 in /usr/local/lib/python3.12/dist-packages (from spacy) (2.32.4)\n",
            "Requirement already satisfied: pydantic!=1.8,!=1.8.1,<3.0.0,>=1.7.4 in /usr/local/lib/python3.12/dist-packages (from spacy) (2.11.7)\n",
            "Requirement already satisfied: jinja2 in /usr/local/lib/python3.12/dist-packages (from spacy) (3.1.6)\n",
            "Requirement already satisfied: setuptools in /usr/local/lib/python3.12/dist-packages (from spacy) (75.2.0)\n",
            "Requirement already satisfied: packaging>=20.0 in /usr/local/lib/python3.12/dist-packages (from spacy) (25.0)\n",
            "Requirement already satisfied: langcodes<4.0.0,>=3.2.0 in /usr/local/lib/python3.12/dist-packages (from spacy) (3.5.0)\n",
            "Requirement already satisfied: language-data>=1.2 in /usr/local/lib/python3.12/dist-packages (from langcodes<4.0.0,>=3.2.0->spacy) (1.3.0)\n",
            "Requirement already satisfied: annotated-types>=0.6.0 in /usr/local/lib/python3.12/dist-packages (from pydantic!=1.8,!=1.8.1,<3.0.0,>=1.7.4->spacy) (0.7.0)\n",
            "Requirement already satisfied: pydantic-core==2.33.2 in /usr/local/lib/python3.12/dist-packages (from pydantic!=1.8,!=1.8.1,<3.0.0,>=1.7.4->spacy) (2.33.2)\n",
            "Requirement already satisfied: typing-extensions>=4.12.2 in /usr/local/lib/python3.12/dist-packages (from pydantic!=1.8,!=1.8.1,<3.0.0,>=1.7.4->spacy) (4.15.0)\n",
            "Requirement already satisfied: typing-inspection>=0.4.0 in /usr/local/lib/python3.12/dist-packages (from pydantic!=1.8,!=1.8.1,<3.0.0,>=1.7.4->spacy) (0.4.1)\n",
            "Requirement already satisfied: charset_normalizer<4,>=2 in /usr/local/lib/python3.12/dist-packages (from requests<3.0.0,>=2.13.0->spacy) (3.4.3)\n",
            "Requirement already satisfied: idna<4,>=2.5 in /usr/local/lib/python3.12/dist-packages (from requests<3.0.0,>=2.13.0->spacy) (3.10)\n",
            "Requirement already satisfied: urllib3<3,>=1.21.1 in /usr/local/lib/python3.12/dist-packages (from requests<3.0.0,>=2.13.0->spacy) (2.5.0)\n",
            "Requirement already satisfied: certifi>=2017.4.17 in /usr/local/lib/python3.12/dist-packages (from requests<3.0.0,>=2.13.0->spacy) (2025.8.3)\n",
            "Requirement already satisfied: blis<1.4.0,>=1.3.0 in /usr/local/lib/python3.12/dist-packages (from thinc<8.4.0,>=8.3.4->spacy) (1.3.0)\n",
            "Requirement already satisfied: confection<1.0.0,>=0.0.1 in /usr/local/lib/python3.12/dist-packages (from thinc<8.4.0,>=8.3.4->spacy) (0.1.5)\n",
            "Requirement already satisfied: click>=8.0.0 in /usr/local/lib/python3.12/dist-packages (from typer<1.0.0,>=0.3.0->spacy) (8.2.1)\n",
            "Requirement already satisfied: shellingham>=1.3.0 in /usr/local/lib/python3.12/dist-packages (from typer<1.0.0,>=0.3.0->spacy) (1.5.4)\n",
            "Requirement already satisfied: rich>=10.11.0 in /usr/local/lib/python3.12/dist-packages (from typer<1.0.0,>=0.3.0->spacy) (13.9.4)\n",
            "Requirement already satisfied: cloudpathlib<1.0.0,>=0.7.0 in /usr/local/lib/python3.12/dist-packages (from weasel<0.5.0,>=0.1.0->spacy) (0.22.0)\n",
            "Requirement already satisfied: smart-open<8.0.0,>=5.2.1 in /usr/local/lib/python3.12/dist-packages (from weasel<0.5.0,>=0.1.0->spacy) (7.3.1)\n",
            "Requirement already satisfied: MarkupSafe>=2.0 in /usr/local/lib/python3.12/dist-packages (from jinja2->spacy) (3.0.2)\n",
            "Requirement already satisfied: marisa-trie>=1.1.0 in /usr/local/lib/python3.12/dist-packages (from language-data>=1.2->langcodes<4.0.0,>=3.2.0->spacy) (1.3.1)\n",
            "Requirement already satisfied: markdown-it-py>=2.2.0 in /usr/local/lib/python3.12/dist-packages (from rich>=10.11.0->typer<1.0.0,>=0.3.0->spacy) (4.0.0)\n",
            "Requirement already satisfied: pygments<3.0.0,>=2.13.0 in /usr/local/lib/python3.12/dist-packages (from rich>=10.11.0->typer<1.0.0,>=0.3.0->spacy) (2.19.2)\n",
            "Requirement already satisfied: wrapt in /usr/local/lib/python3.12/dist-packages (from smart-open<8.0.0,>=5.2.1->weasel<0.5.0,>=0.1.0->spacy) (1.17.3)\n",
            "Requirement already satisfied: mdurl~=0.1 in /usr/local/lib/python3.12/dist-packages (from markdown-it-py>=2.2.0->rich>=10.11.0->typer<1.0.0,>=0.3.0->spacy) (0.1.2)\n"
          ]
        }
      ]
    },
    {
      "cell_type": "markdown",
      "source": [
        "spaCy работает с разными языками, нам потребуется только русский."
      ],
      "metadata": {
        "id": "VhR4qMK060UC"
      }
    },
    {
      "cell_type": "code",
      "source": [
        "!python -m spacy download ru_core_news_sm\n",
        "\n",
        "# расскоментируйте, если потребуется английский\n",
        "# !python -m spacy download en_core_web_sm"
      ],
      "metadata": {
        "colab": {
          "base_uri": "https://localhost:8080/"
        },
        "id": "IFjzrnck7WeB",
        "outputId": "a1c8334d-8f92-4dbd-a8d8-0095b1fd5f11"
      },
      "execution_count": 9,
      "outputs": [
        {
          "output_type": "stream",
          "name": "stdout",
          "text": [
            "Collecting ru-core-news-sm==3.8.0\n",
            "  Downloading https://github.com/explosion/spacy-models/releases/download/ru_core_news_sm-3.8.0/ru_core_news_sm-3.8.0-py3-none-any.whl (15.3 MB)\n",
            "\u001b[2K     \u001b[90m━━━━━━━━━━━━━━━━━━━━━━━━━━━━━━━━━━━━━━━━\u001b[0m \u001b[32m15.3/15.3 MB\u001b[0m \u001b[31m35.4 MB/s\u001b[0m eta \u001b[36m0:00:00\u001b[0m\n",
            "\u001b[?25hCollecting pymorphy3>=1.0.0 (from ru-core-news-sm==3.8.0)\n",
            "  Downloading pymorphy3-2.0.4-py3-none-any.whl.metadata (2.4 kB)\n",
            "Collecting dawg2-python>=0.8.0 (from pymorphy3>=1.0.0->ru-core-news-sm==3.8.0)\n",
            "  Downloading dawg2_python-0.9.0-py3-none-any.whl.metadata (7.5 kB)\n",
            "Collecting pymorphy3-dicts-ru (from pymorphy3>=1.0.0->ru-core-news-sm==3.8.0)\n",
            "  Downloading pymorphy3_dicts_ru-2.4.417150.4580142-py2.py3-none-any.whl.metadata (2.0 kB)\n",
            "Requirement already satisfied: setuptools>=68.2.2 in /usr/local/lib/python3.12/dist-packages (from pymorphy3>=1.0.0->ru-core-news-sm==3.8.0) (75.2.0)\n",
            "Downloading pymorphy3-2.0.4-py3-none-any.whl (54 kB)\n",
            "\u001b[2K   \u001b[90m━━━━━━━━━━━━━━━━━━━━━━━━━━━━━━━━━━━━━━━━\u001b[0m \u001b[32m54.1/54.1 kB\u001b[0m \u001b[31m1.4 MB/s\u001b[0m eta \u001b[36m0:00:00\u001b[0m\n",
            "\u001b[?25hDownloading dawg2_python-0.9.0-py3-none-any.whl (9.3 kB)\n",
            "Downloading pymorphy3_dicts_ru-2.4.417150.4580142-py2.py3-none-any.whl (8.4 MB)\n",
            "\u001b[2K   \u001b[90m━━━━━━━━━━━━━━━━━━━━━━━━━━━━━━━━━━━━━━━━\u001b[0m \u001b[32m8.4/8.4 MB\u001b[0m \u001b[31m30.9 MB/s\u001b[0m eta \u001b[36m0:00:00\u001b[0m\n",
            "\u001b[?25hInstalling collected packages: pymorphy3-dicts-ru, dawg2-python, pymorphy3, ru-core-news-sm\n",
            "Successfully installed dawg2-python-0.9.0 pymorphy3-2.0.4 pymorphy3-dicts-ru-2.4.417150.4580142 ru-core-news-sm-3.8.0\n",
            "\u001b[38;5;2m✔ Download and installation successful\u001b[0m\n",
            "You can now load the package via spacy.load('ru_core_news_sm')\n",
            "\u001b[38;5;3m⚠ Restart to reload dependencies\u001b[0m\n",
            "If you are in a Jupyter or Colab notebook, you may need to restart Python in\n",
            "order to load all the package's dependencies. You can do this by selecting the\n",
            "'Restart kernel' or 'Restart runtime' option.\n"
          ]
        }
      ]
    },
    {
      "cell_type": "markdown",
      "source": [
        "Разделим текст на слова."
      ],
      "metadata": {
        "id": "NrMfUbeI7cZu"
      }
    },
    {
      "cell_type": "code",
      "source": [
        "nlp = spacy.load(\"ru_core_news_sm\")\n",
        "\n",
        "tokens = []\n",
        "\n",
        "c = nlp(text)\n",
        "for i in c:\n",
        "  tokens.append(i.text)\n",
        "\n",
        "tokens"
      ],
      "metadata": {
        "colab": {
          "base_uri": "https://localhost:8080/"
        },
        "id": "x8sP6KJj7mbc",
        "outputId": "6c884b32-5c43-4966-d460-8b2592a90d1a"
      },
      "execution_count": 10,
      "outputs": [
        {
          "output_type": "execute_result",
          "data": {
            "text/plain": [
              "['Это',\n",
              " 'тренировочный',\n",
              " 'текст',\n",
              " ',',\n",
              " '\\n',\n",
              " 'который',\n",
              " 'я',\n",
              " 'пишу',\n",
              " 'в',\n",
              " 'несколько',\n",
              " 'предложений',\n",
              " 'и',\n",
              " 'даже',\n",
              " 'не',\n",
              " 'в',\n",
              " 'одну',\n",
              " 'строку',\n",
              " '.',\n",
              " '\\n',\n",
              " 'А',\n",
              " 'это',\n",
              " 'его',\n",
              " 'второе',\n",
              " 'предложение',\n",
              " ',',\n",
              " 'в',\n",
              " 'котором',\n",
              " 'пере-',\n",
              " '\\n',\n",
              " 'нос',\n",
              " 'и',\n",
              " 'ашибка',\n",
              " '.',\n",
              " 'А',\n",
              " 'еще',\n",
              " 'подписывайтесь',\n",
              " 'на',\n",
              " 'www.text.hru',\n",
              " '😎',\n",
              " '#',\n",
              " 'хештег']"
            ]
          },
          "metadata": {},
          "execution_count": 10
        }
      ]
    },
    {
      "cell_type": "markdown",
      "source": [
        "Составим частотный список."
      ],
      "metadata": {
        "id": "BfFavfLl-tLT"
      }
    },
    {
      "cell_type": "code",
      "source": [
        "counter = Counter(tokens)\n",
        "counter.most_common()"
      ],
      "metadata": {
        "colab": {
          "base_uri": "https://localhost:8080/"
        },
        "id": "hwuBO34r-qpt",
        "outputId": "d40afc26-e2bf-48ea-c806-616ac193d57b"
      },
      "execution_count": 11,
      "outputs": [
        {
          "output_type": "execute_result",
          "data": {
            "text/plain": [
              "[('\\n', 3),\n",
              " ('в', 3),\n",
              " (',', 2),\n",
              " ('и', 2),\n",
              " ('.', 2),\n",
              " ('А', 2),\n",
              " ('Это', 1),\n",
              " ('тренировочный', 1),\n",
              " ('текст', 1),\n",
              " ('который', 1),\n",
              " ('я', 1),\n",
              " ('пишу', 1),\n",
              " ('несколько', 1),\n",
              " ('предложений', 1),\n",
              " ('даже', 1),\n",
              " ('не', 1),\n",
              " ('одну', 1),\n",
              " ('строку', 1),\n",
              " ('это', 1),\n",
              " ('его', 1),\n",
              " ('второе', 1),\n",
              " ('предложение', 1),\n",
              " ('котором', 1),\n",
              " ('пере-', 1),\n",
              " ('нос', 1),\n",
              " ('ашибка', 1),\n",
              " ('еще', 1),\n",
              " ('подписывайтесь', 1),\n",
              " ('на', 1),\n",
              " ('www.text.hru', 1),\n",
              " ('😎', 1),\n",
              " ('#', 1),\n",
              " ('хештег', 1)]"
            ]
          },
          "metadata": {},
          "execution_count": 11
        }
      ]
    },
    {
      "cell_type": "markdown",
      "source": [
        "Чем данный список отличается от других? ☝"
      ],
      "metadata": {
        "id": "byLSSxXPHxFc"
      }
    },
    {
      "cell_type": "markdown",
      "source": [
        "Даже после исправления пунктуации список всё равно выглядит далеко не безупречно."
      ],
      "metadata": {
        "id": "yqgR7qEuKrya"
      }
    },
    {
      "cell_type": "markdown",
      "source": [
        "## Предобработка текста"
      ],
      "metadata": {
        "id": "6zErMHLAe9XV"
      }
    },
    {
      "cell_type": "markdown",
      "source": [
        "Удалим из текста все, что нам мешает, но часто встречается в постах и комментах:\n",
        "\n",
        "\n",
        "*   заглавные буквы (в том числе капс),\n",
        "*   знаки препинания,\n",
        "*   цифры,\n",
        "*   ссылки,\n",
        "*   хештеги,\n",
        "*   эмодзи."
      ],
      "metadata": {
        "id": "HgGB95UlfAYm"
      }
    },
    {
      "cell_type": "markdown",
      "source": [
        "Вот наш текст:"
      ],
      "metadata": {
        "id": "2L5H0VWdiCSi"
      }
    },
    {
      "cell_type": "code",
      "source": [
        "text = '''Это тренировочный текст,\n",
        "который я пишу в несколько предложений и даже не в одну строку.\n",
        "А это его второе предложение, в котором пере-\n",
        "нос и ашибка. А еще подписывайтесь на www.text.hru 😎 #хештег'''"
      ],
      "metadata": {
        "id": "mvBe9eJsiGpX"
      },
      "execution_count": 12,
      "outputs": []
    },
    {
      "cell_type": "markdown",
      "source": [
        "Приведем его к нижнему регистру."
      ],
      "metadata": {
        "id": "GgIzhFNniL31"
      }
    },
    {
      "cell_type": "code",
      "source": [
        "text = text.lower()\n",
        "text"
      ],
      "metadata": {
        "colab": {
          "base_uri": "https://localhost:8080/",
          "height": 36
        },
        "id": "Z36z5GeDiPuX",
        "outputId": "8717e6ff-b6df-4494-bd2b-34935c87cb56"
      },
      "execution_count": 13,
      "outputs": [
        {
          "output_type": "execute_result",
          "data": {
            "text/plain": [
              "'это тренировочный текст,\\nкоторый я пишу в несколько предложений и даже не в одну строку.\\nа это его второе предложение, в котором пере-\\nнос и ашибка. а еще подписывайтесь на www.text.hru 😎 #хештег'"
            ],
            "application/vnd.google.colaboratory.intrinsic+json": {
              "type": "string"
            }
          },
          "metadata": {},
          "execution_count": 13
        }
      ]
    },
    {
      "cell_type": "markdown",
      "source": [
        "Удалим ссылки и посторонние символы, оставим только слова. <p> Для этого нам потребуются регулярные выражения.\n",
        "\n"
      ],
      "metadata": {
        "id": "pVg3I73iiYs-"
      }
    },
    {
      "cell_type": "code",
      "source": [
        "import re # импортируем модуль для работы с регулярными выражениями\n",
        "\n",
        "\n",
        "\n",
        "text = re.sub(r'https?://\\S+|www\\.\\S+', '', text) # удаляем ссылки\n",
        "text = re.sub(r'#\\S+', '', text) # удаляем хештеги\n",
        "text = re.sub(r'(?<=\\w)-\\s*(?=\\w)', '', text) # удаляем переносы\n",
        "text = re.sub('[^a-zа-я]+', ' ', text) # оставляем только слова"
      ],
      "metadata": {
        "id": "3fhn502Viu0v"
      },
      "execution_count": 14,
      "outputs": []
    },
    {
      "cell_type": "markdown",
      "source": [
        "Посмотрим на то, что у нас получилось."
      ],
      "metadata": {
        "id": "2RJyew3lywue"
      }
    },
    {
      "cell_type": "code",
      "source": [
        "text"
      ],
      "metadata": {
        "colab": {
          "base_uri": "https://localhost:8080/",
          "height": 36
        },
        "id": "0cn01oZby0Rz",
        "outputId": "bc141ec7-3842-441e-c347-9616761ef005"
      },
      "execution_count": 15,
      "outputs": [
        {
          "output_type": "execute_result",
          "data": {
            "text/plain": [
              "'это тренировочный текст который я пишу в несколько предложений и даже не в одну строку а это его второе предложение в котором перенос и ашибка а еще подписывайтесь на '"
            ],
            "application/vnd.google.colaboratory.intrinsic+json": {
              "type": "string"
            }
          },
          "metadata": {},
          "execution_count": 15
        }
      ]
    },
    {
      "cell_type": "markdown",
      "source": [
        "Разделите данный текст на слова (любым методом) и составьте частотный список."
      ],
      "metadata": {
        "id": "_G9asqARlIT5"
      }
    },
    {
      "cell_type": "code",
      "source": [
        "# напишите код"
      ],
      "metadata": {
        "id": "4RY2-BzKlTdN"
      },
      "execution_count": null,
      "outputs": []
    },
    {
      "cell_type": "markdown",
      "source": [
        "## Лемматизация"
      ],
      "metadata": {
        "id": "rcO-o_pknkVP"
      }
    },
    {
      "cell_type": "markdown",
      "source": [
        "Лемматизация — это процесс приведения слов к их словарной форме. Она необходима для того, чтобы разные грамматические формы одного и того же слова не учитывались как разные слова. Для выполнения этой задачи нам понадобится библиотека pymorphy3."
      ],
      "metadata": {
        "id": "LWMPk2NtyYUD"
      }
    },
    {
      "cell_type": "markdown",
      "source": [
        "Установим ее:"
      ],
      "metadata": {
        "id": "tkpm3w6rym1P"
      }
    },
    {
      "cell_type": "code",
      "source": [
        "! pip install pymorphy3"
      ],
      "metadata": {
        "colab": {
          "base_uri": "https://localhost:8080/"
        },
        "id": "0bauaX1Yyoz7",
        "outputId": "6a53ca9e-e918-4054-a536-2a3f957f56e7"
      },
      "execution_count": 16,
      "outputs": [
        {
          "output_type": "stream",
          "name": "stdout",
          "text": [
            "Requirement already satisfied: pymorphy3 in /usr/local/lib/python3.12/dist-packages (2.0.4)\n",
            "Requirement already satisfied: dawg2-python>=0.8.0 in /usr/local/lib/python3.12/dist-packages (from pymorphy3) (0.9.0)\n",
            "Requirement already satisfied: pymorphy3-dicts-ru in /usr/local/lib/python3.12/dist-packages (from pymorphy3) (2.4.417150.4580142)\n",
            "Requirement already satisfied: setuptools>=68.2.2 in /usr/local/lib/python3.12/dist-packages (from pymorphy3) (75.2.0)\n"
          ]
        }
      ]
    },
    {
      "cell_type": "markdown",
      "source": [
        "Импортируем ее в наш код и подключим анализатор."
      ],
      "metadata": {
        "id": "P4UR7hDpzg6R"
      }
    },
    {
      "cell_type": "code",
      "source": [
        "import pymorphy3\n",
        "\n",
        "from pymorphy3 import MorphAnalyzer\n",
        "analyzer = MorphAnalyzer()"
      ],
      "metadata": {
        "id": "FDnsYIlAzkds"
      },
      "execution_count": 17,
      "outputs": []
    },
    {
      "cell_type": "markdown",
      "source": [
        "Посмотрим, как это работает на примере одного слова. Пусть это будет слово `предложений`."
      ],
      "metadata": {
        "id": "IACaA8Zv0BZA"
      }
    },
    {
      "cell_type": "code",
      "source": [
        "analyzer.parse('предложений')"
      ],
      "metadata": {
        "colab": {
          "base_uri": "https://localhost:8080/"
        },
        "id": "0cyS9wHJ0Okv",
        "outputId": "3a7b1d6d-5ce7-4223-cffc-21a53a222410"
      },
      "execution_count": 18,
      "outputs": [
        {
          "output_type": "execute_result",
          "data": {
            "text/plain": [
              "[Parse(word='предложений', tag=OpencorporaTag('NOUN,inan,neut plur,gent'), normal_form='предложение', score=1.0, methods_stack=((DictionaryAnalyzer(), 'предложений', 77, 15),))]"
            ]
          },
          "metadata": {},
          "execution_count": 18
        }
      ]
    },
    {
      "cell_type": "markdown",
      "source": [
        "Перед нами список, в котором указаны морфологические признаки слова (`NOUN` — существительное, `inan` — неодушевленное...), его словарная форма и вероятность. <p>\n",
        "\n",
        "Подробнее об обозначениях можно прочитать [здесь](https://pymorphy2.readthedocs.io/en/stable/user/grammemes.html)."
      ],
      "metadata": {
        "id": "NQw51UFU0blU"
      }
    },
    {
      "cell_type": "markdown",
      "source": [
        "Сравним со словом `предложение`."
      ],
      "metadata": {
        "id": "pAFVSnWa2NuD"
      }
    },
    {
      "cell_type": "code",
      "source": [
        "analyzer.parse('предложение') # Обратите внимание на два варианта разбора, но первым всегда будет идти наиболее вероятный"
      ],
      "metadata": {
        "colab": {
          "base_uri": "https://localhost:8080/"
        },
        "id": "DecWmR41osLT",
        "outputId": "22b9c073-aaf8-4214-e2dd-0c5640489622"
      },
      "execution_count": 19,
      "outputs": [
        {
          "output_type": "execute_result",
          "data": {
            "text/plain": [
              "[Parse(word='предложение', tag=OpencorporaTag('NOUN,inan,neut sing,accs'), normal_form='предложение', score=0.531914, methods_stack=((DictionaryAnalyzer(), 'предложение', 77, 6),)),\n",
              " Parse(word='предложение', tag=OpencorporaTag('NOUN,inan,neut sing,nomn'), normal_form='предложение', score=0.468085, methods_stack=((DictionaryAnalyzer(), 'предложение', 77, 0),))]"
            ]
          },
          "metadata": {},
          "execution_count": 19
        }
      ]
    },
    {
      "cell_type": "markdown",
      "source": [
        "Убедимся, что морфологические признаки у этих двух слов разные, а словарная форма одинаковая."
      ],
      "metadata": {
        "id": "0UmzxqcW2jY6"
      }
    },
    {
      "cell_type": "code",
      "source": [
        "analyzer.parse('предложений')[0].normal_form == analyzer.parse('предложение')[0].normal_form"
      ],
      "metadata": {
        "colab": {
          "base_uri": "https://localhost:8080/"
        },
        "id": "BrKnw1LS2wBC",
        "outputId": "20416ff5-07df-4ccc-8dcf-c9cebb607ffd"
      },
      "execution_count": 20,
      "outputs": [
        {
          "output_type": "execute_result",
          "data": {
            "text/plain": [
              "True"
            ]
          },
          "metadata": {},
          "execution_count": 20
        }
      ]
    },
    {
      "cell_type": "markdown",
      "source": [
        "Придумайте любое несуществующее слово (например, `звукотень`) и посмотрите на его разбор."
      ],
      "metadata": {
        "id": "PIHSQntk3S-5"
      }
    },
    {
      "cell_type": "code",
      "source": [
        "# напишите код"
      ],
      "metadata": {
        "id": "Wi06oQdpI6KO"
      },
      "execution_count": null,
      "outputs": []
    },
    {
      "cell_type": "markdown",
      "source": [
        "Теперь проведём лемматизацию нашего предобработанного текста."
      ],
      "metadata": {
        "id": "fJ5b6D4C47Cq"
      }
    },
    {
      "cell_type": "code",
      "source": [
        "lemmas = [] # создадим пустой список, в который будем складывать слова\n",
        "for i in text.split():\n",
        "    lemmas.append(analyzer.parse(i)[0].normal_form)\n",
        "lemmas"
      ],
      "metadata": {
        "colab": {
          "base_uri": "https://localhost:8080/"
        },
        "id": "hTGuwKfEpFnw",
        "outputId": "20e9377b-7018-422e-9a11-5bc1a0b9a9e8"
      },
      "execution_count": 21,
      "outputs": [
        {
          "output_type": "execute_result",
          "data": {
            "text/plain": [
              "['это',\n",
              " 'тренировочный',\n",
              " 'текст',\n",
              " 'который',\n",
              " 'я',\n",
              " 'писать',\n",
              " 'в',\n",
              " 'несколько',\n",
              " 'предложение',\n",
              " 'и',\n",
              " 'даже',\n",
              " 'не',\n",
              " 'в',\n",
              " 'один',\n",
              " 'строка',\n",
              " 'а',\n",
              " 'это',\n",
              " 'он',\n",
              " 'второе',\n",
              " 'предложение',\n",
              " 'в',\n",
              " 'который',\n",
              " 'перенос',\n",
              " 'и',\n",
              " 'ашибкий',\n",
              " 'а',\n",
              " 'ещё',\n",
              " 'подписываться',\n",
              " 'на']"
            ]
          },
          "metadata": {},
          "execution_count": 21
        }
      ]
    },
    {
      "cell_type": "markdown",
      "source": [
        "Составим частотный список."
      ],
      "metadata": {
        "id": "rRt8UF9F5bSz"
      }
    },
    {
      "cell_type": "code",
      "source": [
        "counter = Counter(lemmas)\n",
        "counter.most_common()"
      ],
      "metadata": {
        "colab": {
          "base_uri": "https://localhost:8080/"
        },
        "id": "Mc_rqJ5Spd49",
        "outputId": "5d8ecadf-7e76-48c3-a43e-cd8bc064d949"
      },
      "execution_count": 22,
      "outputs": [
        {
          "output_type": "execute_result",
          "data": {
            "text/plain": [
              "[('в', 3),\n",
              " ('это', 2),\n",
              " ('который', 2),\n",
              " ('предложение', 2),\n",
              " ('и', 2),\n",
              " ('а', 2),\n",
              " ('тренировочный', 1),\n",
              " ('текст', 1),\n",
              " ('я', 1),\n",
              " ('писать', 1),\n",
              " ('несколько', 1),\n",
              " ('даже', 1),\n",
              " ('не', 1),\n",
              " ('один', 1),\n",
              " ('строка', 1),\n",
              " ('он', 1),\n",
              " ('второе', 1),\n",
              " ('перенос', 1),\n",
              " ('ашибкий', 1),\n",
              " ('ещё', 1),\n",
              " ('подписываться', 1),\n",
              " ('на', 1)]"
            ]
          },
          "metadata": {},
          "execution_count": 22
        }
      ]
    },
    {
      "cell_type": "markdown",
      "source": [
        "### Небольшая практика\n",
        "\n",
        "Возьмите [отсюда](https://tabiturient.ru/vuzu/hse/) отзыв о Вышке (с этим текстом мы будем работать и дальше) и составьте частотный список слов, предварительно нормализовав текст, разделив его на токены и проведя лемматизацию."
      ],
      "metadata": {
        "id": "HPz6rChnpjr9"
      }
    },
    {
      "cell_type": "code",
      "source": [
        "# напишите код"
      ],
      "metadata": {
        "id": "cesNT6jk7OOY"
      },
      "execution_count": null,
      "outputs": []
    },
    {
      "cell_type": "markdown",
      "source": [
        "Почему данный частотный список нельзя назвать репрезентативным?"
      ],
      "metadata": {
        "id": "FbvQc5qk7eCl"
      }
    },
    {
      "cell_type": "markdown",
      "source": [
        "## Стоп-слова\n",
        "\n",
        "Если коротко:\n",
        "\n",
        "* самые частотные слова в конкретном языке,\n",
        "* мешают получить данные о частотных словах в конкретном тексте,\n",
        "* их нужно удалять."
      ],
      "metadata": {
        "id": "T0tWx9M07i4i"
      }
    },
    {
      "cell_type": "code",
      "source": [
        "nltk.download('stopwords')\n",
        "\n",
        "from nltk.corpus import stopwords\n",
        "nltk_stopwords = stopwords.words('russian')\n",
        "nltk_stopwords_eng = stopwords.words('english')"
      ],
      "metadata": {
        "colab": {
          "base_uri": "https://localhost:8080/"
        },
        "id": "oQRbzGvg8zlY",
        "outputId": "d75d6978-b354-4dcd-9ff4-77df0d668505"
      },
      "execution_count": 23,
      "outputs": [
        {
          "output_type": "stream",
          "name": "stderr",
          "text": [
            "[nltk_data] Downloading package stopwords to /root/nltk_data...\n",
            "[nltk_data]   Unzipping corpora/stopwords.zip.\n"
          ]
        }
      ]
    },
    {
      "cell_type": "markdown",
      "source": [
        "Посмотрим на стоп-слова русского языка:"
      ],
      "metadata": {
        "id": "NmUe-ButxjJO"
      }
    },
    {
      "cell_type": "code",
      "source": [
        "nltk_stopwords[:30]"
      ],
      "metadata": {
        "colab": {
          "base_uri": "https://localhost:8080/"
        },
        "id": "o_sY4Wtz9JZw",
        "outputId": "7a2ffd56-1e80-44bc-c61e-0b447ff0abc0"
      },
      "execution_count": 24,
      "outputs": [
        {
          "output_type": "execute_result",
          "data": {
            "text/plain": [
              "['и',\n",
              " 'в',\n",
              " 'во',\n",
              " 'не',\n",
              " 'что',\n",
              " 'он',\n",
              " 'на',\n",
              " 'я',\n",
              " 'с',\n",
              " 'со',\n",
              " 'как',\n",
              " 'а',\n",
              " 'то',\n",
              " 'все',\n",
              " 'она',\n",
              " 'так',\n",
              " 'его',\n",
              " 'но',\n",
              " 'да',\n",
              " 'ты',\n",
              " 'к',\n",
              " 'у',\n",
              " 'же',\n",
              " 'вы',\n",
              " 'за',\n",
              " 'бы',\n",
              " 'по',\n",
              " 'только',\n",
              " 'ее',\n",
              " 'мне']"
            ]
          },
          "metadata": {},
          "execution_count": 24
        }
      ]
    },
    {
      "cell_type": "markdown",
      "source": [
        "А теперь для английского:"
      ],
      "metadata": {
        "id": "9IjNlLoRxpTE"
      }
    },
    {
      "cell_type": "code",
      "source": [
        "nltk_stopwords_eng[:30]"
      ],
      "metadata": {
        "colab": {
          "base_uri": "https://localhost:8080/"
        },
        "id": "LYAr8Ghfxsi8",
        "outputId": "3e475b2c-15a2-4349-e4ad-0ccec2f115a0"
      },
      "execution_count": 25,
      "outputs": [
        {
          "output_type": "execute_result",
          "data": {
            "text/plain": [
              "['a',\n",
              " 'about',\n",
              " 'above',\n",
              " 'after',\n",
              " 'again',\n",
              " 'against',\n",
              " 'ain',\n",
              " 'all',\n",
              " 'am',\n",
              " 'an',\n",
              " 'and',\n",
              " 'any',\n",
              " 'are',\n",
              " 'aren',\n",
              " \"aren't\",\n",
              " 'as',\n",
              " 'at',\n",
              " 'be',\n",
              " 'because',\n",
              " 'been',\n",
              " 'before',\n",
              " 'being',\n",
              " 'below',\n",
              " 'between',\n",
              " 'both',\n",
              " 'but',\n",
              " 'by',\n",
              " 'can',\n",
              " 'couldn',\n",
              " \"couldn't\"]"
            ]
          },
          "metadata": {},
          "execution_count": 25
        }
      ]
    },
    {
      "cell_type": "markdown",
      "source": [
        "Удалим из нашего списка `lemmas` стоп-слова:"
      ],
      "metadata": {
        "id": "D-cXne7jyed8"
      }
    },
    {
      "cell_type": "code",
      "source": [
        "lemmas_filtered = []\n",
        "\n",
        "for i in lemmas:\n",
        "  if i not in nltk_stopwords:\n",
        "    lemmas_filtered.append(i)\n",
        "\n",
        "lemmas_filtered\n"
      ],
      "metadata": {
        "colab": {
          "base_uri": "https://localhost:8080/"
        },
        "id": "VCnIZaTgylAS",
        "outputId": "9761ab53-ab43-46cb-eaa5-6c3cff462715"
      },
      "execution_count": 28,
      "outputs": [
        {
          "output_type": "execute_result",
          "data": {
            "text/plain": [
              "['тренировочный',\n",
              " 'текст',\n",
              " 'который',\n",
              " 'писать',\n",
              " 'несколько',\n",
              " 'предложение',\n",
              " 'строка',\n",
              " 'второе',\n",
              " 'предложение',\n",
              " 'который',\n",
              " 'перенос',\n",
              " 'ашибкий',\n",
              " 'ещё',\n",
              " 'подписываться']"
            ]
          },
          "metadata": {},
          "execution_count": 28
        }
      ]
    },
    {
      "cell_type": "markdown",
      "source": [
        "Добавим в список стоп-слов еще что-то:"
      ],
      "metadata": {
        "id": "qaqdzuXxzp6C"
      }
    },
    {
      "cell_type": "code",
      "source": [
        "nltk_stopwords.append('это')"
      ],
      "metadata": {
        "id": "cwzdvOYQzv6C"
      },
      "execution_count": 27,
      "outputs": []
    },
    {
      "cell_type": "markdown",
      "source": [
        "Запустим предыдущий код еще раз."
      ],
      "metadata": {
        "id": "ir5Sj4z-0MuS"
      }
    },
    {
      "cell_type": "markdown",
      "source": [
        "### Небольшая практика"
      ],
      "metadata": {
        "id": "7ppdaqTy03sE"
      }
    },
    {
      "cell_type": "markdown",
      "source": [
        "Удалите из частотного списка, составленного на материале отзыва, стоп-слова."
      ],
      "metadata": {
        "id": "exzScxFv1DrU"
      }
    },
    {
      "cell_type": "code",
      "source": [
        "# напишите код"
      ],
      "metadata": {
        "id": "alCrnoPX1k5y"
      },
      "execution_count": null,
      "outputs": []
    },
    {
      "cell_type": "markdown",
      "source": [
        "## Облако слов"
      ],
      "metadata": {
        "id": "RRUiDt-D1rWE"
      }
    },
    {
      "cell_type": "markdown",
      "source": [
        "Визуализируем наш частотный список через облако слов."
      ],
      "metadata": {
        "id": "cKJ-QAZX2Bp2"
      }
    },
    {
      "cell_type": "markdown",
      "source": [
        "Для начала скачаем библиотеку для визуализаций."
      ],
      "metadata": {
        "id": "X4ms27wn3IpA"
      }
    },
    {
      "cell_type": "code",
      "source": [
        "! pip install matplotlib\n",
        "import matplotlib.pyplot as plt"
      ],
      "metadata": {
        "colab": {
          "base_uri": "https://localhost:8080/"
        },
        "id": "mwmh77xb2igw",
        "outputId": "17f19749-3b1c-475c-c99f-8e6b2a5253f5"
      },
      "execution_count": 29,
      "outputs": [
        {
          "output_type": "stream",
          "name": "stdout",
          "text": [
            "Requirement already satisfied: matplotlib in /usr/local/lib/python3.12/dist-packages (3.10.0)\n",
            "Requirement already satisfied: contourpy>=1.0.1 in /usr/local/lib/python3.12/dist-packages (from matplotlib) (1.3.3)\n",
            "Requirement already satisfied: cycler>=0.10 in /usr/local/lib/python3.12/dist-packages (from matplotlib) (0.12.1)\n",
            "Requirement already satisfied: fonttools>=4.22.0 in /usr/local/lib/python3.12/dist-packages (from matplotlib) (4.59.2)\n",
            "Requirement already satisfied: kiwisolver>=1.3.1 in /usr/local/lib/python3.12/dist-packages (from matplotlib) (1.4.9)\n",
            "Requirement already satisfied: numpy>=1.23 in /usr/local/lib/python3.12/dist-packages (from matplotlib) (2.0.2)\n",
            "Requirement already satisfied: packaging>=20.0 in /usr/local/lib/python3.12/dist-packages (from matplotlib) (25.0)\n",
            "Requirement already satisfied: pillow>=8 in /usr/local/lib/python3.12/dist-packages (from matplotlib) (11.3.0)\n",
            "Requirement already satisfied: pyparsing>=2.3.1 in /usr/local/lib/python3.12/dist-packages (from matplotlib) (3.2.3)\n",
            "Requirement already satisfied: python-dateutil>=2.7 in /usr/local/lib/python3.12/dist-packages (from matplotlib) (2.9.0.post0)\n",
            "Requirement already satisfied: six>=1.5 in /usr/local/lib/python3.12/dist-packages (from python-dateutil>=2.7->matplotlib) (1.17.0)\n"
          ]
        }
      ]
    },
    {
      "cell_type": "markdown",
      "source": [
        "`WordCloud` работает со строками, поэтому переделываем наш список в строку."
      ],
      "metadata": {
        "id": "FcxECHzG3Oof"
      }
    },
    {
      "cell_type": "code",
      "source": [
        "text_data = ' '.join(lemmas_filtered)"
      ],
      "metadata": {
        "id": "kwivDFyf2v-o"
      },
      "execution_count": 30,
      "outputs": []
    },
    {
      "cell_type": "markdown",
      "source": [
        "А теперь нарисуем:"
      ],
      "metadata": {
        "id": "03ydX5Ke3Z8r"
      }
    },
    {
      "cell_type": "code",
      "source": [
        "from wordcloud import WordCloud\n",
        "\n",
        "wordcloud = WordCloud(width=800, height=400, random_state=21, max_font_size=110).generate(text_data)\n",
        "plt.figure(figsize=(10, 8))\n",
        "plt.imshow(wordcloud, interpolation=\"bilinear\")\n",
        "plt.axis(\"off\")\n",
        "plt.show()"
      ],
      "metadata": {
        "colab": {
          "base_uri": "https://localhost:8080/",
          "height": 424
        },
        "id": "1RTMYcdb2YwM",
        "outputId": "10c2cfd1-e177-4ecc-a1cc-05dbe78ec390"
      },
      "execution_count": 31,
      "outputs": [
        {
          "output_type": "display_data",
          "data": {
            "text/plain": [
              "<Figure size 1000x800 with 1 Axes>"
            ],
            "image/png": "[encoded data removed]"
          },
          "metadata": {}
        }
      ]
    },
    {
      "cell_type": "markdown",
      "source": [
        "Посмотрим на несуществующее слово `ашибкий`, посмеемся, но ничего с этим не сделаем... пока..."
      ],
      "metadata": {
        "id": "Gtsh3gWZLzlH"
      }
    },
    {
      "cell_type": "markdown",
      "source": [
        "### Небольшая практика"
      ],
      "metadata": {
        "id": "wFRerYCo_cBD"
      }
    },
    {
      "cell_type": "markdown",
      "source": [
        "Составьте облако слов по вашему отзыву."
      ],
      "metadata": {
        "id": "kxXpA-1e_ey4"
      }
    },
    {
      "cell_type": "code",
      "source": [
        "# напишите код"
      ],
      "metadata": {
        "id": "UBFQ87L8_hy9"
      },
      "execution_count": null,
      "outputs": []
    }
  ]
}