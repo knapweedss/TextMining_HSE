{
  "nbformat": 4,
  "nbformat_minor": 0,
  "metadata": {
    "colab": {
      "provenance": [],
      "toc_visible": true
    },
    "kernelspec": {
      "name": "python3",
      "display_name": "Python 3"
    },
    "language_info": {
      "name": "python"
    }
  },
  "cells": [
    {
      "cell_type": "markdown",
      "source": [
        "# Датасет из телеграма"
      ],
      "metadata": {
        "id": "-x1Z5Qh0j-cj"
      }
    },
    {
      "cell_type": "markdown",
      "source": [
        "## Подготовка"
      ],
      "metadata": {
        "id": "7K1FLIS4wCwc"
      }
    },
    {
      "cell_type": "markdown",
      "source": [
        "Для начала вам понадобится скачать десктопную версию телеграма вот по этой [ссылке](https://tg-messenger.ru/?utm_source=direct&utm_medium=cpc&utm_campaign=telegram-for-desktop&utm_content=17238855481&utm_term=---autotargeting&ybaip=1&yclid=2328142818798206975)."
      ],
      "metadata": {
        "id": "pHcus9RxwEtV"
      }
    },
    {
      "cell_type": "markdown",
      "source": [
        "После того, как вы удачно установили телеграм себе на компьютер, откройте его и выберите нужный канал / чат."
      ],
      "metadata": {
        "id": "uwwMN2U3wcJD"
      }
    },
    {
      "cell_type": "markdown",
      "source": [
        "Далее:\n",
        "\n",
        "* Найдите три точки в правом верхнем углу, нажмите и выберите опцию `Экспортировать чат` / `Export History`.\n",
        "* Скачайте в формате `Json` текстовые данные себе на компьютер (уберите галочки\n",
        "со всех вложений)."
      ],
      "metadata": {
        "id": "NY0m671I0KA4"
      }
    },
    {
      "cell_type": "markdown",
      "source": [
        "## Работаем с историей чата / канала"
      ],
      "metadata": {
        "id": "13ChoJtA0aSx"
      }
    },
    {
      "cell_type": "markdown",
      "source": [
        "Для работы с данными нам понадобится `pandas`."
      ],
      "metadata": {
        "id": "vDelt8YKkZmv"
      }
    },
    {
      "cell_type": "code",
      "source": [
        "import pandas as pd"
      ],
      "metadata": {
        "id": "GcQzLpXXkLax"
      },
      "execution_count": 1,
      "outputs": []
    },
    {
      "cell_type": "markdown",
      "source": [
        "Загрузим файл с помощью метода `files.upload()`.\n",
        "\n",
        "Скорость загрузки будет зависеть от скорости интернет-соединения и объема данных. Например, один из моих файлов на очень старом компьютере весом в 100 МБ загружался 7 мин.\n",
        "\n",
        "В качестве примера я беру рандомный канал, на который подписан."
      ],
      "metadata": {
        "id": "7_AUYxVclxor"
      }
    },
    {
      "cell_type": "code",
      "source": [
        "from google.colab import files\n",
        "uploaded = files.upload()"
      ],
      "metadata": {
        "colab": {
          "base_uri": "https://localhost:8080/",
          "height": 71
        },
        "id": "S_72fA5FkQVK",
        "outputId": "737260aa-e6f9-4a85-9c33-600c0125e4da"
      },
      "execution_count": 2,
      "outputs": [
        {
          "output_type": "display_data",
          "data": {
            "text/plain": [
              "<IPython.core.display.HTML object>"
            ],
            "text/html": [
              "\n",
              "     <input type=\"file\" id=\"files-304fe836-5f39-454d-95bf-4965178273f7\" name=\"files[]\" multiple disabled\n",
              "        style=\"border:none\" />\n",
              "     <output id=\"result-304fe836-5f39-454d-95bf-4965178273f7\">\n",
              "      Upload widget is only available when the cell has been executed in the\n",
              "      current browser session. Please rerun this cell to enable.\n",
              "      </output>\n",
              "      <script>// Copyright 2017 Google LLC\n",
              "//\n",
              "// Licensed under the Apache License, Version 2.0 (the \"License\");\n",
              "// you may not use this file except in compliance with the License.\n",
              "// You may obtain a copy of the License at\n",
              "//\n",
              "//      http://www.apache.org/licenses/LICENSE-2.0\n",
              "//\n",
              "// Unless required by applicable law or agreed to in writing, software\n",
              "// distributed under the License is distributed on an \"AS IS\" BASIS,\n",
              "// WITHOUT WARRANTIES OR CONDITIONS OF ANY KIND, either express or implied.\n",
              "// See the License for the specific language governing permissions and\n",
              "// limitations under the License.\n",
              "\n",
              "/**\n",
              " * @fileoverview Helpers for google.colab Python module.\n",
              " */\n",
              "(function(scope) {\n",
              "function span(text, styleAttributes = {}) {\n",
              "  const element = document.createElement('span');\n",
              "  element.textContent = text;\n",
              "  for (const key of Object.keys(styleAttributes)) {\n",
              "    element.style[key] = styleAttributes[key];\n",
              "  }\n",
              "  return element;\n",
              "}\n",
              "\n",
              "// Max number of bytes which will be uploaded at a time.\n",
              "const MAX_PAYLOAD_SIZE = 100 * 1024;\n",
              "\n",
              "function _uploadFiles(inputId, outputId) {\n",
              "  const steps = uploadFilesStep(inputId, outputId);\n",
              "  const outputElement = document.getElementById(outputId);\n",
              "  // Cache steps on the outputElement to make it available for the next call\n",
              "  // to uploadFilesContinue from Python.\n",
              "  outputElement.steps = steps;\n",
              "\n",
              "  return _uploadFilesContinue(outputId);\n",
              "}\n",
              "\n",
              "// This is roughly an async generator (not supported in the browser yet),\n",
              "// where there are multiple asynchronous steps and the Python side is going\n",
              "// to poll for completion of each step.\n",
              "// This uses a Promise to block the python side on completion of each step,\n",
              "// then passes the result of the previous step as the input to the next step.\n",
              "function _uploadFilesContinue(outputId) {\n",
              "  const outputElement = document.getElementById(outputId);\n",
              "  const steps = outputElement.steps;\n",
              "\n",
              "  const next = steps.next(outputElement.lastPromiseValue);\n",
              "  return Promise.resolve(next.value.promise).then((value) => {\n",
              "    // Cache the last promise value to make it available to the next\n",
              "    // step of the generator.\n",
              "    outputElement.lastPromiseValue = value;\n",
              "    return next.value.response;\n",
              "  });\n",
              "}\n",
              "\n",
              "/**\n",
              " * Generator function which is called between each async step of the upload\n",
              " * process.\n",
              " * @param {string} inputId Element ID of the input file picker element.\n",
              " * @param {string} outputId Element ID of the output display.\n",
              " * @return {!Iterable<!Object>} Iterable of next steps.\n",
              " */\n",
              "function* uploadFilesStep(inputId, outputId) {\n",
              "  const inputElement = document.getElementById(inputId);\n",
              "  inputElement.disabled = false;\n",
              "\n",
              "  const outputElement = document.getElementById(outputId);\n",
              "  outputElement.innerHTML = '';\n",
              "\n",
              "  const pickedPromise = new Promise((resolve) => {\n",
              "    inputElement.addEventListener('change', (e) => {\n",
              "      resolve(e.target.files);\n",
              "    });\n",
              "  });\n",
              "\n",
              "  const cancel = document.createElement('button');\n",
              "  inputElement.parentElement.appendChild(cancel);\n",
              "  cancel.textContent = 'Cancel upload';\n",
              "  const cancelPromise = new Promise((resolve) => {\n",
              "    cancel.onclick = () => {\n",
              "      resolve(null);\n",
              "    };\n",
              "  });\n",
              "\n",
              "  // Wait for the user to pick the files.\n",
              "  const files = yield {\n",
              "    promise: Promise.race([pickedPromise, cancelPromise]),\n",
              "    response: {\n",
              "      action: 'starting',\n",
              "    }\n",
              "  };\n",
              "\n",
              "  cancel.remove();\n",
              "\n",
              "  // Disable the input element since further picks are not allowed.\n",
              "  inputElement.disabled = true;\n",
              "\n",
              "  if (!files) {\n",
              "    return {\n",
              "      response: {\n",
              "        action: 'complete',\n",
              "      }\n",
              "    };\n",
              "  }\n",
              "\n",
              "  for (const file of files) {\n",
              "    const li = document.createElement('li');\n",
              "    li.append(span(file.name, {fontWeight: 'bold'}));\n",
              "    li.append(span(\n",
              "        `(${file.type || 'n/a'}) - ${file.size} bytes, ` +\n",
              "        `last modified: ${\n",
              "            file.lastModifiedDate ? file.lastModifiedDate.toLocaleDateString() :\n",
              "                                    'n/a'} - `));\n",
              "    const percent = span('0% done');\n",
              "    li.appendChild(percent);\n",
              "\n",
              "    outputElement.appendChild(li);\n",
              "\n",
              "    const fileDataPromise = new Promise((resolve) => {\n",
              "      const reader = new FileReader();\n",
              "      reader.onload = (e) => {\n",
              "        resolve(e.target.result);\n",
              "      };\n",
              "      reader.readAsArrayBuffer(file);\n",
              "    });\n",
              "    // Wait for the data to be ready.\n",
              "    let fileData = yield {\n",
              "      promise: fileDataPromise,\n",
              "      response: {\n",
              "        action: 'continue',\n",
              "      }\n",
              "    };\n",
              "\n",
              "    // Use a chunked sending to avoid message size limits. See b/62115660.\n",
              "    let position = 0;\n",
              "    do {\n",
              "      const length = Math.min(fileData.byteLength - position, MAX_PAYLOAD_SIZE);\n",
              "      const chunk = new Uint8Array(fileData, position, length);\n",
              "      position += length;\n",
              "\n",
              "      const base64 = btoa(String.fromCharCode.apply(null, chunk));\n",
              "      yield {\n",
              "        response: {\n",
              "          action: 'append',\n",
              "          file: file.name,\n",
              "          data: base64,\n",
              "        },\n",
              "      };\n",
              "\n",
              "      let percentDone = fileData.byteLength === 0 ?\n",
              "          100 :\n",
              "          Math.round((position / fileData.byteLength) * 100);\n",
              "      percent.textContent = `${percentDone}% done`;\n",
              "\n",
              "    } while (position < fileData.byteLength);\n",
              "  }\n",
              "\n",
              "  // All done.\n",
              "  yield {\n",
              "    response: {\n",
              "      action: 'complete',\n",
              "    }\n",
              "  };\n",
              "}\n",
              "\n",
              "scope.google = scope.google || {};\n",
              "scope.google.colab = scope.google.colab || {};\n",
              "scope.google.colab._files = {\n",
              "  _uploadFiles,\n",
              "  _uploadFilesContinue,\n",
              "};\n",
              "})(self);\n",
              "</script> "
            ]
          },
          "metadata": {}
        },
        {
          "output_type": "stream",
          "name": "stdout",
          "text": [
            "Saving result.json to result.json\n"
          ]
        }
      ]
    },
    {
      "cell_type": "markdown",
      "source": [
        "Посмотрим, скачался ли файл:"
      ],
      "metadata": {
        "id": "ZQd_h4-xmWtS"
      }
    },
    {
      "cell_type": "code",
      "source": [
        "!ls"
      ],
      "metadata": {
        "colab": {
          "base_uri": "https://localhost:8080/"
        },
        "id": "KeR3Hf5SmivT",
        "outputId": "9aa5d7d0-d0c3-498d-ea47-2e91beb7ede9"
      },
      "execution_count": 6,
      "outputs": [
        {
          "output_type": "stream",
          "name": "stdout",
          "text": [
            "result.json  sample_data\n"
          ]
        }
      ]
    },
    {
      "cell_type": "markdown",
      "source": [
        "Получилось! Откроем наш файл в пандасе."
      ],
      "metadata": {
        "id": "plg5msF2nGvM"
      }
    },
    {
      "cell_type": "code",
      "source": [
        "data = pd.read_json(\"result.json\")"
      ],
      "metadata": {
        "id": "6DEOISTHnLx2"
      },
      "execution_count": 3,
      "outputs": []
    },
    {
      "cell_type": "markdown",
      "source": [
        "Посмотрим на нашу таблицу."
      ],
      "metadata": {
        "id": "7H_srpvpnW8h"
      }
    },
    {
      "cell_type": "code",
      "source": [
        "data"
      ],
      "metadata": {
        "colab": {
          "base_uri": "https://localhost:8080/",
          "height": 424
        },
        "id": "v2Sz8BHJnaZf",
        "outputId": "339e5485-b2c4-48a0-c746-08fb953d22f3"
      },
      "execution_count": 4,
      "outputs": [
        {
          "output_type": "execute_result",
          "data": {
            "text/plain": [
              "           name            type          id  \\\n",
              "0    Наука игры  public_channel  1917953520   \n",
              "1    Наука игры  public_channel  1917953520   \n",
              "2    Наука игры  public_channel  1917953520   \n",
              "3    Наука игры  public_channel  1917953520   \n",
              "4    Наука игры  public_channel  1917953520   \n",
              "..          ...             ...         ...   \n",
              "111  Наука игры  public_channel  1917953520   \n",
              "112  Наука игры  public_channel  1917953520   \n",
              "113  Наука игры  public_channel  1917953520   \n",
              "114  Наука игры  public_channel  1917953520   \n",
              "115  Наука игры  public_channel  1917953520   \n",
              "\n",
              "                                              messages  \n",
              "0    {'id': 1, 'type': 'service', 'date': '2023-09-...  \n",
              "1    {'id': 3, 'type': 'service', 'date': '2023-09-...  \n",
              "2    {'id': 6, 'type': 'service', 'date': '2023-09-...  \n",
              "3    {'id': 7, 'type': 'message', 'date': '2023-09-...  \n",
              "4    {'id': 8, 'type': 'message', 'date': '2023-09-...  \n",
              "..                                                 ...  \n",
              "111  {'id': 121, 'type': 'message', 'date': '2025-0...  \n",
              "112  {'id': 122, 'type': 'message', 'date': '2025-0...  \n",
              "113  {'id': 123, 'type': 'message', 'date': '2025-0...  \n",
              "114  {'id': 124, 'type': 'message', 'date': '2025-0...  \n",
              "115  {'id': 125, 'type': 'message', 'date': '2025-0...  \n",
              "\n",
              "[116 rows x 4 columns]"
            ],
            "text/html": [
              "\n",
              "  <div id=\"df-210589ec-2ef7-4f1c-8417-4297a72402f0\" class=\"colab-df-container\">\n",
              "    <div>\n",
              "<style scoped>\n",
              "    .dataframe tbody tr th:only-of-type {\n",
              "        vertical-align: middle;\n",
              "    }\n",
              "\n",
              "    .dataframe tbody tr th {\n",
              "        vertical-align: top;\n",
              "    }\n",
              "\n",
              "    .dataframe thead th {\n",
              "        text-align: right;\n",
              "    }\n",
              "</style>\n",
              "<table border=\"1\" class=\"dataframe\">\n",
              "  <thead>\n",
              "    <tr style=\"text-align: right;\">\n",
              "      <th></th>\n",
              "      <th>name</th>\n",
              "      <th>type</th>\n",
              "      <th>id</th>\n",
              "      <th>messages</th>\n",
              "    </tr>\n",
              "  </thead>\n",
              "  <tbody>\n",
              "    <tr>\n",
              "      <th>0</th>\n",
              "      <td>Наука игры</td>\n",
              "      <td>public_channel</td>\n",
              "      <td>1917953520</td>\n",
              "      <td>{'id': 1, 'type': 'service', 'date': '2023-09-...</td>\n",
              "    </tr>\n",
              "    <tr>\n",
              "      <th>1</th>\n",
              "      <td>Наука игры</td>\n",
              "      <td>public_channel</td>\n",
              "      <td>1917953520</td>\n",
              "      <td>{'id': 3, 'type': 'service', 'date': '2023-09-...</td>\n",
              "    </tr>\n",
              "    <tr>\n",
              "      <th>2</th>\n",
              "      <td>Наука игры</td>\n",
              "      <td>public_channel</td>\n",
              "      <td>1917953520</td>\n",
              "      <td>{'id': 6, 'type': 'service', 'date': '2023-09-...</td>\n",
              "    </tr>\n",
              "    <tr>\n",
              "      <th>3</th>\n",
              "      <td>Наука игры</td>\n",
              "      <td>public_channel</td>\n",
              "      <td>1917953520</td>\n",
              "      <td>{'id': 7, 'type': 'message', 'date': '2023-09-...</td>\n",
              "    </tr>\n",
              "    <tr>\n",
              "      <th>4</th>\n",
              "      <td>Наука игры</td>\n",
              "      <td>public_channel</td>\n",
              "      <td>1917953520</td>\n",
              "      <td>{'id': 8, 'type': 'message', 'date': '2023-09-...</td>\n",
              "    </tr>\n",
              "    <tr>\n",
              "      <th>...</th>\n",
              "      <td>...</td>\n",
              "      <td>...</td>\n",
              "      <td>...</td>\n",
              "      <td>...</td>\n",
              "    </tr>\n",
              "    <tr>\n",
              "      <th>111</th>\n",
              "      <td>Наука игры</td>\n",
              "      <td>public_channel</td>\n",
              "      <td>1917953520</td>\n",
              "      <td>{'id': 121, 'type': 'message', 'date': '2025-0...</td>\n",
              "    </tr>\n",
              "    <tr>\n",
              "      <th>112</th>\n",
              "      <td>Наука игры</td>\n",
              "      <td>public_channel</td>\n",
              "      <td>1917953520</td>\n",
              "      <td>{'id': 122, 'type': 'message', 'date': '2025-0...</td>\n",
              "    </tr>\n",
              "    <tr>\n",
              "      <th>113</th>\n",
              "      <td>Наука игры</td>\n",
              "      <td>public_channel</td>\n",
              "      <td>1917953520</td>\n",
              "      <td>{'id': 123, 'type': 'message', 'date': '2025-0...</td>\n",
              "    </tr>\n",
              "    <tr>\n",
              "      <th>114</th>\n",
              "      <td>Наука игры</td>\n",
              "      <td>public_channel</td>\n",
              "      <td>1917953520</td>\n",
              "      <td>{'id': 124, 'type': 'message', 'date': '2025-0...</td>\n",
              "    </tr>\n",
              "    <tr>\n",
              "      <th>115</th>\n",
              "      <td>Наука игры</td>\n",
              "      <td>public_channel</td>\n",
              "      <td>1917953520</td>\n",
              "      <td>{'id': 125, 'type': 'message', 'date': '2025-0...</td>\n",
              "    </tr>\n",
              "  </tbody>\n",
              "</table>\n",
              "<p>116 rows × 4 columns</p>\n",
              "</div>\n",
              "    <div class=\"colab-df-buttons\">\n",
              "\n",
              "  <div class=\"colab-df-container\">\n",
              "    <button class=\"colab-df-convert\" onclick=\"convertToInteractive('df-210589ec-2ef7-4f1c-8417-4297a72402f0')\"\n",
              "            title=\"Convert this dataframe to an interactive table.\"\n",
              "            style=\"display:none;\">\n",
              "\n",
              "  <svg xmlns=\"http://www.w3.org/2000/svg\" height=\"24px\" viewBox=\"0 -960 960 960\">\n",
              "    <path d=\"M120-120v-720h720v720H120Zm60-500h600v-160H180v160Zm220 220h160v-160H400v160Zm0 220h160v-160H400v160ZM180-400h160v-160H180v160Zm440 0h160v-160H620v160ZM180-180h160v-160H180v160Zm440 0h160v-160H620v160Z\"/>\n",
              "  </svg>\n",
              "    </button>\n",
              "\n",
              "  <style>\n",
              "    .colab-df-container {\n",
              "      display:flex;\n",
              "      gap: 12px;\n",
              "    }\n",
              "\n",
              "    .colab-df-convert {\n",
              "      background-color: #E8F0FE;\n",
              "      border: none;\n",
              "      border-radius: 50%;\n",
              "      cursor: pointer;\n",
              "      display: none;\n",
              "      fill: #1967D2;\n",
              "      height: 32px;\n",
              "      padding: 0 0 0 0;\n",
              "      width: 32px;\n",
              "    }\n",
              "\n",
              "    .colab-df-convert:hover {\n",
              "      background-color: #E2EBFA;\n",
              "      box-shadow: 0px 1px 2px rgba(60, 64, 67, 0.3), 0px 1px 3px 1px rgba(60, 64, 67, 0.15);\n",
              "      fill: #174EA6;\n",
              "    }\n",
              "\n",
              "    .colab-df-buttons div {\n",
              "      margin-bottom: 4px;\n",
              "    }\n",
              "\n",
              "    [theme=dark] .colab-df-convert {\n",
              "      background-color: #3B4455;\n",
              "      fill: #D2E3FC;\n",
              "    }\n",
              "\n",
              "    [theme=dark] .colab-df-convert:hover {\n",
              "      background-color: #434B5C;\n",
              "      box-shadow: 0px 1px 3px 1px rgba(0, 0, 0, 0.15);\n",
              "      filter: drop-shadow(0px 1px 2px rgba(0, 0, 0, 0.3));\n",
              "      fill: #FFFFFF;\n",
              "    }\n",
              "  </style>\n",
              "\n",
              "    <script>\n",
              "      const buttonEl =\n",
              "        document.querySelector('#df-210589ec-2ef7-4f1c-8417-4297a72402f0 button.colab-df-convert');\n",
              "      buttonEl.style.display =\n",
              "        google.colab.kernel.accessAllowed ? 'block' : 'none';\n",
              "\n",
              "      async function convertToInteractive(key) {\n",
              "        const element = document.querySelector('#df-210589ec-2ef7-4f1c-8417-4297a72402f0');\n",
              "        const dataTable =\n",
              "          await google.colab.kernel.invokeFunction('convertToInteractive',\n",
              "                                                    [key], {});\n",
              "        if (!dataTable) return;\n",
              "\n",
              "        const docLinkHtml = 'Like what you see? Visit the ' +\n",
              "          '<a target=\"_blank\" href=https://colab.research.google.com/notebooks/data_table.ipynb>data table notebook</a>'\n",
              "          + ' to learn more about interactive tables.';\n",
              "        element.innerHTML = '';\n",
              "        dataTable['output_type'] = 'display_data';\n",
              "        await google.colab.output.renderOutput(dataTable, element);\n",
              "        const docLink = document.createElement('div');\n",
              "        docLink.innerHTML = docLinkHtml;\n",
              "        element.appendChild(docLink);\n",
              "      }\n",
              "    </script>\n",
              "  </div>\n",
              "\n",
              "\n",
              "    <div id=\"df-d1f5698d-7b62-4313-800a-b2d89a1dc455\">\n",
              "      <button class=\"colab-df-quickchart\" onclick=\"quickchart('df-d1f5698d-7b62-4313-800a-b2d89a1dc455')\"\n",
              "                title=\"Suggest charts\"\n",
              "                style=\"display:none;\">\n",
              "\n",
              "<svg xmlns=\"http://www.w3.org/2000/svg\" height=\"24px\"viewBox=\"0 0 24 24\"\n",
              "     width=\"24px\">\n",
              "    <g>\n",
              "        <path d=\"M19 3H5c-1.1 0-2 .9-2 2v14c0 1.1.9 2 2 2h14c1.1 0 2-.9 2-2V5c0-1.1-.9-2-2-2zM9 17H7v-7h2v7zm4 0h-2V7h2v10zm4 0h-2v-4h2v4z\"/>\n",
              "    </g>\n",
              "</svg>\n",
              "      </button>\n",
              "\n",
              "<style>\n",
              "  .colab-df-quickchart {\n",
              "      --bg-color: #E8F0FE;\n",
              "      --fill-color: #1967D2;\n",
              "      --hover-bg-color: #E2EBFA;\n",
              "      --hover-fill-color: #174EA6;\n",
              "      --disabled-fill-color: #AAA;\n",
              "      --disabled-bg-color: #DDD;\n",
              "  }\n",
              "\n",
              "  [theme=dark] .colab-df-quickchart {\n",
              "      --bg-color: #3B4455;\n",
              "      --fill-color: #D2E3FC;\n",
              "      --hover-bg-color: #434B5C;\n",
              "      --hover-fill-color: #FFFFFF;\n",
              "      --disabled-bg-color: #3B4455;\n",
              "      --disabled-fill-color: #666;\n",
              "  }\n",
              "\n",
              "  .colab-df-quickchart {\n",
              "    background-color: var(--bg-color);\n",
              "    border: none;\n",
              "    border-radius: 50%;\n",
              "    cursor: pointer;\n",
              "    display: none;\n",
              "    fill: var(--fill-color);\n",
              "    height: 32px;\n",
              "    padding: 0;\n",
              "    width: 32px;\n",
              "  }\n",
              "\n",
              "  .colab-df-quickchart:hover {\n",
              "    background-color: var(--hover-bg-color);\n",
              "    box-shadow: 0 1px 2px rgba(60, 64, 67, 0.3), 0 1px 3px 1px rgba(60, 64, 67, 0.15);\n",
              "    fill: var(--button-hover-fill-color);\n",
              "  }\n",
              "\n",
              "  .colab-df-quickchart-complete:disabled,\n",
              "  .colab-df-quickchart-complete:disabled:hover {\n",
              "    background-color: var(--disabled-bg-color);\n",
              "    fill: var(--disabled-fill-color);\n",
              "    box-shadow: none;\n",
              "  }\n",
              "\n",
              "  .colab-df-spinner {\n",
              "    border: 2px solid var(--fill-color);\n",
              "    border-color: transparent;\n",
              "    border-bottom-color: var(--fill-color);\n",
              "    animation:\n",
              "      spin 1s steps(1) infinite;\n",
              "  }\n",
              "\n",
              "  @keyframes spin {\n",
              "    0% {\n",
              "      border-color: transparent;\n",
              "      border-bottom-color: var(--fill-color);\n",
              "      border-left-color: var(--fill-color);\n",
              "    }\n",
              "    20% {\n",
              "      border-color: transparent;\n",
              "      border-left-color: var(--fill-color);\n",
              "      border-top-color: var(--fill-color);\n",
              "    }\n",
              "    30% {\n",
              "      border-color: transparent;\n",
              "      border-left-color: var(--fill-color);\n",
              "      border-top-color: var(--fill-color);\n",
              "      border-right-color: var(--fill-color);\n",
              "    }\n",
              "    40% {\n",
              "      border-color: transparent;\n",
              "      border-right-color: var(--fill-color);\n",
              "      border-top-color: var(--fill-color);\n",
              "    }\n",
              "    60% {\n",
              "      border-color: transparent;\n",
              "      border-right-color: var(--fill-color);\n",
              "    }\n",
              "    80% {\n",
              "      border-color: transparent;\n",
              "      border-right-color: var(--fill-color);\n",
              "      border-bottom-color: var(--fill-color);\n",
              "    }\n",
              "    90% {\n",
              "      border-color: transparent;\n",
              "      border-bottom-color: var(--fill-color);\n",
              "    }\n",
              "  }\n",
              "</style>\n",
              "\n",
              "      <script>\n",
              "        async function quickchart(key) {\n",
              "          const quickchartButtonEl =\n",
              "            document.querySelector('#' + key + ' button');\n",
              "          quickchartButtonEl.disabled = true;  // To prevent multiple clicks.\n",
              "          quickchartButtonEl.classList.add('colab-df-spinner');\n",
              "          try {\n",
              "            const charts = await google.colab.kernel.invokeFunction(\n",
              "                'suggestCharts', [key], {});\n",
              "          } catch (error) {\n",
              "            console.error('Error during call to suggestCharts:', error);\n",
              "          }\n",
              "          quickchartButtonEl.classList.remove('colab-df-spinner');\n",
              "          quickchartButtonEl.classList.add('colab-df-quickchart-complete');\n",
              "        }\n",
              "        (() => {\n",
              "          let quickchartButtonEl =\n",
              "            document.querySelector('#df-d1f5698d-7b62-4313-800a-b2d89a1dc455 button');\n",
              "          quickchartButtonEl.style.display =\n",
              "            google.colab.kernel.accessAllowed ? 'block' : 'none';\n",
              "        })();\n",
              "      </script>\n",
              "    </div>\n",
              "    </div>\n",
              "  </div>\n"
            ],
            "application/vnd.google.colaboratory.intrinsic+json": {
              "type": "dataframe",
              "variable_name": "data",
              "summary": "{\n  \"name\": \"data\",\n  \"rows\": 116,\n  \"fields\": [\n    {\n      \"column\": \"name\",\n      \"properties\": {\n        \"dtype\": \"category\",\n        \"num_unique_values\": 1,\n        \"samples\": [\n          \"\\u041d\\u0430\\u0443\\u043a\\u0430 \\u0438\\u0433\\u0440\\u044b\"\n        ],\n        \"semantic_type\": \"\",\n        \"description\": \"\"\n      }\n    },\n    {\n      \"column\": \"type\",\n      \"properties\": {\n        \"dtype\": \"category\",\n        \"num_unique_values\": 1,\n        \"samples\": [\n          \"public_channel\"\n        ],\n        \"semantic_type\": \"\",\n        \"description\": \"\"\n      }\n    },\n    {\n      \"column\": \"id\",\n      \"properties\": {\n        \"dtype\": \"number\",\n        \"std\": 0,\n        \"min\": 1917953520,\n        \"max\": 1917953520,\n        \"num_unique_values\": 1,\n        \"samples\": [\n          1917953520\n        ],\n        \"semantic_type\": \"\",\n        \"description\": \"\"\n      }\n    },\n    {\n      \"column\": \"messages\",\n      \"properties\": {\n        \"dtype\": \"object\",\n        \"semantic_type\": \"\",\n        \"description\": \"\"\n      }\n    }\n  ]\n}"
            }
          },
          "metadata": {},
          "execution_count": 4
        }
      ]
    },
    {
      "cell_type": "markdown",
      "source": [
        "Из всей таблицы нас интересует последняя колонка `messages`. Там содержится информация о дате и тексте сообщения. Впечатляет! Посмотрим, как это выглядит."
      ],
      "metadata": {
        "id": "Kk05tMeaoVOX"
      }
    },
    {
      "cell_type": "code",
      "source": [
        "data[\"messages\"].iloc[10]"
      ],
      "metadata": {
        "colab": {
          "base_uri": "https://localhost:8080/"
        },
        "id": "5NB4bp_jos-f",
        "outputId": "a827e41e-c5d5-4413-8862-af89678539d0"
      },
      "execution_count": 9,
      "outputs": [
        {
          "output_type": "execute_result",
          "data": {
            "text/plain": [
              "{'id': 14,\n",
              " 'type': 'message',\n",
              " 'date': '2023-09-11T14:21:07',\n",
              " 'date_unixtime': '1694431267',\n",
              " 'edited': '2023-12-19T19:19:58',\n",
              " 'edited_unixtime': '1703002798',\n",
              " 'from': 'Наука игры',\n",
              " 'from_id': 'channel1917953520',\n",
              " 'text': ['Не знаю, как вы, а я люблю слушать музыку:) Это удивительно лёгкий и приятный способ изучения языков - едешь себе в тесном автобусе или сидишь в офисе за скучной работой, а в наушниках в это время целый мир!\\n\\nДавайте мы с вами немного сыграем! Постом ниже я прикреплю 3 фрагмента разных песен и 3 опроса👇\\n\\nВаша задача: послушать каждый фрагмент, выбрать подходящий набор эмодзи и принять участие в опросах🎶\\n\\nP.S. Там будет играть музыка, поэтому, если вы находитесь в общественном месте, наденьте наушники😌\\n',\n",
              "  {'type': 'hashtag', 'text': '#мояигра'},\n",
              "  ' ',\n",
              "  {'type': 'hashtag', 'text': '#какзвучитроссия'},\n",
              "  ''],\n",
              " 'text_entities': [{'type': 'plain',\n",
              "   'text': 'Не знаю, как вы, а я люблю слушать музыку:) Это удивительно лёгкий и приятный способ изучения языков - едешь себе в тесном автобусе или сидишь в офисе за скучной работой, а в наушниках в это время целый мир!\\n\\nДавайте мы с вами немного сыграем! Постом ниже я прикреплю 3 фрагмента разных песен и 3 опроса👇\\n\\nВаша задача: послушать каждый фрагмент, выбрать подходящий набор эмодзи и принять участие в опросах🎶\\n\\nP.S. Там будет играть музыка, поэтому, если вы находитесь в общественном месте, наденьте наушники😌\\n'},\n",
              "  {'type': 'hashtag', 'text': '#мояигра'},\n",
              "  {'type': 'plain', 'text': ' '},\n",
              "  {'type': 'hashtag', 'text': '#какзвучитроссия'},\n",
              "  {'type': 'plain', 'text': ''}]}"
            ]
          },
          "metadata": {},
          "execution_count": 9
        }
      ]
    },
    {
      "cell_type": "markdown",
      "source": [
        "Раскроем содержимое колонки `messages` и создадим новую таблицу.\n",
        "\n",
        "P.S. Дальше достаточно понимания на уровне «копировать-вставить». Для искушенных программистов напишу комментарии."
      ],
      "metadata": {
        "id": "vpT5cLFLo9qc"
      }
    },
    {
      "cell_type": "code",
      "source": [
        "# раскрываем содержимое колонки messages\n",
        "messages = pd.json_normalize(data[\"messages\"])\n",
        "\n",
        "# оставляем только сообщения с типом message\n",
        "messages = messages[messages[\"type\"] == \"message\"]\n",
        "\n",
        "# напишем функцию, которая поможет корректно выгрузить сообщения\n",
        "\n",
        "def get_text(row):\n",
        "  parts = []\n",
        "  if isinstance(row[\"text\"], list):\n",
        "    for item in row[\"text\"]:\n",
        "      if isinstance(item, dict) and \"text\" in item:\n",
        "        parts.append(item[\"text\"])\n",
        "  elif pd.notnull(row[\"text\"]):\n",
        "    parts.append(str(row[\"text\"]))\n",
        "  if pd.notnull(row.get(\"caption\", None)):\n",
        "    parts.append(str(row[\"caption\"]))\n",
        "  return \"\\n\".join(parts).strip()\n",
        "\n",
        "# применим нашу функцию к таблице\n",
        "messages[\"text\"] = messages.apply(get_text, axis = 1)\n",
        "\n",
        "# оставляем только те строки, где текст не пустой\n",
        "messages = messages[messages[\"text\"] != \"\"]\n",
        "\n",
        "# оставляем только нужные колонки\n",
        "result = messages[[\"date\", \"text\"]]"
      ],
      "metadata": {
        "id": "7rHpL9RIpvF5"
      },
      "execution_count": 10,
      "outputs": []
    },
    {
      "cell_type": "markdown",
      "source": [
        "Посмотрим на получившуюся таблицу."
      ],
      "metadata": {
        "id": "_qlwY9h2rx1T"
      }
    },
    {
      "cell_type": "code",
      "source": [
        "result"
      ],
      "metadata": {
        "colab": {
          "base_uri": "https://localhost:8080/",
          "height": 424
        },
        "id": "wijoRG-Cr25v",
        "outputId": "b246fed8-9c47-488a-d763-d3409f9a4058"
      },
      "execution_count": 11,
      "outputs": [
        {
          "output_type": "execute_result",
          "data": {
            "text/plain": [
              "                    date                                               text\n",
              "3    2023-09-04T16:26:12                           Наука игры\\n#welcomepost\n",
              "4    2023-09-04T17:39:52  Ещё как может! \\nОнлайн-игра\\nQuick, draw!\\n#р...\n",
              "6    2023-09-09T08:52:50                     сайт 1\\nсайт 2\\n#ресурс\\n#мемы\n",
              "7    2023-09-09T08:55:06                         Ловите мои варианты мемов😄\n",
              "10   2023-09-11T14:21:07                         #мояигра\\n#какзвучитроссия\n",
              "..                   ...                                                ...\n",
              "111  2025-06-06T10:57:57  леший\\nРусалка\\nневиданных зверей\\nдома\\nигра ...\n",
              "112  2025-07-01T13:15:37  игру БИНГО\\nПочему люблю\\nвиктории\\n\\n🖇Все мат...\n",
              "113  2025-07-22T14:57:14  Второй сезон Чемпионата мира по русскому языку...\n",
              "114  2025-08-05T09:05:40  \"Скажи по-русски!\"\\nв подборе синонимов\\nкульт...\n",
              "115  2025-08-19T15:11:04  Оли\\n«Мой первый разговорный клуб»\\n@eugene_dules\n",
              "\n",
              "[93 rows x 2 columns]"
            ],
            "text/html": [
              "\n",
              "  <div id=\"df-2d802c5e-cbf2-4066-b2ed-6cbfca27c732\" class=\"colab-df-container\">\n",
              "    <div>\n",
              "<style scoped>\n",
              "    .dataframe tbody tr th:only-of-type {\n",
              "        vertical-align: middle;\n",
              "    }\n",
              "\n",
              "    .dataframe tbody tr th {\n",
              "        vertical-align: top;\n",
              "    }\n",
              "\n",
              "    .dataframe thead th {\n",
              "        text-align: right;\n",
              "    }\n",
              "</style>\n",
              "<table border=\"1\" class=\"dataframe\">\n",
              "  <thead>\n",
              "    <tr style=\"text-align: right;\">\n",
              "      <th></th>\n",
              "      <th>date</th>\n",
              "      <th>text</th>\n",
              "    </tr>\n",
              "  </thead>\n",
              "  <tbody>\n",
              "    <tr>\n",
              "      <th>3</th>\n",
              "      <td>2023-09-04T16:26:12</td>\n",
              "      <td>Наука игры\\n#welcomepost</td>\n",
              "    </tr>\n",
              "    <tr>\n",
              "      <th>4</th>\n",
              "      <td>2023-09-04T17:39:52</td>\n",
              "      <td>Ещё как может! \\nОнлайн-игра\\nQuick, draw!\\n#р...</td>\n",
              "    </tr>\n",
              "    <tr>\n",
              "      <th>6</th>\n",
              "      <td>2023-09-09T08:52:50</td>\n",
              "      <td>сайт 1\\nсайт 2\\n#ресурс\\n#мемы</td>\n",
              "    </tr>\n",
              "    <tr>\n",
              "      <th>7</th>\n",
              "      <td>2023-09-09T08:55:06</td>\n",
              "      <td>Ловите мои варианты мемов😄</td>\n",
              "    </tr>\n",
              "    <tr>\n",
              "      <th>10</th>\n",
              "      <td>2023-09-11T14:21:07</td>\n",
              "      <td>#мояигра\\n#какзвучитроссия</td>\n",
              "    </tr>\n",
              "    <tr>\n",
              "      <th>...</th>\n",
              "      <td>...</td>\n",
              "      <td>...</td>\n",
              "    </tr>\n",
              "    <tr>\n",
              "      <th>111</th>\n",
              "      <td>2025-06-06T10:57:57</td>\n",
              "      <td>леший\\nРусалка\\nневиданных зверей\\nдома\\nигра ...</td>\n",
              "    </tr>\n",
              "    <tr>\n",
              "      <th>112</th>\n",
              "      <td>2025-07-01T13:15:37</td>\n",
              "      <td>игру БИНГО\\nПочему люблю\\nвиктории\\n\\n🖇Все мат...</td>\n",
              "    </tr>\n",
              "    <tr>\n",
              "      <th>113</th>\n",
              "      <td>2025-07-22T14:57:14</td>\n",
              "      <td>Второй сезон Чемпионата мира по русскому языку...</td>\n",
              "    </tr>\n",
              "    <tr>\n",
              "      <th>114</th>\n",
              "      <td>2025-08-05T09:05:40</td>\n",
              "      <td>\"Скажи по-русски!\"\\nв подборе синонимов\\nкульт...</td>\n",
              "    </tr>\n",
              "    <tr>\n",
              "      <th>115</th>\n",
              "      <td>2025-08-19T15:11:04</td>\n",
              "      <td>Оли\\n«Мой первый разговорный клуб»\\n@eugene_dules</td>\n",
              "    </tr>\n",
              "  </tbody>\n",
              "</table>\n",
              "<p>93 rows × 2 columns</p>\n",
              "</div>\n",
              "    <div class=\"colab-df-buttons\">\n",
              "\n",
              "  <div class=\"colab-df-container\">\n",
              "    <button class=\"colab-df-convert\" onclick=\"convertToInteractive('df-2d802c5e-cbf2-4066-b2ed-6cbfca27c732')\"\n",
              "            title=\"Convert this dataframe to an interactive table.\"\n",
              "            style=\"display:none;\">\n",
              "\n",
              "  <svg xmlns=\"http://www.w3.org/2000/svg\" height=\"24px\" viewBox=\"0 -960 960 960\">\n",
              "    <path d=\"M120-120v-720h720v720H120Zm60-500h600v-160H180v160Zm220 220h160v-160H400v160Zm0 220h160v-160H400v160ZM180-400h160v-160H180v160Zm440 0h160v-160H620v160ZM180-180h160v-160H180v160Zm440 0h160v-160H620v160Z\"/>\n",
              "  </svg>\n",
              "    </button>\n",
              "\n",
              "  <style>\n",
              "    .colab-df-container {\n",
              "      display:flex;\n",
              "      gap: 12px;\n",
              "    }\n",
              "\n",
              "    .colab-df-convert {\n",
              "      background-color: #E8F0FE;\n",
              "      border: none;\n",
              "      border-radius: 50%;\n",
              "      cursor: pointer;\n",
              "      display: none;\n",
              "      fill: #1967D2;\n",
              "      height: 32px;\n",
              "      padding: 0 0 0 0;\n",
              "      width: 32px;\n",
              "    }\n",
              "\n",
              "    .colab-df-convert:hover {\n",
              "      background-color: #E2EBFA;\n",
              "      box-shadow: 0px 1px 2px rgba(60, 64, 67, 0.3), 0px 1px 3px 1px rgba(60, 64, 67, 0.15);\n",
              "      fill: #174EA6;\n",
              "    }\n",
              "\n",
              "    .colab-df-buttons div {\n",
              "      margin-bottom: 4px;\n",
              "    }\n",
              "\n",
              "    [theme=dark] .colab-df-convert {\n",
              "      background-color: #3B4455;\n",
              "      fill: #D2E3FC;\n",
              "    }\n",
              "\n",
              "    [theme=dark] .colab-df-convert:hover {\n",
              "      background-color: #434B5C;\n",
              "      box-shadow: 0px 1px 3px 1px rgba(0, 0, 0, 0.15);\n",
              "      filter: drop-shadow(0px 1px 2px rgba(0, 0, 0, 0.3));\n",
              "      fill: #FFFFFF;\n",
              "    }\n",
              "  </style>\n",
              "\n",
              "    <script>\n",
              "      const buttonEl =\n",
              "        document.querySelector('#df-2d802c5e-cbf2-4066-b2ed-6cbfca27c732 button.colab-df-convert');\n",
              "      buttonEl.style.display =\n",
              "        google.colab.kernel.accessAllowed ? 'block' : 'none';\n",
              "\n",
              "      async function convertToInteractive(key) {\n",
              "        const element = document.querySelector('#df-2d802c5e-cbf2-4066-b2ed-6cbfca27c732');\n",
              "        const dataTable =\n",
              "          await google.colab.kernel.invokeFunction('convertToInteractive',\n",
              "                                                    [key], {});\n",
              "        if (!dataTable) return;\n",
              "\n",
              "        const docLinkHtml = 'Like what you see? Visit the ' +\n",
              "          '<a target=\"_blank\" href=https://colab.research.google.com/notebooks/data_table.ipynb>data table notebook</a>'\n",
              "          + ' to learn more about interactive tables.';\n",
              "        element.innerHTML = '';\n",
              "        dataTable['output_type'] = 'display_data';\n",
              "        await google.colab.output.renderOutput(dataTable, element);\n",
              "        const docLink = document.createElement('div');\n",
              "        docLink.innerHTML = docLinkHtml;\n",
              "        element.appendChild(docLink);\n",
              "      }\n",
              "    </script>\n",
              "  </div>\n",
              "\n",
              "\n",
              "    <div id=\"df-f297a6d2-3eaa-4fbd-87b1-f2d2c42e83df\">\n",
              "      <button class=\"colab-df-quickchart\" onclick=\"quickchart('df-f297a6d2-3eaa-4fbd-87b1-f2d2c42e83df')\"\n",
              "                title=\"Suggest charts\"\n",
              "                style=\"display:none;\">\n",
              "\n",
              "<svg xmlns=\"http://www.w3.org/2000/svg\" height=\"24px\"viewBox=\"0 0 24 24\"\n",
              "     width=\"24px\">\n",
              "    <g>\n",
              "        <path d=\"M19 3H5c-1.1 0-2 .9-2 2v14c0 1.1.9 2 2 2h14c1.1 0 2-.9 2-2V5c0-1.1-.9-2-2-2zM9 17H7v-7h2v7zm4 0h-2V7h2v10zm4 0h-2v-4h2v4z\"/>\n",
              "    </g>\n",
              "</svg>\n",
              "      </button>\n",
              "\n",
              "<style>\n",
              "  .colab-df-quickchart {\n",
              "      --bg-color: #E8F0FE;\n",
              "      --fill-color: #1967D2;\n",
              "      --hover-bg-color: #E2EBFA;\n",
              "      --hover-fill-color: #174EA6;\n",
              "      --disabled-fill-color: #AAA;\n",
              "      --disabled-bg-color: #DDD;\n",
              "  }\n",
              "\n",
              "  [theme=dark] .colab-df-quickchart {\n",
              "      --bg-color: #3B4455;\n",
              "      --fill-color: #D2E3FC;\n",
              "      --hover-bg-color: #434B5C;\n",
              "      --hover-fill-color: #FFFFFF;\n",
              "      --disabled-bg-color: #3B4455;\n",
              "      --disabled-fill-color: #666;\n",
              "  }\n",
              "\n",
              "  .colab-df-quickchart {\n",
              "    background-color: var(--bg-color);\n",
              "    border: none;\n",
              "    border-radius: 50%;\n",
              "    cursor: pointer;\n",
              "    display: none;\n",
              "    fill: var(--fill-color);\n",
              "    height: 32px;\n",
              "    padding: 0;\n",
              "    width: 32px;\n",
              "  }\n",
              "\n",
              "  .colab-df-quickchart:hover {\n",
              "    background-color: var(--hover-bg-color);\n",
              "    box-shadow: 0 1px 2px rgba(60, 64, 67, 0.3), 0 1px 3px 1px rgba(60, 64, 67, 0.15);\n",
              "    fill: var(--button-hover-fill-color);\n",
              "  }\n",
              "\n",
              "  .colab-df-quickchart-complete:disabled,\n",
              "  .colab-df-quickchart-complete:disabled:hover {\n",
              "    background-color: var(--disabled-bg-color);\n",
              "    fill: var(--disabled-fill-color);\n",
              "    box-shadow: none;\n",
              "  }\n",
              "\n",
              "  .colab-df-spinner {\n",
              "    border: 2px solid var(--fill-color);\n",
              "    border-color: transparent;\n",
              "    border-bottom-color: var(--fill-color);\n",
              "    animation:\n",
              "      spin 1s steps(1) infinite;\n",
              "  }\n",
              "\n",
              "  @keyframes spin {\n",
              "    0% {\n",
              "      border-color: transparent;\n",
              "      border-bottom-color: var(--fill-color);\n",
              "      border-left-color: var(--fill-color);\n",
              "    }\n",
              "    20% {\n",
              "      border-color: transparent;\n",
              "      border-left-color: var(--fill-color);\n",
              "      border-top-color: var(--fill-color);\n",
              "    }\n",
              "    30% {\n",
              "      border-color: transparent;\n",
              "      border-left-color: var(--fill-color);\n",
              "      border-top-color: var(--fill-color);\n",
              "      border-right-color: var(--fill-color);\n",
              "    }\n",
              "    40% {\n",
              "      border-color: transparent;\n",
              "      border-right-color: var(--fill-color);\n",
              "      border-top-color: var(--fill-color);\n",
              "    }\n",
              "    60% {\n",
              "      border-color: transparent;\n",
              "      border-right-color: var(--fill-color);\n",
              "    }\n",
              "    80% {\n",
              "      border-color: transparent;\n",
              "      border-right-color: var(--fill-color);\n",
              "      border-bottom-color: var(--fill-color);\n",
              "    }\n",
              "    90% {\n",
              "      border-color: transparent;\n",
              "      border-bottom-color: var(--fill-color);\n",
              "    }\n",
              "  }\n",
              "</style>\n",
              "\n",
              "      <script>\n",
              "        async function quickchart(key) {\n",
              "          const quickchartButtonEl =\n",
              "            document.querySelector('#' + key + ' button');\n",
              "          quickchartButtonEl.disabled = true;  // To prevent multiple clicks.\n",
              "          quickchartButtonEl.classList.add('colab-df-spinner');\n",
              "          try {\n",
              "            const charts = await google.colab.kernel.invokeFunction(\n",
              "                'suggestCharts', [key], {});\n",
              "          } catch (error) {\n",
              "            console.error('Error during call to suggestCharts:', error);\n",
              "          }\n",
              "          quickchartButtonEl.classList.remove('colab-df-spinner');\n",
              "          quickchartButtonEl.classList.add('colab-df-quickchart-complete');\n",
              "        }\n",
              "        (() => {\n",
              "          let quickchartButtonEl =\n",
              "            document.querySelector('#df-f297a6d2-3eaa-4fbd-87b1-f2d2c42e83df button');\n",
              "          quickchartButtonEl.style.display =\n",
              "            google.colab.kernel.accessAllowed ? 'block' : 'none';\n",
              "        })();\n",
              "      </script>\n",
              "    </div>\n",
              "    </div>\n",
              "  </div>\n"
            ],
            "application/vnd.google.colaboratory.intrinsic+json": {
              "type": "dataframe",
              "variable_name": "result",
              "repr_error": "0"
            }
          },
          "metadata": {},
          "execution_count": 11
        }
      ]
    },
    {
      "cell_type": "markdown",
      "source": [
        "Осталось взять текстовые данные и поработать с ними."
      ],
      "metadata": {
        "id": "iZkSqoVrsHzw"
      }
    },
    {
      "cell_type": "markdown",
      "source": [
        "Сначала добавим все сообщения в пустой список `text`."
      ],
      "metadata": {
        "id": "7u6SwlQ9sjt7"
      }
    },
    {
      "cell_type": "code",
      "source": [
        "text = []\n",
        "for i in result[\"text\"]:\n",
        "  text.append(i)"
      ],
      "metadata": {
        "id": "u3Olr7VrsR_U"
      },
      "execution_count": 12,
      "outputs": []
    },
    {
      "cell_type": "markdown",
      "source": [
        "Превратим их в строку."
      ],
      "metadata": {
        "id": "6yGR9Gtasv8V"
      }
    },
    {
      "cell_type": "code",
      "source": [
        "text = ''.join(text)"
      ],
      "metadata": {
        "id": "yt28qImytB_M"
      },
      "execution_count": 13,
      "outputs": []
    },
    {
      "cell_type": "markdown",
      "source": [
        "Выполним предобработку текста."
      ],
      "metadata": {
        "id": "KhtGEZw7tQdt"
      }
    },
    {
      "cell_type": "code",
      "source": [
        "# приводим текст к нижнему регистру\n",
        "text = text.lower()\n",
        "\n",
        "# удаляем из него ненужные вещи (ссылки, хештеги, переносы, цифры)\n",
        "import re\n",
        "text = re.sub(r'https?://\\S+|www\\.\\S+', '', text)\n",
        "text = re.sub(r'#\\S+', '', text)\n",
        "text = re.sub(r'(?<=\\w)-\\s*(?=\\w)', '', text)\n",
        "text = re.sub('[^a-zа-я]+', ' ', text)\n",
        "\n",
        "# скачиваем библиотеку для лемматизации\n",
        "! pip install pymorphy3\n",
        "import pymorphy3\n",
        "\n",
        "# подключаем анализатор\n",
        "from pymorphy3 import MorphAnalyzer\n",
        "analyzer = MorphAnalyzer()\n",
        "\n",
        "# в пустой массив «складываем» слова в начальной форме\n",
        "lemmas = []\n",
        "for i in text.split():\n",
        "    lemmas.append(analyzer.parse(i)[0].normal_form)\n",
        "\n",
        "# удаляем из них стоп-слова\n",
        "import nltk\n",
        "nltk.download('stopwords')\n",
        "\n",
        "from nltk.corpus import stopwords\n",
        "nltk_stopwords = stopwords.words('russian')\n",
        "\n",
        "lemmas_filtered = []\n",
        "\n",
        "for i in lemmas:\n",
        "  if i not in nltk_stopwords:\n",
        "    lemmas_filtered.append(i)"
      ],
      "metadata": {
        "colab": {
          "base_uri": "https://localhost:8080/"
        },
        "id": "JAKS1kNotUnc",
        "outputId": "37164f56-1b0d-4828-8463-ef15fba72b00"
      },
      "execution_count": 14,
      "outputs": [
        {
          "output_type": "stream",
          "name": "stdout",
          "text": [
            "Collecting pymorphy3\n",
            "  Downloading pymorphy3-2.0.4-py3-none-any.whl.metadata (2.4 kB)\n",
            "Collecting dawg2-python>=0.8.0 (from pymorphy3)\n",
            "  Downloading dawg2_python-0.9.0-py3-none-any.whl.metadata (7.5 kB)\n",
            "Collecting pymorphy3-dicts-ru (from pymorphy3)\n",
            "  Downloading pymorphy3_dicts_ru-2.4.417150.4580142-py2.py3-none-any.whl.metadata (2.0 kB)\n",
            "Requirement already satisfied: setuptools>=68.2.2 in /usr/local/lib/python3.12/dist-packages (from pymorphy3) (75.2.0)\n",
            "Downloading pymorphy3-2.0.4-py3-none-any.whl (54 kB)\n",
            "\u001b[2K   \u001b[90m━━━━━━━━━━━━━━━━━━━━━━━━━━━━━━━━━━━━━━━━\u001b[0m \u001b[32m54.1/54.1 kB\u001b[0m \u001b[31m1.9 MB/s\u001b[0m eta \u001b[36m0:00:00\u001b[0m\n",
            "\u001b[?25hDownloading dawg2_python-0.9.0-py3-none-any.whl (9.3 kB)\n",
            "Downloading pymorphy3_dicts_ru-2.4.417150.4580142-py2.py3-none-any.whl (8.4 MB)\n",
            "\u001b[2K   \u001b[90m━━━━━━━━━━━━━━━━━━━━━━━━━━━━━━━━━━━━━━━━\u001b[0m \u001b[32m8.4/8.4 MB\u001b[0m \u001b[31m63.9 MB/s\u001b[0m eta \u001b[36m0:00:00\u001b[0m\n",
            "\u001b[?25hInstalling collected packages: pymorphy3-dicts-ru, dawg2-python, pymorphy3\n",
            "Successfully installed dawg2-python-0.9.0 pymorphy3-2.0.4 pymorphy3-dicts-ru-2.4.417150.4580142\n"
          ]
        },
        {
          "output_type": "stream",
          "name": "stderr",
          "text": [
            "[nltk_data] Downloading package stopwords to /root/nltk_data...\n",
            "[nltk_data]   Unzipping corpora/stopwords.zip.\n"
          ]
        }
      ]
    },
    {
      "cell_type": "markdown",
      "source": [
        "На основе этого создадим частотный список слов."
      ],
      "metadata": {
        "id": "LwDWjFZbvK4g"
      }
    },
    {
      "cell_type": "code",
      "source": [
        "from collections import Counter\n",
        "\n",
        "counter = Counter(lemmas_filtered)\n",
        "counter.most_common(30)"
      ],
      "metadata": {
        "colab": {
          "base_uri": "https://localhost:8080/"
        },
        "id": "qCj34P90vc7d",
        "outputId": "e18ffc74-a86f-44f5-cae3-ee938ec07345"
      },
      "execution_count": 15,
      "outputs": [
        {
          "output_type": "execute_result",
          "data": {
            "text/plain": [
              "[('игра', 42),\n",
              " ('слово', 22),\n",
              " ('комментарий', 21),\n",
              " ('русский', 20),\n",
              " ('уровень', 20),\n",
              " ('это', 18),\n",
              " ('материал', 14),\n",
              " ('весь', 12),\n",
              " ('играть', 11),\n",
              " ('ребус', 11),\n",
              " ('язык', 11),\n",
              " ('новый', 11),\n",
              " ('иностранец', 11),\n",
              " ('всё', 11),\n",
              " ('первый', 10),\n",
              " ('подарок', 10),\n",
              " ('прикрепить', 10),\n",
              " ('alina', 9),\n",
              " ('galimullina', 9),\n",
              " ('rus', 9),\n",
              " ('занятие', 9),\n",
              " ('рки', 9),\n",
              " ('день', 9),\n",
              " ('тема', 9),\n",
              " ('идея', 9),\n",
              " ('мем', 8),\n",
              " ('ресурс', 8),\n",
              " ('студент', 8),\n",
              " ('картинка', 8),\n",
              " ('книга', 8)]"
            ]
          },
          "metadata": {},
          "execution_count": 15
        }
      ]
    },
    {
      "cell_type": "markdown",
      "source": [
        "Ура! У нас получилось. А теперь попробуйте создать облако слов."
      ],
      "metadata": {
        "id": "zxo4Wl0m2bsk"
      }
    },
    {
      "cell_type": "code",
      "source": [
        "# напишите код"
      ],
      "metadata": {
        "id": "9ixdPSYQ5U9r"
      },
      "execution_count": null,
      "outputs": []
    }
  ]
}