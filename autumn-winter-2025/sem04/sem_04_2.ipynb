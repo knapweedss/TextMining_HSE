{
  "nbformat": 4,
  "nbformat_minor": 0,
  "metadata": {
    "colab": {
      "provenance": [],
      "toc_visible": true
    },
    "kernelspec": {
      "name": "python3",
      "display_name": "Python 3"
    },
    "language_info": {
      "name": "python"
    }
  },
  "cells": [
    {
      "cell_type": "markdown",
      "source": [
        "# Регулярные выражения"
      ],
      "metadata": {
        "id": "aLGqIYVglsOv"
      }
    },
    {
      "cell_type": "markdown",
      "source": [
        "Регулярные выражения — это такие строки, которые задают шаблон для поиска фрагмента в строке, например имейла. С ними вы уже сталкивались, когда удаляли из текста все неслова."
      ],
      "metadata": {
        "id": "0Guo-upVnM9X"
      }
    },
    {
      "cell_type": "markdown",
      "source": [
        "Чтобы приступить к работе с регулярными выражениями, необходимо импортировать специальную библиотеку."
      ],
      "metadata": {
        "id": "BeGy1AEknp34"
      }
    },
    {
      "cell_type": "code",
      "execution_count": 1,
      "metadata": {
        "id": "fCa9rOsDk9Nd"
      },
      "outputs": [],
      "source": [
        "import re"
      ]
    },
    {
      "cell_type": "markdown",
      "source": [
        "Возьмем любую строку."
      ],
      "metadata": {
        "id": "s7qJF482n15Z"
      }
    },
    {
      "cell_type": "code",
      "source": [
        "text = \"Банкиры ребрендили-ребрендили-ребрендили, но не выребрендировали\""
      ],
      "metadata": {
        "id": "OGeapt8En4W1"
      },
      "execution_count": 2,
      "outputs": []
    },
    {
      "cell_type": "markdown",
      "source": [
        "## Полезные методы"
      ],
      "metadata": {
        "id": "a3z1p-T5oWJG"
      }
    },
    {
      "cell_type": "markdown",
      "source": [
        "### Как проверить начало строки?"
      ],
      "metadata": {
        "id": "oJfdb9hSQxsJ"
      }
    },
    {
      "cell_type": "markdown",
      "source": [
        "Воспользуемся методом `re.match()`."
      ],
      "metadata": {
        "id": "0zsub5FYoxOK"
      }
    },
    {
      "cell_type": "markdown",
      "source": [
        "Проверим, начинается ли наша строка со слова `Банкиры`."
      ],
      "metadata": {
        "id": "Ov7RFboVWn-f"
      }
    },
    {
      "cell_type": "code",
      "source": [
        "re.match(r\"Банкиры\",text)"
      ],
      "metadata": {
        "colab": {
          "base_uri": "https://localhost:8080/"
        },
        "id": "cLmOpsErpBqe",
        "outputId": "4f3eaa48-86f0-4cb0-e98a-eb9296f9fdfd"
      },
      "execution_count": 3,
      "outputs": [
        {
          "output_type": "execute_result",
          "data": {
            "text/plain": [
              "<re.Match object; span=(0, 7), match='Банкиры'>"
            ]
          },
          "metadata": {},
          "execution_count": 3
        }
      ]
    },
    {
      "cell_type": "markdown",
      "source": [
        "Да, это слово занимает срез от 0 до 7 (`span=(0,7)`). Немного изменим наш запрос."
      ],
      "metadata": {
        "id": "H31UzuzNVmn2"
      }
    },
    {
      "cell_type": "code",
      "source": [
        "re.match(r\"банкиры\", text)"
      ],
      "metadata": {
        "id": "dYSOF-8SWE53"
      },
      "execution_count": 4,
      "outputs": []
    },
    {
      "cell_type": "markdown",
      "source": [
        "Ничего не нашлось.😞 <p>\n",
        "Дело в том, что регулярные выражения чувствительны к регистру. Чтобы его игнорировать нужно прописать `re.IGNORECASE` после запроса. Попробуйте!"
      ],
      "metadata": {
        "id": "P6k91nmkWLsd"
      }
    },
    {
      "cell_type": "code",
      "source": [
        "# напишите код"
      ],
      "metadata": {
        "id": "0y8T25nlq1Ec"
      },
      "execution_count": 5,
      "outputs": []
    },
    {
      "cell_type": "markdown",
      "source": [
        "А теперь напишем код, который проверит, начинается ли строка со слова, введенного с клавиатуры."
      ],
      "metadata": {
        "id": "xIk2HycGX86t"
      }
    },
    {
      "cell_type": "code",
      "source": [
        "a = input()\n",
        "\n",
        "if re.match(a, text, re.IGNORECASE):\n",
        "  print(\"Да, строка начинается с этого слова\")\n",
        "else:\n",
        "  print(\"Нет, строка с этого слова не начинается\")"
      ],
      "metadata": {
        "colab": {
          "base_uri": "https://localhost:8080/"
        },
        "id": "45mEMAl6YD-7",
        "outputId": "bcf75e24-653a-4466-acd1-761262e8a19b"
      },
      "execution_count": 6,
      "outputs": [
        {
          "output_type": "stream",
          "name": "stdout",
          "text": [
            "да\n",
            "Нет, строка с этого слова не начинается\n"
          ]
        }
      ]
    },
    {
      "cell_type": "markdown",
      "source": [
        "### Немного практики"
      ],
      "metadata": {
        "id": "tVKXMtI_QbgB"
      }
    },
    {
      "cell_type": "markdown",
      "source": [
        "Напишите код, который выведет номер предложения, которое начинается со слова `Мне`."
      ],
      "metadata": {
        "id": "Q5fZlJzUQn4O"
      }
    },
    {
      "cell_type": "code",
      "source": [
        "a = ['Я в моменте.', 'И пролетел который день, я не заметил.', 'На своих двух, и мне навстречу только ветер.', 'Мне светит солнце, хоть и говорили все тут, что мне ниче не светит.']"
      ],
      "metadata": {
        "id": "Phb7Z037R2e_"
      },
      "execution_count": 7,
      "outputs": []
    },
    {
      "cell_type": "code",
      "source": [
        "# напишите код"
      ],
      "metadata": {
        "id": "OnBLkVz7Tf5l"
      },
      "execution_count": 8,
      "outputs": []
    },
    {
      "cell_type": "markdown",
      "source": [
        "## Как проверить, есть ли в строке нужное слово?"
      ],
      "metadata": {
        "id": "ltGB92lgWOTM"
      }
    },
    {
      "cell_type": "markdown",
      "source": [
        "Воспользуемся методом `re.search()`. <p>"
      ],
      "metadata": {
        "id": "NFrYI50aWYKV"
      }
    },
    {
      "cell_type": "markdown",
      "source": [
        "Посмотрим, есть ли в  предложении `Банкиры ребрендили-ребрендили, но не выребрендировали` фрагмент `ре`."
      ],
      "metadata": {
        "id": "Xp_sZKd5Y9ab"
      }
    },
    {
      "cell_type": "code",
      "source": [
        "re.search(r'ре', text)"
      ],
      "metadata": {
        "colab": {
          "base_uri": "https://localhost:8080/"
        },
        "id": "YzLahDuiWi8z",
        "outputId": "df17af01-5ec7-4536-872e-989e630713c7"
      },
      "execution_count": 9,
      "outputs": [
        {
          "output_type": "execute_result",
          "data": {
            "text/plain": [
              "<re.Match object; span=(8, 10), match='ре'>"
            ]
          },
          "metadata": {},
          "execution_count": 9
        }
      ]
    },
    {
      "cell_type": "markdown",
      "source": [
        "Есть, и несколько. Но программа вывела только одно совпадение, первое."
      ],
      "metadata": {
        "id": "fxiPRnt-Yz2q"
      }
    },
    {
      "cell_type": "markdown",
      "source": [
        "Если нужно найти **все** совпадения, нужно использовать метод `re.findall()`."
      ],
      "metadata": {
        "id": "7MxZncQ8rYGd"
      }
    },
    {
      "cell_type": "code",
      "source": [
        "re.findall(r'ре', text)"
      ],
      "metadata": {
        "colab": {
          "base_uri": "https://localhost:8080/"
        },
        "id": "-ZjctdARZmSH",
        "outputId": "792cbcc5-58b1-4fa6-8c1d-5122760d9cb0"
      },
      "execution_count": 10,
      "outputs": [
        {
          "output_type": "execute_result",
          "data": {
            "text/plain": [
              "['ре', 'ре', 'ре', 'ре', 'ре', 'ре', 'ре', 'ре']"
            ]
          },
          "metadata": {},
          "execution_count": 10
        }
      ]
    },
    {
      "cell_type": "markdown",
      "source": [
        "А чтобы узнать точное количество, напишем вот так:"
      ],
      "metadata": {
        "id": "ReDFXzI7Z2X-"
      }
    },
    {
      "cell_type": "code",
      "source": [
        "len(re.findall(r'ре', text))"
      ],
      "metadata": {
        "colab": {
          "base_uri": "https://localhost:8080/"
        },
        "id": "EYZdQ2VKaFCv",
        "outputId": "474cf97a-419a-486b-db46-4b185af94e4c"
      },
      "execution_count": 11,
      "outputs": [
        {
          "output_type": "execute_result",
          "data": {
            "text/plain": [
              "8"
            ]
          },
          "metadata": {},
          "execution_count": 11
        }
      ]
    },
    {
      "cell_type": "markdown",
      "source": [
        "### Небольшая практика"
      ],
      "metadata": {
        "id": "2ZtPyriCaI19"
      }
    },
    {
      "cell_type": "markdown",
      "source": [
        "Сколько раз в песне Инстасамки встречается выражение `за деньги — да`?"
      ],
      "metadata": {
        "id": "-VqSmU4QaMOy"
      }
    },
    {
      "cell_type": "code",
      "source": [
        "b = '''Я вообще делаю, что хочу.\n",
        "Хочу импланты — звоню врачу.\n",
        "Кто меня не любит — я вас не слышу.\n",
        "Вы просто мне завидуете — я молчу.\n",
        "\n",
        "Я не молчу, когда я хочу.\n",
        "Я не продаюсь, но за деньги — да.\n",
        "Мой продюсер говорит: «Ты поп-звезда».\n",
        "И, кстати, мой продюсер — это мой муж, да.\n",
        "\n",
        "Я не скажу в ответ ничего на хейт.\n",
        "Я не скажу «привет», если бабок нет.\n",
        "Слышу любимый звук — это звон монет.\n",
        "Они тянут сотни рук, это мой концерт.\n",
        "\n",
        "Не завожу подруг, но за деньги — да.\n",
        "Я не делаю фиты даже за деньги, да.\n",
        "И я подумаю потом, но скажу сразу «да».\n",
        "За деньги — да, за деньги — да.\n",
        "За деньги — да.\n",
        "За деньги — да.\n",
        "За деньги — да.\n",
        "За деньги — да.\n",
        "\n",
        "Это я в Дубае, я ща отдыхаю.\n",
        "Да, я так богата, и я это не скрываю.\n",
        "Все мои подруги за собой не замечают,\n",
        "Они видят мои шмотки и тупо повторяют.\n",
        "\n",
        "Пусть не забывают, кто тут королева:\n",
        "Я раскидываю бабки направо и налево.\n",
        "Это моя манера: жена миллионера,\n",
        "Мне платят за концерты, я читаю под фанеру.\n",
        "\n",
        "Эту сумку мне муж купил,\n",
        "Эти Rolex'ы муж купил,\n",
        "Кольцо с бриллиантом мне муж купил,\n",
        "Муж купил, мне муж купил.\n",
        "\n",
        "Не завожу подруг, но за деньги — да.\n",
        "Я не делаю фиты даже за деньги, да.\n",
        "И я подумаю потом, но скажу сразу «да».\n",
        "За деньги — да, за деньги — да.\n",
        "За деньги — да.\n",
        "За деньги — да.\n",
        "За деньги — да.\n",
        "За деньги — да.'''"
      ],
      "metadata": {
        "id": "XtiajBQkaWzB"
      },
      "execution_count": 11,
      "outputs": []
    },
    {
      "cell_type": "code",
      "source": [
        "# напишите код"
      ],
      "metadata": {
        "id": "TA4RDbH1cFFL"
      },
      "execution_count": 12,
      "outputs": []
    },
    {
      "cell_type": "markdown",
      "source": [
        "## Как найти и заменить фрагмент текста?"
      ],
      "metadata": {
        "id": "4tb8y3Umd63f"
      }
    },
    {
      "cell_type": "markdown",
      "source": [
        "Для этого используем метод `re.sub()`. Сначала пишем, что нужно найти, потом — на что заменить и где. Например:"
      ],
      "metadata": {
        "id": "oF5dU3tUesVE"
      }
    },
    {
      "cell_type": "code",
      "source": [
        "text = \"Тридцать три коровы\""
      ],
      "metadata": {
        "id": "5ilqKyabe9up"
      },
      "execution_count": 12,
      "outputs": []
    },
    {
      "cell_type": "markdown",
      "source": [
        "Меняем *три* на *две*."
      ],
      "metadata": {
        "id": "gP2TH35hAbWt"
      }
    },
    {
      "cell_type": "code",
      "source": [
        "text = re.sub(r'три', 'две', text)\n",
        "text"
      ],
      "metadata": {
        "colab": {
          "base_uri": "https://localhost:8080/",
          "height": 35
        },
        "id": "YMLb0dtIxJrv",
        "outputId": "9e82e563-1354-4da3-b7ca-e041958989c2"
      },
      "execution_count": 13,
      "outputs": [
        {
          "output_type": "execute_result",
          "data": {
            "text/plain": [
              "'Тридцать две коровы'"
            ],
            "application/vnd.google.colaboratory.intrinsic+json": {
              "type": "string"
            }
          },
          "metadata": {},
          "execution_count": 13
        }
      ]
    },
    {
      "cell_type": "markdown",
      "source": [
        "### Немного практики"
      ],
      "metadata": {
        "id": "o6rxgZdshJND"
      }
    },
    {
      "cell_type": "markdown",
      "source": [
        "Найдите и замените в тексте `Лондон` на `Коломну`."
      ],
      "metadata": {
        "id": "_7dpp2WAhcKy"
      }
    },
    {
      "cell_type": "code",
      "source": [
        "c = '''Я уеду жить в Лондон.\n",
        "Я уеду жить в Лондон.\n",
        "Я уеду туда, где большая вода,\n",
        "Может быть, навсегда.\n",
        "\n",
        "Я уеду жить в Лондон.\n",
        "Мне Москва будет сниться.\n",
        "Но проблема одна: в направлении том\n",
        "Из Москвы никогда не идут поезда.\n",
        "Я уеду жить в Лондон'''"
      ],
      "metadata": {
        "id": "UNn2mAgUhSQr"
      },
      "execution_count": 15,
      "outputs": []
    },
    {
      "cell_type": "code",
      "source": [
        "# напишите код"
      ],
      "metadata": {
        "id": "xDcQnb5Th3Cv"
      },
      "execution_count": null,
      "outputs": []
    },
    {
      "cell_type": "markdown",
      "source": [
        "## Специальные обозначения"
      ],
      "metadata": {
        "id": "gWcOMysrffBh"
      }
    },
    {
      "cell_type": "markdown",
      "source": [
        "До сих пор мы рассматривали поиск определенной последовательности символов. 😞 А что делать, если у нас нет определенного шаблона, но нужно вернуть набор символов из строки, отвечающих определеннным правилам?"
      ],
      "metadata": {
        "id": "HCE74-A0fnYQ"
      }
    },
    {
      "cell_type": "markdown",
      "source": [
        "Для этого понадобятся специальные обозначения. Их очень много, и все они [здесь](https://docs.python.org/3.8/library/re.html)."
      ],
      "metadata": {
        "id": "wS0FmfczixdI"
      }
    },
    {
      "cell_type": "markdown",
      "source": [
        "Выпишу только **самые нужные**:\n",
        "<br>\n",
        "<br>\n",
        "\n",
        "*  `.` — один любой символ, кроме новой строки.\n",
        "*  `?` — 0 или 1 вхождение шаблона слева.\n",
        "*  `+` — 1 и более вхождений шаблона слева.\n",
        "*  `*` — 0 и более вхождений щаблона слева.\n",
        "\n",
        "<br>\n",
        "\n",
        "*  `\\w` — любая цифра или буква. (`\\W` — все, кроме буквы или цифры).\n",
        "*  `\\d` — любая цифра (`\\D` — все, кроме цифр).\n",
        "*  `\\s` — любой пробельный символ (`\\S` — любой непробельный символ).\n",
        "*  `\\b` — граница слова.\n",
        "\n",
        "<br>\n",
        "\n",
        "*  `[...]` — один из символов в скобках (`[^...]` — любой символ, кроме тех, что в скобках).\n",
        "*  `\\` — экранирование специальных символов. (`\\.` — это точка).\n",
        "*  `^` и `$` — начало и конец строки соответственно.\n",
        "*  `{n,m}` — от n до m вхождений.\n",
        "*  `a|b` — соответствует a или b."
      ],
      "metadata": {
        "id": "20TzEQbljvzk"
      }
    },
    {
      "cell_type": "markdown",
      "source": [
        "Возьмем рандомный текст."
      ],
      "metadata": {
        "id": "enN2u0xFmcPo"
      }
    },
    {
      "cell_type": "code",
      "source": [
        "text = 'А мы тут регулярные выражения учим'"
      ],
      "metadata": {
        "id": "r-55shzbmpi_"
      },
      "execution_count": 14,
      "outputs": []
    },
    {
      "cell_type": "markdown",
      "source": [
        "Попросим выписать из него все символы с помощью `.`."
      ],
      "metadata": {
        "id": "VpJY4J6HneFe"
      }
    },
    {
      "cell_type": "code",
      "source": [
        "print(re.findall(r'.', text))"
      ],
      "metadata": {
        "colab": {
          "base_uri": "https://localhost:8080/"
        },
        "id": "qHMOmbxMnmWB",
        "outputId": "050ecb8d-e6a6-4a9a-a830-9d20b1cc730a"
      },
      "execution_count": 15,
      "outputs": [
        {
          "output_type": "stream",
          "name": "stdout",
          "text": [
            "['А', ' ', 'м', 'ы', ' ', 'т', 'у', 'т', ' ', 'р', 'е', 'г', 'у', 'л', 'я', 'р', 'н', 'ы', 'е', ' ', 'в', 'ы', 'р', 'а', 'ж', 'е', 'н', 'и', 'я', ' ', 'у', 'ч', 'и', 'м']\n"
          ]
        }
      ]
    },
    {
      "cell_type": "markdown",
      "source": [
        "Зачем это? — так мы можем узнать количество символов в строке (включая пробелы)."
      ],
      "metadata": {
        "id": "B6-OhEcnuFjS"
      }
    },
    {
      "cell_type": "code",
      "source": [
        "len(re.findall(r'.', text))"
      ],
      "metadata": {
        "colab": {
          "base_uri": "https://localhost:8080/"
        },
        "id": "U4kj0I7TuRTU",
        "outputId": "b8448bd4-f341-451c-fdb1-9d2975dc21bb"
      },
      "execution_count": 16,
      "outputs": [
        {
          "output_type": "execute_result",
          "data": {
            "text/plain": [
              "34"
            ]
          },
          "metadata": {},
          "execution_count": 16
        }
      ]
    },
    {
      "cell_type": "markdown",
      "source": [
        "А чтобы исключить пробелы, можем оставить только буквы и цифры с помощью `\\w`."
      ],
      "metadata": {
        "id": "8djVVeIyuX71"
      }
    },
    {
      "cell_type": "code",
      "source": [
        "len(re.findall(r'\\w', text))"
      ],
      "metadata": {
        "colab": {
          "base_uri": "https://localhost:8080/"
        },
        "id": "sLnyKyBTn4HS",
        "outputId": "69e24752-e737-4921-bb4b-0402cfdd2f16"
      },
      "execution_count": 17,
      "outputs": [
        {
          "output_type": "execute_result",
          "data": {
            "text/plain": [
              "29"
            ]
          },
          "metadata": {},
          "execution_count": 17
        }
      ]
    },
    {
      "cell_type": "markdown",
      "source": [
        "А сможете посчитать количество пробелов? Что для этого нужно? <p>\n",
        "Если затрудняетесь, посмотрите условные обозначения. ☝"
      ],
      "metadata": {
        "id": "-cQuqZU4u9wm"
      }
    },
    {
      "cell_type": "code",
      "source": [
        "# напишите код"
      ],
      "metadata": {
        "id": "jMMwQDY6vD4D"
      },
      "execution_count": 25,
      "outputs": []
    },
    {
      "cell_type": "markdown",
      "source": [
        "Выведем только слова. (За слово считаем набор символов от пробела до пробела)."
      ],
      "metadata": {
        "id": "Zb6huP1Gn9Ai"
      }
    },
    {
      "cell_type": "code",
      "source": [
        "print(re.findall(r'\\w+', text))"
      ],
      "metadata": {
        "colab": {
          "base_uri": "https://localhost:8080/"
        },
        "id": "kEa1lPWqoGpG",
        "outputId": "6ef0f4c3-f6a6-4f15-c078-d0b9e20fcbdb"
      },
      "execution_count": 18,
      "outputs": [
        {
          "output_type": "stream",
          "name": "stdout",
          "text": [
            "['А', 'мы', 'тут', 'регулярные', 'выражения', 'учим']\n"
          ]
        }
      ]
    },
    {
      "cell_type": "markdown",
      "source": [
        "Посчитаем их."
      ],
      "metadata": {
        "id": "y2Fal6lEBEmF"
      }
    },
    {
      "cell_type": "code",
      "source": [
        "len(re.findall(r'\\w+', text))"
      ],
      "metadata": {
        "colab": {
          "base_uri": "https://localhost:8080/"
        },
        "id": "FnjL4zP-BF8m",
        "outputId": "e51d183c-7ae7-418a-f0b3-0a38cf95e0c2"
      },
      "execution_count": 19,
      "outputs": [
        {
          "output_type": "execute_result",
          "data": {
            "text/plain": [
              "6"
            ]
          },
          "metadata": {},
          "execution_count": 19
        }
      ]
    },
    {
      "cell_type": "markdown",
      "source": [
        "Если бы в нашем предложении были еще цифры, то этот код вывел бы и их. <p>\n",
        "\n",
        "Давайте проверим.🤟"
      ],
      "metadata": {
        "id": "zuus8N38oTTn"
      }
    },
    {
      "cell_type": "code",
      "source": [
        "text = 'Я учу регулярные выражения с 1997 года'\n",
        "print(re.findall(r'\\w+', text))"
      ],
      "metadata": {
        "colab": {
          "base_uri": "https://localhost:8080/"
        },
        "id": "14EAfHX4oyZ7",
        "outputId": "183fc58a-bd5e-4d9a-a195-4d3da40bccf2"
      },
      "execution_count": 20,
      "outputs": [
        {
          "output_type": "stream",
          "name": "stdout",
          "text": [
            "['Я', 'учу', 'регулярные', 'выражения', 'с', '1997', 'года']\n"
          ]
        }
      ]
    },
    {
      "cell_type": "markdown",
      "source": [
        "Исправим наш код."
      ],
      "metadata": {
        "id": "Pb7bmyk1pA0C"
      }
    },
    {
      "cell_type": "code",
      "source": [
        "print(re.findall(r'[а-яА-Я]+', text)) # буквы в диапозоне от а до я и от А до Я"
      ],
      "metadata": {
        "colab": {
          "base_uri": "https://localhost:8080/"
        },
        "id": "ZUkaLYFHocJB",
        "outputId": "760ab1c2-c4e3-4daa-9229-08737105e32e"
      },
      "execution_count": 21,
      "outputs": [
        {
          "output_type": "stream",
          "name": "stdout",
          "text": [
            "['Я', 'учу', 'регулярные', 'выражения', 'с', 'года']\n"
          ]
        }
      ]
    },
    {
      "cell_type": "markdown",
      "source": [
        "Попробуем проверить этот код на предложении `Ёжик ёжился`."
      ],
      "metadata": {
        "id": "z6QpMuNxwXgr"
      }
    },
    {
      "cell_type": "code",
      "source": [
        "text_new = 'Ёжик ёжился'\n",
        "print(re.findall(r'[а-яА-Я]+', text_new))"
      ],
      "metadata": {
        "colab": {
          "base_uri": "https://localhost:8080/"
        },
        "id": "AvUx24lXwibS",
        "outputId": "f5353aac-42f8-4426-8061-8edcdaed1db7"
      },
      "execution_count": 22,
      "outputs": [
        {
          "output_type": "stream",
          "name": "stdout",
          "text": [
            "['жик', 'жился']\n"
          ]
        }
      ]
    },
    {
      "cell_type": "markdown",
      "source": [
        "Упс, все сломалось. Как вы думаете, в чем проблема?"
      ],
      "metadata": {
        "id": "UyFmcuRsxGL_"
      }
    },
    {
      "cell_type": "code",
      "source": [
        "print(re.findall(r'[а-яА-ЯёЁ]+', text_new)) # да, нужно отдельно прописать букву Ё"
      ],
      "metadata": {
        "colab": {
          "base_uri": "https://localhost:8080/"
        },
        "id": "ighOkxu8xPXq",
        "outputId": "5707654c-2cbd-4118-e0f4-f0a619b8fa6a"
      },
      "execution_count": 23,
      "outputs": [
        {
          "output_type": "stream",
          "name": "stdout",
          "text": [
            "['Ёжик', 'ёжился']\n"
          ]
        }
      ]
    },
    {
      "cell_type": "markdown",
      "source": [
        "Вернемся к нашему тексту и выведем только первое слово."
      ],
      "metadata": {
        "id": "7-Kpc4pYpTky"
      }
    },
    {
      "cell_type": "code",
      "source": [
        "text = 'А мы тут регулярные выражения учим'\n",
        "print(re.findall(r'^\\w+', text))"
      ],
      "metadata": {
        "colab": {
          "base_uri": "https://localhost:8080/"
        },
        "id": "6-jII9ZXpbT2",
        "outputId": "50d42e79-3d43-43d4-a838-54587979cd60"
      },
      "execution_count": 24,
      "outputs": [
        {
          "output_type": "stream",
          "name": "stdout",
          "text": [
            "['А']\n"
          ]
        }
      ]
    },
    {
      "cell_type": "markdown",
      "source": [
        "А теперь последнее."
      ],
      "metadata": {
        "id": "Cjb2yMN8phIg"
      }
    },
    {
      "cell_type": "code",
      "source": [
        "print(re.findall(r'\\w+$', text))"
      ],
      "metadata": {
        "colab": {
          "base_uri": "https://localhost:8080/"
        },
        "id": "SHiiPR5MpiWa",
        "outputId": "df39eba4-349b-4dbf-8402-7e87b747bbd6"
      },
      "execution_count": 25,
      "outputs": [
        {
          "output_type": "stream",
          "name": "stdout",
          "text": [
            "['учим']\n"
          ]
        }
      ]
    },
    {
      "cell_type": "markdown",
      "source": [
        "А сейчас извлечем домены из списка e-mail адресов."
      ],
      "metadata": {
        "id": "65PxtGoYqKhB"
      }
    },
    {
      "cell_type": "code",
      "source": [
        "emails = 'pochta@gmail.com, piton@yandex.ru, sponge_bob@rambler.ru'\n",
        "\n",
        "print(re.findall(r'@\\w+', emails))"
      ],
      "metadata": {
        "colab": {
          "base_uri": "https://localhost:8080/"
        },
        "id": "6q_aSZVgqQMk",
        "outputId": "60965d88-ca56-4784-eb3d-b978a6d512cb"
      },
      "execution_count": 28,
      "outputs": [
        {
          "output_type": "stream",
          "name": "stdout",
          "text": [
            "['@gmail', '@yandex', '@rambler']\n"
          ]
        }
      ]
    },
    {
      "cell_type": "markdown",
      "source": [
        "Код вывел все до точки, потому что точка не является ни буквой, ни цифрой. Исправим это."
      ],
      "metadata": {
        "id": "rmspcnbHrJf6"
      }
    },
    {
      "cell_type": "markdown",
      "source": [
        "Можно так:"
      ],
      "metadata": {
        "id": "pQ966UMWyobi"
      }
    },
    {
      "cell_type": "code",
      "source": [
        "print(re.findall(r'@\\w+.\\w+', emails))"
      ],
      "metadata": {
        "colab": {
          "base_uri": "https://localhost:8080/"
        },
        "id": "gEbD5l5Prbje",
        "outputId": "d1ee366d-d1a3-449a-ee0b-02c69c2aab95"
      },
      "execution_count": 29,
      "outputs": [
        {
          "output_type": "stream",
          "name": "stdout",
          "text": [
            "['@gmail.com', '@yandex.ru', '@rambler.ru']\n"
          ]
        }
      ]
    },
    {
      "cell_type": "markdown",
      "source": [
        "А можно и вот так:"
      ],
      "metadata": {
        "id": "2cy9R2CEyrd5"
      }
    },
    {
      "cell_type": "code",
      "source": [
        "print(re.findall(r'@\\w+\\.\\w+', emails))"
      ],
      "metadata": {
        "colab": {
          "base_uri": "https://localhost:8080/"
        },
        "id": "tVP4NDlZyv9B",
        "outputId": "63bf574c-b0ea-4e17-b864-b567997205b1"
      },
      "execution_count": 30,
      "outputs": [
        {
          "output_type": "stream",
          "name": "stdout",
          "text": [
            "['@gmail.com', '@yandex.ru', '@rambler.ru']\n"
          ]
        }
      ]
    },
    {
      "cell_type": "markdown",
      "source": [
        "В чем разница?"
      ],
      "metadata": {
        "id": "cnm7NpOmy9BY"
      }
    },
    {
      "cell_type": "markdown",
      "source": [
        "А теперь выведем домены верхнего уровня, используя группировку `()`."
      ],
      "metadata": {
        "id": "O9iBYPF2y_rS"
      }
    },
    {
      "cell_type": "code",
      "source": [
        "re.findall(r'@\\w+.(\\w+)', emails)"
      ],
      "metadata": {
        "colab": {
          "base_uri": "https://localhost:8080/"
        },
        "id": "c7zbCdtorxke",
        "outputId": "4fe7063a-0374-4dd0-cb6b-f9012c772f89"
      },
      "execution_count": 32,
      "outputs": [
        {
          "output_type": "execute_result",
          "data": {
            "text/plain": [
              "['com', 'ru', 'ru']"
            ]
          },
          "metadata": {},
          "execution_count": 32
        }
      ]
    },
    {
      "cell_type": "markdown",
      "source": [
        "Напишите код, который, наоборот, выведет все, кроме домена."
      ],
      "metadata": {
        "id": "C0aRtO7y0PPQ"
      }
    },
    {
      "cell_type": "code",
      "source": [
        "# напишите код"
      ],
      "metadata": {
        "id": "qZnI4s5h0Vf6"
      },
      "execution_count": 40,
      "outputs": []
    },
    {
      "cell_type": "markdown",
      "source": [
        "Осталось научиться извлекать даты из текста."
      ],
      "metadata": {
        "id": "WpM7W2ukzYao"
      }
    },
    {
      "cell_type": "code",
      "source": [
        "text = '06.12.1997 родился очень важный человек'\n",
        "print(re.findall(r'\\d{2}\\.\\d{2}\\.\\d{4}', text)) # прописываем количество повторений"
      ],
      "metadata": {
        "colab": {
          "base_uri": "https://localhost:8080/"
        },
        "id": "C5Q75cQrzdr3",
        "outputId": "facbeecc-5142-4ba4-f4dd-94fae94d94dc"
      },
      "execution_count": 33,
      "outputs": [
        {
          "output_type": "stream",
          "name": "stdout",
          "text": [
            "['06.12.1997']\n"
          ]
        }
      ]
    },
    {
      "cell_type": "markdown",
      "source": [
        "## Практика"
      ],
      "metadata": {
        "id": "XCMSjfct0JHp"
      }
    },
    {
      "cell_type": "markdown",
      "source": [
        "1. Найдите в тексте `Вчера Анна и Сергей гуляли по Арбату` все слова, начинающиеся с большой буквы."
      ],
      "metadata": {
        "id": "JVpaq6gC0lFt"
      }
    },
    {
      "cell_type": "code",
      "source": [
        "# напишите код"
      ],
      "metadata": {
        "id": "RKnrG_M71Scs"
      },
      "execution_count": 45,
      "outputs": []
    },
    {
      "cell_type": "markdown",
      "source": [
        "2. Найдите в тексте `В магазине цены: хлеб — 45, молоко — 82, сыр — 320` только цифры."
      ],
      "metadata": {
        "id": "pobmAeoP2MWz"
      }
    },
    {
      "cell_type": "code",
      "source": [
        "# напишите код"
      ],
      "metadata": {
        "id": "lnu-kRLH2dTZ"
      },
      "execution_count": 49,
      "outputs": []
    },
    {
      "cell_type": "markdown",
      "source": [
        "3. Найдите в тексте `Кошка ловит мышь, а собака — кошку` все слова длинной 5 букв."
      ],
      "metadata": {
        "id": "LEOP72ol2sn4"
      }
    },
    {
      "cell_type": "code",
      "source": [
        "# напишите код"
      ],
      "metadata": {
        "id": "p59sTcgU2-bN"
      },
      "execution_count": 51,
      "outputs": []
    },
    {
      "cell_type": "markdown",
      "source": [
        "4. Напишите код, который проверить номер телефона, введенный с клавиатуры."
      ],
      "metadata": {
        "id": "2H6G3-jQ3JzO"
      }
    },
    {
      "cell_type": "code",
      "source": [
        "# напишите код"
      ],
      "metadata": {
        "id": "kJ5zBXJC3SuC"
      },
      "execution_count": 53,
      "outputs": []
    },
    {
      "cell_type": "markdown",
      "source": [
        "5. Найдите все html-теги.\n",
        "\n",
        "```\n",
        "<html><body><h1>Заголовок</h1><p>Текст</p></body></html>\n",
        "```\n",
        "\n"
      ],
      "metadata": {
        "id": "JKIQC7rC3ylK"
      }
    },
    {
      "cell_type": "code",
      "source": [
        "# напишите код"
      ],
      "metadata": {
        "id": "A63mReAg39VX"
      },
      "execution_count": 63,
      "outputs": []
    },
    {
      "cell_type": "markdown",
      "source": [
        "6. Напишите программу, которая проверяет пароль, введенный с клавиатуры. <p>\n",
        "\n",
        "Условия:\n",
        "* Пароль должен состоять только из букв *латинского* алфавита.\n",
        "* В начале или в конце пароля должна быть хотя бы одна цифра.\n",
        "* Длина пароля должна превышать 10 символов."
      ],
      "metadata": {
        "id": "H0AFLzD45nTC"
      }
    },
    {
      "cell_type": "code",
      "source": [
        "# напишите код"
      ],
      "metadata": {
        "id": "NgBNqsbX6FiW"
      },
      "execution_count": 104,
      "outputs": []
    },
    {
      "cell_type": "markdown",
      "source": [
        "7. Найди слова с суффиксом -*ств*-.\n",
        "\n",
        "```\n",
        "Государство заботится о качестве образования и мастерстве специалистов.\n",
        "```\n",
        "\n"
      ],
      "metadata": {
        "id": "M70qI0Lh-rR6"
      }
    },
    {
      "cell_type": "code",
      "source": [
        "# напишите код"
      ],
      "metadata": {
        "id": "5JW01L-i-zqz"
      },
      "execution_count": 106,
      "outputs": []
    }
  ]
}