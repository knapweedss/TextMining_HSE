{
  "nbformat": 4,
  "nbformat_minor": 0,
  "metadata": {
    "colab": {
      "provenance": [],
      "toc_visible": true
    },
    "kernelspec": {
      "name": "python3",
      "display_name": "Python 3"
    },
    "language_info": {
      "name": "python"
    }
  },
  "cells": [
    {
      "cell_type": "markdown",
      "source": [
        "# Заголовок\n",
        "## h2\n",
        "### h3\n",
        "**толстый текст**\n",
        "*курсив*"
      ],
      "metadata": {
        "id": "1kSTVTK2P2DT"
      }
    },
    {
      "cell_type": "markdown",
      "source": [
        "# 🎯 ЧТО ТАКОЕ ПЕРЕМЕННАЯ?"
      ],
      "metadata": {
        "id": "ndBK0w11Trkq"
      }
    },
    {
      "cell_type": "markdown",
      "source": [
        "Переменная — это как \"именованная коробка\" для хранения данных.\n",
        "\n",
        "Вы даете коробке имя и кладете в нее значение."
      ],
      "metadata": {
        "id": "5ylPQXSCTzuC"
      }
    },
    {
      "cell_type": "code",
      "source": [
        "# Давайте создадим первую переменную:\n",
        "message = \"Привет, мир!\"\n",
        "# message - имя переменной (как этикетка на коробке)\n",
        "# \"Привет, мир!\" - значение, которое хранится в переменной\n",
        "# = - оператор присваивания (как \"положить\" значение в коробку)"
      ],
      "metadata": {
        "id": "fcnPvlglTXPF"
      },
      "execution_count": 6,
      "outputs": []
    },
    {
      "cell_type": "code",
      "source": [
        "# В ту же \"коробку\" можно положить другое значение:\n",
        "\n",
        "message = \"Теперь здесь новый текст!\"\n",
        "print(message)"
      ],
      "metadata": {
        "colab": {
          "base_uri": "https://localhost:8080/"
        },
        "id": "UYqKxB7qT9Gk",
        "outputId": "20c9f861-7dd8-4205-d3f1-4041aa73b009"
      },
      "execution_count": 7,
      "outputs": [
        {
          "output_type": "stream",
          "name": "stdout",
          "text": [
            "Теперь здесь новый текст!\n"
          ]
        }
      ]
    },
    {
      "cell_type": "code",
      "source": [
        "# ОДНА ПЕРЕМЕННАЯ - ОДНО ЗНАЧЕНИЕ\n",
        "# Когда мы кладем новое значение в переменную, старое исчезает\n",
        "\n",
        "old_value = \"Старое значение\"\n",
        "print(\"Было:\", old_value)\n",
        "\n",
        "old_value = \"Новое значение\"  # Заменяем содержимое переменной\n",
        "print(\"Стало:\", old_value)"
      ],
      "metadata": {
        "colab": {
          "base_uri": "https://localhost:8080/"
        },
        "id": "Z0loJGiIUCRF",
        "outputId": "f6c0f64d-9312-4576-f386-d2fa3e6e0b67"
      },
      "execution_count": 8,
      "outputs": [
        {
          "output_type": "stream",
          "name": "stdout",
          "text": [
            "Было: Старое значение\n",
            "Стало: Новое значение\n"
          ]
        }
      ]
    },
    {
      "cell_type": "code",
      "source": [
        "# ПЕРЕМЕННЫЕ МОГУТ ХРАНИТЬ РАЗНЫЕ ТИПЫ ДАННЫХ\n",
        "number = 42  # Целое число\n",
        "pi = 3.14  # Дробное число\n",
        "name = \"Анна\"  # Строка\n",
        "is_student = True  # Логическое значение (True/False)\n",
        "\n",
        "print(\"Число:\", number)\n",
        "print(\"Имя:\", name)\n",
        "print(\"Я студент?\", is_student)"
      ],
      "metadata": {
        "colab": {
          "base_uri": "https://localhost:8080/"
        },
        "id": "rzMDM06cUGBJ",
        "outputId": "cbc7ea18-0265-41f0-a5e9-71f925cbe2e6"
      },
      "execution_count": 9,
      "outputs": [
        {
          "output_type": "stream",
          "name": "stdout",
          "text": [
            "Число: 42\n",
            "Имя: Анна\n",
            "Я студент? True\n"
          ]
        }
      ]
    },
    {
      "cell_type": "code",
      "source": [
        "# С ПЕРЕМЕННЫМИ МОЖНО ВЫПОЛНЯТЬ ОПЕРАЦИИ\n",
        "a = 10\n",
        "b = 5\n",
        "\n",
        "sum_result = a + b  # Сложение\n",
        "diff_result = a - b  # Вычитание\n",
        "product_result = a * b  # Умножение\n",
        "\n",
        "print(\"Сумма:\", sum_result)\n",
        "print(\"Разность:\", diff_result)\n",
        "print(\"Произведение:\", product_result)"
      ],
      "metadata": {
        "colab": {
          "base_uri": "https://localhost:8080/"
        },
        "id": "bcgGk4LOUKFC",
        "outputId": "9b18a251-b51b-4f9f-f18e-95bed5348985"
      },
      "execution_count": 10,
      "outputs": [
        {
          "output_type": "stream",
          "name": "stdout",
          "text": [
            "Сумма: 15\n",
            "Разность: 5\n",
            "Произведение: 50\n"
          ]
        }
      ]
    },
    {
      "cell_type": "code",
      "source": [
        "# ПЕРЕМЕННЫЕ МОГУТ \"ЗАИМСТВОВАТЬ\" ЗНАЧЕНИЯ ДРУГ У ДРУГА\n",
        "x = 15\n",
        "y = x  # Копируем значение из x в y\n",
        "\n",
        "print(\"x =\", x, \"y =\", y)\n",
        "\n",
        "x = 20  # Меняем только x\n",
        "print(\"После изменения:\")\n",
        "print(\"x =\", x, \"y =\", y)  # y осталось прежним!"
      ],
      "metadata": {
        "colab": {
          "base_uri": "https://localhost:8080/"
        },
        "id": "RfuUdt7bUNsA",
        "outputId": "9b93cff6-904f-444a-bc05-49c0a2569f32"
      },
      "execution_count": 11,
      "outputs": [
        {
          "output_type": "stream",
          "name": "stdout",
          "text": [
            "x = 15 y = 15\n",
            "После изменения:\n",
            "x = 20 y = 15\n"
          ]
        }
      ]
    },
    {
      "cell_type": "markdown",
      "source": [
        "# Базовые операции"
      ],
      "metadata": {
        "id": "vmihVuPSQaSE"
      }
    },
    {
      "cell_type": "markdown",
      "source": [
        "# Арифметические операции в Питоне\n",
        "```\n",
        "* — умножение\n",
        "/ — деление\n",
        "** — возведение в степень\n",
        "// — деление без остатка\n",
        "% — остаток от деления\n",
        "```"
      ],
      "metadata": {
        "id": "ZsWp-lxWQzMN"
      }
    },
    {
      "cell_type": "code",
      "execution_count": 12,
      "metadata": {
        "colab": {
          "base_uri": "https://localhost:8080/"
        },
        "id": "WZYrw2R6Pwjh",
        "outputId": "56ff97a7-ea96-4e8f-bbbd-c3721974813a"
      },
      "outputs": [
        {
          "output_type": "stream",
          "name": "stdout",
          "text": [
            "Сложение: 19\n",
            "Деление: 3.75\n",
            "Целочисленное деление: 3\n",
            "Остаток от деления: 3\n",
            "Возведение в степень: 225\n"
          ]
        }
      ],
      "source": [
        "a = 15\n",
        "b = 4\n",
        "print(\"Сложение:\", a + b)\n",
        "print(\"Деление:\", a / b)\n",
        "print(\"Целочисленное деление:\", a // b)\n",
        "print(\"Остаток от деления:\", a % b)\n",
        "print(\"Возведение в степень:\", a ** 2)"
      ]
    },
    {
      "cell_type": "code",
      "source": [
        "print(8 / 2)   # => 4.0 (При делении двух чисел получается тип данных float)\n",
        "print(3 ** 2)  # => 9"
      ],
      "metadata": {
        "colab": {
          "base_uri": "https://localhost:8080/"
        },
        "id": "9ZzL7PZ8Q5O1",
        "outputId": "b47ed822-e54d-4f39-85b5-1fad27b84598"
      },
      "execution_count": 13,
      "outputs": [
        {
          "output_type": "stream",
          "name": "stdout",
          "text": [
            "4.0\n",
            "9\n"
          ]
        }
      ]
    },
    {
      "cell_type": "code",
      "source": [
        "# На ноль делить нельзя, будет ошибка (проверьте, раскомментировав строку ниже)\n",
        "# 5 / 0"
      ],
      "metadata": {
        "id": "D8XE2psdQ7Nv"
      },
      "execution_count": 14,
      "outputs": []
    },
    {
      "cell_type": "markdown",
      "source": [
        "Деление с остатком полезно для\n",
        "\n",
        "- проверки чётности (чётное число – такое, которое делится на 2 без остатка = с остатком 0)\n",
        "- нахождения цифр числа"
      ],
      "metadata": {
        "id": "xJFXDbRHREXN"
      }
    },
    {
      "cell_type": "code",
      "source": [
        "# чётные\n",
        "\n",
        "print(8 % 2)\n",
        "print(0 % 2)\n",
        "print(2024 % 2)"
      ],
      "metadata": {
        "colab": {
          "base_uri": "https://localhost:8080/"
        },
        "id": "Vd84XJA-RAe1",
        "outputId": "ec651ec2-a562-4c05-ec4d-bc5a51b86446"
      },
      "execution_count": 15,
      "outputs": [
        {
          "output_type": "stream",
          "name": "stdout",
          "text": [
            "0\n",
            "0\n",
            "0\n"
          ]
        }
      ]
    },
    {
      "cell_type": "code",
      "source": [
        "# нечётные\n",
        "\n",
        "print(9 % 2)\n",
        "print(1 % 2)\n",
        "print(2025 % 2)"
      ],
      "metadata": {
        "colab": {
          "base_uri": "https://localhost:8080/"
        },
        "id": "rpGc85KSRApG",
        "outputId": "de8bda40-8735-4483-8afa-4557ddb2c6fa"
      },
      "execution_count": 16,
      "outputs": [
        {
          "output_type": "stream",
          "name": "stdout",
          "text": [
            "1\n",
            "1\n",
            "1\n"
          ]
        }
      ]
    },
    {
      "cell_type": "markdown",
      "source": [
        "### Немного про приоритет\n",
        "В школьной математике есть понятие «приоритет операции». Приоритет определяет, в какой последовательности должны выполняться операции. Умножение и деление имеют больший приоритет, чем сложение и вычитание, а приоритет возведения в степень выше всех остальных арифметических операций. Например: 2 ** 3 * 2 вычислится в 16."
      ],
      "metadata": {
        "id": "WPGkZQqURSXl"
      }
    },
    {
      "cell_type": "code",
      "source": [
        "print(3 ** (4 - 2))  # => 9\n",
        "print(7 * 3 + (4 / 2) - (8 + (2 - 1)))  # => 14"
      ],
      "metadata": {
        "colab": {
          "base_uri": "https://localhost:8080/"
        },
        "id": "KButufCKRWgr",
        "outputId": "73599804-36d8-488d-aca2-61abf6dd7a6f"
      },
      "execution_count": 17,
      "outputs": [
        {
          "output_type": "stream",
          "name": "stdout",
          "text": [
            "9\n",
            "14.0\n"
          ]
        }
      ]
    },
    {
      "cell_type": "markdown",
      "source": [
        "Какое число было загадано при условии, что ...\n",
        "\n",
        "1. если умножить его на 3 и затем прибавить 5, то будет 41\n",
        "1. если поделить его на 4, прибавить 3, и затем умножить на 6 будет 48\n",
        "1. если умножить его на 5, поделить на 3, затем вычесть 5 и поделить на 9, то будет 20"
      ],
      "metadata": {
        "id": "TvQeQ0P1Rb1T"
      }
    },
    {
      "cell_type": "code",
      "source": [
        "# YOUR CODE HERE"
      ],
      "metadata": {
        "id": "EJemCBaxQqe0"
      },
      "execution_count": 18,
      "outputs": []
    },
    {
      "cell_type": "markdown",
      "source": [
        "Какое число было загадано при условии, что ...\n",
        "\n",
        "остаток от деления на 6 равен 5, число между 11 и 20\n",
        "остаток от деления на 10 равен 7, число между 10 и 30"
      ],
      "metadata": {
        "id": "_D7WG9k7RiWg"
      }
    },
    {
      "cell_type": "markdown",
      "source": [
        "# Строки в Питоне"
      ],
      "metadata": {
        "id": "qRIGqBfLRkL-"
      }
    },
    {
      "cell_type": "code",
      "source": [
        "# Создание строк\n",
        "str1 = \"Привет\"\n",
        "str2 = 'Мир'\n",
        "str1, str2"
      ],
      "metadata": {
        "colab": {
          "base_uri": "https://localhost:8080/"
        },
        "id": "oNbqCgWwRhrC",
        "outputId": "710dce5a-ac64-4779-cf41-72b4f902f5ac"
      },
      "execution_count": 19,
      "outputs": [
        {
          "output_type": "execute_result",
          "data": {
            "text/plain": [
              "('Привет', 'Мир')"
            ]
          },
          "metadata": {},
          "execution_count": 19
        }
      ]
    },
    {
      "cell_type": "code",
      "source": [
        "# Конкатенация (сложение) строк\n",
        "greeting = str1 + \", \" + str2 + \"!\"\n",
        "greeting"
      ],
      "metadata": {
        "colab": {
          "base_uri": "https://localhost:8080/",
          "height": 35
        },
        "id": "6tn4KUvWTGHK",
        "outputId": "dd866bbd-bb17-4b14-9bce-1690bee608f4"
      },
      "execution_count": 20,
      "outputs": [
        {
          "output_type": "execute_result",
          "data": {
            "text/plain": [
              "'Привет, Мир!'"
            ],
            "application/vnd.google.colaboratory.intrinsic+json": {
              "type": "string"
            }
          },
          "metadata": {},
          "execution_count": 20
        }
      ]
    },
    {
      "cell_type": "code",
      "source": [
        "multiline_str = \"\"\"Это многострочная строка.\n",
        "Она может содержать текст\n",
        "на нескольких строках без использования \\\\n.\"\"\"\n",
        "print(multiline_str)"
      ],
      "metadata": {
        "colab": {
          "base_uri": "https://localhost:8080/"
        },
        "id": "KqHJPnxKTBQ7",
        "outputId": "baedbfbd-18d0-4bee-d433-ba9092a96f4b"
      },
      "execution_count": 21,
      "outputs": [
        {
          "output_type": "stream",
          "name": "stdout",
          "text": [
            "Это многострочная строка.\n",
            "Она может содержать текст\n",
            "на нескольких строках без использования \\n.\n"
          ]
        }
      ]
    },
    {
      "cell_type": "code",
      "source": [
        "# Умножение строк\n",
        "lots_of_hellos = \"hello \" * 5\n",
        "lots_of_hellos"
      ],
      "metadata": {
        "colab": {
          "base_uri": "https://localhost:8080/",
          "height": 35
        },
        "id": "ug01J6DiTL4u",
        "outputId": "5e004164-65ac-49ea-ca95-4263692cef58"
      },
      "execution_count": 22,
      "outputs": [
        {
          "output_type": "execute_result",
          "data": {
            "text/plain": [
              "'hello hello hello hello hello '"
            ],
            "application/vnd.google.colaboratory.intrinsic+json": {
              "type": "string"
            }
          },
          "metadata": {},
          "execution_count": 22
        }
      ]
    },
    {
      "cell_type": "code",
      "source": [
        "# f-строки (форматированные строки) - очень полезно!\n",
        "name = \"Алексей\"\n",
        "age = 20\n",
        "height = 1.85\n",
        "info = f\"Имя: {name}, Возраст: {age}, Рост: {height:.2f} м\"\n",
        "info"
      ],
      "metadata": {
        "colab": {
          "base_uri": "https://localhost:8080/",
          "height": 35
        },
        "id": "67sY-u1-TPjv",
        "outputId": "ac537bbc-fea9-468d-95f8-bd08a36ebd36"
      },
      "execution_count": 23,
      "outputs": [
        {
          "output_type": "execute_result",
          "data": {
            "text/plain": [
              "'Имя: Алексей, Возраст: 20, Рост: 1.85 м'"
            ],
            "application/vnd.google.colaboratory.intrinsic+json": {
              "type": "string"
            }
          },
          "metadata": {},
          "execution_count": 23
        }
      ]
    }
  ]
}