{
  "nbformat": 4,
  "nbformat_minor": 0,
  "metadata": {
    "colab": {
      "provenance": [],
      "toc_visible": true
    },
    "kernelspec": {
      "name": "python3",
      "display_name": "Python 3"
    },
    "language_info": {
      "name": "python"
    }
  },
  "cells": [
    {
      "cell_type": "code",
      "source": [
        "! pip install pymystem3"
      ],
      "metadata": {
        "colab": {
          "base_uri": "https://localhost:8080/"
        },
        "id": "czwxUC7UuykX",
        "outputId": "48de5093-9070-47de-db6e-6e94a0e8311d"
      },
      "execution_count": null,
      "outputs": [
        {
          "output_type": "stream",
          "name": "stdout",
          "text": [
            "Requirement already satisfied: pymystem3 in /usr/local/lib/python3.10/dist-packages (0.2.0)\n",
            "Requirement already satisfied: requests in /usr/local/lib/python3.10/dist-packages (from pymystem3) (2.31.0)\n",
            "Requirement already satisfied: charset-normalizer<4,>=2 in /usr/local/lib/python3.10/dist-packages (from requests->pymystem3) (3.3.2)\n",
            "Requirement already satisfied: idna<4,>=2.5 in /usr/local/lib/python3.10/dist-packages (from requests->pymystem3) (3.7)\n",
            "Requirement already satisfied: urllib3<3,>=1.21.1 in /usr/local/lib/python3.10/dist-packages (from requests->pymystem3) (2.0.7)\n",
            "Requirement already satisfied: certifi>=2017.4.17 in /usr/local/lib/python3.10/dist-packages (from requests->pymystem3) (2024.2.2)\n"
          ]
        }
      ]
    },
    {
      "cell_type": "code",
      "source": [
        "import os  # для работы с папками и файлами\n",
        "import collections\n",
        "import math\n",
        "import numpy as np\n",
        "import nltk\n",
        "nltk.download('stopwords')\n",
        "stopwords = nltk.corpus.stopwords.words('russian')\n",
        "from pymystem3 import Mystem\n",
        "m = Mystem()"
      ],
      "metadata": {
        "id": "ifZ2SDFl9ynC",
        "colab": {
          "base_uri": "https://localhost:8080/"
        },
        "outputId": "09ecb96b-76e2-48bd-aeb6-800cf9adce3b"
      },
      "execution_count": null,
      "outputs": [
        {
          "output_type": "stream",
          "name": "stderr",
          "text": [
            "[nltk_data] Downloading package stopwords to /root/nltk_data...\n",
            "[nltk_data]   Unzipping corpora/stopwords.zip.\n",
            "Installing mystem to /root/.local/bin/mystem from http://download.cdn.yandex.net/mystem/mystem-3.1-linux-64bit.tar.gz\n"
          ]
        }
      ]
    },
    {
      "cell_type": "markdown",
      "source": [
        "# Векторизация текстов. Начало\n",
        "\n",
        "В итоге мы хотим уметь в числах записывать значение слов и значение отрывков текста.\n",
        "\n",
        "Чтобы работать с текстами так, как и с другими объектами в ML (machine learning).\n",
        "\n",
        "Постепенно до этого дойдём."
      ],
      "metadata": {
        "id": "WYC9yS9ntzcQ"
      }
    },
    {
      "cell_type": "markdown",
      "source": [
        "## One-hot encoding, BoW (bag of words)\n",
        "\n",
        "Нам нужно представить слова и тексты в виде чисел, чтобы компьютер мог с ними работать. Нам хочется, чтобы эти представления текстов содержали в себе семантику, хотим понимать значения.\n",
        "\n",
        "Простой способ: одно слово - одно число.\n",
        "\n",
        "*мама - 1, мыла - 2, раму - 3*\n",
        "\n",
        "Но хочется, чтоб при сложении слов из текста получалось значение текста, а не рандомное число.\n",
        "\n",
        "Если записать эти числа так, чтоб везде, кроме слота с порядковым номером слова, были нули, получится\n",
        "\n",
        "*мама - 001, мыла - 010, раму - 100*\n",
        "\n",
        "Тогда предложение \"мама мыла\" будет 011.\n",
        "\n",
        "А \"мама мыла раму\" будет 111.\n",
        "\n",
        "Мы придумали векторы! У нас есть трёхмерное пространство, в котором у слова \"мама\" координаты вектора (0; 0; 1), а у текста \"мама мыла раму\" (1; 1; 1)."
      ],
      "metadata": {
        "id": "rE3OSdQn8rZj"
      }
    },
    {
      "cell_type": "markdown",
      "source": [
        "Можно руками написать векторизатор. Но он уже существует:"
      ],
      "metadata": {
        "id": "E_7UTlPxm9WK"
      }
    },
    {
      "cell_type": "code",
      "source": [
        "from sklearn.feature_extraction.text import CountVectorizer"
      ],
      "metadata": {
        "id": "3mlHziy_UpIX"
      },
      "execution_count": null,
      "outputs": []
    },
    {
      "cell_type": "code",
      "source": [
        "corpus = [\n",
        "\t'мама мыла раму',\n",
        "\t'Мила мыла куклу и раму',\n",
        "\t'Римма мыла раму и мама мыла раму'\n",
        "]"
      ],
      "metadata": {
        "id": "1eAI-gKDT6Hr"
      },
      "execution_count": null,
      "outputs": []
    },
    {
      "cell_type": "code",
      "source": [
        "vectorizer = CountVectorizer()\n",
        "X = vectorizer.fit_transform(corpus)  # вот тут мы векторизовали тексты"
      ],
      "metadata": {
        "id": "LLgy2JxRUtI7"
      },
      "execution_count": null,
      "outputs": []
    },
    {
      "cell_type": "code",
      "source": [
        "X # смотрим матрицу"
      ],
      "metadata": {
        "colab": {
          "base_uri": "https://localhost:8080/"
        },
        "id": "l1At0-zMUZ5G",
        "outputId": "4d766bc5-540f-43e3-cf9a-2690606c78fb"
      },
      "execution_count": null,
      "outputs": [
        {
          "output_type": "execute_result",
          "data": {
            "text/plain": [
              "<3x6 sparse matrix of type '<class 'numpy.int64'>'\n",
              "\twith 11 stored elements in Compressed Sparse Row format>"
            ]
          },
          "metadata": {},
          "execution_count": 7
        }
      ]
    },
    {
      "cell_type": "markdown",
      "source": [
        "Sparse matrix - разреженная матрица (матрица, в которой много нулей)."
      ],
      "metadata": {
        "id": "aSn1xBBngXtN"
      }
    },
    {
      "cell_type": "code",
      "source": [
        "X.toarray() # смотрим матрицу"
      ],
      "metadata": {
        "colab": {
          "base_uri": "https://localhost:8080/"
        },
        "id": "bU3YzRaInllv",
        "outputId": "5fcf6ac9-3464-4a81-dd84-dd088456c8a9"
      },
      "execution_count": null,
      "outputs": [
        {
          "output_type": "execute_result",
          "data": {
            "text/plain": [
              "array([[0, 1, 0, 1, 1, 0],\n",
              "       [1, 0, 1, 1, 1, 0],\n",
              "       [0, 1, 0, 2, 2, 1]])"
            ]
          },
          "metadata": {},
          "execution_count": 8
        }
      ]
    },
    {
      "cell_type": "code",
      "source": [
        "vectorizer.vocabulary_"
      ],
      "metadata": {
        "colab": {
          "base_uri": "https://localhost:8080/"
        },
        "id": "Vmqw_hkHgOzZ",
        "outputId": "959cfec1-5aaf-4917-9b31-41f389408d17"
      },
      "execution_count": null,
      "outputs": [
        {
          "output_type": "execute_result",
          "data": {
            "text/plain": [
              "{'мама': 1, 'мыла': 3, 'раму': 4, 'мила': 2, 'куклу': 0, 'римма': 5}"
            ]
          },
          "metadata": {},
          "execution_count": 9
        }
      ]
    },
    {
      "cell_type": "code",
      "source": [
        "# чтобы узнать индекс токена в словаре\n",
        "vectorizer.vocabulary_.get('куклу')"
      ],
      "metadata": {
        "colab": {
          "base_uri": "https://localhost:8080/"
        },
        "id": "UOpcrvcIgFuE",
        "outputId": "15c414c9-9ab3-40b5-ac7e-51c9c22b6cbc"
      },
      "execution_count": null,
      "outputs": [
        {
          "output_type": "execute_result",
          "data": {
            "text/plain": [
              "0"
            ]
          },
          "metadata": {},
          "execution_count": 174
        }
      ]
    },
    {
      "cell_type": "code",
      "source": [
        "# чтобы узнать количественное вхождение каждого слова:\n",
        "matrix_freq = np.asarray(X.sum(axis=0)).ravel()\n",
        "final_matrix = np.array([np.array(vectorizer.get_feature_names_out()), matrix_freq])\n",
        "final_matrix"
      ],
      "metadata": {
        "colab": {
          "base_uri": "https://localhost:8080/"
        },
        "id": "y0GpV9RLiC66",
        "outputId": "0b028684-7a2d-45dd-f3b6-e43caa036ddc"
      },
      "execution_count": null,
      "outputs": [
        {
          "output_type": "execute_result",
          "data": {
            "text/plain": [
              "array([['куклу', 'мама', 'мила', 'мыла', 'раму', 'римма'],\n",
              "       [1, 2, 1, 4, 4, 1]], dtype=object)"
            ]
          },
          "metadata": {},
          "execution_count": 178
        }
      ]
    },
    {
      "cell_type": "code",
      "source": [
        "vectorizer.get_feature_names_out()  # так называются \"фичи\" наших текстов"
      ],
      "metadata": {
        "colab": {
          "base_uri": "https://localhost:8080/"
        },
        "id": "gvXNyZ6jUcWm",
        "outputId": "ede77358-85e2-42e6-8879-c22ff567cbbe"
      },
      "execution_count": null,
      "outputs": [
        {
          "output_type": "execute_result",
          "data": {
            "text/plain": [
              "array(['куклу', 'мама', 'мила', 'мыла', 'раму', 'римма'], dtype=object)"
            ]
          },
          "metadata": {},
          "execution_count": 168
        }
      ]
    },
    {
      "cell_type": "code",
      "source": [
        "df = pd.DataFrame(X.toarray())\n",
        "df.columns =list(vectorizer.get_feature_names_out())\n",
        "df"
      ],
      "metadata": {
        "colab": {
          "base_uri": "https://localhost:8080/",
          "height": 143
        },
        "id": "03dwNYF6URTW",
        "outputId": "3d4f9176-a665-4524-850e-527fbe7cc316"
      },
      "execution_count": null,
      "outputs": [
        {
          "output_type": "execute_result",
          "data": {
            "text/plain": [
              "   куклу  мама  мила  мыла  раму  римма\n",
              "0      0     1     0     1     1      0\n",
              "1      1     0     1     1     1      0\n",
              "2      0     1     0     2     2      1"
            ],
            "text/html": [
              "\n",
              "  <div id=\"df-972d05fb-6eed-45af-8c65-f742d0304e4d\" class=\"colab-df-container\">\n",
              "    <div>\n",
              "<style scoped>\n",
              "    .dataframe tbody tr th:only-of-type {\n",
              "        vertical-align: middle;\n",
              "    }\n",
              "\n",
              "    .dataframe tbody tr th {\n",
              "        vertical-align: top;\n",
              "    }\n",
              "\n",
              "    .dataframe thead th {\n",
              "        text-align: right;\n",
              "    }\n",
              "</style>\n",
              "<table border=\"1\" class=\"dataframe\">\n",
              "  <thead>\n",
              "    <tr style=\"text-align: right;\">\n",
              "      <th></th>\n",
              "      <th>куклу</th>\n",
              "      <th>мама</th>\n",
              "      <th>мила</th>\n",
              "      <th>мыла</th>\n",
              "      <th>раму</th>\n",
              "      <th>римма</th>\n",
              "    </tr>\n",
              "  </thead>\n",
              "  <tbody>\n",
              "    <tr>\n",
              "      <th>0</th>\n",
              "      <td>0</td>\n",
              "      <td>1</td>\n",
              "      <td>0</td>\n",
              "      <td>1</td>\n",
              "      <td>1</td>\n",
              "      <td>0</td>\n",
              "    </tr>\n",
              "    <tr>\n",
              "      <th>1</th>\n",
              "      <td>1</td>\n",
              "      <td>0</td>\n",
              "      <td>1</td>\n",
              "      <td>1</td>\n",
              "      <td>1</td>\n",
              "      <td>0</td>\n",
              "    </tr>\n",
              "    <tr>\n",
              "      <th>2</th>\n",
              "      <td>0</td>\n",
              "      <td>1</td>\n",
              "      <td>0</td>\n",
              "      <td>2</td>\n",
              "      <td>2</td>\n",
              "      <td>1</td>\n",
              "    </tr>\n",
              "  </tbody>\n",
              "</table>\n",
              "</div>\n",
              "    <div class=\"colab-df-buttons\">\n",
              "\n",
              "  <div class=\"colab-df-container\">\n",
              "    <button class=\"colab-df-convert\" onclick=\"convertToInteractive('df-972d05fb-6eed-45af-8c65-f742d0304e4d')\"\n",
              "            title=\"Convert this dataframe to an interactive table.\"\n",
              "            style=\"display:none;\">\n",
              "\n",
              "  <svg xmlns=\"http://www.w3.org/2000/svg\" height=\"24px\" viewBox=\"0 -960 960 960\">\n",
              "    <path d=\"M120-120v-720h720v720H120Zm60-500h600v-160H180v160Zm220 220h160v-160H400v160Zm0 220h160v-160H400v160ZM180-400h160v-160H180v160Zm440 0h160v-160H620v160ZM180-180h160v-160H180v160Zm440 0h160v-160H620v160Z\"/>\n",
              "  </svg>\n",
              "    </button>\n",
              "\n",
              "  <style>\n",
              "    .colab-df-container {\n",
              "      display:flex;\n",
              "      gap: 12px;\n",
              "    }\n",
              "\n",
              "    .colab-df-convert {\n",
              "      background-color: #E8F0FE;\n",
              "      border: none;\n",
              "      border-radius: 50%;\n",
              "      cursor: pointer;\n",
              "      display: none;\n",
              "      fill: #1967D2;\n",
              "      height: 32px;\n",
              "      padding: 0 0 0 0;\n",
              "      width: 32px;\n",
              "    }\n",
              "\n",
              "    .colab-df-convert:hover {\n",
              "      background-color: #E2EBFA;\n",
              "      box-shadow: 0px 1px 2px rgba(60, 64, 67, 0.3), 0px 1px 3px 1px rgba(60, 64, 67, 0.15);\n",
              "      fill: #174EA6;\n",
              "    }\n",
              "\n",
              "    .colab-df-buttons div {\n",
              "      margin-bottom: 4px;\n",
              "    }\n",
              "\n",
              "    [theme=dark] .colab-df-convert {\n",
              "      background-color: #3B4455;\n",
              "      fill: #D2E3FC;\n",
              "    }\n",
              "\n",
              "    [theme=dark] .colab-df-convert:hover {\n",
              "      background-color: #434B5C;\n",
              "      box-shadow: 0px 1px 3px 1px rgba(0, 0, 0, 0.15);\n",
              "      filter: drop-shadow(0px 1px 2px rgba(0, 0, 0, 0.3));\n",
              "      fill: #FFFFFF;\n",
              "    }\n",
              "  </style>\n",
              "\n",
              "    <script>\n",
              "      const buttonEl =\n",
              "        document.querySelector('#df-972d05fb-6eed-45af-8c65-f742d0304e4d button.colab-df-convert');\n",
              "      buttonEl.style.display =\n",
              "        google.colab.kernel.accessAllowed ? 'block' : 'none';\n",
              "\n",
              "      async function convertToInteractive(key) {\n",
              "        const element = document.querySelector('#df-972d05fb-6eed-45af-8c65-f742d0304e4d');\n",
              "        const dataTable =\n",
              "          await google.colab.kernel.invokeFunction('convertToInteractive',\n",
              "                                                    [key], {});\n",
              "        if (!dataTable) return;\n",
              "\n",
              "        const docLinkHtml = 'Like what you see? Visit the ' +\n",
              "          '<a target=\"_blank\" href=https://colab.research.google.com/notebooks/data_table.ipynb>data table notebook</a>'\n",
              "          + ' to learn more about interactive tables.';\n",
              "        element.innerHTML = '';\n",
              "        dataTable['output_type'] = 'display_data';\n",
              "        await google.colab.output.renderOutput(dataTable, element);\n",
              "        const docLink = document.createElement('div');\n",
              "        docLink.innerHTML = docLinkHtml;\n",
              "        element.appendChild(docLink);\n",
              "      }\n",
              "    </script>\n",
              "  </div>\n",
              "\n",
              "\n",
              "<div id=\"df-e3319b9e-60ef-4fa4-839a-1f5191e8ee25\">\n",
              "  <button class=\"colab-df-quickchart\" onclick=\"quickchart('df-e3319b9e-60ef-4fa4-839a-1f5191e8ee25')\"\n",
              "            title=\"Suggest charts\"\n",
              "            style=\"display:none;\">\n",
              "\n",
              "<svg xmlns=\"http://www.w3.org/2000/svg\" height=\"24px\"viewBox=\"0 0 24 24\"\n",
              "     width=\"24px\">\n",
              "    <g>\n",
              "        <path d=\"M19 3H5c-1.1 0-2 .9-2 2v14c0 1.1.9 2 2 2h14c1.1 0 2-.9 2-2V5c0-1.1-.9-2-2-2zM9 17H7v-7h2v7zm4 0h-2V7h2v10zm4 0h-2v-4h2v4z\"/>\n",
              "    </g>\n",
              "</svg>\n",
              "  </button>\n",
              "\n",
              "<style>\n",
              "  .colab-df-quickchart {\n",
              "      --bg-color: #E8F0FE;\n",
              "      --fill-color: #1967D2;\n",
              "      --hover-bg-color: #E2EBFA;\n",
              "      --hover-fill-color: #174EA6;\n",
              "      --disabled-fill-color: #AAA;\n",
              "      --disabled-bg-color: #DDD;\n",
              "  }\n",
              "\n",
              "  [theme=dark] .colab-df-quickchart {\n",
              "      --bg-color: #3B4455;\n",
              "      --fill-color: #D2E3FC;\n",
              "      --hover-bg-color: #434B5C;\n",
              "      --hover-fill-color: #FFFFFF;\n",
              "      --disabled-bg-color: #3B4455;\n",
              "      --disabled-fill-color: #666;\n",
              "  }\n",
              "\n",
              "  .colab-df-quickchart {\n",
              "    background-color: var(--bg-color);\n",
              "    border: none;\n",
              "    border-radius: 50%;\n",
              "    cursor: pointer;\n",
              "    display: none;\n",
              "    fill: var(--fill-color);\n",
              "    height: 32px;\n",
              "    padding: 0;\n",
              "    width: 32px;\n",
              "  }\n",
              "\n",
              "  .colab-df-quickchart:hover {\n",
              "    background-color: var(--hover-bg-color);\n",
              "    box-shadow: 0 1px 2px rgba(60, 64, 67, 0.3), 0 1px 3px 1px rgba(60, 64, 67, 0.15);\n",
              "    fill: var(--button-hover-fill-color);\n",
              "  }\n",
              "\n",
              "  .colab-df-quickchart-complete:disabled,\n",
              "  .colab-df-quickchart-complete:disabled:hover {\n",
              "    background-color: var(--disabled-bg-color);\n",
              "    fill: var(--disabled-fill-color);\n",
              "    box-shadow: none;\n",
              "  }\n",
              "\n",
              "  .colab-df-spinner {\n",
              "    border: 2px solid var(--fill-color);\n",
              "    border-color: transparent;\n",
              "    border-bottom-color: var(--fill-color);\n",
              "    animation:\n",
              "      spin 1s steps(1) infinite;\n",
              "  }\n",
              "\n",
              "  @keyframes spin {\n",
              "    0% {\n",
              "      border-color: transparent;\n",
              "      border-bottom-color: var(--fill-color);\n",
              "      border-left-color: var(--fill-color);\n",
              "    }\n",
              "    20% {\n",
              "      border-color: transparent;\n",
              "      border-left-color: var(--fill-color);\n",
              "      border-top-color: var(--fill-color);\n",
              "    }\n",
              "    30% {\n",
              "      border-color: transparent;\n",
              "      border-left-color: var(--fill-color);\n",
              "      border-top-color: var(--fill-color);\n",
              "      border-right-color: var(--fill-color);\n",
              "    }\n",
              "    40% {\n",
              "      border-color: transparent;\n",
              "      border-right-color: var(--fill-color);\n",
              "      border-top-color: var(--fill-color);\n",
              "    }\n",
              "    60% {\n",
              "      border-color: transparent;\n",
              "      border-right-color: var(--fill-color);\n",
              "    }\n",
              "    80% {\n",
              "      border-color: transparent;\n",
              "      border-right-color: var(--fill-color);\n",
              "      border-bottom-color: var(--fill-color);\n",
              "    }\n",
              "    90% {\n",
              "      border-color: transparent;\n",
              "      border-bottom-color: var(--fill-color);\n",
              "    }\n",
              "  }\n",
              "</style>\n",
              "\n",
              "  <script>\n",
              "    async function quickchart(key) {\n",
              "      const quickchartButtonEl =\n",
              "        document.querySelector('#' + key + ' button');\n",
              "      quickchartButtonEl.disabled = true;  // To prevent multiple clicks.\n",
              "      quickchartButtonEl.classList.add('colab-df-spinner');\n",
              "      try {\n",
              "        const charts = await google.colab.kernel.invokeFunction(\n",
              "            'suggestCharts', [key], {});\n",
              "      } catch (error) {\n",
              "        console.error('Error during call to suggestCharts:', error);\n",
              "      }\n",
              "      quickchartButtonEl.classList.remove('colab-df-spinner');\n",
              "      quickchartButtonEl.classList.add('colab-df-quickchart-complete');\n",
              "    }\n",
              "    (() => {\n",
              "      let quickchartButtonEl =\n",
              "        document.querySelector('#df-e3319b9e-60ef-4fa4-839a-1f5191e8ee25 button');\n",
              "      quickchartButtonEl.style.display =\n",
              "        google.colab.kernel.accessAllowed ? 'block' : 'none';\n",
              "    })();\n",
              "  </script>\n",
              "</div>\n",
              "    </div>\n",
              "  </div>\n"
            ],
            "application/vnd.google.colaboratory.intrinsic+json": {
              "type": "dataframe",
              "variable_name": "df",
              "summary": "{\n  \"name\": \"df\",\n  \"rows\": 3,\n  \"fields\": [\n    {\n      \"column\": \"\\u043a\\u0443\\u043a\\u043b\\u0443\",\n      \"properties\": {\n        \"dtype\": \"number\",\n        \"std\": 0,\n        \"min\": 0,\n        \"max\": 1,\n        \"num_unique_values\": 2,\n        \"samples\": [\n          1,\n          0\n        ],\n        \"semantic_type\": \"\",\n        \"description\": \"\"\n      }\n    },\n    {\n      \"column\": \"\\u043c\\u0430\\u043c\\u0430\",\n      \"properties\": {\n        \"dtype\": \"number\",\n        \"std\": 0,\n        \"min\": 0,\n        \"max\": 1,\n        \"num_unique_values\": 2,\n        \"samples\": [\n          0,\n          1\n        ],\n        \"semantic_type\": \"\",\n        \"description\": \"\"\n      }\n    },\n    {\n      \"column\": \"\\u043c\\u0438\\u043b\\u0430\",\n      \"properties\": {\n        \"dtype\": \"number\",\n        \"std\": 0,\n        \"min\": 0,\n        \"max\": 1,\n        \"num_unique_values\": 2,\n        \"samples\": [\n          1,\n          0\n        ],\n        \"semantic_type\": \"\",\n        \"description\": \"\"\n      }\n    },\n    {\n      \"column\": \"\\u043c\\u044b\\u043b\\u0430\",\n      \"properties\": {\n        \"dtype\": \"number\",\n        \"std\": 0,\n        \"min\": 1,\n        \"max\": 2,\n        \"num_unique_values\": 2,\n        \"samples\": [\n          2,\n          1\n        ],\n        \"semantic_type\": \"\",\n        \"description\": \"\"\n      }\n    },\n    {\n      \"column\": \"\\u0440\\u0430\\u043c\\u0443\",\n      \"properties\": {\n        \"dtype\": \"number\",\n        \"std\": 0,\n        \"min\": 1,\n        \"max\": 2,\n        \"num_unique_values\": 2,\n        \"samples\": [\n          2,\n          1\n        ],\n        \"semantic_type\": \"\",\n        \"description\": \"\"\n      }\n    },\n    {\n      \"column\": \"\\u0440\\u0438\\u043c\\u043c\\u0430\",\n      \"properties\": {\n        \"dtype\": \"number\",\n        \"std\": 0,\n        \"min\": 0,\n        \"max\": 1,\n        \"num_unique_values\": 2,\n        \"samples\": [\n          1,\n          0\n        ],\n        \"semantic_type\": \"\",\n        \"description\": \"\"\n      }\n    }\n  ]\n}"
            }
          },
          "metadata": {},
          "execution_count": 169
        }
      ]
    },
    {
      "cell_type": "markdown",
      "source": [
        "Заметьте!\n",
        "- Мы здесь верим, что текст - это просто набор слов!\n",
        "- Не учитываем порядок слов.\n",
        "- Векторы слов рандомные, семантики не содержат."
      ],
      "metadata": {
        "id": "iUBzVJxj_7r7"
      }
    },
    {
      "cell_type": "markdown",
      "source": [
        "# TF-IDF - ещё один способ векторизации\n"
      ],
      "metadata": {
        "id": "vEsCcGdzrDw0"
      }
    },
    {
      "cell_type": "markdown",
      "source": [
        "### Отвлечёмся на вопрос: \"Как сравнить несколько текстов?\"\n",
        "\n",
        "Как понять, какой текст о чём?  Как выделить ключевые слова?\n",
        "\n",
        "Почему просто взять частотные - не самый лучший вариант?\n",
        "\n",
        "А если убрать стопслова?"
      ],
      "metadata": {
        "id": "Q-ZaaZyE8kDt"
      }
    },
    {
      "cell_type": "code",
      "source": [
        "! wget https://raw.githubusercontent.com/tbkazakova/compling_for_lyceum/main/data/oster/38popugajev.txt\n",
        "! wget https://raw.githubusercontent.com/tbkazakova/compling_for_lyceum/main/data/oster/babushka.txt\n",
        "! wget https://raw.githubusercontent.com/tbkazakova/compling_for_lyceum/main/data/oster/zaryadka.txt\n",
        "! wget https://raw.githubusercontent.com/tbkazakova/compling_for_lyceum/main/data/oster/idti.txt\n",
        "! wget https://raw.githubusercontent.com/tbkazakova/compling_for_lyceum/main/data/oster/lechit.txt\n",
        "! wget https://raw.githubusercontent.com/tbkazakova/compling_for_lyceum/main/data/oster/letet.txt\n",
        "! wget https://raw.githubusercontent.com/tbkazakova/compling_for_lyceum/main/data/oster/zakon.txt"
      ],
      "metadata": {
        "colab": {
          "base_uri": "https://localhost:8080/"
        },
        "collapsed": true,
        "id": "JvvRSMJgoFWT",
        "outputId": "a166b9e1-ad70-4e23-c70c-6271d24211c2"
      },
      "execution_count": null,
      "outputs": [
        {
          "output_type": "stream",
          "name": "stdout",
          "text": [
            "--2024-05-31 19:19:19--  https://raw.githubusercontent.com/tbkazakova/compling_for_lyceum/main/data/oster/38popugajev.txt\n",
            "Resolving raw.githubusercontent.com (raw.githubusercontent.com)... 185.199.110.133, 185.199.109.133, 185.199.111.133, ...\n",
            "Connecting to raw.githubusercontent.com (raw.githubusercontent.com)|185.199.110.133|:443... connected.\n",
            "HTTP request sent, awaiting response... 200 OK\n",
            "Length: 20456 (20K) [text/plain]\n",
            "Saving to: ‘38popugajev.txt’\n",
            "\n",
            "\r38popugajev.txt       0%[                    ]       0  --.-KB/s               \r38popugajev.txt     100%[===================>]  19.98K  --.-KB/s    in 0.002s  \n",
            "\n",
            "2024-05-31 19:19:19 (11.3 MB/s) - ‘38popugajev.txt’ saved [20456/20456]\n",
            "\n",
            "--2024-05-31 19:19:19--  https://raw.githubusercontent.com/tbkazakova/compling_for_lyceum/main/data/oster/babushka.txt\n",
            "Resolving raw.githubusercontent.com (raw.githubusercontent.com)... 185.199.111.133, 185.199.109.133, 185.199.110.133, ...\n",
            "Connecting to raw.githubusercontent.com (raw.githubusercontent.com)|185.199.111.133|:443... connected.\n",
            "HTTP request sent, awaiting response... 200 OK\n",
            "Length: 17906 (17K) [text/plain]\n",
            "Saving to: ‘babushka.txt’\n",
            "\n",
            "babushka.txt        100%[===================>]  17.49K  --.-KB/s    in 0.001s  \n",
            "\n",
            "2024-05-31 19:19:20 (14.0 MB/s) - ‘babushka.txt’ saved [17906/17906]\n",
            "\n",
            "--2024-05-31 19:19:20--  https://raw.githubusercontent.com/tbkazakova/compling_for_lyceum/main/data/oster/zaryadka.txt\n",
            "Resolving raw.githubusercontent.com (raw.githubusercontent.com)... 185.199.111.133, 185.199.109.133, 185.199.110.133, ...\n",
            "Connecting to raw.githubusercontent.com (raw.githubusercontent.com)|185.199.111.133|:443... connected.\n",
            "HTTP request sent, awaiting response... 200 OK\n",
            "Length: 18270 (18K) [text/plain]\n",
            "Saving to: ‘zaryadka.txt’\n",
            "\n",
            "zaryadka.txt        100%[===================>]  17.84K  --.-KB/s    in 0.002s  \n",
            "\n",
            "2024-05-31 19:19:20 (8.09 MB/s) - ‘zaryadka.txt’ saved [18270/18270]\n",
            "\n",
            "--2024-05-31 19:19:20--  https://raw.githubusercontent.com/tbkazakova/compling_for_lyceum/main/data/oster/idti.txt\n",
            "Resolving raw.githubusercontent.com (raw.githubusercontent.com)... 185.199.111.133, 185.199.109.133, 185.199.110.133, ...\n",
            "Connecting to raw.githubusercontent.com (raw.githubusercontent.com)|185.199.111.133|:443... connected.\n",
            "HTTP request sent, awaiting response... 200 OK\n",
            "Length: 12693 (12K) [text/plain]\n",
            "Saving to: ‘idti.txt’\n",
            "\n",
            "idti.txt            100%[===================>]  12.40K  --.-KB/s    in 0.001s  \n",
            "\n",
            "2024-05-31 19:19:20 (19.2 MB/s) - ‘idti.txt’ saved [12693/12693]\n",
            "\n",
            "--2024-05-31 19:19:20--  https://raw.githubusercontent.com/tbkazakova/compling_for_lyceum/main/data/oster/lechit.txt\n",
            "Resolving raw.githubusercontent.com (raw.githubusercontent.com)... 185.199.111.133, 185.199.109.133, 185.199.110.133, ...\n",
            "Connecting to raw.githubusercontent.com (raw.githubusercontent.com)|185.199.111.133|:443... connected.\n",
            "HTTP request sent, awaiting response... 200 OK\n",
            "Length: 21939 (21K) [text/plain]\n",
            "Saving to: ‘lechit.txt’\n",
            "\n",
            "lechit.txt          100%[===================>]  21.42K  --.-KB/s    in 0.002s  \n",
            "\n",
            "2024-05-31 19:19:21 (11.3 MB/s) - ‘lechit.txt’ saved [21939/21939]\n",
            "\n",
            "--2024-05-31 19:19:21--  https://raw.githubusercontent.com/tbkazakova/compling_for_lyceum/main/data/oster/letet.txt\n",
            "Resolving raw.githubusercontent.com (raw.githubusercontent.com)... 185.199.111.133, 185.199.109.133, 185.199.110.133, ...\n",
            "Connecting to raw.githubusercontent.com (raw.githubusercontent.com)|185.199.111.133|:443... connected.\n",
            "HTTP request sent, awaiting response... 200 OK\n",
            "Length: 12393 (12K) [text/plain]\n",
            "Saving to: ‘letet.txt’\n",
            "\n",
            "letet.txt           100%[===================>]  12.10K  --.-KB/s    in 0.001s  \n",
            "\n",
            "2024-05-31 19:19:21 (19.0 MB/s) - ‘letet.txt’ saved [12393/12393]\n",
            "\n",
            "--2024-05-31 19:19:21--  https://raw.githubusercontent.com/tbkazakova/compling_for_lyceum/main/data/oster/zakon.txt\n",
            "Resolving raw.githubusercontent.com (raw.githubusercontent.com)... 185.199.111.133, 185.199.109.133, 185.199.110.133, ...\n",
            "Connecting to raw.githubusercontent.com (raw.githubusercontent.com)|185.199.111.133|:443... connected.\n",
            "HTTP request sent, awaiting response... 200 OK\n",
            "Length: 9056 (8.8K) [text/plain]\n",
            "Saving to: ‘zakon.txt’\n",
            "\n",
            "zakon.txt           100%[===================>]   8.84K  --.-KB/s    in 0s      \n",
            "\n",
            "2024-05-31 19:19:21 (19.9 MB/s) - ‘zakon.txt’ saved [9056/9056]\n",
            "\n"
          ]
        }
      ]
    },
    {
      "cell_type": "code",
      "source": [
        "file_list = os.listdir()  # список файлов и папок в директории, где запущена программа\n",
        "file_list"
      ],
      "metadata": {
        "colab": {
          "base_uri": "https://localhost:8080/"
        },
        "id": "Rs-gerpJ5x2p",
        "outputId": "3c2c928a-32d4-4a66-ed0d-f00ee286eae8"
      },
      "execution_count": null,
      "outputs": [
        {
          "output_type": "execute_result",
          "data": {
            "text/plain": [
              "['.config',\n",
              " 'lechit.txt',\n",
              " '38popugajev.txt',\n",
              " 'zaryadka.txt',\n",
              " 'zakon.txt',\n",
              " 'letet.txt',\n",
              " 'idti.txt',\n",
              " 'babushka.txt',\n",
              " 'sample_data']"
            ]
          },
          "metadata": {},
          "execution_count": 7
        }
      ]
    },
    {
      "cell_type": "code",
      "source": [
        "txt_list = [filename for filename in file_list if filename.endswith('.txt')]\n",
        "txt_list"
      ],
      "metadata": {
        "colab": {
          "base_uri": "https://localhost:8080/"
        },
        "id": "MtnAfyNaqDtV",
        "outputId": "32f3bd24-a05b-4944-9909-371208f759fb"
      },
      "execution_count": null,
      "outputs": [
        {
          "output_type": "execute_result",
          "data": {
            "text/plain": [
              "['lechit.txt',\n",
              " '38popugajev.txt',\n",
              " 'zaryadka.txt',\n",
              " 'zakon.txt',\n",
              " 'letet.txt',\n",
              " 'idti.txt',\n",
              " 'babushka.txt']"
            ]
          },
          "metadata": {},
          "execution_count": 8
        }
      ]
    },
    {
      "cell_type": "code",
      "source": [
        "name_text = {}\n",
        "text_lex = {}\n",
        "for filename in txt_list:\n",
        "    with open(filename, encoding='UTF-8') as f:\n",
        "        text = f.read()\n",
        "    name_text[filename[:-4]] = text\n",
        "    lemmas = m.lemmatize(text)\n",
        "    words = [l for l in lemmas if l.isalpha()]\n",
        "    text_lex[filename[:-4]] = words  # получили словарь {название текста: список лемм}"
      ],
      "metadata": {
        "id": "V_mTvrAG68te"
      },
      "execution_count": null,
      "outputs": []
    },
    {
      "cell_type": "code",
      "source": [
        "list(text_lex.keys())"
      ],
      "metadata": {
        "colab": {
          "base_uri": "https://localhost:8080/"
        },
        "id": "hFR_79qK9Txp",
        "outputId": "ff148c17-d65b-4ff8-ce66-9ac15eb398b5"
      },
      "execution_count": null,
      "outputs": [
        {
          "output_type": "execute_result",
          "data": {
            "text/plain": [
              "['lechit', 'idti', 'zakon', 'babushka', '38popugajev', 'letet', 'zaryadka']"
            ]
          },
          "metadata": {},
          "execution_count": 14
        }
      ]
    },
    {
      "cell_type": "code",
      "source": [
        "text_lex['38popugajev'][:20]"
      ],
      "metadata": {
        "colab": {
          "base_uri": "https://localhost:8080/"
        },
        "id": "toC78b3E-TKH",
        "outputId": "2a8958da-4c02-49b3-dfc3-1d06a250c4e4"
      },
      "execution_count": null,
      "outputs": [
        {
          "output_type": "execute_result",
          "data": {
            "text/plain": [
              "['удав',\n",
              " 'склоняться',\n",
              " 'над',\n",
              " 'трава',\n",
              " 'и',\n",
              " 'рассматривать',\n",
              " 'мартышка',\n",
              " 'очень',\n",
              " 'осторожно',\n",
              " 'на',\n",
              " 'цыпочки',\n",
              " 'подходить',\n",
              " 'к',\n",
              " 'удав',\n",
              " 'и',\n",
              " 'тоже',\n",
              " 'посмотреть',\n",
              " 'в',\n",
              " 'трава',\n",
              " 'ползти']"
            ]
          },
          "metadata": {},
          "execution_count": 15
        }
      ]
    },
    {
      "cell_type": "markdown",
      "source": [
        "- сравнить самые частотные слова"
      ],
      "metadata": {
        "id": "OcRSAnIrBPYD"
      }
    },
    {
      "cell_type": "code",
      "source": [
        "for text in text_lex:\n",
        "    print(text)\n",
        "    fdist = collections.Counter(text_lex[text])\n",
        "    print(fdist.most_common(15))"
      ],
      "metadata": {
        "colab": {
          "base_uri": "https://localhost:8080/"
        },
        "id": "yCxHE7uVYvDy",
        "outputId": "fee44605-8ac6-49c0-9aff-9f6856927d3d"
      },
      "execution_count": null,
      "outputs": [
        {
          "output_type": "stream",
          "name": "stdout",
          "text": [
            "lechit\n",
            "[('не', 71), ('и', 69), ('удав', 63), ('мартышка', 60), ('сказать', 52), ('ты', 50), ('я', 44), ('а', 39), ('слоненок', 38), ('попугай', 38), ('что', 36), ('он', 31), ('это', 31), ('в', 23), ('она', 21)]\n",
            "idti\n",
            "[('он', 47), ('не', 45), ('идти', 45), ('попугай', 42), ('и', 38), ('мартышка', 36), ('слоненок', 34), ('я', 29), ('что', 25), ('быть', 22), ('а', 20), ('сказать', 20), ('куда', 16), ('мы', 16), ('пойти', 14)]\n",
            "zakon\n",
            "[('удав', 31), ('он', 27), ('и', 24), ('мартышка', 23), ('не', 19), ('орех', 15), ('закон', 15), ('быть', 14), ('по', 14), ('попугай', 14), ('сказать', 12), ('а', 12), ('слоненок', 12), ('нет', 11), ('что', 10)]\n",
            "babushka\n",
            "[('и', 61), ('бабушка', 52), ('мартышка', 47), ('а', 40), ('слоненок', 37), ('удав', 34), ('сказать', 34), ('попугай', 30), ('на', 28), ('я', 27), ('она', 26), ('ты', 26), ('не', 26), ('что', 25), ('в', 24)]\n",
            "38popugajev\n",
            "[('удав', 84), ('и', 58), ('мартышка', 58), ('он', 49), ('попугай', 48), ('сказать', 40), ('а', 35), ('не', 35), ('я', 30), ('хвост', 29), ('слоненок', 27), ('в', 26), ('что', 26), ('ты', 24), ('голова', 23)]\n",
            "letet\n",
            "[('попугай', 56), ('и', 43), ('я', 32), ('не', 31), ('удав', 30), ('слоненок', 29), ('мартышка', 26), ('он', 23), ('а', 22), ('сказать', 21), ('ты', 21), ('что', 17), ('в', 16), ('на', 15), ('как', 13)]\n",
            "zaryadka\n",
            "[('и', 74), ('мартышка', 52), ('удав', 35), ('попугай', 32), ('слоненок', 32), ('я', 31), ('зарядка', 31), ('на', 30), ('а', 30), ('не', 26), ('нога', 25), ('ты', 24), ('делать', 22), ('спрашивать', 21), ('сказать', 21)]\n"
          ]
        }
      ]
    },
    {
      "cell_type": "markdown",
      "source": [
        "Ну вот, стопслова не убрали. Убираем."
      ],
      "metadata": {
        "id": "w-AUTQEbhyZA"
      }
    },
    {
      "cell_type": "code",
      "source": [
        "text_lex_nostopw = {}\n",
        "for filename in text_lex:\n",
        "    words_nostopw = []\n",
        "    for word in text_lex[filename]:\n",
        "        if word not in stopwords:\n",
        "            words_nostopw.append(word)\n",
        "    text_lex_nostopw[filename] = words_nostopw"
      ],
      "metadata": {
        "id": "qtBysNCuh2kD"
      },
      "execution_count": null,
      "outputs": []
    },
    {
      "cell_type": "code",
      "source": [
        "for text in text_lex_nostopw:\n",
        "    print(text)\n",
        "    fdist = collections.Counter(text_lex_nostopw[text])\n",
        "    print(fdist.most_common(15))"
      ],
      "metadata": {
        "colab": {
          "base_uri": "https://localhost:8080/"
        },
        "id": "qogOZB6ahnEr",
        "outputId": "c6fb2f8d-59b2-48ef-98e8-92926f2767d9"
      },
      "execution_count": null,
      "outputs": [
        {
          "output_type": "stream",
          "name": "stdout",
          "text": [
            "lechit\n",
            "[('удав', 63), ('мартышка', 60), ('сказать', 52), ('слоненок', 38), ('попугай', 38), ('это', 31), ('орех', 21), ('думать', 20), ('куча', 20), ('лежать', 19), ('спрашивать', 17), ('очень', 11), ('знать', 11), ('ходить', 11), ('весь', 10)]\n",
            "idti\n",
            "[('идти', 45), ('попугай', 42), ('мартышка', 36), ('слоненок', 34), ('сказать', 20), ('пойти', 14), ('почему', 11), ('удав', 11), ('гулять', 10), ('знать', 8), ('спрашивать', 7), ('закричать', 7), ('например', 7), ('колючий', 7), ('это', 6)]\n",
            "zakon\n",
            "[('удав', 31), ('мартышка', 23), ('орех', 15), ('закон', 15), ('попугай', 14), ('сказать', 12), ('слоненок', 12), ('хвост', 10), ('это', 8), ('самый', 8), ('упасть', 6), ('умный', 6), ('голова', 6), ('бросать', 5), ('спрашивать', 5)]\n",
            "babushka\n",
            "[('бабушка', 52), ('мартышка', 47), ('слоненок', 37), ('удав', 34), ('сказать', 34), ('попугай', 30), ('банан', 19), ('это', 14), ('очень', 13), ('ждать', 12), ('свой', 12), ('приезжать', 9), ('здравствовать', 8), ('сторона', 8), ('гулять', 8)]\n",
            "38popugajev\n",
            "[('удав', 84), ('мартышка', 58), ('попугай', 48), ('сказать', 40), ('хвост', 29), ('слоненок', 27), ('голова', 23), ('спрашивать', 22), ('рост', 22), ('это', 19), ('очень', 17), ('измерять', 15), ('ползти', 14), ('свой', 13), ('знать', 12)]\n",
            "letet\n",
            "[('попугай', 56), ('удав', 30), ('слоненок', 29), ('мартышка', 26), ('сказать', 21), ('спрашивать', 10), ('полететь', 10), ('это', 10), ('гнездо', 9), ('получаться', 9), ('почему', 8), ('крыло', 8), ('уметь', 8), ('летать', 8), ('попробовать', 6)]\n",
            "zaryadka\n",
            "[('мартышка', 52), ('удав', 35), ('попугай', 32), ('слоненок', 32), ('зарядка', 31), ('нога', 25), ('делать', 22), ('спрашивать', 21), ('сказать', 21), ('вместе', 21), ('падать', 20), ('хвост', 18), ('это', 15), ('весь', 13), ('упражнение', 11)]\n"
          ]
        }
      ]
    },
    {
      "cell_type": "markdown",
      "source": [
        "- а ещё можно биграммы и триграммы посмотреть (больше совпадений - тексты ближе)"
      ],
      "metadata": {
        "id": "J5hSXS6EYylQ"
      }
    },
    {
      "cell_type": "code",
      "source": [
        "bigr_l = list(nltk.bigrams(text_lex_nostopw['38popugajev']))\n",
        "bigr_counter = collections.Counter(bigr_l)\n",
        "bigr_counter.most_common(10)"
      ],
      "metadata": {
        "colab": {
          "base_uri": "https://localhost:8080/"
        },
        "id": "t52rTh-1bCb6",
        "outputId": "264dce9c-3466-4c81-b102-2559aa89d2a7"
      },
      "execution_count": null,
      "outputs": [
        {
          "output_type": "execute_result",
          "data": {
            "text/plain": [
              "[(('сказать', 'попугай'), 11),\n",
              " (('сказать', 'мартышка'), 10),\n",
              " (('сказать', 'удав'), 8),\n",
              " (('свой', 'рост'), 8),\n",
              " (('спрашивать', 'мартышка'), 7),\n",
              " (('слоненок', 'мартышка'), 6),\n",
              " (('измерять', 'свой'), 5),\n",
              " (('твой', 'рост'), 5),\n",
              " (('удав', 'сказать'), 5),\n",
              " (('спрашивать', 'слоненок'), 5)]"
            ]
          },
          "metadata": {},
          "execution_count": 25
        }
      ]
    },
    {
      "cell_type": "code",
      "source": [
        "thgr_l = list(nltk.ngrams(text_lex_nostopw['38popugajev'], 3))\n",
        "thgr_counter = collections.Counter(thgr_l)\n",
        "thgr_counter.most_common(10)"
      ],
      "metadata": {
        "colab": {
          "base_uri": "https://localhost:8080/"
        },
        "id": "GOR4mJfQxxsb",
        "outputId": "db6580fe-da6f-4155-94cf-e02b8a5e36fb"
      },
      "execution_count": null,
      "outputs": [
        {
          "output_type": "execute_result",
          "data": {
            "text/plain": [
              "[(('измерять', 'свой', 'рост'), 5),\n",
              " (('измерять', 'твой', 'рост'), 3),\n",
              " (('удав', 'сказать', 'попугай'), 3),\n",
              " (('ползти', 'ползти', 'спрашивать'), 2),\n",
              " (('ползти', 'спрашивать', 'мартышка'), 2),\n",
              " (('удав', 'ползти', 'ползти'), 2),\n",
              " (('сказать', 'мартышка', 'это'), 2),\n",
              " (('удав', 'принимать', 'решение'), 2),\n",
              " (('свой', 'рост', 'просто'), 2),\n",
              " (('сказать', 'мартышка', 'складываться'), 2)]"
            ]
          },
          "metadata": {},
          "execution_count": 26
        }
      ]
    },
    {
      "cell_type": "markdown",
      "source": [
        "Во всех текстах одни и те же главные герои. Везде частотны слова 'попугай', 'слоненок', 'удав', 'мартышка'. Получается, тексты похожи.\n",
        "\n",
        "Но нам важно понимать, чем они отличаются.\n",
        "\n",
        "Интереснее смотреть на слова, которые в отдельных текстах частотные, а при этом в коллекции документов редкие.\n",
        "\n",
        "**Есть метод!**\n",
        "\n",
        "# TF-IDF\n",
        "\n",
        "- TF — term frequency - частота слова внутри документа\n",
        "- IDF — inverse document frequency - log(кол-во документов в корпусе/кол-во документов с этим словом)\n",
        "\n",
        "**TF-IDF = TF * IDF**\n",
        "\n",
        "Чем больше TF-IDF, тем важнее слово.\n",
        "\n",
        "\\#(логарифм натуральный, по основанию e≈2,72, но можно и другой)\n",
        "\n",
        "IDF придумала Karen Spärck Jones (в 1972 году).\n",
        "\n",
        "IDF можно считать немного по-другому. Например, добавляют единицу, чтоб избежать возможнонго деления на ноль: log(кол-во документов в корпусе**+1**/кол-во документов с этим словом**+1**)"
      ],
      "metadata": {
        "id": "jLGXfyAoBh5v"
      }
    },
    {
      "cell_type": "code",
      "source": [
        "import pandas as pd"
      ],
      "metadata": {
        "id": "N762kty3kJP6"
      },
      "execution_count": null,
      "outputs": []
    },
    {
      "cell_type": "markdown",
      "source": [
        "Давайте сначала на 3х коротких текстах"
      ],
      "metadata": {
        "id": "lgCrzbdVzdJ8"
      }
    },
    {
      "cell_type": "code",
      "source": [
        "documentA = 'мама мыла раму'\n",
        "documentB = 'Мила мыла куклу и раму'\n",
        "documentC = 'Римма мыла раму и мама мыла раму'"
      ],
      "metadata": {
        "id": "qq9wkgjpUlfJ"
      },
      "execution_count": null,
      "outputs": []
    },
    {
      "cell_type": "code",
      "source": [
        "bagOfWordsA = documentA.split(' ')\n",
        "bagOfWordsB = documentB.split(' ')\n",
        "bagOfWordsC = documentC.split(' ')"
      ],
      "metadata": {
        "id": "N_FMxILjUtJJ"
      },
      "execution_count": null,
      "outputs": []
    },
    {
      "cell_type": "code",
      "source": [
        "uniqueWords = set(bagOfWordsA + bagOfWordsB + bagOfWordsC)"
      ],
      "metadata": {
        "id": "g2U-p8cKUvNb"
      },
      "execution_count": null,
      "outputs": []
    },
    {
      "cell_type": "code",
      "source": [
        "# Вот все слова, которые встретились в текстах\n",
        "uniqueWords"
      ],
      "metadata": {
        "colab": {
          "base_uri": "https://localhost:8080/"
        },
        "id": "OJkpugLKBRUD",
        "outputId": "55ecaacc-f965-40a9-c8c3-16e44277fd96"
      },
      "execution_count": null,
      "outputs": [
        {
          "output_type": "execute_result",
          "data": {
            "text/plain": [
              "{'Мила', 'Римма', 'и', 'куклу', 'мама', 'мыла', 'раму'}"
            ]
          },
          "metadata": {},
          "execution_count": 32
        }
      ]
    },
    {
      "cell_type": "markdown",
      "source": [
        "Делаем словарь {слово: кол-во употреблений} для каждого текста.\n"
      ],
      "metadata": {
        "id": "lewkvLRZlY9o"
      }
    },
    {
      "cell_type": "code",
      "source": [
        "numOfWordsA = dict.fromkeys(uniqueWords, 0)\n",
        "for word in bagOfWordsA:\n",
        "    numOfWordsA[word] += 1\n",
        "numOfWordsB = dict.fromkeys(uniqueWords, 0)\n",
        "for word in bagOfWordsB:\n",
        "    numOfWordsB[word] += 1\n",
        "numOfWordsC = dict.fromkeys(uniqueWords, 0)\n",
        "for word in bagOfWordsC:\n",
        "    numOfWordsC[word] += 1"
      ],
      "metadata": {
        "id": "eUHj4cBgUycu"
      },
      "execution_count": null,
      "outputs": []
    },
    {
      "cell_type": "code",
      "source": [
        "# В первом тексте столько раз встретилось каждое из слов\n",
        "numOfWordsA"
      ],
      "metadata": {
        "colab": {
          "base_uri": "https://localhost:8080/"
        },
        "id": "3R-3bwl5U2mX",
        "outputId": "c091fe3a-b072-4510-bcbf-ff861d9dfdbe"
      },
      "execution_count": null,
      "outputs": [
        {
          "output_type": "execute_result",
          "data": {
            "text/plain": [
              "{'раму': 1, 'Римма': 0, 'Мила': 0, 'куклу': 0, 'и': 0, 'мама': 1, 'мыла': 1}"
            ]
          },
          "metadata": {},
          "execution_count": 34
        }
      ]
    },
    {
      "cell_type": "code",
      "source": [
        "pd.DataFrame([numOfWordsA, numOfWordsB, numOfWordsC])"
      ],
      "metadata": {
        "colab": {
          "base_uri": "https://localhost:8080/",
          "height": 143
        },
        "id": "ZR3eZtmsCJL5",
        "outputId": "d6d3ecca-7e93-43e9-85fe-1755f4bee41c"
      },
      "execution_count": null,
      "outputs": [
        {
          "output_type": "execute_result",
          "data": {
            "text/plain": [
              "   раму  Римма  Мила  куклу  и  мама  мыла\n",
              "0     1      0     0      0  0     1     1\n",
              "1     1      0     1      1  1     0     1\n",
              "2     2      1     0      0  1     1     2"
            ],
            "text/html": [
              "\n",
              "  <div id=\"df-3d7ef20c-e06d-4368-a1c3-2503f7cfb3fc\" class=\"colab-df-container\">\n",
              "    <div>\n",
              "<style scoped>\n",
              "    .dataframe tbody tr th:only-of-type {\n",
              "        vertical-align: middle;\n",
              "    }\n",
              "\n",
              "    .dataframe tbody tr th {\n",
              "        vertical-align: top;\n",
              "    }\n",
              "\n",
              "    .dataframe thead th {\n",
              "        text-align: right;\n",
              "    }\n",
              "</style>\n",
              "<table border=\"1\" class=\"dataframe\">\n",
              "  <thead>\n",
              "    <tr style=\"text-align: right;\">\n",
              "      <th></th>\n",
              "      <th>раму</th>\n",
              "      <th>Римма</th>\n",
              "      <th>Мила</th>\n",
              "      <th>куклу</th>\n",
              "      <th>и</th>\n",
              "      <th>мама</th>\n",
              "      <th>мыла</th>\n",
              "    </tr>\n",
              "  </thead>\n",
              "  <tbody>\n",
              "    <tr>\n",
              "      <th>0</th>\n",
              "      <td>1</td>\n",
              "      <td>0</td>\n",
              "      <td>0</td>\n",
              "      <td>0</td>\n",
              "      <td>0</td>\n",
              "      <td>1</td>\n",
              "      <td>1</td>\n",
              "    </tr>\n",
              "    <tr>\n",
              "      <th>1</th>\n",
              "      <td>1</td>\n",
              "      <td>0</td>\n",
              "      <td>1</td>\n",
              "      <td>1</td>\n",
              "      <td>1</td>\n",
              "      <td>0</td>\n",
              "      <td>1</td>\n",
              "    </tr>\n",
              "    <tr>\n",
              "      <th>2</th>\n",
              "      <td>2</td>\n",
              "      <td>1</td>\n",
              "      <td>0</td>\n",
              "      <td>0</td>\n",
              "      <td>1</td>\n",
              "      <td>1</td>\n",
              "      <td>2</td>\n",
              "    </tr>\n",
              "  </tbody>\n",
              "</table>\n",
              "</div>\n",
              "    <div class=\"colab-df-buttons\">\n",
              "\n",
              "  <div class=\"colab-df-container\">\n",
              "    <button class=\"colab-df-convert\" onclick=\"convertToInteractive('df-3d7ef20c-e06d-4368-a1c3-2503f7cfb3fc')\"\n",
              "            title=\"Convert this dataframe to an interactive table.\"\n",
              "            style=\"display:none;\">\n",
              "\n",
              "  <svg xmlns=\"http://www.w3.org/2000/svg\" height=\"24px\" viewBox=\"0 -960 960 960\">\n",
              "    <path d=\"M120-120v-720h720v720H120Zm60-500h600v-160H180v160Zm220 220h160v-160H400v160Zm0 220h160v-160H400v160ZM180-400h160v-160H180v160Zm440 0h160v-160H620v160ZM180-180h160v-160H180v160Zm440 0h160v-160H620v160Z\"/>\n",
              "  </svg>\n",
              "    </button>\n",
              "\n",
              "  <style>\n",
              "    .colab-df-container {\n",
              "      display:flex;\n",
              "      gap: 12px;\n",
              "    }\n",
              "\n",
              "    .colab-df-convert {\n",
              "      background-color: #E8F0FE;\n",
              "      border: none;\n",
              "      border-radius: 50%;\n",
              "      cursor: pointer;\n",
              "      display: none;\n",
              "      fill: #1967D2;\n",
              "      height: 32px;\n",
              "      padding: 0 0 0 0;\n",
              "      width: 32px;\n",
              "    }\n",
              "\n",
              "    .colab-df-convert:hover {\n",
              "      background-color: #E2EBFA;\n",
              "      box-shadow: 0px 1px 2px rgba(60, 64, 67, 0.3), 0px 1px 3px 1px rgba(60, 64, 67, 0.15);\n",
              "      fill: #174EA6;\n",
              "    }\n",
              "\n",
              "    .colab-df-buttons div {\n",
              "      margin-bottom: 4px;\n",
              "    }\n",
              "\n",
              "    [theme=dark] .colab-df-convert {\n",
              "      background-color: #3B4455;\n",
              "      fill: #D2E3FC;\n",
              "    }\n",
              "\n",
              "    [theme=dark] .colab-df-convert:hover {\n",
              "      background-color: #434B5C;\n",
              "      box-shadow: 0px 1px 3px 1px rgba(0, 0, 0, 0.15);\n",
              "      filter: drop-shadow(0px 1px 2px rgba(0, 0, 0, 0.3));\n",
              "      fill: #FFFFFF;\n",
              "    }\n",
              "  </style>\n",
              "\n",
              "    <script>\n",
              "      const buttonEl =\n",
              "        document.querySelector('#df-3d7ef20c-e06d-4368-a1c3-2503f7cfb3fc button.colab-df-convert');\n",
              "      buttonEl.style.display =\n",
              "        google.colab.kernel.accessAllowed ? 'block' : 'none';\n",
              "\n",
              "      async function convertToInteractive(key) {\n",
              "        const element = document.querySelector('#df-3d7ef20c-e06d-4368-a1c3-2503f7cfb3fc');\n",
              "        const dataTable =\n",
              "          await google.colab.kernel.invokeFunction('convertToInteractive',\n",
              "                                                    [key], {});\n",
              "        if (!dataTable) return;\n",
              "\n",
              "        const docLinkHtml = 'Like what you see? Visit the ' +\n",
              "          '<a target=\"_blank\" href=https://colab.research.google.com/notebooks/data_table.ipynb>data table notebook</a>'\n",
              "          + ' to learn more about interactive tables.';\n",
              "        element.innerHTML = '';\n",
              "        dataTable['output_type'] = 'display_data';\n",
              "        await google.colab.output.renderOutput(dataTable, element);\n",
              "        const docLink = document.createElement('div');\n",
              "        docLink.innerHTML = docLinkHtml;\n",
              "        element.appendChild(docLink);\n",
              "      }\n",
              "    </script>\n",
              "  </div>\n",
              "\n",
              "\n",
              "<div id=\"df-ba3ce9ce-1de7-4f4e-86a6-38b95703eda4\">\n",
              "  <button class=\"colab-df-quickchart\" onclick=\"quickchart('df-ba3ce9ce-1de7-4f4e-86a6-38b95703eda4')\"\n",
              "            title=\"Suggest charts\"\n",
              "            style=\"display:none;\">\n",
              "\n",
              "<svg xmlns=\"http://www.w3.org/2000/svg\" height=\"24px\"viewBox=\"0 0 24 24\"\n",
              "     width=\"24px\">\n",
              "    <g>\n",
              "        <path d=\"M19 3H5c-1.1 0-2 .9-2 2v14c0 1.1.9 2 2 2h14c1.1 0 2-.9 2-2V5c0-1.1-.9-2-2-2zM9 17H7v-7h2v7zm4 0h-2V7h2v10zm4 0h-2v-4h2v4z\"/>\n",
              "    </g>\n",
              "</svg>\n",
              "  </button>\n",
              "\n",
              "<style>\n",
              "  .colab-df-quickchart {\n",
              "      --bg-color: #E8F0FE;\n",
              "      --fill-color: #1967D2;\n",
              "      --hover-bg-color: #E2EBFA;\n",
              "      --hover-fill-color: #174EA6;\n",
              "      --disabled-fill-color: #AAA;\n",
              "      --disabled-bg-color: #DDD;\n",
              "  }\n",
              "\n",
              "  [theme=dark] .colab-df-quickchart {\n",
              "      --bg-color: #3B4455;\n",
              "      --fill-color: #D2E3FC;\n",
              "      --hover-bg-color: #434B5C;\n",
              "      --hover-fill-color: #FFFFFF;\n",
              "      --disabled-bg-color: #3B4455;\n",
              "      --disabled-fill-color: #666;\n",
              "  }\n",
              "\n",
              "  .colab-df-quickchart {\n",
              "    background-color: var(--bg-color);\n",
              "    border: none;\n",
              "    border-radius: 50%;\n",
              "    cursor: pointer;\n",
              "    display: none;\n",
              "    fill: var(--fill-color);\n",
              "    height: 32px;\n",
              "    padding: 0;\n",
              "    width: 32px;\n",
              "  }\n",
              "\n",
              "  .colab-df-quickchart:hover {\n",
              "    background-color: var(--hover-bg-color);\n",
              "    box-shadow: 0 1px 2px rgba(60, 64, 67, 0.3), 0 1px 3px 1px rgba(60, 64, 67, 0.15);\n",
              "    fill: var(--button-hover-fill-color);\n",
              "  }\n",
              "\n",
              "  .colab-df-quickchart-complete:disabled,\n",
              "  .colab-df-quickchart-complete:disabled:hover {\n",
              "    background-color: var(--disabled-bg-color);\n",
              "    fill: var(--disabled-fill-color);\n",
              "    box-shadow: none;\n",
              "  }\n",
              "\n",
              "  .colab-df-spinner {\n",
              "    border: 2px solid var(--fill-color);\n",
              "    border-color: transparent;\n",
              "    border-bottom-color: var(--fill-color);\n",
              "    animation:\n",
              "      spin 1s steps(1) infinite;\n",
              "  }\n",
              "\n",
              "  @keyframes spin {\n",
              "    0% {\n",
              "      border-color: transparent;\n",
              "      border-bottom-color: var(--fill-color);\n",
              "      border-left-color: var(--fill-color);\n",
              "    }\n",
              "    20% {\n",
              "      border-color: transparent;\n",
              "      border-left-color: var(--fill-color);\n",
              "      border-top-color: var(--fill-color);\n",
              "    }\n",
              "    30% {\n",
              "      border-color: transparent;\n",
              "      border-left-color: var(--fill-color);\n",
              "      border-top-color: var(--fill-color);\n",
              "      border-right-color: var(--fill-color);\n",
              "    }\n",
              "    40% {\n",
              "      border-color: transparent;\n",
              "      border-right-color: var(--fill-color);\n",
              "      border-top-color: var(--fill-color);\n",
              "    }\n",
              "    60% {\n",
              "      border-color: transparent;\n",
              "      border-right-color: var(--fill-color);\n",
              "    }\n",
              "    80% {\n",
              "      border-color: transparent;\n",
              "      border-right-color: var(--fill-color);\n",
              "      border-bottom-color: var(--fill-color);\n",
              "    }\n",
              "    90% {\n",
              "      border-color: transparent;\n",
              "      border-bottom-color: var(--fill-color);\n",
              "    }\n",
              "  }\n",
              "</style>\n",
              "\n",
              "  <script>\n",
              "    async function quickchart(key) {\n",
              "      const quickchartButtonEl =\n",
              "        document.querySelector('#' + key + ' button');\n",
              "      quickchartButtonEl.disabled = true;  // To prevent multiple clicks.\n",
              "      quickchartButtonEl.classList.add('colab-df-spinner');\n",
              "      try {\n",
              "        const charts = await google.colab.kernel.invokeFunction(\n",
              "            'suggestCharts', [key], {});\n",
              "      } catch (error) {\n",
              "        console.error('Error during call to suggestCharts:', error);\n",
              "      }\n",
              "      quickchartButtonEl.classList.remove('colab-df-spinner');\n",
              "      quickchartButtonEl.classList.add('colab-df-quickchart-complete');\n",
              "    }\n",
              "    (() => {\n",
              "      let quickchartButtonEl =\n",
              "        document.querySelector('#df-ba3ce9ce-1de7-4f4e-86a6-38b95703eda4 button');\n",
              "      quickchartButtonEl.style.display =\n",
              "        google.colab.kernel.accessAllowed ? 'block' : 'none';\n",
              "    })();\n",
              "  </script>\n",
              "</div>\n",
              "    </div>\n",
              "  </div>\n"
            ],
            "application/vnd.google.colaboratory.intrinsic+json": {
              "type": "dataframe",
              "summary": "{\n  \"name\": \"pd\",\n  \"rows\": 3,\n  \"fields\": [\n    {\n      \"column\": \"\\u0440\\u0430\\u043c\\u0443\",\n      \"properties\": {\n        \"dtype\": \"number\",\n        \"std\": 0,\n        \"min\": 1,\n        \"max\": 2,\n        \"num_unique_values\": 2,\n        \"samples\": [\n          2,\n          1\n        ],\n        \"semantic_type\": \"\",\n        \"description\": \"\"\n      }\n    },\n    {\n      \"column\": \"\\u0420\\u0438\\u043c\\u043c\\u0430\",\n      \"properties\": {\n        \"dtype\": \"number\",\n        \"std\": 0,\n        \"min\": 0,\n        \"max\": 1,\n        \"num_unique_values\": 2,\n        \"samples\": [\n          1,\n          0\n        ],\n        \"semantic_type\": \"\",\n        \"description\": \"\"\n      }\n    },\n    {\n      \"column\": \"\\u041c\\u0438\\u043b\\u0430\",\n      \"properties\": {\n        \"dtype\": \"number\",\n        \"std\": 0,\n        \"min\": 0,\n        \"max\": 1,\n        \"num_unique_values\": 2,\n        \"samples\": [\n          1,\n          0\n        ],\n        \"semantic_type\": \"\",\n        \"description\": \"\"\n      }\n    },\n    {\n      \"column\": \"\\u043a\\u0443\\u043a\\u043b\\u0443\",\n      \"properties\": {\n        \"dtype\": \"number\",\n        \"std\": 0,\n        \"min\": 0,\n        \"max\": 1,\n        \"num_unique_values\": 2,\n        \"samples\": [\n          1,\n          0\n        ],\n        \"semantic_type\": \"\",\n        \"description\": \"\"\n      }\n    },\n    {\n      \"column\": \"\\u0438\",\n      \"properties\": {\n        \"dtype\": \"number\",\n        \"std\": 0,\n        \"min\": 0,\n        \"max\": 1,\n        \"num_unique_values\": 2,\n        \"samples\": [\n          1,\n          0\n        ],\n        \"semantic_type\": \"\",\n        \"description\": \"\"\n      }\n    },\n    {\n      \"column\": \"\\u043c\\u0430\\u043c\\u0430\",\n      \"properties\": {\n        \"dtype\": \"number\",\n        \"std\": 0,\n        \"min\": 0,\n        \"max\": 1,\n        \"num_unique_values\": 2,\n        \"samples\": [\n          0,\n          1\n        ],\n        \"semantic_type\": \"\",\n        \"description\": \"\"\n      }\n    },\n    {\n      \"column\": \"\\u043c\\u044b\\u043b\\u0430\",\n      \"properties\": {\n        \"dtype\": \"number\",\n        \"std\": 0,\n        \"min\": 1,\n        \"max\": 2,\n        \"num_unique_values\": 2,\n        \"samples\": [\n          2,\n          1\n        ],\n        \"semantic_type\": \"\",\n        \"description\": \"\"\n      }\n    }\n  ]\n}"
            }
          },
          "metadata": {},
          "execution_count": 35
        }
      ]
    },
    {
      "cell_type": "markdown",
      "source": [
        "Считаем **TF** (частота слова внутри документа)"
      ],
      "metadata": {
        "id": "vt3ScS8xlw3q"
      }
    },
    {
      "cell_type": "code",
      "source": [
        "def computeTF(wordDict, bagOfWords):\n",
        "    tfDict = {}\n",
        "    bagOfWordsCount = len(bagOfWords)\n",
        "    for word, count in wordDict.items():\n",
        "        tfDict[word] = count / float(bagOfWordsCount)\n",
        "    return tfDict"
      ],
      "metadata": {
        "id": "GkVBc6b_VQs6"
      },
      "execution_count": null,
      "outputs": []
    },
    {
      "cell_type": "code",
      "source": [
        "tfA = computeTF(numOfWordsA, bagOfWordsA)\n",
        "tfB = computeTF(numOfWordsB, bagOfWordsB)\n",
        "tfC = computeTF(numOfWordsC, bagOfWordsC)"
      ],
      "metadata": {
        "id": "pUatNYMwVTtD"
      },
      "execution_count": null,
      "outputs": []
    },
    {
      "cell_type": "code",
      "source": [
        "pd.DataFrame([tfA, tfB, tfC])"
      ],
      "metadata": {
        "colab": {
          "base_uri": "https://localhost:8080/",
          "height": 143
        },
        "id": "0Y7a4leO2YX9",
        "outputId": "eb866525-3161-4264-c7f8-6c0acfb6adea"
      },
      "execution_count": null,
      "outputs": [
        {
          "output_type": "execute_result",
          "data": {
            "text/plain": [
              "      Римма  куклу      мыла      раму      мама         и  Мила\n",
              "0  0.000000    0.0  0.333333  0.333333  0.333333  0.000000   0.0\n",
              "1  0.000000    0.2  0.200000  0.200000  0.000000  0.200000   0.2\n",
              "2  0.142857    0.0  0.285714  0.285714  0.142857  0.142857   0.0"
            ],
            "text/html": [
              "\n",
              "  <div id=\"df-fae4f154-6c49-479f-9016-92df481ecad5\" class=\"colab-df-container\">\n",
              "    <div>\n",
              "<style scoped>\n",
              "    .dataframe tbody tr th:only-of-type {\n",
              "        vertical-align: middle;\n",
              "    }\n",
              "\n",
              "    .dataframe tbody tr th {\n",
              "        vertical-align: top;\n",
              "    }\n",
              "\n",
              "    .dataframe thead th {\n",
              "        text-align: right;\n",
              "    }\n",
              "</style>\n",
              "<table border=\"1\" class=\"dataframe\">\n",
              "  <thead>\n",
              "    <tr style=\"text-align: right;\">\n",
              "      <th></th>\n",
              "      <th>Римма</th>\n",
              "      <th>куклу</th>\n",
              "      <th>мыла</th>\n",
              "      <th>раму</th>\n",
              "      <th>мама</th>\n",
              "      <th>и</th>\n",
              "      <th>Мила</th>\n",
              "    </tr>\n",
              "  </thead>\n",
              "  <tbody>\n",
              "    <tr>\n",
              "      <th>0</th>\n",
              "      <td>0.000000</td>\n",
              "      <td>0.0</td>\n",
              "      <td>0.333333</td>\n",
              "      <td>0.333333</td>\n",
              "      <td>0.333333</td>\n",
              "      <td>0.000000</td>\n",
              "      <td>0.0</td>\n",
              "    </tr>\n",
              "    <tr>\n",
              "      <th>1</th>\n",
              "      <td>0.000000</td>\n",
              "      <td>0.2</td>\n",
              "      <td>0.200000</td>\n",
              "      <td>0.200000</td>\n",
              "      <td>0.000000</td>\n",
              "      <td>0.200000</td>\n",
              "      <td>0.2</td>\n",
              "    </tr>\n",
              "    <tr>\n",
              "      <th>2</th>\n",
              "      <td>0.142857</td>\n",
              "      <td>0.0</td>\n",
              "      <td>0.285714</td>\n",
              "      <td>0.285714</td>\n",
              "      <td>0.142857</td>\n",
              "      <td>0.142857</td>\n",
              "      <td>0.0</td>\n",
              "    </tr>\n",
              "  </tbody>\n",
              "</table>\n",
              "</div>\n",
              "    <div class=\"colab-df-buttons\">\n",
              "\n",
              "  <div class=\"colab-df-container\">\n",
              "    <button class=\"colab-df-convert\" onclick=\"convertToInteractive('df-fae4f154-6c49-479f-9016-92df481ecad5')\"\n",
              "            title=\"Convert this dataframe to an interactive table.\"\n",
              "            style=\"display:none;\">\n",
              "\n",
              "  <svg xmlns=\"http://www.w3.org/2000/svg\" height=\"24px\" viewBox=\"0 -960 960 960\">\n",
              "    <path d=\"M120-120v-720h720v720H120Zm60-500h600v-160H180v160Zm220 220h160v-160H400v160Zm0 220h160v-160H400v160ZM180-400h160v-160H180v160Zm440 0h160v-160H620v160ZM180-180h160v-160H180v160Zm440 0h160v-160H620v160Z\"/>\n",
              "  </svg>\n",
              "    </button>\n",
              "\n",
              "  <style>\n",
              "    .colab-df-container {\n",
              "      display:flex;\n",
              "      gap: 12px;\n",
              "    }\n",
              "\n",
              "    .colab-df-convert {\n",
              "      background-color: #E8F0FE;\n",
              "      border: none;\n",
              "      border-radius: 50%;\n",
              "      cursor: pointer;\n",
              "      display: none;\n",
              "      fill: #1967D2;\n",
              "      height: 32px;\n",
              "      padding: 0 0 0 0;\n",
              "      width: 32px;\n",
              "    }\n",
              "\n",
              "    .colab-df-convert:hover {\n",
              "      background-color: #E2EBFA;\n",
              "      box-shadow: 0px 1px 2px rgba(60, 64, 67, 0.3), 0px 1px 3px 1px rgba(60, 64, 67, 0.15);\n",
              "      fill: #174EA6;\n",
              "    }\n",
              "\n",
              "    .colab-df-buttons div {\n",
              "      margin-bottom: 4px;\n",
              "    }\n",
              "\n",
              "    [theme=dark] .colab-df-convert {\n",
              "      background-color: #3B4455;\n",
              "      fill: #D2E3FC;\n",
              "    }\n",
              "\n",
              "    [theme=dark] .colab-df-convert:hover {\n",
              "      background-color: #434B5C;\n",
              "      box-shadow: 0px 1px 3px 1px rgba(0, 0, 0, 0.15);\n",
              "      filter: drop-shadow(0px 1px 2px rgba(0, 0, 0, 0.3));\n",
              "      fill: #FFFFFF;\n",
              "    }\n",
              "  </style>\n",
              "\n",
              "    <script>\n",
              "      const buttonEl =\n",
              "        document.querySelector('#df-fae4f154-6c49-479f-9016-92df481ecad5 button.colab-df-convert');\n",
              "      buttonEl.style.display =\n",
              "        google.colab.kernel.accessAllowed ? 'block' : 'none';\n",
              "\n",
              "      async function convertToInteractive(key) {\n",
              "        const element = document.querySelector('#df-fae4f154-6c49-479f-9016-92df481ecad5');\n",
              "        const dataTable =\n",
              "          await google.colab.kernel.invokeFunction('convertToInteractive',\n",
              "                                                    [key], {});\n",
              "        if (!dataTable) return;\n",
              "\n",
              "        const docLinkHtml = 'Like what you see? Visit the ' +\n",
              "          '<a target=\"_blank\" href=https://colab.research.google.com/notebooks/data_table.ipynb>data table notebook</a>'\n",
              "          + ' to learn more about interactive tables.';\n",
              "        element.innerHTML = '';\n",
              "        dataTable['output_type'] = 'display_data';\n",
              "        await google.colab.output.renderOutput(dataTable, element);\n",
              "        const docLink = document.createElement('div');\n",
              "        docLink.innerHTML = docLinkHtml;\n",
              "        element.appendChild(docLink);\n",
              "      }\n",
              "    </script>\n",
              "  </div>\n",
              "\n",
              "\n",
              "<div id=\"df-cd2bb482-1abc-42ef-bbd9-39ef78fe2de7\">\n",
              "  <button class=\"colab-df-quickchart\" onclick=\"quickchart('df-cd2bb482-1abc-42ef-bbd9-39ef78fe2de7')\"\n",
              "            title=\"Suggest charts\"\n",
              "            style=\"display:none;\">\n",
              "\n",
              "<svg xmlns=\"http://www.w3.org/2000/svg\" height=\"24px\"viewBox=\"0 0 24 24\"\n",
              "     width=\"24px\">\n",
              "    <g>\n",
              "        <path d=\"M19 3H5c-1.1 0-2 .9-2 2v14c0 1.1.9 2 2 2h14c1.1 0 2-.9 2-2V5c0-1.1-.9-2-2-2zM9 17H7v-7h2v7zm4 0h-2V7h2v10zm4 0h-2v-4h2v4z\"/>\n",
              "    </g>\n",
              "</svg>\n",
              "  </button>\n",
              "\n",
              "<style>\n",
              "  .colab-df-quickchart {\n",
              "      --bg-color: #E8F0FE;\n",
              "      --fill-color: #1967D2;\n",
              "      --hover-bg-color: #E2EBFA;\n",
              "      --hover-fill-color: #174EA6;\n",
              "      --disabled-fill-color: #AAA;\n",
              "      --disabled-bg-color: #DDD;\n",
              "  }\n",
              "\n",
              "  [theme=dark] .colab-df-quickchart {\n",
              "      --bg-color: #3B4455;\n",
              "      --fill-color: #D2E3FC;\n",
              "      --hover-bg-color: #434B5C;\n",
              "      --hover-fill-color: #FFFFFF;\n",
              "      --disabled-bg-color: #3B4455;\n",
              "      --disabled-fill-color: #666;\n",
              "  }\n",
              "\n",
              "  .colab-df-quickchart {\n",
              "    background-color: var(--bg-color);\n",
              "    border: none;\n",
              "    border-radius: 50%;\n",
              "    cursor: pointer;\n",
              "    display: none;\n",
              "    fill: var(--fill-color);\n",
              "    height: 32px;\n",
              "    padding: 0;\n",
              "    width: 32px;\n",
              "  }\n",
              "\n",
              "  .colab-df-quickchart:hover {\n",
              "    background-color: var(--hover-bg-color);\n",
              "    box-shadow: 0 1px 2px rgba(60, 64, 67, 0.3), 0 1px 3px 1px rgba(60, 64, 67, 0.15);\n",
              "    fill: var(--button-hover-fill-color);\n",
              "  }\n",
              "\n",
              "  .colab-df-quickchart-complete:disabled,\n",
              "  .colab-df-quickchart-complete:disabled:hover {\n",
              "    background-color: var(--disabled-bg-color);\n",
              "    fill: var(--disabled-fill-color);\n",
              "    box-shadow: none;\n",
              "  }\n",
              "\n",
              "  .colab-df-spinner {\n",
              "    border: 2px solid var(--fill-color);\n",
              "    border-color: transparent;\n",
              "    border-bottom-color: var(--fill-color);\n",
              "    animation:\n",
              "      spin 1s steps(1) infinite;\n",
              "  }\n",
              "\n",
              "  @keyframes spin {\n",
              "    0% {\n",
              "      border-color: transparent;\n",
              "      border-bottom-color: var(--fill-color);\n",
              "      border-left-color: var(--fill-color);\n",
              "    }\n",
              "    20% {\n",
              "      border-color: transparent;\n",
              "      border-left-color: var(--fill-color);\n",
              "      border-top-color: var(--fill-color);\n",
              "    }\n",
              "    30% {\n",
              "      border-color: transparent;\n",
              "      border-left-color: var(--fill-color);\n",
              "      border-top-color: var(--fill-color);\n",
              "      border-right-color: var(--fill-color);\n",
              "    }\n",
              "    40% {\n",
              "      border-color: transparent;\n",
              "      border-right-color: var(--fill-color);\n",
              "      border-top-color: var(--fill-color);\n",
              "    }\n",
              "    60% {\n",
              "      border-color: transparent;\n",
              "      border-right-color: var(--fill-color);\n",
              "    }\n",
              "    80% {\n",
              "      border-color: transparent;\n",
              "      border-right-color: var(--fill-color);\n",
              "      border-bottom-color: var(--fill-color);\n",
              "    }\n",
              "    90% {\n",
              "      border-color: transparent;\n",
              "      border-bottom-color: var(--fill-color);\n",
              "    }\n",
              "  }\n",
              "</style>\n",
              "\n",
              "  <script>\n",
              "    async function quickchart(key) {\n",
              "      const quickchartButtonEl =\n",
              "        document.querySelector('#' + key + ' button');\n",
              "      quickchartButtonEl.disabled = true;  // To prevent multiple clicks.\n",
              "      quickchartButtonEl.classList.add('colab-df-spinner');\n",
              "      try {\n",
              "        const charts = await google.colab.kernel.invokeFunction(\n",
              "            'suggestCharts', [key], {});\n",
              "      } catch (error) {\n",
              "        console.error('Error during call to suggestCharts:', error);\n",
              "      }\n",
              "      quickchartButtonEl.classList.remove('colab-df-spinner');\n",
              "      quickchartButtonEl.classList.add('colab-df-quickchart-complete');\n",
              "    }\n",
              "    (() => {\n",
              "      let quickchartButtonEl =\n",
              "        document.querySelector('#df-cd2bb482-1abc-42ef-bbd9-39ef78fe2de7 button');\n",
              "      quickchartButtonEl.style.display =\n",
              "        google.colab.kernel.accessAllowed ? 'block' : 'none';\n",
              "    })();\n",
              "  </script>\n",
              "</div>\n",
              "    </div>\n",
              "  </div>\n"
            ],
            "application/vnd.google.colaboratory.intrinsic+json": {
              "type": "dataframe",
              "summary": "{\n  \"name\": \"pd\",\n  \"rows\": 3,\n  \"fields\": [\n    {\n      \"column\": \"\\u0420\\u0438\\u043c\\u043c\\u0430\",\n      \"properties\": {\n        \"dtype\": \"number\",\n        \"std\": 0.08247860988423225,\n        \"min\": 0.0,\n        \"max\": 0.14285714285714285,\n        \"num_unique_values\": 2,\n        \"samples\": [\n          0.14285714285714285,\n          0.0\n        ],\n        \"semantic_type\": \"\",\n        \"description\": \"\"\n      }\n    },\n    {\n      \"column\": \"\\u043a\\u0443\\u043a\\u043b\\u0443\",\n      \"properties\": {\n        \"dtype\": \"number\",\n        \"std\": 0.11547005383792518,\n        \"min\": 0.0,\n        \"max\": 0.2,\n        \"num_unique_values\": 2,\n        \"samples\": [\n          0.2,\n          0.0\n        ],\n        \"semantic_type\": \"\",\n        \"description\": \"\"\n      }\n    },\n    {\n      \"column\": \"\\u043c\\u044b\\u043b\\u0430\",\n      \"properties\": {\n        \"dtype\": \"number\",\n        \"std\": 0.06756760842473891,\n        \"min\": 0.2,\n        \"max\": 0.3333333333333333,\n        \"num_unique_values\": 3,\n        \"samples\": [\n          0.3333333333333333,\n          0.2\n        ],\n        \"semantic_type\": \"\",\n        \"description\": \"\"\n      }\n    },\n    {\n      \"column\": \"\\u0440\\u0430\\u043c\\u0443\",\n      \"properties\": {\n        \"dtype\": \"number\",\n        \"std\": 0.06756760842473891,\n        \"min\": 0.2,\n        \"max\": 0.3333333333333333,\n        \"num_unique_values\": 3,\n        \"samples\": [\n          0.3333333333333333,\n          0.2\n        ],\n        \"semantic_type\": \"\",\n        \"description\": \"\"\n      }\n    },\n    {\n      \"column\": \"\\u043c\\u0430\\u043c\\u0430\",\n      \"properties\": {\n        \"dtype\": \"number\",\n        \"std\": 0.16723259925163075,\n        \"min\": 0.0,\n        \"max\": 0.3333333333333333,\n        \"num_unique_values\": 3,\n        \"samples\": [\n          0.3333333333333333,\n          0.0\n        ],\n        \"semantic_type\": \"\",\n        \"description\": \"\"\n      }\n    },\n    {\n      \"column\": \"\\u0438\",\n      \"properties\": {\n        \"dtype\": \"number\",\n        \"std\": 0.10301575072754256,\n        \"min\": 0.0,\n        \"max\": 0.2,\n        \"num_unique_values\": 3,\n        \"samples\": [\n          0.0,\n          0.2\n        ],\n        \"semantic_type\": \"\",\n        \"description\": \"\"\n      }\n    },\n    {\n      \"column\": \"\\u041c\\u0438\\u043b\\u0430\",\n      \"properties\": {\n        \"dtype\": \"number\",\n        \"std\": 0.11547005383792518,\n        \"min\": 0.0,\n        \"max\": 0.2,\n        \"num_unique_values\": 2,\n        \"samples\": [\n          0.2,\n          0.0\n        ],\n        \"semantic_type\": \"\",\n        \"description\": \"\"\n      }\n    }\n  ]\n}"
            }
          },
          "metadata": {},
          "execution_count": 41
        }
      ]
    },
    {
      "cell_type": "markdown",
      "source": [
        "Считаем **IDF** (log(кол-во документов/кол-во документов с этим словом))\n",
        "\n",
        "один раз для всех слов"
      ],
      "metadata": {
        "id": "hfMXrS6Ql0Ly"
      }
    },
    {
      "cell_type": "code",
      "source": [
        "def computeIDF(documents):\n",
        "    N = len(documents)\n",
        "\n",
        "    idfDict = dict.fromkeys(documents[0].keys(), 0)\n",
        "    for document in documents:\n",
        "        for word, val in document.items():\n",
        "            if val > 0:\n",
        "                idfDict[word] += 1\n",
        "\n",
        "    for word, val in idfDict.items():\n",
        "        idfDict[word] = math.log(N / float(val))\n",
        "    return idfDict"
      ],
      "metadata": {
        "id": "rzTy9tTNVaUr"
      },
      "execution_count": null,
      "outputs": []
    },
    {
      "cell_type": "code",
      "source": [
        "idfs = computeIDF([numOfWordsA, numOfWordsB, numOfWordsC])"
      ],
      "metadata": {
        "id": "kCW01bsGVnXd"
      },
      "execution_count": null,
      "outputs": []
    },
    {
      "cell_type": "code",
      "source": [
        "# Есть слова, которые встретились во многих текстах (значение меньше),\n",
        "# есть \"специфичные\", которые встретились в малом кол-ве текстов (значение больше)\n",
        "idfs"
      ],
      "metadata": {
        "colab": {
          "base_uri": "https://localhost:8080/"
        },
        "id": "fKF7ZonCVqFq",
        "outputId": "5462e977-91e3-4c39-eabb-131d69065de1"
      },
      "execution_count": null,
      "outputs": [
        {
          "output_type": "execute_result",
          "data": {
            "text/plain": [
              "{'Римма': 1.0986122886681098,\n",
              " 'куклу': 1.0986122886681098,\n",
              " 'мыла': 0.0,\n",
              " 'раму': 0.0,\n",
              " 'мама': 0.4054651081081644,\n",
              " 'и': 0.4054651081081644,\n",
              " 'Мила': 1.0986122886681098}"
            ]
          },
          "metadata": {},
          "execution_count": 92
        }
      ]
    },
    {
      "cell_type": "code",
      "source": [
        "def computeTFIDF(tfBagOfWords, idfs):\n",
        "    tfidf = {}\n",
        "    for word, val in tfBagOfWords.items():\n",
        "        tfidf[word] = val * idfs[word]\n",
        "    return tfidf"
      ],
      "metadata": {
        "id": "7jSsRxW0VxmN"
      },
      "execution_count": null,
      "outputs": []
    },
    {
      "cell_type": "code",
      "source": [
        "tfidfA = computeTFIDF(tfA, idfs)\n",
        "tfidfB = computeTFIDF(tfB, idfs)\n",
        "tfidfC = computeTFIDF(tfC, idfs)"
      ],
      "metadata": {
        "id": "aK_NrYqmV1xf"
      },
      "execution_count": null,
      "outputs": []
    },
    {
      "cell_type": "code",
      "source": [
        "print('\\n', documentA, '\\n', documentB, '\\n', documentC)\n",
        "pd.DataFrame([tfidfA, tfidfB, tfidfC])"
      ],
      "metadata": {
        "colab": {
          "base_uri": "https://localhost:8080/",
          "height": 213
        },
        "id": "sBJ_BJTAV4yE",
        "outputId": "fe526e13-c70e-49b6-8b1d-b88ec6c45aea"
      },
      "execution_count": null,
      "outputs": [
        {
          "output_type": "stream",
          "name": "stdout",
          "text": [
            "\n",
            " мама мыла раму \n",
            " Мила мыла куклу и раму \n",
            " Римма мыла раму и мама мыла раму\n"
          ]
        },
        {
          "output_type": "execute_result",
          "data": {
            "text/plain": [
              "      Римма     куклу  мыла  раму      мама         и      Мила\n",
              "0  0.000000  0.000000   0.0   0.0  0.135155  0.000000  0.000000\n",
              "1  0.000000  0.219722   0.0   0.0  0.000000  0.081093  0.219722\n",
              "2  0.156945  0.000000   0.0   0.0  0.057924  0.057924  0.000000"
            ],
            "text/html": [
              "\n",
              "  <div id=\"df-bd85d383-1070-4fb8-a206-381d1fa41594\" class=\"colab-df-container\">\n",
              "    <div>\n",
              "<style scoped>\n",
              "    .dataframe tbody tr th:only-of-type {\n",
              "        vertical-align: middle;\n",
              "    }\n",
              "\n",
              "    .dataframe tbody tr th {\n",
              "        vertical-align: top;\n",
              "    }\n",
              "\n",
              "    .dataframe thead th {\n",
              "        text-align: right;\n",
              "    }\n",
              "</style>\n",
              "<table border=\"1\" class=\"dataframe\">\n",
              "  <thead>\n",
              "    <tr style=\"text-align: right;\">\n",
              "      <th></th>\n",
              "      <th>Римма</th>\n",
              "      <th>куклу</th>\n",
              "      <th>мыла</th>\n",
              "      <th>раму</th>\n",
              "      <th>мама</th>\n",
              "      <th>и</th>\n",
              "      <th>Мила</th>\n",
              "    </tr>\n",
              "  </thead>\n",
              "  <tbody>\n",
              "    <tr>\n",
              "      <th>0</th>\n",
              "      <td>0.000000</td>\n",
              "      <td>0.000000</td>\n",
              "      <td>0.0</td>\n",
              "      <td>0.0</td>\n",
              "      <td>0.135155</td>\n",
              "      <td>0.000000</td>\n",
              "      <td>0.000000</td>\n",
              "    </tr>\n",
              "    <tr>\n",
              "      <th>1</th>\n",
              "      <td>0.000000</td>\n",
              "      <td>0.219722</td>\n",
              "      <td>0.0</td>\n",
              "      <td>0.0</td>\n",
              "      <td>0.000000</td>\n",
              "      <td>0.081093</td>\n",
              "      <td>0.219722</td>\n",
              "    </tr>\n",
              "    <tr>\n",
              "      <th>2</th>\n",
              "      <td>0.156945</td>\n",
              "      <td>0.000000</td>\n",
              "      <td>0.0</td>\n",
              "      <td>0.0</td>\n",
              "      <td>0.057924</td>\n",
              "      <td>0.057924</td>\n",
              "      <td>0.000000</td>\n",
              "    </tr>\n",
              "  </tbody>\n",
              "</table>\n",
              "</div>\n",
              "    <div class=\"colab-df-buttons\">\n",
              "\n",
              "  <div class=\"colab-df-container\">\n",
              "    <button class=\"colab-df-convert\" onclick=\"convertToInteractive('df-bd85d383-1070-4fb8-a206-381d1fa41594')\"\n",
              "            title=\"Convert this dataframe to an interactive table.\"\n",
              "            style=\"display:none;\">\n",
              "\n",
              "  <svg xmlns=\"http://www.w3.org/2000/svg\" height=\"24px\" viewBox=\"0 -960 960 960\">\n",
              "    <path d=\"M120-120v-720h720v720H120Zm60-500h600v-160H180v160Zm220 220h160v-160H400v160Zm0 220h160v-160H400v160ZM180-400h160v-160H180v160Zm440 0h160v-160H620v160ZM180-180h160v-160H180v160Zm440 0h160v-160H620v160Z\"/>\n",
              "  </svg>\n",
              "    </button>\n",
              "\n",
              "  <style>\n",
              "    .colab-df-container {\n",
              "      display:flex;\n",
              "      gap: 12px;\n",
              "    }\n",
              "\n",
              "    .colab-df-convert {\n",
              "      background-color: #E8F0FE;\n",
              "      border: none;\n",
              "      border-radius: 50%;\n",
              "      cursor: pointer;\n",
              "      display: none;\n",
              "      fill: #1967D2;\n",
              "      height: 32px;\n",
              "      padding: 0 0 0 0;\n",
              "      width: 32px;\n",
              "    }\n",
              "\n",
              "    .colab-df-convert:hover {\n",
              "      background-color: #E2EBFA;\n",
              "      box-shadow: 0px 1px 2px rgba(60, 64, 67, 0.3), 0px 1px 3px 1px rgba(60, 64, 67, 0.15);\n",
              "      fill: #174EA6;\n",
              "    }\n",
              "\n",
              "    .colab-df-buttons div {\n",
              "      margin-bottom: 4px;\n",
              "    }\n",
              "\n",
              "    [theme=dark] .colab-df-convert {\n",
              "      background-color: #3B4455;\n",
              "      fill: #D2E3FC;\n",
              "    }\n",
              "\n",
              "    [theme=dark] .colab-df-convert:hover {\n",
              "      background-color: #434B5C;\n",
              "      box-shadow: 0px 1px 3px 1px rgba(0, 0, 0, 0.15);\n",
              "      filter: drop-shadow(0px 1px 2px rgba(0, 0, 0, 0.3));\n",
              "      fill: #FFFFFF;\n",
              "    }\n",
              "  </style>\n",
              "\n",
              "    <script>\n",
              "      const buttonEl =\n",
              "        document.querySelector('#df-bd85d383-1070-4fb8-a206-381d1fa41594 button.colab-df-convert');\n",
              "      buttonEl.style.display =\n",
              "        google.colab.kernel.accessAllowed ? 'block' : 'none';\n",
              "\n",
              "      async function convertToInteractive(key) {\n",
              "        const element = document.querySelector('#df-bd85d383-1070-4fb8-a206-381d1fa41594');\n",
              "        const dataTable =\n",
              "          await google.colab.kernel.invokeFunction('convertToInteractive',\n",
              "                                                    [key], {});\n",
              "        if (!dataTable) return;\n",
              "\n",
              "        const docLinkHtml = 'Like what you see? Visit the ' +\n",
              "          '<a target=\"_blank\" href=https://colab.research.google.com/notebooks/data_table.ipynb>data table notebook</a>'\n",
              "          + ' to learn more about interactive tables.';\n",
              "        element.innerHTML = '';\n",
              "        dataTable['output_type'] = 'display_data';\n",
              "        await google.colab.output.renderOutput(dataTable, element);\n",
              "        const docLink = document.createElement('div');\n",
              "        docLink.innerHTML = docLinkHtml;\n",
              "        element.appendChild(docLink);\n",
              "      }\n",
              "    </script>\n",
              "  </div>\n",
              "\n",
              "\n",
              "<div id=\"df-18a9e013-e5c0-45d1-9190-ccf0f87693b2\">\n",
              "  <button class=\"colab-df-quickchart\" onclick=\"quickchart('df-18a9e013-e5c0-45d1-9190-ccf0f87693b2')\"\n",
              "            title=\"Suggest charts\"\n",
              "            style=\"display:none;\">\n",
              "\n",
              "<svg xmlns=\"http://www.w3.org/2000/svg\" height=\"24px\"viewBox=\"0 0 24 24\"\n",
              "     width=\"24px\">\n",
              "    <g>\n",
              "        <path d=\"M19 3H5c-1.1 0-2 .9-2 2v14c0 1.1.9 2 2 2h14c1.1 0 2-.9 2-2V5c0-1.1-.9-2-2-2zM9 17H7v-7h2v7zm4 0h-2V7h2v10zm4 0h-2v-4h2v4z\"/>\n",
              "    </g>\n",
              "</svg>\n",
              "  </button>\n",
              "\n",
              "<style>\n",
              "  .colab-df-quickchart {\n",
              "      --bg-color: #E8F0FE;\n",
              "      --fill-color: #1967D2;\n",
              "      --hover-bg-color: #E2EBFA;\n",
              "      --hover-fill-color: #174EA6;\n",
              "      --disabled-fill-color: #AAA;\n",
              "      --disabled-bg-color: #DDD;\n",
              "  }\n",
              "\n",
              "  [theme=dark] .colab-df-quickchart {\n",
              "      --bg-color: #3B4455;\n",
              "      --fill-color: #D2E3FC;\n",
              "      --hover-bg-color: #434B5C;\n",
              "      --hover-fill-color: #FFFFFF;\n",
              "      --disabled-bg-color: #3B4455;\n",
              "      --disabled-fill-color: #666;\n",
              "  }\n",
              "\n",
              "  .colab-df-quickchart {\n",
              "    background-color: var(--bg-color);\n",
              "    border: none;\n",
              "    border-radius: 50%;\n",
              "    cursor: pointer;\n",
              "    display: none;\n",
              "    fill: var(--fill-color);\n",
              "    height: 32px;\n",
              "    padding: 0;\n",
              "    width: 32px;\n",
              "  }\n",
              "\n",
              "  .colab-df-quickchart:hover {\n",
              "    background-color: var(--hover-bg-color);\n",
              "    box-shadow: 0 1px 2px rgba(60, 64, 67, 0.3), 0 1px 3px 1px rgba(60, 64, 67, 0.15);\n",
              "    fill: var(--button-hover-fill-color);\n",
              "  }\n",
              "\n",
              "  .colab-df-quickchart-complete:disabled,\n",
              "  .colab-df-quickchart-complete:disabled:hover {\n",
              "    background-color: var(--disabled-bg-color);\n",
              "    fill: var(--disabled-fill-color);\n",
              "    box-shadow: none;\n",
              "  }\n",
              "\n",
              "  .colab-df-spinner {\n",
              "    border: 2px solid var(--fill-color);\n",
              "    border-color: transparent;\n",
              "    border-bottom-color: var(--fill-color);\n",
              "    animation:\n",
              "      spin 1s steps(1) infinite;\n",
              "  }\n",
              "\n",
              "  @keyframes spin {\n",
              "    0% {\n",
              "      border-color: transparent;\n",
              "      border-bottom-color: var(--fill-color);\n",
              "      border-left-color: var(--fill-color);\n",
              "    }\n",
              "    20% {\n",
              "      border-color: transparent;\n",
              "      border-left-color: var(--fill-color);\n",
              "      border-top-color: var(--fill-color);\n",
              "    }\n",
              "    30% {\n",
              "      border-color: transparent;\n",
              "      border-left-color: var(--fill-color);\n",
              "      border-top-color: var(--fill-color);\n",
              "      border-right-color: var(--fill-color);\n",
              "    }\n",
              "    40% {\n",
              "      border-color: transparent;\n",
              "      border-right-color: var(--fill-color);\n",
              "      border-top-color: var(--fill-color);\n",
              "    }\n",
              "    60% {\n",
              "      border-color: transparent;\n",
              "      border-right-color: var(--fill-color);\n",
              "    }\n",
              "    80% {\n",
              "      border-color: transparent;\n",
              "      border-right-color: var(--fill-color);\n",
              "      border-bottom-color: var(--fill-color);\n",
              "    }\n",
              "    90% {\n",
              "      border-color: transparent;\n",
              "      border-bottom-color: var(--fill-color);\n",
              "    }\n",
              "  }\n",
              "</style>\n",
              "\n",
              "  <script>\n",
              "    async function quickchart(key) {\n",
              "      const quickchartButtonEl =\n",
              "        document.querySelector('#' + key + ' button');\n",
              "      quickchartButtonEl.disabled = true;  // To prevent multiple clicks.\n",
              "      quickchartButtonEl.classList.add('colab-df-spinner');\n",
              "      try {\n",
              "        const charts = await google.colab.kernel.invokeFunction(\n",
              "            'suggestCharts', [key], {});\n",
              "      } catch (error) {\n",
              "        console.error('Error during call to suggestCharts:', error);\n",
              "      }\n",
              "      quickchartButtonEl.classList.remove('colab-df-spinner');\n",
              "      quickchartButtonEl.classList.add('colab-df-quickchart-complete');\n",
              "    }\n",
              "    (() => {\n",
              "      let quickchartButtonEl =\n",
              "        document.querySelector('#df-18a9e013-e5c0-45d1-9190-ccf0f87693b2 button');\n",
              "      quickchartButtonEl.style.display =\n",
              "        google.colab.kernel.accessAllowed ? 'block' : 'none';\n",
              "    })();\n",
              "  </script>\n",
              "</div>\n",
              "    </div>\n",
              "  </div>\n"
            ],
            "application/vnd.google.colaboratory.intrinsic+json": {
              "type": "dataframe",
              "summary": "{\n  \"name\": \"pd\",\n  \"rows\": 3,\n  \"fields\": [\n    {\n      \"column\": \"\\u0420\\u0438\\u043c\\u043c\\u0430\",\n      \"properties\": {\n        \"dtype\": \"number\",\n        \"std\": 0.09061201437108057,\n        \"min\": 0.0,\n        \"max\": 0.15694461266687282,\n        \"num_unique_values\": 2,\n        \"samples\": [\n          0.15694461266687282,\n          0.0\n        ],\n        \"semantic_type\": \"\",\n        \"description\": \"\"\n      }\n    },\n    {\n      \"column\": \"\\u043a\\u0443\\u043a\\u043b\\u0443\",\n      \"properties\": {\n        \"dtype\": \"number\",\n        \"std\": 0.1268568201195128,\n        \"min\": 0.0,\n        \"max\": 0.21972245773362198,\n        \"num_unique_values\": 2,\n        \"samples\": [\n          0.21972245773362198,\n          0.0\n        ],\n        \"semantic_type\": \"\",\n        \"description\": \"\"\n      }\n    },\n    {\n      \"column\": \"\\u043c\\u044b\\u043b\\u0430\",\n      \"properties\": {\n        \"dtype\": \"number\",\n        \"std\": 0.0,\n        \"min\": 0.0,\n        \"max\": 0.0,\n        \"num_unique_values\": 1,\n        \"samples\": [\n          0.0\n        ],\n        \"semantic_type\": \"\",\n        \"description\": \"\"\n      }\n    },\n    {\n      \"column\": \"\\u0440\\u0430\\u043c\\u0443\",\n      \"properties\": {\n        \"dtype\": \"number\",\n        \"std\": 0.0,\n        \"min\": 0.0,\n        \"max\": 0.0,\n        \"num_unique_values\": 1,\n        \"samples\": [\n          0.0\n        ],\n        \"semantic_type\": \"\",\n        \"description\": \"\"\n      }\n    },\n    {\n      \"column\": \"\\u043c\\u0430\\u043c\\u0430\",\n      \"properties\": {\n        \"dtype\": \"number\",\n        \"std\": 0.06780698393477179,\n        \"min\": 0.0,\n        \"max\": 0.13515503603605478,\n        \"num_unique_values\": 3,\n        \"samples\": [\n          0.13515503603605478\n        ],\n        \"semantic_type\": \"\",\n        \"description\": \"\"\n      }\n    },\n    {\n      \"column\": \"\\u0438\",\n      \"properties\": {\n        \"dtype\": \"number\",\n        \"std\": 0.04176929250558676,\n        \"min\": 0.0,\n        \"max\": 0.08109302162163289,\n        \"num_unique_values\": 3,\n        \"samples\": [\n          0.0\n        ],\n        \"semantic_type\": \"\",\n        \"description\": \"\"\n      }\n    },\n    {\n      \"column\": \"\\u041c\\u0438\\u043b\\u0430\",\n      \"properties\": {\n        \"dtype\": \"number\",\n        \"std\": 0.1268568201195128,\n        \"min\": 0.0,\n        \"max\": 0.21972245773362198,\n        \"num_unique_values\": 2,\n        \"samples\": [\n          0.21972245773362198\n        ],\n        \"semantic_type\": \"\",\n        \"description\": \"\"\n      }\n    }\n  ]\n}"
            }
          },
          "metadata": {},
          "execution_count": 95
        }
      ]
    },
    {
      "cell_type": "markdown",
      "source": [
        "Чем больше значение, тем важнее слово для текста.\n",
        "\n",
        "\"Рама\" встречается во всех трёх - у неё значение везде ноль.\n",
        "\n",
        "\"Кукла\" и \"Мила\" встречаются только во втором - они очень важны для второго текста (у них самые большие значения)"
      ],
      "metadata": {
        "id": "_agp_Ll_1Ofk"
      }
    },
    {
      "cell_type": "markdown",
      "source": [
        "# TfidfVectorizer\n",
        "\n",
        "Готовый инструмент из библиотеки [sklearn](https://scikit-learn.org/stable/)"
      ],
      "metadata": {
        "id": "Spbt2-l-_f8U"
      }
    },
    {
      "cell_type": "code",
      "source": [
        "corpus = [documentA, documentB, documentC]"
      ],
      "metadata": {
        "id": "jzUCYG15_8Cz"
      },
      "execution_count": null,
      "outputs": []
    },
    {
      "cell_type": "code",
      "source": [
        "from sklearn.feature_extraction.text import TfidfVectorizer"
      ],
      "metadata": {
        "id": "HTwJalAI_flH"
      },
      "execution_count": null,
      "outputs": []
    },
    {
      "cell_type": "code",
      "source": [
        "vect_tfidf = TfidfVectorizer()\n",
        "mama_tfidf = vect_tfidf.fit_transform(corpus)"
      ],
      "metadata": {
        "id": "CScugpv2_y8j"
      },
      "execution_count": null,
      "outputs": []
    },
    {
      "cell_type": "code",
      "source": [
        "mama_tfidf.toarray()"
      ],
      "metadata": {
        "colab": {
          "base_uri": "https://localhost:8080/"
        },
        "id": "I29hMovNB3N4",
        "outputId": "667b6536-a978-44c2-b777-af43505e4277"
      },
      "execution_count": null,
      "outputs": [
        {
          "output_type": "execute_result",
          "data": {
            "text/plain": [
              "array([[0.        , 0.67325467, 0.        , 0.52284231, 0.52284231,\n",
              "        0.        ],\n",
              "       [0.6088451 , 0.        , 0.6088451 , 0.35959372, 0.35959372,\n",
              "        0.        ],\n",
              "       [0.        , 0.36384968, 0.        , 0.56512346, 0.56512346,\n",
              "        0.4784186 ]])"
            ]
          },
          "metadata": {},
          "execution_count": 63
        }
      ]
    },
    {
      "cell_type": "code",
      "source": [
        "vect_tfidf.get_feature_names_out()"
      ],
      "metadata": {
        "colab": {
          "base_uri": "https://localhost:8080/"
        },
        "id": "nE--SvdUAap7",
        "outputId": "fdefb670-a8c8-4ae8-e56c-810c6e9a88a8"
      },
      "execution_count": null,
      "outputs": [
        {
          "output_type": "execute_result",
          "data": {
            "text/plain": [
              "array(['куклу', 'мама', 'мила', 'мыла', 'раму', 'римма'], dtype=object)"
            ]
          },
          "metadata": {},
          "execution_count": 57
        }
      ]
    },
    {
      "cell_type": "code",
      "source": [
        "print('\\n', documentA, '\\n', documentB, '\\n', documentC)\n",
        "\n",
        "df = pd.DataFrame(mama_tfidf.toarray())\n",
        "df.columns =list(vect_tfidf.get_feature_names_out())\n",
        "df"
      ],
      "metadata": {
        "colab": {
          "base_uri": "https://localhost:8080/",
          "height": 213
        },
        "id": "fUObb4LE_4v5",
        "outputId": "a2579eb2-85a6-4cd9-afc6-db18467a917f"
      },
      "execution_count": null,
      "outputs": [
        {
          "output_type": "stream",
          "name": "stdout",
          "text": [
            "\n",
            " мама мыла раму \n",
            " Мила мыла куклу и раму \n",
            " Римма мыла раму и мама мыла раму\n"
          ]
        },
        {
          "output_type": "execute_result",
          "data": {
            "text/plain": [
              "      куклу      мама      мила      мыла      раму     римма\n",
              "0  0.000000  0.673255  0.000000  0.522842  0.522842  0.000000\n",
              "1  0.608845  0.000000  0.608845  0.359594  0.359594  0.000000\n",
              "2  0.000000  0.363850  0.000000  0.565123  0.565123  0.478419"
            ],
            "text/html": [
              "\n",
              "  <div id=\"df-c12a7149-795b-4fac-8255-053c8c11fc0f\" class=\"colab-df-container\">\n",
              "    <div>\n",
              "<style scoped>\n",
              "    .dataframe tbody tr th:only-of-type {\n",
              "        vertical-align: middle;\n",
              "    }\n",
              "\n",
              "    .dataframe tbody tr th {\n",
              "        vertical-align: top;\n",
              "    }\n",
              "\n",
              "    .dataframe thead th {\n",
              "        text-align: right;\n",
              "    }\n",
              "</style>\n",
              "<table border=\"1\" class=\"dataframe\">\n",
              "  <thead>\n",
              "    <tr style=\"text-align: right;\">\n",
              "      <th></th>\n",
              "      <th>куклу</th>\n",
              "      <th>мама</th>\n",
              "      <th>мила</th>\n",
              "      <th>мыла</th>\n",
              "      <th>раму</th>\n",
              "      <th>римма</th>\n",
              "    </tr>\n",
              "  </thead>\n",
              "  <tbody>\n",
              "    <tr>\n",
              "      <th>0</th>\n",
              "      <td>0.000000</td>\n",
              "      <td>0.673255</td>\n",
              "      <td>0.000000</td>\n",
              "      <td>0.522842</td>\n",
              "      <td>0.522842</td>\n",
              "      <td>0.000000</td>\n",
              "    </tr>\n",
              "    <tr>\n",
              "      <th>1</th>\n",
              "      <td>0.608845</td>\n",
              "      <td>0.000000</td>\n",
              "      <td>0.608845</td>\n",
              "      <td>0.359594</td>\n",
              "      <td>0.359594</td>\n",
              "      <td>0.000000</td>\n",
              "    </tr>\n",
              "    <tr>\n",
              "      <th>2</th>\n",
              "      <td>0.000000</td>\n",
              "      <td>0.363850</td>\n",
              "      <td>0.000000</td>\n",
              "      <td>0.565123</td>\n",
              "      <td>0.565123</td>\n",
              "      <td>0.478419</td>\n",
              "    </tr>\n",
              "  </tbody>\n",
              "</table>\n",
              "</div>\n",
              "    <div class=\"colab-df-buttons\">\n",
              "\n",
              "  <div class=\"colab-df-container\">\n",
              "    <button class=\"colab-df-convert\" onclick=\"convertToInteractive('df-c12a7149-795b-4fac-8255-053c8c11fc0f')\"\n",
              "            title=\"Convert this dataframe to an interactive table.\"\n",
              "            style=\"display:none;\">\n",
              "\n",
              "  <svg xmlns=\"http://www.w3.org/2000/svg\" height=\"24px\" viewBox=\"0 -960 960 960\">\n",
              "    <path d=\"M120-120v-720h720v720H120Zm60-500h600v-160H180v160Zm220 220h160v-160H400v160Zm0 220h160v-160H400v160ZM180-400h160v-160H180v160Zm440 0h160v-160H620v160ZM180-180h160v-160H180v160Zm440 0h160v-160H620v160Z\"/>\n",
              "  </svg>\n",
              "    </button>\n",
              "\n",
              "  <style>\n",
              "    .colab-df-container {\n",
              "      display:flex;\n",
              "      gap: 12px;\n",
              "    }\n",
              "\n",
              "    .colab-df-convert {\n",
              "      background-color: #E8F0FE;\n",
              "      border: none;\n",
              "      border-radius: 50%;\n",
              "      cursor: pointer;\n",
              "      display: none;\n",
              "      fill: #1967D2;\n",
              "      height: 32px;\n",
              "      padding: 0 0 0 0;\n",
              "      width: 32px;\n",
              "    }\n",
              "\n",
              "    .colab-df-convert:hover {\n",
              "      background-color: #E2EBFA;\n",
              "      box-shadow: 0px 1px 2px rgba(60, 64, 67, 0.3), 0px 1px 3px 1px rgba(60, 64, 67, 0.15);\n",
              "      fill: #174EA6;\n",
              "    }\n",
              "\n",
              "    .colab-df-buttons div {\n",
              "      margin-bottom: 4px;\n",
              "    }\n",
              "\n",
              "    [theme=dark] .colab-df-convert {\n",
              "      background-color: #3B4455;\n",
              "      fill: #D2E3FC;\n",
              "    }\n",
              "\n",
              "    [theme=dark] .colab-df-convert:hover {\n",
              "      background-color: #434B5C;\n",
              "      box-shadow: 0px 1px 3px 1px rgba(0, 0, 0, 0.15);\n",
              "      filter: drop-shadow(0px 1px 2px rgba(0, 0, 0, 0.3));\n",
              "      fill: #FFFFFF;\n",
              "    }\n",
              "  </style>\n",
              "\n",
              "    <script>\n",
              "      const buttonEl =\n",
              "        document.querySelector('#df-c12a7149-795b-4fac-8255-053c8c11fc0f button.colab-df-convert');\n",
              "      buttonEl.style.display =\n",
              "        google.colab.kernel.accessAllowed ? 'block' : 'none';\n",
              "\n",
              "      async function convertToInteractive(key) {\n",
              "        const element = document.querySelector('#df-c12a7149-795b-4fac-8255-053c8c11fc0f');\n",
              "        const dataTable =\n",
              "          await google.colab.kernel.invokeFunction('convertToInteractive',\n",
              "                                                    [key], {});\n",
              "        if (!dataTable) return;\n",
              "\n",
              "        const docLinkHtml = 'Like what you see? Visit the ' +\n",
              "          '<a target=\"_blank\" href=https://colab.research.google.com/notebooks/data_table.ipynb>data table notebook</a>'\n",
              "          + ' to learn more about interactive tables.';\n",
              "        element.innerHTML = '';\n",
              "        dataTable['output_type'] = 'display_data';\n",
              "        await google.colab.output.renderOutput(dataTable, element);\n",
              "        const docLink = document.createElement('div');\n",
              "        docLink.innerHTML = docLinkHtml;\n",
              "        element.appendChild(docLink);\n",
              "      }\n",
              "    </script>\n",
              "  </div>\n",
              "\n",
              "\n",
              "<div id=\"df-62668ea3-2e88-4ace-8635-dea2a74d520d\">\n",
              "  <button class=\"colab-df-quickchart\" onclick=\"quickchart('df-62668ea3-2e88-4ace-8635-dea2a74d520d')\"\n",
              "            title=\"Suggest charts\"\n",
              "            style=\"display:none;\">\n",
              "\n",
              "<svg xmlns=\"http://www.w3.org/2000/svg\" height=\"24px\"viewBox=\"0 0 24 24\"\n",
              "     width=\"24px\">\n",
              "    <g>\n",
              "        <path d=\"M19 3H5c-1.1 0-2 .9-2 2v14c0 1.1.9 2 2 2h14c1.1 0 2-.9 2-2V5c0-1.1-.9-2-2-2zM9 17H7v-7h2v7zm4 0h-2V7h2v10zm4 0h-2v-4h2v4z\"/>\n",
              "    </g>\n",
              "</svg>\n",
              "  </button>\n",
              "\n",
              "<style>\n",
              "  .colab-df-quickchart {\n",
              "      --bg-color: #E8F0FE;\n",
              "      --fill-color: #1967D2;\n",
              "      --hover-bg-color: #E2EBFA;\n",
              "      --hover-fill-color: #174EA6;\n",
              "      --disabled-fill-color: #AAA;\n",
              "      --disabled-bg-color: #DDD;\n",
              "  }\n",
              "\n",
              "  [theme=dark] .colab-df-quickchart {\n",
              "      --bg-color: #3B4455;\n",
              "      --fill-color: #D2E3FC;\n",
              "      --hover-bg-color: #434B5C;\n",
              "      --hover-fill-color: #FFFFFF;\n",
              "      --disabled-bg-color: #3B4455;\n",
              "      --disabled-fill-color: #666;\n",
              "  }\n",
              "\n",
              "  .colab-df-quickchart {\n",
              "    background-color: var(--bg-color);\n",
              "    border: none;\n",
              "    border-radius: 50%;\n",
              "    cursor: pointer;\n",
              "    display: none;\n",
              "    fill: var(--fill-color);\n",
              "    height: 32px;\n",
              "    padding: 0;\n",
              "    width: 32px;\n",
              "  }\n",
              "\n",
              "  .colab-df-quickchart:hover {\n",
              "    background-color: var(--hover-bg-color);\n",
              "    box-shadow: 0 1px 2px rgba(60, 64, 67, 0.3), 0 1px 3px 1px rgba(60, 64, 67, 0.15);\n",
              "    fill: var(--button-hover-fill-color);\n",
              "  }\n",
              "\n",
              "  .colab-df-quickchart-complete:disabled,\n",
              "  .colab-df-quickchart-complete:disabled:hover {\n",
              "    background-color: var(--disabled-bg-color);\n",
              "    fill: var(--disabled-fill-color);\n",
              "    box-shadow: none;\n",
              "  }\n",
              "\n",
              "  .colab-df-spinner {\n",
              "    border: 2px solid var(--fill-color);\n",
              "    border-color: transparent;\n",
              "    border-bottom-color: var(--fill-color);\n",
              "    animation:\n",
              "      spin 1s steps(1) infinite;\n",
              "  }\n",
              "\n",
              "  @keyframes spin {\n",
              "    0% {\n",
              "      border-color: transparent;\n",
              "      border-bottom-color: var(--fill-color);\n",
              "      border-left-color: var(--fill-color);\n",
              "    }\n",
              "    20% {\n",
              "      border-color: transparent;\n",
              "      border-left-color: var(--fill-color);\n",
              "      border-top-color: var(--fill-color);\n",
              "    }\n",
              "    30% {\n",
              "      border-color: transparent;\n",
              "      border-left-color: var(--fill-color);\n",
              "      border-top-color: var(--fill-color);\n",
              "      border-right-color: var(--fill-color);\n",
              "    }\n",
              "    40% {\n",
              "      border-color: transparent;\n",
              "      border-right-color: var(--fill-color);\n",
              "      border-top-color: var(--fill-color);\n",
              "    }\n",
              "    60% {\n",
              "      border-color: transparent;\n",
              "      border-right-color: var(--fill-color);\n",
              "    }\n",
              "    80% {\n",
              "      border-color: transparent;\n",
              "      border-right-color: var(--fill-color);\n",
              "      border-bottom-color: var(--fill-color);\n",
              "    }\n",
              "    90% {\n",
              "      border-color: transparent;\n",
              "      border-bottom-color: var(--fill-color);\n",
              "    }\n",
              "  }\n",
              "</style>\n",
              "\n",
              "  <script>\n",
              "    async function quickchart(key) {\n",
              "      const quickchartButtonEl =\n",
              "        document.querySelector('#' + key + ' button');\n",
              "      quickchartButtonEl.disabled = true;  // To prevent multiple clicks.\n",
              "      quickchartButtonEl.classList.add('colab-df-spinner');\n",
              "      try {\n",
              "        const charts = await google.colab.kernel.invokeFunction(\n",
              "            'suggestCharts', [key], {});\n",
              "      } catch (error) {\n",
              "        console.error('Error during call to suggestCharts:', error);\n",
              "      }\n",
              "      quickchartButtonEl.classList.remove('colab-df-spinner');\n",
              "      quickchartButtonEl.classList.add('colab-df-quickchart-complete');\n",
              "    }\n",
              "    (() => {\n",
              "      let quickchartButtonEl =\n",
              "        document.querySelector('#df-62668ea3-2e88-4ace-8635-dea2a74d520d button');\n",
              "      quickchartButtonEl.style.display =\n",
              "        google.colab.kernel.accessAllowed ? 'block' : 'none';\n",
              "    })();\n",
              "  </script>\n",
              "</div>\n",
              "    </div>\n",
              "  </div>\n"
            ],
            "application/vnd.google.colaboratory.intrinsic+json": {
              "type": "dataframe",
              "variable_name": "df",
              "summary": "{\n  \"name\": \"df\",\n  \"rows\": 3,\n  \"fields\": [\n    {\n      \"column\": \"\\u043a\\u0443\\u043a\\u043b\\u0443\",\n      \"properties\": {\n        \"dtype\": \"number\",\n        \"std\": 0.35151688162026856,\n        \"min\": 0.0,\n        \"max\": 0.6088450986844796,\n        \"num_unique_values\": 2,\n        \"samples\": [\n          0.6088450986844796,\n          0.0\n        ],\n        \"semantic_type\": \"\",\n        \"description\": \"\"\n      }\n    },\n    {\n      \"column\": \"\\u043c\\u0430\\u043c\\u0430\",\n      \"properties\": {\n        \"dtype\": \"number\",\n        \"std\": 0.33699403516648546,\n        \"min\": 0.0,\n        \"max\": 0.6732546652684398,\n        \"num_unique_values\": 3,\n        \"samples\": [\n          0.6732546652684398,\n          0.0\n        ],\n        \"semantic_type\": \"\",\n        \"description\": \"\"\n      }\n    },\n    {\n      \"column\": \"\\u043c\\u0438\\u043b\\u0430\",\n      \"properties\": {\n        \"dtype\": \"number\",\n        \"std\": 0.35151688162026856,\n        \"min\": 0.0,\n        \"max\": 0.6088450986844796,\n        \"num_unique_values\": 2,\n        \"samples\": [\n          0.6088450986844796,\n          0.0\n        ],\n        \"semantic_type\": \"\",\n        \"description\": \"\"\n      }\n    },\n    {\n      \"column\": \"\\u043c\\u044b\\u043b\\u0430\",\n      \"properties\": {\n        \"dtype\": \"number\",\n        \"std\": 0.10853591586943113,\n        \"min\": 0.35959372325985667,\n        \"max\": 0.5651234631433104,\n        \"num_unique_values\": 3,\n        \"samples\": [\n          0.5228423068642596,\n          0.35959372325985667\n        ],\n        \"semantic_type\": \"\",\n        \"description\": \"\"\n      }\n    },\n    {\n      \"column\": \"\\u0440\\u0430\\u043c\\u0443\",\n      \"properties\": {\n        \"dtype\": \"number\",\n        \"std\": 0.10853591586943113,\n        \"min\": 0.35959372325985667,\n        \"max\": 0.5651234631433104,\n        \"num_unique_values\": 3,\n        \"samples\": [\n          0.5228423068642596,\n          0.35959372325985667\n        ],\n        \"semantic_type\": \"\",\n        \"description\": \"\"\n      }\n    },\n    {\n      \"column\": \"\\u0440\\u0438\\u043c\\u043c\\u0430\",\n      \"properties\": {\n        \"dtype\": \"number\",\n        \"std\": 0.27621510700150703,\n        \"min\": 0.0,\n        \"max\": 0.4784185991446841,\n        \"num_unique_values\": 2,\n        \"samples\": [\n          0.4784185991446841,\n          0.0\n        ],\n        \"semantic_type\": \"\",\n        \"description\": \"\"\n      }\n    }\n  ]\n}"
            }
          },
          "metadata": {},
          "execution_count": 61
        }
      ]
    },
    {
      "cell_type": "markdown",
      "source": [
        "Таблица получилось немного другой, потому что есть несколько способов посчитать idf. Но суть осталась прежней."
      ],
      "metadata": {
        "id": "nlZIjjkwHURZ"
      }
    },
    {
      "cell_type": "code",
      "source": [
        "# попытка приблизить нашу функцию к TfidfVectorizer\n",
        "def computeIDF_2(documents):\n",
        "    N = len(documents)\n",
        "    idfDict = dict.fromkeys(documents[0].keys(), 0)\n",
        "    for document in documents:\n",
        "        for word, val in document.items():\n",
        "            if val > 0:\n",
        "                idfDict[word] += 1\n",
        "\n",
        "    for word, val in idfDict.items():\n",
        "        idfDict[word] = math.log((N + 1) / (float(val) + 1)) + 1  # в этой строке\n",
        "        # дополнительные единицы, которые призваны спасать от деления на ноль\n",
        "    return idfDict\n",
        "\n",
        "idfs = computeIDF_2([numOfWordsA, numOfWordsB, numOfWordsC])\n",
        "\n",
        "tfidfA = computeTFIDF(tfA, idfs)\n",
        "tfidfB = computeTFIDF(tfB, idfs)\n",
        "tfidfC = computeTFIDF(tfC, idfs)\n",
        "\n",
        "print('\\n', documentA, '\\n', documentB, '\\n', documentC)\n",
        "pd.DataFrame([tfidfA, tfidfB, tfidfC])"
      ],
      "metadata": {
        "colab": {
          "base_uri": "https://localhost:8080/",
          "height": 213
        },
        "id": "rrK1UkS_HT31",
        "outputId": "9bb08374-515a-4bad-8119-745764ead501"
      },
      "execution_count": null,
      "outputs": [
        {
          "output_type": "stream",
          "name": "stdout",
          "text": [
            "\n",
            " мама мыла раму \n",
            " Мила мыла куклу и раму \n",
            " Римма мыла раму и мама мыла раму\n"
          ]
        },
        {
          "output_type": "execute_result",
          "data": {
            "text/plain": [
              "      Римма     куклу      мыла      раму      мама         и      Мила\n",
              "0  0.000000  0.000000  0.333333  0.333333  0.429227  0.000000  0.000000\n",
              "1  0.000000  0.338629  0.200000  0.200000  0.000000  0.257536  0.338629\n",
              "2  0.241878  0.000000  0.285714  0.285714  0.183955  0.183955  0.000000"
            ],
            "text/html": [
              "\n",
              "  <div id=\"df-e40a28a4-fad7-4510-9754-3e54c5f4cd23\" class=\"colab-df-container\">\n",
              "    <div>\n",
              "<style scoped>\n",
              "    .dataframe tbody tr th:only-of-type {\n",
              "        vertical-align: middle;\n",
              "    }\n",
              "\n",
              "    .dataframe tbody tr th {\n",
              "        vertical-align: top;\n",
              "    }\n",
              "\n",
              "    .dataframe thead th {\n",
              "        text-align: right;\n",
              "    }\n",
              "</style>\n",
              "<table border=\"1\" class=\"dataframe\">\n",
              "  <thead>\n",
              "    <tr style=\"text-align: right;\">\n",
              "      <th></th>\n",
              "      <th>Римма</th>\n",
              "      <th>куклу</th>\n",
              "      <th>мыла</th>\n",
              "      <th>раму</th>\n",
              "      <th>мама</th>\n",
              "      <th>и</th>\n",
              "      <th>Мила</th>\n",
              "    </tr>\n",
              "  </thead>\n",
              "  <tbody>\n",
              "    <tr>\n",
              "      <th>0</th>\n",
              "      <td>0.000000</td>\n",
              "      <td>0.000000</td>\n",
              "      <td>0.333333</td>\n",
              "      <td>0.333333</td>\n",
              "      <td>0.429227</td>\n",
              "      <td>0.000000</td>\n",
              "      <td>0.000000</td>\n",
              "    </tr>\n",
              "    <tr>\n",
              "      <th>1</th>\n",
              "      <td>0.000000</td>\n",
              "      <td>0.338629</td>\n",
              "      <td>0.200000</td>\n",
              "      <td>0.200000</td>\n",
              "      <td>0.000000</td>\n",
              "      <td>0.257536</td>\n",
              "      <td>0.338629</td>\n",
              "    </tr>\n",
              "    <tr>\n",
              "      <th>2</th>\n",
              "      <td>0.241878</td>\n",
              "      <td>0.000000</td>\n",
              "      <td>0.285714</td>\n",
              "      <td>0.285714</td>\n",
              "      <td>0.183955</td>\n",
              "      <td>0.183955</td>\n",
              "      <td>0.000000</td>\n",
              "    </tr>\n",
              "  </tbody>\n",
              "</table>\n",
              "</div>\n",
              "    <div class=\"colab-df-buttons\">\n",
              "\n",
              "  <div class=\"colab-df-container\">\n",
              "    <button class=\"colab-df-convert\" onclick=\"convertToInteractive('df-e40a28a4-fad7-4510-9754-3e54c5f4cd23')\"\n",
              "            title=\"Convert this dataframe to an interactive table.\"\n",
              "            style=\"display:none;\">\n",
              "\n",
              "  <svg xmlns=\"http://www.w3.org/2000/svg\" height=\"24px\" viewBox=\"0 -960 960 960\">\n",
              "    <path d=\"M120-120v-720h720v720H120Zm60-500h600v-160H180v160Zm220 220h160v-160H400v160Zm0 220h160v-160H400v160ZM180-400h160v-160H180v160Zm440 0h160v-160H620v160ZM180-180h160v-160H180v160Zm440 0h160v-160H620v160Z\"/>\n",
              "  </svg>\n",
              "    </button>\n",
              "\n",
              "  <style>\n",
              "    .colab-df-container {\n",
              "      display:flex;\n",
              "      gap: 12px;\n",
              "    }\n",
              "\n",
              "    .colab-df-convert {\n",
              "      background-color: #E8F0FE;\n",
              "      border: none;\n",
              "      border-radius: 50%;\n",
              "      cursor: pointer;\n",
              "      display: none;\n",
              "      fill: #1967D2;\n",
              "      height: 32px;\n",
              "      padding: 0 0 0 0;\n",
              "      width: 32px;\n",
              "    }\n",
              "\n",
              "    .colab-df-convert:hover {\n",
              "      background-color: #E2EBFA;\n",
              "      box-shadow: 0px 1px 2px rgba(60, 64, 67, 0.3), 0px 1px 3px 1px rgba(60, 64, 67, 0.15);\n",
              "      fill: #174EA6;\n",
              "    }\n",
              "\n",
              "    .colab-df-buttons div {\n",
              "      margin-bottom: 4px;\n",
              "    }\n",
              "\n",
              "    [theme=dark] .colab-df-convert {\n",
              "      background-color: #3B4455;\n",
              "      fill: #D2E3FC;\n",
              "    }\n",
              "\n",
              "    [theme=dark] .colab-df-convert:hover {\n",
              "      background-color: #434B5C;\n",
              "      box-shadow: 0px 1px 3px 1px rgba(0, 0, 0, 0.15);\n",
              "      filter: drop-shadow(0px 1px 2px rgba(0, 0, 0, 0.3));\n",
              "      fill: #FFFFFF;\n",
              "    }\n",
              "  </style>\n",
              "\n",
              "    <script>\n",
              "      const buttonEl =\n",
              "        document.querySelector('#df-e40a28a4-fad7-4510-9754-3e54c5f4cd23 button.colab-df-convert');\n",
              "      buttonEl.style.display =\n",
              "        google.colab.kernel.accessAllowed ? 'block' : 'none';\n",
              "\n",
              "      async function convertToInteractive(key) {\n",
              "        const element = document.querySelector('#df-e40a28a4-fad7-4510-9754-3e54c5f4cd23');\n",
              "        const dataTable =\n",
              "          await google.colab.kernel.invokeFunction('convertToInteractive',\n",
              "                                                    [key], {});\n",
              "        if (!dataTable) return;\n",
              "\n",
              "        const docLinkHtml = 'Like what you see? Visit the ' +\n",
              "          '<a target=\"_blank\" href=https://colab.research.google.com/notebooks/data_table.ipynb>data table notebook</a>'\n",
              "          + ' to learn more about interactive tables.';\n",
              "        element.innerHTML = '';\n",
              "        dataTable['output_type'] = 'display_data';\n",
              "        await google.colab.output.renderOutput(dataTable, element);\n",
              "        const docLink = document.createElement('div');\n",
              "        docLink.innerHTML = docLinkHtml;\n",
              "        element.appendChild(docLink);\n",
              "      }\n",
              "    </script>\n",
              "  </div>\n",
              "\n",
              "\n",
              "<div id=\"df-787a3698-8181-41ab-8584-83c46c472bf6\">\n",
              "  <button class=\"colab-df-quickchart\" onclick=\"quickchart('df-787a3698-8181-41ab-8584-83c46c472bf6')\"\n",
              "            title=\"Suggest charts\"\n",
              "            style=\"display:none;\">\n",
              "\n",
              "<svg xmlns=\"http://www.w3.org/2000/svg\" height=\"24px\"viewBox=\"0 0 24 24\"\n",
              "     width=\"24px\">\n",
              "    <g>\n",
              "        <path d=\"M19 3H5c-1.1 0-2 .9-2 2v14c0 1.1.9 2 2 2h14c1.1 0 2-.9 2-2V5c0-1.1-.9-2-2-2zM9 17H7v-7h2v7zm4 0h-2V7h2v10zm4 0h-2v-4h2v4z\"/>\n",
              "    </g>\n",
              "</svg>\n",
              "  </button>\n",
              "\n",
              "<style>\n",
              "  .colab-df-quickchart {\n",
              "      --bg-color: #E8F0FE;\n",
              "      --fill-color: #1967D2;\n",
              "      --hover-bg-color: #E2EBFA;\n",
              "      --hover-fill-color: #174EA6;\n",
              "      --disabled-fill-color: #AAA;\n",
              "      --disabled-bg-color: #DDD;\n",
              "  }\n",
              "\n",
              "  [theme=dark] .colab-df-quickchart {\n",
              "      --bg-color: #3B4455;\n",
              "      --fill-color: #D2E3FC;\n",
              "      --hover-bg-color: #434B5C;\n",
              "      --hover-fill-color: #FFFFFF;\n",
              "      --disabled-bg-color: #3B4455;\n",
              "      --disabled-fill-color: #666;\n",
              "  }\n",
              "\n",
              "  .colab-df-quickchart {\n",
              "    background-color: var(--bg-color);\n",
              "    border: none;\n",
              "    border-radius: 50%;\n",
              "    cursor: pointer;\n",
              "    display: none;\n",
              "    fill: var(--fill-color);\n",
              "    height: 32px;\n",
              "    padding: 0;\n",
              "    width: 32px;\n",
              "  }\n",
              "\n",
              "  .colab-df-quickchart:hover {\n",
              "    background-color: var(--hover-bg-color);\n",
              "    box-shadow: 0 1px 2px rgba(60, 64, 67, 0.3), 0 1px 3px 1px rgba(60, 64, 67, 0.15);\n",
              "    fill: var(--button-hover-fill-color);\n",
              "  }\n",
              "\n",
              "  .colab-df-quickchart-complete:disabled,\n",
              "  .colab-df-quickchart-complete:disabled:hover {\n",
              "    background-color: var(--disabled-bg-color);\n",
              "    fill: var(--disabled-fill-color);\n",
              "    box-shadow: none;\n",
              "  }\n",
              "\n",
              "  .colab-df-spinner {\n",
              "    border: 2px solid var(--fill-color);\n",
              "    border-color: transparent;\n",
              "    border-bottom-color: var(--fill-color);\n",
              "    animation:\n",
              "      spin 1s steps(1) infinite;\n",
              "  }\n",
              "\n",
              "  @keyframes spin {\n",
              "    0% {\n",
              "      border-color: transparent;\n",
              "      border-bottom-color: var(--fill-color);\n",
              "      border-left-color: var(--fill-color);\n",
              "    }\n",
              "    20% {\n",
              "      border-color: transparent;\n",
              "      border-left-color: var(--fill-color);\n",
              "      border-top-color: var(--fill-color);\n",
              "    }\n",
              "    30% {\n",
              "      border-color: transparent;\n",
              "      border-left-color: var(--fill-color);\n",
              "      border-top-color: var(--fill-color);\n",
              "      border-right-color: var(--fill-color);\n",
              "    }\n",
              "    40% {\n",
              "      border-color: transparent;\n",
              "      border-right-color: var(--fill-color);\n",
              "      border-top-color: var(--fill-color);\n",
              "    }\n",
              "    60% {\n",
              "      border-color: transparent;\n",
              "      border-right-color: var(--fill-color);\n",
              "    }\n",
              "    80% {\n",
              "      border-color: transparent;\n",
              "      border-right-color: var(--fill-color);\n",
              "      border-bottom-color: var(--fill-color);\n",
              "    }\n",
              "    90% {\n",
              "      border-color: transparent;\n",
              "      border-bottom-color: var(--fill-color);\n",
              "    }\n",
              "  }\n",
              "</style>\n",
              "\n",
              "  <script>\n",
              "    async function quickchart(key) {\n",
              "      const quickchartButtonEl =\n",
              "        document.querySelector('#' + key + ' button');\n",
              "      quickchartButtonEl.disabled = true;  // To prevent multiple clicks.\n",
              "      quickchartButtonEl.classList.add('colab-df-spinner');\n",
              "      try {\n",
              "        const charts = await google.colab.kernel.invokeFunction(\n",
              "            'suggestCharts', [key], {});\n",
              "      } catch (error) {\n",
              "        console.error('Error during call to suggestCharts:', error);\n",
              "      }\n",
              "      quickchartButtonEl.classList.remove('colab-df-spinner');\n",
              "      quickchartButtonEl.classList.add('colab-df-quickchart-complete');\n",
              "    }\n",
              "    (() => {\n",
              "      let quickchartButtonEl =\n",
              "        document.querySelector('#df-787a3698-8181-41ab-8584-83c46c472bf6 button');\n",
              "      quickchartButtonEl.style.display =\n",
              "        google.colab.kernel.accessAllowed ? 'block' : 'none';\n",
              "    })();\n",
              "  </script>\n",
              "</div>\n",
              "    </div>\n",
              "  </div>\n"
            ],
            "application/vnd.google.colaboratory.intrinsic+json": {
              "type": "dataframe",
              "summary": "{\n  \"name\": \"pd\",\n  \"rows\": 3,\n  \"fields\": [\n    {\n      \"column\": \"\\u0420\\u0438\\u043c\\u043c\\u0430\",\n      \"properties\": {\n        \"dtype\": \"number\",\n        \"std\": 0.13964842578199146,\n        \"min\": 0.0,\n        \"max\": 0.24187816865142076,\n        \"num_unique_values\": 2,\n        \"samples\": [\n          0.24187816865142076,\n          0.0\n        ],\n        \"semantic_type\": \"\",\n        \"description\": \"\"\n      }\n    },\n    {\n      \"column\": \"\\u043a\\u0443\\u043a\\u043b\\u0443\",\n      \"properties\": {\n        \"dtype\": \"number\",\n        \"std\": 0.19550779609478808,\n        \"min\": 0.0,\n        \"max\": 0.3386294361119891,\n        \"num_unique_values\": 2,\n        \"samples\": [\n          0.3386294361119891,\n          0.0\n        ],\n        \"semantic_type\": \"\",\n        \"description\": \"\"\n      }\n    },\n    {\n      \"column\": \"\\u043c\\u044b\\u043b\\u0430\",\n      \"properties\": {\n        \"dtype\": \"number\",\n        \"std\": 0.06756760842473891,\n        \"min\": 0.2,\n        \"max\": 0.3333333333333333,\n        \"num_unique_values\": 3,\n        \"samples\": [\n          0.3333333333333333,\n          0.2\n        ],\n        \"semantic_type\": \"\",\n        \"description\": \"\"\n      }\n    },\n    {\n      \"column\": \"\\u0440\\u0430\\u043c\\u0443\",\n      \"properties\": {\n        \"dtype\": \"number\",\n        \"std\": 0.06756760842473891,\n        \"min\": 0.2,\n        \"max\": 0.3333333333333333,\n        \"num_unique_values\": 3,\n        \"samples\": [\n          0.3333333333333333,\n          0.2\n        ],\n        \"semantic_type\": \"\",\n        \"description\": \"\"\n      }\n    },\n    {\n      \"column\": \"\\u043c\\u0430\\u043c\\u0430\",\n      \"properties\": {\n        \"dtype\": \"number\",\n        \"std\": 0.21534241998583803,\n        \"min\": 0.0,\n        \"max\": 0.42922735748392693,\n        \"num_unique_values\": 3,\n        \"samples\": [\n          0.42922735748392693,\n          0.0\n        ],\n        \"semantic_type\": \"\",\n        \"description\": \"\"\n      }\n    },\n    {\n      \"column\": \"\\u0438\",\n      \"properties\": {\n        \"dtype\": \"number\",\n        \"std\": 0.13265153539201804,\n        \"min\": 0.0,\n        \"max\": 0.2575364144903562,\n        \"num_unique_values\": 3,\n        \"samples\": [\n          0.0,\n          0.2575364144903562\n        ],\n        \"semantic_type\": \"\",\n        \"description\": \"\"\n      }\n    },\n    {\n      \"column\": \"\\u041c\\u0438\\u043b\\u0430\",\n      \"properties\": {\n        \"dtype\": \"number\",\n        \"std\": 0.19550779609478808,\n        \"min\": 0.0,\n        \"max\": 0.3386294361119891,\n        \"num_unique_values\": 2,\n        \"samples\": [\n          0.3386294361119891,\n          0.0\n        ],\n        \"semantic_type\": \"\",\n        \"description\": \"\"\n      }\n    }\n  ]\n}"
            }
          },
          "metadata": {},
          "execution_count": 118
        }
      ]
    },
    {
      "cell_type": "markdown",
      "source": [
        "#### Возможности sklearn векторизаторов\n",
        "\n",
        "Теперь любой текст с этими словами можно векторизировать."
      ],
      "metadata": {
        "id": "d5YojFntEMjH"
      }
    },
    {
      "cell_type": "code",
      "source": [
        "vect_tfidf.transform([\"Мила мыла раму и мама\"]).toarray()"
      ],
      "metadata": {
        "colab": {
          "base_uri": "https://localhost:8080/"
        },
        "id": "cw2DQzrcAdg2",
        "outputId": "1c10600b-2a3b-43c5-f256-4ff1378d9e7d"
      },
      "execution_count": null,
      "outputs": [
        {
          "output_type": "execute_result",
          "data": {
            "text/plain": [
              "array([[0.        , 0.50410689, 0.66283998, 0.39148397, 0.39148397,\n",
              "        0.        ]])"
            ]
          },
          "metadata": {},
          "execution_count": 58
        }
      ]
    },
    {
      "cell_type": "markdown",
      "source": [
        "Векторайзеры в sklearn имеют три основных метода fit, transform и fit_transform.\n",
        "\n",
        "`fit` - собирает словарь и статистики по текстам\n",
        "\n",
        "`transform` - преобразует тексты в векторы, на основе уже собранного словаря\n",
        "\n",
        "`fit_transform` - делает сразу и первое и второе (быстре чем 1 и 2 по очереди)\n"
      ],
      "metadata": {
        "id": "gwBhFxgThVVe"
      }
    },
    {
      "cell_type": "markdown",
      "source": [
        "## А теперь для наших текстов то же самое\n"
      ],
      "metadata": {
        "id": "WUMcvTHEcld6"
      }
    },
    {
      "cell_type": "code",
      "source": [
        "bagOfWords_0 = text_lex['38popugajev']\n",
        "bagOfWords_1 = text_lex['babushka']\n",
        "bagOfWords_2 = text_lex['letet']\n",
        "bagOfWords_3 = text_lex['zaryadka']\n",
        "bagOfWords_4 = text_lex['zakon']\n",
        "bagOfWords_5 = text_lex['znakomstvo']\n",
        "bagOfWords_6 = text_lex['idti']\n",
        "bagOfWords_7 = text_lex['lechit']\n",
        "bagOfWords_8 = text_lex['perehod']\n",
        "bagOfWords_9 = text_lex['son']\n",
        "\n",
        "bagsOfWords = [bagOfWords_0, bagOfWords_1, bagOfWords_2, bagOfWords_3,\n",
        "              bagOfWords_4, bagOfWords_5, bagOfWords_6, bagOfWords_7,\n",
        "              bagOfWords_8, bagOfWords_9]"
      ],
      "metadata": {
        "id": "glTGohlaOe1K"
      },
      "execution_count": null,
      "outputs": []
    },
    {
      "cell_type": "code",
      "source": [
        "oster_uniqueW = set(sum(bagsOfWords, []))"
      ],
      "metadata": {
        "id": "ssUZctudOjf_"
      },
      "execution_count": null,
      "outputs": []
    },
    {
      "cell_type": "code",
      "source": [
        "numsOfWords = []\n",
        "for bagOfWords in bagsOfWords:\n",
        "    numOfWords = dict.fromkeys(oster_uniqueW, 0)\n",
        "    for word in bagOfWords:\n",
        "        numOfWords[word] += 1\n",
        "    numsOfWords.append(numOfWords)"
      ],
      "metadata": {
        "id": "GV52Rz-POjnR"
      },
      "execution_count": null,
      "outputs": []
    },
    {
      "cell_type": "code",
      "source": [
        "idfs = computeIDF(numsOfWords)"
      ],
      "metadata": {
        "id": "XjjF07nOOjpr"
      },
      "execution_count": null,
      "outputs": []
    },
    {
      "cell_type": "code",
      "source": [
        "tfidfs = []\n",
        "for i in range(len(numsOfWords)):\n",
        "    tfidf = computeTFIDF(computeTF(numsOfWords[i], bagsOfWords[i]), idfs)\n",
        "    tfidfs.append(tfidf)\n",
        "\n",
        "df = pd.DataFrame(tfidfs)"
      ],
      "metadata": {
        "id": "IGqwLkjpOjs8"
      },
      "execution_count": null,
      "outputs": []
    },
    {
      "cell_type": "code",
      "source": [
        "df"
      ],
      "metadata": {
        "colab": {
          "base_uri": "https://localhost:8080/",
          "height": 412
        },
        "id": "OxpdNZcAO3r1",
        "outputId": "a2435d0a-6289-43d5-ee90-b5fbac10f902"
      },
      "execution_count": null,
      "outputs": [
        {
          "output_type": "execute_result",
          "data": {
            "text/plain": [
              "      может  держаться  навешивать  протирать  присниться  всплескивать  \\\n",
              "0  0.000000   0.000000    0.000000   0.000000    0.000000      0.000000   \n",
              "1  0.000000   0.000000    0.000000   0.000000    0.000000      0.000000   \n",
              "2  0.000000   0.000000    0.000000   0.000000    0.000000      0.000000   \n",
              "3  0.000000   0.000000    0.000000   0.000000    0.000000      0.000000   \n",
              "4  0.003406   0.000000    0.000000   0.000000    0.000000      0.000000   \n",
              "5  0.000000   0.000000    0.000000   0.000000    0.000000      0.000000   \n",
              "6  0.000000   0.000000    0.002174   0.000000    0.000000      0.000000   \n",
              "7  0.000000   0.000000    0.000000   0.000000    0.000000      0.000866   \n",
              "8  0.000807   0.001079    0.000000   0.000000    0.000000      0.000000   \n",
              "9  0.001647   0.001101    0.000000   0.001575    0.004725      0.001101   \n",
              "\n",
              "   побежать      небо  необитаемый  укрепляться  ...   терпеть  удовольствие  \\\n",
              "0  0.000000  0.000000     0.000000     0.000000  ...  0.001369      0.000716   \n",
              "1  0.000808  0.000000     0.000000     0.000000  ...  0.000000      0.000000   \n",
              "2  0.000000  0.002377     0.000000     0.000000  ...  0.000000      0.000000   \n",
              "3  0.000000  0.000807     0.000000     0.001543  ...  0.000000      0.000000   \n",
              "4  0.001703  0.003406     0.000000     0.000000  ...  0.000000      0.000000   \n",
              "5  0.000000  0.000000     0.000000     0.000000  ...  0.000000      0.009406   \n",
              "6  0.000000  0.000000     0.000000     0.000000  ...  0.000000      0.000000   \n",
              "7  0.000648  0.000000     0.000000     0.000000  ...  0.000000      0.000000   \n",
              "8  0.000000  0.000000     0.000000     0.000000  ...  0.000000      0.000000   \n",
              "9  0.000000  0.000000     0.004725     0.000000  ...  0.000000      0.000824   \n",
              "\n",
              "    увидеть   мчаться      аааа    класть    хозяин    гулять  вертеться  \\\n",
              "0  0.000304  0.000000  0.000545  0.000000  0.000000  0.000000   0.000000   \n",
              "1  0.000343  0.000000  0.000000  0.000000  0.000000  0.008641   0.000000   \n",
              "2  0.000000  0.002273  0.000905  0.000000  0.000000  0.000000   0.000000   \n",
              "3  0.000685  0.000000  0.000614  0.000000  0.000000  0.000000   0.000000   \n",
              "4  0.000000  0.000000  0.000000  0.000000  0.000000  0.000000   0.000000   \n",
              "5  0.000000  0.000000  0.000000  0.000000  0.000000  0.000000   0.000000   \n",
              "6  0.000965  0.000000  0.000000  0.000000  0.000000  0.015198   0.000000   \n",
              "7  0.000000  0.000000  0.000493  0.001239  0.000000  0.000000   0.002477   \n",
              "8  0.001712  0.000000  0.000000  0.000000  0.003087  0.000000   0.000000   \n",
              "9  0.000349  0.000000  0.000000  0.000000  0.000000  0.000000   0.000000   \n",
              "\n",
              "   бушевать  \n",
              "0  0.000000  \n",
              "1  0.000000  \n",
              "2  0.000000  \n",
              "3  0.000000  \n",
              "4  0.000000  \n",
              "5  0.000000  \n",
              "6  0.000000  \n",
              "7  0.000000  \n",
              "8  0.000000  \n",
              "9  0.004725  \n",
              "\n",
              "[10 rows x 1413 columns]"
            ],
            "text/html": [
              "\n",
              "  <div id=\"df-ac6c4b9f-321f-4531-afad-691ad40510e6\" class=\"colab-df-container\">\n",
              "    <div>\n",
              "<style scoped>\n",
              "    .dataframe tbody tr th:only-of-type {\n",
              "        vertical-align: middle;\n",
              "    }\n",
              "\n",
              "    .dataframe tbody tr th {\n",
              "        vertical-align: top;\n",
              "    }\n",
              "\n",
              "    .dataframe thead th {\n",
              "        text-align: right;\n",
              "    }\n",
              "</style>\n",
              "<table border=\"1\" class=\"dataframe\">\n",
              "  <thead>\n",
              "    <tr style=\"text-align: right;\">\n",
              "      <th></th>\n",
              "      <th>может</th>\n",
              "      <th>держаться</th>\n",
              "      <th>навешивать</th>\n",
              "      <th>протирать</th>\n",
              "      <th>присниться</th>\n",
              "      <th>всплескивать</th>\n",
              "      <th>побежать</th>\n",
              "      <th>небо</th>\n",
              "      <th>необитаемый</th>\n",
              "      <th>укрепляться</th>\n",
              "      <th>...</th>\n",
              "      <th>терпеть</th>\n",
              "      <th>удовольствие</th>\n",
              "      <th>увидеть</th>\n",
              "      <th>мчаться</th>\n",
              "      <th>аааа</th>\n",
              "      <th>класть</th>\n",
              "      <th>хозяин</th>\n",
              "      <th>гулять</th>\n",
              "      <th>вертеться</th>\n",
              "      <th>бушевать</th>\n",
              "    </tr>\n",
              "  </thead>\n",
              "  <tbody>\n",
              "    <tr>\n",
              "      <th>0</th>\n",
              "      <td>0.000000</td>\n",
              "      <td>0.000000</td>\n",
              "      <td>0.000000</td>\n",
              "      <td>0.000000</td>\n",
              "      <td>0.000000</td>\n",
              "      <td>0.000000</td>\n",
              "      <td>0.000000</td>\n",
              "      <td>0.000000</td>\n",
              "      <td>0.000000</td>\n",
              "      <td>0.000000</td>\n",
              "      <td>...</td>\n",
              "      <td>0.001369</td>\n",
              "      <td>0.000716</td>\n",
              "      <td>0.000304</td>\n",
              "      <td>0.000000</td>\n",
              "      <td>0.000545</td>\n",
              "      <td>0.000000</td>\n",
              "      <td>0.000000</td>\n",
              "      <td>0.000000</td>\n",
              "      <td>0.000000</td>\n",
              "      <td>0.000000</td>\n",
              "    </tr>\n",
              "    <tr>\n",
              "      <th>1</th>\n",
              "      <td>0.000000</td>\n",
              "      <td>0.000000</td>\n",
              "      <td>0.000000</td>\n",
              "      <td>0.000000</td>\n",
              "      <td>0.000000</td>\n",
              "      <td>0.000000</td>\n",
              "      <td>0.000808</td>\n",
              "      <td>0.000000</td>\n",
              "      <td>0.000000</td>\n",
              "      <td>0.000000</td>\n",
              "      <td>...</td>\n",
              "      <td>0.000000</td>\n",
              "      <td>0.000000</td>\n",
              "      <td>0.000343</td>\n",
              "      <td>0.000000</td>\n",
              "      <td>0.000000</td>\n",
              "      <td>0.000000</td>\n",
              "      <td>0.000000</td>\n",
              "      <td>0.008641</td>\n",
              "      <td>0.000000</td>\n",
              "      <td>0.000000</td>\n",
              "    </tr>\n",
              "    <tr>\n",
              "      <th>2</th>\n",
              "      <td>0.000000</td>\n",
              "      <td>0.000000</td>\n",
              "      <td>0.000000</td>\n",
              "      <td>0.000000</td>\n",
              "      <td>0.000000</td>\n",
              "      <td>0.000000</td>\n",
              "      <td>0.000000</td>\n",
              "      <td>0.002377</td>\n",
              "      <td>0.000000</td>\n",
              "      <td>0.000000</td>\n",
              "      <td>...</td>\n",
              "      <td>0.000000</td>\n",
              "      <td>0.000000</td>\n",
              "      <td>0.000000</td>\n",
              "      <td>0.002273</td>\n",
              "      <td>0.000905</td>\n",
              "      <td>0.000000</td>\n",
              "      <td>0.000000</td>\n",
              "      <td>0.000000</td>\n",
              "      <td>0.000000</td>\n",
              "      <td>0.000000</td>\n",
              "    </tr>\n",
              "    <tr>\n",
              "      <th>3</th>\n",
              "      <td>0.000000</td>\n",
              "      <td>0.000000</td>\n",
              "      <td>0.000000</td>\n",
              "      <td>0.000000</td>\n",
              "      <td>0.000000</td>\n",
              "      <td>0.000000</td>\n",
              "      <td>0.000000</td>\n",
              "      <td>0.000807</td>\n",
              "      <td>0.000000</td>\n",
              "      <td>0.001543</td>\n",
              "      <td>...</td>\n",
              "      <td>0.000000</td>\n",
              "      <td>0.000000</td>\n",
              "      <td>0.000685</td>\n",
              "      <td>0.000000</td>\n",
              "      <td>0.000614</td>\n",
              "      <td>0.000000</td>\n",
              "      <td>0.000000</td>\n",
              "      <td>0.000000</td>\n",
              "      <td>0.000000</td>\n",
              "      <td>0.000000</td>\n",
              "    </tr>\n",
              "    <tr>\n",
              "      <th>4</th>\n",
              "      <td>0.003406</td>\n",
              "      <td>0.000000</td>\n",
              "      <td>0.000000</td>\n",
              "      <td>0.000000</td>\n",
              "      <td>0.000000</td>\n",
              "      <td>0.000000</td>\n",
              "      <td>0.001703</td>\n",
              "      <td>0.003406</td>\n",
              "      <td>0.000000</td>\n",
              "      <td>0.000000</td>\n",
              "      <td>...</td>\n",
              "      <td>0.000000</td>\n",
              "      <td>0.000000</td>\n",
              "      <td>0.000000</td>\n",
              "      <td>0.000000</td>\n",
              "      <td>0.000000</td>\n",
              "      <td>0.000000</td>\n",
              "      <td>0.000000</td>\n",
              "      <td>0.000000</td>\n",
              "      <td>0.000000</td>\n",
              "      <td>0.000000</td>\n",
              "    </tr>\n",
              "    <tr>\n",
              "      <th>5</th>\n",
              "      <td>0.000000</td>\n",
              "      <td>0.000000</td>\n",
              "      <td>0.000000</td>\n",
              "      <td>0.000000</td>\n",
              "      <td>0.000000</td>\n",
              "      <td>0.000000</td>\n",
              "      <td>0.000000</td>\n",
              "      <td>0.000000</td>\n",
              "      <td>0.000000</td>\n",
              "      <td>0.000000</td>\n",
              "      <td>...</td>\n",
              "      <td>0.000000</td>\n",
              "      <td>0.009406</td>\n",
              "      <td>0.000000</td>\n",
              "      <td>0.000000</td>\n",
              "      <td>0.000000</td>\n",
              "      <td>0.000000</td>\n",
              "      <td>0.000000</td>\n",
              "      <td>0.000000</td>\n",
              "      <td>0.000000</td>\n",
              "      <td>0.000000</td>\n",
              "    </tr>\n",
              "    <tr>\n",
              "      <th>6</th>\n",
              "      <td>0.000000</td>\n",
              "      <td>0.000000</td>\n",
              "      <td>0.002174</td>\n",
              "      <td>0.000000</td>\n",
              "      <td>0.000000</td>\n",
              "      <td>0.000000</td>\n",
              "      <td>0.000000</td>\n",
              "      <td>0.000000</td>\n",
              "      <td>0.000000</td>\n",
              "      <td>0.000000</td>\n",
              "      <td>...</td>\n",
              "      <td>0.000000</td>\n",
              "      <td>0.000000</td>\n",
              "      <td>0.000965</td>\n",
              "      <td>0.000000</td>\n",
              "      <td>0.000000</td>\n",
              "      <td>0.000000</td>\n",
              "      <td>0.000000</td>\n",
              "      <td>0.015198</td>\n",
              "      <td>0.000000</td>\n",
              "      <td>0.000000</td>\n",
              "    </tr>\n",
              "    <tr>\n",
              "      <th>7</th>\n",
              "      <td>0.000000</td>\n",
              "      <td>0.000000</td>\n",
              "      <td>0.000000</td>\n",
              "      <td>0.000000</td>\n",
              "      <td>0.000000</td>\n",
              "      <td>0.000866</td>\n",
              "      <td>0.000648</td>\n",
              "      <td>0.000000</td>\n",
              "      <td>0.000000</td>\n",
              "      <td>0.000000</td>\n",
              "      <td>...</td>\n",
              "      <td>0.000000</td>\n",
              "      <td>0.000000</td>\n",
              "      <td>0.000000</td>\n",
              "      <td>0.000000</td>\n",
              "      <td>0.000493</td>\n",
              "      <td>0.001239</td>\n",
              "      <td>0.000000</td>\n",
              "      <td>0.000000</td>\n",
              "      <td>0.002477</td>\n",
              "      <td>0.000000</td>\n",
              "    </tr>\n",
              "    <tr>\n",
              "      <th>8</th>\n",
              "      <td>0.000807</td>\n",
              "      <td>0.001079</td>\n",
              "      <td>0.000000</td>\n",
              "      <td>0.000000</td>\n",
              "      <td>0.000000</td>\n",
              "      <td>0.000000</td>\n",
              "      <td>0.000000</td>\n",
              "      <td>0.000000</td>\n",
              "      <td>0.000000</td>\n",
              "      <td>0.000000</td>\n",
              "      <td>...</td>\n",
              "      <td>0.000000</td>\n",
              "      <td>0.000000</td>\n",
              "      <td>0.001712</td>\n",
              "      <td>0.000000</td>\n",
              "      <td>0.000000</td>\n",
              "      <td>0.000000</td>\n",
              "      <td>0.003087</td>\n",
              "      <td>0.000000</td>\n",
              "      <td>0.000000</td>\n",
              "      <td>0.000000</td>\n",
              "    </tr>\n",
              "    <tr>\n",
              "      <th>9</th>\n",
              "      <td>0.001647</td>\n",
              "      <td>0.001101</td>\n",
              "      <td>0.000000</td>\n",
              "      <td>0.001575</td>\n",
              "      <td>0.004725</td>\n",
              "      <td>0.001101</td>\n",
              "      <td>0.000000</td>\n",
              "      <td>0.000000</td>\n",
              "      <td>0.004725</td>\n",
              "      <td>0.000000</td>\n",
              "      <td>...</td>\n",
              "      <td>0.000000</td>\n",
              "      <td>0.000824</td>\n",
              "      <td>0.000349</td>\n",
              "      <td>0.000000</td>\n",
              "      <td>0.000000</td>\n",
              "      <td>0.000000</td>\n",
              "      <td>0.000000</td>\n",
              "      <td>0.000000</td>\n",
              "      <td>0.000000</td>\n",
              "      <td>0.004725</td>\n",
              "    </tr>\n",
              "  </tbody>\n",
              "</table>\n",
              "<p>10 rows × 1413 columns</p>\n",
              "</div>\n",
              "    <div class=\"colab-df-buttons\">\n",
              "\n",
              "  <div class=\"colab-df-container\">\n",
              "    <button class=\"colab-df-convert\" onclick=\"convertToInteractive('df-ac6c4b9f-321f-4531-afad-691ad40510e6')\"\n",
              "            title=\"Convert this dataframe to an interactive table.\"\n",
              "            style=\"display:none;\">\n",
              "\n",
              "  <svg xmlns=\"http://www.w3.org/2000/svg\" height=\"24px\" viewBox=\"0 -960 960 960\">\n",
              "    <path d=\"M120-120v-720h720v720H120Zm60-500h600v-160H180v160Zm220 220h160v-160H400v160Zm0 220h160v-160H400v160ZM180-400h160v-160H180v160Zm440 0h160v-160H620v160ZM180-180h160v-160H180v160Zm440 0h160v-160H620v160Z\"/>\n",
              "  </svg>\n",
              "    </button>\n",
              "\n",
              "  <style>\n",
              "    .colab-df-container {\n",
              "      display:flex;\n",
              "      gap: 12px;\n",
              "    }\n",
              "\n",
              "    .colab-df-convert {\n",
              "      background-color: #E8F0FE;\n",
              "      border: none;\n",
              "      border-radius: 50%;\n",
              "      cursor: pointer;\n",
              "      display: none;\n",
              "      fill: #1967D2;\n",
              "      height: 32px;\n",
              "      padding: 0 0 0 0;\n",
              "      width: 32px;\n",
              "    }\n",
              "\n",
              "    .colab-df-convert:hover {\n",
              "      background-color: #E2EBFA;\n",
              "      box-shadow: 0px 1px 2px rgba(60, 64, 67, 0.3), 0px 1px 3px 1px rgba(60, 64, 67, 0.15);\n",
              "      fill: #174EA6;\n",
              "    }\n",
              "\n",
              "    .colab-df-buttons div {\n",
              "      margin-bottom: 4px;\n",
              "    }\n",
              "\n",
              "    [theme=dark] .colab-df-convert {\n",
              "      background-color: #3B4455;\n",
              "      fill: #D2E3FC;\n",
              "    }\n",
              "\n",
              "    [theme=dark] .colab-df-convert:hover {\n",
              "      background-color: #434B5C;\n",
              "      box-shadow: 0px 1px 3px 1px rgba(0, 0, 0, 0.15);\n",
              "      filter: drop-shadow(0px 1px 2px rgba(0, 0, 0, 0.3));\n",
              "      fill: #FFFFFF;\n",
              "    }\n",
              "  </style>\n",
              "\n",
              "    <script>\n",
              "      const buttonEl =\n",
              "        document.querySelector('#df-ac6c4b9f-321f-4531-afad-691ad40510e6 button.colab-df-convert');\n",
              "      buttonEl.style.display =\n",
              "        google.colab.kernel.accessAllowed ? 'block' : 'none';\n",
              "\n",
              "      async function convertToInteractive(key) {\n",
              "        const element = document.querySelector('#df-ac6c4b9f-321f-4531-afad-691ad40510e6');\n",
              "        const dataTable =\n",
              "          await google.colab.kernel.invokeFunction('convertToInteractive',\n",
              "                                                    [key], {});\n",
              "        if (!dataTable) return;\n",
              "\n",
              "        const docLinkHtml = 'Like what you see? Visit the ' +\n",
              "          '<a target=\"_blank\" href=https://colab.research.google.com/notebooks/data_table.ipynb>data table notebook</a>'\n",
              "          + ' to learn more about interactive tables.';\n",
              "        element.innerHTML = '';\n",
              "        dataTable['output_type'] = 'display_data';\n",
              "        await google.colab.output.renderOutput(dataTable, element);\n",
              "        const docLink = document.createElement('div');\n",
              "        docLink.innerHTML = docLinkHtml;\n",
              "        element.appendChild(docLink);\n",
              "      }\n",
              "    </script>\n",
              "  </div>\n",
              "\n",
              "\n",
              "<div id=\"df-baf1a045-1cc9-4f7d-b00f-57e15007b84b\">\n",
              "  <button class=\"colab-df-quickchart\" onclick=\"quickchart('df-baf1a045-1cc9-4f7d-b00f-57e15007b84b')\"\n",
              "            title=\"Suggest charts\"\n",
              "            style=\"display:none;\">\n",
              "\n",
              "<svg xmlns=\"http://www.w3.org/2000/svg\" height=\"24px\"viewBox=\"0 0 24 24\"\n",
              "     width=\"24px\">\n",
              "    <g>\n",
              "        <path d=\"M19 3H5c-1.1 0-2 .9-2 2v14c0 1.1.9 2 2 2h14c1.1 0 2-.9 2-2V5c0-1.1-.9-2-2-2zM9 17H7v-7h2v7zm4 0h-2V7h2v10zm4 0h-2v-4h2v4z\"/>\n",
              "    </g>\n",
              "</svg>\n",
              "  </button>\n",
              "\n",
              "<style>\n",
              "  .colab-df-quickchart {\n",
              "      --bg-color: #E8F0FE;\n",
              "      --fill-color: #1967D2;\n",
              "      --hover-bg-color: #E2EBFA;\n",
              "      --hover-fill-color: #174EA6;\n",
              "      --disabled-fill-color: #AAA;\n",
              "      --disabled-bg-color: #DDD;\n",
              "  }\n",
              "\n",
              "  [theme=dark] .colab-df-quickchart {\n",
              "      --bg-color: #3B4455;\n",
              "      --fill-color: #D2E3FC;\n",
              "      --hover-bg-color: #434B5C;\n",
              "      --hover-fill-color: #FFFFFF;\n",
              "      --disabled-bg-color: #3B4455;\n",
              "      --disabled-fill-color: #666;\n",
              "  }\n",
              "\n",
              "  .colab-df-quickchart {\n",
              "    background-color: var(--bg-color);\n",
              "    border: none;\n",
              "    border-radius: 50%;\n",
              "    cursor: pointer;\n",
              "    display: none;\n",
              "    fill: var(--fill-color);\n",
              "    height: 32px;\n",
              "    padding: 0;\n",
              "    width: 32px;\n",
              "  }\n",
              "\n",
              "  .colab-df-quickchart:hover {\n",
              "    background-color: var(--hover-bg-color);\n",
              "    box-shadow: 0 1px 2px rgba(60, 64, 67, 0.3), 0 1px 3px 1px rgba(60, 64, 67, 0.15);\n",
              "    fill: var(--button-hover-fill-color);\n",
              "  }\n",
              "\n",
              "  .colab-df-quickchart-complete:disabled,\n",
              "  .colab-df-quickchart-complete:disabled:hover {\n",
              "    background-color: var(--disabled-bg-color);\n",
              "    fill: var(--disabled-fill-color);\n",
              "    box-shadow: none;\n",
              "  }\n",
              "\n",
              "  .colab-df-spinner {\n",
              "    border: 2px solid var(--fill-color);\n",
              "    border-color: transparent;\n",
              "    border-bottom-color: var(--fill-color);\n",
              "    animation:\n",
              "      spin 1s steps(1) infinite;\n",
              "  }\n",
              "\n",
              "  @keyframes spin {\n",
              "    0% {\n",
              "      border-color: transparent;\n",
              "      border-bottom-color: var(--fill-color);\n",
              "      border-left-color: var(--fill-color);\n",
              "    }\n",
              "    20% {\n",
              "      border-color: transparent;\n",
              "      border-left-color: var(--fill-color);\n",
              "      border-top-color: var(--fill-color);\n",
              "    }\n",
              "    30% {\n",
              "      border-color: transparent;\n",
              "      border-left-color: var(--fill-color);\n",
              "      border-top-color: var(--fill-color);\n",
              "      border-right-color: var(--fill-color);\n",
              "    }\n",
              "    40% {\n",
              "      border-color: transparent;\n",
              "      border-right-color: var(--fill-color);\n",
              "      border-top-color: var(--fill-color);\n",
              "    }\n",
              "    60% {\n",
              "      border-color: transparent;\n",
              "      border-right-color: var(--fill-color);\n",
              "    }\n",
              "    80% {\n",
              "      border-color: transparent;\n",
              "      border-right-color: var(--fill-color);\n",
              "      border-bottom-color: var(--fill-color);\n",
              "    }\n",
              "    90% {\n",
              "      border-color: transparent;\n",
              "      border-bottom-color: var(--fill-color);\n",
              "    }\n",
              "  }\n",
              "</style>\n",
              "\n",
              "  <script>\n",
              "    async function quickchart(key) {\n",
              "      const quickchartButtonEl =\n",
              "        document.querySelector('#' + key + ' button');\n",
              "      quickchartButtonEl.disabled = true;  // To prevent multiple clicks.\n",
              "      quickchartButtonEl.classList.add('colab-df-spinner');\n",
              "      try {\n",
              "        const charts = await google.colab.kernel.invokeFunction(\n",
              "            'suggestCharts', [key], {});\n",
              "      } catch (error) {\n",
              "        console.error('Error during call to suggestCharts:', error);\n",
              "      }\n",
              "      quickchartButtonEl.classList.remove('colab-df-spinner');\n",
              "      quickchartButtonEl.classList.add('colab-df-quickchart-complete');\n",
              "    }\n",
              "    (() => {\n",
              "      let quickchartButtonEl =\n",
              "        document.querySelector('#df-baf1a045-1cc9-4f7d-b00f-57e15007b84b button');\n",
              "      quickchartButtonEl.style.display =\n",
              "        google.colab.kernel.accessAllowed ? 'block' : 'none';\n",
              "    })();\n",
              "  </script>\n",
              "</div>\n",
              "    </div>\n",
              "  </div>\n"
            ],
            "application/vnd.google.colaboratory.intrinsic+json": {
              "type": "dataframe",
              "variable_name": "df"
            }
          },
          "metadata": {},
          "execution_count": 184
        }
      ]
    },
    {
      "cell_type": "code",
      "source": [
        "# Посмотрим на слова с наибольшим tf-idf в \"38 попугаев\"\n",
        "collections.Counter(tfidfs[0]).most_common(15)"
      ],
      "metadata": {
        "colab": {
          "base_uri": "https://localhost:8080/"
        },
        "id": "o0JxFBbiO311",
        "outputId": "c2ac57d5-3322-4032-d336-93aca369246d"
      },
      "execution_count": null,
      "outputs": [
        {
          "output_type": "execute_result",
          "data": {
            "text/plain": [
              "[('измерять', 0.02053434981861515),\n",
              " ('рост', 0.015747563433514026),\n",
              " ('ползти', 0.013396034942971109),\n",
              " ('принимать', 0.008611736749052855),\n",
              " ('половина', 0.008213739927446062),\n",
              " ('складываться', 0.006844783272871718),\n",
              " ('мерять', 0.006844783272871718),\n",
              " ('дергать', 0.005741157832701903),\n",
              " ('шагнуть', 0.005475826618297374),\n",
              " ('измеряться', 0.005475826618297374),\n",
              " ('порываться', 0.005475826618297374),\n",
              " ('э', 0.005475826618297374),\n",
              " ('глотать', 0.005475826618297374),\n",
              " ('целый', 0.004784298193918253),\n",
              " ('длинный', 0.004358100983943663)]"
            ]
          },
          "metadata": {},
          "execution_count": 185
        }
      ]
    },
    {
      "cell_type": "code",
      "source": [
        "# Бабушка\n",
        "collections.Counter(tfidfs[1]).most_common(15)"
      ],
      "metadata": {
        "colab": {
          "base_uri": "https://localhost:8080/"
        },
        "id": "oC-A5nluR10M",
        "outputId": "a552de25-2e19-4a1f-ca42-34417fb6cfb4"
      },
      "execution_count": null,
      "outputs": [
        {
          "output_type": "execute_result",
          "data": {
            "text/plain": [
              "[('бабушка', 0.05616830298427732),\n",
              " ('банан', 0.015352673343753547),\n",
              " ('ждать', 0.012961916073294768),\n",
              " ('здравствовать', 0.012362872982518366),\n",
              " ('присмотр', 0.009272154736888777),\n",
              " ('гулять', 0.008641277382196512),\n",
              " ('взрослый', 0.007726795614073979),\n",
              " ('внук', 0.007726795614073979),\n",
              " ('спелый', 0.007726795614073979),\n",
              " ('дорогой', 0.007726795614073979),\n",
              " ('воспитание', 0.007726795614073979),\n",
              " ('приезжать', 0.007272318952304312),\n",
              " ('товарищ', 0.006181436491259183),\n",
              " ('обращаться', 0.0046360773684443884),\n",
              " ('хвостливый', 0.0046360773684443884)]"
            ]
          },
          "metadata": {},
          "execution_count": 186
        }
      ]
    },
    {
      "cell_type": "code",
      "source": [
        "# Зарядка\n",
        "collections.Counter(tfidfs[3]).most_common(15)"
      ],
      "metadata": {
        "colab": {
          "base_uri": "https://localhost:8080/"
        },
        "id": "pfp2viUnR2fp",
        "outputId": "fa6220ad-6d14-4177-af1c-76f65432fd04"
      },
      "execution_count": null,
      "outputs": [
        {
          "output_type": "execute_result",
          "data": {
            "text/plain": [
              "[('зарядка', 0.047841915471055915),\n",
              " ('упражнение', 0.016976163554245645),\n",
              " ('нога', 0.015353396981805548),\n",
              " ('падать', 0.012282717585444438),\n",
              " ('для', 0.010490379662357352),\n",
              " ('вместе', 0.00975609302396706),\n",
              " ('мускул', 0.00925972557504308),\n",
              " ('спина', 0.00862969390045094),\n",
              " ('забывать', 0.007716437979202567),\n",
              " ('начинаться', 0.006472270425338205),\n",
              " ('хватать', 0.0061731503833620536),\n",
              " ('нравиться', 0.0061731503833620536),\n",
              " ('лежа', 0.0061731503833620536),\n",
              " ('ставить', 0.0056486659720385735),\n",
              " ('утро', 0.005393558687781837)]"
            ]
          },
          "metadata": {},
          "execution_count": 187
        }
      ]
    },
    {
      "cell_type": "code",
      "source": [
        "# Закон тяготения\n",
        "collections.Counter(tfidfs[4]).most_common(15)"
      ],
      "metadata": {
        "colab": {
          "base_uri": "https://localhost:8080/"
        },
        "id": "rC7riyoVTPoY",
        "outputId": "b57c0829-c4d6-42e5-85d3-8aeb9f6efd07"
      },
      "execution_count": null,
      "outputs": [
        {
          "output_type": "execute_result",
          "data": {
            "text/plain": [
              "[('закон', 0.03414649036281684),\n",
              " ('орех', 0.0194403974230726),\n",
              " ('бросать', 0.01628419443418703),\n",
              " ('закрываться', 0.01628419443418703),\n",
              " ('стукнуть', 0.013027355547349623),\n",
              " ('жалко', 0.009105730763417823),\n",
              " ('умный', 0.007776158969229039),\n",
              " ('природа', 0.006811727322919016),\n",
              " ('наоборот', 0.006811727322919016),\n",
              " ('трахнуть', 0.0065136777736748116),\n",
              " ('действовать', 0.0065136777736748116),\n",
              " ('делаться', 0.0065136777736748116),\n",
              " ('макушка', 0.0065136777736748116),\n",
              " ('затылок', 0.0065136777736748116),\n",
              " ('банановый', 0.0065136777736748116)]"
            ]
          },
          "metadata": {},
          "execution_count": 188
        }
      ]
    },
    {
      "cell_type": "markdown",
      "source": [
        "То же самое с помощью TfidfVectorizer"
      ],
      "metadata": {
        "id": "3Zv2QadiSyP_"
      }
    },
    {
      "cell_type": "code",
      "source": [
        "oster_corpus = list(name_text.values())  # список списков слов"
      ],
      "metadata": {
        "id": "bzUN8MMQpuGw"
      },
      "execution_count": null,
      "outputs": []
    },
    {
      "cell_type": "code",
      "source": [
        "vect_tfidf = TfidfVectorizer()\n",
        "oster_tfidf = vect_tfidf.fit_transform(oster_corpus)"
      ],
      "metadata": {
        "id": "q9NQe9g3FJ1G"
      },
      "execution_count": null,
      "outputs": []
    },
    {
      "cell_type": "code",
      "source": [
        "df = pd.DataFrame(oster_tfidf.toarray())\n",
        "df.columns =list(vect_tfidf.get_feature_names_out())\n",
        "df"
      ],
      "metadata": {
        "colab": {
          "base_uri": "https://localhost:8080/",
          "height": 412
        },
        "id": "5OTPhWPwF5SL",
        "outputId": "8b416e95-c56e-4a46-cda7-6ed0c9d3b85a"
      },
      "execution_count": null,
      "outputs": [
        {
          "output_type": "execute_result",
          "data": {
            "text/plain": [
              "        ааа      аааа       ага        ай  аккуратно   ананасы    африке  \\\n",
              "0  0.000000  0.000000  0.000000  0.000000   0.000000  0.000000  0.031585   \n",
              "1  0.000000  0.000000  0.000000  0.000000   0.000000  0.000000  0.010338   \n",
              "2  0.000000  0.010851  0.009745  0.000000   0.000000  0.000000  0.000000   \n",
              "3  0.013933  0.009213  0.000000  0.000000   0.000000  0.000000  0.000000   \n",
              "4  0.000000  0.000000  0.010782  0.015436   0.000000  0.018158  0.010782   \n",
              "5  0.000000  0.016161  0.000000  0.000000   0.000000  0.000000  0.000000   \n",
              "6  0.000000  0.000000  0.011969  0.000000   0.000000  0.000000  0.011969   \n",
              "7  0.000000  0.000000  0.000000  0.000000   0.000000  0.000000  0.000000   \n",
              "8  0.000000  0.000000  0.037433  0.053588   0.031519  0.000000  0.000000   \n",
              "9  0.000000  0.011430  0.020529  0.000000   0.000000  0.000000  0.010265   \n",
              "\n",
              "    африку        ах    ахнул  ...      этом     этому      этот       эту  \\\n",
              "0  0.00000  0.045216  0.00000  ...  0.000000  0.000000  0.000000  0.000000   \n",
              "1  0.00000  0.000000  0.01741  ...  0.000000  0.000000  0.015457  0.018692   \n",
              "2  0.01641  0.000000  0.00000  ...  0.010851  0.000000  0.021854  0.000000   \n",
              "3  0.00000  0.000000  0.00000  ...  0.009213  0.000000  0.012370  0.007479   \n",
              "4  0.00000  0.000000  0.00000  ...  0.024013  0.000000  0.008060  0.000000   \n",
              "5  0.00000  0.041554  0.00000  ...  0.000000  0.000000  0.000000  0.013121   \n",
              "6  0.00000  0.000000  0.00000  ...  0.000000  0.020155  0.008947  0.000000   \n",
              "7  0.00000  0.000000  0.00000  ...  0.000000  0.000000  0.007933  0.028780   \n",
              "8  0.00000  0.000000  0.00000  ...  0.000000  0.000000  0.055966  0.016920   \n",
              "9  0.00000  0.000000  0.00000  ...  0.011430  0.000000  0.023020  0.018559   \n",
              "\n",
              "         эх    яблоко      ясно    ящиков    ящичек       ёй  \n",
              "0  0.000000  0.000000  0.000000  0.000000  0.000000  0.00000  \n",
              "1  0.000000  0.000000  0.000000  0.000000  0.000000  0.00000  \n",
              "2  0.000000  0.000000  0.036615  0.000000  0.000000  0.01641  \n",
              "3  0.000000  0.000000  0.000000  0.013933  0.013933  0.00000  \n",
              "4  0.018158  0.000000  0.000000  0.000000  0.000000  0.00000  \n",
              "5  0.000000  0.000000  0.000000  0.000000  0.000000  0.00000  \n",
              "6  0.000000  0.000000  0.014990  0.000000  0.000000  0.00000  \n",
              "7  0.000000  0.000000  0.000000  0.000000  0.000000  0.00000  \n",
              "8  0.000000  0.031519  0.000000  0.000000  0.000000  0.00000  \n",
              "9  0.000000  0.000000  0.025712  0.000000  0.000000  0.00000  \n",
              "\n",
              "[10 rows x 2444 columns]"
            ],
            "text/html": [
              "\n",
              "  <div id=\"df-bc969826-0b8b-400d-92e0-a68a07083dd5\" class=\"colab-df-container\">\n",
              "    <div>\n",
              "<style scoped>\n",
              "    .dataframe tbody tr th:only-of-type {\n",
              "        vertical-align: middle;\n",
              "    }\n",
              "\n",
              "    .dataframe tbody tr th {\n",
              "        vertical-align: top;\n",
              "    }\n",
              "\n",
              "    .dataframe thead th {\n",
              "        text-align: right;\n",
              "    }\n",
              "</style>\n",
              "<table border=\"1\" class=\"dataframe\">\n",
              "  <thead>\n",
              "    <tr style=\"text-align: right;\">\n",
              "      <th></th>\n",
              "      <th>ааа</th>\n",
              "      <th>аааа</th>\n",
              "      <th>ага</th>\n",
              "      <th>ай</th>\n",
              "      <th>аккуратно</th>\n",
              "      <th>ананасы</th>\n",
              "      <th>африке</th>\n",
              "      <th>африку</th>\n",
              "      <th>ах</th>\n",
              "      <th>ахнул</th>\n",
              "      <th>...</th>\n",
              "      <th>этом</th>\n",
              "      <th>этому</th>\n",
              "      <th>этот</th>\n",
              "      <th>эту</th>\n",
              "      <th>эх</th>\n",
              "      <th>яблоко</th>\n",
              "      <th>ясно</th>\n",
              "      <th>ящиков</th>\n",
              "      <th>ящичек</th>\n",
              "      <th>ёй</th>\n",
              "    </tr>\n",
              "  </thead>\n",
              "  <tbody>\n",
              "    <tr>\n",
              "      <th>0</th>\n",
              "      <td>0.000000</td>\n",
              "      <td>0.000000</td>\n",
              "      <td>0.000000</td>\n",
              "      <td>0.000000</td>\n",
              "      <td>0.000000</td>\n",
              "      <td>0.000000</td>\n",
              "      <td>0.031585</td>\n",
              "      <td>0.00000</td>\n",
              "      <td>0.045216</td>\n",
              "      <td>0.00000</td>\n",
              "      <td>...</td>\n",
              "      <td>0.000000</td>\n",
              "      <td>0.000000</td>\n",
              "      <td>0.000000</td>\n",
              "      <td>0.000000</td>\n",
              "      <td>0.000000</td>\n",
              "      <td>0.000000</td>\n",
              "      <td>0.000000</td>\n",
              "      <td>0.000000</td>\n",
              "      <td>0.000000</td>\n",
              "      <td>0.00000</td>\n",
              "    </tr>\n",
              "    <tr>\n",
              "      <th>1</th>\n",
              "      <td>0.000000</td>\n",
              "      <td>0.000000</td>\n",
              "      <td>0.000000</td>\n",
              "      <td>0.000000</td>\n",
              "      <td>0.000000</td>\n",
              "      <td>0.000000</td>\n",
              "      <td>0.010338</td>\n",
              "      <td>0.00000</td>\n",
              "      <td>0.000000</td>\n",
              "      <td>0.01741</td>\n",
              "      <td>...</td>\n",
              "      <td>0.000000</td>\n",
              "      <td>0.000000</td>\n",
              "      <td>0.015457</td>\n",
              "      <td>0.018692</td>\n",
              "      <td>0.000000</td>\n",
              "      <td>0.000000</td>\n",
              "      <td>0.000000</td>\n",
              "      <td>0.000000</td>\n",
              "      <td>0.000000</td>\n",
              "      <td>0.00000</td>\n",
              "    </tr>\n",
              "    <tr>\n",
              "      <th>2</th>\n",
              "      <td>0.000000</td>\n",
              "      <td>0.010851</td>\n",
              "      <td>0.009745</td>\n",
              "      <td>0.000000</td>\n",
              "      <td>0.000000</td>\n",
              "      <td>0.000000</td>\n",
              "      <td>0.000000</td>\n",
              "      <td>0.01641</td>\n",
              "      <td>0.000000</td>\n",
              "      <td>0.00000</td>\n",
              "      <td>...</td>\n",
              "      <td>0.010851</td>\n",
              "      <td>0.000000</td>\n",
              "      <td>0.021854</td>\n",
              "      <td>0.000000</td>\n",
              "      <td>0.000000</td>\n",
              "      <td>0.000000</td>\n",
              "      <td>0.036615</td>\n",
              "      <td>0.000000</td>\n",
              "      <td>0.000000</td>\n",
              "      <td>0.01641</td>\n",
              "    </tr>\n",
              "    <tr>\n",
              "      <th>3</th>\n",
              "      <td>0.013933</td>\n",
              "      <td>0.009213</td>\n",
              "      <td>0.000000</td>\n",
              "      <td>0.000000</td>\n",
              "      <td>0.000000</td>\n",
              "      <td>0.000000</td>\n",
              "      <td>0.000000</td>\n",
              "      <td>0.00000</td>\n",
              "      <td>0.000000</td>\n",
              "      <td>0.00000</td>\n",
              "      <td>...</td>\n",
              "      <td>0.009213</td>\n",
              "      <td>0.000000</td>\n",
              "      <td>0.012370</td>\n",
              "      <td>0.007479</td>\n",
              "      <td>0.000000</td>\n",
              "      <td>0.000000</td>\n",
              "      <td>0.000000</td>\n",
              "      <td>0.013933</td>\n",
              "      <td>0.013933</td>\n",
              "      <td>0.00000</td>\n",
              "    </tr>\n",
              "    <tr>\n",
              "      <th>4</th>\n",
              "      <td>0.000000</td>\n",
              "      <td>0.000000</td>\n",
              "      <td>0.010782</td>\n",
              "      <td>0.015436</td>\n",
              "      <td>0.000000</td>\n",
              "      <td>0.018158</td>\n",
              "      <td>0.010782</td>\n",
              "      <td>0.00000</td>\n",
              "      <td>0.000000</td>\n",
              "      <td>0.00000</td>\n",
              "      <td>...</td>\n",
              "      <td>0.024013</td>\n",
              "      <td>0.000000</td>\n",
              "      <td>0.008060</td>\n",
              "      <td>0.000000</td>\n",
              "      <td>0.018158</td>\n",
              "      <td>0.000000</td>\n",
              "      <td>0.000000</td>\n",
              "      <td>0.000000</td>\n",
              "      <td>0.000000</td>\n",
              "      <td>0.00000</td>\n",
              "    </tr>\n",
              "    <tr>\n",
              "      <th>5</th>\n",
              "      <td>0.000000</td>\n",
              "      <td>0.016161</td>\n",
              "      <td>0.000000</td>\n",
              "      <td>0.000000</td>\n",
              "      <td>0.000000</td>\n",
              "      <td>0.000000</td>\n",
              "      <td>0.000000</td>\n",
              "      <td>0.00000</td>\n",
              "      <td>0.041554</td>\n",
              "      <td>0.00000</td>\n",
              "      <td>...</td>\n",
              "      <td>0.000000</td>\n",
              "      <td>0.000000</td>\n",
              "      <td>0.000000</td>\n",
              "      <td>0.013121</td>\n",
              "      <td>0.000000</td>\n",
              "      <td>0.000000</td>\n",
              "      <td>0.000000</td>\n",
              "      <td>0.000000</td>\n",
              "      <td>0.000000</td>\n",
              "      <td>0.00000</td>\n",
              "    </tr>\n",
              "    <tr>\n",
              "      <th>6</th>\n",
              "      <td>0.000000</td>\n",
              "      <td>0.000000</td>\n",
              "      <td>0.011969</td>\n",
              "      <td>0.000000</td>\n",
              "      <td>0.000000</td>\n",
              "      <td>0.000000</td>\n",
              "      <td>0.011969</td>\n",
              "      <td>0.00000</td>\n",
              "      <td>0.000000</td>\n",
              "      <td>0.00000</td>\n",
              "      <td>...</td>\n",
              "      <td>0.000000</td>\n",
              "      <td>0.020155</td>\n",
              "      <td>0.008947</td>\n",
              "      <td>0.000000</td>\n",
              "      <td>0.000000</td>\n",
              "      <td>0.000000</td>\n",
              "      <td>0.014990</td>\n",
              "      <td>0.000000</td>\n",
              "      <td>0.000000</td>\n",
              "      <td>0.00000</td>\n",
              "    </tr>\n",
              "    <tr>\n",
              "      <th>7</th>\n",
              "      <td>0.000000</td>\n",
              "      <td>0.000000</td>\n",
              "      <td>0.000000</td>\n",
              "      <td>0.000000</td>\n",
              "      <td>0.000000</td>\n",
              "      <td>0.000000</td>\n",
              "      <td>0.000000</td>\n",
              "      <td>0.00000</td>\n",
              "      <td>0.000000</td>\n",
              "      <td>0.00000</td>\n",
              "      <td>...</td>\n",
              "      <td>0.000000</td>\n",
              "      <td>0.000000</td>\n",
              "      <td>0.007933</td>\n",
              "      <td>0.028780</td>\n",
              "      <td>0.000000</td>\n",
              "      <td>0.000000</td>\n",
              "      <td>0.000000</td>\n",
              "      <td>0.000000</td>\n",
              "      <td>0.000000</td>\n",
              "      <td>0.00000</td>\n",
              "    </tr>\n",
              "    <tr>\n",
              "      <th>8</th>\n",
              "      <td>0.000000</td>\n",
              "      <td>0.000000</td>\n",
              "      <td>0.037433</td>\n",
              "      <td>0.053588</td>\n",
              "      <td>0.031519</td>\n",
              "      <td>0.000000</td>\n",
              "      <td>0.000000</td>\n",
              "      <td>0.00000</td>\n",
              "      <td>0.000000</td>\n",
              "      <td>0.00000</td>\n",
              "      <td>...</td>\n",
              "      <td>0.000000</td>\n",
              "      <td>0.000000</td>\n",
              "      <td>0.055966</td>\n",
              "      <td>0.016920</td>\n",
              "      <td>0.000000</td>\n",
              "      <td>0.031519</td>\n",
              "      <td>0.000000</td>\n",
              "      <td>0.000000</td>\n",
              "      <td>0.000000</td>\n",
              "      <td>0.00000</td>\n",
              "    </tr>\n",
              "    <tr>\n",
              "      <th>9</th>\n",
              "      <td>0.000000</td>\n",
              "      <td>0.011430</td>\n",
              "      <td>0.020529</td>\n",
              "      <td>0.000000</td>\n",
              "      <td>0.000000</td>\n",
              "      <td>0.000000</td>\n",
              "      <td>0.010265</td>\n",
              "      <td>0.00000</td>\n",
              "      <td>0.000000</td>\n",
              "      <td>0.00000</td>\n",
              "      <td>...</td>\n",
              "      <td>0.011430</td>\n",
              "      <td>0.000000</td>\n",
              "      <td>0.023020</td>\n",
              "      <td>0.018559</td>\n",
              "      <td>0.000000</td>\n",
              "      <td>0.000000</td>\n",
              "      <td>0.025712</td>\n",
              "      <td>0.000000</td>\n",
              "      <td>0.000000</td>\n",
              "      <td>0.00000</td>\n",
              "    </tr>\n",
              "  </tbody>\n",
              "</table>\n",
              "<p>10 rows × 2444 columns</p>\n",
              "</div>\n",
              "    <div class=\"colab-df-buttons\">\n",
              "\n",
              "  <div class=\"colab-df-container\">\n",
              "    <button class=\"colab-df-convert\" onclick=\"convertToInteractive('df-bc969826-0b8b-400d-92e0-a68a07083dd5')\"\n",
              "            title=\"Convert this dataframe to an interactive table.\"\n",
              "            style=\"display:none;\">\n",
              "\n",
              "  <svg xmlns=\"http://www.w3.org/2000/svg\" height=\"24px\" viewBox=\"0 -960 960 960\">\n",
              "    <path d=\"M120-120v-720h720v720H120Zm60-500h600v-160H180v160Zm220 220h160v-160H400v160Zm0 220h160v-160H400v160ZM180-400h160v-160H180v160Zm440 0h160v-160H620v160ZM180-180h160v-160H180v160Zm440 0h160v-160H620v160Z\"/>\n",
              "  </svg>\n",
              "    </button>\n",
              "\n",
              "  <style>\n",
              "    .colab-df-container {\n",
              "      display:flex;\n",
              "      gap: 12px;\n",
              "    }\n",
              "\n",
              "    .colab-df-convert {\n",
              "      background-color: #E8F0FE;\n",
              "      border: none;\n",
              "      border-radius: 50%;\n",
              "      cursor: pointer;\n",
              "      display: none;\n",
              "      fill: #1967D2;\n",
              "      height: 32px;\n",
              "      padding: 0 0 0 0;\n",
              "      width: 32px;\n",
              "    }\n",
              "\n",
              "    .colab-df-convert:hover {\n",
              "      background-color: #E2EBFA;\n",
              "      box-shadow: 0px 1px 2px rgba(60, 64, 67, 0.3), 0px 1px 3px 1px rgba(60, 64, 67, 0.15);\n",
              "      fill: #174EA6;\n",
              "    }\n",
              "\n",
              "    .colab-df-buttons div {\n",
              "      margin-bottom: 4px;\n",
              "    }\n",
              "\n",
              "    [theme=dark] .colab-df-convert {\n",
              "      background-color: #3B4455;\n",
              "      fill: #D2E3FC;\n",
              "    }\n",
              "\n",
              "    [theme=dark] .colab-df-convert:hover {\n",
              "      background-color: #434B5C;\n",
              "      box-shadow: 0px 1px 3px 1px rgba(0, 0, 0, 0.15);\n",
              "      filter: drop-shadow(0px 1px 2px rgba(0, 0, 0, 0.3));\n",
              "      fill: #FFFFFF;\n",
              "    }\n",
              "  </style>\n",
              "\n",
              "    <script>\n",
              "      const buttonEl =\n",
              "        document.querySelector('#df-bc969826-0b8b-400d-92e0-a68a07083dd5 button.colab-df-convert');\n",
              "      buttonEl.style.display =\n",
              "        google.colab.kernel.accessAllowed ? 'block' : 'none';\n",
              "\n",
              "      async function convertToInteractive(key) {\n",
              "        const element = document.querySelector('#df-bc969826-0b8b-400d-92e0-a68a07083dd5');\n",
              "        const dataTable =\n",
              "          await google.colab.kernel.invokeFunction('convertToInteractive',\n",
              "                                                    [key], {});\n",
              "        if (!dataTable) return;\n",
              "\n",
              "        const docLinkHtml = 'Like what you see? Visit the ' +\n",
              "          '<a target=\"_blank\" href=https://colab.research.google.com/notebooks/data_table.ipynb>data table notebook</a>'\n",
              "          + ' to learn more about interactive tables.';\n",
              "        element.innerHTML = '';\n",
              "        dataTable['output_type'] = 'display_data';\n",
              "        await google.colab.output.renderOutput(dataTable, element);\n",
              "        const docLink = document.createElement('div');\n",
              "        docLink.innerHTML = docLinkHtml;\n",
              "        element.appendChild(docLink);\n",
              "      }\n",
              "    </script>\n",
              "  </div>\n",
              "\n",
              "\n",
              "<div id=\"df-de272301-62ac-402a-889d-56540e03d02a\">\n",
              "  <button class=\"colab-df-quickchart\" onclick=\"quickchart('df-de272301-62ac-402a-889d-56540e03d02a')\"\n",
              "            title=\"Suggest charts\"\n",
              "            style=\"display:none;\">\n",
              "\n",
              "<svg xmlns=\"http://www.w3.org/2000/svg\" height=\"24px\"viewBox=\"0 0 24 24\"\n",
              "     width=\"24px\">\n",
              "    <g>\n",
              "        <path d=\"M19 3H5c-1.1 0-2 .9-2 2v14c0 1.1.9 2 2 2h14c1.1 0 2-.9 2-2V5c0-1.1-.9-2-2-2zM9 17H7v-7h2v7zm4 0h-2V7h2v10zm4 0h-2v-4h2v4z\"/>\n",
              "    </g>\n",
              "</svg>\n",
              "  </button>\n",
              "\n",
              "<style>\n",
              "  .colab-df-quickchart {\n",
              "      --bg-color: #E8F0FE;\n",
              "      --fill-color: #1967D2;\n",
              "      --hover-bg-color: #E2EBFA;\n",
              "      --hover-fill-color: #174EA6;\n",
              "      --disabled-fill-color: #AAA;\n",
              "      --disabled-bg-color: #DDD;\n",
              "  }\n",
              "\n",
              "  [theme=dark] .colab-df-quickchart {\n",
              "      --bg-color: #3B4455;\n",
              "      --fill-color: #D2E3FC;\n",
              "      --hover-bg-color: #434B5C;\n",
              "      --hover-fill-color: #FFFFFF;\n",
              "      --disabled-bg-color: #3B4455;\n",
              "      --disabled-fill-color: #666;\n",
              "  }\n",
              "\n",
              "  .colab-df-quickchart {\n",
              "    background-color: var(--bg-color);\n",
              "    border: none;\n",
              "    border-radius: 50%;\n",
              "    cursor: pointer;\n",
              "    display: none;\n",
              "    fill: var(--fill-color);\n",
              "    height: 32px;\n",
              "    padding: 0;\n",
              "    width: 32px;\n",
              "  }\n",
              "\n",
              "  .colab-df-quickchart:hover {\n",
              "    background-color: var(--hover-bg-color);\n",
              "    box-shadow: 0 1px 2px rgba(60, 64, 67, 0.3), 0 1px 3px 1px rgba(60, 64, 67, 0.15);\n",
              "    fill: var(--button-hover-fill-color);\n",
              "  }\n",
              "\n",
              "  .colab-df-quickchart-complete:disabled,\n",
              "  .colab-df-quickchart-complete:disabled:hover {\n",
              "    background-color: var(--disabled-bg-color);\n",
              "    fill: var(--disabled-fill-color);\n",
              "    box-shadow: none;\n",
              "  }\n",
              "\n",
              "  .colab-df-spinner {\n",
              "    border: 2px solid var(--fill-color);\n",
              "    border-color: transparent;\n",
              "    border-bottom-color: var(--fill-color);\n",
              "    animation:\n",
              "      spin 1s steps(1) infinite;\n",
              "  }\n",
              "\n",
              "  @keyframes spin {\n",
              "    0% {\n",
              "      border-color: transparent;\n",
              "      border-bottom-color: var(--fill-color);\n",
              "      border-left-color: var(--fill-color);\n",
              "    }\n",
              "    20% {\n",
              "      border-color: transparent;\n",
              "      border-left-color: var(--fill-color);\n",
              "      border-top-color: var(--fill-color);\n",
              "    }\n",
              "    30% {\n",
              "      border-color: transparent;\n",
              "      border-left-color: var(--fill-color);\n",
              "      border-top-color: var(--fill-color);\n",
              "      border-right-color: var(--fill-color);\n",
              "    }\n",
              "    40% {\n",
              "      border-color: transparent;\n",
              "      border-right-color: var(--fill-color);\n",
              "      border-top-color: var(--fill-color);\n",
              "    }\n",
              "    60% {\n",
              "      border-color: transparent;\n",
              "      border-right-color: var(--fill-color);\n",
              "    }\n",
              "    80% {\n",
              "      border-color: transparent;\n",
              "      border-right-color: var(--fill-color);\n",
              "      border-bottom-color: var(--fill-color);\n",
              "    }\n",
              "    90% {\n",
              "      border-color: transparent;\n",
              "      border-bottom-color: var(--fill-color);\n",
              "    }\n",
              "  }\n",
              "</style>\n",
              "\n",
              "  <script>\n",
              "    async function quickchart(key) {\n",
              "      const quickchartButtonEl =\n",
              "        document.querySelector('#' + key + ' button');\n",
              "      quickchartButtonEl.disabled = true;  // To prevent multiple clicks.\n",
              "      quickchartButtonEl.classList.add('colab-df-spinner');\n",
              "      try {\n",
              "        const charts = await google.colab.kernel.invokeFunction(\n",
              "            'suggestCharts', [key], {});\n",
              "      } catch (error) {\n",
              "        console.error('Error during call to suggestCharts:', error);\n",
              "      }\n",
              "      quickchartButtonEl.classList.remove('colab-df-spinner');\n",
              "      quickchartButtonEl.classList.add('colab-df-quickchart-complete');\n",
              "    }\n",
              "    (() => {\n",
              "      let quickchartButtonEl =\n",
              "        document.querySelector('#df-de272301-62ac-402a-889d-56540e03d02a button');\n",
              "      quickchartButtonEl.style.display =\n",
              "        google.colab.kernel.accessAllowed ? 'block' : 'none';\n",
              "    })();\n",
              "  </script>\n",
              "</div>\n",
              "    </div>\n",
              "  </div>\n"
            ],
            "application/vnd.google.colaboratory.intrinsic+json": {
              "type": "dataframe",
              "variable_name": "df"
            }
          },
          "metadata": {},
          "execution_count": 106
        }
      ]
    },
    {
      "cell_type": "code",
      "source": [
        "uniq_words = list(vect_tfidf.get_feature_names_out())"
      ],
      "metadata": {
        "id": "ykl-ueCkNS0c"
      },
      "execution_count": null,
      "outputs": []
    },
    {
      "cell_type": "code",
      "source": [
        "# Посмотрим на слова с наибольшим tf-idf рассказе \"38 попугаев\"\n",
        "word_tfidf = dict(zip(uniq_words,\n",
        "                      list(vect_tfidf.transform([name_text['38popugajev']]).toarray()[0])))\n",
        "collections.Counter(word_tfidf).most_common(15)"
      ],
      "metadata": {
        "colab": {
          "base_uri": "https://localhost:8080/"
        },
        "id": "Ihe91lU_p33K",
        "outputId": "4cdf0314-5f93-4ba3-84b6-d7754b471741"
      },
      "execution_count": null,
      "outputs": [
        {
          "output_type": "execute_result",
          "data": {
            "text/plain": [
              "[('удав', 0.3701033412448211),\n",
              " ('мартышка', 0.30943066235222744),\n",
              " ('рост', 0.244098432348634),\n",
              " ('не', 0.21235437612407768),\n",
              " ('попугай', 0.18201803667778085),\n",
              " ('он', 0.17942958763305333),\n",
              " ('сказал', 0.16381623301000278),\n",
              " ('что', 0.1577489651207434),\n",
              " ('голова', 0.14106364888002004),\n",
              " ('хвост', 0.13955634593681926),\n",
              " ('слонёнок', 0.13347989356370596),\n",
              " ('его', 0.1329108056541136),\n",
              " ('измерить', 0.11487301874001601),\n",
              " ('порвался', 0.11487301874001601),\n",
              " ('хи', 0.11487301874001601)]"
            ]
          },
          "metadata": {},
          "execution_count": 190
        }
      ]
    },
    {
      "cell_type": "code",
      "source": [
        "# Бабушка\n",
        "word_tfidf = dict(zip(uniq_words,\n",
        "                      list(vect_tfidf.transform([name_text['babushka']]).toarray()[0])))\n",
        "collections.Counter(word_tfidf).most_common(15)"
      ],
      "metadata": {
        "colab": {
          "base_uri": "https://localhost:8080/"
        },
        "id": "B2d-6xNvqI_-",
        "outputId": "db2277ae-8456-493b-81d0-da751c982abe"
      },
      "execution_count": null,
      "outputs": [
        {
          "output_type": "execute_result",
          "data": {
            "text/plain": [
              "[('бабушка', 0.5179896983102189),\n",
              " ('банан', 0.2959623026029398),\n",
              " ('мартышка', 0.21884648219347042),\n",
              " ('на', 0.18022651474756388),\n",
              " ('что', 0.17378985350657944),\n",
              " ('не', 0.16735319226559503),\n",
              " ('она', 0.1442694804950735),\n",
              " ('попугай', 0.1416065473016573),\n",
              " ('слонёнок', 0.1416065473016573),\n",
              " ('бабушке', 0.12186683048356345),\n",
              " ('сказала', 0.11585990233771963),\n",
              " ('здравствуйте', 0.1044572832716258),\n",
              " ('играть', 0.10359793966204377),\n",
              " ('удав', 0.10298657985575078),\n",
              " ('ты', 0.0987019681368305)]"
            ]
          },
          "metadata": {},
          "execution_count": 134
        }
      ]
    },
    {
      "cell_type": "code",
      "source": [
        "# Зарядка\n",
        "word_tfidf = dict(zip(uniq_words,\n",
        "                      list(vect_tfidf.transform([name_text['zaryadka']]).toarray()[0])))\n",
        "collections.Counter(word_tfidf).most_common(15)"
      ],
      "metadata": {
        "colab": {
          "base_uri": "https://localhost:8080/"
        },
        "id": "Vp0pAy-CTXru",
        "outputId": "71b92a16-b2fb-4047-e55b-f082ab845b12"
      },
      "execution_count": null,
      "outputs": [
        {
          "output_type": "execute_result",
          "data": {
            "text/plain": [
              "[('зарядку', 0.31114529957944087),\n",
              " ('мартышка', 0.28759175435995943),\n",
              " ('ноги', 0.27919648258543256),\n",
              " ('вместе', 0.2155586596282608),\n",
              " ('на', 0.19172783623997297),\n",
              " ('попугай', 0.1853369083653072),\n",
              " ('удав', 0.1853369083653072),\n",
              " ('для', 0.16712795240893782),\n",
              " ('не', 0.1661641247413099),\n",
              " ('слонёнок', 0.1661641247413099),\n",
              " ('зарядка', 0.15557264978972044),\n",
              " ('делать', 0.1437057730855072),\n",
              " ('он', 0.11200077375226612),\n",
              " ('каждое', 0.10371509985981361),\n",
              " ('мускулы', 0.10371509985981361)]"
            ]
          },
          "metadata": {},
          "execution_count": 164
        }
      ]
    },
    {
      "cell_type": "markdown",
      "source": [
        "### Тренировка векторизуйте тексты Остера c помощью CountVectorizer."
      ],
      "metadata": {
        "id": "rYcAbOO3uJDI"
      }
    },
    {
      "cell_type": "code",
      "source": [],
      "metadata": {
        "id": "Ze-Rgs5cuIvZ"
      },
      "execution_count": null,
      "outputs": []
    },
    {
      "cell_type": "markdown",
      "source": [
        "# Word2Vec\n",
        "\n",
        "Мы видели 2 способа векторизации текстов. BoW и tf-idf.\n",
        "\n",
        "Это просто, но в них семантика слов не учитывается."
      ],
      "metadata": {
        "id": "0i2FKBRgv5Bo"
      }
    },
    {
      "cell_type": "markdown",
      "source": [
        "По-русски понятные объяснения и картинки смотрите [тут](https://habr.com/ru/post/446530/)\n",
        "\n",
        "\n",
        "2 важные мысли:\n",
        "1. **Мы можем представить себе что угодно как совокупность признаков.**\n",
        "- король - муж.: 1, богатый: 1, властный: 1\n",
        "- королева - муж.: 0, богатый: 1, властный: 1\n",
        "- нищий - муж.: 1, богатый: 0, властный: 0\n",
        "- графиня - муж.: 0, богатый: 0.75, властный: 0.75\n",
        "\n",
        "Если мы захотим различать больше слов, добавится ещё признаков. Например, машина - одушевлённость:0 (а у людей будет 1), транспорт:1 (а у яблока будет 0) и т.д.\n",
        "\n",
        "(В итоге король - [1 1 1], королева [0 1 1], графиня [0 0.75 0.75]. Сейчас мы сами решили, какая ось нашего многомерного пространства за что отвечает, но оптимально все признаки не расписать, дальше у нас будут абстрактные оси.)\n",
        "\n",
        "2. **Легко посчитать, насколько близки векторы.**\n",
        "\n",
        "Для этого нужна косинусная близость.\n",
        "\n",
        "![img](https://raw.githubusercontent.com/tbkazakova/compling_for_lyceum/main/pic/cos%20dist.png)\n",
        "\n",
        "Найдём косинусную близость между a(4;1) и b(3;5).\n",
        "$$\\frac{a_1*b_1+a_2*b_2}{\\sqrt{a_1^2+a_2^2}*\\sqrt{b_1^2+b_2^2}}=\\frac{4*3+1*5}{\\sqrt{4^2+1^2}*\\sqrt{3^2+5^2}}=0.7071$$"
      ],
      "metadata": {
        "id": "zaeqcSjnwU2p"
      }
    },
    {
      "cell_type": "code",
      "source": [
        "import math\n",
        "\n",
        "(4*3+1*5)/(math.sqrt(4**2+1**2)*math.sqrt(3**2+5**2))"
      ],
      "metadata": {
        "colab": {
          "base_uri": "https://localhost:8080/"
        },
        "id": "lfnFC08Ev_Hs",
        "outputId": "b2c15bd4-c02c-42c1-fb64-11ae191682f4"
      },
      "execution_count": null,
      "outputs": [
        {
          "output_type": "execute_result",
          "data": {
            "text/plain": [
              "0.7071067811865475"
            ]
          },
          "metadata": {},
          "execution_count": 16
        }
      ]
    },
    {
      "cell_type": "code",
      "source": [
        "from sklearn.metrics.pairwise import cosine_similarity\n",
        "\n",
        "cosine_similarity([[4, 1]], [[3, 5]])"
      ],
      "metadata": {
        "colab": {
          "base_uri": "https://localhost:8080/"
        },
        "id": "v3y9WP_jwaSZ",
        "outputId": "b29044be-83c9-4cf5-c3ba-e2ba45b35f0b"
      },
      "execution_count": null,
      "outputs": [
        {
          "output_type": "execute_result",
          "data": {
            "text/plain": [
              "array([[0.70710678]])"
            ]
          },
          "metadata": {},
          "execution_count": 17
        }
      ]
    },
    {
      "cell_type": "code",
      "source": [
        "print(cosine_similarity([[4, 1]], [[4, 1]]))    # самый близкий - 1\n",
        "print(cosine_similarity([[4, 1]], [[-1, 4]]))   # перпендикулярный - 0\n",
        "print(cosine_similarity([[4, 1]], [[-4, -1]]))  # противоположный - -1"
      ],
      "metadata": {
        "id": "cBBavOA7wgsb"
      },
      "execution_count": null,
      "outputs": []
    },
    {
      "cell_type": "markdown",
      "source": [
        "<img src=\"https://raw.githubusercontent.com/tbkazakova/compling_for_lyceum/main/pic/vectors.png\" width=\"350\" height=\"300\">"
      ],
      "metadata": {
        "id": "y5lHCXs8whK-"
      }
    },
    {
      "cell_type": "markdown",
      "source": [
        "Посмотрим на модель word2vec на сайте [Rusvectores](https://rusvectores.org/ru/calculator/).\n",
        "\n",
        "#### Как это работает?\n",
        "\n",
        "Word2vec принимает большой текстовый корпус в качестве входных данных и сопоставляет каждому слову вектор, выдавая координаты слов на выходе. Сначала он создает словарь, «обучаясь» на входных текстовых данных, а затем вычисляет векторное представление слов. Векторное представление основывается на контекстной близости: слова, встречающиеся в тексте рядом с одинаковыми словами (а следовательно, согласно дистрибутивной гипотезе, имеющие схожий смысл), в векторном представлении будут иметь близкие координаты векторов-слов. Для вычисления близости слов используется косинусное близость между их векторами.\n",
        "\n",
        "\n",
        "С помощью дистрибутивных векторных моделей можно строить семантические пропорции (они же аналогии) и решать примеры:\n",
        "\n",
        "+ король: мужчина = королева: женщина $\\Rightarrow$\n",
        "+ король - мужчина + женщина = королева\n",
        "\n",
        "![w2v](https://raw.githubusercontent.com/tbkazakova/compling_for_lyceum/main/pic/word2vec.png)"
      ],
      "metadata": {
        "id": "FPWZSAy8wm2M"
      }
    },
    {
      "cell_type": "markdown",
      "source": [
        "#### Работа с моделью\n",
        "\n",
        "Модели word2vec бывают разных форматов:\n",
        "\n",
        "+ .vec.gz — обычный файл\n",
        "+ .bin.gz — бинарник\n",
        "\n",
        "Загружаются они с помощью одного и того же класса `KeyedVectors`, меняется только параметр `binary` у функции `load_word2vec_format`.\n",
        "\n",
        "Если же эмбеддинги обучены не с помощью word2vec, то для загрузки нужно использовать функцию `load`. Т.е. для загрузки предобученных эмбеддингов `glove`, `fasttext`, `bpe` и любых других нужна именно она.\n",
        "\n",
        "Скачаем с RusVectōrēs модель для русского языка, обученную на НКРЯ и Википедии образца 2018 г."
      ],
      "metadata": {
        "id": "VwKct2YTxBvr"
      }
    },
    {
      "cell_type": "code",
      "source": [
        "import re\n",
        "import gensim\n",
        "import logging\n",
        "import nltk.data\n",
        "import pandas as pd\n",
        "import urllib.request\n",
        "from bs4 import BeautifulSoup\n",
        "from nltk.corpus import stopwords\n",
        "from gensim.models import word2vec\n",
        "\n",
        "import warnings\n",
        "warnings.filterwarnings('ignore')"
      ],
      "metadata": {
        "id": "wvQ2mM-bxJIR"
      },
      "execution_count": null,
      "outputs": []
    },
    {
      "cell_type": "code",
      "source": [
        "urllib.request.urlretrieve(\"https://rusvectores.org/static/models/rusvectores4/unigrams/ruwikiruscorpora-nobigrams_upos_skipgram_300_5_2018.vec.gz\", \"ruwikiruscorpora-nobigrams_upos_skipgram_300_5_2018.vec.gz\")"
      ],
      "metadata": {
        "colab": {
          "base_uri": "https://localhost:8080/"
        },
        "id": "US8FMghvwoaZ",
        "outputId": "4e5d2ab7-a1ff-4eae-bdf8-7ae664fb3782"
      },
      "execution_count": null,
      "outputs": [
        {
          "output_type": "execute_result",
          "data": {
            "text/plain": [
              "('ruwikiruscorpora-nobigrams_upos_skipgram_300_5_2018.vec.gz',\n",
              " <http.client.HTTPMessage at 0x79c861b69c00>)"
            ]
          },
          "metadata": {},
          "execution_count": 26
        }
      ]
    },
    {
      "cell_type": "code",
      "source": [
        "m = 'ruwikiruscorpora-nobigrams_upos_skipgram_300_5_2018.vec.gz'\n",
        "\n",
        "if m.endswith('.vec.gz'):\n",
        "    model = gensim.models.KeyedVectors.load_word2vec_format(m, binary=False)\n",
        "elif m.endswith('.bin.gz'):\n",
        "    model = gensim.models.KeyedVectors.load_word2vec_format(m, binary=True)\n",
        "else:\n",
        "    model = gensim.models.KeyedVectors.load(m)"
      ],
      "metadata": {
        "id": "sa8YGLcoxQM5"
      },
      "execution_count": null,
      "outputs": []
    },
    {
      "cell_type": "code",
      "source": [
        "words = ['хороший_ADJ', 'плохой_ADJ', 'ужасный_ADJ', 'жуткий_ADJ', 'страшный_ADJ', 'красный_ADJ', 'синий_ADJ']"
      ],
      "metadata": {
        "id": "X3KO_BcaxSP0"
      },
      "execution_count": null,
      "outputs": []
    },
    {
      "cell_type": "markdown",
      "source": [
        "Просим у модели самые близкие слова к данным словам"
      ],
      "metadata": {
        "id": "paknR5oMxZSb"
      }
    },
    {
      "cell_type": "code",
      "source": [
        "for word in ['хороший_ADJ', 'страшный_ADJ', 'красный_ADJ']:\n",
        "    # есть ли слово в модели?\n",
        "    if word in model:\n",
        "        print(word)\n",
        "        # смотрим на вектор слова (его размерность 300, смотрим на первые 10 чисел)\n",
        "        print(model[word][:10])\n",
        "        # выдаем 10 ближайших соседей слова:\n",
        "        for i in model.most_similar(positive=[word], topn=10):\n",
        "            # слово + коэффициент косинусной близости\n",
        "            print(i[0], i[1])\n",
        "        print('\\n')\n",
        "    else:\n",
        "        # Увы!\n",
        "        print('Увы, слова \"%s\" нет в модели!' % word)"
      ],
      "metadata": {
        "colab": {
          "base_uri": "https://localhost:8080/"
        },
        "id": "rd9zP3efxX7S",
        "outputId": "74527ccb-0813-4685-e39b-85d450dcd391"
      },
      "execution_count": null,
      "outputs": [
        {
          "output_type": "stream",
          "name": "stdout",
          "text": [
            "хороший_ADJ\n",
            "[ 0.05271   0.084645  0.011362 -0.021384  0.005557  0.106148  0.038565\n",
            " -0.047672 -0.002414  0.088515]\n",
            "плохой_ADJ 0.8079851269721985\n",
            "неплохой_ADJ 0.7780063152313232\n",
            "хороший_ADV 0.7469695806503296\n",
            "хорошо_ADJ 0.7432217001914978\n",
            "превосходный_ADJ 0.7101497650146484\n",
            "отличный_ADJ 0.7055953741073608\n",
            "плохой_VERB 0.6580293774604797\n",
            "хорошее_ADJ 0.6565685272216797\n",
            "недурной_ADJ 0.6560452580451965\n",
            "плохой_ADV 0.6524969935417175\n",
            "\n",
            "\n",
            "страшный_ADJ\n",
            "[ 0.00463  -0.121499 -0.00197   0.012488 -0.003129  0.033653 -0.149805\n",
            "  0.03068  -0.029428  0.045449]\n",
            "ужасный_ADJ 0.8260010480880737\n",
            "жуткий_ADJ 0.8085675239562988\n",
            "ужасать_VERB 0.7013491988182068\n",
            "чудовищный_ADJ 0.7007293105125427\n",
            "страшно_ADJ 0.6778762340545654\n",
            "мучительный_NOUN 0.6615219712257385\n",
            "страшнотраница_NOUN 0.6602171659469604\n",
            "страшный_ADV 0.6600751280784607\n",
            "причудиться_VERB 0.6573998332023621\n",
            "престрашный_ADJ 0.6484856605529785\n",
            "\n",
            "\n",
            "красный_ADJ\n",
            "[-0.00301  -0.13654  -0.053827 -0.035158 -0.055694  0.027937 -0.04009\n",
            "  0.01502   0.026079 -0.011396]\n",
            "крас­ный_ADJ 0.635646641254425\n",
            "ленинаlink=орден_PROPN 0.599561333656311\n",
            "краснать_ADJ 0.5953999161720276\n",
            "краснать_NOUN 0.5914392471313477\n",
            "звездыlink=орден_NOUN 0.5843793749809265\n",
            "link=орден_PROPN 0.5829176902770996\n",
            "желтый_ADJ 0.576896071434021\n",
            "зеленый_ADJ 0.5673321485519409\n",
            "малиновый_ADJ 0.5672751069068909\n",
            "синий_ADJ 0.5668819546699524\n",
            "\n",
            "\n"
          ]
        }
      ]
    },
    {
      "cell_type": "markdown",
      "source": [
        "Нашли косинусную близость слов:"
      ],
      "metadata": {
        "id": "0kbaxa4Ex4Ce"
      }
    },
    {
      "cell_type": "code",
      "source": [
        "print(model.similarity('плохой_ADJ', 'хороший_ADJ'))"
      ],
      "metadata": {
        "colab": {
          "base_uri": "https://localhost:8080/"
        },
        "id": "2Am2ztaRxjJ4",
        "outputId": "0cf61130-c20a-410f-a79b-db460918e311"
      },
      "execution_count": null,
      "outputs": [
        {
          "output_type": "stream",
          "name": "stdout",
          "text": [
            "0.80798507\n"
          ]
        }
      ]
    },
    {
      "cell_type": "markdown",
      "source": [
        "### Как нам векторизовать текст?\n",
        "\n",
        "Сложить векторы слов из него."
      ],
      "metadata": {
        "id": "zSSaoXFCx9Na"
      }
    },
    {
      "cell_type": "code",
      "source": [
        "# вот первые 10 лемм нашего текста\n",
        "text_lex['38popugajev'][:10]"
      ],
      "metadata": {
        "colab": {
          "base_uri": "https://localhost:8080/"
        },
        "id": "M7a0c_CZx3Kf",
        "outputId": "f86fead7-3080-4bbf-8728-de6697bc89ca"
      },
      "execution_count": null,
      "outputs": [
        {
          "output_type": "execute_result",
          "data": {
            "text/plain": [
              "['удав',\n",
              " 'склоняться',\n",
              " 'над',\n",
              " 'трава',\n",
              " 'и',\n",
              " 'рассматривать',\n",
              " 'мартышка',\n",
              " 'очень',\n",
              " 'осторожно',\n",
              " 'на']"
            ]
          },
          "metadata": {},
          "execution_count": 21
        }
      ]
    },
    {
      "cell_type": "markdown",
      "source": [
        "В этой модели слова хранятся сразу с частеречными тегами. То есть нам нужно их добавить (в модели нет слова 'удав', только 'удав_NOUN').\n",
        "\n",
        "Теги в модели такие же, как на сайте UD (https://universaldependencies.org/u/pos/all.html). То есть такие же, как в spacy и stanza."
      ],
      "metadata": {
        "id": "wwXHV1A2lFiq"
      }
    },
    {
      "cell_type": "code",
      "source": [
        "import spacy"
      ],
      "metadata": {
        "id": "n0dnsuKwkIol"
      },
      "execution_count": null,
      "outputs": []
    },
    {
      "cell_type": "code",
      "source": [
        "! python3 -m spacy download ru_core_news_sm"
      ],
      "metadata": {
        "colab": {
          "base_uri": "https://localhost:8080/"
        },
        "collapsed": true,
        "id": "ThD64BiHkKwD",
        "outputId": "e196ffdb-8514-4608-d0c0-6dd975e50382"
      },
      "execution_count": null,
      "outputs": [
        {
          "output_type": "stream",
          "name": "stdout",
          "text": [
            "Collecting ru-core-news-sm==3.7.0\n",
            "  Downloading https://github.com/explosion/spacy-models/releases/download/ru_core_news_sm-3.7.0/ru_core_news_sm-3.7.0-py3-none-any.whl (15.3 MB)\n",
            "\u001b[2K     \u001b[90m━━━━━━━━━━━━━━━━━━━━━━━━━━━━━━━━━━━━━━━━\u001b[0m \u001b[32m15.3/15.3 MB\u001b[0m \u001b[31m13.0 MB/s\u001b[0m eta \u001b[36m0:00:00\u001b[0m\n",
            "\u001b[?25hRequirement already satisfied: spacy<3.8.0,>=3.7.0 in /usr/local/lib/python3.10/dist-packages (from ru-core-news-sm==3.7.0) (3.7.4)\n",
            "Collecting pymorphy3>=1.0.0 (from ru-core-news-sm==3.7.0)\n",
            "  Downloading pymorphy3-2.0.1-py3-none-any.whl (53 kB)\n",
            "\u001b[2K     \u001b[90m━━━━━━━━━━━━━━━━━━━━━━━━━━━━━━━━━━━━━━━━\u001b[0m \u001b[32m53.2/53.2 kB\u001b[0m \u001b[31m818.2 kB/s\u001b[0m eta \u001b[36m0:00:00\u001b[0m\n",
            "\u001b[?25hCollecting dawg-python>=0.7.1 (from pymorphy3>=1.0.0->ru-core-news-sm==3.7.0)\n",
            "  Downloading DAWG_Python-0.7.2-py2.py3-none-any.whl (11 kB)\n",
            "Collecting pymorphy3-dicts-ru (from pymorphy3>=1.0.0->ru-core-news-sm==3.7.0)\n",
            "  Downloading pymorphy3_dicts_ru-2.4.417150.4580142-py2.py3-none-any.whl (8.4 MB)\n",
            "\u001b[2K     \u001b[90m━━━━━━━━━━━━━━━━━━━━━━━━━━━━━━━━━━━━━━━━\u001b[0m \u001b[32m8.4/8.4 MB\u001b[0m \u001b[31m31.0 MB/s\u001b[0m eta \u001b[36m0:00:00\u001b[0m\n",
            "\u001b[?25hRequirement already satisfied: spacy-legacy<3.1.0,>=3.0.11 in /usr/local/lib/python3.10/dist-packages (from spacy<3.8.0,>=3.7.0->ru-core-news-sm==3.7.0) (3.0.12)\n",
            "Requirement already satisfied: spacy-loggers<2.0.0,>=1.0.0 in /usr/local/lib/python3.10/dist-packages (from spacy<3.8.0,>=3.7.0->ru-core-news-sm==3.7.0) (1.0.5)\n",
            "Requirement already satisfied: murmurhash<1.1.0,>=0.28.0 in /usr/local/lib/python3.10/dist-packages (from spacy<3.8.0,>=3.7.0->ru-core-news-sm==3.7.0) (1.0.10)\n",
            "Requirement already satisfied: cymem<2.1.0,>=2.0.2 in /usr/local/lib/python3.10/dist-packages (from spacy<3.8.0,>=3.7.0->ru-core-news-sm==3.7.0) (2.0.8)\n",
            "Requirement already satisfied: preshed<3.1.0,>=3.0.2 in /usr/local/lib/python3.10/dist-packages (from spacy<3.8.0,>=3.7.0->ru-core-news-sm==3.7.0) (3.0.9)\n",
            "Requirement already satisfied: thinc<8.3.0,>=8.2.2 in /usr/local/lib/python3.10/dist-packages (from spacy<3.8.0,>=3.7.0->ru-core-news-sm==3.7.0) (8.2.3)\n",
            "Requirement already satisfied: wasabi<1.2.0,>=0.9.1 in /usr/local/lib/python3.10/dist-packages (from spacy<3.8.0,>=3.7.0->ru-core-news-sm==3.7.0) (1.1.2)\n",
            "Requirement already satisfied: srsly<3.0.0,>=2.4.3 in /usr/local/lib/python3.10/dist-packages (from spacy<3.8.0,>=3.7.0->ru-core-news-sm==3.7.0) (2.4.8)\n",
            "Requirement already satisfied: catalogue<2.1.0,>=2.0.6 in /usr/local/lib/python3.10/dist-packages (from spacy<3.8.0,>=3.7.0->ru-core-news-sm==3.7.0) (2.0.10)\n",
            "Requirement already satisfied: weasel<0.4.0,>=0.1.0 in /usr/local/lib/python3.10/dist-packages (from spacy<3.8.0,>=3.7.0->ru-core-news-sm==3.7.0) (0.3.4)\n",
            "Requirement already satisfied: typer<0.10.0,>=0.3.0 in /usr/local/lib/python3.10/dist-packages (from spacy<3.8.0,>=3.7.0->ru-core-news-sm==3.7.0) (0.9.4)\n",
            "Requirement already satisfied: smart-open<7.0.0,>=5.2.1 in /usr/local/lib/python3.10/dist-packages (from spacy<3.8.0,>=3.7.0->ru-core-news-sm==3.7.0) (6.4.0)\n",
            "Requirement already satisfied: tqdm<5.0.0,>=4.38.0 in /usr/local/lib/python3.10/dist-packages (from spacy<3.8.0,>=3.7.0->ru-core-news-sm==3.7.0) (4.66.4)\n",
            "Requirement already satisfied: requests<3.0.0,>=2.13.0 in /usr/local/lib/python3.10/dist-packages (from spacy<3.8.0,>=3.7.0->ru-core-news-sm==3.7.0) (2.31.0)\n",
            "Requirement already satisfied: pydantic!=1.8,!=1.8.1,<3.0.0,>=1.7.4 in /usr/local/lib/python3.10/dist-packages (from spacy<3.8.0,>=3.7.0->ru-core-news-sm==3.7.0) (2.7.1)\n",
            "Requirement already satisfied: jinja2 in /usr/local/lib/python3.10/dist-packages (from spacy<3.8.0,>=3.7.0->ru-core-news-sm==3.7.0) (3.1.4)\n",
            "Requirement already satisfied: setuptools in /usr/local/lib/python3.10/dist-packages (from spacy<3.8.0,>=3.7.0->ru-core-news-sm==3.7.0) (67.7.2)\n",
            "Requirement already satisfied: packaging>=20.0 in /usr/local/lib/python3.10/dist-packages (from spacy<3.8.0,>=3.7.0->ru-core-news-sm==3.7.0) (24.0)\n",
            "Requirement already satisfied: langcodes<4.0.0,>=3.2.0 in /usr/local/lib/python3.10/dist-packages (from spacy<3.8.0,>=3.7.0->ru-core-news-sm==3.7.0) (3.4.0)\n",
            "Requirement already satisfied: numpy>=1.19.0 in /usr/local/lib/python3.10/dist-packages (from spacy<3.8.0,>=3.7.0->ru-core-news-sm==3.7.0) (1.25.2)\n",
            "Requirement already satisfied: language-data>=1.2 in /usr/local/lib/python3.10/dist-packages (from langcodes<4.0.0,>=3.2.0->spacy<3.8.0,>=3.7.0->ru-core-news-sm==3.7.0) (1.2.0)\n",
            "Requirement already satisfied: annotated-types>=0.4.0 in /usr/local/lib/python3.10/dist-packages (from pydantic!=1.8,!=1.8.1,<3.0.0,>=1.7.4->spacy<3.8.0,>=3.7.0->ru-core-news-sm==3.7.0) (0.7.0)\n",
            "Requirement already satisfied: pydantic-core==2.18.2 in /usr/local/lib/python3.10/dist-packages (from pydantic!=1.8,!=1.8.1,<3.0.0,>=1.7.4->spacy<3.8.0,>=3.7.0->ru-core-news-sm==3.7.0) (2.18.2)\n",
            "Requirement already satisfied: typing-extensions>=4.6.1 in /usr/local/lib/python3.10/dist-packages (from pydantic!=1.8,!=1.8.1,<3.0.0,>=1.7.4->spacy<3.8.0,>=3.7.0->ru-core-news-sm==3.7.0) (4.11.0)\n",
            "Requirement already satisfied: charset-normalizer<4,>=2 in /usr/local/lib/python3.10/dist-packages (from requests<3.0.0,>=2.13.0->spacy<3.8.0,>=3.7.0->ru-core-news-sm==3.7.0) (3.3.2)\n",
            "Requirement already satisfied: idna<4,>=2.5 in /usr/local/lib/python3.10/dist-packages (from requests<3.0.0,>=2.13.0->spacy<3.8.0,>=3.7.0->ru-core-news-sm==3.7.0) (3.7)\n",
            "Requirement already satisfied: urllib3<3,>=1.21.1 in /usr/local/lib/python3.10/dist-packages (from requests<3.0.0,>=2.13.0->spacy<3.8.0,>=3.7.0->ru-core-news-sm==3.7.0) (2.0.7)\n",
            "Requirement already satisfied: certifi>=2017.4.17 in /usr/local/lib/python3.10/dist-packages (from requests<3.0.0,>=2.13.0->spacy<3.8.0,>=3.7.0->ru-core-news-sm==3.7.0) (2024.2.2)\n",
            "Requirement already satisfied: blis<0.8.0,>=0.7.8 in /usr/local/lib/python3.10/dist-packages (from thinc<8.3.0,>=8.2.2->spacy<3.8.0,>=3.7.0->ru-core-news-sm==3.7.0) (0.7.11)\n",
            "Requirement already satisfied: confection<1.0.0,>=0.0.1 in /usr/local/lib/python3.10/dist-packages (from thinc<8.3.0,>=8.2.2->spacy<3.8.0,>=3.7.0->ru-core-news-sm==3.7.0) (0.1.4)\n",
            "Requirement already satisfied: click<9.0.0,>=7.1.1 in /usr/local/lib/python3.10/dist-packages (from typer<0.10.0,>=0.3.0->spacy<3.8.0,>=3.7.0->ru-core-news-sm==3.7.0) (8.1.7)\n",
            "Requirement already satisfied: cloudpathlib<0.17.0,>=0.7.0 in /usr/local/lib/python3.10/dist-packages (from weasel<0.4.0,>=0.1.0->spacy<3.8.0,>=3.7.0->ru-core-news-sm==3.7.0) (0.16.0)\n",
            "Requirement already satisfied: MarkupSafe>=2.0 in /usr/local/lib/python3.10/dist-packages (from jinja2->spacy<3.8.0,>=3.7.0->ru-core-news-sm==3.7.0) (2.1.5)\n",
            "Requirement already satisfied: marisa-trie>=0.7.7 in /usr/local/lib/python3.10/dist-packages (from language-data>=1.2->langcodes<4.0.0,>=3.2.0->spacy<3.8.0,>=3.7.0->ru-core-news-sm==3.7.0) (1.1.1)\n",
            "Installing collected packages: pymorphy3-dicts-ru, dawg-python, pymorphy3, ru-core-news-sm\n",
            "Successfully installed dawg-python-0.7.2 pymorphy3-2.0.1 pymorphy3-dicts-ru-2.4.417150.4580142 ru-core-news-sm-3.7.0\n",
            "\u001b[38;5;2m✔ Download and installation successful\u001b[0m\n",
            "You can now load the package via spacy.load('ru_core_news_sm')\n",
            "\u001b[38;5;3m⚠ Restart to reload dependencies\u001b[0m\n",
            "If you are in a Jupyter or Colab notebook, you may need to restart Python in\n",
            "order to load all the package's dependencies. You can do this by selecting the\n",
            "'Restart kernel' or 'Restart runtime' option.\n"
          ]
        }
      ]
    },
    {
      "cell_type": "code",
      "source": [
        "nlp = spacy.load(\"ru_core_news_sm\")"
      ],
      "metadata": {
        "id": "LHmKuK-NkNPp"
      },
      "execution_count": null,
      "outputs": []
    },
    {
      "cell_type": "code",
      "source": [
        "texts_words_possed_texts = {}\n",
        "for filename in txt_list:\n",
        "    with open(filename, encoding='UTF-8') as f:\n",
        "        text = f.read()\n",
        "    doc = nlp(text)\n",
        "    words_possed = []\n",
        "    for token in doc:\n",
        "        if token.pos_ not in ['SPACE', 'PUNCT']:\n",
        "            words_possed.append(token.lemma_+'_'+token.pos_)\n",
        "    texts_words_possed_texts[filename] = words_possed"
      ],
      "metadata": {
        "id": "runuHZwSkQmx"
      },
      "execution_count": null,
      "outputs": []
    },
    {
      "cell_type": "code",
      "source": [
        "texts_words_possed_texts['38popugajev.txt'][:15]"
      ],
      "metadata": {
        "colab": {
          "base_uri": "https://localhost:8080/"
        },
        "id": "Qyi7_jUikTY7",
        "outputId": "9215ae55-41ac-42ef-cd0c-209fe17e857d"
      },
      "execution_count": null,
      "outputs": [
        {
          "output_type": "execute_result",
          "data": {
            "text/plain": [
              "['удав_PROPN',\n",
              " 'склониться_VERB',\n",
              " 'над_ADP',\n",
              " 'трава_NOUN',\n",
              " 'и_CCONJ',\n",
              " 'что_PRON',\n",
              " '-_PRON',\n",
              " 'то_PRON',\n",
              " 'рассматривать_VERB',\n",
              " 'мартышка_NOUN',\n",
              " 'очень_ADV',\n",
              " 'осторожно_ADV',\n",
              " 'на_ADP',\n",
              " 'цыпочка_NOUN',\n",
              " 'подойти_VERB']"
            ]
          },
          "metadata": {},
          "execution_count": 23
        }
      ]
    },
    {
      "cell_type": "code",
      "source": [
        "text_vector = {}\n",
        "for text in texts_words_possed_texts:\n",
        "    vector = 0\n",
        "    for word in texts_words_possed_texts[text]:\n",
        "        if word in model:\n",
        "            vector += model[word]\n",
        "    text_vector[text] = vector"
      ],
      "metadata": {
        "id": "7IQ_folMmIBX"
      },
      "execution_count": null,
      "outputs": []
    },
    {
      "cell_type": "markdown",
      "source": [
        "Сейчас в переменной text_vector лежит словарь: {название текста: его вектор}\n",
        "\n",
        "Нарисуем на плоскости тексты, расположенные в многомерном пространстве (воспользуемся одним из методов уменьшения размерности - PCA - principal component analysis)"
      ],
      "metadata": {
        "id": "QdZJAc2VKHzT"
      }
    },
    {
      "cell_type": "code",
      "source": [
        "from sklearn.decomposition import PCA\n",
        "import matplotlib.pyplot as plt\n",
        "%matplotlib inline"
      ],
      "metadata": {
        "id": "b9VA-q8zI4vq"
      },
      "execution_count": null,
      "outputs": []
    },
    {
      "cell_type": "code",
      "source": [
        "pca = PCA(n_components=2)\n",
        "coords = pca.fit_transform(list(text_vector.values()))\n",
        "\n",
        "plt.scatter(coords[:, 0], coords[:, 1], color='red')\n",
        "plt.title('Texts')\n",
        "\n",
        "for i, text in enumerate(text_vector):\n",
        "    plt.annotate(text, xy=(coords[i, 0], coords[i, 1]))\n",
        "plt.show()"
      ],
      "metadata": {
        "colab": {
          "base_uri": "https://localhost:8080/",
          "height": 452
        },
        "id": "djTx6dpFJA6I",
        "outputId": "0dcb1e51-1fad-41e9-a26f-91660edadb01"
      },
      "execution_count": null,
      "outputs": [
        {
          "output_type": "display_data",
          "data": {
            "text/plain": [
              "<Figure size 640x480 with 1 Axes>"
            ],
            "image/png": "[encoded data removed]"
          },
          "metadata": {}
        }
      ]
    }
  ]
}