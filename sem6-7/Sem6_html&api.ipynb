{
  "cells": [
    {
      "cell_type": "markdown",
      "metadata": {
        "id": "fYywIr2Z_AX6"
      },
      "source": [
        "# Краулеры и апи\n",
        "\n",
        "В этой тетрадке мы будем добывать данные из интернета\n",
        "\n",
        "## Модуль [requests](https://realpython.com/python-requests/)"
      ]
    },
    {
      "cell_type": "markdown",
      "metadata": {
        "id": "JLnwtjiP_hRp"
      },
      "source": [
        "Давайте посмотрим html формат\n",
        "\n",
        "Лучший учебник - https://www.w3schools.com"
      ]
    },
    {
      "cell_type": "markdown",
      "metadata": {
        "id": "aJGCdfstREZq"
      },
      "source": [
        "![](https://raw.githubusercontent.com/tbkazakova/compling_for_lyceum/main/data/tag.png \"tag\")\n",
        "\n",
        "Вот пример очень простого сайта в интернете https://itcorp.com/, зарегистрированного в 1986 году.\n",
        "\n",
        "И сайта посложнее https://spork.org/, посвящённый ложковилке (последнее обновление в 1996).\n",
        "\n",
        "Давайте узнаем, что пишут про [кофемолку BOSCH MKM-6003](https://irecommend.ru/content/kofemolka-bosch-mkm-6003).\n",
        "\n",
        "Мы видим много отзывов, но они отображаются не целиком. Нажмём \"читать весь отзыв\" и перейдём на страницу с полным текстом. Например, [эту](https://irecommend.ru/content/vzhik-vzhik-i-aromatnyi-molotyi-kofe-gotov-takzhe-sakharnaya-pudra-ovsyanaya-muka-granitnaya).\n",
        "\n",
        "Теперь скачаем html страничку"
      ]
    },
    {
      "cell_type": "code",
      "execution_count": null,
      "metadata": {
        "id": "uOwpwZplC97N"
      },
      "outputs": [],
      "source": [
        "import requests"
      ]
    },
    {
      "cell_type": "code",
      "execution_count": null,
      "metadata": {
        "id": "Ktnhb0JpKfzJ"
      },
      "outputs": [],
      "source": [
        "url = 'https://irecommend.ru/content/vzhik-vzhik-i-aromatnyi-molotyi-kofe-gotov-takzhe-sakharnaya-pudra-ovsyanaya-muka-granitnaya'\n",
        "response = requests.get(url)"
      ]
    },
    {
      "cell_type": "code",
      "source": [
        "# отключим предупреждения\n",
        "from urllib3.exceptions import InsecureRequestWarning\n",
        "from urllib3 import disable_warnings\n",
        "disable_warnings(InsecureRequestWarning)\n",
        "\n",
        "response = requests.get(url)"
      ],
      "metadata": {
        "id": "eUFjmYoGiwQd"
      },
      "execution_count": null,
      "outputs": []
    },
    {
      "cell_type": "markdown",
      "metadata": {
        "id": "U-IkRMH6__Px"
      },
      "source": [
        "В `response` теперь лежит ответ сервера. Это не просто html-код страницы, а еще дополнительная информация"
      ]
    },
    {
      "cell_type": "code",
      "execution_count": null,
      "metadata": {
        "colab": {
          "base_uri": "https://localhost:8080/"
        },
        "id": "s-4_rqv2Kkyw",
        "outputId": "818ea25c-ee42-425b-8923-a5da6a60c34d"
      },
      "outputs": [
        {
          "output_type": "execute_result",
          "data": {
            "text/plain": [
              "<Response [200]>"
            ]
          },
          "metadata": {},
          "execution_count": 3
        }
      ],
      "source": [
        "response"
      ]
    },
    {
      "cell_type": "code",
      "execution_count": null,
      "metadata": {
        "colab": {
          "base_uri": "https://localhost:8080/"
        },
        "id": "_QV-ZP7JK4Hw",
        "outputId": "357f7a5a-de55-4390-d06e-68a624230c91"
      },
      "outputs": [
        {
          "output_type": "execute_result",
          "data": {
            "text/plain": [
              "200"
            ]
          },
          "metadata": {},
          "execution_count": 4
        }
      ],
      "source": [
        "response.status_code\n",
        "# 200 - \"всё работает\"\n",
        "# 404, 503 и др. - \"произошла ошибка, не работает, такой страницы нет и т.д.\""
      ]
    },
    {
      "cell_type": "code",
      "execution_count": null,
      "metadata": {
        "colab": {
          "base_uri": "https://localhost:8080/"
        },
        "id": "DQy6dsT_K4tx",
        "outputId": "c26e3ba3-34d6-4879-9103-0d3057ebb2a4"
      },
      "outputs": [
        {
          "output_type": "stream",
          "name": "stdout",
          "text": [
            "<!DOCTYPE html>\n",
            "<!--[if IE 7 ]>\t\t <html class=\"no-js ie ie7 lte7 lte8 lte9\" lang=\"ru\"> <![endif]-->\n",
            "<!--[if IE 8 ]>\t\t <html class=\"no-js ie ie8 lte8 lte9\" lang=\"ru\"> <![endif]-->\n",
            "<!--[if IE 9 ]>\t\t <html class=\"\n"
          ]
        }
      ],
      "source": [
        "# Вывели первые 210 символов html\n",
        "print(response.text[:210])"
      ]
    },
    {
      "cell_type": "markdown",
      "metadata": {
        "id": "QjVXYZO8BL7a"
      },
      "source": [
        "### Что делать, если сайт защищается?\n",
        "\n",
        "Если он защищается от краулеров, можно, например, представиться Мозиллой:"
      ]
    },
    {
      "cell_type": "code",
      "execution_count": null,
      "metadata": {
        "id": "gWMd6GBrK_UB"
      },
      "outputs": [],
      "source": [
        "# адрес страницы, которую мы хотим скачать\n",
        "user_agent = 'Mozilla/5.0 (Macintosh; Intel Mac OS X 10_15_7) AppleWebKit/605.1.15 (KHTML, like Gecko) Version/16.2 Safari/605.1.15'  # хотим притворяться браузером\n",
        "\n",
        "response = requests.get(url, headers={'User-Agent':user_agent})"
      ]
    },
    {
      "cell_type": "markdown",
      "metadata": {
        "id": "VNdvicGoBYol"
      },
      "source": [
        "Или использовать **специальную библиотеку**:"
      ]
    },
    {
      "cell_type": "code",
      "execution_count": null,
      "metadata": {
        "id": "WZib0tqxMigz",
        "colab": {
          "base_uri": "https://localhost:8080/"
        },
        "outputId": "df7daa57-f225-412a-b41d-199dfea0c326"
      },
      "outputs": [
        {
          "output_type": "stream",
          "name": "stdout",
          "text": [
            "Collecting fake-useragent\n",
            "  Downloading fake_useragent-1.5.1-py3-none-any.whl (17 kB)\n",
            "Installing collected packages: fake-useragent\n",
            "Successfully installed fake-useragent-1.5.1\n"
          ]
        }
      ],
      "source": [
        "! pip3 install fake-useragent"
      ]
    },
    {
      "cell_type": "code",
      "execution_count": null,
      "metadata": {
        "id": "GLd99b4pLCfD"
      },
      "outputs": [],
      "source": [
        "from fake_useragent import UserAgent"
      ]
    },
    {
      "cell_type": "code",
      "execution_count": null,
      "metadata": {
        "colab": {
          "base_uri": "https://localhost:8080/",
          "height": 52
        },
        "id": "5bibnHRjLEfC",
        "outputId": "4146b79d-efe0-4825-8461-4c982a4d8c6b"
      },
      "outputs": [
        {
          "output_type": "execute_result",
          "data": {
            "text/plain": [
              "'Mozilla/5.0 (Linux; Android 10; K) AppleWebKit/537.36 (KHTML, like Gecko) Chrome/122.0.0.0 Mobile Safari/537.36'"
            ],
            "application/vnd.google.colaboratory.intrinsic+json": {
              "type": "string"
            }
          },
          "metadata": {},
          "execution_count": 8
        }
      ],
      "source": [
        "user_agent = UserAgent().chrome\n",
        "user_agent"
      ]
    },
    {
      "cell_type": "code",
      "execution_count": null,
      "metadata": {
        "id": "FBB20VwfLG19"
      },
      "outputs": [],
      "source": [
        "response = requests.get(url,\n",
        "                        headers={'User-Agent':user_agent},\n",
        "                        verify=False)"
      ]
    },
    {
      "cell_type": "markdown",
      "metadata": {
        "id": "WuGPf28UREfT"
      },
      "source": [
        "Или **прокси-сервер**. Это дополнительное звено между вами и интернетом, через него пойдет подключение и сайт не будет знать, что это вы посылаете запрос.\n",
        "\n",
        "Адреса прокси можно взять со специальных сайтов. И потом проверить, что они рабочие, прежде чем использовать https://checkerproxy.net/"
      ]
    },
    {
      "cell_type": "markdown",
      "metadata": {
        "id": "DA5bj-K0REfT"
      },
      "source": [
        "[Пример сервиса](https://whatismyipaddress.com/ip-lookup), который позволяет с некоторой точностью отследить по IP адресу\n",
        "\n",
        "Возвращаемся к скачиванию странички."
      ]
    },
    {
      "cell_type": "code",
      "execution_count": null,
      "metadata": {
        "colab": {
          "base_uri": "https://localhost:8080/",
          "height": 52
        },
        "id": "r9WjpAVTLRBq",
        "outputId": "2f2d54fa-ea4c-4071-9b3e-8cf4cf5916d6"
      },
      "outputs": [
        {
          "output_type": "execute_result",
          "data": {
            "text/plain": [
              "'https://irecommend.ru/content/ya-ne-kofeman-no-kofemolka-mne-neobkhodima-vse-ob-izyashchnoi-pomoshchnitse-na-moei-kukhne-c'"
            ],
            "application/vnd.google.colaboratory.intrinsic+json": {
              "type": "string"
            }
          },
          "metadata": {},
          "execution_count": 150
        }
      ],
      "source": [
        "response.url  #ссылка"
      ]
    },
    {
      "cell_type": "code",
      "execution_count": null,
      "metadata": {
        "colab": {
          "base_uri": "https://localhost:8080/"
        },
        "id": "LDR9cY5NLPAG",
        "outputId": "90e9475e-04c4-4a0a-b92d-18fe21d59f5d"
      },
      "outputs": [
        {
          "output_type": "stream",
          "name": "stdout",
          "text": [
            "<!DOCTYPE html>\n",
            "<html class=\"no-js\" lang=\"ru\">\n",
            "  <head>\n",
            "    <title>Irecommend</title>\n",
            "    <meta name=\"robots\" content=\"noindex\" />\n",
            "    <meta http-equiv=\"Content-Type\" content=\"text/html; charset=utf-8\" />\n",
            "    <meta name=\"viewport\" content=\"width=device-width, initial-scale=1, maximum-scale=1.0, user\n"
          ]
        }
      ],
      "source": [
        "print(response.text[:300])  # html код"
      ]
    },
    {
      "cell_type": "markdown",
      "metadata": {
        "id": "u0eOPE4kLVY-"
      },
      "source": [
        "Как же нам из тегов вытащить нужный кусочек текста?\n",
        "\n",
        "Существует несколько вариантов, как достать что-то из определенного тега, например, достать заголовок:\n",
        "\n",
        "- регулярные выражения (плохой вариант)\n",
        "- специальные библиотеки питона, например, BeautifulSoup (bs4) или lxml (хороший вариант)\n"
      ]
    },
    {
      "cell_type": "markdown",
      "source": [
        "Если мы хотим вывести текст отзыва, нужно посмотреть, какими тегами он оформляется.\n",
        "\n",
        "Заходим на наш сайт\n",
        "\n",
        "На этом конкретном сайте заголовки отзывов лежат внутри тегов `<h2 class=\"class=\"reviewTitle\">`\n",
        "\n",
        "Это можно узнать, щёлкнув правой кнопкой мыши по странице и нажав \"Просмотр кода страницы\".\n",
        "\n",
        "А если выделить интересующий кусок текста, щёлкнуть правой кнопкой мыши и нажать \"Просмотреть код\", он откроется рядом с выделенным нужным вам блоком html."
      ],
      "metadata": {
        "id": "wZINf4hCwjdh"
      }
    },
    {
      "cell_type": "markdown",
      "metadata": {
        "id": "-GdBspHUREgn"
      },
      "source": [
        "Регулярные выражения мы видели в [тетрадке №2](https://github.com/knapweedss/TextMining_HSE/blob/main/sem2/Sem2_TextMiningHSE.ipynb)"
      ]
    },
    {
      "cell_type": "code",
      "execution_count": null,
      "metadata": {
        "id": "Rgwa1-kzREgn"
      },
      "outputs": [],
      "source": [
        "import re"
      ]
    },
    {
      "cell_type": "code",
      "execution_count": null,
      "metadata": {
        "colab": {
          "base_uri": "https://localhost:8080/",
          "height": 139
        },
        "id": "9RTAzyIXREgr",
        "outputId": "8247c8c7-0dc0-4d20-cd1f-cf3289498c96"
      },
      "outputs": [
        {
          "output_type": "execute_result",
          "data": {
            "text/plain": [
              "'<h2 class=\"reviewTitle\" itemprop=\"name\">\\n      <a href=\"/content/vzhik-vzhik-i-aromatnyi-molotyi-kofe-gotov-takzhe-sakharnaya-pudra-ovsyanaya-muka-granitnaya\" class=\"review-summary active\" itemprop=\"url\">Вжик-вжик и ароматный молотый кофе готов, а также сахарная пудра, овсяная мука, гранитная крошка..СТОП! Так с чем же справляется кофемолка BOSCH, а что не следует молоть НИ В КОЕМ СЛУЧАЕ. Рецепт необычного овсяного печенья прилагается.</a>    </h2>'"
            ],
            "application/vnd.google.colaboratory.intrinsic+json": {
              "type": "string"
            }
          },
          "metadata": {},
          "execution_count": 101
        }
      ],
      "source": [
        "code = response.text\n",
        "re.search(r'<h2 class=\"reviewTitle\"(.|\\n)*?<\\/h2>', code).group()\n",
        "# Мы нашли по шаблону первое вхождение:\n",
        "# всё что угодно в теге h2 класса \"reviewTitle\""
      ]
    },
    {
      "cell_type": "markdown",
      "metadata": {
        "id": "vjn6ou4TREgt"
      },
      "source": [
        "Теперь умный способ:"
      ]
    },
    {
      "cell_type": "code",
      "execution_count": null,
      "metadata": {
        "id": "Plyfqjj6LbUu"
      },
      "outputs": [],
      "source": [
        "from bs4 import BeautifulSoup"
      ]
    },
    {
      "cell_type": "code",
      "execution_count": null,
      "metadata": {
        "colab": {
          "base_uri": "https://localhost:8080/"
        },
        "id": "X0KZwMnlLb_P",
        "outputId": "3352a9e5-2b33-4ebc-dc0a-63b79bd59283"
      },
      "outputs": [
        {
          "output_type": "stream",
          "name": "stdout",
          "text": [
            "<!DOCTYPE html>\n",
            "<!--[if IE 7 ]>\t\t <html class=\"no-js ie ie7 lte7 lte8 lte9\" lang=\"ru\"> <![endif]-->\n",
            "<!--[if IE 8 ]>\t\t <html class=\"no-js ie ie8 lte8 lte9\" lang=\"ru\"> <![endif]-->\n",
            "<!--[if IE 9 ]>\t\t <html class=\"no-js ie ie9 lte9>\" lang=\"ru\"> <![endif]-->\n",
            "<!--[if (gt IE 9)|!(IE)]><!-->\n",
            "<html class=\"no-js ab6\" lang=\"ru\">\n",
            " <!--<![endif]-->\n",
            " <head prefix=\"fb: http://ogp.me/ns/fb#\">\n",
            "  <meta content=\"text/html; charset=utf-8\" http-equiv=\"Content-Type\"/>\n",
            "  <title>\n",
            "   Кофемолка BOSCH MKM-6003 - «Вжик-вжи\n"
          ]
        }
      ],
      "source": [
        "# инициализируем (создаем) soup из response.text (кода страницы)\n",
        "soup = BeautifulSoup(response.text, 'html.parser')\n",
        "print(soup.prettify()[:500])  # печатаем приукрашенный суп"
      ]
    },
    {
      "cell_type": "markdown",
      "metadata": {
        "id": "I_aRES2gkKKv"
      },
      "source": [
        "\\- Как устроен этот тег для заголовка?\n",
        "\n",
        "\\- h2 - имя тега (расшифровка: header 2 = заголовок 2ого уровня), class - имя атрибута (атрибутов может быть много), \"reviewTitle\" - значение атрибута"
      ]
    },
    {
      "cell_type": "code",
      "execution_count": null,
      "metadata": {
        "colab": {
          "base_uri": "https://localhost:8080/"
        },
        "id": "i6pUDHujDjy8",
        "outputId": "17ea30de-4d9e-46ec-9e1b-3150631dc946"
      },
      "outputs": [
        {
          "output_type": "stream",
          "name": "stdout",
          "text": [
            "<h2 class=\"reviewTitle\" itemprop=\"name\">\n",
            " <a class=\"review-summary active\" href=\"/content/vzhik-vzhik-i-aromatnyi-molotyi-kofe-gotov-takzhe-sakharnaya-pudra-ovsyanaya-muka-granitnaya\" itemprop=\"url\">\n",
            "  Вжик-вжик и ароматный молотый кофе готов, а также сахарная пудра, овсяная мука, гранитная крошка..СТОП! Так с чем же справляется кофемолка BOSCH, а что не следует молоть НИ В КОЕМ СЛУЧАЕ. Рецепт необычного овсяного печенья прилагается.\n",
            " </a>\n",
            "</h2>\n",
            "\n"
          ]
        }
      ],
      "source": [
        "comment_header = soup.find('h2', {'class':\"reviewTitle\"})\n",
        "print(comment_header.prettify())"
      ]
    },
    {
      "cell_type": "markdown",
      "metadata": {
        "id": "NN5ADB3Oq3fK"
      },
      "source": [
        "Нас интересует только текст, поэтому сделаем `get_text`"
      ]
    },
    {
      "cell_type": "code",
      "execution_count": null,
      "metadata": {
        "colab": {
          "base_uri": "https://localhost:8080/"
        },
        "id": "F17TqugpFW6N",
        "outputId": "243b3a4d-daa1-40e0-e108-a12251b9e3e6"
      },
      "outputs": [
        {
          "output_type": "stream",
          "name": "stdout",
          "text": [
            "\n",
            "Вжик-вжик и ароматный молотый кофе готов, а также сахарная пудра, овсяная мука, гранитная крошка..СТОП! Так с чем же справляется кофемолка BOSCH, а что не следует молоть НИ В КОЕМ СЛУЧАЕ. Рецепт необычного овсяного печенья прилагается. \n"
          ]
        }
      ],
      "source": [
        "print(comment_header.get_text())"
      ]
    },
    {
      "cell_type": "markdown",
      "source": [
        "Ура! У нас есть заголовок.\n",
        "\n",
        "Теперь найдём текст отзыва"
      ],
      "metadata": {
        "id": "gWpnZad7jXPP"
      }
    },
    {
      "cell_type": "code",
      "source": [
        "# попробуйте сами и только потом посмотрите ниже"
      ],
      "metadata": {
        "id": "g2gqIGzSx3BJ"
      },
      "execution_count": null,
      "outputs": []
    },
    {
      "cell_type": "code",
      "source": [
        "comment_text = soup.find('div', {'class': \"description hasinlineimage\",\n",
        "                                 'itemprop': \"reviewBody\"})\n",
        "print(comment_text.get_text()[:1500])\n",
        "\n",
        "# itemprop можно было не указывать (указали для примера),\n",
        "# потому что блок с class='description hasinlineimage\" уникален"
      ],
      "metadata": {
        "colab": {
          "base_uri": "https://localhost:8080/"
        },
        "id": "TFfRRSIum2KT",
        "outputId": "0228f5df-c5ca-4ba5-9491-17ff96a0600e"
      },
      "execution_count": null,
      "outputs": [
        {
          "output_type": "stream",
          "name": "stdout",
          "text": [
            "\n",
            "Доброго времени суток!В тот момент, когда меня осенило перейти на свежесваренный кофе, встал вопрос о приобретении кофемолки. Критериями отбора явились относительно бюджетная стоимость, компактность, ну и качество измельчительного агрегата. Мой выбор пал на бренд BOSCH, к которому у меня есть доверие, ибо я уже являюсь счастливой обладательницей его стационарного миксера.Среди нескольких моделей я выбрала кофемолку BOSCH MKM-6003 в классическом чёрном цвете. ►►►ОБЩАЯ ИНФОРМАЦИЯВес: 500 грМощность:180 ВтПроизводство: СловенияГабариты, мм:170 х 90 х 90Место покупки: ИМ \"Ozon\"Цена: 1063 руб. (2017 год).Гарантия: 1 год ►►►ОПИСАНИЕ ◉ ХАРАКТЕРИСТИКИПервоначально кофемолка была упакована в картонную коробку, которая сразу же была утилизирована. Внутри коробки помимо электрического прибора находилась ещё и инструкция по эксплуатации, которую я советую всё же прочитать перед началом пользования. Обладая стильным дизайном, кофемолка BOSCH MKM-6003 без проблем впишется практически в любой кухонный интерьер, если вы не собираетесь хранить её в закромах шкафа (как делаю это я), куда, между прочим, она помещается без проблем, благодаря своим компактным размерам.По внешнему виду кофемолка напоминает футуристический бочонок. Вот ничего лишнего, а сморится эффектно. Только вот чёрная глянцевая поверхность корпуса с лёгкость собирает отпечатки пальцев, поэтому приходится протирать, и ещё раз протирать. \n",
            "\n",
            "\n",
            "\n",
            "\n",
            "\n",
            "\n",
            "\n",
            "\n",
            "\n",
            "\n",
            "Кофемолка BOSCH MKM-6003 отзывыПод съёмной прозрачной крышкой располагается сама\n"
          ]
        }
      ]
    },
    {
      "cell_type": "markdown",
      "source": [
        "Когда мы сделали .get_text(), мы заменили теги на пустые строки. Поэтому часть предложений слиплись. А в некоторых местах возникли большие пропуски.\n",
        "\n",
        "Давайте заменим теги на переносы строк, а потом переносы подряд сократим до единичных."
      ],
      "metadata": {
        "id": "cqr7EHx6zl4f"
      }
    },
    {
      "cell_type": "code",
      "source": [
        "no_tags = re.sub('<.*?>', '\\n', str(comment_text))\n",
        "sing_n = re.sub('\\n+', '\\n', str(no_tags))\n",
        "print(sing_n[:500])"
      ],
      "metadata": {
        "colab": {
          "base_uri": "https://localhost:8080/"
        },
        "id": "izD48GbUzlN9",
        "outputId": "20b39e66-78a3-41d4-b7a2-e902f805788e"
      },
      "execution_count": null,
      "outputs": [
        {
          "output_type": "stream",
          "name": "stdout",
          "text": [
            "\n",
            "Доброго времени суток!\n",
            "В тот момент, когда меня осенило перейти на свежесваренный кофе, встал вопрос о приобретении кофемолки. Критериями отбора явились относительно бюджетная стоимость, компактность, ну и качество измельчительного агрегата. Мой выбор пал на бренд BOSCH, к которому у меня есть доверие, ибо я уже являюсь счастливой обладательницей его \n",
            "стационарного миксера\n",
            ".\n",
            "Среди нескольких моделей я выбрала кофемолку BOSCH MKM-6003 в классическом чёрном цвете.\n",
            " \n",
            "►►►\n",
            "ОБЩАЯ ИНФОРМАЦИЯ\n",
            "Вес: \n",
            "500\n"
          ]
        }
      ]
    },
    {
      "cell_type": "markdown",
      "source": [
        "### Тренировка\n",
        "\n",
        "Найдите тег, в котором лежит информация об опыте использования кофемашины. Выведите информацию об этом пользователе"
      ],
      "metadata": {
        "id": "-zvAp951zEm-"
      }
    },
    {
      "cell_type": "code",
      "source": [
        "# Ваш код"
      ],
      "metadata": {
        "id": "j_ORbGBYyxsE"
      },
      "execution_count": null,
      "outputs": []
    },
    {
      "cell_type": "markdown",
      "metadata": {
        "id": "XTkUT9bqG16z"
      },
      "source": [
        "Вот здесь можно [посмотреть часть документации BeautifulSoup](https://www.crummy.com/software/BeautifulSoup/bs4/doc.ru/bs4ru.html)"
      ]
    },
    {
      "cell_type": "markdown",
      "source": [
        "Теперь вы можете скачать отсюда и оценку автора, и комментарии."
      ],
      "metadata": {
        "id": "IIxTQiNC1jzs"
      }
    },
    {
      "cell_type": "code",
      "source": [
        "# Ваш код"
      ],
      "metadata": {
        "id": "LMWoQA9F17at"
      },
      "execution_count": null,
      "outputs": []
    },
    {
      "cell_type": "markdown",
      "source": [
        "Найдём достоинства и недостатки"
      ],
      "metadata": {
        "id": "eDhleiVk2p5u"
      }
    },
    {
      "cell_type": "code",
      "source": [
        "plus = soup.find('ul', {'itemprop': \"positiveNotes\"})\n",
        "minus = soup.find('ul', {'itemprop': \"negativeNotes\"})\n",
        "print('+', re.sub('\\n+', '\\n', plus.get_text()))\n",
        "print('-', re.sub('\\n+', '\\n', minus.get_text()))"
      ],
      "metadata": {
        "colab": {
          "base_uri": "https://localhost:8080/"
        },
        "id": "CHgSg_oc2kDR",
        "outputId": "5a3d5190-4678-40e1-d376-0b62c3aaff4f"
      },
      "execution_count": null,
      "outputs": [
        {
          "output_type": "stream",
          "name": "stdout",
          "text": [
            "+ \n",
            "Качество на уровне\n",
            "Компактная\n",
            "Можно регулировать степень помола\n",
            "Ножи из нержавеющей стали\n",
            "Простая в использовании\n",
            "Сдержанное и стильное оформление\n",
            "Хорошо измельчает\n",
            "\n",
            "- \n",
            "Шумная\n",
            "\n"
          ]
        }
      ]
    },
    {
      "cell_type": "markdown",
      "metadata": {
        "id": "LVWbQHYzREia"
      },
      "source": [
        "### Пишем краулер\n",
        "\n",
        "Теперь давайте обкачаем много отзывов.\n",
        "\n",
        "1. Где взять ссылки на каждый отзыв?\n",
        "- на общей странице отзывов о [кофемашине](https://irecommend.ru/content/kofemolka-bosch-mkm-6003) есть кнопки \"читать весь озыв\" с ссылками на конкретные отзывы"
      ]
    },
    {
      "cell_type": "code",
      "execution_count": null,
      "metadata": {
        "id": "-gWmjH1MREia",
        "colab": {
          "base_uri": "https://localhost:8080/"
        },
        "outputId": "e64a5ed6-c9df-4cf0-bd70-9a8dcd654ac0"
      },
      "outputs": [
        {
          "output_type": "stream",
          "name": "stderr",
          "text": [
            "/usr/local/lib/python3.10/dist-packages/urllib3/connectionpool.py:1100: InsecureRequestWarning: Unverified HTTPS request is being made to host 'irecommend.ru'. Adding certificate verification is strongly advised. See: https://urllib3.readthedocs.io/en/latest/advanced-usage.html#tls-warnings\n",
            "  warnings.warn(\n"
          ]
        }
      ],
      "source": [
        "comments_url = 'https://irecommend.ru/content/kofemolka-bosch-mkm-6003'\n",
        "response = requests.get(comments_url,\n",
        "                        headers={'User-Agent':user_agent},\n",
        "                        verify=False)\n",
        "soup = BeautifulSoup(response.text, 'html.parser')"
      ]
    },
    {
      "cell_type": "code",
      "execution_count": null,
      "metadata": {
        "colab": {
          "base_uri": "https://localhost:8080/"
        },
        "id": "AM8vxVIfREib",
        "outputId": "cb6234a2-27a4-475a-88bc-8499b361f81d"
      },
      "outputs": [
        {
          "output_type": "execute_result",
          "data": {
            "text/plain": [
              "[<a class=\"reviewTextSnippet\" data-text=\"Читать весь отзыв\" href=\"/content/vzhik-vzhik-i-aromatnyi-molotyi-kofe-gotov-takzhe-sakharnaya-pudra-ovsyanaya-muka-granitnaya\" style=\"display: block;\">\n",
              " <div class=\"reviewTitle\">Вжик-вжик и ароматный молотый кофе готов, а также сахарная пудра, овсяная мука, гранитная крошка..СТОП! Так с чем же справляется кофемолка BOSCH, а что не следует молоть НИ В КОЕМ СЛУЧАЕ. Рецепт необычного овсяного печенья прилагается.</div>\n",
              " <span class=\"reviewTeaserText\"></span>\n",
              " </a>,\n",
              " <a class=\"reviewTextSnippet\" data-text=\"Читать весь отзыв\" href=\"/content/prostaya-udobnaya-nadezhnaya-kofemolka-otzyv-posle-15-let-ispolzovaniya-plyusy-minusy\" style=\"display: block;\">\n",
              " <div class=\"reviewTitle\">Простая, удобная, НАДЕЖНАЯ кофемолка! Отзыв после 1,5 лет использования! Плюсы, минусы!</div>\n",
              " <span class=\"reviewTeaserText\">Всем привет!)   На прошлой кофемолке я решила сэкономить) Купила ее на Сима-Ленде…</span>\n",
              " </a>,\n",
              " <a class=\"reviewTextSnippet\" data-text=\"Читать весь отзыв\" href=\"/content/kraine-nuzhnaya-veshch-v-dome-lyubitelei-kofe-kofemolka-ot-firmy-bosh-rassmatrivayu-vneshnii\" style=\"display: block;\">\n",
              " <div class=\"reviewTitle\">Крайне нужная вещь в доме любителей кофе. Кофемолка от фирмы BOSH рассматриваю внешний вид, ножи и помол.</div>\n",
              " <span class=\"reviewTeaserText\">Приветствую! У нас целая семья кофеманов или кофейных…</span>\n",
              " </a>]"
            ]
          },
          "metadata": {},
          "execution_count": 10
        }
      ],
      "source": [
        "# нам нужно найти не один тег, а все подобные, поэтому find_all\n",
        "soup.find_all('a', {'class':\"reviewTextSnippet\"})[:3]"
      ]
    },
    {
      "cell_type": "markdown",
      "metadata": {
        "id": "jhDK1C_8REib"
      },
      "source": [
        "2. Как вытащить ссылки из тегов?"
      ]
    },
    {
      "cell_type": "code",
      "execution_count": null,
      "metadata": {
        "colab": {
          "base_uri": "https://localhost:8080/"
        },
        "id": "nggOxB2zREib",
        "outputId": "d8b6debc-ae0b-4ed5-f6e5-9da5168ba4d7"
      },
      "outputs": [
        {
          "output_type": "stream",
          "name": "stdout",
          "text": [
            "70\n"
          ]
        },
        {
          "output_type": "execute_result",
          "data": {
            "text/plain": [
              "['/content/vzhik-vzhik-i-aromatnyi-molotyi-kofe-gotov-takzhe-sakharnaya-pudra-ovsyanaya-muka-granitnaya',\n",
              " '/content/prostaya-udobnaya-nadezhnaya-kofemolka-otzyv-posle-15-let-ispolzovaniya-plyusy-minusy',\n",
              " '/content/kraine-nuzhnaya-veshch-v-dome-lyubitelei-kofe-kofemolka-ot-firmy-bosh-rassmatrivayu-vneshnii',\n",
              " '/content/podruzhka-kofemana-bolee-5-let-zasluzhivaet-bolee-5-zvezd-chto-mozhno-i-chto-ne-stoit-molot',\n",
              " '/content/smalyvaet-v-vozdushnuyu-muku-i-ne-tolko-kofe-byudzhetnaya-moshchnaya-kofemolka-pomoshchnitsa']"
            ]
          },
          "metadata": {},
          "execution_count": 11
        }
      ],
      "source": [
        "links = []\n",
        "for a in soup.find_all('a', {'class':\"reviewTextSnippet\"}):\n",
        "    links.append(a['href'])\n",
        "print(len(links))\n",
        "links[:5]"
      ]
    },
    {
      "cell_type": "markdown",
      "metadata": {
        "id": "vGVxr0r_REib"
      },
      "source": [
        "3. Теперь надо ходить по этим ссылкам и брать необходимую информацию из отзывов\n",
        "\n",
        "Нюанс: это неполные ссылки.\n",
        "Чтобы они заработали, надо перед ними добавить `https://irecommend.ru/`"
      ]
    },
    {
      "cell_type": "code",
      "source": [
        "from tqdm import tqdm\n",
        "import time\n",
        "# чтобы не задавать очень много вопросов подряд,\n",
        "# будем спать между запросами (немного ждать)"
      ],
      "metadata": {
        "id": "8HtvDTbTCan4"
      },
      "execution_count": null,
      "outputs": []
    },
    {
      "cell_type": "markdown",
      "source": [
        "Осторожно! Сайт защищается: если не спать между запросами, он блокирует вас (response становится 521)"
      ],
      "metadata": {
        "id": "BQ7nr96ibaXo"
      }
    },
    {
      "cell_type": "code",
      "execution_count": null,
      "metadata": {
        "id": "CtJCr98jREic",
        "colab": {
          "base_uri": "https://localhost:8080/"
        },
        "outputId": "2fefc6b5-51d4-4867-ec97-aa69cbc8e0c7"
      },
      "outputs": [
        {
          "output_type": "stream",
          "name": "stderr",
          "text": [
            "100%|██████████| 70/70 [06:53<00:00,  5.91s/it]\n"
          ]
        }
      ],
      "source": [
        "# вытащим достоинства и недостатки кофемашины из отзывов, если они указаны\n",
        "pluses = []\n",
        "minuses = []\n",
        "\n",
        "for link in tqdm(links):\n",
        "    response = requests.get('https://irecommend.ru'+link,\n",
        "                            headers={'User-Agent':user_agent})\n",
        "    soup = BeautifulSoup(response.text, 'html.parser')\n",
        "    plus = soup.find('ul', {'itemprop': \"positiveNotes\"})\n",
        "    minus = soup.find('ul', {'itemprop': \"negativeNotes\"})\n",
        "    if plus is not None and minus is not None:\n",
        "        pluses.append(re.sub('\\n+', '\\n', plus.get_text()).strip().split('\\n'))\n",
        "        minuses.append(re.sub('\\n+', '\\n', minus.get_text()).strip().split('\\n'))\n",
        "    time.sleep(5)"
      ]
    },
    {
      "cell_type": "markdown",
      "source": [
        "Наш код зашёл на 70 страниц и сложил в аккуратном виде плюсы и минусы. Сколько бы вы это делали руками?\n",
        "\n",
        "Примечательно, что теперь мы можем выполнить такую же процедуру с любым товаром на этом сайте, не меняя код."
      ],
      "metadata": {
        "id": "9TM30x_F8Ey1"
      }
    },
    {
      "cell_type": "code",
      "source": [
        "pluses[:5]"
      ],
      "metadata": {
        "colab": {
          "base_uri": "https://localhost:8080/"
        },
        "id": "TO9aBks68Ag7",
        "outputId": "08eaefcb-7a40-40a4-a71d-f296163ca012"
      },
      "execution_count": null,
      "outputs": [
        {
          "output_type": "execute_result",
          "data": {
            "text/plain": [
              "[['Качество на уровне',\n",
              "  'Компактная',\n",
              "  'Можно регулировать степень помола',\n",
              "  'Ножи из нержавеющей стали',\n",
              "  'Простая в использовании',\n",
              "  'Сдержанное и стильное оформление',\n",
              "  'Хорошо измельчает'],\n",
              " ['Долговечная',\n",
              "  'Компактная',\n",
              "  'Мощная',\n",
              "  'Небольшая',\n",
              "  'Ножи из нержавеющей стали',\n",
              "  'Сдержанное и стильное оформление'],\n",
              " ['Большой объем чаши',\n",
              "  'Дизайн',\n",
              "  'Компактная',\n",
              "  'Недорогая',\n",
              "  'Ножи из нержавеющей стали',\n",
              "  'Простая в использовании',\n",
              "  'Сдержанное и стильное оформление',\n",
              "  'Хорошо измельчает'],\n",
              " ['Большой объем чаши',\n",
              "  'Долговечная',\n",
              "  'Компактная',\n",
              "  'Можно регулировать степень помола',\n",
              "  'Мощная',\n",
              "  'Недорогая',\n",
              "  'Простая в использовании',\n",
              "  'Сдержанное и стильное оформление',\n",
              "  'Хорошо измельчает'],\n",
              " ['Компактная',\n",
              "  'Не шумная',\n",
              "  'Недорогая',\n",
              "  'Ножи из нержавеющей стали',\n",
              "  'Простая в использовании',\n",
              "  'Сдержанное и стильное оформление',\n",
              "  'Хорошо измельчает']]"
            ]
          },
          "metadata": {},
          "execution_count": 35
        }
      ]
    },
    {
      "cell_type": "code",
      "source": [
        "minuses[:5]"
      ],
      "metadata": {
        "colab": {
          "base_uri": "https://localhost:8080/"
        },
        "id": "JhisJQr38s4X",
        "outputId": "12046f86-57d1-46d3-9153-5841fc2c774b"
      },
      "execution_count": null,
      "outputs": [
        {
          "output_type": "execute_result",
          "data": {
            "text/plain": [
              "[['Шумная'],\n",
              " ['В комплекте нет кисти для очистки чаши', 'Нельзя мыть', 'Шумная'],\n",
              " ['На корпусе остаются пятна от пальцев',\n",
              "  'Нельзя использовать более 30 секунд без перерыва',\n",
              "  'Нельзя мыть',\n",
              "  'Немного коротковат шнур'],\n",
              " ['В комплекте нет кисточки',\n",
              "  'Короткий шнур',\n",
              "  'Нельзя мыть',\n",
              "  'Нет места для намотки шнура',\n",
              "  'Шумная'],\n",
              " ['В комплекте нет кисточки',\n",
              "  'Можно молоть только кофе',\n",
              "  'Нельзя мыть',\n",
              "  'Нет места для намотки шнура']]"
            ]
          },
          "metadata": {},
          "execution_count": 37
        }
      ]
    },
    {
      "cell_type": "code",
      "source": [
        "! pip install pymystem3"
      ],
      "metadata": {
        "colab": {
          "base_uri": "https://localhost:8080/"
        },
        "id": "z3TFPFnhXhTt",
        "outputId": "834fcf34-d4dc-4120-e90c-e6d8b2b39847"
      },
      "execution_count": null,
      "outputs": [
        {
          "output_type": "stream",
          "name": "stdout",
          "text": [
            "Requirement already satisfied: pymystem3 in /usr/local/lib/python3.10/dist-packages (0.2.0)\n",
            "Requirement already satisfied: requests in /usr/local/lib/python3.10/dist-packages (from pymystem3) (2.31.0)\n",
            "Requirement already satisfied: charset-normalizer<4,>=2 in /usr/local/lib/python3.10/dist-packages (from requests->pymystem3) (3.3.2)\n",
            "Requirement already satisfied: idna<4,>=2.5 in /usr/local/lib/python3.10/dist-packages (from requests->pymystem3) (3.7)\n",
            "Requirement already satisfied: urllib3<3,>=1.21.1 in /usr/local/lib/python3.10/dist-packages (from requests->pymystem3) (2.0.7)\n",
            "Requirement already satisfied: certifi>=2017.4.17 in /usr/local/lib/python3.10/dist-packages (from requests->pymystem3) (2024.2.2)\n"
          ]
        }
      ]
    },
    {
      "cell_type": "code",
      "source": [
        "from pymystem3 import Mystem\n",
        "m = Mystem()\n",
        "import matplotlib.pyplot as plt\n",
        "from wordcloud import WordCloud"
      ],
      "metadata": {
        "id": "gvxDogs3XlgM"
      },
      "execution_count": null,
      "outputs": []
    },
    {
      "cell_type": "code",
      "source": [
        "pluses_lem = m.lemmatize(' '.join([plus for plus_pers in pluses for plus in plus_pers]))\n",
        "minuses_lem = m.lemmatize(' '.join([minus for minus_pers in minuses for minus in minus_pers]))"
      ],
      "metadata": {
        "id": "3md30l-AW5Ud"
      },
      "execution_count": null,
      "outputs": []
    },
    {
      "cell_type": "code",
      "source": [
        "text_data = ''.join(pluses_lem)\n",
        "wordcloud = WordCloud(width=800,\n",
        "                      height=400,\n",
        "                      background_color ='white').generate(text_data)\n",
        "plt.figure(figsize=(10, 8))\n",
        "plt.imshow(wordcloud)\n",
        "plt.axis(\"off\")\n",
        "plt.show()"
      ],
      "metadata": {
        "colab": {
          "base_uri": "https://localhost:8080/",
          "height": 339
        },
        "id": "Qa_DKmRpWolW",
        "outputId": "6017e6c9-4b4b-4784-e9ed-4fe83cc30931"
      },
      "execution_count": null,
      "outputs": [
        {
          "output_type": "display_data",
          "data": {
            "text/plain": [
              "<Figure size 1000x800 with 1 Axes>"
            ],
            "image/png": "[encoded data removed]"
          },
          "metadata": {}
        }
      ]
    },
    {
      "cell_type": "code",
      "source": [
        "text_data = ''.join(minuses_lem)\n",
        "wordcloud = WordCloud(width=800,\n",
        "                      height=400).generate(text_data)\n",
        "plt.figure(figsize=(10, 8))\n",
        "plt.imshow(wordcloud)\n",
        "plt.axis(\"off\")\n",
        "plt.show()"
      ],
      "metadata": {
        "colab": {
          "base_uri": "https://localhost:8080/",
          "height": 339
        },
        "id": "Gqzm-o6wZRai",
        "outputId": "32c95b9f-50e1-4d04-d769-9de9edb2d5bb"
      },
      "execution_count": null,
      "outputs": [
        {
          "output_type": "display_data",
          "data": {
            "text/plain": [
              "<Figure size 1000x800 with 1 Axes>"
            ],
            "image/png": "[encoded data removed]"
          },
          "metadata": {}
        }
      ]
    },
    {
      "cell_type": "markdown",
      "source": [
        "Придумайте, зачем это может быть вам нужно.\n",
        "\n",
        "*Посмотрев разные кофемашины, мы узнаем, что вообще ценят в них, и чем наша (не)выгодно отличается от других.*"
      ],
      "metadata": {
        "id": "TWJ3zdQ28uQO"
      }
    },
    {
      "cell_type": "markdown",
      "source": [
        "# Часть 2. API"
      ],
      "metadata": {
        "id": "Lok_nCOm86ji"
      }
    },
    {
      "cell_type": "markdown",
      "source": [
        "## API VK\n",
        "\n",
        "В тетрадке №2 мы уже обсуждали апи вк. Закрепим.\n",
        "\n",
        "Давайте добудем тексты постов со страницы сообщества https://vk.com/madebynessy, посвящённого украшениям из полимерной глины\n",
        "\n",
        "Нам потребуется уже знакомый метод https://dev.vk.com/ru/method/wall.get\n",
        "\n",
        "В инструкции [просят ключ доступа](https://dev.vk.com/ru/api/access-token/getting-started#%D0%9A%D0%BB%D1%8E%D1%87%20%D0%B4%D0%BE%D1%81%D1%82%D1%83%D0%BF%D0%B0%20%D0%BF%D0%BE%D0%BB%D1%8C%D0%B7%D0%BE%D0%B2%D0%B0%D1%82%D0%B5%D0%BB%D1%8F:~:text=%D0%BD%D0%B0%D1%81%D1%82%D1%80%D0%BE%D0%B9%D0%BA%D0%B0%D1%85%20%D0%B2%D0%B0%D1%88%D0%B5%D0%B3%D0%BE%20%D0%BF%D1%80%D0%B8%D0%BB%D0%BE%D0%B6%D0%B5%D0%BD%D0%B8%D1%8F)\n",
        "\n",
        "Пройдите шаги инструкции: создайте приложение, запомните сервисный ключ доступа."
      ],
      "metadata": {
        "id": "m2bbuECyiA-a"
      }
    },
    {
      "cell_type": "code",
      "source": [
        "wall_get_url = \"https://api.vk.com/method/wall.get\"\n",
        "\n",
        "my_token = \"ваш токен\""
      ],
      "metadata": {
        "id": "nBW5CYUdD66O"
      },
      "execution_count": null,
      "outputs": []
    },
    {
      "cell_type": "code",
      "source": [
        "#отправляем запрос, преобразуем результат в словарь\n",
        "\n",
        "wall_nessy = requests.get(\n",
        "    wall_get_url,\n",
        "    params={\n",
        "        \"owner_id\": -212538372,  # ID юзера\n",
        "        \"count\": 2000,  # количество постов\n",
        "        \"v\": 5.81, # версия API\n",
        "        \"access_token\": my_token  # токен доступа\n",
        "    }\n",
        ").json()"
      ],
      "metadata": {
        "id": "tVJtg25BPeCL"
      },
      "execution_count": null,
      "outputs": []
    },
    {
      "cell_type": "markdown",
      "source": [
        "В общем виде:\n",
        "\n",
        "requests.get(\\*ссылка на метод\\*, \\*нужные вам параметры, которые объяснены на странице метода\\*)).json()\n",
        "\n",
        "\\- Как узнать id страницы или сообщества, если в ссылке он не прописан явно (https://vk.com/durov, а не https://vk.com/id1)?\n",
        "\n",
        "\\- Откройте любое фото на этой странице. В ссылке сразу после photo перед нижним подчёркиванием будет нужный вам id: https://vk.com/durov?z=photo1_456316241%2Falbum1_00%2Frev\n",
        "\n",
        "У людей id положительные, у сообществ отрицательные."
      ],
      "metadata": {
        "id": "dnqUpAD4QkQz"
      }
    },
    {
      "cell_type": "code",
      "source": [
        "wall_nessy['response']['count'], len(wall_nessy['response']['items'])\n",
        "# всего постов 401\n",
        "# но получить за 1 раз можно не больше 100 постов"
      ],
      "metadata": {
        "colab": {
          "base_uri": "https://localhost:8080/"
        },
        "id": "nw8FBNh4TDMV",
        "outputId": "3f5bfaeb-95d4-4d76-ad6b-0ee77bedd6ff"
      },
      "execution_count": null,
      "outputs": [
        {
          "output_type": "execute_result",
          "data": {
            "text/plain": [
              "(401, 100)"
            ]
          },
          "metadata": {},
          "execution_count": 28
        }
      ]
    },
    {
      "cell_type": "code",
      "source": [
        "all_posts_nessy = []\n",
        "for number in tqdm(range(0, 500, 100)):\n",
        "  offset = number\n",
        "  wall = requests.get(\n",
        "    wall_get_url,\n",
        "    params={\n",
        "        \"owner_id\": -212538372,\n",
        "        \"count\": 100,\n",
        "        \"v\": 5.81,\n",
        "        'offset':offset,\n",
        "        \"access_token\": my_token}).json()\n",
        "  posts = wall.get('response').get('items')\n",
        "  all_posts_nessy.extend(posts)"
      ],
      "metadata": {
        "colab": {
          "base_uri": "https://localhost:8080/"
        },
        "id": "Eb96Ni3xUA1e",
        "outputId": "86a8b576-59f4-43f4-c8b0-11ad1f377a3f"
      },
      "execution_count": null,
      "outputs": [
        {
          "output_type": "stream",
          "name": "stderr",
          "text": [
            "100%|██████████| 5/5 [00:06<00:00,  1.37s/it]\n"
          ]
        }
      ]
    },
    {
      "cell_type": "code",
      "source": [
        "len(all_posts_nessy)  # теперь у нас есть все"
      ],
      "metadata": {
        "colab": {
          "base_uri": "https://localhost:8080/"
        },
        "id": "FVIlsZooUOxA",
        "outputId": "72dbde82-b091-4519-f814-347d0b81a7d3"
      },
      "execution_count": null,
      "outputs": [
        {
          "output_type": "execute_result",
          "data": {
            "text/plain": [
              "401"
            ]
          },
          "metadata": {},
          "execution_count": 30
        }
      ]
    },
    {
      "cell_type": "code",
      "source": [
        "all_posts_nessy[2]"
      ],
      "metadata": {
        "colab": {
          "base_uri": "https://localhost:8080/"
        },
        "id": "-mnGIE_eblIm",
        "outputId": "4279cedc-c1d7-4dae-8bbc-97d85b755d15"
      },
      "execution_count": null,
      "outputs": [
        {
          "output_type": "execute_result",
          "data": {
            "text/plain": [
              "{'inner_type': 'wall_wallpost',\n",
              " 'comments': {'can_post': 1, 'count': 1},\n",
              " 'marked_as_ads': 0,\n",
              " 'hash': 'LECiOXY6hLTHGGvuaA',\n",
              " 'type': 'post',\n",
              " 'attachments': [{'type': 'photo',\n",
              "   'photo': {'album_id': -7,\n",
              "    'date': 1715875656,\n",
              "    'id': 457242767,\n",
              "    'owner_id': -212538372,\n",
              "    'access_key': 'e628b75ce39be3fd7c',\n",
              "    'sizes': [{'height': 75,\n",
              "      'type': 's',\n",
              "      'width': 75,\n",
              "      'url': 'https://sun1-23.userapi.com/impg/GLHEeSOnCd9GGp1O9EFPvJOLgk0HE9cZdds8tA/SKtHiRQxy44.jpg?size=75x75&quality=95&sign=9f97fda2437e80b7768de5916ce12dd4&c_uniq_tag=_BxHxtqWFHoH9MStLqWWUByz1yebbw_Y2uKFdjcj2iQ&type=album'},\n",
              "     {'height': 130,\n",
              "      'type': 'm',\n",
              "      'width': 130,\n",
              "      'url': 'https://sun1-23.userapi.com/impg/GLHEeSOnCd9GGp1O9EFPvJOLgk0HE9cZdds8tA/SKtHiRQxy44.jpg?size=130x130&quality=95&sign=60d74d365fa3cc3457edbe7c15bc627b&c_uniq_tag=gcU16N-lR5PSYf4O6bWeIueQ21MzvcbxH3e6C0X3HiQ&type=album'},\n",
              "     {'height': 604,\n",
              "      'type': 'x',\n",
              "      'width': 604,\n",
              "      'url': 'https://sun1-23.userapi.com/impg/GLHEeSOnCd9GGp1O9EFPvJOLgk0HE9cZdds8tA/SKtHiRQxy44.jpg?size=604x604&quality=95&sign=ecf260ec01ae249becdb8de06dd90f3d&c_uniq_tag=hTs4pBJgwCBps3lFDQ4VKytu6wN1uQ3N7BSrEzD-EAo&type=album'},\n",
              "     {'height': 807,\n",
              "      'type': 'y',\n",
              "      'width': 807,\n",
              "      'url': 'https://sun1-23.userapi.com/impg/GLHEeSOnCd9GGp1O9EFPvJOLgk0HE9cZdds8tA/SKtHiRQxy44.jpg?size=807x807&quality=95&sign=cb28b68357bb7af8c411d93d49e7fce7&c_uniq_tag=Qwe_kfmQQI3_S0E8P-FLAf-igrHQfRI8CVBFfTZ6RYE&type=album'},\n",
              "     {'height': 1280,\n",
              "      'type': 'z',\n",
              "      'width': 1280,\n",
              "      'url': 'https://sun1-23.userapi.com/impg/GLHEeSOnCd9GGp1O9EFPvJOLgk0HE9cZdds8tA/SKtHiRQxy44.jpg?size=1280x1280&quality=95&sign=df52e252bdb3da0d0002189af401be68&c_uniq_tag=Nz3E036fOcGyS19YnZ02oelc5UYAPUcGjynlDE8Edr0&type=album'},\n",
              "     {'height': 2429,\n",
              "      'type': 'w',\n",
              "      'width': 2429,\n",
              "      'url': 'https://sun1-23.userapi.com/impg/GLHEeSOnCd9GGp1O9EFPvJOLgk0HE9cZdds8tA/SKtHiRQxy44.jpg?size=2429x2429&quality=95&sign=248ffe156fe183c3b7f5125a887b396d&c_uniq_tag=c7HAEvWlzCkzBCFg3WOGZh-8CjhzF-hNwE3N344BmAw&type=album'},\n",
              "     {'height': 130,\n",
              "      'type': 'o',\n",
              "      'width': 130,\n",
              "      'url': 'https://sun1-23.userapi.com/impg/GLHEeSOnCd9GGp1O9EFPvJOLgk0HE9cZdds8tA/SKtHiRQxy44.jpg?size=130x130&quality=95&sign=60d74d365fa3cc3457edbe7c15bc627b&c_uniq_tag=gcU16N-lR5PSYf4O6bWeIueQ21MzvcbxH3e6C0X3HiQ&type=album'},\n",
              "     {'height': 200,\n",
              "      'type': 'p',\n",
              "      'width': 200,\n",
              "      'url': 'https://sun1-23.userapi.com/impg/GLHEeSOnCd9GGp1O9EFPvJOLgk0HE9cZdds8tA/SKtHiRQxy44.jpg?size=200x200&quality=95&sign=ebf7fa5cb6424f461f00c6c9987ba5e3&c_uniq_tag=mrjRfotrKOzmsNNBneEaQh7hnubHaAOIUmtZY--9tHk&type=album'},\n",
              "     {'height': 320,\n",
              "      'type': 'q',\n",
              "      'width': 320,\n",
              "      'url': 'https://sun1-23.userapi.com/impg/GLHEeSOnCd9GGp1O9EFPvJOLgk0HE9cZdds8tA/SKtHiRQxy44.jpg?size=320x320&quality=95&sign=f07d69673e17203810a28197aca5565e&c_uniq_tag=TZUhfD6VOSRze5PuA1bytUtJ6nDrGcke52rxhc2UTqI&type=album'},\n",
              "     {'height': 510,\n",
              "      'type': 'r',\n",
              "      'width': 510,\n",
              "      'url': 'https://sun1-23.userapi.com/impg/GLHEeSOnCd9GGp1O9EFPvJOLgk0HE9cZdds8tA/SKtHiRQxy44.jpg?size=510x510&quality=95&sign=54e4a05eacfd563b1c215befb95e9ac6&c_uniq_tag=KsVe5KteHtD-WecmgVb827QIAHG2r4nI0r6KNMe-A7Q&type=album'}],\n",
              "    'text': '',\n",
              "    'user_id': 100,\n",
              "    'web_view_token': 'eff919f92b7a59fb5f'}}],\n",
              " 'date': 1715882629,\n",
              " 'from_id': -212538372,\n",
              " 'id': 1646,\n",
              " 'likes': {'can_like': 1,\n",
              "  'count': 70,\n",
              "  'user_likes': 0,\n",
              "  'can_publish': 1,\n",
              "  'repost_disabled': False},\n",
              " 'owner_id': -212538372,\n",
              " 'post_source': {'type': 'vk'},\n",
              " 'post_type': 'post',\n",
              " 'reposts': {'count': 3, 'user_reposted': 0},\n",
              " 'text': 'На часах у нас уже 23:00, а я только добралась до вк! Не, ну вы представляете?\\n\\nТак-с! Пост со второй частью морского обновления выйдет завтра в 18:30 по МСК :)\\nУрааааааа!)\\n\\nЕщё хочу рассказать про мой любимый маячок из первой части!!)!)))\\nПрежде чем я решила добавить маяки, у меня в голове нарисовался образ такого полуночного, безоблачного неба со звёздами ⭐\\nПонятие \"Путеводная Звезда\" быстро сплелись со смыслом и предназначением маяков и поэтому они получились особенные, притягивающие и словно по настоящему светящиеся ✨',\n",
              " 'views': {'count': 3833}}"
            ]
          },
          "metadata": {},
          "execution_count": 72
        }
      ]
    },
    {
      "cell_type": "code",
      "source": [
        "all_posts_nessy[2]['text']  # текст поста"
      ],
      "metadata": {
        "colab": {
          "base_uri": "https://localhost:8080/",
          "height": 157
        },
        "id": "fhSsFpS5acMN",
        "outputId": "459b82ee-489a-49fb-8e16-7c7e399178c1"
      },
      "execution_count": null,
      "outputs": [
        {
          "output_type": "execute_result",
          "data": {
            "text/plain": [
              "'На часах у нас уже 23:00, а я только добралась до вк! Не, ну вы представляете?\\n\\nТак-с! Пост со второй частью морского обновления выйдет завтра в 18:30 по МСК :)\\nУрааааааа!)\\n\\nЕщё хочу рассказать про мой любимый маячок из первой части!!)!)))\\nПрежде чем я решила добавить маяки, у меня в голове нарисовался образ такого полуночного, безоблачного неба со звёздами ⭐\\nПонятие \"Путеводная Звезда\" быстро сплелись со смыслом и предназначением маяков и поэтому они получились особенные, притягивающие и словно по настоящему светящиеся ✨'"
            ],
            "application/vnd.google.colaboratory.intrinsic+json": {
              "type": "string"
            }
          },
          "metadata": {},
          "execution_count": 73
        }
      ]
    },
    {
      "cell_type": "code",
      "source": [
        "all_posts_nessy[2]['date']"
      ],
      "metadata": {
        "colab": {
          "base_uri": "https://localhost:8080/"
        },
        "id": "AyKkn-coeXkg",
        "outputId": "60fdd3f0-fd73-40fd-f7f9-85e01932cf52"
      },
      "execution_count": null,
      "outputs": [
        {
          "output_type": "execute_result",
          "data": {
            "text/plain": [
              "1715882629"
            ]
          },
          "metadata": {},
          "execution_count": 75
        }
      ]
    },
    {
      "cell_type": "code",
      "source": [
        "from datetime import datetime\n",
        "\n",
        "# timestamp is number of seconds since 1970-01-01\n",
        "timestamp = all_posts_nessy[2]['date']\n",
        "\n",
        "# convert the timestamp to a datetime object in the local timezone\n",
        "dt_object = datetime.fromtimestamp(timestamp)\n",
        "str(dt_object)"
      ],
      "metadata": {
        "colab": {
          "base_uri": "https://localhost:8080/",
          "height": 35
        },
        "id": "ObSp-lPiedvE",
        "outputId": "fa5ca30f-8ffd-4f6d-cb0a-1f491e632add"
      },
      "execution_count": null,
      "outputs": [
        {
          "output_type": "execute_result",
          "data": {
            "text/plain": [
              "'2024-05-16 18:03:49'"
            ],
            "application/vnd.google.colaboratory.intrinsic+json": {
              "type": "string"
            }
          },
          "metadata": {},
          "execution_count": 79
        }
      ]
    },
    {
      "cell_type": "code",
      "source": [
        "print('Просмотров:', all_posts_nessy[2]['views']['count'])\n",
        "print('Лайков:', all_posts_nessy[2]['likes']['count'])\n",
        "print('Репостов:', all_posts_nessy[2]['reposts']['count'])\n",
        "# там ещё много другой информации"
      ],
      "metadata": {
        "colab": {
          "base_uri": "https://localhost:8080/"
        },
        "id": "03Hp2ScubXVq",
        "outputId": "525a9647-74ca-45f3-b4bf-08cda84b7b39"
      },
      "execution_count": null,
      "outputs": [
        {
          "output_type": "stream",
          "name": "stdout",
          "text": [
            "Просмотров: 3833\n",
            "Лайков: 70\n",
            "Репостов: 3\n"
          ]
        }
      ]
    },
    {
      "cell_type": "code",
      "source": [
        "posts_info = []\n",
        "for post in all_posts_nessy:\n",
        "    posts_info.append([post['id'],\n",
        "                      post['text'],\n",
        "                      post['views']['count'],\n",
        "                      post['likes']['count'],\n",
        "                      post['reposts']['count'],\n",
        "                      str(datetime.fromtimestamp(post['date']))])\n",
        "len(posts_info)"
      ],
      "metadata": {
        "colab": {
          "base_uri": "https://localhost:8080/"
        },
        "id": "FRlj3acbgNGb",
        "outputId": "a60d621b-ce48-4784-ba64-ba770d4a2a23"
      },
      "execution_count": null,
      "outputs": [
        {
          "output_type": "execute_result",
          "data": {
            "text/plain": [
              "401"
            ]
          },
          "metadata": {},
          "execution_count": 84
        }
      ]
    },
    {
      "cell_type": "code",
      "source": [
        "import pandas as pd\n",
        "nessy_posts = pd.DataFrame(posts_info, columns=['id', 'text', 'views',\n",
        "                                   'likes', 'reposts', 'date'])\n",
        "nessy_posts.head()"
      ],
      "metadata": {
        "colab": {
          "base_uri": "https://localhost:8080/",
          "height": 293
        },
        "id": "FfF6YO80c01C",
        "outputId": "264e64e5-12ac-465a-fd2e-6772e329ed56"
      },
      "execution_count": null,
      "outputs": [
        {
          "output_type": "execute_result",
          "data": {
            "text/plain": [
              "     id                                               text  views  likes  \\\n",
              "0  1561  Так-с:\\n•\\nСразу скажу, что все вещи из списка...   6534    100   \n",
              "1  1650  М О Р С К О Е\\npart 2\\n\\nКак видите тут есть к...   2597    227   \n",
              "2  1646  На часах у нас уже 23:00, а я только добралась...   3833     70   \n",
              "3  1633  М О Р С К О Е\\npart 1\\n\\nРабота оказалась прия...  14227    352   \n",
              "4  1628  На прошлой неделе я работала над миниатюрами ш...   6134    132   \n",
              "\n",
              "   reposts                 date  \n",
              "0        4  2024-04-08 07:08:00  \n",
              "1       26  2024-05-17 15:30:00  \n",
              "2        3  2024-05-16 18:03:49  \n",
              "3       30  2024-05-08 13:49:32  \n",
              "4        2  2024-05-02 08:12:00  "
            ],
            "text/html": [
              "\n",
              "  <div id=\"df-8387e015-8a67-4c88-bc4a-8cfefd16de1c\" class=\"colab-df-container\">\n",
              "    <div>\n",
              "<style scoped>\n",
              "    .dataframe tbody tr th:only-of-type {\n",
              "        vertical-align: middle;\n",
              "    }\n",
              "\n",
              "    .dataframe tbody tr th {\n",
              "        vertical-align: top;\n",
              "    }\n",
              "\n",
              "    .dataframe thead th {\n",
              "        text-align: right;\n",
              "    }\n",
              "</style>\n",
              "<table border=\"1\" class=\"dataframe\">\n",
              "  <thead>\n",
              "    <tr style=\"text-align: right;\">\n",
              "      <th></th>\n",
              "      <th>id</th>\n",
              "      <th>text</th>\n",
              "      <th>views</th>\n",
              "      <th>likes</th>\n",
              "      <th>reposts</th>\n",
              "      <th>date</th>\n",
              "    </tr>\n",
              "  </thead>\n",
              "  <tbody>\n",
              "    <tr>\n",
              "      <th>0</th>\n",
              "      <td>1561</td>\n",
              "      <td>Так-с:\\n•\\nСразу скажу, что все вещи из списка...</td>\n",
              "      <td>6534</td>\n",
              "      <td>100</td>\n",
              "      <td>4</td>\n",
              "      <td>2024-04-08 07:08:00</td>\n",
              "    </tr>\n",
              "    <tr>\n",
              "      <th>1</th>\n",
              "      <td>1650</td>\n",
              "      <td>М О Р С К О Е\\npart 2\\n\\nКак видите тут есть к...</td>\n",
              "      <td>2597</td>\n",
              "      <td>227</td>\n",
              "      <td>26</td>\n",
              "      <td>2024-05-17 15:30:00</td>\n",
              "    </tr>\n",
              "    <tr>\n",
              "      <th>2</th>\n",
              "      <td>1646</td>\n",
              "      <td>На часах у нас уже 23:00, а я только добралась...</td>\n",
              "      <td>3833</td>\n",
              "      <td>70</td>\n",
              "      <td>3</td>\n",
              "      <td>2024-05-16 18:03:49</td>\n",
              "    </tr>\n",
              "    <tr>\n",
              "      <th>3</th>\n",
              "      <td>1633</td>\n",
              "      <td>М О Р С К О Е\\npart 1\\n\\nРабота оказалась прия...</td>\n",
              "      <td>14227</td>\n",
              "      <td>352</td>\n",
              "      <td>30</td>\n",
              "      <td>2024-05-08 13:49:32</td>\n",
              "    </tr>\n",
              "    <tr>\n",
              "      <th>4</th>\n",
              "      <td>1628</td>\n",
              "      <td>На прошлой неделе я работала над миниатюрами ш...</td>\n",
              "      <td>6134</td>\n",
              "      <td>132</td>\n",
              "      <td>2</td>\n",
              "      <td>2024-05-02 08:12:00</td>\n",
              "    </tr>\n",
              "  </tbody>\n",
              "</table>\n",
              "</div>\n",
              "    <div class=\"colab-df-buttons\">\n",
              "\n",
              "  <div class=\"colab-df-container\">\n",
              "    <button class=\"colab-df-convert\" onclick=\"convertToInteractive('df-8387e015-8a67-4c88-bc4a-8cfefd16de1c')\"\n",
              "            title=\"Convert this dataframe to an interactive table.\"\n",
              "            style=\"display:none;\">\n",
              "\n",
              "  <svg xmlns=\"http://www.w3.org/2000/svg\" height=\"24px\" viewBox=\"0 -960 960 960\">\n",
              "    <path d=\"M120-120v-720h720v720H120Zm60-500h600v-160H180v160Zm220 220h160v-160H400v160Zm0 220h160v-160H400v160ZM180-400h160v-160H180v160Zm440 0h160v-160H620v160ZM180-180h160v-160H180v160Zm440 0h160v-160H620v160Z\"/>\n",
              "  </svg>\n",
              "    </button>\n",
              "\n",
              "  <style>\n",
              "    .colab-df-container {\n",
              "      display:flex;\n",
              "      gap: 12px;\n",
              "    }\n",
              "\n",
              "    .colab-df-convert {\n",
              "      background-color: #E8F0FE;\n",
              "      border: none;\n",
              "      border-radius: 50%;\n",
              "      cursor: pointer;\n",
              "      display: none;\n",
              "      fill: #1967D2;\n",
              "      height: 32px;\n",
              "      padding: 0 0 0 0;\n",
              "      width: 32px;\n",
              "    }\n",
              "\n",
              "    .colab-df-convert:hover {\n",
              "      background-color: #E2EBFA;\n",
              "      box-shadow: 0px 1px 2px rgba(60, 64, 67, 0.3), 0px 1px 3px 1px rgba(60, 64, 67, 0.15);\n",
              "      fill: #174EA6;\n",
              "    }\n",
              "\n",
              "    .colab-df-buttons div {\n",
              "      margin-bottom: 4px;\n",
              "    }\n",
              "\n",
              "    [theme=dark] .colab-df-convert {\n",
              "      background-color: #3B4455;\n",
              "      fill: #D2E3FC;\n",
              "    }\n",
              "\n",
              "    [theme=dark] .colab-df-convert:hover {\n",
              "      background-color: #434B5C;\n",
              "      box-shadow: 0px 1px 3px 1px rgba(0, 0, 0, 0.15);\n",
              "      filter: drop-shadow(0px 1px 2px rgba(0, 0, 0, 0.3));\n",
              "      fill: #FFFFFF;\n",
              "    }\n",
              "  </style>\n",
              "\n",
              "    <script>\n",
              "      const buttonEl =\n",
              "        document.querySelector('#df-8387e015-8a67-4c88-bc4a-8cfefd16de1c button.colab-df-convert');\n",
              "      buttonEl.style.display =\n",
              "        google.colab.kernel.accessAllowed ? 'block' : 'none';\n",
              "\n",
              "      async function convertToInteractive(key) {\n",
              "        const element = document.querySelector('#df-8387e015-8a67-4c88-bc4a-8cfefd16de1c');\n",
              "        const dataTable =\n",
              "          await google.colab.kernel.invokeFunction('convertToInteractive',\n",
              "                                                    [key], {});\n",
              "        if (!dataTable) return;\n",
              "\n",
              "        const docLinkHtml = 'Like what you see? Visit the ' +\n",
              "          '<a target=\"_blank\" href=https://colab.research.google.com/notebooks/data_table.ipynb>data table notebook</a>'\n",
              "          + ' to learn more about interactive tables.';\n",
              "        element.innerHTML = '';\n",
              "        dataTable['output_type'] = 'display_data';\n",
              "        await google.colab.output.renderOutput(dataTable, element);\n",
              "        const docLink = document.createElement('div');\n",
              "        docLink.innerHTML = docLinkHtml;\n",
              "        element.appendChild(docLink);\n",
              "      }\n",
              "    </script>\n",
              "  </div>\n",
              "\n",
              "\n",
              "<div id=\"df-8b9b7749-dfa0-4e2b-897f-bb094fbf73a9\">\n",
              "  <button class=\"colab-df-quickchart\" onclick=\"quickchart('df-8b9b7749-dfa0-4e2b-897f-bb094fbf73a9')\"\n",
              "            title=\"Suggest charts\"\n",
              "            style=\"display:none;\">\n",
              "\n",
              "<svg xmlns=\"http://www.w3.org/2000/svg\" height=\"24px\"viewBox=\"0 0 24 24\"\n",
              "     width=\"24px\">\n",
              "    <g>\n",
              "        <path d=\"M19 3H5c-1.1 0-2 .9-2 2v14c0 1.1.9 2 2 2h14c1.1 0 2-.9 2-2V5c0-1.1-.9-2-2-2zM9 17H7v-7h2v7zm4 0h-2V7h2v10zm4 0h-2v-4h2v4z\"/>\n",
              "    </g>\n",
              "</svg>\n",
              "  </button>\n",
              "\n",
              "<style>\n",
              "  .colab-df-quickchart {\n",
              "      --bg-color: #E8F0FE;\n",
              "      --fill-color: #1967D2;\n",
              "      --hover-bg-color: #E2EBFA;\n",
              "      --hover-fill-color: #174EA6;\n",
              "      --disabled-fill-color: #AAA;\n",
              "      --disabled-bg-color: #DDD;\n",
              "  }\n",
              "\n",
              "  [theme=dark] .colab-df-quickchart {\n",
              "      --bg-color: #3B4455;\n",
              "      --fill-color: #D2E3FC;\n",
              "      --hover-bg-color: #434B5C;\n",
              "      --hover-fill-color: #FFFFFF;\n",
              "      --disabled-bg-color: #3B4455;\n",
              "      --disabled-fill-color: #666;\n",
              "  }\n",
              "\n",
              "  .colab-df-quickchart {\n",
              "    background-color: var(--bg-color);\n",
              "    border: none;\n",
              "    border-radius: 50%;\n",
              "    cursor: pointer;\n",
              "    display: none;\n",
              "    fill: var(--fill-color);\n",
              "    height: 32px;\n",
              "    padding: 0;\n",
              "    width: 32px;\n",
              "  }\n",
              "\n",
              "  .colab-df-quickchart:hover {\n",
              "    background-color: var(--hover-bg-color);\n",
              "    box-shadow: 0 1px 2px rgba(60, 64, 67, 0.3), 0 1px 3px 1px rgba(60, 64, 67, 0.15);\n",
              "    fill: var(--button-hover-fill-color);\n",
              "  }\n",
              "\n",
              "  .colab-df-quickchart-complete:disabled,\n",
              "  .colab-df-quickchart-complete:disabled:hover {\n",
              "    background-color: var(--disabled-bg-color);\n",
              "    fill: var(--disabled-fill-color);\n",
              "    box-shadow: none;\n",
              "  }\n",
              "\n",
              "  .colab-df-spinner {\n",
              "    border: 2px solid var(--fill-color);\n",
              "    border-color: transparent;\n",
              "    border-bottom-color: var(--fill-color);\n",
              "    animation:\n",
              "      spin 1s steps(1) infinite;\n",
              "  }\n",
              "\n",
              "  @keyframes spin {\n",
              "    0% {\n",
              "      border-color: transparent;\n",
              "      border-bottom-color: var(--fill-color);\n",
              "      border-left-color: var(--fill-color);\n",
              "    }\n",
              "    20% {\n",
              "      border-color: transparent;\n",
              "      border-left-color: var(--fill-color);\n",
              "      border-top-color: var(--fill-color);\n",
              "    }\n",
              "    30% {\n",
              "      border-color: transparent;\n",
              "      border-left-color: var(--fill-color);\n",
              "      border-top-color: var(--fill-color);\n",
              "      border-right-color: var(--fill-color);\n",
              "    }\n",
              "    40% {\n",
              "      border-color: transparent;\n",
              "      border-right-color: var(--fill-color);\n",
              "      border-top-color: var(--fill-color);\n",
              "    }\n",
              "    60% {\n",
              "      border-color: transparent;\n",
              "      border-right-color: var(--fill-color);\n",
              "    }\n",
              "    80% {\n",
              "      border-color: transparent;\n",
              "      border-right-color: var(--fill-color);\n",
              "      border-bottom-color: var(--fill-color);\n",
              "    }\n",
              "    90% {\n",
              "      border-color: transparent;\n",
              "      border-bottom-color: var(--fill-color);\n",
              "    }\n",
              "  }\n",
              "</style>\n",
              "\n",
              "  <script>\n",
              "    async function quickchart(key) {\n",
              "      const quickchartButtonEl =\n",
              "        document.querySelector('#' + key + ' button');\n",
              "      quickchartButtonEl.disabled = true;  // To prevent multiple clicks.\n",
              "      quickchartButtonEl.classList.add('colab-df-spinner');\n",
              "      try {\n",
              "        const charts = await google.colab.kernel.invokeFunction(\n",
              "            'suggestCharts', [key], {});\n",
              "      } catch (error) {\n",
              "        console.error('Error during call to suggestCharts:', error);\n",
              "      }\n",
              "      quickchartButtonEl.classList.remove('colab-df-spinner');\n",
              "      quickchartButtonEl.classList.add('colab-df-quickchart-complete');\n",
              "    }\n",
              "    (() => {\n",
              "      let quickchartButtonEl =\n",
              "        document.querySelector('#df-8b9b7749-dfa0-4e2b-897f-bb094fbf73a9 button');\n",
              "      quickchartButtonEl.style.display =\n",
              "        google.colab.kernel.accessAllowed ? 'block' : 'none';\n",
              "    })();\n",
              "  </script>\n",
              "</div>\n",
              "    </div>\n",
              "  </div>\n"
            ],
            "application/vnd.google.colaboratory.intrinsic+json": {
              "type": "dataframe",
              "variable_name": "nessy_posts",
              "summary": "{\n  \"name\": \"nessy_posts\",\n  \"rows\": 401,\n  \"fields\": [\n    {\n      \"column\": \"id\",\n      \"properties\": {\n        \"dtype\": \"number\",\n        \"std\": 467,\n        \"min\": 2,\n        \"max\": 1650,\n        \"num_unique_values\": 401,\n        \"samples\": [\n          282,\n          302,\n          1420\n        ],\n        \"semantic_type\": \"\",\n        \"description\": \"\"\n      }\n    },\n    {\n      \"column\": \"text\",\n      \"properties\": {\n        \"dtype\": \"string\",\n        \"num_unique_values\": 394,\n        \"samples\": [\n          \"\\u0415\\u0449\\u0451 \\u0445\\u0440\\u0430\\u043d\\u0438\\u0442\\u0435\\u043b\\u0438!)\\n\\n1 \\u0444\\u043e\\u0442\\u043e - 15\\u041e\\u041e\\n\\u0411\\u0440\\u043e\\u0448\\u044c\\n\\u0421\\u0432\\u0435\\u0442\\u0438\\u0442\\u0441\\u044f \\u0432 \\u0442\\u0435\\u043c\\u043d\\u043e\\u0442\\u0435\\n\\u041a\\u0440\\u0435\\u043f\\u043b\\u0435\\u043d\\u0438\\u0435 - \\u044f\\u043f\\u043e\\u043d\\u0441\\u043a\\u0430\\u044f \\u0431\\u0443\\u043b\\u0430\\u0432\\u043a\\u0430\\n\\n2 \\u0444\\u043e\\u0442\\u043e - 165\\u041e\\n\\u041a\\u0443\\u043b\\u043e\\u043d\\n\\u0426\\u0435\\u043f\\u043e\\u0447\\u043a\\u0430 \\u0438\\u0437 \\u0433\\u0438\\u043f\\u043e\\u0430\\u043b\\u043b\\u0435\\u0440\\u0433\\u0435\\u043d\\u043d\\u043e\\u0439 \\u0441\\u0442\\u0430\\u043b\\u0438\\n\\n\\u0411\\u043b\\u0438\\u0436\\u0430\\u0439\\u0448\\u0438\\u0435 \\u043f\\u043e\\u0441\\u044b\\u043b\\u043a\\u0438 \\u043f\\u043e\\u0435\\u0434\\u0443\\u0442 \\u0441\\u043a\\u043e\\u0440\\u0435\\u0435 \\u0432\\u0441\\u0435\\u0433\\u043e 22.12 (\\u043f\\u0442)\\n\\u041d\\u0435 \\u0444\\u0430\\u043a\\u0442, \\u0447\\u0442\\u043e \\u0443\\u0441\\u043f\\u0435\\u044e\\u0442 \\u043a \\u041d\\u043e\\u0432\\u043e\\u043c\\u0443 \\u0413\\u043e\\u0434\\u0443, \\u043d\\u043e \\u043f\\u043e\\u043f\\u044b\\u0442\\u0430\\u0442\\u044c \\u0443\\u0434\\u0430\\u0447\\u0443 \\u043c\\u043e\\u0436\\u043d\\u043e)\",\n          \"\\u0412\\u043e\\u0442 \\u0446\\u0435\\u043b\\u044b\\u0439 \\u0434\\u0435\\u043d\\u044c \\u0441\\u0438\\u0434\\u0435\\u043b\\u0430 \\u0438 \\u043f\\u044b\\u0445\\u0442\\u0435\\u043b\\u0430 \\u0434\\u0430\\u0431\\u044b \\u043f\\u0440\\u043e\\u043a\\u0430\\u0447\\u0430\\u0442\\u044c \\u0433\\u043e\\u043b\\u0443\\u0431\\u0438\\u043a\\u0443. \\u0422\\u0435\\u043f\\u0435\\u0440\\u044c \\u043e\\u043d\\u0430 \\u0441\\u0442\\u0430\\u043b\\u0430 \\u0440\\u0435\\u0430\\u043b\\u0438\\u0441\\u0442\\u0438\\u0447\\u043d\\u0435\\u0439 \\ud83d\\ude00\\n\\u041d\\u043e \\u0432\\u0441\\u0435 \\u0436\\u0435 \\u044f \\u043e\\u0441\\u0442\\u0430\\u0432\\u043b\\u044e \\u0441\\u0442\\u0430\\u0440\\u044b\\u0439 \\u0432\\u0430\\u0440\\u0438\\u0430\\u043d\\u0442 \\u0442\\u043e\\u0436\\u0435.\\n\\u0414\\u0443\\u043c\\u0430\\u044e, \\u0441\\u0442\\u0430\\u0440\\u044b\\u0439 \\u0444\\u043e\\u0440\\u043c\\u0430\\u0442 \\u0438\\u0441\\u043f\\u043e\\u043b\\u044c\\u0437\\u043e\\u0432\\u0430\\u0442\\u044c \\u0434\\u043b\\u044f \\u0431\\u043e\\u043b\\u0435\\u0435 \\u043f\\u0440\\u043e\\u0441\\u0442\\u044b\\u0445 \\u0443\\u043a\\u0440\\u0430\\u0448\\u0435\\u043d\\u0438\\u0439, \\u0430 \\u0432\\u043e\\u0442 \\u0442\\u0443, \\u043d\\u0430\\u0434 \\u043a\\u043e\\u0442\\u043e\\u0440\\u043e\\u0439 \\u0441\\u0438\\u0434\\u0435\\u0442\\u044c \\u043d\\u0443 \\u043f\\u0440\\u044f\\u043c \\u0434\\u043e\\u043b\\u0433\\u043e, \\u0434\\u043b\\u044f \\u0431\\u043e\\u043b\\u0435\\u0435 \\u0434\\u043e\\u0440\\u043e\\u0433\\u0438\\u0445 \\u0443\\u043a\\u0440\\u0430\\u0448\\u0435\\u043d\\u0438\\u0439 \\ud83d\\ude44\\n\\n\\u041d\\u0430 2\\u043c \\u0444\\u043e\\u0442\\u043e \\u043a\\u0430\\u043a \\u0440\\u0430\\u0437 \\u0441\\u0442\\u0430\\u0440\\u044b\\u0439 \\u043e\\u0431\\u0440\\u0430\\u0437\\u0435\\u0446, \\u0430 \\u043d\\u0430 \\u043e\\u0441\\u0442\\u0430\\u043b\\u044c\\u043d\\u044b\\u0445 \\u043d\\u043e\\u0432\\u044b\\u0435 \\ud83d\\ude0c\\n\\n\\u041f\\u043e \\u0432\\u0441\\u0435\\u043c \\u0432\\u043e\\u043f\\u0440\\u043e\\u0441\\u0430\\u043c \\u043e\\u0431\\u0440\\u0430\\u0449\\u0430\\u0439\\u0442\\u0435\\u0441\\u044c \\u0432 \\u0441\\u043e\\u043e\\u0431\\u0449\\u0435\\u043d\\u0438\\u044f \\u0433\\u0440\\u0443\\u043f\\u043f\\u044b \\ud83d\\ude43\",\n          \"\\u041a\\u043b\\u0430\\u0441\\u0441\\u043d\\u0435\\u043d\\u044c\\u043a\\u0438\\u0435, \\u044f\\u0440\\u043a\\u0438\\u0435 \\u0438 \\u043f\\u0440\\u0438 \\u044d\\u0442\\u043e\\u043c \\u0443\\u043d\\u0438\\u0432\\u0435\\u0440\\u0441\\u0430\\u043b\\u044c\\u043d\\u044b\\u0435 \\u043c\\u043e\\u043d\\u0441\\u0442\\u0435\\u0440\\u044b \\u043f\\u043e\\u043b\\u0443\\u0447\\u0438\\u043b\\u0438\\u0441\\u044c :)\\n\\n\\u041e\\u043d\\u0438 \\u0442\\u0443\\u0442\\u044c \\ud83d\\udc49 https://vk.com/market-212538372?w=product-212538372_11522668\"\n        ],\n        \"semantic_type\": \"\",\n        \"description\": \"\"\n      }\n    },\n    {\n      \"column\": \"views\",\n      \"properties\": {\n        \"dtype\": \"number\",\n        \"std\": 4816,\n        \"min\": 251,\n        \"max\": 36650,\n        \"num_unique_values\": 372,\n        \"samples\": [\n          310,\n          36650,\n          5837\n        ],\n        \"semantic_type\": \"\",\n        \"description\": \"\"\n      }\n    },\n    {\n      \"column\": \"likes\",\n      \"properties\": {\n        \"dtype\": \"number\",\n        \"std\": 102,\n        \"min\": 1,\n        \"max\": 792,\n        \"num_unique_values\": 159,\n        \"samples\": [\n          102,\n          4,\n          54\n        ],\n        \"semantic_type\": \"\",\n        \"description\": \"\"\n      }\n    },\n    {\n      \"column\": \"reposts\",\n      \"properties\": {\n        \"dtype\": \"number\",\n        \"std\": 20,\n        \"min\": 0,\n        \"max\": 194,\n        \"num_unique_values\": 45,\n        \"samples\": [\n          11,\n          86,\n          53\n        ],\n        \"semantic_type\": \"\",\n        \"description\": \"\"\n      }\n    },\n    {\n      \"column\": \"date\",\n      \"properties\": {\n        \"dtype\": \"object\",\n        \"num_unique_values\": 401,\n        \"samples\": [\n          \"2023-04-13 13:54:00\",\n          \"2023-04-18 15:15:00\",\n          \"2024-02-22 08:41:00\"\n        ],\n        \"semantic_type\": \"\",\n        \"description\": \"\"\n      }\n    }\n  ]\n}"
            }
          },
          "metadata": {},
          "execution_count": 88
        }
      ]
    },
    {
      "cell_type": "markdown",
      "source": [
        "### Тренировка\n",
        "\n",
        "Найдите самый залайканный пост"
      ],
      "metadata": {
        "id": "uisMn-wghkhG"
      }
    },
    {
      "cell_type": "code",
      "source": [
        "# Ваш код"
      ],
      "metadata": {
        "id": "cEq1eq5shHJM"
      },
      "execution_count": null,
      "outputs": []
    },
    {
      "cell_type": "markdown",
      "source": [
        "На самом деле с помощью апи можно делать совершенно разные вещи.\n",
        "\n",
        "Давайте ещё узнаем про подписчиков группы."
      ],
      "metadata": {
        "id": "1QAnHFATiOr4"
      }
    },
    {
      "cell_type": "code",
      "source": [
        "members = requests.get('https://api.vk.com/method/groups.getMembers',\n",
        "       params={\n",
        "        \"group_id\": 212538372,\n",
        "        \"fields\": 'sex, country, city, bdate, education',\n",
        "        \"v\": 5.81,\n",
        "        \"access_token\": my_token}).json()"
      ],
      "metadata": {
        "id": "zvyxUNydjKwR"
      },
      "execution_count": null,
      "outputs": []
    },
    {
      "cell_type": "code",
      "source": [
        "member_ids = []\n",
        "member_infos = []\n",
        "for member in members['response']['items']:\n",
        "    member_ids.append(member['id'])\n",
        "    member_infos.append([member['id'],\n",
        "                         member['first_name']+'_'+member['last_name'],\n",
        "                         member['sex'] if 'sex' in member else None,\n",
        "                         member['country']['title'] if 'country' in member else None,\n",
        "                         member['city']['title'] if 'city' in member else None,\n",
        "                         member['bdate'] if 'bdate' in member else None,\n",
        "                         member['education'] if 'education' in member else None])"
      ],
      "metadata": {
        "id": "Su9SYD52-EtE"
      },
      "execution_count": null,
      "outputs": []
    },
    {
      "cell_type": "code",
      "source": [
        "nessy_membs = pd.DataFrame(member_infos, columns=['id', 'name',\n",
        "                                                  'sex', 'country',\n",
        "                                                  'city', 'date',\n",
        "                                                  'education'])\n",
        "nessy_membs.head()"
      ],
      "metadata": {
        "colab": {
          "base_uri": "https://localhost:8080/",
          "height": 275
        },
        "id": "ysoCJks8_ozc",
        "outputId": "cdda6b00-be3f-444e-fd6b-274c5f2e63c5"
      },
      "execution_count": null,
      "outputs": [
        {
          "output_type": "execute_result",
          "data": {
            "text/plain": [
              "      id                 name  sex country              city       date  \\\n",
              "0   4335  Viktoria_Karpicheva  1.0  Russia  Saint Petersburg       None   \n",
              "1   4717      Maria_Dmitrieva  1.0  Russia  Saint Petersburg  22.6.1989   \n",
              "2   5595       Marina_Baykina  1.0  Russia             Penza       6.10   \n",
              "3  29750      Alina_Kovalyova  1.0  Russia  Saint Petersburg        5.3   \n",
              "4  33695       Anna_Kosheleva  1.0  Russia  Saint Petersburg       None   \n",
              "\n",
              "  education  \n",
              "0      None  \n",
              "1      None  \n",
              "2      None  \n",
              "3      None  \n",
              "4      None  "
            ],
            "text/html": [
              "\n",
              "  <div id=\"df-e89b02ea-4c5f-4599-8deb-b3833ffd7ee0\" class=\"colab-df-container\">\n",
              "    <div>\n",
              "<style scoped>\n",
              "    .dataframe tbody tr th:only-of-type {\n",
              "        vertical-align: middle;\n",
              "    }\n",
              "\n",
              "    .dataframe tbody tr th {\n",
              "        vertical-align: top;\n",
              "    }\n",
              "\n",
              "    .dataframe thead th {\n",
              "        text-align: right;\n",
              "    }\n",
              "</style>\n",
              "<table border=\"1\" class=\"dataframe\">\n",
              "  <thead>\n",
              "    <tr style=\"text-align: right;\">\n",
              "      <th></th>\n",
              "      <th>id</th>\n",
              "      <th>name</th>\n",
              "      <th>sex</th>\n",
              "      <th>country</th>\n",
              "      <th>city</th>\n",
              "      <th>date</th>\n",
              "      <th>education</th>\n",
              "    </tr>\n",
              "  </thead>\n",
              "  <tbody>\n",
              "    <tr>\n",
              "      <th>0</th>\n",
              "      <td>4335</td>\n",
              "      <td>Viktoria_Karpicheva</td>\n",
              "      <td>1.0</td>\n",
              "      <td>Russia</td>\n",
              "      <td>Saint Petersburg</td>\n",
              "      <td>None</td>\n",
              "      <td>None</td>\n",
              "    </tr>\n",
              "    <tr>\n",
              "      <th>1</th>\n",
              "      <td>4717</td>\n",
              "      <td>Maria_Dmitrieva</td>\n",
              "      <td>1.0</td>\n",
              "      <td>Russia</td>\n",
              "      <td>Saint Petersburg</td>\n",
              "      <td>22.6.1989</td>\n",
              "      <td>None</td>\n",
              "    </tr>\n",
              "    <tr>\n",
              "      <th>2</th>\n",
              "      <td>5595</td>\n",
              "      <td>Marina_Baykina</td>\n",
              "      <td>1.0</td>\n",
              "      <td>Russia</td>\n",
              "      <td>Penza</td>\n",
              "      <td>6.10</td>\n",
              "      <td>None</td>\n",
              "    </tr>\n",
              "    <tr>\n",
              "      <th>3</th>\n",
              "      <td>29750</td>\n",
              "      <td>Alina_Kovalyova</td>\n",
              "      <td>1.0</td>\n",
              "      <td>Russia</td>\n",
              "      <td>Saint Petersburg</td>\n",
              "      <td>5.3</td>\n",
              "      <td>None</td>\n",
              "    </tr>\n",
              "    <tr>\n",
              "      <th>4</th>\n",
              "      <td>33695</td>\n",
              "      <td>Anna_Kosheleva</td>\n",
              "      <td>1.0</td>\n",
              "      <td>Russia</td>\n",
              "      <td>Saint Petersburg</td>\n",
              "      <td>None</td>\n",
              "      <td>None</td>\n",
              "    </tr>\n",
              "  </tbody>\n",
              "</table>\n",
              "</div>\n",
              "    <div class=\"colab-df-buttons\">\n",
              "\n",
              "  <div class=\"colab-df-container\">\n",
              "    <button class=\"colab-df-convert\" onclick=\"convertToInteractive('df-e89b02ea-4c5f-4599-8deb-b3833ffd7ee0')\"\n",
              "            title=\"Convert this dataframe to an interactive table.\"\n",
              "            style=\"display:none;\">\n",
              "\n",
              "  <svg xmlns=\"http://www.w3.org/2000/svg\" height=\"24px\" viewBox=\"0 -960 960 960\">\n",
              "    <path d=\"M120-120v-720h720v720H120Zm60-500h600v-160H180v160Zm220 220h160v-160H400v160Zm0 220h160v-160H400v160ZM180-400h160v-160H180v160Zm440 0h160v-160H620v160ZM180-180h160v-160H180v160Zm440 0h160v-160H620v160Z\"/>\n",
              "  </svg>\n",
              "    </button>\n",
              "\n",
              "  <style>\n",
              "    .colab-df-container {\n",
              "      display:flex;\n",
              "      gap: 12px;\n",
              "    }\n",
              "\n",
              "    .colab-df-convert {\n",
              "      background-color: #E8F0FE;\n",
              "      border: none;\n",
              "      border-radius: 50%;\n",
              "      cursor: pointer;\n",
              "      display: none;\n",
              "      fill: #1967D2;\n",
              "      height: 32px;\n",
              "      padding: 0 0 0 0;\n",
              "      width: 32px;\n",
              "    }\n",
              "\n",
              "    .colab-df-convert:hover {\n",
              "      background-color: #E2EBFA;\n",
              "      box-shadow: 0px 1px 2px rgba(60, 64, 67, 0.3), 0px 1px 3px 1px rgba(60, 64, 67, 0.15);\n",
              "      fill: #174EA6;\n",
              "    }\n",
              "\n",
              "    .colab-df-buttons div {\n",
              "      margin-bottom: 4px;\n",
              "    }\n",
              "\n",
              "    [theme=dark] .colab-df-convert {\n",
              "      background-color: #3B4455;\n",
              "      fill: #D2E3FC;\n",
              "    }\n",
              "\n",
              "    [theme=dark] .colab-df-convert:hover {\n",
              "      background-color: #434B5C;\n",
              "      box-shadow: 0px 1px 3px 1px rgba(0, 0, 0, 0.15);\n",
              "      filter: drop-shadow(0px 1px 2px rgba(0, 0, 0, 0.3));\n",
              "      fill: #FFFFFF;\n",
              "    }\n",
              "  </style>\n",
              "\n",
              "    <script>\n",
              "      const buttonEl =\n",
              "        document.querySelector('#df-e89b02ea-4c5f-4599-8deb-b3833ffd7ee0 button.colab-df-convert');\n",
              "      buttonEl.style.display =\n",
              "        google.colab.kernel.accessAllowed ? 'block' : 'none';\n",
              "\n",
              "      async function convertToInteractive(key) {\n",
              "        const element = document.querySelector('#df-e89b02ea-4c5f-4599-8deb-b3833ffd7ee0');\n",
              "        const dataTable =\n",
              "          await google.colab.kernel.invokeFunction('convertToInteractive',\n",
              "                                                    [key], {});\n",
              "        if (!dataTable) return;\n",
              "\n",
              "        const docLinkHtml = 'Like what you see? Visit the ' +\n",
              "          '<a target=\"_blank\" href=https://colab.research.google.com/notebooks/data_table.ipynb>data table notebook</a>'\n",
              "          + ' to learn more about interactive tables.';\n",
              "        element.innerHTML = '';\n",
              "        dataTable['output_type'] = 'display_data';\n",
              "        await google.colab.output.renderOutput(dataTable, element);\n",
              "        const docLink = document.createElement('div');\n",
              "        docLink.innerHTML = docLinkHtml;\n",
              "        element.appendChild(docLink);\n",
              "      }\n",
              "    </script>\n",
              "  </div>\n",
              "\n",
              "\n",
              "<div id=\"df-18bf9004-dfd2-4e63-8ff6-dcaab534bf62\">\n",
              "  <button class=\"colab-df-quickchart\" onclick=\"quickchart('df-18bf9004-dfd2-4e63-8ff6-dcaab534bf62')\"\n",
              "            title=\"Suggest charts\"\n",
              "            style=\"display:none;\">\n",
              "\n",
              "<svg xmlns=\"http://www.w3.org/2000/svg\" height=\"24px\"viewBox=\"0 0 24 24\"\n",
              "     width=\"24px\">\n",
              "    <g>\n",
              "        <path d=\"M19 3H5c-1.1 0-2 .9-2 2v14c0 1.1.9 2 2 2h14c1.1 0 2-.9 2-2V5c0-1.1-.9-2-2-2zM9 17H7v-7h2v7zm4 0h-2V7h2v10zm4 0h-2v-4h2v4z\"/>\n",
              "    </g>\n",
              "</svg>\n",
              "  </button>\n",
              "\n",
              "<style>\n",
              "  .colab-df-quickchart {\n",
              "      --bg-color: #E8F0FE;\n",
              "      --fill-color: #1967D2;\n",
              "      --hover-bg-color: #E2EBFA;\n",
              "      --hover-fill-color: #174EA6;\n",
              "      --disabled-fill-color: #AAA;\n",
              "      --disabled-bg-color: #DDD;\n",
              "  }\n",
              "\n",
              "  [theme=dark] .colab-df-quickchart {\n",
              "      --bg-color: #3B4455;\n",
              "      --fill-color: #D2E3FC;\n",
              "      --hover-bg-color: #434B5C;\n",
              "      --hover-fill-color: #FFFFFF;\n",
              "      --disabled-bg-color: #3B4455;\n",
              "      --disabled-fill-color: #666;\n",
              "  }\n",
              "\n",
              "  .colab-df-quickchart {\n",
              "    background-color: var(--bg-color);\n",
              "    border: none;\n",
              "    border-radius: 50%;\n",
              "    cursor: pointer;\n",
              "    display: none;\n",
              "    fill: var(--fill-color);\n",
              "    height: 32px;\n",
              "    padding: 0;\n",
              "    width: 32px;\n",
              "  }\n",
              "\n",
              "  .colab-df-quickchart:hover {\n",
              "    background-color: var(--hover-bg-color);\n",
              "    box-shadow: 0 1px 2px rgba(60, 64, 67, 0.3), 0 1px 3px 1px rgba(60, 64, 67, 0.15);\n",
              "    fill: var(--button-hover-fill-color);\n",
              "  }\n",
              "\n",
              "  .colab-df-quickchart-complete:disabled,\n",
              "  .colab-df-quickchart-complete:disabled:hover {\n",
              "    background-color: var(--disabled-bg-color);\n",
              "    fill: var(--disabled-fill-color);\n",
              "    box-shadow: none;\n",
              "  }\n",
              "\n",
              "  .colab-df-spinner {\n",
              "    border: 2px solid var(--fill-color);\n",
              "    border-color: transparent;\n",
              "    border-bottom-color: var(--fill-color);\n",
              "    animation:\n",
              "      spin 1s steps(1) infinite;\n",
              "  }\n",
              "\n",
              "  @keyframes spin {\n",
              "    0% {\n",
              "      border-color: transparent;\n",
              "      border-bottom-color: var(--fill-color);\n",
              "      border-left-color: var(--fill-color);\n",
              "    }\n",
              "    20% {\n",
              "      border-color: transparent;\n",
              "      border-left-color: var(--fill-color);\n",
              "      border-top-color: var(--fill-color);\n",
              "    }\n",
              "    30% {\n",
              "      border-color: transparent;\n",
              "      border-left-color: var(--fill-color);\n",
              "      border-top-color: var(--fill-color);\n",
              "      border-right-color: var(--fill-color);\n",
              "    }\n",
              "    40% {\n",
              "      border-color: transparent;\n",
              "      border-right-color: var(--fill-color);\n",
              "      border-top-color: var(--fill-color);\n",
              "    }\n",
              "    60% {\n",
              "      border-color: transparent;\n",
              "      border-right-color: var(--fill-color);\n",
              "    }\n",
              "    80% {\n",
              "      border-color: transparent;\n",
              "      border-right-color: var(--fill-color);\n",
              "      border-bottom-color: var(--fill-color);\n",
              "    }\n",
              "    90% {\n",
              "      border-color: transparent;\n",
              "      border-bottom-color: var(--fill-color);\n",
              "    }\n",
              "  }\n",
              "</style>\n",
              "\n",
              "  <script>\n",
              "    async function quickchart(key) {\n",
              "      const quickchartButtonEl =\n",
              "        document.querySelector('#' + key + ' button');\n",
              "      quickchartButtonEl.disabled = true;  // To prevent multiple clicks.\n",
              "      quickchartButtonEl.classList.add('colab-df-spinner');\n",
              "      try {\n",
              "        const charts = await google.colab.kernel.invokeFunction(\n",
              "            'suggestCharts', [key], {});\n",
              "      } catch (error) {\n",
              "        console.error('Error during call to suggestCharts:', error);\n",
              "      }\n",
              "      quickchartButtonEl.classList.remove('colab-df-spinner');\n",
              "      quickchartButtonEl.classList.add('colab-df-quickchart-complete');\n",
              "    }\n",
              "    (() => {\n",
              "      let quickchartButtonEl =\n",
              "        document.querySelector('#df-18bf9004-dfd2-4e63-8ff6-dcaab534bf62 button');\n",
              "      quickchartButtonEl.style.display =\n",
              "        google.colab.kernel.accessAllowed ? 'block' : 'none';\n",
              "    })();\n",
              "  </script>\n",
              "</div>\n",
              "    </div>\n",
              "  </div>\n"
            ],
            "application/vnd.google.colaboratory.intrinsic+json": {
              "type": "dataframe",
              "variable_name": "nessy_membs",
              "repr_error": "Out of range float values are not JSON compliant: nan"
            }
          },
          "metadata": {},
          "execution_count": 112
        }
      ]
    },
    {
      "cell_type": "code",
      "source": [
        "# откуда подписчики?\n",
        "nessy_membs['city'].value_counts()"
      ],
      "metadata": {
        "colab": {
          "base_uri": "https://localhost:8080/"
        },
        "id": "3z_OzCCXAXYs",
        "outputId": "eab48a4e-19b1-42de-fc6a-ed8373a0ff1a"
      },
      "execution_count": null,
      "outputs": [
        {
          "output_type": "execute_result",
          "data": {
            "text/plain": [
              "city\n",
              "Moscow               191\n",
              "Saint Petersburg     157\n",
              "Perm                  85\n",
              "Nizhny Novgorod       15\n",
              "Yekaterinburg         15\n",
              "                    ... \n",
              "Vsevolozhsk            1\n",
              "Shatura                1\n",
              "Novi Sad               1\n",
              "Yuzhno-Sakhalinsk      1\n",
              "Donetsk                1\n",
              "Name: count, Length: 153, dtype: int64"
            ]
          },
          "metadata": {},
          "execution_count": 113
        }
      ]
    },
    {
      "cell_type": "markdown",
      "source": [
        "### Тренировка\n",
        "\n",
        "Посмотрите, какое соотношение по гендеру."
      ],
      "metadata": {
        "id": "XCmjCrWpBHDm"
      }
    },
    {
      "cell_type": "code",
      "source": [
        "# ваш код"
      ],
      "metadata": {
        "id": "F2WjV4ogAjn6"
      },
      "execution_count": null,
      "outputs": []
    },
    {
      "cell_type": "markdown",
      "source": [
        "## [API Telegram](https://core.telegram.org/methods)\n",
        "\n",
        "Посмотрим, о чём пишет радио Пурга в своём [тг канале](https://t.me/purgaradio)\n",
        "\n",
        "Нам снова нужно создать приложение и создать ключ [по инструкции](https://core.telegram.org/api/obtaining_api_id)\n",
        "\n",
        "Здесь по шагам расписано, как достать посты из канала: https://school.kontur.ru/publications/2609"
      ],
      "metadata": {
        "id": "ieHfmo5QhxPd"
      }
    },
    {
      "cell_type": "code",
      "source": [
        "! pip install telethon"
      ],
      "metadata": {
        "colab": {
          "base_uri": "https://localhost:8080/"
        },
        "id": "5dAPNjglGS7A",
        "outputId": "66f3c65c-ff21-4bd8-fc79-036e84532155"
      },
      "execution_count": null,
      "outputs": [
        {
          "output_type": "stream",
          "name": "stdout",
          "text": [
            "Requirement already satisfied: telethon in /usr/local/lib/python3.10/dist-packages (1.35.0)\n",
            "Requirement already satisfied: pyaes in /usr/local/lib/python3.10/dist-packages (from telethon) (1.6.1)\n",
            "Requirement already satisfied: rsa in /usr/local/lib/python3.10/dist-packages (from telethon) (4.9)\n",
            "Requirement already satisfied: pyasn1>=0.1.3 in /usr/local/lib/python3.10/dist-packages (from rsa->telethon) (0.6.0)\n"
          ]
        }
      ]
    },
    {
      "cell_type": "code",
      "source": [
        "from telethon.sync import TelegramClient"
      ],
      "metadata": {
        "id": "GABm76EiGvwk"
      },
      "execution_count": null,
      "outputs": []
    },
    {
      "cell_type": "code",
      "source": [
        "api_id = 'ваш id'\n",
        "api_hash = 'ваш hash'\n",
        "phone = '+79104788268'\n",
        "channel_link = \"t.me/purgaradio\"\n",
        "\n",
        "client = TelegramClient(phone, api_id, api_hash)"
      ],
      "metadata": {
        "id": "34Maq2MnF8_o"
      },
      "execution_count": null,
      "outputs": []
    },
    {
      "cell_type": "code",
      "source": [
        "await client.start()"
      ],
      "metadata": {
        "colab": {
          "base_uri": "https://localhost:8080/"
        },
        "id": "lqdwZSUNOeKJ",
        "outputId": "5b9274ba-ce94-4d3f-948a-3d4dd7982aed"
      },
      "execution_count": null,
      "outputs": [
        {
          "output_type": "execute_result",
          "data": {
            "text/plain": [
              "<telethon.client.telegramclient.TelegramClient at 0x7d83ef726b60>"
            ]
          },
          "metadata": {},
          "execution_count": 157
        }
      ]
    },
    {
      "cell_type": "code",
      "source": [
        "me = await client.get_me()"
      ],
      "metadata": {
        "id": "n6HCBSbtCT6j"
      },
      "execution_count": null,
      "outputs": []
    },
    {
      "cell_type": "code",
      "source": [
        "dialogs = await client.get_dialogs()"
      ],
      "metadata": {
        "id": "J7Rm1MEwPq25"
      },
      "execution_count": null,
      "outputs": []
    },
    {
      "cell_type": "code",
      "source": [
        "for dialog in dialogs:\n",
        "    if dialog.title == 'Пурга радио':\n",
        "        messages = client.iter_messages(dialog)\n",
        "        print(type(messages))"
      ],
      "metadata": {
        "colab": {
          "base_uri": "https://localhost:8080/"
        },
        "id": "lvRcogYgQbyE",
        "outputId": "d0f4e6de-088e-4802-93ba-404a8b23a3a2"
      },
      "execution_count": null,
      "outputs": [
        {
          "output_type": "stream",
          "name": "stdout",
          "text": [
            "<class 'telethon.client.messages._MessagesIter'>\n"
          ]
        }
      ]
    },
    {
      "cell_type": "code",
      "source": [
        "i = 0\n",
        "\n",
        "async for message in messages:\n",
        "    if i < 10:\n",
        "        print(message)\n",
        "        i+=1\n",
        "    else:\n",
        "        break"
      ],
      "metadata": {
        "colab": {
          "base_uri": "https://localhost:8080/"
        },
        "id": "VFe52SilRne4",
        "outputId": "4c0cbcbd-3450-4469-8c6d-5081a70866ad"
      },
      "execution_count": null,
      "outputs": [
        {
          "output_type": "stream",
          "name": "stdout",
          "text": [
            "Message(id=3025, peer_id=PeerChannel(channel_id=1564524670), date=datetime.datetime(2024, 5, 20, 2, 32, 15, tzinfo=datetime.timezone.utc), message='📻Сегодня у нас в прямом эфире поговорим о Государственно информационной системе жилищно-коммунального хозяйства. \\n\\n🎙Расскажем о пользе приложения «Госуслуги.Дом».\\n\\nГостем станет заместитель начальника Департамента промышленной политики, начальник Государственной жилищной инспекции Дмитрий  Ермаков.\\n\\n📲Присоединяйтесь к эфиру и пишите ваши вопросы под этим постом или на номер телеграм +7 924 789 22-22', out=False, mentioned=False, media_unread=False, silent=False, post=True, from_scheduled=False, legacy=False, edit_hide=True, pinned=False, noforwards=False, invert_media=False, offline=False, from_id=None, from_boosts_applied=None, saved_peer_id=None, fwd_from=None, via_bot_id=None, via_business_bot_id=None, reply_to=None, media=MessageMediaPhoto(spoiler=False, photo=Photo(id=5357429514134739940, access_hash=-3778593218154981727, file_reference=b'\\x02]@\\xc0~\\x00\\x00\\x0b\\xd1fJ\\xd3\\xf8\\xb7\\xcf\\x08\\x07iV]^6\\x06\\xe9#\\xd9\\x91\\xcd=', date=datetime.datetime(2024, 5, 20, 2, 32, 15, tzinfo=datetime.timezone.utc), sizes=[PhotoStrippedSize(type='i', bytes=b'\\x01\\x17(\\xb5kh \\x01\\x9f\\x99;\\x9fJt\\xd2\\x8d\\x9f#\\x83\\x8e\\xbbH4\\xfb\\xc2\\xa1H\\x90\\x95B9e<\\x8a\\xc2[\\x81\\x1c\\xacS%\\x0f\\x1c\\x9ejm\\xd8\\xb7&\\xdd\\xe4m\\xc3r\\x02\\x8d\\xee\\xb8\\xef\\x93K\\xf6\\xfbS\\xcf\\x98\\xdf\\xf7\\xc9\\xae\\x7fy<d\\x93[\\x16\\xfa\\x7f\\x99o\\x1b\\x19\\\\\\x12\\xa0\\xe3\\xd2\\xaa\\xd6 \\xb5\\x15\\xdc\\x13H\\x129\\tlg\\x184Qmj-\\xcb\\x1f0\\xbe}{Q@\\x0bq\\x08\\xba\\x85\\xa2o\\x97\\xd0\\xd6]\\xed\\xa8\\x8a%O$\\x06\\x1d\\x19OZ(\\xa4\\xc6\\x82\\xc7Ly\\x19d\\x94\\x05\\x8f\\xd39&\\xb6\\xb6\\x8c\\xf2\\xa3\\x14QLE[\\xcb\\xa4\\xb5Q\\x85\\x05\\xc8\\xf9E\\x14QR\\xd9\\xd1N\\t\\xab\\xb3'), PhotoSize(type='m', w=320, h=180, size=17653), PhotoSize(type='x', w=800, h=450, size=62803), PhotoSizeProgressive(type='y', w=1280, h=720, sizes=[12645, 33366, 51738, 69578, 104221])], dc_id=2, has_stickers=False, video_sizes=[]), ttl_seconds=None), reply_markup=None, entities=[], views=436, forwards=5, replies=MessageReplies(replies=2, replies_pts=17448, comments=True, recent_repliers=[PeerUser(user_id=1613639751), PeerUser(user_id=539490676)], channel_id=1582973912, max_id=9944, read_max_id=None), edit_date=datetime.datetime(2024, 5, 20, 2, 33, 4, tzinfo=datetime.timezone.utc), post_author=None, grouped_id=None, reactions=MessageReactions(results=[ReactionCount(reaction=ReactionEmoji(emoticon='👍'), count=8, chosen_order=None), ReactionCount(reaction=ReactionEmoji(emoticon='👌'), count=2, chosen_order=None), ReactionCount(reaction=ReactionEmoji(emoticon='🤝'), count=2, chosen_order=None), ReactionCount(reaction=ReactionEmoji(emoticon='❤'), count=1, chosen_order=None), ReactionCount(reaction=ReactionEmoji(emoticon='🔥'), count=1, chosen_order=None)], min=False, can_see_list=False, reactions_as_tags=False, recent_reactions=[]), restriction_reason=[], ttl_period=None, quick_reply_shortcut_id=None)\n",
            "Message(id=3024, peer_id=PeerChannel(channel_id=1564524670), date=datetime.datetime(2024, 5, 19, 22, 45, 27, tzinfo=datetime.timezone.utc), message='🎭Сегодня в 11:00 гостем \"Отмороженного утра\" станет Народный артист РФ, актёр театра и кино Александр Пашутин. \\n\\n📲Присоединяйтесь к эфиру и пишите ваши вопросы под этим постом или на номер телеграм +7 924 789 22-22', out=False, mentioned=False, media_unread=False, silent=False, post=True, from_scheduled=False, legacy=False, edit_hide=True, pinned=False, noforwards=False, invert_media=False, offline=False, from_id=None, from_boosts_applied=None, saved_peer_id=None, fwd_from=None, via_bot_id=None, via_business_bot_id=None, reply_to=None, media=MessageMediaPhoto(spoiler=False, photo=Photo(id=5355030981058356520, access_hash=-1475094229845043451, file_reference=b'\\x02]@\\xc0~\\x00\\x00\\x0b\\xd0fJ\\xd3\\xf8\\xa6\\xf5>NE\\xd0\\xe4PawR\\xfc\\xe6\\xc1\\xea\\x8e', date=datetime.datetime(2024, 5, 19, 22, 45, 27, tzinfo=datetime.timezone.utc), sizes=[PhotoStrippedSize(type='i', bytes=b'\\x01\\x17(\\xd0\\t\\xd7\\x93\\xcf\\xbd9\\x10/r~\\xa6\\xab\\xcc\\xcc\\x1c\\x00\\xc4\\x0cv\\xc7Z\\x88\\x97n\\xb28\\xfa1\\xa4\\xe4\\x8a\\x8c\\x1b\\xd4\\xd08\\x18\\xcfz\\xadw#G\\xb1P\\x80[\\xb9\\xa8DJ\\xcc\\xa0\\x93\\x96=I&\\xa4\\xbc\\xfb\\xe8{.sCz\\x07-\\x9d\\x82\\x07\\x91\\x89\\x0eA\\x1d\\x8d\\x14\\xf8Sjn=M\\x14\\xe3{\\x13+\\\\$P\\xdc\\x1a\\x04h:\\xe4\\xfe4QM\\xc5\\\\\\x14\\x9d\\xacH\\xa8\\x8ar\\x14\\x03\\xebQ\\xe04\\xccH\\xa2\\x8a\\x00\\x97\\xebE\\x14P\\x07'), PhotoSize(type='m', w=320, h=180, size=14390), PhotoSize(type='x', w=800, h=450, size=54115), PhotoSizeProgressive(type='y', w=1280, h=720, sizes=[12003, 28703, 42902, 66670, 93727])], dc_id=2, has_stickers=False, video_sizes=[]), ttl_seconds=None), reply_markup=None, entities=[MessageEntityBold(offset=93, length=17)], views=364, forwards=1, replies=MessageReplies(replies=0, replies_pts=17448, comments=True, recent_repliers=[], channel_id=1582973912, max_id=None, read_max_id=None), edit_date=datetime.datetime(2024, 5, 19, 22, 46, 10, tzinfo=datetime.timezone.utc), post_author=None, grouped_id=None, reactions=MessageReactions(results=[ReactionCount(reaction=ReactionEmoji(emoticon='❤'), count=4, chosen_order=None), ReactionCount(reaction=ReactionEmoji(emoticon='🔥'), count=2, chosen_order=None), ReactionCount(reaction=ReactionEmoji(emoticon='🤩'), count=2, chosen_order=None)], min=False, can_see_list=False, reactions_as_tags=False, recent_reactions=[]), restriction_reason=[], ttl_period=None, quick_reply_shortcut_id=None)\n",
            "Message(id=3023, peer_id=PeerChannel(channel_id=1564524670), date=datetime.datetime(2024, 5, 19, 22, 34, 55, tzinfo=datetime.timezone.utc), message='Можно посадить пассажира или нет?\\n\\nВ новой задаче на знание Правил дорожного движения — опять знакомая ситуация. На тротуаре стоит пассажир, которого вы хотите подвезти. Но не станет ли остановка нарушением — даже если соответствующих запрещающих знаков или разметки здесь нет? Можно остановиться в этом месте, чтобы посадить в машину пассажира?\\n\\nВ КАНАЛЕ ОТВЕТЫ НЕ ПРИНИМАЮТСЯ! ТОЛЬКО ПО ТЕЛЕФОНУ ПРЯМОГО ЭФИРА 2-06-00!!!', out=False, mentioned=False, media_unread=False, silent=False, post=True, from_scheduled=False, legacy=False, edit_hide=True, pinned=False, noforwards=False, invert_media=False, offline=False, from_id=None, from_boosts_applied=None, saved_peer_id=None, fwd_from=None, via_bot_id=None, via_business_bot_id=None, reply_to=None, media=MessageMediaPhoto(spoiler=False, photo=Photo(id=5355030981058356514, access_hash=5935544704035703212, file_reference=b'\\x02]@\\xc0~\\x00\\x00\\x0b\\xcffJ\\xd3\\xf8x6i\\xea\\xe3u\\xb1+\\xba\\xd66\\x01\\xc4\\x89\\xe7\\xd7', date=datetime.datetime(2024, 5, 19, 22, 34, 54, tzinfo=datetime.timezone.utc), sizes=[PhotoStrippedSize(type='i', bytes=b'\\x01\\x17(rB\\xee;\\n\\x9e;Q\\x81\\xbbv\\x7f\\x0cUH\\xef\\xf8\\xe0f\\xa7M@c\\x90\\x05\\x1c\\xa8\\xb7VO\\xa9lZE\\x8eW?Z1\\x14C\\xfdX\\xfc*\\x1f\\xb7\\xa6*\\xb5\\xc5\\xd6\\xf8\\xca\\xe7\\x83\\xedE\\x90\\xb9\\xdb\\xdd\\x96\\xcd\\xc3\\xfd\\xa4*\\xa6\\x13\\x1d\\xf1EQK\\xb2\\x00\\xc4\\x83\\x8e\\xbcQTA\\x9a\\x8aU\\xf2\\xa7+\\xef\\xde\\xae\\td\\x18\\xdb\\x0ck\\xeeh\\xa2\\x90\\x0f\\x17\\x12\\x95\\xc1\\x8d\\t\\xf5\\xa8\\xd9f\\x94\\xe40Lv\\xa2\\x8a\\x86\\xd9\\xd1\\nQh\\x96 \\xc8\\x80>\\xc7\\xf7\"\\x8a(\\xa9\\xe6f\\xde\\xca=\\x8f'), PhotoSize(type='m', w=320, h=180, size=16168), PhotoSize(type='x', w=800, h=449, size=55873), PhotoSizeProgressive(type='y', w=1244, h=698, sizes=[13063, 34290, 46487, 65217, 89189])], dc_id=2, has_stickers=False, video_sizes=[]), ttl_seconds=None), reply_markup=None, entities=[MessageEntityBold(offset=0, length=33), MessageEntityBold(offset=347, length=75)], views=366, forwards=1, replies=MessageReplies(replies=1, replies_pts=17448, comments=True, recent_repliers=[PeerUser(user_id=2076138124)], channel_id=1582973912, max_id=9940, read_max_id=None), edit_date=datetime.datetime(2024, 5, 20, 2, 33, 40, tzinfo=datetime.timezone.utc), post_author=None, grouped_id=None, reactions=MessageReactions(results=[ReactionCount(reaction=ReactionEmoji(emoticon='👍'), count=1, chosen_order=None)], min=False, can_see_list=False, reactions_as_tags=False, recent_reactions=[]), restriction_reason=[], ttl_period=None, quick_reply_shortcut_id=None)\n",
            "Message(id=3022, peer_id=PeerChannel(channel_id=1564524670), date=datetime.datetime(2024, 5, 18, 3, 40, 8, tzinfo=datetime.timezone.utc), message='💬 Жители Анадыря смогут пообщаться с народным артистом России Александром Пашутиным. Он станет специальным гостем \"Ночи музеев\" и проведет в окружной столице творческие встречи. \\n\\n🟠Одна состоится сегодня в Музейном Центре \"Наследие Чукотки\" в 21:20. \\n\\n🟠В воскресенье на творческую встречу в 17:00 всех желающих приглашает кинотеатр \"Полярный\". \\n\\n📻 А в понедельник народный артист станет гостем “Отмороженного утра” на Радио Пурга.', out=False, mentioned=False, media_unread=False, silent=False, post=True, from_scheduled=False, legacy=False, edit_hide=True, pinned=False, noforwards=False, invert_media=False, offline=False, from_id=None, from_boosts_applied=None, saved_peer_id=None, fwd_from=None, via_bot_id=None, via_business_bot_id=None, reply_to=None, media=None, reply_markup=None, entities=[MessageEntityCustomEmoji(offset=0, length=2, document_id=5323275306675481916), MessageEntityBold(offset=3, length=82), MessageEntityBold(offset=116, length=11), MessageEntityCustomEmoji(offset=181, length=2, document_id=5370996177200231968), MessageEntityBold(offset=198, length=7), MessageEntityBold(offset=244, length=6), MessageEntityCustomEmoji(offset=254, length=2, document_id=5370996177200231968), MessageEntityBold(offset=258, length=11), MessageEntityBold(offset=293, length=7), MessageEntityCustomEmoji(offset=349, length=2, document_id=5361906261170333437), MessageEntityBold(offset=356, length=11), MessageEntityBold(offset=399, length=18)], views=766, forwards=1, replies=MessageReplies(replies=0, replies_pts=17448, comments=True, recent_repliers=[], channel_id=1582973912, max_id=None, read_max_id=None), edit_date=datetime.datetime(2024, 5, 18, 3, 40, 43, tzinfo=datetime.timezone.utc), post_author=None, grouped_id=None, reactions=MessageReactions(results=[ReactionCount(reaction=ReactionEmoji(emoticon='🔥'), count=13, chosen_order=None), ReactionCount(reaction=ReactionEmoji(emoticon='👍'), count=7, chosen_order=None), ReactionCount(reaction=ReactionEmoji(emoticon='😍'), count=3, chosen_order=None)], min=False, can_see_list=False, reactions_as_tags=False, recent_reactions=[]), restriction_reason=[], ttl_period=None, quick_reply_shortcut_id=None)\n",
            "Message(id=3021, peer_id=PeerChannel(channel_id=1564524670), date=datetime.datetime(2024, 5, 17, 7, 5, 11, tzinfo=datetime.timezone.utc), message='📢Коротко о главных новостях за последние сутки\\n\\n✈️ 177 вылетов совершила Авиалесоохрана на Чукотке в прошлом году. Продолжительность воздушного патрулирования за сезон превысила 750 часов. Для тушения возгораний огнеборцы выполнили 46 вылетов, в результате было обнаружено и ликвидировано 9 лесных пожаров общей площадью 17 тыс. га. По сравнению с 2022 годом этот показатель упал на 75%. \\n\\n🌡 Новое оборудование запустили в работу в Чукотской окружной больнице и её филиалах. В Анадыре и Эгвекиноте обновили стационарные рентгеновские аппараты, в Омолоне и Амгуэме появились маммографы. В окружной больнице до конца мая запустят два наркозно-дыхательных аппарата. \\n\\n🏠 В Энмелене 13 семей переедут в новые дома. Сегодня переселенцам из ветхого и аварийного жилья вручают ключи. Новые коттеджи на двух хозяев оснащены сантехникой, системами отопления, бойлерами, электроплитами и специальными емкостями для хранения воды. \\n\\n✉️ Новое отделение почты появилось в Лорино. Организация переехала в здание, построенное по технологии быстровозводимой конструкции. В нём исправно работают электрика, водоснабжение и отопление. Появились комната для персонала и пандус. В ближайшее время Почта переедет в новые здания в селах Нешкан и Канчалан, там завершается оборудование помещений.\\n\\n🛠️ В Певеке возобновляется строительство спорткомплекса в Пятом микрорайоне. Работы начались два года назад на месте старого недостроя, далее в проект вносили изменения. В этом году объект будет готов. Необходимые материалы доставлены, рабочие прибыли в Певек. Сдать новый спортивный объект в эксплуатацию планируется в ноябре.\\n\\n❤️ На Чукотке стартовало народное голосование за \"Семью года\". В нем примут участие 7 семей Чукотки. Голосование началось сегодня и продлится до 31 мая. Поддержать семьи можно по ссылке. Победители представят регион на федеральном этапе конкурса в сентябре. \\n\\n🤖 Юные робототехники Чукотки стали призерами Всероссийских соревнований \"Инженерные кадры России\". Команда Content средней школы Анадыря заняла второе место в номинации \"Взаимодействие с предприятием\". Она представила модель многофункционального механизма для тепличных хозяйств. \\n\\n🦌 Жителей и гостей Анадыря приглашают на праздник \"Кильвей\". Традиционно он начнется с обряда благодарения. В программе чукотские загадки, конкурсы и выступления национальных коллективов. Все действия развернутся в селе Тавайваам 19 мая в 12:40. 0+\\n\\nПодписывайтесь на Радио \"Пурга\"', out=False, mentioned=False, media_unread=False, silent=False, post=True, from_scheduled=False, legacy=False, edit_hide=True, pinned=False, noforwards=False, invert_media=False, offline=False, from_id=None, from_boosts_applied=None, saved_peer_id=None, fwd_from=None, via_bot_id=None, via_business_bot_id=None, reply_to=None, media=None, reply_markup=None, entities=[MessageEntityBold(offset=0, length=48), MessageEntityBold(offset=49, length=2), MessageEntityCustomEmoji(offset=49, length=2, document_id=5231399251770091100), MessageEntityBold(offset=51, length=64), MessageEntityBold(offset=391, length=2), MessageEntityCustomEmoji(offset=391, length=2, document_id=5366057767968711782), MessageEntityBold(offset=393, length=84), MessageEntityBold(offset=667, length=2), MessageEntityCustomEmoji(offset=667, length=2, document_id=5267474254047231955), MessageEntityBold(offset=669, length=44), MessageEntityBold(offset=924, length=2), MessageEntityCustomEmoji(offset=924, length=2, document_id=5224562170641005449), MessageEntityBold(offset=926, length=43), MessageEntityBold(offset=1277, length=3), MessageEntityCustomEmoji(offset=1277, length=3, document_id=5407088788843281517), MessageEntityBold(offset=1280, length=74), MessageEntityBold(offset=1607, length=2), MessageEntityCustomEmoji(offset=1607, length=2, document_id=5294540081384670114), MessageEntityBold(offset=1609, length=61), MessageEntityTextUrl(offset=1786, length=6, url='https://t.me/vladislav_kuznecov/1530'), MessageEntityBold(offset=1867, length=2), MessageEntityCustomEmoji(offset=1867, length=2, document_id=5287684458881756303), MessageEntityBold(offset=1869, length=98), MessageEntityBold(offset=2150, length=2), MessageEntityCustomEmoji(offset=2150, length=2, document_id=5372939216109971725), MessageEntityBold(offset=2152, length=60), MessageEntityTextUrl(offset=2401, length=31, url='https://t.me/purgaradio')], views=641, forwards=1, replies=MessageReplies(replies=0, replies_pts=17448, comments=True, recent_repliers=[], channel_id=1582973912, max_id=None, read_max_id=None), edit_date=datetime.datetime(2024, 5, 17, 7, 7, 51, tzinfo=datetime.timezone.utc), post_author=None, grouped_id=None, reactions=MessageReactions(results=[ReactionCount(reaction=ReactionEmoji(emoticon='👍'), count=9, chosen_order=None), ReactionCount(reaction=ReactionEmoji(emoticon='🔥'), count=4, chosen_order=None), ReactionCount(reaction=ReactionEmoji(emoticon='🎉'), count=2, chosen_order=None), ReactionCount(reaction=ReactionEmoji(emoticon='❤'), count=1, chosen_order=None)], min=False, can_see_list=False, reactions_as_tags=False, recent_reactions=[]), restriction_reason=[], ttl_period=None, quick_reply_shortcut_id=None)\n",
            "Message(id=3020, peer_id=PeerChannel(channel_id=1564524670), date=datetime.datetime(2024, 5, 17, 5, 53, 1, tzinfo=datetime.timezone.utc), message='📺Мы посмотрели 2 интересных фильма и обсудили их в программе \"Полный метр\". \\n\\nА что это за фильмы и стоит ли их включать в программу досуга на эти выходные, вы сможете узнать, посмотрев наш видеоповтор здесь. 🎥\\n\\nПриятного просмотра! 🤩', out=False, mentioned=False, media_unread=False, silent=False, post=True, from_scheduled=False, legacy=False, edit_hide=False, pinned=False, noforwards=False, invert_media=False, offline=False, from_id=None, from_boosts_applied=None, saved_peer_id=None, fwd_from=None, via_bot_id=None, via_business_bot_id=None, reply_to=None, media=MessageMediaDocument(nopremium=False, spoiler=False, video=True, round=False, voice=False, document=Document(id=5348405100194841567, access_hash=-2589724967723455716, file_reference=b'\\x02]@\\xc0~\\x00\\x00\\x0b\\xccfJ\\xd3\\xf8\\xbf`\\xa2\\xa4\\xb7\\xffgW\\xde\\nw\\xdbX\\x1dw\\x12', date=datetime.datetime(2024, 5, 17, 4, 26, 22, tzinfo=datetime.timezone.utc), mime_type='video/mp4', size=31268672, dc_id=2, attributes=[DocumentAttributeVideo(duration=48.0, w=1920, h=1080, round_message=False, supports_streaming=True, nosound=False, preload_prefix_size=None)], thumbs=[PhotoStrippedSize(type='i', bytes=b'\\x01\\x16(\\x810\\xb9\\xc8\\x1c\\x8csVc9\\xe4*\\xe3\\xd8U&\\x02[\\xa5BF\\x17\\xb5O\"/\\x9a\\x08!#\\x03$/J\\xd1\\xcfR\\xa3\\xa1\\xa1\\x12\\xfd)\\xcc\\x08\\xee?*\\xac$\\xf2m\\xcb\\xaf\\x7fJ\\x80]JO\\xcf\\xf7}\\x975\\x0eC\\xeaXgV$\\x06\\x04\\x8e\\xa0QY\\xe6G7\\x84\\x8f\\xbb\\x8c\\x13Ei\\x17tR\\x91 \\x81Y\\xd5\\xd7\\xef\\x1fZ\\xae\\x93<w;X\\xee\\x19\\xc1\\x07\\xa1\\xa2\\x8a\\xc4\\xe7\\x83l\\xbfv\\xeb\\x14J\\xd1\\x83\\xb5\\x87\\x00\\xf6\\xa6\\xc0\\x8fqdK\\xb6\\x1b\\xf8H\\xe3\\x14QM\\xab\\xd8\\xd1\\xb6Ikh\\xaa\\x01\\x93\\xe68\\xcd\\x14QB%\\xbdO'), PhotoSize(type='m', w=320, h=180, size=16498)], video_thumbs=[]), alt_document=None, ttl_seconds=None), reply_markup=None, entities=[MessageEntityCustomEmoji(offset=0, length=2, document_id=5373330964372004748), MessageEntityBold(offset=63, length=13), MessageEntityTextUrl(offset=191, length=17, url='https://vk.com/video-2128776_456239230?list=42cc35fcbe2ff13abd')], views=566, forwards=2, replies=MessageReplies(replies=1, replies_pts=17448, comments=True, recent_repliers=[PeerUser(user_id=6196240410)], channel_id=1582973912, max_id=9938, read_max_id=None), edit_date=datetime.datetime(2024, 5, 17, 6, 2, 27, tzinfo=datetime.timezone.utc), post_author=None, grouped_id=None, reactions=MessageReactions(results=[ReactionCount(reaction=ReactionEmoji(emoticon='❤'), count=6, chosen_order=None), ReactionCount(reaction=ReactionEmoji(emoticon='🎉'), count=3, chosen_order=None), ReactionCount(reaction=ReactionEmoji(emoticon='🤩'), count=3, chosen_order=None)], min=False, can_see_list=False, reactions_as_tags=False, recent_reactions=[]), restriction_reason=[], ttl_period=None, quick_reply_shortcut_id=None)\n",
            "Message(id=3019, peer_id=PeerChannel(channel_id=1564524670), date=datetime.datetime(2024, 5, 17, 5, 25, 34, tzinfo=datetime.timezone.utc), message='Можно развернуться со второго ряда или нет?\\n\\nСегодня мы смоделировали ситуацию, в которую можно попасть в любом городе России. Т-образный перекрёсток, но вам нужно не налево, а в обратную сторону. Манёвр вроде бы простой, и машин вокруг нет... Остаётся понять, не выпишут ли за него штраф. Так можно ли развернуться на перекрестке из среднего ряда, если левый при этом свободен?\\n\\nВ КАНАЛЕ ОТВЕТЫ НЕ ПРИНИМАЮТСЯ! ТОЛЬКО ПО ТЕЛЕФОНУ ПРЯМОГО ЭФИРА 2-06-00!!!', out=False, mentioned=False, media_unread=False, silent=False, post=True, from_scheduled=False, legacy=False, edit_hide=True, pinned=False, noforwards=False, invert_media=False, offline=False, from_id=None, from_boosts_applied=None, saved_peer_id=None, fwd_from=None, via_bot_id=None, via_business_bot_id=None, reply_to=None, media=MessageMediaPhoto(spoiler=False, photo=Photo(id=5348405100651076274, access_hash=-1153809382690911604, file_reference=b'\\x02]@\\xc0~\\x00\\x00\\x0b\\xcbfJ\\xd3\\xf8\\x18\\x03\\xaa\\x1e\\x88\\xac\\x9a\\xb2~\\x96\\x86\\xdb\\xe1\\x92\\x10T', date=datetime.datetime(2024, 5, 17, 5, 25, 33, tzinfo=datetime.timezone.utc), sizes=[PhotoStrippedSize(type='i', bytes=b'\\x01\\x17(FR\\xb8\\xe4f\\x9e\\xb1\\xe4\\x0f\\x9b\\xa8=\\xab?y\\xea\\xc7\\x8f\\xadJ\\xb2\\xed\\x00u>\\x86\\xa9\\xc2(\\xdb\\xdaI\\x96\\n\\xab)\\x01\\xc6\\xe1\\x83\\x8cR%\\xb8lon3\\xd8\\xd5Q \\xda\\xd8\\xeb\\xde\\x81&z\\x1f\\xa0\\xf5\\xaaJ6!\\xcaM\\xee[\\x9e\\xc6/%\\xa4PF\\x07\\xad\\x15NI\\xc9\\x18\\x19\\x03\\xd34Qh\\xa2}\\xe6@\\xb9\\x07\\xd4zT\\x89+/\\xdd\\x8dy\\xf5\\xe6\\x8a)\\x8c\\x95%v\\x1bJ/\\xd6\\x94\\xc5$\\x99!\\x80\\x1e\\x94QY\\xb9\\xb3\\xa24b\\xd0\\xf8\\xe1 |\\xdb[\\xf0\\xa2\\x8a+?k.\\xe5{(v?'), PhotoSize(type='m', w=320, h=180, size=16673), PhotoSize(type='x', w=800, h=449, size=57169), PhotoSizeProgressive(type='y', w=1280, h=718, sizes=[14412, 36931, 49730, 64347, 96995])], dc_id=2, has_stickers=False, video_sizes=[]), ttl_seconds=None), reply_markup=None, entities=[MessageEntityBold(offset=0, length=43), MessageEntityBold(offset=380, length=75)], views=568, forwards=1, replies=MessageReplies(replies=1, replies_pts=17448, comments=True, recent_repliers=[PeerUser(user_id=2076138124)], channel_id=1582973912, max_id=9934, read_max_id=None), edit_date=datetime.datetime(2024, 5, 18, 4, 11, 33, tzinfo=datetime.timezone.utc), post_author=None, grouped_id=None, reactions=MessageReactions(results=[], min=False, can_see_list=False, reactions_as_tags=False, recent_reactions=[]), restriction_reason=[], ttl_period=None, quick_reply_shortcut_id=None)\n",
            "Message(id=3018, peer_id=PeerChannel(channel_id=1564524670), date=datetime.datetime(2024, 5, 17, 3, 36, 52, tzinfo=datetime.timezone.utc), message='Народный артист России Александр Пашутин, выступит 18 мая в Музейном Центре \"Наследие Чукотки\" в рамках Всероссийской акции \"Ночь музеев\". \\n\\n19 мая приглашаем всех в кинотеатр \"Полярный\" в 17:00 на творческую встречу с актером. После программы состоится фото и автограф сессия. \\n\\nВход свободный!', out=False, mentioned=False, media_unread=False, silent=False, post=True, from_scheduled=False, legacy=False, edit_hide=True, pinned=False, noforwards=False, invert_media=False, offline=False, from_id=None, from_boosts_applied=None, saved_peer_id=None, fwd_from=MessageFwdHeader(date=datetime.datetime(2024, 5, 17, 3, 24, 33, tzinfo=datetime.timezone.utc), imported=False, saved_out=False, from_id=PeerChannel(channel_id=1381523027), from_name=None, channel_post=5776, post_author=None, saved_from_peer=None, saved_from_msg_id=None, saved_from_id=None, saved_from_name=None, saved_date=None, psa_type=None), via_bot_id=None, via_business_bot_id=None, reply_to=None, media=MessageMediaDocument(nopremium=False, spoiler=False, video=True, round=False, voice=False, document=Document(id=5348283526850562225, access_hash=-4564831353337586369, file_reference=b'\\x02]@\\xc0~\\x00\\x00\\x0b\\xcafJ\\xd3\\xf8s)x[\\xa9~\\x1e\"\\x12\\x8c\\x19\\xa7>*g5', date=datetime.datetime(2024, 5, 17, 3, 24, 33, tzinfo=datetime.timezone.utc), mime_type='video/mp4', size=1873458, dc_id=2, attributes=[DocumentAttributeVideo(duration=9.0, w=848, h=464, round_message=False, supports_streaming=True, nosound=False, preload_prefix_size=None), DocumentAttributeFilename(file_name='IMG_9111.MP4')], thumbs=[PhotoStrippedSize(type='i', bytes=b'\\x01\\x16(\\xd8\\xaa\\xf73\\xc9\\x1b\\xaa\\xc6\\x9b\\xb8\\xc9\\xa5!\\x01\\xc6X\\xff\\x00\\xc0\\x8d2h\\xc9Q\\xb3\\xa8\\xecM0B\\xc5r\\x1dA\\xc8\\xc8\\x1c\\xaezT\\xcb*\\x9e\\xe3\\xf3\\xac\\xeb\\xd8#\\x8e1:.\\xd6\\xcf<\\xd5i.\\xc2\\x80bM\\xb9\\xeeN\\xee(\\x03p\\xb0\\x1dH\\xa2\\xa8Y\\xdc\\xac\\x80\\xabG\\xb9\\x879U\\xa2\\x81jX\\x91B\\xe0\\x8aH\\xdfr\\x06\\xc7$QE\\x006\\xe2?6\\x16N\\x99\\x15B\\xe2\\x05;P\\xfa\\xf0E\\x14P\\x04\\xf6\\x88-C\\x1cnf\\xeasE\\x14P\\x07'), PhotoSize(type='m', w=320, h=175, size=13621)], video_thumbs=[]), alt_document=None, ttl_seconds=None), reply_markup=None, entities=[], views=407, forwards=3, replies=MessageReplies(replies=0, replies_pts=17448, comments=True, recent_repliers=[], channel_id=1582973912, max_id=None, read_max_id=None), edit_date=datetime.datetime(2024, 5, 17, 3, 37, 19, tzinfo=datetime.timezone.utc), post_author=None, grouped_id=None, reactions=MessageReactions(results=[ReactionCount(reaction=ReactionEmoji(emoticon='👍'), count=14, chosen_order=None), ReactionCount(reaction=ReactionEmoji(emoticon='🔥'), count=4, chosen_order=None), ReactionCount(reaction=ReactionEmoji(emoticon='👀'), count=1, chosen_order=None)], min=False, can_see_list=False, reactions_as_tags=False, recent_reactions=[]), restriction_reason=[], ttl_period=None, quick_reply_shortcut_id=None)\n",
            "Message(id=3017, peer_id=PeerChannel(channel_id=1564524670), date=datetime.datetime(2024, 5, 17, 2, 30, 51, tzinfo=datetime.timezone.utc), message='📚 Чукотка готовится к государственной итоговой аттестации. На этой неделе прошла всероссийская тренировка ЕГЭ - по русскому языку, английскому устному и информатике. \\n\\n⭕Сегодня гостем нашего эфира станет и.о. начальника отдела оценки и контроля образования Департамента образования и науки Лилия Колыханова.\\n\\n💬 Поговорим о том, какие предметы ученики чаще всего выбирают как дополнительные и сколько выпускников планируется в этом году.\\n\\n💬 Расскажем о новшествах этого года и напомним правила проведения экзаменов.', out=False, mentioned=False, media_unread=False, silent=False, post=True, from_scheduled=False, legacy=False, edit_hide=True, pinned=False, noforwards=False, invert_media=False, offline=False, from_id=None, from_boosts_applied=None, saved_peer_id=None, fwd_from=None, via_bot_id=None, via_business_bot_id=None, reply_to=None, media=MessageMediaPhoto(spoiler=False, photo=Photo(id=5348514944439671607, access_hash=6470718833710216335, file_reference=b'\\x02]@\\xc0~\\x00\\x00\\x0b\\xc9fJ\\xd3\\xf8\\x15\\x80\\xbc\\xa2V\\xe7\\xbd\\x1b\\x8c\\x83\\xd9\\x01|\\xc0\\xa1\\xcc', date=datetime.datetime(2024, 5, 17, 0, 43, 40, tzinfo=datetime.timezone.utc), sizes=[PhotoStrippedSize(type='i', bytes=b'\\x01\\x17(\\xb1\\x15\\xba\\xdaE\\xe6\\xc9\\xf3H?J_\\xb41\\x90n%T\\xfaT\\xb7\\xaa[\\xcb\\xfb\\xc1s\\xce\\xda\\x81\\x02\\xc0\\xd8h\\xcb\\x1e\\xcc\\xa3&\\x96\\xc5\\xb99j\\xcbFt\\x8f\\x1f0+\\xf5\\xa6\\x1dB\\xd4\\xff\\x00\\xcbF\\xff\\x00\\xbeM&fu\\xc0\\x88\\x01\\xfe\\xd1\\xff\\x00\\n\\x87\\xec\\x0b\\x9c\\x19\\xdc\\x1fNi\\x92_F\\x12\"\\xba\\xb1*FE\\x15U,\\xb6\\xb2\\x91s!\\xc1\\xe9\\x9f\\xfe\\xbd\\x14\\x08\\xb6\\xa4\\x9c\\xe4c\\x15]\\xe0\\xcc\\xcc\\xf9\\xe4\\x81\\xc1\\xa2\\x8a\\x104I\\nl\\xcf<`\\x0f\\xca\\x9eP\\x13\\x92\\x05\\x14P\\x08\\xafyv\\xb6\\xaa0\\xb9v\\xe8(\\xa2\\x8a\\x96\\xce\\x8apN7g'), PhotoSize(type='m', w=320, h=180, size=19411), PhotoSize(type='x', w=800, h=450, size=72468), PhotoSizeProgressive(type='y', w=1280, h=720, sizes=[10320, 26433, 39500, 55393, 89801])], dc_id=2, has_stickers=False, video_sizes=[]), ttl_seconds=None), reply_markup=None, entities=[MessageEntityCustomEmoji(offset=0, length=2, document_id=5406828917552067537), MessageEntityBold(offset=82, length=28), MessageEntityCustomEmoji(offset=169, length=1, document_id=5308050287561289711), MessageEntityBold(offset=259, length=48), MessageEntityCustomEmoji(offset=310, length=2, document_id=5819147036393475340), MessageEntityCustomEmoji(offset=440, length=2, document_id=5323270869974263800)], views=547, forwards=4, replies=MessageReplies(replies=0, replies_pts=17448, comments=True, recent_repliers=[], channel_id=1582973912, max_id=None, read_max_id=None), edit_date=datetime.datetime(2024, 5, 17, 2, 30, 54, tzinfo=datetime.timezone.utc), post_author=None, grouped_id=None, reactions=None, restriction_reason=[], ttl_period=None, quick_reply_shortcut_id=None)\n",
            "Message(id=3016, peer_id=PeerChannel(channel_id=1564524670), date=datetime.datetime(2024, 5, 16, 22, 39, 54, tzinfo=datetime.timezone.utc), message='ОТМОРОЖЕННЫЕ ЕВРАЖКИ ON AIR🎙\\n\\nВедущие Радио Камчатка и Радио Пурга сошлись в одном эфире и испытали друг друга вопросами из жизни региона🤯\\n\\n❓Кто оказался сообразительнее - Евражки или Отмороженные?\\n\\nПодробности в видео!🎥', out=False, mentioned=False, media_unread=False, silent=False, post=True, from_scheduled=False, legacy=False, edit_hide=True, pinned=False, noforwards=False, invert_media=False, offline=False, from_id=None, from_boosts_applied=None, saved_peer_id=None, fwd_from=MessageFwdHeader(date=datetime.datetime(2024, 5, 16, 22, 33, 22, tzinfo=datetime.timezone.utc), imported=False, saved_out=False, from_id=PeerChannel(channel_id=1965514087), from_name=None, channel_post=1935, post_author=None, saved_from_peer=None, saved_from_msg_id=None, saved_from_id=None, saved_from_name=None, saved_date=None, psa_type=None), via_bot_id=None, via_business_bot_id=None, reply_to=None, media=MessageMediaDocument(nopremium=False, spoiler=False, video=True, round=False, voice=False, document=Document(id=5346088785677408162, access_hash=6209390610261565691, file_reference=b'\\x02]@\\xc0~\\x00\\x00\\x0b\\xc8fJ\\xd3\\xf8\\xf5\\xef\\x19\\xbc(Y\\x02O\\xc9\\xf3q\\xbdO_\\xe2\\x1c', date=datetime.datetime(2024, 5, 16, 22, 33, 22, tzinfo=datetime.timezone.utc), mime_type='video/mp4', size=52733499, dc_id=2, attributes=[DocumentAttributeVideo(duration=1063.12, w=640, h=360, round_message=False, supports_streaming=True, nosound=False, preload_prefix_size=None), DocumentAttributeFilename(file_name='ЭТО БЫЛО МОЩНО!.mp4')], thumbs=[PhotoStrippedSize(type='i', bytes=b\"\\x01\\x16(\\xa4\\xb6\\xec\\xe8\\x0eTg\\xd6\\xa6\\x8e\\x02\\x80\\x06\\x11\\x1cw9\\xe6\\x9a\\x14\\x88Q\\xbc\\xc5\\x03\\xd3\\xbd,\\xd3\\xe0\\x01\\x1b\\x83\\xeb\\x8a.U\\xae\\\\\\xd8\\x1a\\x10\\x81\\x17?\\xa5V{Vv1\\xfe\\xe5O\\x1c\\x8c\\xd4\\xb6d\\x00|\\xd7\\xc0\\x0b\\x9a\\x9d\\x91\\x1d\\xa3\\x96\\x128\\x1d\\xcesN\\xe4\\x94'\\xb0\\x92(\\x0b\\xb1\\x8c\\x85\\xf4\\xceh\\xab\\x97\\xb2\\xa4\\x96L\\x06\\xed\\xde\\xe3\\x1f\\x9d\\x14\\x01\\x90[\\x18\\xcf>\\xd4\\x17\\xe3\\x84Q\\xf4\\xcd\\x14S`/\\x9c\\xe3<\\xf5\\xa5\\x12\\x9d\\xa0c\\xa7\\xb9\\xa2\\x8a\\x00iv9\\xe4\\xf3\\xc63E\\x14R\\x03\"), PhotoSize(type='m', w=320, h=180, size=14743)], video_thumbs=[]), alt_document=None, ttl_seconds=None), reply_markup=None, entities=[MessageEntityBold(offset=0, length=20), MessageEntityBold(offset=21, length=6), MessageEntityBold(offset=29, length=1), MessageEntityBold(offset=39, length=14), MessageEntityBold(offset=56, length=11), MessageEntityCustomEmoji(offset=142, length=1, document_id=5305786350170023258), MessageEntityBold(offset=174, length=7), MessageEntityBold(offset=186, length=12), MessageEntityBold(offset=201, length=20)], views=583, forwards=2, replies=MessageReplies(replies=1, replies_pts=17448, comments=True, recent_repliers=[PeerUser(user_id=5992935763)], channel_id=1582973912, max_id=9926, read_max_id=None), edit_date=datetime.datetime(2024, 5, 16, 22, 45, 29, tzinfo=datetime.timezone.utc), post_author=None, grouped_id=None, reactions=MessageReactions(results=[ReactionCount(reaction=ReactionEmoji(emoticon='🤩'), count=11, chosen_order=None), ReactionCount(reaction=ReactionEmoji(emoticon='❤'), count=6, chosen_order=None), ReactionCount(reaction=ReactionEmoji(emoticon='🎉'), count=5, chosen_order=None)], min=False, can_see_list=False, reactions_as_tags=False, recent_reactions=[]), restriction_reason=[], ttl_period=None, quick_reply_shortcut_id=None)\n"
          ]
        }
      ]
    },
    {
      "cell_type": "code",
      "source": [
        "messages_info = []\n",
        "async for message in messages:\n",
        "        if i < 100:\n",
        "            messages_info.append([message.id, str(message.date),\n",
        "            message.message, message.views,\n",
        "            message.forwards,\n",
        "            message.replies.replies if message.replies != None else None])\n",
        "            i+=1\n",
        "        else:\n",
        "            break"
      ],
      "metadata": {
        "id": "3YdFI1xbTG6S"
      },
      "execution_count": null,
      "outputs": []
    },
    {
      "cell_type": "code",
      "source": [
        "mess = pd.DataFrame(messages_info, columns=['id', 'date',\n",
        "                                            'text', 'views',\n",
        "                                            'forwards', 'replies'])\n",
        "mess"
      ],
      "metadata": {
        "colab": {
          "base_uri": "https://localhost:8080/",
          "height": 753
        },
        "id": "aJR2CRk5VPJ7",
        "outputId": "730cac51-4f41-421c-a2dd-3b11d38196e9"
      },
      "execution_count": null,
      "outputs": [
        {
          "output_type": "execute_result",
          "data": {
            "text/plain": [
              "      id                       date  \\\n",
              "0   3025  2024-05-20 02:32:15+00:00   \n",
              "1   3024  2024-05-19 22:45:27+00:00   \n",
              "2   3023  2024-05-19 22:34:55+00:00   \n",
              "3   3022  2024-05-18 03:40:08+00:00   \n",
              "4   3021  2024-05-17 07:05:11+00:00   \n",
              "..   ...                        ...   \n",
              "95  2929  2024-04-23 05:09:14+00:00   \n",
              "96  2928  2024-04-23 04:40:11+00:00   \n",
              "97  2927  2024-04-23 02:30:58+00:00   \n",
              "98  2926  2024-04-23 01:27:53+00:00   \n",
              "99  2925  2024-04-22 23:35:04+00:00   \n",
              "\n",
              "                                                 text  views  forwards  \\\n",
              "0   📻Сегодня у нас в прямом эфире поговорим о Госу...    472         5   \n",
              "1   🎭Сегодня в 11:00 гостем \"Отмороженного утра\" с...    379         1   \n",
              "2   Можно посадить пассажира или нет?\\n\\nВ новой з...    380         1   \n",
              "3   💬 Жители Анадыря смогут пообщаться с народным ...    769         1   \n",
              "4   📢Коротко о главных новостях за последние сутки...    641         1   \n",
              "..                                                ...    ...       ...   \n",
              "95                                                       846         5   \n",
              "96  🎦Несмотря на то, что итоги фестивальной недели...   2286         8   \n",
              "97  🎙Сегодня гостем программы «Своё дело» станет и...    832         6   \n",
              "98  Надо пропускать трамвай или нет?\\nПравило о то...    819         2   \n",
              "99  🔥Сегодня сразу после завершения \"Отмороженного...    753         2   \n",
              "\n",
              "    replies  \n",
              "0       2.0  \n",
              "1       0.0  \n",
              "2       1.0  \n",
              "3       0.0  \n",
              "4       0.0  \n",
              "..      ...  \n",
              "95      0.0  \n",
              "96      6.0  \n",
              "97      1.0  \n",
              "98      1.0  \n",
              "99     15.0  \n",
              "\n",
              "[100 rows x 6 columns]"
            ],
            "text/html": [
              "\n",
              "  <div id=\"df-7fdd6932-5cbe-4eb9-9c77-08ef7f26668e\" class=\"colab-df-container\">\n",
              "    <div>\n",
              "<style scoped>\n",
              "    .dataframe tbody tr th:only-of-type {\n",
              "        vertical-align: middle;\n",
              "    }\n",
              "\n",
              "    .dataframe tbody tr th {\n",
              "        vertical-align: top;\n",
              "    }\n",
              "\n",
              "    .dataframe thead th {\n",
              "        text-align: right;\n",
              "    }\n",
              "</style>\n",
              "<table border=\"1\" class=\"dataframe\">\n",
              "  <thead>\n",
              "    <tr style=\"text-align: right;\">\n",
              "      <th></th>\n",
              "      <th>id</th>\n",
              "      <th>date</th>\n",
              "      <th>text</th>\n",
              "      <th>views</th>\n",
              "      <th>forwards</th>\n",
              "      <th>replies</th>\n",
              "    </tr>\n",
              "  </thead>\n",
              "  <tbody>\n",
              "    <tr>\n",
              "      <th>0</th>\n",
              "      <td>3025</td>\n",
              "      <td>2024-05-20 02:32:15+00:00</td>\n",
              "      <td>📻Сегодня у нас в прямом эфире поговорим о Госу...</td>\n",
              "      <td>472</td>\n",
              "      <td>5</td>\n",
              "      <td>2.0</td>\n",
              "    </tr>\n",
              "    <tr>\n",
              "      <th>1</th>\n",
              "      <td>3024</td>\n",
              "      <td>2024-05-19 22:45:27+00:00</td>\n",
              "      <td>🎭Сегодня в 11:00 гостем \"Отмороженного утра\" с...</td>\n",
              "      <td>379</td>\n",
              "      <td>1</td>\n",
              "      <td>0.0</td>\n",
              "    </tr>\n",
              "    <tr>\n",
              "      <th>2</th>\n",
              "      <td>3023</td>\n",
              "      <td>2024-05-19 22:34:55+00:00</td>\n",
              "      <td>Можно посадить пассажира или нет?\\n\\nВ новой з...</td>\n",
              "      <td>380</td>\n",
              "      <td>1</td>\n",
              "      <td>1.0</td>\n",
              "    </tr>\n",
              "    <tr>\n",
              "      <th>3</th>\n",
              "      <td>3022</td>\n",
              "      <td>2024-05-18 03:40:08+00:00</td>\n",
              "      <td>💬 Жители Анадыря смогут пообщаться с народным ...</td>\n",
              "      <td>769</td>\n",
              "      <td>1</td>\n",
              "      <td>0.0</td>\n",
              "    </tr>\n",
              "    <tr>\n",
              "      <th>4</th>\n",
              "      <td>3021</td>\n",
              "      <td>2024-05-17 07:05:11+00:00</td>\n",
              "      <td>📢Коротко о главных новостях за последние сутки...</td>\n",
              "      <td>641</td>\n",
              "      <td>1</td>\n",
              "      <td>0.0</td>\n",
              "    </tr>\n",
              "    <tr>\n",
              "      <th>...</th>\n",
              "      <td>...</td>\n",
              "      <td>...</td>\n",
              "      <td>...</td>\n",
              "      <td>...</td>\n",
              "      <td>...</td>\n",
              "      <td>...</td>\n",
              "    </tr>\n",
              "    <tr>\n",
              "      <th>95</th>\n",
              "      <td>2929</td>\n",
              "      <td>2024-04-23 05:09:14+00:00</td>\n",
              "      <td></td>\n",
              "      <td>846</td>\n",
              "      <td>5</td>\n",
              "      <td>0.0</td>\n",
              "    </tr>\n",
              "    <tr>\n",
              "      <th>96</th>\n",
              "      <td>2928</td>\n",
              "      <td>2024-04-23 04:40:11+00:00</td>\n",
              "      <td>🎦Несмотря на то, что итоги фестивальной недели...</td>\n",
              "      <td>2286</td>\n",
              "      <td>8</td>\n",
              "      <td>6.0</td>\n",
              "    </tr>\n",
              "    <tr>\n",
              "      <th>97</th>\n",
              "      <td>2927</td>\n",
              "      <td>2024-04-23 02:30:58+00:00</td>\n",
              "      <td>🎙Сегодня гостем программы «Своё дело» станет и...</td>\n",
              "      <td>832</td>\n",
              "      <td>6</td>\n",
              "      <td>1.0</td>\n",
              "    </tr>\n",
              "    <tr>\n",
              "      <th>98</th>\n",
              "      <td>2926</td>\n",
              "      <td>2024-04-23 01:27:53+00:00</td>\n",
              "      <td>Надо пропускать трамвай или нет?\\nПравило о то...</td>\n",
              "      <td>819</td>\n",
              "      <td>2</td>\n",
              "      <td>1.0</td>\n",
              "    </tr>\n",
              "    <tr>\n",
              "      <th>99</th>\n",
              "      <td>2925</td>\n",
              "      <td>2024-04-22 23:35:04+00:00</td>\n",
              "      <td>🔥Сегодня сразу после завершения \"Отмороженного...</td>\n",
              "      <td>753</td>\n",
              "      <td>2</td>\n",
              "      <td>15.0</td>\n",
              "    </tr>\n",
              "  </tbody>\n",
              "</table>\n",
              "<p>100 rows × 6 columns</p>\n",
              "</div>\n",
              "    <div class=\"colab-df-buttons\">\n",
              "\n",
              "  <div class=\"colab-df-container\">\n",
              "    <button class=\"colab-df-convert\" onclick=\"convertToInteractive('df-7fdd6932-5cbe-4eb9-9c77-08ef7f26668e')\"\n",
              "            title=\"Convert this dataframe to an interactive table.\"\n",
              "            style=\"display:none;\">\n",
              "\n",
              "  <svg xmlns=\"http://www.w3.org/2000/svg\" height=\"24px\" viewBox=\"0 -960 960 960\">\n",
              "    <path d=\"M120-120v-720h720v720H120Zm60-500h600v-160H180v160Zm220 220h160v-160H400v160Zm0 220h160v-160H400v160ZM180-400h160v-160H180v160Zm440 0h160v-160H620v160ZM180-180h160v-160H180v160Zm440 0h160v-160H620v160Z\"/>\n",
              "  </svg>\n",
              "    </button>\n",
              "\n",
              "  <style>\n",
              "    .colab-df-container {\n",
              "      display:flex;\n",
              "      gap: 12px;\n",
              "    }\n",
              "\n",
              "    .colab-df-convert {\n",
              "      background-color: #E8F0FE;\n",
              "      border: none;\n",
              "      border-radius: 50%;\n",
              "      cursor: pointer;\n",
              "      display: none;\n",
              "      fill: #1967D2;\n",
              "      height: 32px;\n",
              "      padding: 0 0 0 0;\n",
              "      width: 32px;\n",
              "    }\n",
              "\n",
              "    .colab-df-convert:hover {\n",
              "      background-color: #E2EBFA;\n",
              "      box-shadow: 0px 1px 2px rgba(60, 64, 67, 0.3), 0px 1px 3px 1px rgba(60, 64, 67, 0.15);\n",
              "      fill: #174EA6;\n",
              "    }\n",
              "\n",
              "    .colab-df-buttons div {\n",
              "      margin-bottom: 4px;\n",
              "    }\n",
              "\n",
              "    [theme=dark] .colab-df-convert {\n",
              "      background-color: #3B4455;\n",
              "      fill: #D2E3FC;\n",
              "    }\n",
              "\n",
              "    [theme=dark] .colab-df-convert:hover {\n",
              "      background-color: #434B5C;\n",
              "      box-shadow: 0px 1px 3px 1px rgba(0, 0, 0, 0.15);\n",
              "      filter: drop-shadow(0px 1px 2px rgba(0, 0, 0, 0.3));\n",
              "      fill: #FFFFFF;\n",
              "    }\n",
              "  </style>\n",
              "\n",
              "    <script>\n",
              "      const buttonEl =\n",
              "        document.querySelector('#df-7fdd6932-5cbe-4eb9-9c77-08ef7f26668e button.colab-df-convert');\n",
              "      buttonEl.style.display =\n",
              "        google.colab.kernel.accessAllowed ? 'block' : 'none';\n",
              "\n",
              "      async function convertToInteractive(key) {\n",
              "        const element = document.querySelector('#df-7fdd6932-5cbe-4eb9-9c77-08ef7f26668e');\n",
              "        const dataTable =\n",
              "          await google.colab.kernel.invokeFunction('convertToInteractive',\n",
              "                                                    [key], {});\n",
              "        if (!dataTable) return;\n",
              "\n",
              "        const docLinkHtml = 'Like what you see? Visit the ' +\n",
              "          '<a target=\"_blank\" href=https://colab.research.google.com/notebooks/data_table.ipynb>data table notebook</a>'\n",
              "          + ' to learn more about interactive tables.';\n",
              "        element.innerHTML = '';\n",
              "        dataTable['output_type'] = 'display_data';\n",
              "        await google.colab.output.renderOutput(dataTable, element);\n",
              "        const docLink = document.createElement('div');\n",
              "        docLink.innerHTML = docLinkHtml;\n",
              "        element.appendChild(docLink);\n",
              "      }\n",
              "    </script>\n",
              "  </div>\n",
              "\n",
              "\n",
              "<div id=\"df-7520c107-716b-44c0-a229-a7fbbcde5b8b\">\n",
              "  <button class=\"colab-df-quickchart\" onclick=\"quickchart('df-7520c107-716b-44c0-a229-a7fbbcde5b8b')\"\n",
              "            title=\"Suggest charts\"\n",
              "            style=\"display:none;\">\n",
              "\n",
              "<svg xmlns=\"http://www.w3.org/2000/svg\" height=\"24px\"viewBox=\"0 0 24 24\"\n",
              "     width=\"24px\">\n",
              "    <g>\n",
              "        <path d=\"M19 3H5c-1.1 0-2 .9-2 2v14c0 1.1.9 2 2 2h14c1.1 0 2-.9 2-2V5c0-1.1-.9-2-2-2zM9 17H7v-7h2v7zm4 0h-2V7h2v10zm4 0h-2v-4h2v4z\"/>\n",
              "    </g>\n",
              "</svg>\n",
              "  </button>\n",
              "\n",
              "<style>\n",
              "  .colab-df-quickchart {\n",
              "      --bg-color: #E8F0FE;\n",
              "      --fill-color: #1967D2;\n",
              "      --hover-bg-color: #E2EBFA;\n",
              "      --hover-fill-color: #174EA6;\n",
              "      --disabled-fill-color: #AAA;\n",
              "      --disabled-bg-color: #DDD;\n",
              "  }\n",
              "\n",
              "  [theme=dark] .colab-df-quickchart {\n",
              "      --bg-color: #3B4455;\n",
              "      --fill-color: #D2E3FC;\n",
              "      --hover-bg-color: #434B5C;\n",
              "      --hover-fill-color: #FFFFFF;\n",
              "      --disabled-bg-color: #3B4455;\n",
              "      --disabled-fill-color: #666;\n",
              "  }\n",
              "\n",
              "  .colab-df-quickchart {\n",
              "    background-color: var(--bg-color);\n",
              "    border: none;\n",
              "    border-radius: 50%;\n",
              "    cursor: pointer;\n",
              "    display: none;\n",
              "    fill: var(--fill-color);\n",
              "    height: 32px;\n",
              "    padding: 0;\n",
              "    width: 32px;\n",
              "  }\n",
              "\n",
              "  .colab-df-quickchart:hover {\n",
              "    background-color: var(--hover-bg-color);\n",
              "    box-shadow: 0 1px 2px rgba(60, 64, 67, 0.3), 0 1px 3px 1px rgba(60, 64, 67, 0.15);\n",
              "    fill: var(--button-hover-fill-color);\n",
              "  }\n",
              "\n",
              "  .colab-df-quickchart-complete:disabled,\n",
              "  .colab-df-quickchart-complete:disabled:hover {\n",
              "    background-color: var(--disabled-bg-color);\n",
              "    fill: var(--disabled-fill-color);\n",
              "    box-shadow: none;\n",
              "  }\n",
              "\n",
              "  .colab-df-spinner {\n",
              "    border: 2px solid var(--fill-color);\n",
              "    border-color: transparent;\n",
              "    border-bottom-color: var(--fill-color);\n",
              "    animation:\n",
              "      spin 1s steps(1) infinite;\n",
              "  }\n",
              "\n",
              "  @keyframes spin {\n",
              "    0% {\n",
              "      border-color: transparent;\n",
              "      border-bottom-color: var(--fill-color);\n",
              "      border-left-color: var(--fill-color);\n",
              "    }\n",
              "    20% {\n",
              "      border-color: transparent;\n",
              "      border-left-color: var(--fill-color);\n",
              "      border-top-color: var(--fill-color);\n",
              "    }\n",
              "    30% {\n",
              "      border-color: transparent;\n",
              "      border-left-color: var(--fill-color);\n",
              "      border-top-color: var(--fill-color);\n",
              "      border-right-color: var(--fill-color);\n",
              "    }\n",
              "    40% {\n",
              "      border-color: transparent;\n",
              "      border-right-color: var(--fill-color);\n",
              "      border-top-color: var(--fill-color);\n",
              "    }\n",
              "    60% {\n",
              "      border-color: transparent;\n",
              "      border-right-color: var(--fill-color);\n",
              "    }\n",
              "    80% {\n",
              "      border-color: transparent;\n",
              "      border-right-color: var(--fill-color);\n",
              "      border-bottom-color: var(--fill-color);\n",
              "    }\n",
              "    90% {\n",
              "      border-color: transparent;\n",
              "      border-bottom-color: var(--fill-color);\n",
              "    }\n",
              "  }\n",
              "</style>\n",
              "\n",
              "  <script>\n",
              "    async function quickchart(key) {\n",
              "      const quickchartButtonEl =\n",
              "        document.querySelector('#' + key + ' button');\n",
              "      quickchartButtonEl.disabled = true;  // To prevent multiple clicks.\n",
              "      quickchartButtonEl.classList.add('colab-df-spinner');\n",
              "      try {\n",
              "        const charts = await google.colab.kernel.invokeFunction(\n",
              "            'suggestCharts', [key], {});\n",
              "      } catch (error) {\n",
              "        console.error('Error during call to suggestCharts:', error);\n",
              "      }\n",
              "      quickchartButtonEl.classList.remove('colab-df-spinner');\n",
              "      quickchartButtonEl.classList.add('colab-df-quickchart-complete');\n",
              "    }\n",
              "    (() => {\n",
              "      let quickchartButtonEl =\n",
              "        document.querySelector('#df-7520c107-716b-44c0-a229-a7fbbcde5b8b button');\n",
              "      quickchartButtonEl.style.display =\n",
              "        google.colab.kernel.accessAllowed ? 'block' : 'none';\n",
              "    })();\n",
              "  </script>\n",
              "</div>\n",
              "    </div>\n",
              "  </div>\n"
            ],
            "application/vnd.google.colaboratory.intrinsic+json": {
              "type": "dataframe",
              "variable_name": "mess",
              "summary": "{\n  \"name\": \"mess\",\n  \"rows\": 100,\n  \"fields\": [\n    {\n      \"column\": \"id\",\n      \"properties\": {\n        \"dtype\": \"number\",\n        \"std\": 29,\n        \"min\": 2925,\n        \"max\": 3025,\n        \"num_unique_values\": 100,\n        \"samples\": [\n          2941,\n          2971,\n          2954\n        ],\n        \"semantic_type\": \"\",\n        \"description\": \"\"\n      }\n    },\n    {\n      \"column\": \"date\",\n      \"properties\": {\n        \"dtype\": \"object\",\n        \"num_unique_values\": 93,\n        \"samples\": [\n          \"2024-05-07 04:23:54+00:00\",\n          \"2024-05-14 02:55:27+00:00\",\n          \"2024-04-30 05:23:34+00:00\"\n        ],\n        \"semantic_type\": \"\",\n        \"description\": \"\"\n      }\n    },\n    {\n      \"column\": \"text\",\n      \"properties\": {\n        \"dtype\": \"string\",\n        \"num_unique_values\": 90,\n        \"samples\": [\n          \"\\u041d\\u0443\\u0436\\u043d\\u043e \\u043f\\u0440\\u043e\\u043f\\u0443\\u0441\\u043a\\u0430\\u0442\\u044c \\u0432\\u0441\\u0442\\u0440\\u0435\\u0447\\u043d\\u0443\\u044e \\u043c\\u0430\\u0448\\u0438\\u043d\\u0443 \\u0438\\u043b\\u0438 \\u043d\\u0435\\u0442?\\n\\n\\u0421\\u0435\\u0433\\u043e\\u0434\\u043d\\u044f \\u043d\\u0430\\u0441 \\u0436\\u0434\\u0435\\u0442 \\u0432\\u043e\\u0442 \\u0442\\u0430\\u043a\\u0430\\u044f \\u0437\\u0430\\u0434\\u0430\\u0447\\u0430: \\u043f\\u0440\\u043e\\u0435\\u0437\\u0434 \\u043f\\u0435\\u0440\\u0435\\u043a\\u0440\\u0451\\u0441\\u0442\\u043a\\u0430 \\u043f\\u043e \\u0441\\u0438\\u0433\\u043d\\u0430\\u043b\\u0443 \\u0437\\u0435\\u043b\\u0451\\u043d\\u043e\\u0439 \\u0441\\u0442\\u0440\\u0435\\u043b\\u043a\\u0438 \\u0441\\u0432\\u0435\\u0442\\u043e\\u0444\\u043e\\u0440\\u0430. \\u0412\\u0440\\u043e\\u0434\\u0435 \\u0431\\u044b \\u043f\\u0440\\u043e\\u0441\\u0442\\u043e\\u0439 \\u043c\\u0430\\u043d\\u0451\\u0432\\u0440, \\u043d\\u043e \\u043d\\u0430\\u0432\\u0441\\u0442\\u0440\\u0435\\u0447\\u0443 \\u0435\\u0434\\u0435\\u0442 \\u0435\\u0449\\u0451 \\u043e\\u0434\\u0438\\u043d \\u0430\\u0432\\u0442\\u043e\\u043c\\u043e\\u0431\\u0438\\u043b\\u044c, \\u043a\\u043e\\u0442\\u043e\\u0440\\u043e\\u043c\\u0443 \\u043d\\u0443\\u0436\\u043d\\u043e \\u043f\\u0440\\u044f\\u043c\\u043e. \\u041a\\u0430\\u043a \\u0440\\u0430\\u0437\\u044a\\u0435\\u0445\\u0430\\u0442\\u044c\\u0441\\u044f \\u0441 \\u043d\\u0438\\u043c, \\u043d\\u0435 \\u043d\\u0430\\u0440\\u0443\\u0448\\u0430\\u044f \\u041f\\u0440\\u0430\\u0432\\u0438\\u043b? \\u041e\\u0431\\u044f\\u0437\\u0430\\u043d\\u044b \\u043b\\u0438 \\u0432\\u044b \\u043f\\u0440\\u043e\\u043f\\u0443\\u0441\\u0442\\u0438\\u0442\\u044c \\u0432\\u0441\\u0442\\u0440\\u0435\\u0447\\u043d\\u0443\\u044e \\u043c\\u0430\\u0448\\u0438\\u043d\\u0443?\\n\\n\\u0412 \\u041a\\u0410\\u041d\\u0410\\u041b\\u0415 \\u041e\\u0422\\u0412\\u0415\\u0422\\u042b \\u041d\\u0415 \\u041f\\u0420\\u0418\\u041d\\u0418\\u041c\\u0410\\u042e\\u0422\\u0421\\u042f! \\u0422\\u041e\\u041b\\u042c\\u041a\\u041e \\u041f\\u041e \\u0422\\u0415\\u041b\\u0415\\u0424\\u041e\\u041d\\u0423 \\u041f\\u0420\\u042f\\u041c\\u041e\\u0413\\u041e \\u042d\\u0424\\u0418\\u0420\\u0410 2-06-00!!!\",\n          \"\\ud83d\\udce2\\u041a\\u043e\\u0440\\u043e\\u0442\\u043a\\u043e \\u043e \\u0433\\u043b\\u0430\\u0432\\u043d\\u044b\\u0445 \\u043d\\u043e\\u0432\\u043e\\u0441\\u0442\\u044f\\u0445 \\u0437\\u0430 \\u043f\\u043e\\u0441\\u043b\\u0435\\u0434\\u043d\\u0438\\u0435 \\u0441\\u0443\\u0442\\u043a\\u0438\\n\\n\\ud83c\\udff4 \\u041f\\u0440\\u0430\\u0432\\u0438\\u0442\\u0435\\u043b\\u044c\\u0441\\u0442\\u0432\\u043e \\u0427\\u0443\\u043a\\u043e\\u0442\\u043a\\u0438 \\u043e\\u0442\\u0447\\u0438\\u0442\\u0430\\u043b\\u043e\\u0441\\u044c \\u043f\\u0435\\u0440\\u0435\\u0434 \\u0436\\u0438\\u0442\\u0435\\u043b\\u044f\\u043c\\u0438 \\u043e\\u0431 \\u0438\\u0441\\u043f\\u043e\\u043b\\u043d\\u0435\\u043d\\u0438\\u0438 \\u043e\\u043a\\u0440\\u0443\\u0436\\u043d\\u043e\\u0433\\u043e \\u0431\\u044e\\u0434\\u0436\\u0435\\u0442\\u0430 \\u0437\\u0430 \\u043f\\u0440\\u043e\\u0448\\u043b\\u044b\\u0439 \\u0433\\u043e\\u0434. \\u0417\\u0430\\u0441\\u0435\\u0434\\u0430\\u043d\\u0438\\u0435 \\u043f\\u043e\\u0434 \\u043f\\u0440\\u0435\\u0434\\u0441\\u0435\\u0434\\u0430\\u0442\\u0435\\u043b\\u044c\\u0441\\u0442\\u0432\\u043e\\u043c \\u0432\\u0438\\u0446\\u0435-\\u0433\\u0443\\u0431\\u0435\\u0440\\u043d\\u0430\\u0442\\u043e\\u0440\\u0430 \\u041f\\u0430\\u0432\\u043b\\u0430 \\u041a\\u0430\\u0440\\u0433\\u0430\\u043f\\u043e\\u043b\\u043e\\u0432\\u0430 \\u043f\\u0440\\u043e\\u0448\\u043b\\u043e \\u0441\\u0435\\u0433\\u043e\\u0434\\u043d\\u044f \\u0432 \\u0414\\u0443\\u043c\\u0435 \\u0440\\u0435\\u0433\\u0438\\u043e\\u043d\\u0430. \\u0412 \\u043d\\u0435\\u043c \\u043f\\u0440\\u0438\\u043d\\u044f\\u043b\\u0438 \\u0443\\u0447\\u0430\\u0441\\u0442\\u0438\\u0435 \\u0434\\u0435\\u043f\\u0443\\u0442\\u0430\\u0442\\u044b, \\u0433\\u043b\\u0430\\u0432\\u044b \\u0434\\u0435\\u043f\\u0430\\u0440\\u0442\\u0430\\u043c\\u0435\\u043d\\u0442\\u043e\\u0432, \\u043e\\u0431\\u0449\\u0435\\u0441\\u0442\\u0432\\u0435\\u043d\\u043d\\u0438\\u043a\\u0438 \\u0438 \\u0436\\u0438\\u0442\\u0435\\u043b\\u0438 \\u0433\\u043e\\u0440\\u043e\\u0434\\u0430. \\n\\n\\u25fe\\ufe0f\\u041f\\u0430\\u043c\\u044f\\u0442\\u043d\\u0443\\u044e \\u0442\\u0430\\u0431\\u043b\\u0438\\u0447\\u043a\\u0443 \\u0433\\u0435\\u0440\\u043e\\u044e \\u0441\\u043f\\u0435\\u0446\\u043e\\u043f\\u0435\\u0440\\u0430\\u0446\\u0438\\u0438 \\u0412\\u043b\\u0430\\u0434\\u0438\\u0441\\u043b\\u0430\\u0432\\u0443 \\u0418\\u0437\\u0435\\u0440\\u0433\\u0438\\u043d\\u0443 \\u0443\\u0441\\u0442\\u0430\\u043d\\u043e\\u0432\\u0438\\u043b\\u0438 \\u0432 \\u0426\\u0435\\u043d\\u0442\\u0440\\u0435 \\u041e\\u0431\\u0440\\u0430\\u0437\\u043e\\u0432\\u0430\\u043d\\u0438\\u044f \\u0423\\u0433\\u043e\\u043b\\u044c\\u043d\\u044b\\u0445 \\u041a\\u043e\\u043f\\u0435\\u0439. \\u0412 \\u0442\\u043e\\u0440\\u0436\\u0435\\u0441\\u0442\\u0432\\u0435\\u043d\\u043d\\u043e\\u0439 \\u0446\\u0435\\u0440\\u0435\\u043c\\u043e\\u043d\\u0438\\u0438 \\u043f\\u0440\\u0438\\u043d\\u044f\\u043b\\u0438 \\u0443\\u0447\\u0430\\u0441\\u0442\\u0438\\u0435 \\u0440\\u043e\\u0434\\u043d\\u044b\\u0435 \\u0438 \\u0431\\u043b\\u0438\\u0437\\u043a\\u0438\\u0435 \\u0433\\u0435\\u0440\\u043e\\u044f, \\u043f\\u0440\\u0435\\u0434\\u0441\\u0442\\u0430\\u0432\\u0438\\u0442\\u0435\\u043b\\u0438 \\u0440\\u0430\\u0439\\u043e\\u043d\\u043d\\u043e\\u0439 \\u0438 \\u043f\\u043e\\u0441\\u0435\\u043b\\u043a\\u043e\\u0432\\u043e\\u0439 \\u0410\\u0434\\u043c\\u0438\\u043d\\u0438\\u0441\\u0442\\u0440\\u0430\\u0446\\u0438\\u0438, \\u0448\\u043a\\u043e\\u043b\\u044c\\u043d\\u0438\\u043a\\u0438 \\u0438 \\u043f\\u0440\\u0435\\u043f\\u043e\\u0434\\u0430\\u0432\\u0430\\u0442\\u0435\\u043b\\u0438 \\u0446\\u0435\\u043d\\u0442\\u0440\\u0430 \\u043e\\u0431\\u0440\\u0430\\u0437\\u043e\\u0432\\u0430\\u043d\\u0438\\u044f, \\u043f\\u0440\\u043e\\u0441\\u0442\\u044b\\u0435 \\u0436\\u0438\\u0442\\u0435\\u043b\\u0438. \\n\\n\\ud83d\\udcc3 \\u041c\\u043e\\u043b\\u043e\\u0434\\u0451\\u0436\\u043d\\u043e\\u0435 \\u043f\\u0440\\u0430\\u0432\\u0438\\u0442\\u0435\\u043b\\u044c\\u0441\\u0442\\u0432\\u043e \\u0427\\u0443\\u043a\\u043e\\u0442\\u043a\\u0438 \\u043e\\u0431\\u043d\\u043e\\u0432\\u043b\\u0435\\u043d\\u043e. \\u041d\\u0430 \\u043c\\u0438\\u043d\\u0443\\u0432\\u0448\\u0435\\u0439 \\u043d\\u0435\\u0434\\u0435\\u043b\\u0435 \\u0443\\u0442\\u0432\\u0435\\u0440\\u0436\\u0434\\u0435\\u043d \\u0435\\u0433\\u043e \\u043d\\u043e\\u0432\\u044b\\u0439 \\u0441\\u043e\\u0441\\u0442\\u0430\\u0432. \\u042d\\u0442\\u043e \\u043f\\u0440\\u0435\\u0434\\u0441\\u0442\\u0430\\u0432\\u0438\\u0442\\u0435\\u043b\\u0438 \\u0410\\u043d\\u0430\\u0434\\u044b\\u0440\\u0441\\u043a\\u043e\\u0433\\u043e \\u0440\\u0430\\u0439\\u043e\\u043d\\u0430, \\u042d\\u0433\\u0432\\u0435\\u043a\\u0438\\u043d\\u043e\\u0442\\u0430, \\u041f\\u0440\\u043e\\u0432\\u0438\\u0434\\u0435\\u043d\\u0438\\u044f \\u0438 \\u041f\\u0435\\u0432\\u0435\\u043a\\u0430. \\u0412 \\u0431\\u043b\\u0438\\u0436\\u0430\\u0439\\u0448\\u0435\\u0435 \\u0432\\u0440\\u0435\\u043c\\u044f \\u0431\\u0443\\u0434\\u0435\\u0442 \\u0438\\u0437\\u0431\\u0440\\u0430\\u043d \\u043f\\u0440\\u0435\\u0434\\u0441\\u0435\\u0434\\u0430\\u0442\\u0435\\u043b\\u044c \\u043f\\u0440\\u0430\\u0432\\u0438\\u0442\\u0435\\u043b\\u044c\\u0441\\u0442\\u0432\\u0430 \\u0438 \\u043f\\u0440\\u0438\\u043d\\u044f\\u0442 \\u043f\\u043b\\u0430\\u043d \\u0440\\u0430\\u0431\\u043e\\u0442\\u044b. \\n\\n\\ud83d\\uddd3 \\u0417\\u0430\\u0432\\u0435\\u0440\\u0448\\u0435\\u043d \\u043f\\u0440\\u0438\\u0451\\u043c \\u0434\\u043e\\u043a\\u0443\\u043c\\u0435\\u043d\\u0442\\u043e\\u0432 \\u043d\\u0430 \\u043f\\u0440\\u0430\\u0439\\u043c\\u0435\\u0440\\u0438\\u0437 \\\"\\u0415\\u0434\\u0438\\u043d\\u043e\\u0439 \\u0420\\u043e\\u0441\\u0441\\u0438\\u0438\\\". \\u0412 \\u0410\\u043d\\u0430\\u0434\\u044b\\u0440\\u0435 \\u043f\\u043e\\u0441\\u0442\\u0443\\u043f\\u0438\\u043b\\u043e 103 \\u0437\\u0430\\u044f\\u0432\\u043b\\u0435\\u043d\\u0438\\u044f - 9 \\u043d\\u0430 \\u043c\\u044d\\u0440\\u0430 \\u0438 94 \\u043d\\u0430 \\u0434\\u0435\\u043f\\u0443\\u0442\\u0430\\u0442\\u043e\\u0432 \\u0433\\u043e\\u0440\\u0441\\u043e\\u0432\\u0435\\u0442\\u0430. \\u0412 \\u0434\\u0440\\u0443\\u0433\\u0438\\u0445 \\u043c\\u0443\\u043d\\u0438\\u0446\\u0438\\u043f\\u0430\\u043b\\u0438\\u0442\\u0435\\u0442\\u0430\\u0445 \\u043d\\u0430 \\u0441\\u0435\\u043c\\u044c \\u0432\\u044b\\u0431\\u043e\\u0440\\u043e\\u0432 \\u0440\\u0430\\u0437\\u043b\\u0438\\u0447\\u043d\\u043e\\u0433\\u043e \\u0443\\u0440\\u043e\\u0432\\u043d\\u044f \\u043f\\u043e\\u0441\\u0442\\u0443\\u043f\\u0438\\u043b\\u043e 49 \\u0437\\u0430\\u044f\\u0432\\u043e\\u043a. \\n\\n\\ud83d\\udccd\\u041d\\u0430 \\u0427\\u0443\\u043a\\u043e\\u0442\\u043a\\u0435 \\u043f\\u043e\\u044f\\u0432\\u0438\\u043b\\u043e\\u0441\\u044c \\u043e\\u0442\\u0434\\u0435\\u043b\\u0435\\u043d\\u0438\\u0435 \\u0441\\u043e\\u0434\\u0440\\u0443\\u0436\\u0435\\u0441\\u0442\\u0432\\u0430 \\u0432\\u044b\\u043f\\u0443\\u0441\\u043a\\u043d\\u0438\\u043a\\u043e\\u0432 \\u0434\\u0435\\u0442\\u0441\\u043a\\u0438\\u0445 \\u0434\\u043e\\u043c\\u043e\\u0432. \\u0412\\u043e\\u0448\\u043b\\u0438 \\u0432 \\u043e\\u0440\\u0433\\u0430\\u043d\\u0438\\u0437\\u0430\\u0446\\u0438\\u044e 15 \\u0447\\u0435\\u043b\\u043e\\u0432\\u0435\\u043a, \\u0438\\u0437 \\u043d\\u0438\\u0445 10 - \\u0432\\u044b\\u043f\\u0443\\u0441\\u043a\\u043d\\u0438\\u043a\\u0438 \\u0427\\u0443\\u043a\\u043e\\u0442\\u0441\\u043a\\u043e\\u0433\\u043e \\u0441\\u043e\\u0446\\u0438\\u0430\\u043b\\u044c\\u043d\\u043e-\\u0440\\u0435\\u0430\\u0431\\u0438\\u043b\\u0438\\u0442\\u0430\\u0446\\u0438\\u043e\\u043d\\u043d\\u043e\\u0433\\u043e \\u0446\\u0435\\u043d\\u0442\\u0440\\u0430 \\u0434\\u043b\\u044f \\u043d\\u0435\\u0441\\u043e\\u0432\\u0435\\u0440\\u0448\\u0435\\u043d\\u043d\\u043e\\u043b\\u0435\\u0442\\u043d\\u0438\\u0445. \\u0412\\u043e\\u0437\\u0433\\u043b\\u0430\\u0432\\u0438\\u043b\\u0430 \\u0435\\u0451 \\u041d\\u0430\\u0442\\u0430\\u043b\\u044c\\u044f \\u0420\\u0430\\u0433\\u0442\\u0443\\u0432\\u044c\\u0435. \\u0427\\u043b\\u0435\\u043d\\u044b \\u0421\\u043e\\u0434\\u0440\\u0443\\u0436\\u0435\\u0441\\u0442\\u0432\\u0430 \\u0431\\u0443\\u0434\\u0443\\u0442 \\u043e\\u0440\\u0433\\u0430\\u043d\\u0438\\u0437\\u043e\\u0432\\u044b\\u0432\\u0430\\u0442\\u044c \\u0442\\u0435\\u043c\\u0430\\u0442\\u0438\\u0447\\u0435\\u0441\\u043a\\u0438\\u0435 \\u043c\\u0435\\u0440\\u043e\\u043f\\u0440\\u0438\\u044f\\u0442\\u0438\\u044f, \\u043f\\u0440\\u043e\\u0432\\u043e\\u0434\\u0438\\u0442\\u044c \\u0432\\u044b\\u0435\\u0437\\u0434\\u044b \\u0438 \\u043a\\u043e\\u043d\\u0441\\u0443\\u043b\\u044c\\u0442\\u0430\\u0446\\u0438\\u0438. \\n\\n\\ud83d\\udce6 \\u0414\\u043e\\u0441\\u0442\\u0430\\u0432\\u043b\\u044f\\u0442\\u044c \\u043f\\u0440\\u043e\\u0434\\u0443\\u043a\\u0442\\u044b \\u043d\\u0430 \\u0434\\u043e\\u043c \\u043d\\u0430\\u0447\\u0430\\u043b\\u0430 \\u0411\\u0438\\u043b\\u0438\\u0431\\u0438\\u043d\\u0441\\u043a\\u0430\\u044f \\u0442\\u043e\\u0440\\u0433\\u043e\\u0432\\u0430\\u044f \\u043a\\u043e\\u043c\\u043f\\u0430\\u043d\\u0438\\u044f. \\u0410\\u043a\\u0446\\u0438\\u044f \\u0440\\u0430\\u0431\\u043e\\u0442\\u0430\\u0435\\u0442 \\u043d\\u0430 \\u0441\\u043e\\u0446\\u0438\\u0430\\u043b\\u044c\\u043d\\u043e \\u0437\\u043d\\u0430\\u0447\\u0438\\u043c\\u044b\\u0435 \\u0442\\u043e\\u0432\\u0430\\u0440\\u044b \\u0438 \\u043f\\u0440\\u043e\\u0434\\u0443\\u043a\\u0442\\u044b \\u0441\\u043e\\u0431\\u0441\\u0442\\u0432\\u0435\\u043d\\u043d\\u043e\\u0433\\u043e \\u043f\\u0440\\u043e\\u0438\\u0437\\u0432\\u043e\\u0434\\u0441\\u0442\\u0432\\u0430, \\u0434\\u043e\\u0441\\u0442\\u0430\\u0432\\u043a\\u0430 \\u0432\\u043e\\u0437\\u043c\\u043e\\u0436\\u043d\\u0430 \\u0432 \\u043f\\u0440\\u0435\\u0434\\u0435\\u043b\\u0430\\u0445 \\u0411\\u0438\\u043b\\u0438\\u0431\\u0438\\u043d\\u043e. \\u0417\\u0430\\u043a\\u0430\\u0437\\u044b \\u043f\\u0440\\u0438\\u043d\\u0438\\u043c\\u0430\\u044e\\u0442 \\u043f\\u043e \\u043d\\u043e\\u043c\\u0435\\u0440\\u0443 2-33-60. \\n\\n\\ud83e\\udd4a \\u042e\\u043d\\u044b\\u0439 \\u0431\\u043e\\u043a\\u0441\\u0435\\u0440 \\u0427\\u0443\\u043a\\u043e\\u0442\\u043a\\u0438 \\u0432\\u0437\\u044f\\u043b \\u0437\\u043e\\u043b\\u043e\\u0442\\u043e \\u043d\\u0430 \\u041c\\u0435\\u0436\\u0434\\u0443\\u043d\\u0430\\u0440\\u043e\\u0434\\u043d\\u043e\\u043c \\u0442\\u0443\\u0440\\u043d\\u0438\\u0440\\u0435. \\u0421\\u043e\\u0440\\u0435\\u0432\\u043d\\u043e\\u0432\\u0430\\u043d\\u0438\\u044f \\u043f\\u0440\\u043e\\u0448\\u043b\\u0438 \\u0432 \\u0410\\u0431\\u0445\\u0430\\u0437\\u0438\\u0438. \\u0412 \\u043d\\u0438\\u0445 \\u0443\\u0447\\u0430\\u0441\\u0442\\u0432\\u043e\\u0432\\u0430\\u043b\\u0438 200 \\u0441\\u043f\\u043e\\u0440\\u0442\\u0441\\u043c\\u0435\\u043d\\u043e\\u0432 \\u0438\\u0437 \\u0410\\u0431\\u0445\\u0430\\u0437\\u0438\\u0438, \\u0410\\u0440\\u043c\\u0435\\u043d\\u0438\\u0438, \\u041a\\u0430\\u0437\\u0430\\u0445\\u0441\\u0442\\u0430\\u043d\\u0430 \\u0438 \\u0420\\u043e\\u0441\\u0441\\u0438\\u0438. \\u041d\\u0430\\u0448 \\u0440\\u0435\\u0433\\u0438\\u043e\\u043d \\u043f\\u0440\\u0435\\u0434\\u0441\\u0442\\u0430\\u0432\\u043b\\u044f\\u043b \\u0432\\u043e\\u0441\\u043f\\u0438\\u0442\\u0430\\u043d\\u043d\\u0438\\u043a \\u041e\\u0414\\u042e\\u0421\\u0428 \\u0414\\u0430\\u043d\\u0438\\u0438\\u043b \\u0410\\u043d\\u044c\\u0435. \\u0412 \\u043f\\u0435\\u0440\\u0432\\u043e\\u043c \\u0431\\u043e\\u044e \\u0430\\u043d\\u0430\\u0434\\u044b\\u0440\\u0441\\u043a\\u0438\\u0439 \\u0441\\u043f\\u043e\\u0440\\u0442\\u0441\\u043c\\u0435\\u043d \\u0432\\u044b\\u0438\\u0433\\u0440\\u0430\\u043b \\u0443 \\u0445\\u043e\\u0437\\u044f\\u0438\\u043d\\u0430 \\u0440\\u0438\\u043d\\u0433\\u0430, \\u0432 \\u043f\\u043e\\u043b\\u0443\\u0444\\u0438\\u043d\\u0430\\u043b\\u0435 - \\u0443 \\u0431\\u043e\\u043a\\u0441\\u0435\\u0440\\u0430 \\u0438\\u0437 \\u0414\\u041d\\u0420, \\u0430 \\u0437\\u0430 \\u0437\\u043e\\u043b\\u043e\\u0442\\u043e \\u0431\\u0438\\u043b\\u0441\\u044f \\u0441 \\u043f\\u0440\\u0435\\u0434\\u0441\\u0442\\u0430\\u0432\\u0438\\u0442\\u0435\\u043b\\u0435\\u043c \\u041a\\u0430\\u0440\\u0430\\u0447\\u0430\\u0435\\u0432\\u043e-\\u0427\\u0435\\u0440\\u043a\\u0435\\u0441\\u0441\\u0438\\u0438.\\n\\n\\u041f\\u043e\\u0434\\u043f\\u0438\\u0441\\u044b\\u0432\\u0430\\u0439\\u0442\\u0435\\u0441\\u044c \\u043d\\u0430 \\u0420\\u0430\\u0434\\u0438\\u043e \\\"\\u041f\\u0443\\u0440\\u0433\\u0430\\\"\",\n          \"\\ud83c\\udfa6\\u0412 \\u044d\\u0444\\u0438\\u0440\\u0435 \\u043f\\u043e\\u0434\\u0432\\u0435\\u043b\\u0438 \\u0438\\u0442\\u043e\\u0433\\u0438 VIII \\u0410\\u0440\\u043a\\u0442\\u0438\\u0447\\u0435\\u0441\\u043a\\u043e\\u0433\\u043e \\u043c\\u0435\\u0436\\u0434\\u0443\\u043d\\u0430\\u0440\\u043e\\u0434\\u043d\\u043e\\u0433\\u043e \\u043a\\u0438\\u043d\\u043e\\u0444\\u0435\\u0441\\u0442\\u0438\\u0432\\u0430\\u043b\\u044f \\\"\\u0417\\u043e\\u043b\\u043e\\u0442\\u043e\\u0439 \\u0432\\u043e\\u0440\\u043e\\u043d\\\" \\u0432\\u043c\\u0435\\u0441\\u0442\\u0435 \\u0441 \\u0445\\u0443\\u0434\\u043e\\u0436\\u0435\\u0441\\u0442\\u0432\\u0435\\u043d\\u043d\\u044b\\u043c \\u0440\\u0443\\u043a\\u043e\\u0432\\u043e\\u0434\\u0438\\u0442\\u0435\\u043b\\u0435\\u043c \\u0424\\u0438\\u043b\\u0438\\u043f\\u043f\\u043e\\u043c \\u0410\\u0431\\u0440\\u044e\\u0442\\u0438\\u043d\\u044b\\u043c.\\n\\n\\ud83c\\udf05\\u0410 \\u0442\\u0430\\u043a\\u0436\\u0435 \\u043f\\u043e\\u0433\\u043e\\u0432\\u043e\\u0440\\u0438\\u043b\\u0438 \\u0441 \\u0415\\u0433\\u043e\\u0440\\u043e\\u043c \\u0422\\u044b\\u043d\\u0430\\u0440\\u0430\\u043b\\u0438, \\u0431\\u0430\\u043b\\u0435\\u0442\\u043c\\u0435\\u0439\\u0441\\u0442\\u0435\\u0440\\u043e\\u043c \\u0438 \\u0440\\u0435\\u0436\\u0438\\u0441\\u0441\\u0435\\u0440\\u043e\\u043c \\u0431\\u043e\\u043b\\u044c\\u0448\\u043e\\u0433\\u043e \\u0434\\u043e\\u043a\\u0443\\u043c\\u0435\\u043d\\u0442\\u0430\\u043b\\u044c\\u043d\\u043e\\u0433\\u043e \\u0444\\u0438\\u043b\\u044c\\u043c\\u0430 \\\"\\u0414\\u043e\\u0440\\u043e\\u0433\\u0430\\u043c\\u0438 \\u0440\\u0430\\u0441\\u0441\\u0432\\u0435\\u0442\\u0430\\\", \\u0440\\u0430\\u0441\\u0441\\u043a\\u0430\\u0437\\u044b\\u0432\\u0430\\u044e\\u0449\\u0435\\u0433\\u043e \\u043e \\u0437\\u0430\\u043a\\u0443\\u043b\\u0438\\u0441\\u044c\\u0435 \\u0413\\u043e\\u0441\\u0443\\u0434\\u0430\\u0440\\u0441\\u0442\\u0432\\u0435\\u043d\\u043d\\u043e\\u0433\\u043e \\u0430\\u043a\\u0430\\u0434\\u0435\\u043c\\u0438\\u0447\\u0435\\u0441\\u043a\\u043e\\u0433\\u043e \\u0447\\u0443\\u043a\\u043e\\u0442\\u0441\\u043a\\u043e-\\u044d\\u0441\\u043a\\u0438\\u043c\\u043e\\u0441\\u0441\\u043a\\u043e\\u0433\\u043e \\u0430\\u043d\\u0441\\u0430\\u043c\\u0431\\u043b\\u044f \\\"\\u042d\\u0440\\u0433\\u044b\\u0440\\u043e\\u043d\\\".\\n\\n\\ud83d\\udcbb\\u0412\\u0438\\u0434\\u0435\\u043e\\u043f\\u043e\\u0432\\u0442\\u043e\\u0440 \\u044d\\u0444\\u0438\\u0440\\u0430 \\u0432\\u044b \\u0432\\u0441\\u0435\\u0433\\u0434\\u0430 \\u043c\\u043e\\u0436\\u0435\\u0442\\u0435 \\u043f\\u043e\\u0441\\u043c\\u043e\\u0442\\u0440\\u0435\\u0442\\u044c \\u0432 \\u043d\\u0430\\u0448\\u0435\\u043c \\u0441\\u043e\\u043e\\u0431\\u0449\\u0435\\u0441\\u0442\\u0432\\u0435 \\u0432 VK \\u0438\\u043b\\u0438 \\u043f\\u043e\\u0441\\u043b\\u0443\\u0448\\u0430\\u0442\\u044c \\u0430\\u0443\\u0434\\u0438\\u043e\\u0432\\u0435\\u0440\\u0441\\u0438\\u044e \\u0432 \\u042f\\u043d\\u0434\\u0435\\u043a\\u0441.\\u041c\\u0443\\u0437\\u044b\\u043a\\u0435.\"\n        ],\n        \"semantic_type\": \"\",\n        \"description\": \"\"\n      }\n    },\n    {\n      \"column\": \"views\",\n      \"properties\": {\n        \"dtype\": \"number\",\n        \"std\": 283,\n        \"min\": 379,\n        \"max\": 2456,\n        \"num_unique_values\": 94,\n        \"samples\": [\n          758,\n          630,\n          923\n        ],\n        \"semantic_type\": \"\",\n        \"description\": \"\"\n      }\n    },\n    {\n      \"column\": \"forwards\",\n      \"properties\": {\n        \"dtype\": \"number\",\n        \"std\": 2,\n        \"min\": 0,\n        \"max\": 10,\n        \"num_unique_values\": 11,\n        \"samples\": [\n          0,\n          5,\n          10\n        ],\n        \"semantic_type\": \"\",\n        \"description\": \"\"\n      }\n    },\n    {\n      \"column\": \"replies\",\n      \"properties\": {\n        \"dtype\": \"number\",\n        \"std\": 3.027487378101089,\n        \"min\": 0.0,\n        \"max\": 17.0,\n        \"num_unique_values\": 12,\n        \"samples\": [\n          11.0,\n          10.0,\n          2.0\n        ],\n        \"semantic_type\": \"\",\n        \"description\": \"\"\n      }\n    }\n  ]\n}"
            }
          },
          "metadata": {},
          "execution_count": 199
        }
      ]
    },
    {
      "cell_type": "code",
      "source": [
        "mess.describe()"
      ],
      "metadata": {
        "colab": {
          "base_uri": "https://localhost:8080/",
          "height": 300
        },
        "id": "Xt1T0iwMZBUU",
        "outputId": "5b5505ce-e24f-46c1-9086-8a7ef737b067"
      },
      "execution_count": null,
      "outputs": [
        {
          "output_type": "execute_result",
          "data": {
            "text/plain": [
              "                id        views    forwards    replies\n",
              "count   100.000000   100.000000  100.000000  96.000000\n",
              "mean   2974.990000   812.210000    2.400000   1.385417\n",
              "std      29.447606   283.989411    2.141462   3.027487\n",
              "min    2925.000000   379.000000    0.000000   0.000000\n",
              "25%    2949.750000   689.750000    1.000000   0.000000\n",
              "50%    2974.500000   772.000000    2.000000   0.000000\n",
              "75%    3000.250000   850.000000    3.000000   1.000000\n",
              "max    3025.000000  2456.000000   10.000000  17.000000"
            ],
            "text/html": [
              "\n",
              "  <div id=\"df-03e10753-a6c9-48a7-b742-04b2be36a15f\" class=\"colab-df-container\">\n",
              "    <div>\n",
              "<style scoped>\n",
              "    .dataframe tbody tr th:only-of-type {\n",
              "        vertical-align: middle;\n",
              "    }\n",
              "\n",
              "    .dataframe tbody tr th {\n",
              "        vertical-align: top;\n",
              "    }\n",
              "\n",
              "    .dataframe thead th {\n",
              "        text-align: right;\n",
              "    }\n",
              "</style>\n",
              "<table border=\"1\" class=\"dataframe\">\n",
              "  <thead>\n",
              "    <tr style=\"text-align: right;\">\n",
              "      <th></th>\n",
              "      <th>id</th>\n",
              "      <th>views</th>\n",
              "      <th>forwards</th>\n",
              "      <th>replies</th>\n",
              "    </tr>\n",
              "  </thead>\n",
              "  <tbody>\n",
              "    <tr>\n",
              "      <th>count</th>\n",
              "      <td>100.000000</td>\n",
              "      <td>100.000000</td>\n",
              "      <td>100.000000</td>\n",
              "      <td>96.000000</td>\n",
              "    </tr>\n",
              "    <tr>\n",
              "      <th>mean</th>\n",
              "      <td>2974.990000</td>\n",
              "      <td>812.210000</td>\n",
              "      <td>2.400000</td>\n",
              "      <td>1.385417</td>\n",
              "    </tr>\n",
              "    <tr>\n",
              "      <th>std</th>\n",
              "      <td>29.447606</td>\n",
              "      <td>283.989411</td>\n",
              "      <td>2.141462</td>\n",
              "      <td>3.027487</td>\n",
              "    </tr>\n",
              "    <tr>\n",
              "      <th>min</th>\n",
              "      <td>2925.000000</td>\n",
              "      <td>379.000000</td>\n",
              "      <td>0.000000</td>\n",
              "      <td>0.000000</td>\n",
              "    </tr>\n",
              "    <tr>\n",
              "      <th>25%</th>\n",
              "      <td>2949.750000</td>\n",
              "      <td>689.750000</td>\n",
              "      <td>1.000000</td>\n",
              "      <td>0.000000</td>\n",
              "    </tr>\n",
              "    <tr>\n",
              "      <th>50%</th>\n",
              "      <td>2974.500000</td>\n",
              "      <td>772.000000</td>\n",
              "      <td>2.000000</td>\n",
              "      <td>0.000000</td>\n",
              "    </tr>\n",
              "    <tr>\n",
              "      <th>75%</th>\n",
              "      <td>3000.250000</td>\n",
              "      <td>850.000000</td>\n",
              "      <td>3.000000</td>\n",
              "      <td>1.000000</td>\n",
              "    </tr>\n",
              "    <tr>\n",
              "      <th>max</th>\n",
              "      <td>3025.000000</td>\n",
              "      <td>2456.000000</td>\n",
              "      <td>10.000000</td>\n",
              "      <td>17.000000</td>\n",
              "    </tr>\n",
              "  </tbody>\n",
              "</table>\n",
              "</div>\n",
              "    <div class=\"colab-df-buttons\">\n",
              "\n",
              "  <div class=\"colab-df-container\">\n",
              "    <button class=\"colab-df-convert\" onclick=\"convertToInteractive('df-03e10753-a6c9-48a7-b742-04b2be36a15f')\"\n",
              "            title=\"Convert this dataframe to an interactive table.\"\n",
              "            style=\"display:none;\">\n",
              "\n",
              "  <svg xmlns=\"http://www.w3.org/2000/svg\" height=\"24px\" viewBox=\"0 -960 960 960\">\n",
              "    <path d=\"M120-120v-720h720v720H120Zm60-500h600v-160H180v160Zm220 220h160v-160H400v160Zm0 220h160v-160H400v160ZM180-400h160v-160H180v160Zm440 0h160v-160H620v160ZM180-180h160v-160H180v160Zm440 0h160v-160H620v160Z\"/>\n",
              "  </svg>\n",
              "    </button>\n",
              "\n",
              "  <style>\n",
              "    .colab-df-container {\n",
              "      display:flex;\n",
              "      gap: 12px;\n",
              "    }\n",
              "\n",
              "    .colab-df-convert {\n",
              "      background-color: #E8F0FE;\n",
              "      border: none;\n",
              "      border-radius: 50%;\n",
              "      cursor: pointer;\n",
              "      display: none;\n",
              "      fill: #1967D2;\n",
              "      height: 32px;\n",
              "      padding: 0 0 0 0;\n",
              "      width: 32px;\n",
              "    }\n",
              "\n",
              "    .colab-df-convert:hover {\n",
              "      background-color: #E2EBFA;\n",
              "      box-shadow: 0px 1px 2px rgba(60, 64, 67, 0.3), 0px 1px 3px 1px rgba(60, 64, 67, 0.15);\n",
              "      fill: #174EA6;\n",
              "    }\n",
              "\n",
              "    .colab-df-buttons div {\n",
              "      margin-bottom: 4px;\n",
              "    }\n",
              "\n",
              "    [theme=dark] .colab-df-convert {\n",
              "      background-color: #3B4455;\n",
              "      fill: #D2E3FC;\n",
              "    }\n",
              "\n",
              "    [theme=dark] .colab-df-convert:hover {\n",
              "      background-color: #434B5C;\n",
              "      box-shadow: 0px 1px 3px 1px rgba(0, 0, 0, 0.15);\n",
              "      filter: drop-shadow(0px 1px 2px rgba(0, 0, 0, 0.3));\n",
              "      fill: #FFFFFF;\n",
              "    }\n",
              "  </style>\n",
              "\n",
              "    <script>\n",
              "      const buttonEl =\n",
              "        document.querySelector('#df-03e10753-a6c9-48a7-b742-04b2be36a15f button.colab-df-convert');\n",
              "      buttonEl.style.display =\n",
              "        google.colab.kernel.accessAllowed ? 'block' : 'none';\n",
              "\n",
              "      async function convertToInteractive(key) {\n",
              "        const element = document.querySelector('#df-03e10753-a6c9-48a7-b742-04b2be36a15f');\n",
              "        const dataTable =\n",
              "          await google.colab.kernel.invokeFunction('convertToInteractive',\n",
              "                                                    [key], {});\n",
              "        if (!dataTable) return;\n",
              "\n",
              "        const docLinkHtml = 'Like what you see? Visit the ' +\n",
              "          '<a target=\"_blank\" href=https://colab.research.google.com/notebooks/data_table.ipynb>data table notebook</a>'\n",
              "          + ' to learn more about interactive tables.';\n",
              "        element.innerHTML = '';\n",
              "        dataTable['output_type'] = 'display_data';\n",
              "        await google.colab.output.renderOutput(dataTable, element);\n",
              "        const docLink = document.createElement('div');\n",
              "        docLink.innerHTML = docLinkHtml;\n",
              "        element.appendChild(docLink);\n",
              "      }\n",
              "    </script>\n",
              "  </div>\n",
              "\n",
              "\n",
              "<div id=\"df-57e735c1-2daa-494c-a50d-127d4fceb8a9\">\n",
              "  <button class=\"colab-df-quickchart\" onclick=\"quickchart('df-57e735c1-2daa-494c-a50d-127d4fceb8a9')\"\n",
              "            title=\"Suggest charts\"\n",
              "            style=\"display:none;\">\n",
              "\n",
              "<svg xmlns=\"http://www.w3.org/2000/svg\" height=\"24px\"viewBox=\"0 0 24 24\"\n",
              "     width=\"24px\">\n",
              "    <g>\n",
              "        <path d=\"M19 3H5c-1.1 0-2 .9-2 2v14c0 1.1.9 2 2 2h14c1.1 0 2-.9 2-2V5c0-1.1-.9-2-2-2zM9 17H7v-7h2v7zm4 0h-2V7h2v10zm4 0h-2v-4h2v4z\"/>\n",
              "    </g>\n",
              "</svg>\n",
              "  </button>\n",
              "\n",
              "<style>\n",
              "  .colab-df-quickchart {\n",
              "      --bg-color: #E8F0FE;\n",
              "      --fill-color: #1967D2;\n",
              "      --hover-bg-color: #E2EBFA;\n",
              "      --hover-fill-color: #174EA6;\n",
              "      --disabled-fill-color: #AAA;\n",
              "      --disabled-bg-color: #DDD;\n",
              "  }\n",
              "\n",
              "  [theme=dark] .colab-df-quickchart {\n",
              "      --bg-color: #3B4455;\n",
              "      --fill-color: #D2E3FC;\n",
              "      --hover-bg-color: #434B5C;\n",
              "      --hover-fill-color: #FFFFFF;\n",
              "      --disabled-bg-color: #3B4455;\n",
              "      --disabled-fill-color: #666;\n",
              "  }\n",
              "\n",
              "  .colab-df-quickchart {\n",
              "    background-color: var(--bg-color);\n",
              "    border: none;\n",
              "    border-radius: 50%;\n",
              "    cursor: pointer;\n",
              "    display: none;\n",
              "    fill: var(--fill-color);\n",
              "    height: 32px;\n",
              "    padding: 0;\n",
              "    width: 32px;\n",
              "  }\n",
              "\n",
              "  .colab-df-quickchart:hover {\n",
              "    background-color: var(--hover-bg-color);\n",
              "    box-shadow: 0 1px 2px rgba(60, 64, 67, 0.3), 0 1px 3px 1px rgba(60, 64, 67, 0.15);\n",
              "    fill: var(--button-hover-fill-color);\n",
              "  }\n",
              "\n",
              "  .colab-df-quickchart-complete:disabled,\n",
              "  .colab-df-quickchart-complete:disabled:hover {\n",
              "    background-color: var(--disabled-bg-color);\n",
              "    fill: var(--disabled-fill-color);\n",
              "    box-shadow: none;\n",
              "  }\n",
              "\n",
              "  .colab-df-spinner {\n",
              "    border: 2px solid var(--fill-color);\n",
              "    border-color: transparent;\n",
              "    border-bottom-color: var(--fill-color);\n",
              "    animation:\n",
              "      spin 1s steps(1) infinite;\n",
              "  }\n",
              "\n",
              "  @keyframes spin {\n",
              "    0% {\n",
              "      border-color: transparent;\n",
              "      border-bottom-color: var(--fill-color);\n",
              "      border-left-color: var(--fill-color);\n",
              "    }\n",
              "    20% {\n",
              "      border-color: transparent;\n",
              "      border-left-color: var(--fill-color);\n",
              "      border-top-color: var(--fill-color);\n",
              "    }\n",
              "    30% {\n",
              "      border-color: transparent;\n",
              "      border-left-color: var(--fill-color);\n",
              "      border-top-color: var(--fill-color);\n",
              "      border-right-color: var(--fill-color);\n",
              "    }\n",
              "    40% {\n",
              "      border-color: transparent;\n",
              "      border-right-color: var(--fill-color);\n",
              "      border-top-color: var(--fill-color);\n",
              "    }\n",
              "    60% {\n",
              "      border-color: transparent;\n",
              "      border-right-color: var(--fill-color);\n",
              "    }\n",
              "    80% {\n",
              "      border-color: transparent;\n",
              "      border-right-color: var(--fill-color);\n",
              "      border-bottom-color: var(--fill-color);\n",
              "    }\n",
              "    90% {\n",
              "      border-color: transparent;\n",
              "      border-bottom-color: var(--fill-color);\n",
              "    }\n",
              "  }\n",
              "</style>\n",
              "\n",
              "  <script>\n",
              "    async function quickchart(key) {\n",
              "      const quickchartButtonEl =\n",
              "        document.querySelector('#' + key + ' button');\n",
              "      quickchartButtonEl.disabled = true;  // To prevent multiple clicks.\n",
              "      quickchartButtonEl.classList.add('colab-df-spinner');\n",
              "      try {\n",
              "        const charts = await google.colab.kernel.invokeFunction(\n",
              "            'suggestCharts', [key], {});\n",
              "      } catch (error) {\n",
              "        console.error('Error during call to suggestCharts:', error);\n",
              "      }\n",
              "      quickchartButtonEl.classList.remove('colab-df-spinner');\n",
              "      quickchartButtonEl.classList.add('colab-df-quickchart-complete');\n",
              "    }\n",
              "    (() => {\n",
              "      let quickchartButtonEl =\n",
              "        document.querySelector('#df-57e735c1-2daa-494c-a50d-127d4fceb8a9 button');\n",
              "      quickchartButtonEl.style.display =\n",
              "        google.colab.kernel.accessAllowed ? 'block' : 'none';\n",
              "    })();\n",
              "  </script>\n",
              "</div>\n",
              "    </div>\n",
              "  </div>\n"
            ],
            "application/vnd.google.colaboratory.intrinsic+json": {
              "type": "dataframe",
              "summary": "{\n  \"name\": \"mess\",\n  \"rows\": 8,\n  \"fields\": [\n    {\n      \"column\": \"id\",\n      \"properties\": {\n        \"dtype\": \"number\",\n        \"std\": 1347.6213624296593,\n        \"min\": 29.44760627201327,\n        \"max\": 3025.0,\n        \"num_unique_values\": 8,\n        \"samples\": [\n          2974.99,\n          2974.5,\n          100.0\n        ],\n        \"semantic_type\": \"\",\n        \"description\": \"\"\n      }\n    },\n    {\n      \"column\": \"views\",\n      \"properties\": {\n        \"dtype\": \"number\",\n        \"std\": 726.1468985575423,\n        \"min\": 100.0,\n        \"max\": 2456.0,\n        \"num_unique_values\": 8,\n        \"samples\": [\n          812.21,\n          772.0,\n          100.0\n        ],\n        \"semantic_type\": \"\",\n        \"description\": \"\"\n      }\n    },\n    {\n      \"column\": \"forwards\",\n      \"properties\": {\n        \"dtype\": \"number\",\n        \"std\": 34.45092857417996,\n        \"min\": 0.0,\n        \"max\": 100.0,\n        \"num_unique_values\": 8,\n        \"samples\": [\n          2.4,\n          2.0,\n          100.0\n        ],\n        \"semantic_type\": \"\",\n        \"description\": \"\"\n      }\n    },\n    {\n      \"column\": \"replies\",\n      \"properties\": {\n        \"dtype\": \"number\",\n        \"std\": 33.30461803805553,\n        \"min\": 0.0,\n        \"max\": 96.0,\n        \"num_unique_values\": 6,\n        \"samples\": [\n          96.0,\n          1.3854166666666667,\n          17.0\n        ],\n        \"semantic_type\": \"\",\n        \"description\": \"\"\n      }\n    }\n  ]\n}"
            }
          },
          "metadata": {},
          "execution_count": 205
        }
      ]
    },
    {
      "cell_type": "code",
      "source": [
        "mess.plot.scatter('views', 'forwards')"
      ],
      "metadata": {
        "colab": {
          "base_uri": "https://localhost:8080/",
          "height": 466
        },
        "id": "hvOeqjFzYdMh",
        "outputId": "ca7ff96d-cf93-4ee7-bb5c-e32d74b95541"
      },
      "execution_count": null,
      "outputs": [
        {
          "output_type": "execute_result",
          "data": {
            "text/plain": [
              "<Axes: xlabel='views', ylabel='forwards'>"
            ]
          },
          "metadata": {},
          "execution_count": 204
        },
        {
          "output_type": "display_data",
          "data": {
            "text/plain": [
              "<Figure size 640x480 with 1 Axes>"
            ],
            "image/png": "[encoded data removed]"
          },
          "metadata": {}
        }
      ]
    },
    {
      "cell_type": "code",
      "source": [
        "mess[mess['views'] == mess['views'].max()]['text']"
      ],
      "metadata": {
        "colab": {
          "base_uri": "https://localhost:8080/"
        },
        "id": "MhZa2hmxZKDU",
        "outputId": "53e9b484-cceb-4548-bda8-c45363f6f0d7"
      },
      "execution_count": null,
      "outputs": [
        {
          "output_type": "execute_result",
          "data": {
            "text/plain": [
              "79    🎦В рамках VIII Арктического международного кин...\n",
              "Name: text, dtype: object"
            ]
          },
          "metadata": {},
          "execution_count": 213
        }
      ]
    },
    {
      "cell_type": "code",
      "source": [
        "mess['text'][79]"
      ],
      "metadata": {
        "colab": {
          "base_uri": "https://localhost:8080/",
          "height": 174
        },
        "id": "btf9Umi7ZtVs",
        "outputId": "4b3fffe3-8666-4e0e-8a76-79f52c3f3823"
      },
      "execution_count": null,
      "outputs": [
        {
          "output_type": "execute_result",
          "data": {
            "text/plain": [
              "'🎦В рамках VIII Арктического международного кинофестиваля «Золотой ворон» 27 и 28 апреля состоятся показы спектакля «Евгений Онегин» Московского театра комедии.\\n\\n📻А через несколько минут в нашем эфире появятся люди, к этому причастные:\\n\\n🎭Актёры театра и кино МАКАР ЗАПОРОЖСКИЙ и СЕРГЕЙ ПИОРО,\\nа также художественный руководитель, директор и актёр Московского театра Комедии СЕРГЕЙ ЕФРЕМОВ.\\n\\nСегодня, 26 апреля, с 15 до 16 гости расскажут нам о спектакле, театре, кино и многом другом.\\n\\n📻Присоединяйтесь к эфиру и задавайте вопросы в Telegram +7 (924) 789-22-22 или в комментариях под этим постом.'"
            ],
            "application/vnd.google.colaboratory.intrinsic+json": {
              "type": "string"
            }
          },
          "metadata": {},
          "execution_count": 214
        }
      ]
    }
  ],
  "metadata": {
    "colab": {
      "provenance": []
    },
    "kernelspec": {
      "display_name": "Python 3 (ipykernel)",
      "language": "python",
      "name": "python3"
    },
    "language_info": {
      "codemirror_mode": {
        "name": "ipython",
        "version": 3
      },
      "file_extension": ".py",
      "mimetype": "text/x-python",
      "name": "python",
      "nbconvert_exporter": "python",
      "pygments_lexer": "ipython3",
      "version": "3.12.0"
    }
  },
  "nbformat": 4,
  "nbformat_minor": 0
}